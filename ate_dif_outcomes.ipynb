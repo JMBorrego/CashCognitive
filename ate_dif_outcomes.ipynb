{
 "cells": [
  {
   "cell_type": "markdown",
   "id": "b41fbe89",
   "metadata": {},
   "source": [
    "Notebook imitant:\n",
    "    https://towardsdatascience.com/causal-machine-learning-for-econometrics-causal-forests-5ab3aec825a7"
   ]
  },
  {
   "cell_type": "code",
   "execution_count": 84,
   "id": "8b33a126",
   "metadata": {},
   "outputs": [],
   "source": [
    "import pandas as pd\n",
    "import matplotlib.pyplot as plt\n",
    "import numpy as np\n",
    "import sklearn "
   ]
  },
  {
   "cell_type": "code",
   "execution_count": 85,
   "id": "5c4ce38f",
   "metadata": {},
   "outputs": [],
   "source": [
    "#Read main data to DataFrame\n",
    "df = pd.read_stata('Cash_and_Childhood_Development_Replication/macoursetal_main.dta')  "
   ]
  },
  {
   "cell_type": "code",
   "execution_count": 86,
   "id": "ac4db177",
   "metadata": {},
   "outputs": [],
   "source": [
    "# \"hogarid_old\",\"cp_old\",\"unique_05\", \"cpmom_06\" seran usats com a index\n",
    "df_out=df[[\"a5sscore_i_06\",\"a6smemory_p1_06\",\"a6smemory_p2_06\",\"a7a_delay_06\",\"a7b_delay_06\",\n",
    "        \"a7c_delay_06\",\"a7d_delay_06\",\"a9sgrossmotor_06\",\"height_06\",\"weight_06\",\"z_tvip_06\",\"z_social_06\",\n",
    "        \"z_language_06\",\"z_finmotor_06\",\"z_memory_06\",\"z_grmotor_06\",\"z_legmotor_06\",\"z_behavior_06\",\"z_height_06\",\n",
    "        \"z_weight_06\",\"z_all_06\"]]\n"
   ]
  },
  {
   "cell_type": "code",
   "execution_count": 87,
   "id": "bac15faf",
   "metadata": {},
   "outputs": [
    {
     "data": {
      "text/plain": [
       "z_all_06            1185\n",
       "a7a_delay_06        1200\n",
       "z_social_06         1204\n",
       "a7b_delay_06        1220\n",
       "z_language_06       1224\n",
       "a7c_delay_06        1242\n",
       "z_finmotor_06       1246\n",
       "a7d_delay_06        1254\n",
       "z_grmotor_06        1258\n",
       "z_height_06         1429\n",
       "height_06           1429\n",
       "weight_06           1429\n",
       "z_weight_06         1429\n",
       "a9sgrossmotor_06    2656\n",
       "a6smemory_p1_06     2669\n",
       "z_legmotor_06       2673\n",
       "a5sscore_i_06       2679\n",
       "z_memory_06         2684\n",
       "z_tvip_06           2694\n",
       "z_behavior_06       2891\n",
       "a6smemory_p2_06     3141\n",
       "dtype: int64"
      ]
     },
     "execution_count": 87,
     "metadata": {},
     "output_type": "execute_result"
    }
   ],
   "source": [
    "df_out.isna().sum().sort_values()"
   ]
  },
  {
   "cell_type": "code",
   "execution_count": 88,
   "id": "eb81ff84",
   "metadata": {},
   "outputs": [],
   "source": [
    "#Ens quedem amb els que tenen <1300 nans\n",
    "\n",
    "df_out=df_out[df_out.isna().sum().sort_values()[0:9].index]"
   ]
  },
  {
   "cell_type": "markdown",
   "id": "8452d06e",
   "metadata": {},
   "source": [
    "# Income variables"
   ]
  },
  {
   "cell_type": "code",
   "execution_count": 89,
   "id": "9d1a3fcb",
   "metadata": {},
   "outputs": [],
   "source": [
    "df1_extended=df[[\"hogarid_old\",\"s1age_head_05\",\"s1hhsize_05\",\"s1hhsz_undr5_05\",\"s1hhsz_5_14_05\",\n",
    "        \"s1hhsz_15_24_05\",\"s1hhsz_25_64_05\",\"s1hhsz_65plus_05\",\"s1male_head_05\",\"s2mother_inhs_05\",\"s3ap5_rooms_h_05\",\n",
    "        \"s3ap23_stime_h_05\",\"s3ap24_htime_h_05\",\"s3ap25_hqtime_h_05\",\"s3atoilet_hh_05\",\"s3awater_access_hh_05\",\n",
    "        \"s3aelectric_hh_05\",\"s4p6_vitamina_i_05\",\"s4p7_parasite_i_05\",\"s11ownland_hh_05\",\"cons_food_pc_05\",\"cons_tot_pc_05\",\n",
    "        \"tvip_05\",\"height_05\",\"a10whz_05\",\"weight_05\",\"itt_i\",\"itt_all_i\",\"yrsedfath\",\"age_transfer\",\"bweight\",\n",
    "        \"s4p7_parasite_i_06\",\"T\",\"male\",\"TREAT1\",\"TREAT2\",\"TREAT3\",\"TREAT4\",\"ed_mom\",\"MUN1\",\"MUN2\",\"MUN3\",\"MUN4\",\n",
    "        \"MUN5\",\"MUN6\",\"com_haz_05\",\"com_waz_05\",\"com_tvip_05\",\"com_control_05\",\"com_vit_05\",\"com_deworm_05\",\"com_notvip\",\n",
    "        \"sample06\",\"vitamiron_06\",#\"weighted_05\",\n",
    "        \"propfood_05\",\"prstap_f_05\",\"pranimalprot_f_05\",\"prfruitveg_f_05\"]]"
   ]
  },
  {
   "cell_type": "code",
   "execution_count": 90,
   "id": "16fa80e6",
   "metadata": {},
   "outputs": [],
   "source": [
    "df1=df[[\"hogarid_old\",\"s1age_head_05\",\"s1hhsize_05\",\"s1hhsz_undr5_05\",\"s1hhsz_5_14_05\",\n",
    "        \"s1hhsz_15_24_05\",\"s1hhsz_25_64_05\",\"s1hhsz_65plus_05\",\"s1male_head_05\",\"s2mother_inhs_05\",\"s3ap5_rooms_h_05\",\n",
    "        \"s3ap23_stime_h_05\",\"s3ap24_htime_h_05\",\"s3ap25_hqtime_h_05\",\"s3atoilet_hh_05\",\"s3awater_access_hh_05\",\n",
    "        \"s3aelectric_hh_05\",\"s4p6_vitamina_i_05\",\"s4p7_parasite_i_05\",\"s11ownland_hh_05\",\"cons_food_pc_05\",\"cons_tot_pc_05\",\n",
    "        \"height_05\",\"a10whz_05\",\"weight_05\",\"yrsedfath\",\"age_transfer\",\"bweight\",\n",
    "        \"s4p7_parasite_i_06\",\"T\",\"male\",\"ed_mom\",\"MUN1\",\"MUN2\",\"MUN3\",\"MUN4\",\n",
    "        \"MUN5\",\"MUN6\",\"com_haz_05\",\"com_waz_05\",\"com_vit_05\",\"com_deworm_05\",\n",
    "        \"vitamiron_06\", \"propfood_05\",\"prstap_f_05\",\"pranimalprot_f_05\",\"prfruitveg_f_05\"]]"
   ]
  },
  {
   "cell_type": "code",
   "execution_count": 91,
   "id": "c88df450",
   "metadata": {},
   "outputs": [
    {
     "name": "stderr",
     "output_type": "stream",
     "text": [
      "C:\\Users\\Usuari\\AppData\\Local\\Temp\\ipykernel_15756\\3261090467.py:1: SettingWithCopyWarning: \n",
      "A value is trying to be set on a copy of a slice from a DataFrame\n",
      "\n",
      "See the caveats in the documentation: https://pandas.pydata.org/pandas-docs/stable/user_guide/indexing.html#returning-a-view-versus-a-copy\n",
      "  df1.rename(columns = {'T':'tr'}, inplace = True)\n",
      "C:\\Users\\Usuari\\AppData\\Local\\Temp\\ipykernel_15756\\3261090467.py:2: SettingWithCopyWarning: \n",
      "A value is trying to be set on a copy of a slice from a DataFrame\n",
      "\n",
      "See the caveats in the documentation: https://pandas.pydata.org/pandas-docs/stable/user_guide/indexing.html#returning-a-view-versus-a-copy\n",
      "  df1_extended.rename(columns = {'T':'tr'}, inplace = True)\n"
     ]
    }
   ],
   "source": [
    "df1.rename(columns = {'T':'tr'}, inplace = True)\n",
    "df1_extended.rename(columns = {'T':'tr'}, inplace = True)"
   ]
  },
  {
   "cell_type": "code",
   "execution_count": 92,
   "id": "d7179548",
   "metadata": {},
   "outputs": [],
   "source": [
    "#fem una copia del df\n",
    "def copy_df(df):\n",
    "   return df.copy()"
   ]
  },
  {
   "cell_type": "code",
   "execution_count": 93,
   "id": "03b51b6e",
   "metadata": {},
   "outputs": [],
   "source": [
    "#eliminem individus amb >delta*100% columnes buides\n",
    "def drop_ind_missing(df, delta):\n",
    "    thresh = len(df.columns)*delta\n",
    "    df.dropna(axis=0, thresh=thresh, inplace=True)\n",
    "    return df"
   ]
  },
  {
   "cell_type": "code",
   "execution_count": 94,
   "id": "e905b250",
   "metadata": {},
   "outputs": [],
   "source": [
    "#eliminem individus amb age transfer<age\n",
    "def drop_out_missing(df, age=-11):\n",
    "    nan_rows=df[df.age_transfer<age].index\n",
    "    df.drop(nan_rows, inplace=True)\n",
    "    return df"
   ]
  },
  {
   "cell_type": "code",
   "execution_count": 95,
   "id": "2e98fd90",
   "metadata": {},
   "outputs": [],
   "source": [
    "#categorical to ordinal\n",
    "def ordinal(df, cols):\n",
    "    enc = OrdinalEncoder()\n",
    "    enc.fit(df[cols])\n",
    "    df[cols] = enc.transform(df[cols])\n",
    "    \n",
    "    return df"
   ]
  },
  {
   "cell_type": "code",
   "execution_count": 96,
   "id": "12652e1b",
   "metadata": {},
   "outputs": [],
   "source": [
    "#imputem NaNs\n",
    "\n",
    "#imputem mitjanes\n",
    "def mean_imputer(df, cols):\n",
    "    for col in cols:\n",
    "        df[col].fillna(df[col].mean(), inplace=True)\n",
    "    return df\n",
    "\n",
    "#imputem el valor més frequent de la columna dintre el hh\n",
    "def hh_mf_imputer(df,cols):\n",
    "    index=df.index\n",
    "    for col in cols:\n",
    "        col_hh=[df[df.hogarid_old==familia][[col,\"age_transfer\"]].sort_values(by=['age_transfer'])[col]\n",
    "                .values for familia in df.hogarid_old]\n",
    "        for i in range(len(index)):\n",
    "               if np.isnan(df[col][index[i]]):\n",
    "                    non_nan_len=np.count_nonzero(~np.isnan(col_hh[i]))\n",
    "                    if(non_nan_len!=0):\n",
    "                        vals,counts = np.unique(col_hh[i], return_counts=True)\n",
    "                        ind = np.argmax(counts)\n",
    "                        df.loc[index[i],col]=vals[ind]\n",
    "    return df             \n",
    "                            \n",
    "                        "
   ]
  },
  {
   "cell_type": "code",
   "execution_count": 97,
   "id": "f3ab3651",
   "metadata": {},
   "outputs": [],
   "source": [
    "#eliminem outliers\n",
    "\n",
    "def outlier_removal(df, cols):\n",
    "    outlier_threshold = []\n",
    "    for col in cols:\n",
    "            q3 = np.nanpercentile(df[col], 75)\n",
    "            q1 = np.nanpercentile(df[col], 25)\n",
    "            iqr = q3 - q1\n",
    "            out_low = q1 - 3*iqr\n",
    "            out_high = q3 + 3*iqr\n",
    "            outlier_threshold.append([out_low, out_high])\n",
    "    outliers_indexs=[]\n",
    "    for col,k in zip(cols,range(len(cols))):\n",
    "        #outliers_indexs_in_col=[]\n",
    "        for i in df[col].index:\n",
    "            if df[col][i]<outlier_threshold[k][0] or df[col][i]>outlier_threshold[k][1]:\n",
    "                outliers_indexs.append(i)\n",
    "        #outliers_indexs.append(outliers_indexs_in_col)\n",
    "    return df.drop(list(set(outliers_indexs)), axis=0)"
   ]
  },
  {
   "cell_type": "code",
   "execution_count": 98,
   "id": "0f97cfd5",
   "metadata": {},
   "outputs": [],
   "source": [
    "def normalize(df, cols):\n",
    "    Nscaler = MinMaxScaler()\n",
    "\n",
    "    Nscaler.fit(df[cols])\n",
    "    df[cols] = Nscaler.transform(df[cols])\n",
    "    \n",
    "    return df\n",
    "\n",
    "def standardize(df, cols):\n",
    "    Sscaler = StandardScaler()\n",
    "\n",
    "    Sscaler.fit(df[cols])\n",
    "    df[cols] = Sscaler.transform(df[cols])\n",
    "    \n",
    "    return df"
   ]
  },
  {
   "cell_type": "code",
   "execution_count": 99,
   "id": "a3987cd6",
   "metadata": {},
   "outputs": [],
   "source": [
    "from sklearn.impute import SimpleImputer\n",
    "from sklearn.preprocessing import OrdinalEncoder\n",
    "from sklearn.preprocessing import MinMaxScaler\n",
    "from sklearn.preprocessing import StandardScaler\n",
    "\n",
    "mean_cols=[\"bweight\", \"height_05\", \"a10whz_05\", \"weight_05\"]\n",
    "hh_mf_cols=[\"s1age_head_05\",\"s1hhsize_05\",\"s1hhsz_undr5_05\",\"s1hhsz_5_14_05\",\"s1hhsz_15_24_05\",\"s1hhsz_25_64_05\",\n",
    "            \"s1hhsz_65plus_05\",\"s1male_head_05\",\"s2mother_inhs_05\",\"s3ap5_rooms_h_05\",\"s3atoilet_hh_05\",\n",
    "            \"s3awater_access_hh_05\",\"s3aelectric_hh_05\",\"s11ownland_hh_05\",\"s4p7_parasite_i_06\",\"ed_mom\",\"vitamiron_06\",\n",
    "           \"s4p6_vitamina_i_05\", \"s4p7_parasite_i_05\", \"cons_food_pc_05\", \"yrsedfath\", \"propfood_05\", \"prstap_f_05\"\n",
    "            ,  \"pranimalprot_f_05\",  \"prfruitveg_f_05\"]\n",
    "\n",
    "categorical_cols=df1.select_dtypes(exclude=[\"number\",\"bool_\",\"object_\"]).columns\n",
    "outlier_cols=[\"pranimalprot_f_05\", \"bweight\", \"prfruitveg_f_05\"]\n",
    "\n",
    "normal_cols =[\"height_05\",\"a10whz_05\",\"weight_05\",\"com_haz_05\",\"com_waz_05\"]\n",
    "\n",
    "Nnormal_cols = ['s1age_head_05', 's3ap23_stime_h_05', 's3ap24_htime_h_05', 's3ap25_hqtime_h_05', 'cons_food_pc_05', \n",
    "                'cons_tot_pc_05', 'tvip_05', 'yrsedfath','age_transfer', 'bweight', 'ed_mom', 'com_tvip_05', 'com_control_05']\n",
    "\n",
    "\n",
    "cleaned_df=(df1.pipe(copy_df)\n",
    "            .pipe(drop_ind_missing, 0.8)\n",
    "            .pipe(drop_out_missing)\n",
    "            .pipe(ordinal, categorical_cols)\n",
    "            .pipe(hh_mf_imputer, hh_mf_cols)\n",
    "            .pipe(mean_imputer, mean_cols+hh_mf_cols)\n",
    "            .pipe(outlier_removal, outlier_cols) #outliers\n",
    "            .pipe(standardize, normal_cols)) #estandaritzacio\n",
    "            #.pipe(normalize, Nnormal_cols)) #normalitzacio\n",
    "                         "
   ]
  },
  {
   "cell_type": "code",
   "execution_count": 100,
   "id": "d0c3cb21",
   "metadata": {},
   "outputs": [],
   "source": [
    "mean_cols=[\"bweight\", \"tvip_05\", \"height_05\", \"a10whz_05\", \"weight_05\"]\n",
    "hh_mf_cols=[\"s1age_head_05\",\"s1hhsize_05\",\"s1hhsz_undr5_05\",\"s1hhsz_5_14_05\",\"s1hhsz_15_24_05\",\"s1hhsz_25_64_05\",\n",
    "            \"s1hhsz_65plus_05\",\"s1male_head_05\",\"s2mother_inhs_05\",\"s3ap5_rooms_h_05\",\"s3atoilet_hh_05\",\n",
    "            \"s3awater_access_hh_05\",\"s3aelectric_hh_05\",\"s11ownland_hh_05\",\"s4p7_parasite_i_06\",\"ed_mom\",\"vitamiron_06\",\n",
    "           \"s4p6_vitamina_i_05\", \"s4p7_parasite_i_05\", \"cons_food_pc_05\", \"yrsedfath\", \"propfood_05\", \"prstap_f_05\"\n",
    "            ,  \"pranimalprot_f_05\",  \"prfruitveg_f_05\"]\n",
    "\n",
    "categorical_cols=df1_extended.select_dtypes(exclude=[\"number\",\"bool_\",\"object_\"]).columns\n",
    "outlier_cols=[\"pranimalprot_f_05\", \"bweight\", \"prfruitveg_f_05\"]\n",
    "\n",
    "normal_cols =[\"height_05\",\"a10whz_05\",\"weight_05\",\"com_haz_05\",\"com_waz_05\"]\n",
    "\n",
    "Nnormal_cols = ['s1age_head_05', 's3ap23_stime_h_05', 's3ap24_htime_h_05', 's3ap25_hqtime_h_05', 'cons_food_pc_05', \n",
    "                'cons_tot_pc_05', 'tvip_05', 'yrsedfath','age_transfer', 'bweight', 'ed_mom', 'com_tvip_05', 'com_control_05']\n",
    "\n",
    "cleaned_df_ext=(df1_extended.pipe(copy_df)\n",
    "            .pipe(drop_ind_missing, 0.8)\n",
    "            .pipe(drop_out_missing)\n",
    "            .pipe(ordinal, categorical_cols)\n",
    "            .pipe(hh_mf_imputer, hh_mf_cols)\n",
    "            .pipe(mean_imputer, mean_cols+hh_mf_cols)\n",
    "            .pipe(outlier_removal, outlier_cols) #outliers\n",
    "            .pipe(standardize, normal_cols)) #estandaritzacio\n",
    "            #.pipe(normalize, Nnormal_cols)) #normalitzacio"
   ]
  },
  {
   "cell_type": "code",
   "execution_count": 101,
   "id": "8fae1bc5",
   "metadata": {},
   "outputs": [],
   "source": [
    "treatment = 'tr'\n",
    "covariates = [\"s1age_head_05\",\"s1hhsize_05\",\"s1hhsz_undr5_05\",\"s1hhsz_5_14_05\",\n",
    "        \"s1hhsz_15_24_05\",\"s1hhsz_25_64_05\",\"s1hhsz_65plus_05\",\"s1male_head_05\",\"s2mother_inhs_05\",\"s3ap5_rooms_h_05\",\n",
    "        \"s3ap23_stime_h_05\",\"s3ap24_htime_h_05\",\"s3ap25_hqtime_h_05\",\"s3atoilet_hh_05\",\"s3awater_access_hh_05\",\n",
    "        \"s3aelectric_hh_05\",\"s4p6_vitamina_i_05\",\"s4p7_parasite_i_05\",\"s11ownland_hh_05\",\"cons_food_pc_05\",\"cons_tot_pc_05\",\n",
    "        \"height_05\",\"a10whz_05\",\"weight_05\",\"yrsedfath\",\"age_transfer\",\"bweight\",\n",
    "        \"s4p7_parasite_i_06\",\"male\",\"ed_mom\",\"MUN1\",\"MUN2\",\"MUN3\",\"MUN4\",\n",
    "        \"MUN5\",\"MUN6\",\"com_haz_05\",\"com_waz_05\",\"com_vit_05\",\"com_deworm_05\",\n",
    "        \"vitamiron_06\", \"propfood_05\",\"prstap_f_05\",\"pranimalprot_f_05\",\"prfruitveg_f_05\"]"
   ]
  },
  {
   "cell_type": "code",
   "execution_count": 132,
   "id": "78c206e2",
   "metadata": {},
   "outputs": [],
   "source": [
    "from sklearn.model_selection import train_test_split\n",
    "from sklearn.ensemble import RandomForestRegressor\n",
    "\n",
    "def ate (treatment, outcome, covariates, cleaned_df, df_out):\n",
    "    temp_df=df_out.iloc[cleaned_df.index]\n",
    "    df=cleaned_df.drop(cleaned_df[temp_df[outcome].isna()].index, axis=0)\n",
    "    df_temp=df_out.iloc[df.index]\n",
    "    df[outcome]=df_temp[outcome]\n",
    "    df.drop(\"hogarid_old\", axis=1, inplace=True)\n",
    "    print(df.shape)\n",
    "    \n",
    "    # split data into train and test sets \n",
    "    train, test = train_test_split(df, test_size=0.2)\n",
    "    \n",
    "    y_train = train[outcome]\n",
    "    X_train = train[covariates+[\"tr\"]]\n",
    "\n",
    "    X_test = test[covariates+[\"tr\"]]\n",
    "    y_test =  test[outcome]\n",
    "    \n",
    "    forest_reg = RandomForestRegressor(n_estimators=20, random_state=42)\n",
    "    forest_reg.fit(X_train, y_train)\n",
    "\n",
    "    counterfactual_df=df.drop(outcome,axis=1)\n",
    "    a=counterfactual_df[\"tr\"]+1\n",
    "    counterfactual_df[\"tr\"]=a%2\n",
    "    counterfactual=forest_reg.predict(counterfactual_df)\n",
    "    observed=df[outcome]\n",
    "    counterfactuals=pd.Series(counterfactual, index=observed.index)\n",
    "\n",
    "    ite_temp=pd.Series([observed[i]-counterfactuals[i] for i in observed.index if cleaned_df.tr[i]==1], index=df[cleaned_df.tr==1].index)\n",
    "    ite_temp1=pd.Series([counterfactuals[i]-observed[i] for i in observed.index if cleaned_df.tr[i]==0], index=df[cleaned_df.tr==0].index)\n",
    "    ite=pd.concat([ite_temp,ite_temp1])\n",
    "    ite.sort_index(inplace=True)\n",
    "    \n",
    "    return ite"
   ]
  },
  {
   "cell_type": "code",
   "execution_count": 133,
   "id": "b97f60a7",
   "metadata": {},
   "outputs": [
    {
     "name": "stdout",
     "output_type": "stream",
     "text": [
      "(3160, 47)\n"
     ]
    },
    {
     "name": "stderr",
     "output_type": "stream",
     "text": [
      "C:\\Users\\Usuari\\anaconda3\\lib\\site-packages\\sklearn\\base.py:493: FutureWarning: The feature names should match those that were passed during fit. Starting version 1.2, an error will be raised.\n",
      "Feature names must be in the same order as they were in fit.\n",
      "\n",
      "  warnings.warn(message, FutureWarning)\n",
      "C:\\Users\\Usuari\\AppData\\Local\\Temp\\ipykernel_15756\\38251217.py:31: UserWarning: Boolean Series key will be reindexed to match DataFrame index.\n",
      "  ite_temp=pd.Series([observed[i]-counterfactuals[i] for i in observed.index if cleaned_df.tr[i]==1], index=df[cleaned_df.tr==1].index)\n",
      "C:\\Users\\Usuari\\AppData\\Local\\Temp\\ipykernel_15756\\38251217.py:32: UserWarning: Boolean Series key will be reindexed to match DataFrame index.\n",
      "  ite_temp1=pd.Series([counterfactuals[i]-observed[i] for i in observed.index if cleaned_df.tr[i]==0], index=df[cleaned_df.tr==0].index)\n"
     ]
    },
    {
     "name": "stdout",
     "output_type": "stream",
     "text": [
      "(3141, 47)\n"
     ]
    },
    {
     "name": "stderr",
     "output_type": "stream",
     "text": [
      "C:\\Users\\Usuari\\anaconda3\\lib\\site-packages\\sklearn\\base.py:493: FutureWarning: The feature names should match those that were passed during fit. Starting version 1.2, an error will be raised.\n",
      "Feature names must be in the same order as they were in fit.\n",
      "\n",
      "  warnings.warn(message, FutureWarning)\n",
      "C:\\Users\\Usuari\\AppData\\Local\\Temp\\ipykernel_15756\\38251217.py:31: UserWarning: Boolean Series key will be reindexed to match DataFrame index.\n",
      "  ite_temp=pd.Series([observed[i]-counterfactuals[i] for i in observed.index if cleaned_df.tr[i]==1], index=df[cleaned_df.tr==1].index)\n",
      "C:\\Users\\Usuari\\AppData\\Local\\Temp\\ipykernel_15756\\38251217.py:32: UserWarning: Boolean Series key will be reindexed to match DataFrame index.\n",
      "  ite_temp1=pd.Series([counterfactuals[i]-observed[i] for i in observed.index if cleaned_df.tr[i]==0], index=df[cleaned_df.tr==0].index)\n"
     ]
    },
    {
     "name": "stdout",
     "output_type": "stream",
     "text": [
      "(3141, 47)\n"
     ]
    },
    {
     "name": "stderr",
     "output_type": "stream",
     "text": [
      "C:\\Users\\Usuari\\anaconda3\\lib\\site-packages\\sklearn\\base.py:493: FutureWarning: The feature names should match those that were passed during fit. Starting version 1.2, an error will be raised.\n",
      "Feature names must be in the same order as they were in fit.\n",
      "\n",
      "  warnings.warn(message, FutureWarning)\n",
      "C:\\Users\\Usuari\\AppData\\Local\\Temp\\ipykernel_15756\\38251217.py:31: UserWarning: Boolean Series key will be reindexed to match DataFrame index.\n",
      "  ite_temp=pd.Series([observed[i]-counterfactuals[i] for i in observed.index if cleaned_df.tr[i]==1], index=df[cleaned_df.tr==1].index)\n",
      "C:\\Users\\Usuari\\AppData\\Local\\Temp\\ipykernel_15756\\38251217.py:32: UserWarning: Boolean Series key will be reindexed to match DataFrame index.\n",
      "  ite_temp1=pd.Series([counterfactuals[i]-observed[i] for i in observed.index if cleaned_df.tr[i]==0], index=df[cleaned_df.tr==0].index)\n"
     ]
    },
    {
     "name": "stdout",
     "output_type": "stream",
     "text": [
      "(3121, 47)\n"
     ]
    },
    {
     "name": "stderr",
     "output_type": "stream",
     "text": [
      "C:\\Users\\Usuari\\anaconda3\\lib\\site-packages\\sklearn\\base.py:493: FutureWarning: The feature names should match those that were passed during fit. Starting version 1.2, an error will be raised.\n",
      "Feature names must be in the same order as they were in fit.\n",
      "\n",
      "  warnings.warn(message, FutureWarning)\n",
      "C:\\Users\\Usuari\\AppData\\Local\\Temp\\ipykernel_15756\\38251217.py:31: UserWarning: Boolean Series key will be reindexed to match DataFrame index.\n",
      "  ite_temp=pd.Series([observed[i]-counterfactuals[i] for i in observed.index if cleaned_df.tr[i]==1], index=df[cleaned_df.tr==1].index)\n",
      "C:\\Users\\Usuari\\AppData\\Local\\Temp\\ipykernel_15756\\38251217.py:32: UserWarning: Boolean Series key will be reindexed to match DataFrame index.\n",
      "  ite_temp1=pd.Series([counterfactuals[i]-observed[i] for i in observed.index if cleaned_df.tr[i]==0], index=df[cleaned_df.tr==0].index)\n"
     ]
    },
    {
     "name": "stdout",
     "output_type": "stream",
     "text": [
      "(3121, 47)\n"
     ]
    },
    {
     "name": "stderr",
     "output_type": "stream",
     "text": [
      "C:\\Users\\Usuari\\anaconda3\\lib\\site-packages\\sklearn\\base.py:493: FutureWarning: The feature names should match those that were passed during fit. Starting version 1.2, an error will be raised.\n",
      "Feature names must be in the same order as they were in fit.\n",
      "\n",
      "  warnings.warn(message, FutureWarning)\n",
      "C:\\Users\\Usuari\\AppData\\Local\\Temp\\ipykernel_15756\\38251217.py:31: UserWarning: Boolean Series key will be reindexed to match DataFrame index.\n",
      "  ite_temp=pd.Series([observed[i]-counterfactuals[i] for i in observed.index if cleaned_df.tr[i]==1], index=df[cleaned_df.tr==1].index)\n",
      "C:\\Users\\Usuari\\AppData\\Local\\Temp\\ipykernel_15756\\38251217.py:32: UserWarning: Boolean Series key will be reindexed to match DataFrame index.\n",
      "  ite_temp1=pd.Series([counterfactuals[i]-observed[i] for i in observed.index if cleaned_df.tr[i]==0], index=df[cleaned_df.tr==0].index)\n"
     ]
    },
    {
     "name": "stdout",
     "output_type": "stream",
     "text": [
      "(3101, 47)\n"
     ]
    },
    {
     "name": "stderr",
     "output_type": "stream",
     "text": [
      "C:\\Users\\Usuari\\anaconda3\\lib\\site-packages\\sklearn\\base.py:493: FutureWarning: The feature names should match those that were passed during fit. Starting version 1.2, an error will be raised.\n",
      "Feature names must be in the same order as they were in fit.\n",
      "\n",
      "  warnings.warn(message, FutureWarning)\n",
      "C:\\Users\\Usuari\\AppData\\Local\\Temp\\ipykernel_15756\\38251217.py:31: UserWarning: Boolean Series key will be reindexed to match DataFrame index.\n",
      "  ite_temp=pd.Series([observed[i]-counterfactuals[i] for i in observed.index if cleaned_df.tr[i]==1], index=df[cleaned_df.tr==1].index)\n",
      "C:\\Users\\Usuari\\AppData\\Local\\Temp\\ipykernel_15756\\38251217.py:32: UserWarning: Boolean Series key will be reindexed to match DataFrame index.\n",
      "  ite_temp1=pd.Series([counterfactuals[i]-observed[i] for i in observed.index if cleaned_df.tr[i]==0], index=df[cleaned_df.tr==0].index)\n"
     ]
    },
    {
     "name": "stdout",
     "output_type": "stream",
     "text": [
      "(3101, 47)\n"
     ]
    },
    {
     "name": "stderr",
     "output_type": "stream",
     "text": [
      "C:\\Users\\Usuari\\anaconda3\\lib\\site-packages\\sklearn\\base.py:493: FutureWarning: The feature names should match those that were passed during fit. Starting version 1.2, an error will be raised.\n",
      "Feature names must be in the same order as they were in fit.\n",
      "\n",
      "  warnings.warn(message, FutureWarning)\n",
      "C:\\Users\\Usuari\\AppData\\Local\\Temp\\ipykernel_15756\\38251217.py:31: UserWarning: Boolean Series key will be reindexed to match DataFrame index.\n",
      "  ite_temp=pd.Series([observed[i]-counterfactuals[i] for i in observed.index if cleaned_df.tr[i]==1], index=df[cleaned_df.tr==1].index)\n",
      "C:\\Users\\Usuari\\AppData\\Local\\Temp\\ipykernel_15756\\38251217.py:32: UserWarning: Boolean Series key will be reindexed to match DataFrame index.\n",
      "  ite_temp1=pd.Series([counterfactuals[i]-observed[i] for i in observed.index if cleaned_df.tr[i]==0], index=df[cleaned_df.tr==0].index)\n"
     ]
    },
    {
     "name": "stdout",
     "output_type": "stream",
     "text": [
      "(3087, 47)\n"
     ]
    },
    {
     "name": "stderr",
     "output_type": "stream",
     "text": [
      "C:\\Users\\Usuari\\anaconda3\\lib\\site-packages\\sklearn\\base.py:493: FutureWarning: The feature names should match those that were passed during fit. Starting version 1.2, an error will be raised.\n",
      "Feature names must be in the same order as they were in fit.\n",
      "\n",
      "  warnings.warn(message, FutureWarning)\n",
      "C:\\Users\\Usuari\\AppData\\Local\\Temp\\ipykernel_15756\\38251217.py:31: UserWarning: Boolean Series key will be reindexed to match DataFrame index.\n",
      "  ite_temp=pd.Series([observed[i]-counterfactuals[i] for i in observed.index if cleaned_df.tr[i]==1], index=df[cleaned_df.tr==1].index)\n",
      "C:\\Users\\Usuari\\AppData\\Local\\Temp\\ipykernel_15756\\38251217.py:32: UserWarning: Boolean Series key will be reindexed to match DataFrame index.\n",
      "  ite_temp1=pd.Series([counterfactuals[i]-observed[i] for i in observed.index if cleaned_df.tr[i]==0], index=df[cleaned_df.tr==0].index)\n"
     ]
    },
    {
     "name": "stdout",
     "output_type": "stream",
     "text": [
      "(3087, 47)\n"
     ]
    },
    {
     "name": "stderr",
     "output_type": "stream",
     "text": [
      "C:\\Users\\Usuari\\anaconda3\\lib\\site-packages\\sklearn\\base.py:493: FutureWarning: The feature names should match those that were passed during fit. Starting version 1.2, an error will be raised.\n",
      "Feature names must be in the same order as they were in fit.\n",
      "\n",
      "  warnings.warn(message, FutureWarning)\n",
      "C:\\Users\\Usuari\\AppData\\Local\\Temp\\ipykernel_15756\\38251217.py:31: UserWarning: Boolean Series key will be reindexed to match DataFrame index.\n",
      "  ite_temp=pd.Series([observed[i]-counterfactuals[i] for i in observed.index if cleaned_df.tr[i]==1], index=df[cleaned_df.tr==1].index)\n",
      "C:\\Users\\Usuari\\AppData\\Local\\Temp\\ipykernel_15756\\38251217.py:32: UserWarning: Boolean Series key will be reindexed to match DataFrame index.\n",
      "  ite_temp1=pd.Series([counterfactuals[i]-observed[i] for i in observed.index if cleaned_df.tr[i]==0], index=df[cleaned_df.tr==0].index)\n"
     ]
    }
   ],
   "source": [
    "ate_vec=[ate(treatment, outcome, covariates, cleaned_df, df_out) for outcome in df_out.columns]"
   ]
  },
  {
   "cell_type": "code",
   "execution_count": 107,
   "id": "507f5c78",
   "metadata": {},
   "outputs": [
    {
     "name": "stderr",
     "output_type": "stream",
     "text": [
      "C:\\Users\\Usuari\\anaconda3\\lib\\site-packages\\sklearn\\base.py:493: FutureWarning: The feature names should match those that were passed during fit. Starting version 1.2, an error will be raised.\n",
      "Feature names must be in the same order as they were in fit.\n",
      "\n",
      "  warnings.warn(message, FutureWarning)\n",
      "C:\\Users\\Usuari\\AppData\\Local\\Temp\\ipykernel_15756\\397396693.py:30: UserWarning: Boolean Series key will be reindexed to match DataFrame index.\n",
      "  ite_temp=pd.Series([observed[i]-counterfactuals[i] for i in observed.index if cleaned_df.tr[i]==1], index=df[cleaned_df.tr==1].index)\n",
      "C:\\Users\\Usuari\\AppData\\Local\\Temp\\ipykernel_15756\\397396693.py:31: UserWarning: Boolean Series key will be reindexed to match DataFrame index.\n",
      "  ite_temp1=pd.Series([counterfactuals[i]-observed[i] for i in observed.index if cleaned_df.tr[i]==0], index=df[cleaned_df.tr==0].index)\n",
      "C:\\Users\\Usuari\\anaconda3\\lib\\site-packages\\sklearn\\base.py:493: FutureWarning: The feature names should match those that were passed during fit. Starting version 1.2, an error will be raised.\n",
      "Feature names must be in the same order as they were in fit.\n",
      "\n",
      "  warnings.warn(message, FutureWarning)\n",
      "C:\\Users\\Usuari\\AppData\\Local\\Temp\\ipykernel_15756\\397396693.py:30: UserWarning: Boolean Series key will be reindexed to match DataFrame index.\n",
      "  ite_temp=pd.Series([observed[i]-counterfactuals[i] for i in observed.index if cleaned_df.tr[i]==1], index=df[cleaned_df.tr==1].index)\n",
      "C:\\Users\\Usuari\\AppData\\Local\\Temp\\ipykernel_15756\\397396693.py:31: UserWarning: Boolean Series key will be reindexed to match DataFrame index.\n",
      "  ite_temp1=pd.Series([counterfactuals[i]-observed[i] for i in observed.index if cleaned_df.tr[i]==0], index=df[cleaned_df.tr==0].index)\n",
      "C:\\Users\\Usuari\\anaconda3\\lib\\site-packages\\sklearn\\base.py:493: FutureWarning: The feature names should match those that were passed during fit. Starting version 1.2, an error will be raised.\n",
      "Feature names must be in the same order as they were in fit.\n",
      "\n",
      "  warnings.warn(message, FutureWarning)\n",
      "C:\\Users\\Usuari\\AppData\\Local\\Temp\\ipykernel_15756\\397396693.py:30: UserWarning: Boolean Series key will be reindexed to match DataFrame index.\n",
      "  ite_temp=pd.Series([observed[i]-counterfactuals[i] for i in observed.index if cleaned_df.tr[i]==1], index=df[cleaned_df.tr==1].index)\n",
      "C:\\Users\\Usuari\\AppData\\Local\\Temp\\ipykernel_15756\\397396693.py:31: UserWarning: Boolean Series key will be reindexed to match DataFrame index.\n",
      "  ite_temp1=pd.Series([counterfactuals[i]-observed[i] for i in observed.index if cleaned_df.tr[i]==0], index=df[cleaned_df.tr==0].index)\n",
      "C:\\Users\\Usuari\\anaconda3\\lib\\site-packages\\sklearn\\base.py:493: FutureWarning: The feature names should match those that were passed during fit. Starting version 1.2, an error will be raised.\n",
      "Feature names must be in the same order as they were in fit.\n",
      "\n",
      "  warnings.warn(message, FutureWarning)\n",
      "C:\\Users\\Usuari\\AppData\\Local\\Temp\\ipykernel_15756\\397396693.py:30: UserWarning: Boolean Series key will be reindexed to match DataFrame index.\n",
      "  ite_temp=pd.Series([observed[i]-counterfactuals[i] for i in observed.index if cleaned_df.tr[i]==1], index=df[cleaned_df.tr==1].index)\n",
      "C:\\Users\\Usuari\\AppData\\Local\\Temp\\ipykernel_15756\\397396693.py:31: UserWarning: Boolean Series key will be reindexed to match DataFrame index.\n",
      "  ite_temp1=pd.Series([counterfactuals[i]-observed[i] for i in observed.index if cleaned_df.tr[i]==0], index=df[cleaned_df.tr==0].index)\n",
      "C:\\Users\\Usuari\\anaconda3\\lib\\site-packages\\sklearn\\base.py:493: FutureWarning: The feature names should match those that were passed during fit. Starting version 1.2, an error will be raised.\n",
      "Feature names must be in the same order as they were in fit.\n",
      "\n",
      "  warnings.warn(message, FutureWarning)\n",
      "C:\\Users\\Usuari\\AppData\\Local\\Temp\\ipykernel_15756\\397396693.py:30: UserWarning: Boolean Series key will be reindexed to match DataFrame index.\n",
      "  ite_temp=pd.Series([observed[i]-counterfactuals[i] for i in observed.index if cleaned_df.tr[i]==1], index=df[cleaned_df.tr==1].index)\n",
      "C:\\Users\\Usuari\\AppData\\Local\\Temp\\ipykernel_15756\\397396693.py:31: UserWarning: Boolean Series key will be reindexed to match DataFrame index.\n",
      "  ite_temp1=pd.Series([counterfactuals[i]-observed[i] for i in observed.index if cleaned_df.tr[i]==0], index=df[cleaned_df.tr==0].index)\n",
      "C:\\Users\\Usuari\\anaconda3\\lib\\site-packages\\sklearn\\base.py:493: FutureWarning: The feature names should match those that were passed during fit. Starting version 1.2, an error will be raised.\n",
      "Feature names must be in the same order as they were in fit.\n",
      "\n",
      "  warnings.warn(message, FutureWarning)\n",
      "C:\\Users\\Usuari\\AppData\\Local\\Temp\\ipykernel_15756\\397396693.py:30: UserWarning: Boolean Series key will be reindexed to match DataFrame index.\n",
      "  ite_temp=pd.Series([observed[i]-counterfactuals[i] for i in observed.index if cleaned_df.tr[i]==1], index=df[cleaned_df.tr==1].index)\n",
      "C:\\Users\\Usuari\\AppData\\Local\\Temp\\ipykernel_15756\\397396693.py:31: UserWarning: Boolean Series key will be reindexed to match DataFrame index.\n",
      "  ite_temp1=pd.Series([counterfactuals[i]-observed[i] for i in observed.index if cleaned_df.tr[i]==0], index=df[cleaned_df.tr==0].index)\n",
      "C:\\Users\\Usuari\\anaconda3\\lib\\site-packages\\sklearn\\base.py:493: FutureWarning: The feature names should match those that were passed during fit. Starting version 1.2, an error will be raised.\n",
      "Feature names must be in the same order as they were in fit.\n",
      "\n",
      "  warnings.warn(message, FutureWarning)\n",
      "C:\\Users\\Usuari\\AppData\\Local\\Temp\\ipykernel_15756\\397396693.py:30: UserWarning: Boolean Series key will be reindexed to match DataFrame index.\n",
      "  ite_temp=pd.Series([observed[i]-counterfactuals[i] for i in observed.index if cleaned_df.tr[i]==1], index=df[cleaned_df.tr==1].index)\n",
      "C:\\Users\\Usuari\\AppData\\Local\\Temp\\ipykernel_15756\\397396693.py:31: UserWarning: Boolean Series key will be reindexed to match DataFrame index.\n",
      "  ite_temp1=pd.Series([counterfactuals[i]-observed[i] for i in observed.index if cleaned_df.tr[i]==0], index=df[cleaned_df.tr==0].index)\n",
      "C:\\Users\\Usuari\\anaconda3\\lib\\site-packages\\sklearn\\base.py:493: FutureWarning: The feature names should match those that were passed during fit. Starting version 1.2, an error will be raised.\n",
      "Feature names must be in the same order as they were in fit.\n",
      "\n",
      "  warnings.warn(message, FutureWarning)\n",
      "C:\\Users\\Usuari\\AppData\\Local\\Temp\\ipykernel_15756\\397396693.py:30: UserWarning: Boolean Series key will be reindexed to match DataFrame index.\n",
      "  ite_temp=pd.Series([observed[i]-counterfactuals[i] for i in observed.index if cleaned_df.tr[i]==1], index=df[cleaned_df.tr==1].index)\n",
      "C:\\Users\\Usuari\\AppData\\Local\\Temp\\ipykernel_15756\\397396693.py:31: UserWarning: Boolean Series key will be reindexed to match DataFrame index.\n",
      "  ite_temp1=pd.Series([counterfactuals[i]-observed[i] for i in observed.index if cleaned_df.tr[i]==0], index=df[cleaned_df.tr==0].index)\n",
      "C:\\Users\\Usuari\\anaconda3\\lib\\site-packages\\sklearn\\base.py:493: FutureWarning: The feature names should match those that were passed during fit. Starting version 1.2, an error will be raised.\n",
      "Feature names must be in the same order as they were in fit.\n",
      "\n",
      "  warnings.warn(message, FutureWarning)\n",
      "C:\\Users\\Usuari\\AppData\\Local\\Temp\\ipykernel_15756\\397396693.py:30: UserWarning: Boolean Series key will be reindexed to match DataFrame index.\n",
      "  ite_temp=pd.Series([observed[i]-counterfactuals[i] for i in observed.index if cleaned_df.tr[i]==1], index=df[cleaned_df.tr==1].index)\n",
      "C:\\Users\\Usuari\\AppData\\Local\\Temp\\ipykernel_15756\\397396693.py:31: UserWarning: Boolean Series key will be reindexed to match DataFrame index.\n",
      "  ite_temp1=pd.Series([counterfactuals[i]-observed[i] for i in observed.index if cleaned_df.tr[i]==0], index=df[cleaned_df.tr==0].index)\n"
     ]
    }
   ],
   "source": [
    "treatment = 'tr'\n",
    "covariates_ext=[\"s1age_head_05\",\"s1hhsize_05\",\"s1hhsz_undr5_05\",\"s1hhsz_5_14_05\",\n",
    "        \"s1hhsz_15_24_05\",\"s1hhsz_25_64_05\",\"s1hhsz_65plus_05\",\"s1male_head_05\",\"s2mother_inhs_05\",\"s3ap5_rooms_h_05\",\n",
    "        \"s3ap23_stime_h_05\",\"s3ap24_htime_h_05\",\"s3ap25_hqtime_h_05\",\"s3atoilet_hh_05\",\"s3awater_access_hh_05\",\n",
    "        \"s3aelectric_hh_05\",\"s4p6_vitamina_i_05\",\"s4p7_parasite_i_05\",\"s11ownland_hh_05\",\"cons_food_pc_05\",\"cons_tot_pc_05\",\n",
    "        \"tvip_05\",\"height_05\",\"a10whz_05\",\"weight_05\",\"itt_i\",\"itt_all_i\",\"yrsedfath\",\"age_transfer\",\"bweight\",\n",
    "        \"s4p7_parasite_i_06\",\"male\",\"TREAT1\",\"TREAT2\",\"TREAT3\",\"TREAT4\",\"ed_mom\",\"MUN1\",\"MUN2\",\"MUN3\",\"MUN4\",\n",
    "        \"MUN5\",\"MUN6\",\"com_haz_05\",\"com_waz_05\",\"com_tvip_05\",\"com_control_05\",\"com_vit_05\",\"com_deworm_05\",\"com_notvip\",\n",
    "        \"sample06\",\"vitamiron_06\",#\"weighted_05\",\n",
    "        \"propfood_05\",\"prstap_f_05\",\"pranimalprot_f_05\",\"prfruitveg_f_05\"]\n",
    "ate_vec_ext=[ate(treatment, outcome, covariates_ext, cleaned_df_ext, df_out) for outcome in df_out.columns]"
   ]
  },
  {
   "cell_type": "code",
   "execution_count": 123,
   "id": "6fc73203",
   "metadata": {},
   "outputs": [],
   "source": [
    "df_ite=pd.DataFrame([np.mean(ite) for ite in ate_vec], index=df_out.columns, columns=[\"ATE_normal_cov\"])"
   ]
  },
  {
   "cell_type": "code",
   "execution_count": 124,
   "id": "573c46fa",
   "metadata": {},
   "outputs": [],
   "source": [
    "df_ite[\"ATE_extended_cov\"]=[np.mean(ite) for ite in ate_vec_ext]"
   ]
  },
  {
   "cell_type": "code",
   "execution_count": 125,
   "id": "827313ac",
   "metadata": {},
   "outputs": [],
   "source": [
    "df_ite[\"ATE_paper\"]=[0.08,\"?\",0.13,\"?\",0.139,\"?\", 0.038,\"?\",0.06]"
   ]
  },
  {
   "cell_type": "code",
   "execution_count": 126,
   "id": "53516910",
   "metadata": {},
   "outputs": [
    {
     "data": {
      "text/html": [
       "<div>\n",
       "<style scoped>\n",
       "    .dataframe tbody tr th:only-of-type {\n",
       "        vertical-align: middle;\n",
       "    }\n",
       "\n",
       "    .dataframe tbody tr th {\n",
       "        vertical-align: top;\n",
       "    }\n",
       "\n",
       "    .dataframe thead th {\n",
       "        text-align: right;\n",
       "    }\n",
       "</style>\n",
       "<table border=\"1\" class=\"dataframe\">\n",
       "  <thead>\n",
       "    <tr style=\"text-align: right;\">\n",
       "      <th></th>\n",
       "      <th>ATE_normal_cov</th>\n",
       "      <th>ATE_extended_cov</th>\n",
       "      <th>ATE_paper</th>\n",
       "    </tr>\n",
       "  </thead>\n",
       "  <tbody>\n",
       "    <tr>\n",
       "      <th>z_all_06</th>\n",
       "      <td>0.084013</td>\n",
       "      <td>0.085483</td>\n",
       "      <td>0.08</td>\n",
       "    </tr>\n",
       "    <tr>\n",
       "      <th>a7a_delay_06</th>\n",
       "      <td>-0.060188</td>\n",
       "      <td>-0.091429</td>\n",
       "      <td>?</td>\n",
       "    </tr>\n",
       "    <tr>\n",
       "      <th>z_social_06</th>\n",
       "      <td>0.314620</td>\n",
       "      <td>0.356739</td>\n",
       "      <td>0.13</td>\n",
       "    </tr>\n",
       "    <tr>\n",
       "      <th>a7b_delay_06</th>\n",
       "      <td>-0.006584</td>\n",
       "      <td>-0.010186</td>\n",
       "      <td>?</td>\n",
       "    </tr>\n",
       "    <tr>\n",
       "      <th>z_language_06</th>\n",
       "      <td>0.278611</td>\n",
       "      <td>0.249633</td>\n",
       "      <td>0.139</td>\n",
       "    </tr>\n",
       "    <tr>\n",
       "      <th>a7c_delay_06</th>\n",
       "      <td>-0.050532</td>\n",
       "      <td>-0.058362</td>\n",
       "      <td>?</td>\n",
       "    </tr>\n",
       "    <tr>\n",
       "      <th>z_finmotor_06</th>\n",
       "      <td>0.357017</td>\n",
       "      <td>0.424841</td>\n",
       "      <td>0.038</td>\n",
       "    </tr>\n",
       "    <tr>\n",
       "      <th>a7d_delay_06</th>\n",
       "      <td>-0.055442</td>\n",
       "      <td>-0.065971</td>\n",
       "      <td>?</td>\n",
       "    </tr>\n",
       "    <tr>\n",
       "      <th>z_grmotor_06</th>\n",
       "      <td>0.232994</td>\n",
       "      <td>0.279858</td>\n",
       "      <td>0.06</td>\n",
       "    </tr>\n",
       "  </tbody>\n",
       "</table>\n",
       "</div>"
      ],
      "text/plain": [
       "               ATE_normal_cov  ATE_extended_cov ATE_paper\n",
       "z_all_06             0.084013          0.085483      0.08\n",
       "a7a_delay_06        -0.060188         -0.091429         ?\n",
       "z_social_06          0.314620          0.356739      0.13\n",
       "a7b_delay_06        -0.006584         -0.010186         ?\n",
       "z_language_06        0.278611          0.249633     0.139\n",
       "a7c_delay_06        -0.050532         -0.058362         ?\n",
       "z_finmotor_06        0.357017          0.424841     0.038\n",
       "a7d_delay_06        -0.055442         -0.065971         ?\n",
       "z_grmotor_06         0.232994          0.279858      0.06"
      ]
     },
     "execution_count": 126,
     "metadata": {},
     "output_type": "execute_result"
    }
   ],
   "source": [
    "df_ite"
   ]
  },
  {
   "cell_type": "code",
   "execution_count": 127,
   "id": "d8d018ae",
   "metadata": {},
   "outputs": [
    {
     "data": {
      "text/plain": [
       "(4511, 47)"
      ]
     },
     "execution_count": 127,
     "metadata": {},
     "output_type": "execute_result"
    }
   ],
   "source": [
    "df1.shape"
   ]
  },
  {
   "cell_type": "code",
   "execution_count": 128,
   "id": "d7ab32d5",
   "metadata": {},
   "outputs": [
    {
     "data": {
      "text/plain": [
       "(4511, 58)"
      ]
     },
     "execution_count": 128,
     "metadata": {},
     "output_type": "execute_result"
    }
   ],
   "source": [
    "df1_extended.shape"
   ]
  },
  {
   "cell_type": "code",
   "execution_count": 131,
   "id": "03eb2b56",
   "metadata": {},
   "outputs": [
    {
     "data": {
      "text/plain": [
       "(3451, 47)"
      ]
     },
     "execution_count": 131,
     "metadata": {},
     "output_type": "execute_result"
    }
   ],
   "source": [
    "cleaned_df.shape"
   ]
  },
  {
   "cell_type": "code",
   "execution_count": null,
   "id": "cf53e26b",
   "metadata": {},
   "outputs": [],
   "source": []
  }
 ],
 "metadata": {
  "kernelspec": {
   "display_name": "Python 3 (ipykernel)",
   "language": "python",
   "name": "python3"
  },
  "language_info": {
   "codemirror_mode": {
    "name": "ipython",
    "version": 3
   },
   "file_extension": ".py",
   "mimetype": "text/x-python",
   "name": "python",
   "nbconvert_exporter": "python",
   "pygments_lexer": "ipython3",
   "version": "3.8.8"
  }
 },
 "nbformat": 4,
 "nbformat_minor": 5
}
