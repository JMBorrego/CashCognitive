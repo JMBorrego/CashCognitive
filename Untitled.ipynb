{
 "cells": [
  {
   "cell_type": "markdown",
   "id": "0a075b03",
   "metadata": {},
   "source": [
    "Outlier exploration"
   ]
  },
  {
   "cell_type": "code",
   "execution_count": 1,
   "id": "000a63eb",
   "metadata": {},
   "outputs": [],
   "source": [
    "import pandas as pd\n",
    "import matplotlib.pyplot as plt\n",
    "import numpy as np"
   ]
  },
  {
   "cell_type": "code",
   "execution_count": 2,
   "id": "07bd290f",
   "metadata": {},
   "outputs": [],
   "source": [
    "#Read main data to DataFrame\n",
    "df = pd.read_stata('Cash_and_Childhood_Development_Replication/macoursetal_main.dta')  "
   ]
  },
  {
   "cell_type": "code",
   "execution_count": 3,
   "id": "5592b3ff",
   "metadata": {},
   "outputs": [
    {
     "name": "stderr",
     "output_type": "stream",
     "text": [
      "C:\\Users\\Usuari\\AppData\\Local\\Temp\\ipykernel_1484\\4202182238.py:10: SettingWithCopyWarning: \n",
      "A value is trying to be set on a copy of a slice from a DataFrame\n",
      "\n",
      "See the caveats in the documentation: https://pandas.pydata.org/pandas-docs/stable/user_guide/indexing.html#returning-a-view-versus-a-copy\n",
      "  df1.rename(columns = {'T':'tr'}, inplace = True)\n"
     ]
    }
   ],
   "source": [
    "df1=df[[\"hogarid_old\",\"cp_old\",\"unique_05\",\"s1age_head_05\",\"s1hhsize_05\",\"s1hhsz_undr5_05\",\"s1hhsz_5_14_05\",\n",
    "        \"s1hhsz_15_24_05\",\"s1hhsz_25_64_05\",\"s1hhsz_65plus_05\",\"s1male_head_05\",\"s2mother_inhs_05\",\"s3ap5_rooms_h_05\",\n",
    "        \"s3ap23_stime_h_05\",\"s3ap24_htime_h_05\",\"s3ap25_hqtime_h_05\",\"s3atoilet_hh_05\",\"s3awater_access_hh_05\",\n",
    "        \"s3aelectric_hh_05\",\"s4p6_vitamina_i_05\",\"s4p7_parasite_i_05\",\"s11ownland_hh_05\",\"cons_food_pc_05\",\"cons_tot_pc_05\",\n",
    "        \"tvip_05\",\"height_05\",\"a10whz_05\",\"weight_05\",\"itt_i\",\"itt_all_i\",\"yrsedfath\",\"age_transfer\",\"bweight\",\n",
    "        \"s4p7_parasite_i_06\",\"cpmom_06\",\"T\",\"male\",\"TREAT1\",\"TREAT2\",\"TREAT3\",\"TREAT4\",\"ed_mom\",\"MUN1\",\"MUN2\",\"MUN3\",\"MUN4\",\n",
    "        \"MUN5\",\"MUN6\",\"com_haz_05\",\"com_waz_05\",\"com_tvip_05\",\"com_control_05\",\"com_vit_05\",\"com_deworm_05\",\"com_notvip\",\n",
    "        \"sample06\",\"vitamiron_06\",#\"weighted_05\",\n",
    "        \"propfood_05\",\"prstap_f_05\",\"pranimalprot_f_05\",\"prfruitveg_f_05\"]]\n",
    "df1.rename(columns = {'T':'tr'}, inplace = True)"
   ]
  },
  {
   "cell_type": "code",
   "execution_count": 11,
   "id": "4b8bbeeb",
   "metadata": {},
   "outputs": [
    {
     "ename": "NameError",
     "evalue": "name 'copy_df' is not defined",
     "output_type": "error",
     "traceback": [
      "\u001b[1;31m---------------------------------------------------------------------------\u001b[0m",
      "\u001b[1;31mNameError\u001b[0m                                 Traceback (most recent call last)",
      "Input \u001b[1;32mIn [11]\u001b[0m, in \u001b[0;36m<cell line: 1>\u001b[1;34m()\u001b[0m\n\u001b[1;32m----> 1\u001b[0m prova\u001b[38;5;241m=\u001b[39m(df1\u001b[38;5;241m.\u001b[39mpipe(\u001b[43mcopy_df\u001b[49m)\n\u001b[0;32m      2\u001b[0m             \u001b[38;5;241m.\u001b[39mpipe(drop_ind_missing, \u001b[38;5;241m0.8\u001b[39m)\n\u001b[0;32m      3\u001b[0m             \u001b[38;5;241m.\u001b[39mpipe(drop_out_missing)\n\u001b[0;32m      4\u001b[0m             \u001b[38;5;241m.\u001b[39mpipe(ordinal, categorical_cols))\n\u001b[0;32m      5\u001b[0m df\u001b[38;5;241m=\u001b[39mprova\n\u001b[0;32m      6\u001b[0m outlier_threshold \u001b[38;5;241m=\u001b[39m []\n",
      "\u001b[1;31mNameError\u001b[0m: name 'copy_df' is not defined"
     ]
    }
   ],
   "source": [
    "prova=(df1.pipe(copy_df)\n",
    "            .pipe(drop_ind_missing, 0.8)\n",
    "            .pipe(drop_out_missing)\n",
    "            .pipe(ordinal, categorical_cols))\n",
    "df=prova\n",
    "outlier_threshold = []\n",
    "cols=df.columns\n",
    "for col in cols:\n",
    "    q3 = np.nanpercentile(df[col], 75)\n",
    "    q1 = np.nanpercentile(df[col], 25)\n",
    "    iqr = q3 - q1\n",
    "    out_low = q1 - 3*iqr\n",
    "    out_high = q3 + 3*iqr\n",
    "    outlier_threshold.append([out_low, out_high])\n",
    "outliers_indexs=[]\n",
    "for col,k in zip(cols,range(len(cols))):\n",
    "    outliers_indexs_in_col=[]\n",
    "    for i in df[col].index:\n",
    "        if df[col][i]<outlier_threshold[k][0] or df[col][i]>outlier_threshold[k][1]:\n",
    "            outliers_indexs.append(i)\n",
    "            outliers_indexs_in_col.append(i)\n",
    "    #outliers_indexs.append(outliers_indexs_in_col)\n",
    "    print(col, len(outliers_indexs_in_col))\n",
    "\n",
    "print(len(list(set(outliers_indexs))))\n",
    "df.drop(list(set(outliers_indexs)), axis=0)"
   ]
  },
  {
   "cell_type": "code",
   "execution_count": null,
   "id": "058a77c7",
   "metadata": {},
   "outputs": [],
   "source": []
  }
 ],
 "metadata": {
  "kernelspec": {
   "display_name": "Python 3 (ipykernel)",
   "language": "python",
   "name": "python3"
  },
  "language_info": {
   "codemirror_mode": {
    "name": "ipython",
    "version": 3
   },
   "file_extension": ".py",
   "mimetype": "text/x-python",
   "name": "python",
   "nbconvert_exporter": "python",
   "pygments_lexer": "ipython3",
   "version": "3.8.8"
  }
 },
 "nbformat": 4,
 "nbformat_minor": 5
}
