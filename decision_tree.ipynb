{
 "cells": [
  {
   "cell_type": "code",
   "execution_count": 1,
   "id": "8b33a126",
   "metadata": {},
   "outputs": [],
   "source": [
    "import warnings\n",
    "warnings.simplefilter(action='ignore', category=FutureWarning)\n",
    "import pandas as pd\n",
    "import matplotlib.pyplot as plt\n",
    "import numpy as np\n",
    "import sklearn "
   ]
  },
  {
   "cell_type": "code",
   "execution_count": 2,
   "id": "5c4ce38f",
   "metadata": {},
   "outputs": [],
   "source": [
    "#Read main data to DataFrame\n",
    "cleaned_df = pd.read_csv('processed_data/cleaned_df.csv', index_col=0)  "
   ]
  },
  {
   "cell_type": "code",
   "execution_count": 3,
   "id": "ac4db177",
   "metadata": {},
   "outputs": [],
   "source": [
    "df_original = pd.read_stata('Cash_and_Childhood_Development_Replication/macoursetal_main.dta')  \n",
    "\n",
    "df_out=df_original[[\"a5sscore_i_06\",\"a6smemory_p1_06\",\"a6smemory_p2_06\",\"a7a_delay_06\",\"a7b_delay_06\",\n",
    "        \"a7c_delay_06\",\"a7d_delay_06\",\"a9sgrossmotor_06\",\"height_06\",\"weight_06\",\"z_tvip_06\",\"z_social_06\",\n",
    "        \"z_language_06\",\"z_finmotor_06\",\"z_memory_06\",\"z_grmotor_06\",\"z_legmotor_06\",\"z_behavior_06\",\"z_height_06\",\n",
    "        \"z_weight_06\",\"z_all_06\"]]"
   ]
  },
  {
   "cell_type": "code",
   "execution_count": 4,
   "id": "804f28af",
   "metadata": {},
   "outputs": [],
   "source": [
    "cleaned_df.drop(cleaned_df[df_out.iloc[cleaned_df.index].z_all_06.isna()].index, axis=0, inplace=True)"
   ]
  },
  {
   "cell_type": "code",
   "execution_count": 15,
   "id": "b42f0fc3",
   "metadata": {},
   "outputs": [],
   "source": [
    "cleaned_df[\"z_all_06\"]=df_out.iloc[cleaned_df.index].z_all_06"
   ]
  },
  {
   "cell_type": "code",
   "execution_count": 16,
   "id": "447af8fc",
   "metadata": {},
   "outputs": [],
   "source": [
    "cp_cols=[\"hogarid_old\"]"
   ]
  },
  {
   "cell_type": "code",
   "execution_count": 17,
   "id": "1c10e43c",
   "metadata": {},
   "outputs": [],
   "source": [
    "cleaned_df.drop(cp_cols, axis=1, inplace=True)"
   ]
  },
  {
   "cell_type": "code",
   "execution_count": 18,
   "id": "eb37a28f",
   "metadata": {},
   "outputs": [],
   "source": [
    "def outlier_removal(df, cols):\n",
    "    outlier_threshold = []\n",
    "    for col in cols:\n",
    "            q3 = np.nanpercentile(df[col], 75)\n",
    "            q1 = np.nanpercentile(df[col], 25)\n",
    "            iqr = q3 - q1\n",
    "            out_low = q1 - 3*iqr\n",
    "            out_high = q3 + 3*iqr\n",
    "            outlier_threshold.append([out_low, out_high])\n",
    "    outliers_indexs=[]\n",
    "    for col,k in zip(cols,range(len(cols))):\n",
    "        #outliers_indexs_in_col=[]\n",
    "        for i in df[col].index:\n",
    "            if df[col][i]<outlier_threshold[k][0] or df[col][i]>outlier_threshold[k][1]:\n",
    "                outliers_indexs.append(i)\n",
    "        #outliers_indexs.append(outliers_indexs_in_col)\n",
    "    return df.drop(list(set(outliers_indexs)), axis=0)\n",
    "\n",
    "cleaned_df=outlier_removal(cleaned_df, [\"z_all_06\"])"
   ]
  },
  {
   "cell_type": "code",
   "execution_count": 19,
   "id": "f797c117",
   "metadata": {},
   "outputs": [
    {
     "data": {
      "text/plain": [
       "<matplotlib.collections.PathCollection at 0x1d9f0908a30>"
      ]
     },
     "execution_count": 19,
     "metadata": {},
     "output_type": "execute_result"
    },
    {
     "data": {
      "image/png": "[encoded data removed]",
      "text/plain": [
       "<Figure size 432x288 with 1 Axes>"
      ]
     },
     "metadata": {
      "needs_background": "light"
     },
     "output_type": "display_data"
    }
   ],
   "source": [
    "plt.scatter([i for i in range(len(cleaned_df[\"z_all_06\"].sort_values().values))], cleaned_df[\"z_all_06\"].sort_values().values)"
   ]
  },
  {
   "cell_type": "code",
   "execution_count": 20,
   "id": "5ecc01ed",
   "metadata": {},
   "outputs": [
    {
     "data": {
      "text/plain": [
       "(array([ 22.,  29.,  72., 166., 517., 921., 907., 409.,  96.,   6.]),\n",
       " array([-2.1753304 , -1.7871083 , -1.3988862 , -1.0106641 , -0.62244195,\n",
       "        -0.23421985,  0.15400226,  0.54222435,  0.9304465 ,  1.3186686 ,\n",
       "         1.7068907 ], dtype=float32),\n",
       " <BarContainer object of 10 artists>)"
      ]
     },
     "execution_count": 20,
     "metadata": {},
     "output_type": "execute_result"
    },
    {
     "data": {
      "image/png": "[encoded data removed]",
      "text/plain": [
       "<Figure size 432x288 with 1 Axes>"
      ]
     },
     "metadata": {
      "needs_background": "light"
     },
     "output_type": "display_data"
    }
   ],
   "source": [
    "plt.hist(cleaned_df[\"z_all_06\"])"
   ]
  },
  {
   "cell_type": "code",
   "execution_count": 21,
   "id": "3c26c9f4",
   "metadata": {},
   "outputs": [],
   "source": [
    "cleaned_df[\"zall06_cat\"] = pd.cut(cleaned_df[\"z_all_06\"],\n",
    "                               bins=[-np.inf, -0.75, -0.25, 0.25, 0.75, np.inf],\n",
    "                               labels=[1, 2, 3, 4, 5])"
   ]
  },
  {
   "cell_type": "code",
   "execution_count": 22,
   "id": "e1fbefc8",
   "metadata": {},
   "outputs": [
    {
     "data": {
      "text/plain": [
       "1     204\n",
       "5     212\n",
       "2     574\n",
       "4     962\n",
       "3    1193\n",
       "Name: zall06_cat, dtype: int64"
      ]
     },
     "execution_count": 22,
     "metadata": {},
     "output_type": "execute_result"
    }
   ],
   "source": [
    "cleaned_df[\"zall06_cat\"].value_counts().sort_values()"
   ]
  },
  {
   "cell_type": "code",
   "execution_count": 14,
   "id": "f1d538b1",
   "metadata": {},
   "outputs": [],
   "source": [
    "treatment = 'tr'\n",
    "outcome = 'z_all_06'\n",
    "covariates = list(cleaned_df.columns)\n",
    "covariates.remove(treatment)\n",
    "covariates.remove(outcome)\n",
    "covariates.remove(\"zall06_cat\")"
   ]
  },
  {
   "cell_type": "code",
   "execution_count": 15,
   "id": "5e5196e6",
   "metadata": {},
   "outputs": [
    {
     "data": {
      "text/plain": [
       "array([ 0.45015588,  0.01125175, -0.5053326 , ...,  0.43954134,\n",
       "        0.03532236, -0.03708899], dtype=float32)"
      ]
     },
     "execution_count": 15,
     "metadata": {},
     "output_type": "execute_result"
    }
   ],
   "source": [
    "cleaned_df.z_all_06.values"
   ]
  },
  {
   "cell_type": "code",
   "execution_count": 70,
   "id": "a8ef39ce",
   "metadata": {},
   "outputs": [],
   "source": [
    "from sklearn.model_selection import train_test_split\n",
    "# split data into train and test sets \n",
    "train, test = train_test_split(cleaned_df, stratify=cleaned_df.zall06_cat, test_size=0.2, random_state=0)\n",
    "\n",
    "# set variables for causal forest Y=outcome, T=treatment, X=covariates, W=effect_modifiers \n",
    "y_train = train[outcome]\n",
    "X_train = train[covariates+[\"tr\"]]\n",
    "X_train_all=train[covariates+[\"tr\"]+[outcome]]\n",
    "\n",
    "X_test = test[covariates+[\"tr\"]]\n",
    "y_test =  test[outcome]\n",
    "X_test_all=test[covariates+[\"tr\"]+[outcome]]"
   ]
  },
  {
   "cell_type": "code",
   "execution_count": 17,
   "id": "148d7555",
   "metadata": {},
   "outputs": [],
   "source": [
    "def display_scores(scores,model_name = None):\n",
    "    if(model_name):\n",
    "        print(\"----\",model_name,\"----\")\n",
    "    print(\"Mean:\", scores.mean())\n",
    "    print(\"Standard deviation:\", scores.std())"
   ]
  },
  {
   "cell_type": "code",
   "execution_count": 681,
   "id": "c66cac68",
   "metadata": {},
   "outputs": [
    {
     "name": "stdout",
     "output_type": "stream",
     "text": [
      "---- lin_reg ----\n",
      "Mean: 0.1749333502098888\n",
      "Standard deviation: 0.1299303829565213\n",
      "---- lin_reg ----\n",
      "Mean: 0.46466063792293644\n",
      "Standard deviation: 0.03697566347138594\n",
      "---- Random Forest ----\n",
      "Mean: 0.275131257083054\n",
      "Standard deviation: 0.08918137389371394\n",
      "---- Random Forest ----\n",
      "Mean: 0.4368676100624608\n",
      "Standard deviation: 0.04061713431103447\n",
      "---- XGboost ----\n",
      "Mean: 0.2223000572667897\n",
      "Standard deviation: 0.11736677113939557\n",
      "---- XGboost ----\n",
      "Mean: 0.4511720359325409\n",
      "Standard deviation: 0.04029210042367663\n"
     ]
    }
   ],
   "source": [
    "from sklearn.linear_model import LinearRegression\n",
    "from sklearn.ensemble import RandomForestRegressor\n",
    "import xgboost as xgb\n",
    "\n",
    "from sklearn.model_selection import cross_val_score\n",
    "\n",
    "lin_reg = LinearRegression()\n",
    "lin_reg.fit(X_train, y_train)\n",
    "\n",
    "forest_reg = RandomForestRegressor(random_state=42)\n",
    "forest_reg.fit(X_train, y_train)\n",
    "\n",
    "lightgbm = lgb.LGBMRegressor()\n",
    "lightgbm.fit(X_train,y_train)\n",
    "\n",
    " \n",
    "    # lets comare all of them \n",
    "models = [(lin_reg,\"lin_reg\"),\n",
    "          (forest_reg,'Random Forest'),\n",
    "          (xg_reg,\"XGboost\")]\n",
    "for model in models:\n",
    "    scores = cross_val_score(model[0], X_test, y_test, scoring='r2', cv=10)\n",
    "    display_scores(scores, model[1])\n",
    "    scores = cross_val_score(model[0], X_test, y_test, scoring='neg_root_mean_squared_error', cv=10)\n",
    "    display_scores(-scores, model[1])"
   ]
  },
  {
   "cell_type": "code",
   "execution_count": 661,
   "id": "b8d6ec5a",
   "metadata": {},
   "outputs": [],
   "source": [
    "from sklearn.model_selection import learning_curve\n",
    "\n",
    "def plot_learning_curve(clf, X_train, y_train, title):\n",
    "    train_sizes, train_scores, test_scores = learning_curve(\n",
    "        estimator=clf,\n",
    "        X=X_train,\n",
    "        y=y_train,\n",
    "        cv=3,\n",
    "        scoring=\"neg_root_mean_squared_error\",\n",
    "        train_sizes = [0.1, 0.2, 0.3, 0.4, 0.5, 0.6, 0.7, 0.8, 0.9, 1]\n",
    "    )\n",
    "\n",
    "    train_mean = -train_scores.mean(axis=1)\n",
    "    test_mean = -test_scores.mean(axis=1)\n",
    "\n",
    "    plt.subplots(figsize=(5,4))\n",
    "    plt.plot(train_sizes, train_mean, label=\"train\")\n",
    "    plt.plot(train_sizes, test_mean, label=\"validation\")\n",
    "    #plt.ylim(0,0.55)\n",
    "\n",
    "    plt.title(\"Learning Curve\"+title)\n",
    "    plt.xlabel(\"Training Set Size\")\n",
    "    plt.ylabel(\"RMSE\")\n",
    "    plt.legend(loc=\"best\")\n",
    "\n",
    "    plt.show()"
   ]
  },
  {
   "cell_type": "code",
   "execution_count": 72,
   "id": "d841ce70",
   "metadata": {},
   "outputs": [],
   "source": [
    "import lightgbm as lgb"
   ]
  },
  {
   "cell_type": "code",
   "execution_count": 73,
   "id": "b73e2e32",
   "metadata": {},
   "outputs": [],
   "source": [
    "best_lightgbm =lgb.LGBMRegressor(application='regression_l2', boosting_type='gbdt', \n",
    "                                  colsample_bytree=0.3004571253236143, extra_trees=True, \n",
    "                                  learning_rate= 0.07116177177396639, max_depth= 164,\n",
    "                                  min_child_weight= 0.00850418085429701, min_split_gain= 0.08258787964701664,\n",
    "                                  n_estimators=353, num_leaves= 101, reg_alpha= 0.006378130018392472,\n",
    "                                  reg_lambda=0.006971035283303719, subsample= 0.9530989839136036,\n",
    "                                  subsample_for_bin= 819, subsample_freq= 6)"
   ]
  },
  {
   "cell_type": "code",
   "execution_count": 74,
   "id": "3675377c",
   "metadata": {},
   "outputs": [],
   "source": [
    "best_lightgbm.fit(X_train, y_train)\n",
    "counterfactual=best_lightgbm.predict(counterfactual_df)"
   ]
  },
  {
   "cell_type": "code",
   "execution_count": 75,
   "id": "32b2b7ed",
   "metadata": {},
   "outputs": [
    {
     "data": {
      "text/plain": [
       "46"
      ]
     },
     "execution_count": 75,
     "metadata": {},
     "output_type": "execute_result"
    }
   ],
   "source": [
    "len(X_train_full.columns)"
   ]
  },
  {
   "cell_type": "code",
   "execution_count": 76,
   "id": "fc89b388",
   "metadata": {},
   "outputs": [
    {
     "data": {
      "text/plain": [
       "46"
      ]
     },
     "execution_count": 76,
     "metadata": {},
     "output_type": "execute_result"
    }
   ],
   "source": [
    "len(X_train.columns)"
   ]
  },
  {
   "cell_type": "code",
   "execution_count": 77,
   "id": "e155d282",
   "metadata": {},
   "outputs": [],
   "source": [
    "X_train_full=cleaned_df.drop([\"z_all_06\", \"zall06_cat\"], axis=1)\n",
    "y_train_full=cleaned_df.z_all_06"
   ]
  },
  {
   "cell_type": "code",
   "execution_count": 78,
   "id": "68aa22b8",
   "metadata": {},
   "outputs": [],
   "source": [
    "feature_importances=pd.Series(best_lightgbm.feature_importances_, index=X_train.columns).sort_values()"
   ]
  },
  {
   "cell_type": "code",
   "execution_count": 79,
   "id": "4344ae39",
   "metadata": {},
   "outputs": [
    {
     "data": {
      "text/plain": [
       "<AxesSubplot:>"
      ]
     },
     "execution_count": 79,
     "metadata": {},
     "output_type": "execute_result"
    },
    {
     "data": {
      "image/png": "[encoded data removed]",
      "text/plain": [
       "<Figure size 432x288 with 1 Axes>"
      ]
     },
     "metadata": {
      "needs_background": "light"
     },
     "output_type": "display_data"
    }
   ],
   "source": [
    "feature_importances[-25:].plot(kind='barh')"
   ]
  },
  {
   "cell_type": "code",
   "execution_count": 82,
   "id": "90262d50",
   "metadata": {},
   "outputs": [],
   "source": [
    "observed=cleaned_df[\"z_all_06\"]\n",
    "counterfactuals=pd.Series(counterfactual, index=observed.index)"
   ]
  },
  {
   "cell_type": "code",
   "execution_count": 83,
   "id": "9eea8cba",
   "metadata": {},
   "outputs": [],
   "source": [
    "ite_temp=pd.Series([observed[i]-counterfactuals[i] for i in observed.index if cleaned_df.tr[i]==1]\n",
    "                   , index=cleaned_df[cleaned_df.tr==1].index)\n",
    "ite_temp1=pd.Series([counterfactuals[i]-observed[i] for i in observed.index if cleaned_df.tr[i]==0]\n",
    "                    , index=cleaned_df[cleaned_df.tr==0].index)\n",
    "ite=pd.concat([ite_temp,ite_temp1])\n",
    "ite.sort_index(inplace=True)"
   ]
  },
  {
   "cell_type": "code",
   "execution_count": 84,
   "id": "e2cc8fa2",
   "metadata": {},
   "outputs": [
    {
     "data": {
      "text/plain": [
       "1       0.491251\n",
       "2      -0.203480\n",
       "3      -0.480164\n",
       "4      -0.376093\n",
       "6       0.194360\n",
       "          ...   \n",
       "3544    0.170264\n",
       "3545   -0.245288\n",
       "3546   -0.229480\n",
       "3547   -0.017525\n",
       "3548   -0.365705\n",
       "Length: 3145, dtype: float64"
      ]
     },
     "execution_count": 84,
     "metadata": {},
     "output_type": "execute_result"
    }
   ],
   "source": [
    "ite"
   ]
  },
  {
   "cell_type": "code",
   "execution_count": 85,
   "id": "c6a715ec",
   "metadata": {},
   "outputs": [],
   "source": [
    "def ate(X):\n",
    "\n",
    "    return np.mean(X[X.tr==1].z_all_06)-np.mean(X[X.tr==0].z_all_06)"
   ]
  },
  {
   "cell_type": "code",
   "execution_count": 86,
   "id": "1c23fad9",
   "metadata": {},
   "outputs": [
    {
     "data": {
      "text/plain": [
       "0.03728927858173847"
      ]
     },
     "execution_count": 86,
     "metadata": {},
     "output_type": "execute_result"
    }
   ],
   "source": [
    "ate(cleaned_df)"
   ]
  },
  {
   "cell_type": "code",
   "execution_count": 87,
   "id": "5f9fda6d",
   "metadata": {},
   "outputs": [
    {
     "data": {
      "text/plain": [
       "0.0425249096006155"
      ]
     },
     "execution_count": 87,
     "metadata": {},
     "output_type": "execute_result"
    }
   ],
   "source": [
    "ate(X_train_all)"
   ]
  },
  {
   "cell_type": "code",
   "execution_count": 97,
   "id": "988b14f8",
   "metadata": {},
   "outputs": [
    {
     "data": {
      "text/plain": [
       "0.42410761562863925"
      ]
     },
     "execution_count": 97,
     "metadata": {},
     "output_type": "execute_result"
    }
   ],
   "source": [
    "from sklearn.metrics import mean_squared_error\n",
    "\n",
    "np.sqrt(mean_squared_error(y_test, best_lightgbm.predict(X_test)))"
   ]
  },
  {
   "cell_type": "code",
   "execution_count": 88,
   "id": "0a2c9c8b",
   "metadata": {},
   "outputs": [
    {
     "data": {
      "text/plain": [
       "count    3145.000000\n",
       "mean        0.000122\n",
       "std         0.433429\n",
       "min        -2.234243\n",
       "25%        -0.228847\n",
       "50%         0.021152\n",
       "75%         0.263642\n",
       "max         2.080972\n",
       "dtype: float64"
      ]
     },
     "execution_count": 88,
     "metadata": {},
     "output_type": "execute_result"
    }
   ],
   "source": [
    "ite.describe()"
   ]
  },
  {
   "cell_type": "code",
   "execution_count": 100,
   "id": "9637ac18",
   "metadata": {},
   "outputs": [
    {
     "data": {
      "text/plain": [
       "<AxesSubplot:ylabel='Count'>"
      ]
     },
     "execution_count": 100,
     "metadata": {},
     "output_type": "execute_result"
    },
    {
     "data": {
      "image/png": "[encoded data removed]",
      "text/plain": [
       "<Figure size 432x288 with 1 Axes>"
      ]
     },
     "metadata": {
      "needs_background": "light"
     },
     "output_type": "display_data"
    }
   ],
   "source": [
    "import seaborn as sb\n",
    "\n",
    "sb.histplot(ite)"
   ]
  },
  {
   "cell_type": "code",
   "execution_count": 101,
   "id": "4f95d58b",
   "metadata": {},
   "outputs": [],
   "source": [
    "ite_df=counterfactual_df.copy()\n",
    "ite_df[\"ite\"]=ite"
   ]
  },
  {
   "cell_type": "code",
   "execution_count": 102,
   "id": "474cf47a",
   "metadata": {},
   "outputs": [],
   "source": [
    "ite_in=ite_df[['propfood_05', 'height_05', 'com_vit_05', 'com_waz_05',\n",
    "       'com_deworm_05']]"
   ]
  },
  {
   "cell_type": "code",
   "execution_count": 103,
   "id": "09c4fd08",
   "metadata": {},
   "outputs": [
    {
     "data": {
      "text/plain": [
       "DecisionTreeRegressor()"
      ]
     },
     "execution_count": 103,
     "metadata": {},
     "output_type": "execute_result"
    }
   ],
   "source": [
    "from sklearn.tree import DecisionTreeRegressor\n",
    "import graphviz\n",
    "import os \n",
    "\n",
    "dec_tree= DecisionTreeRegressor() \n",
    "dec_tree.fit(ite_in, ite_df)"
   ]
  },
  {
   "cell_type": "code",
   "execution_count": null,
   "id": "e6168c5e",
   "metadata": {},
   "outputs": [],
   "source": []
  },
  {
   "cell_type": "code",
   "execution_count": null,
   "id": "633b0d33",
   "metadata": {},
   "outputs": [],
   "source": [
    "os.environ[\"PATH\"] += os.pathsep + 'C:\\Program Files\\Graphviz/bin/'\n",
    "# DOT data\n",
    "dot_data = sklearn.tree.export_graphviz(dec_tree, out_file=None, \n",
    "                                feature_names=['propfood_05', 'height_05', 'com_vit_05', 'com_waz_05','com_deworm_05']) \n",
    "                                \n",
    "graph = graphviz.Source(dot_data, format=\"pdf\") \n",
    "graph.render(\"ite_sbgp\", format=\"pdf\", view=False)"
   ]
  }
 ],
 "metadata": {
  "kernelspec": {
   "display_name": "Python 3 (ipykernel)",
   "language": "python",
   "name": "python3"
  },
  "language_info": {
   "codemirror_mode": {
    "name": "ipython",
    "version": 3
   },
   "file_extension": ".py",
   "mimetype": "text/x-python",
   "name": "python",
   "nbconvert_exporter": "python",
   "pygments_lexer": "ipython3",
   "version": "3.8.8"
  }
 },
 "nbformat": 4,
 "nbformat_minor": 5
}
