{
 "cells": [
  {
   "cell_type": "code",
   "execution_count": 1,
   "id": "8b33a126",
   "metadata": {},
   "outputs": [],
   "source": [
    "import warnings\n",
    "warnings.simplefilter(action='ignore', category=FutureWarning)\n",
    "import pandas as pd\n",
    "import matplotlib.pyplot as plt\n",
    "import numpy as np\n",
    "import sklearn "
   ]
  },
  {
   "cell_type": "code",
   "execution_count": 2,
   "id": "5c4ce38f",
   "metadata": {},
   "outputs": [],
   "source": [
    "#Read main data to DataFrame\n",
    "cleaned_df = pd.read_csv('processed_data/cleaned_df.csv', index_col=0)  "
   ]
  },
  {
   "cell_type": "code",
   "execution_count": 3,
   "id": "ac4db177",
   "metadata": {},
   "outputs": [],
   "source": [
    "df_original = pd.read_stata('Cash_and_Childhood_Development_Replication/macoursetal_main.dta')  \n",
    "\n",
    "df_out=df_original[[\"a5sscore_i_06\",\"a6smemory_p1_06\",\"a6smemory_p2_06\",\"a7a_delay_06\",\"a7b_delay_06\",\n",
    "        \"a7c_delay_06\",\"a7d_delay_06\",\"a9sgrossmotor_06\",\"height_06\",\"weight_06\",\"z_tvip_06\",\"z_social_06\",\n",
    "        \"z_language_06\",\"z_finmotor_06\",\"z_memory_06\",\"z_grmotor_06\",\"z_legmotor_06\",\"z_behavior_06\",\"z_height_06\",\n",
    "        \"z_weight_06\",\"z_all_06\"]]"
   ]
  },
  {
   "cell_type": "code",
   "execution_count": 4,
   "id": "804f28af",
   "metadata": {},
   "outputs": [],
   "source": [
    "cleaned_df.drop(cleaned_df[df_out.iloc[cleaned_df.index].z_all_06.isna()].index, axis=0, inplace=True)"
   ]
  },
  {
   "cell_type": "code",
   "execution_count": 5,
   "id": "b42f0fc3",
   "metadata": {},
   "outputs": [],
   "source": [
    "cleaned_df[\"z_all_06\"]=df_out.iloc[cleaned_df.index].z_all_06"
   ]
  },
  {
   "cell_type": "code",
   "execution_count": 6,
   "id": "447af8fc",
   "metadata": {},
   "outputs": [],
   "source": [
    "cp_cols=[\"hogarid_old\"]"
   ]
  },
  {
   "cell_type": "code",
   "execution_count": 7,
   "id": "1c10e43c",
   "metadata": {},
   "outputs": [],
   "source": [
    "cleaned_df.drop(cp_cols, axis=1, inplace=True)"
   ]
  },
  {
   "cell_type": "code",
   "execution_count": 8,
   "id": "eb37a28f",
   "metadata": {},
   "outputs": [],
   "source": [
    "def outlier_removal(df, cols):\n",
    "    outlier_threshold = []\n",
    "    for col in cols:\n",
    "            q3 = np.nanpercentile(df[col], 75)\n",
    "            q1 = np.nanpercentile(df[col], 25)\n",
    "            iqr = q3 - q1\n",
    "            out_low = q1 - 3*iqr\n",
    "            out_high = q3 + 3*iqr\n",
    "            outlier_threshold.append([out_low, out_high])\n",
    "    outliers_indexs=[]\n",
    "    for col,k in zip(cols,range(len(cols))):\n",
    "        #outliers_indexs_in_col=[]\n",
    "        for i in df[col].index:\n",
    "            if df[col][i]<outlier_threshold[k][0] or df[col][i]>outlier_threshold[k][1]:\n",
    "                outliers_indexs.append(i)\n",
    "        #outliers_indexs.append(outliers_indexs_in_col)\n",
    "    return df.drop(list(set(outliers_indexs)), axis=0)\n",
    "\n",
    "cleaned_df=outlier_removal(cleaned_df, [\"z_all_06\"])"
   ]
  },
  {
   "cell_type": "code",
   "execution_count": 9,
   "id": "f797c117",
   "metadata": {},
   "outputs": [
    {
     "data": {
      "text/plain": [
       "<matplotlib.collections.PathCollection at 0x2a0c3395280>"
      ]
     },
     "execution_count": 9,
     "metadata": {},
     "output_type": "execute_result"
    },
    {
     "data": {
      "image/png": "[encoded data removed]",
      "text/plain": [
       "<Figure size 432x288 with 1 Axes>"
      ]
     },
     "metadata": {
      "needs_background": "light"
     },
     "output_type": "display_data"
    }
   ],
   "source": [
    "plt.scatter([i for i in range(len(cleaned_df[\"z_all_06\"].sort_values().values))], cleaned_df[\"z_all_06\"].sort_values().values)"
   ]
  },
  {
   "cell_type": "code",
   "execution_count": 10,
   "id": "5ecc01ed",
   "metadata": {},
   "outputs": [
    {
     "data": {
      "text/plain": [
       "(array([ 22.,  29.,  72., 166., 517., 921., 907., 409.,  96.,   6.]),\n",
       " array([-2.1753304 , -1.7871083 , -1.3988862 , -1.0106641 , -0.62244195,\n",
       "        -0.23421985,  0.15400226,  0.54222435,  0.9304465 ,  1.3186686 ,\n",
       "         1.7068907 ], dtype=float32),\n",
       " <BarContainer object of 10 artists>)"
      ]
     },
     "execution_count": 10,
     "metadata": {},
     "output_type": "execute_result"
    },
    {
     "data": {
      "image/png": "[encoded data removed]",
      "text/plain": [
       "<Figure size 432x288 with 1 Axes>"
      ]
     },
     "metadata": {
      "needs_background": "light"
     },
     "output_type": "display_data"
    }
   ],
   "source": [
    "plt.hist(cleaned_df[\"z_all_06\"])"
   ]
  },
  {
   "cell_type": "code",
   "execution_count": 11,
   "id": "3c26c9f4",
   "metadata": {},
   "outputs": [],
   "source": [
    "cleaned_df[\"zall06_cat\"] = pd.cut(cleaned_df[\"z_all_06\"],\n",
    "                               bins=[-np.inf, -0.75, -0.25, 0.25, 0.75, np.inf],\n",
    "                               labels=[1, 2, 3, 4, 5])"
   ]
  },
  {
   "cell_type": "code",
   "execution_count": 12,
   "id": "e1fbefc8",
   "metadata": {},
   "outputs": [
    {
     "data": {
      "text/plain": [
       "1     204\n",
       "5     212\n",
       "2     574\n",
       "4     962\n",
       "3    1193\n",
       "Name: zall06_cat, dtype: int64"
      ]
     },
     "execution_count": 12,
     "metadata": {},
     "output_type": "execute_result"
    }
   ],
   "source": [
    "cleaned_df[\"zall06_cat\"].value_counts().sort_values()"
   ]
  },
  {
   "cell_type": "code",
   "execution_count": 13,
   "id": "f1d538b1",
   "metadata": {},
   "outputs": [],
   "source": [
    "treatment = 'tr'\n",
    "outcome = 'z_all_06'\n",
    "covariates = list(cleaned_df.columns)\n",
    "covariates.remove(treatment)\n",
    "covariates.remove(outcome)\n",
    "covariates.remove(\"zall06_cat\")"
   ]
  },
  {
   "cell_type": "code",
   "execution_count": 14,
   "id": "5e5196e6",
   "metadata": {},
   "outputs": [
    {
     "data": {
      "text/plain": [
       "array([ 0.45015588,  0.01125175, -0.5053326 , ...,  0.43954134,\n",
       "        0.03532236, -0.03708899], dtype=float32)"
      ]
     },
     "execution_count": 14,
     "metadata": {},
     "output_type": "execute_result"
    }
   ],
   "source": [
    "cleaned_df.z_all_06.values"
   ]
  },
  {
   "cell_type": "code",
   "execution_count": 15,
   "id": "a8ef39ce",
   "metadata": {},
   "outputs": [],
   "source": [
    "from sklearn.model_selection import train_test_split\n",
    "# split data into train and test sets \n",
    "train, test = train_test_split(cleaned_df, stratify=cleaned_df.zall06_cat, test_size=0.2, random_state=0)\n",
    "\n",
    "# set variables for causal forest Y=outcome, T=treatment, X=covariates, W=effect_modifiers \n",
    "y_train = train[outcome]\n",
    "X_train = train[covariates+[\"tr\"]]\n",
    "X_train_all=train[covariates+[\"tr\"]+[outcome]]\n",
    "\n",
    "X_test = test[covariates+[\"tr\"]]\n",
    "y_test =  test[outcome]\n",
    "X_test_all=test[covariates+[\"tr\"]+[outcome]]"
   ]
  },
  {
   "cell_type": "code",
   "execution_count": 16,
   "id": "148d7555",
   "metadata": {},
   "outputs": [],
   "source": [
    "def display_scores(scores,model_name = None):\n",
    "    if(model_name):\n",
    "        print(\"----\",model_name,\"----\")\n",
    "    print(\"Mean:\", scores.mean())\n",
    "    print(\"Standard deviation:\", scores.std())"
   ]
  },
  {
   "cell_type": "code",
   "execution_count": 17,
   "id": "b8d6ec5a",
   "metadata": {},
   "outputs": [],
   "source": [
    "from sklearn.model_selection import learning_curve\n",
    "\n",
    "def plot_learning_curve(clf, X_train, y_train, title):\n",
    "    train_sizes, train_scores, test_scores = learning_curve(\n",
    "        estimator=clf,\n",
    "        X=X_train,\n",
    "        y=y_train,\n",
    "        cv=3,\n",
    "        scoring=\"neg_root_mean_squared_error\",\n",
    "        train_sizes = [0.1, 0.2, 0.3, 0.4, 0.5, 0.6, 0.7, 0.8, 0.9, 1]\n",
    "    )\n",
    "\n",
    "    train_mean = -train_scores.mean(axis=1)\n",
    "    test_mean = -test_scores.mean(axis=1)\n",
    "\n",
    "    plt.subplots(figsize=(5,4))\n",
    "    plt.plot(train_sizes, train_mean, label=\"train\")\n",
    "    plt.plot(train_sizes, test_mean, label=\"validation\")\n",
    "    #plt.ylim(0,0.55)\n",
    "\n",
    "    plt.title(\"Learning Curve\"+title)\n",
    "    plt.xlabel(\"Training Set Size\")\n",
    "    plt.ylabel(\"RMSE\")\n",
    "    plt.legend(loc=\"best\")\n",
    "\n",
    "    plt.show()"
   ]
  },
  {
   "cell_type": "code",
   "execution_count": 18,
   "id": "d841ce70",
   "metadata": {},
   "outputs": [],
   "source": [
    "import lightgbm as lgb"
   ]
  },
  {
   "cell_type": "code",
   "execution_count": 19,
   "id": "67457587",
   "metadata": {},
   "outputs": [],
   "source": [
    "counterfactual_df=cleaned_df.drop([\"z_all_06\", \"zall06_cat\"],axis=1)\n",
    "a=counterfactual_df[\"tr\"]+1\n",
    "counterfactual_df[\"tr\"]=a%2"
   ]
  },
  {
   "cell_type": "code",
   "execution_count": 20,
   "id": "b73e2e32",
   "metadata": {},
   "outputs": [],
   "source": [
    "best_lightgbm =lgb.LGBMRegressor(application='regression_l2', boosting_type='gbdt', \n",
    "                                  colsample_bytree=0.3004571253236143, extra_trees=True, \n",
    "                                  learning_rate= 0.07116177177396639, max_depth= 164,\n",
    "                                  min_child_weight= 0.00850418085429701, min_split_gain= 0.08258787964701664,\n",
    "                                  n_estimators=353, num_leaves= 101, reg_alpha= 0.006378130018392472,\n",
    "                                  reg_lambda=0.006971035283303719, subsample= 0.9530989839136036,\n",
    "                                  subsample_for_bin= 819, subsample_freq= 6)"
   ]
  },
  {
   "cell_type": "code",
   "execution_count": 21,
   "id": "3675377c",
   "metadata": {},
   "outputs": [],
   "source": [
    "best_lightgbm.fit(X_train, y_train)\n",
    "counterfactual=best_lightgbm.predict(counterfactual_df)"
   ]
  },
  {
   "cell_type": "code",
   "execution_count": 22,
   "id": "68aa22b8",
   "metadata": {},
   "outputs": [],
   "source": [
    "feature_importances=pd.Series(best_lightgbm.feature_importances_, index=X_train.columns).sort_values()"
   ]
  },
  {
   "cell_type": "code",
   "execution_count": 23,
   "id": "4344ae39",
   "metadata": {},
   "outputs": [
    {
     "data": {
      "text/plain": [
       "<AxesSubplot:>"
      ]
     },
     "execution_count": 23,
     "metadata": {},
     "output_type": "execute_result"
    },
    {
     "data": {
      "image/png": "[encoded data removed]",
      "text/plain": [
       "<Figure size 432x288 with 1 Axes>"
      ]
     },
     "metadata": {
      "needs_background": "light"
     },
     "output_type": "display_data"
    }
   ],
   "source": [
    "feature_importances[-25:].plot(kind='barh')"
   ]
  },
  {
   "cell_type": "code",
   "execution_count": 24,
   "id": "90262d50",
   "metadata": {},
   "outputs": [],
   "source": [
    "observed=cleaned_df[\"z_all_06\"]\n",
    "counterfactuals=pd.Series(counterfactual, index=observed.index)"
   ]
  },
  {
   "cell_type": "code",
   "execution_count": 25,
   "id": "9eea8cba",
   "metadata": {},
   "outputs": [],
   "source": [
    "ite_temp=pd.Series([observed[i]-counterfactuals[i] for i in observed.index if cleaned_df.tr[i]==1]\n",
    "                   , index=cleaned_df[cleaned_df.tr==1].index)\n",
    "ite_temp1=pd.Series([counterfactuals[i]-observed[i] for i in observed.index if cleaned_df.tr[i]==0]\n",
    "                    , index=cleaned_df[cleaned_df.tr==0].index)\n",
    "ite=pd.concat([ite_temp,ite_temp1])\n",
    "ite.sort_index(inplace=True)"
   ]
  },
  {
   "cell_type": "code",
   "execution_count": 30,
   "id": "4f95d58b",
   "metadata": {},
   "outputs": [],
   "source": [
    "ite_df=counterfactual_df.copy()\n",
    "ite_df.drop([\"tr\"], axis=1, inplace=True)\n",
    "ite_df[\"ite\"]=ite"
   ]
  },
  {
   "cell_type": "code",
   "execution_count": 31,
   "id": "474cf47a",
   "metadata": {},
   "outputs": [],
   "source": [
    "ite_in=ite_df.drop(\"ite\", axis=1).copy()"
   ]
  },
  {
   "cell_type": "code",
   "execution_count": 212,
   "id": "09c4fd08",
   "metadata": {},
   "outputs": [
    {
     "data": {
      "image/svg+xml": [
       "<?xml version=\"1.0\" encoding=\"UTF-8\" standalone=\"no\"?>\n",
       "<!DOCTYPE svg PUBLIC \"-//W3C//DTD SVG 1.1//EN\"\n",
       " \"http://www.w3.org/Graphics/SVG/1.1/DTD/svg11.dtd\">\n",
       "<!-- Generated by graphviz version 3.0.0 (20220226.1711)\n",
       " -->\n",
       "<!-- Title: Tree Pages: 1 -->\n",
       "<svg width=\"782pt\" height=\"373pt\"\n",
       " viewBox=\"0.00 0.00 782.00 373.00\" xmlns=\"http://www.w3.org/2000/svg\" xmlns:xlink=\"http://www.w3.org/1999/xlink\">\n",
       "<g id=\"graph0\" class=\"graph\" transform=\"scale(1 1) rotate(0) translate(4 369)\">\n",
       "<title>Tree</title>\n",
       "<polygon fill=\"white\" stroke=\"transparent\" points=\"-4,4 -4,-369 778,-369 778,4 -4,4\"/>\n",
       "<!-- 0 -->\n",
       "<g id=\"node1\" class=\"node\">\n",
       "<title>0</title>\n",
       "<path fill=\"#f7d8c2\" stroke=\"black\" d=\"M432,-365C432,-365 267,-365 267,-365 261,-365 255,-359 255,-353 255,-353 255,-309 255,-309 255,-303 261,-297 267,-297 267,-297 432,-297 432,-297 438,-297 444,-303 444,-309 444,-309 444,-353 444,-353 444,-359 438,-365 432,-365\"/>\n",
       "<text text-anchor=\"middle\" x=\"349.5\" y=\"-349.8\" font-family=\"Helvetica,sans-Serif\" font-size=\"14.00\">com_deworm_05 &lt;= 0.213</text>\n",
       "<text text-anchor=\"middle\" x=\"349.5\" y=\"-334.8\" font-family=\"Helvetica,sans-Serif\" font-size=\"14.00\">squared_error = 0.188</text>\n",
       "<text text-anchor=\"middle\" x=\"349.5\" y=\"-319.8\" font-family=\"Helvetica,sans-Serif\" font-size=\"14.00\">samples = 3145</text>\n",
       "<text text-anchor=\"middle\" x=\"349.5\" y=\"-304.8\" font-family=\"Helvetica,sans-Serif\" font-size=\"14.00\">value = 0.0</text>\n",
       "</g>\n",
       "<!-- 1 -->\n",
       "<g id=\"node2\" class=\"node\">\n",
       "<title>1</title>\n",
       "<path fill=\"#eead7e\" stroke=\"black\" d=\"M329.5,-261C329.5,-261 181.5,-261 181.5,-261 175.5,-261 169.5,-255 169.5,-249 169.5,-249 169.5,-205 169.5,-205 169.5,-199 175.5,-193 181.5,-193 181.5,-193 329.5,-193 329.5,-193 335.5,-193 341.5,-199 341.5,-205 341.5,-205 341.5,-249 341.5,-249 341.5,-255 335.5,-261 329.5,-261\"/>\n",
       "<text text-anchor=\"middle\" x=\"255.5\" y=\"-245.8\" font-family=\"Helvetica,sans-Serif\" font-size=\"14.00\">s1hhsz_5_14_05 &lt;= 2.5</text>\n",
       "<text text-anchor=\"middle\" x=\"255.5\" y=\"-230.8\" font-family=\"Helvetica,sans-Serif\" font-size=\"14.00\">squared_error = 0.378</text>\n",
       "<text text-anchor=\"middle\" x=\"255.5\" y=\"-215.8\" font-family=\"Helvetica,sans-Serif\" font-size=\"14.00\">samples = 40</text>\n",
       "<text text-anchor=\"middle\" x=\"255.5\" y=\"-200.8\" font-family=\"Helvetica,sans-Serif\" font-size=\"14.00\">value = 0.444</text>\n",
       "</g>\n",
       "<!-- 0&#45;&gt;1 -->\n",
       "<g id=\"edge1\" class=\"edge\">\n",
       "<title>0&#45;&gt;1</title>\n",
       "<path fill=\"none\" stroke=\"black\" d=\"M318.98,-296.88C310.69,-287.89 301.62,-278.04 292.99,-268.68\"/>\n",
       "<polygon fill=\"black\" stroke=\"black\" points=\"295.54,-266.28 286.19,-261.3 290.39,-271.02 295.54,-266.28\"/>\n",
       "<text text-anchor=\"middle\" x=\"285.17\" y=\"-282.58\" font-family=\"Helvetica,sans-Serif\" font-size=\"14.00\">True</text>\n",
       "</g>\n",
       "<!-- 6 -->\n",
       "<g id=\"node7\" class=\"node\">\n",
       "<title>6</title>\n",
       "<path fill=\"#f7d9c3\" stroke=\"black\" d=\"M515,-261C515,-261 372,-261 372,-261 366,-261 360,-255 360,-249 360,-249 360,-205 360,-205 360,-199 366,-193 372,-193 372,-193 515,-193 515,-193 521,-193 527,-199 527,-205 527,-205 527,-249 527,-249 527,-255 521,-261 515,-261\"/>\n",
       "<text text-anchor=\"middle\" x=\"443.5\" y=\"-245.8\" font-family=\"Helvetica,sans-Serif\" font-size=\"14.00\">com_waz_05 &lt;= &#45;2.462</text>\n",
       "<text text-anchor=\"middle\" x=\"443.5\" y=\"-230.8\" font-family=\"Helvetica,sans-Serif\" font-size=\"14.00\">squared_error = 0.183</text>\n",
       "<text text-anchor=\"middle\" x=\"443.5\" y=\"-215.8\" font-family=\"Helvetica,sans-Serif\" font-size=\"14.00\">samples = 3105</text>\n",
       "<text text-anchor=\"middle\" x=\"443.5\" y=\"-200.8\" font-family=\"Helvetica,sans-Serif\" font-size=\"14.00\">value = &#45;0.006</text>\n",
       "</g>\n",
       "<!-- 0&#45;&gt;6 -->\n",
       "<g id=\"edge6\" class=\"edge\">\n",
       "<title>0&#45;&gt;6</title>\n",
       "<path fill=\"none\" stroke=\"black\" d=\"M380.02,-296.88C388.31,-287.89 397.38,-278.04 406.01,-268.68\"/>\n",
       "<polygon fill=\"black\" stroke=\"black\" points=\"408.61,-271.02 412.81,-261.3 403.46,-266.28 408.61,-271.02\"/>\n",
       "<text text-anchor=\"middle\" x=\"413.83\" y=\"-282.58\" font-family=\"Helvetica,sans-Serif\" font-size=\"14.00\">False</text>\n",
       "</g>\n",
       "<!-- 2 -->\n",
       "<g id=\"node3\" class=\"node\">\n",
       "<title>2</title>\n",
       "<path fill=\"#ea9a60\" stroke=\"black\" d=\"M155,-157C155,-157 20,-157 20,-157 14,-157 8,-151 8,-145 8,-145 8,-101 8,-101 8,-95 14,-89 20,-89 20,-89 155,-89 155,-89 161,-89 167,-95 167,-101 167,-101 167,-145 167,-145 167,-151 161,-157 155,-157\"/>\n",
       "<text text-anchor=\"middle\" x=\"87.5\" y=\"-141.8\" font-family=\"Helvetica,sans-Serif\" font-size=\"14.00\">male &lt;= 0.5</text>\n",
       "<text text-anchor=\"middle\" x=\"87.5\" y=\"-126.8\" font-family=\"Helvetica,sans-Serif\" font-size=\"14.00\">squared_error = 0.421</text>\n",
       "<text text-anchor=\"middle\" x=\"87.5\" y=\"-111.8\" font-family=\"Helvetica,sans-Serif\" font-size=\"14.00\">samples = 24</text>\n",
       "<text text-anchor=\"middle\" x=\"87.5\" y=\"-96.8\" font-family=\"Helvetica,sans-Serif\" font-size=\"14.00\">value = 0.64</text>\n",
       "</g>\n",
       "<!-- 1&#45;&gt;2 -->\n",
       "<g id=\"edge2\" class=\"edge\">\n",
       "<title>1&#45;&gt;2</title>\n",
       "<path fill=\"none\" stroke=\"black\" d=\"M200.96,-192.88C185.03,-183.21 167.49,-172.56 151.06,-162.59\"/>\n",
       "<polygon fill=\"black\" stroke=\"black\" points=\"152.42,-159.32 142.06,-157.12 148.79,-165.31 152.42,-159.32\"/>\n",
       "</g>\n",
       "<!-- 5 -->\n",
       "<g id=\"node6\" class=\"node\">\n",
       "<title>5</title>\n",
       "<path fill=\"#f4caab\" stroke=\"black\" d=\"M324,-149.5C324,-149.5 197,-149.5 197,-149.5 191,-149.5 185,-143.5 185,-137.5 185,-137.5 185,-108.5 185,-108.5 185,-102.5 191,-96.5 197,-96.5 197,-96.5 324,-96.5 324,-96.5 330,-96.5 336,-102.5 336,-108.5 336,-108.5 336,-137.5 336,-137.5 336,-143.5 330,-149.5 324,-149.5\"/>\n",
       "<text text-anchor=\"middle\" x=\"260.5\" y=\"-134.3\" font-family=\"Helvetica,sans-Serif\" font-size=\"14.00\">squared_error = 0.17</text>\n",
       "<text text-anchor=\"middle\" x=\"260.5\" y=\"-119.3\" font-family=\"Helvetica,sans-Serif\" font-size=\"14.00\">samples = 16</text>\n",
       "<text text-anchor=\"middle\" x=\"260.5\" y=\"-104.3\" font-family=\"Helvetica,sans-Serif\" font-size=\"14.00\">value = 0.149</text>\n",
       "</g>\n",
       "<!-- 1&#45;&gt;5 -->\n",
       "<g id=\"edge5\" class=\"edge\">\n",
       "<title>1&#45;&gt;5</title>\n",
       "<path fill=\"none\" stroke=\"black\" d=\"M257.12,-192.88C257.65,-182.22 258.23,-170.35 258.76,-159.52\"/>\n",
       "<polygon fill=\"black\" stroke=\"black\" points=\"262.26,-159.68 259.25,-149.52 255.26,-159.34 262.26,-159.68\"/>\n",
       "</g>\n",
       "<!-- 3 -->\n",
       "<g id=\"node4\" class=\"node\">\n",
       "<title>3</title>\n",
       "<path fill=\"#f1bc95\" stroke=\"black\" d=\"M147,-53C147,-53 12,-53 12,-53 6,-53 0,-47 0,-41 0,-41 0,-12 0,-12 0,-6 6,0 12,0 12,0 147,0 147,0 153,0 159,-6 159,-12 159,-12 159,-41 159,-41 159,-47 153,-53 147,-53\"/>\n",
       "<text text-anchor=\"middle\" x=\"79.5\" y=\"-37.8\" font-family=\"Helvetica,sans-Serif\" font-size=\"14.00\">squared_error = 0.161</text>\n",
       "<text text-anchor=\"middle\" x=\"79.5\" y=\"-22.8\" font-family=\"Helvetica,sans-Serif\" font-size=\"14.00\">samples = 10</text>\n",
       "<text text-anchor=\"middle\" x=\"79.5\" y=\"-7.8\" font-family=\"Helvetica,sans-Serif\" font-size=\"14.00\">value = 0.29</text>\n",
       "</g>\n",
       "<!-- 2&#45;&gt;3 -->\n",
       "<g id=\"edge3\" class=\"edge\">\n",
       "<title>2&#45;&gt;3</title>\n",
       "<path fill=\"none\" stroke=\"black\" d=\"M84.7,-88.95C84,-80.62 83.24,-71.65 82.52,-63.2\"/>\n",
       "<polygon fill=\"black\" stroke=\"black\" points=\"86.01,-62.91 81.68,-53.24 79.03,-63.5 86.01,-62.91\"/>\n",
       "</g>\n",
       "<!-- 4 -->\n",
       "<g id=\"node5\" class=\"node\">\n",
       "<title>4</title>\n",
       "<path fill=\"#e58139\" stroke=\"black\" d=\"M324,-53C324,-53 189,-53 189,-53 183,-53 177,-47 177,-41 177,-41 177,-12 177,-12 177,-6 183,0 189,0 189,0 324,0 324,0 330,0 336,-6 336,-12 336,-12 336,-41 336,-41 336,-47 330,-53 324,-53\"/>\n",
       "<text text-anchor=\"middle\" x=\"256.5\" y=\"-37.8\" font-family=\"Helvetica,sans-Serif\" font-size=\"14.00\">squared_error = 0.457</text>\n",
       "<text text-anchor=\"middle\" x=\"256.5\" y=\"-22.8\" font-family=\"Helvetica,sans-Serif\" font-size=\"14.00\">samples = 14</text>\n",
       "<text text-anchor=\"middle\" x=\"256.5\" y=\"-7.8\" font-family=\"Helvetica,sans-Serif\" font-size=\"14.00\">value = 0.89</text>\n",
       "</g>\n",
       "<!-- 2&#45;&gt;4 -->\n",
       "<g id=\"edge4\" class=\"edge\">\n",
       "<title>2&#45;&gt;4</title>\n",
       "<path fill=\"none\" stroke=\"black\" d=\"M146.61,-88.95C164.52,-78.93 184.11,-67.98 201.73,-58.13\"/>\n",
       "<polygon fill=\"black\" stroke=\"black\" points=\"203.72,-61.02 210.74,-53.09 200.31,-54.91 203.72,-61.02\"/>\n",
       "</g>\n",
       "<!-- 7 -->\n",
       "<g id=\"node8\" class=\"node\">\n",
       "<title>7</title>\n",
       "<path fill=\"#eda978\" stroke=\"black\" d=\"M502,-149.5C502,-149.5 375,-149.5 375,-149.5 369,-149.5 363,-143.5 363,-137.5 363,-137.5 363,-108.5 363,-108.5 363,-102.5 369,-96.5 375,-96.5 375,-96.5 502,-96.5 502,-96.5 508,-96.5 514,-102.5 514,-108.5 514,-108.5 514,-137.5 514,-137.5 514,-143.5 508,-149.5 502,-149.5\"/>\n",
       "<text text-anchor=\"middle\" x=\"438.5\" y=\"-134.3\" font-family=\"Helvetica,sans-Serif\" font-size=\"14.00\">squared_error = 0.34</text>\n",
       "<text text-anchor=\"middle\" x=\"438.5\" y=\"-119.3\" font-family=\"Helvetica,sans-Serif\" font-size=\"14.00\">samples = 17</text>\n",
       "<text text-anchor=\"middle\" x=\"438.5\" y=\"-104.3\" font-family=\"Helvetica,sans-Serif\" font-size=\"14.00\">value = 0.479</text>\n",
       "</g>\n",
       "<!-- 6&#45;&gt;7 -->\n",
       "<g id=\"edge7\" class=\"edge\">\n",
       "<title>6&#45;&gt;7</title>\n",
       "<path fill=\"none\" stroke=\"black\" d=\"M441.88,-192.88C441.35,-182.22 440.77,-170.35 440.24,-159.52\"/>\n",
       "<polygon fill=\"black\" stroke=\"black\" points=\"443.74,-159.34 439.75,-149.52 436.74,-159.68 443.74,-159.34\"/>\n",
       "</g>\n",
       "<!-- 8 -->\n",
       "<g id=\"node9\" class=\"node\">\n",
       "<title>8</title>\n",
       "<path fill=\"#f7d9c3\" stroke=\"black\" d=\"M679,-157C679,-157 544,-157 544,-157 538,-157 532,-151 532,-145 532,-145 532,-101 532,-101 532,-95 538,-89 544,-89 544,-89 679,-89 679,-89 685,-89 691,-95 691,-101 691,-101 691,-145 691,-145 691,-151 685,-157 679,-157\"/>\n",
       "<text text-anchor=\"middle\" x=\"611.5\" y=\"-141.8\" font-family=\"Helvetica,sans-Serif\" font-size=\"14.00\">weight_05 &lt;= &#45;2.733</text>\n",
       "<text text-anchor=\"middle\" x=\"611.5\" y=\"-126.8\" font-family=\"Helvetica,sans-Serif\" font-size=\"14.00\">squared_error = 0.181</text>\n",
       "<text text-anchor=\"middle\" x=\"611.5\" y=\"-111.8\" font-family=\"Helvetica,sans-Serif\" font-size=\"14.00\">samples = 3088</text>\n",
       "<text text-anchor=\"middle\" x=\"611.5\" y=\"-96.8\" font-family=\"Helvetica,sans-Serif\" font-size=\"14.00\">value = &#45;0.008</text>\n",
       "</g>\n",
       "<!-- 6&#45;&gt;8 -->\n",
       "<g id=\"edge8\" class=\"edge\">\n",
       "<title>6&#45;&gt;8</title>\n",
       "<path fill=\"none\" stroke=\"black\" d=\"M498.04,-192.88C513.97,-183.21 531.51,-172.56 547.94,-162.59\"/>\n",
       "<polygon fill=\"black\" stroke=\"black\" points=\"550.21,-165.31 556.94,-157.12 546.58,-159.32 550.21,-165.31\"/>\n",
       "</g>\n",
       "<!-- 9 -->\n",
       "<g id=\"node10\" class=\"node\">\n",
       "<title>9</title>\n",
       "<path fill=\"#ffffff\" stroke=\"black\" d=\"M585,-53C585,-53 450,-53 450,-53 444,-53 438,-47 438,-41 438,-41 438,-12 438,-12 438,-6 444,0 450,0 450,0 585,0 585,0 591,0 597,-6 597,-12 597,-12 597,-41 597,-41 597,-47 591,-53 585,-53\"/>\n",
       "<text text-anchor=\"middle\" x=\"517.5\" y=\"-37.8\" font-family=\"Helvetica,sans-Serif\" font-size=\"14.00\">squared_error = 0.244</text>\n",
       "<text text-anchor=\"middle\" x=\"517.5\" y=\"-22.8\" font-family=\"Helvetica,sans-Serif\" font-size=\"14.00\">samples = 29</text>\n",
       "<text text-anchor=\"middle\" x=\"517.5\" y=\"-7.8\" font-family=\"Helvetica,sans-Serif\" font-size=\"14.00\">value = &#45;0.395</text>\n",
       "</g>\n",
       "<!-- 8&#45;&gt;9 -->\n",
       "<g id=\"edge9\" class=\"edge\">\n",
       "<title>8&#45;&gt;9</title>\n",
       "<path fill=\"none\" stroke=\"black\" d=\"M578.62,-88.95C569.43,-79.71 559.45,-69.67 550.26,-60.44\"/>\n",
       "<polygon fill=\"black\" stroke=\"black\" points=\"552.63,-57.86 543.1,-53.24 547.67,-62.79 552.63,-57.86\"/>\n",
       "</g>\n",
       "<!-- 10 -->\n",
       "<g id=\"node11\" class=\"node\">\n",
       "<title>10</title>\n",
       "<path fill=\"#f7d9c3\" stroke=\"black\" d=\"M762,-53C762,-53 627,-53 627,-53 621,-53 615,-47 615,-41 615,-41 615,-12 615,-12 615,-6 621,0 627,0 627,0 762,0 762,0 768,0 774,-6 774,-12 774,-12 774,-41 774,-41 774,-47 768,-53 762,-53\"/>\n",
       "<text text-anchor=\"middle\" x=\"694.5\" y=\"-37.8\" font-family=\"Helvetica,sans-Serif\" font-size=\"14.00\">squared_error = 0.179</text>\n",
       "<text text-anchor=\"middle\" x=\"694.5\" y=\"-22.8\" font-family=\"Helvetica,sans-Serif\" font-size=\"14.00\">samples = 3059</text>\n",
       "<text text-anchor=\"middle\" x=\"694.5\" y=\"-7.8\" font-family=\"Helvetica,sans-Serif\" font-size=\"14.00\">value = &#45;0.005</text>\n",
       "</g>\n",
       "<!-- 8&#45;&gt;10 -->\n",
       "<g id=\"edge10\" class=\"edge\">\n",
       "<title>8&#45;&gt;10</title>\n",
       "<path fill=\"none\" stroke=\"black\" d=\"M640.53,-88.95C648.48,-79.89 657.11,-70.07 665.09,-60.99\"/>\n",
       "<polygon fill=\"black\" stroke=\"black\" points=\"667.93,-63.06 671.9,-53.24 662.67,-58.44 667.93,-63.06\"/>\n",
       "</g>\n",
       "</g>\n",
       "</svg>\n"
      ],
      "text/plain": [
       "<graphviz.sources.Source at 0x2a0cdf962b0>"
      ]
     },
     "execution_count": 212,
     "metadata": {},
     "output_type": "execute_result"
    }
   ],
   "source": [
    "from sklearn import tree\n",
    "from sklearn.tree import DecisionTreeRegressor\n",
    "import graphviz\n",
    "import os \n",
    "\n",
    "dec_tree= DecisionTreeRegressor(max_depth=3, min_samples_leaf=10).fit(ite_in, ite_df.ite)\n",
    "\n",
    "dot_data = tree.export_graphviz(dec_tree, out_file=None, \n",
    "                                feature_names=ite_in.columns, filled=True,\n",
    "                               rounded=True)\n",
    "\n",
    "# Draw graph\n",
    "graph = graphviz.Source(dot_data, format=\"png\") \n",
    "graph"
   ]
  },
  {
   "cell_type": "code",
   "execution_count": 310,
   "id": "666497a5",
   "metadata": {},
   "outputs": [],
   "source": [
    "dot_data = tree.export_graphviz(dec_tree, out_file=None, \n",
    "                                feature_names=ite_in.columns, filled=True,\n",
    "                               rounded=True)\n"
   ]
  },
  {
   "cell_type": "code",
   "execution_count": 311,
   "id": "beaa49d9",
   "metadata": {},
   "outputs": [
    {
     "data": {
      "text/plain": [
       "'digraph Tree {\\nnode [shape=box, style=\"filled, rounded\", color=\"black\", fontname=\"helvetica\"] ;\\nedge [fontname=\"helvetica\"] ;\\n0 [label=\"com_deworm_05 <= 0.213\\\\nsquared_error = 0.188\\\\nsamples = 3145\\\\nvalue = 0.0\", fillcolor=\"#f7d8c2\"] ;\\n1 [label=\"s1hhsz_5_14_05 <= 2.5\\\\nsquared_error = 0.378\\\\nsamples = 40\\\\nvalue = 0.444\", fillcolor=\"#eead7e\"] ;\\n0 -> 1 [labeldistance=2.5, labelangle=45, headlabel=\"True\"] ;\\n2 [label=\"male <= 0.5\\\\nsquared_error = 0.421\\\\nsamples = 24\\\\nvalue = 0.64\", fillcolor=\"#ea9a60\"] ;\\n1 -> 2 ;\\n3 [label=\"squared_error = 0.161\\\\nsamples = 10\\\\nvalue = 0.29\", fillcolor=\"#f1bc95\"] ;\\n2 -> 3 ;\\n4 [label=\"squared_error = 0.457\\\\nsamples = 14\\\\nvalue = 0.89\", fillcolor=\"#e58139\"] ;\\n2 -> 4 ;\\n5 [label=\"squared_error = 0.17\\\\nsamples = 16\\\\nvalue = 0.149\", fillcolor=\"#f4caab\"] ;\\n1 -> 5 ;\\n6 [label=\"com_waz_05 <= -2.462\\\\nsquared_error = 0.183\\\\nsamples = 3105\\\\nvalue = -0.006\", fillcolor=\"#f7d9c3\"] ;\\n0 -> 6 [labeldistance=2.5, labelangle=-45, headlabel=\"False\"] ;\\n7 [label=\"squared_error = 0.34\\\\nsamples = 17\\\\nvalue = 0.479\", fillcolor=\"#eda978\"] ;\\n6 -> 7 ;\\n8 [label=\"weight_05 <= -2.733\\\\nsquared_error = 0.181\\\\nsamples = 3088\\\\nvalue = -0.008\", fillcolor=\"#f7d9c3\"] ;\\n6 -> 8 ;\\n9 [label=\"squared_error = 0.244\\\\nsamples = 29\\\\nvalue = -0.395\", fillcolor=\"#ffffff\"] ;\\n8 -> 9 ;\\n10 [label=\"squared_error = 0.179\\\\nsamples = 3059\\\\nvalue = -0.005\", fillcolor=\"#f7d9c3\"] ;\\n8 -> 10 ;\\n}'"
      ]
     },
     "execution_count": 311,
     "metadata": {},
     "output_type": "execute_result"
    }
   ],
   "source": [
    "dot_data"
   ]
  },
  {
   "cell_type": "code",
   "execution_count": 279,
   "id": "0fcecf8f",
   "metadata": {},
   "outputs": [],
   "source": [
    "new_values=[0.14567]*11#aquest valors seran els cates de la funcio cate_tree que hi ha més avall"
   ]
  },
  {
   "cell_type": "code",
   "execution_count": 321,
   "id": "e0a13350",
   "metadata": {},
   "outputs": [],
   "source": [
    "def replace_values (dot_data, new_values):\n",
    "    inici=0\n",
    "    for i in range(len(new_values)):\n",
    "        index=dot_data[inici:].find(\"nvalue = \")+9+inici\n",
    "        word=dot_data[index:index+6]\n",
    "        long=len([int(s) for s in list(word) if s.isdigit()])\n",
    "        signe=len([1 for s in list(word) if s==\"-\"])\n",
    "        number=dot_data[index:index+long+1+signe]\n",
    "        inici=index+long+1+signe\n",
    "        old=\"nvalue = \"+number\n",
    "        new=\"nvalue = \"+str(new_values[i])\n",
    "        dot_data=dot_data.replace(old, new, 1)\n",
    "    return dot_data"
   ]
  },
  {
   "cell_type": "code",
   "execution_count": 323,
   "id": "3be6127c",
   "metadata": {
    "scrolled": true
   },
   "outputs": [],
   "source": [
    "dot_data_new=replace_values (dot_data, new_values)"
   ]
  },
  {
   "cell_type": "code",
   "execution_count": 324,
   "id": "1cbe11fc",
   "metadata": {},
   "outputs": [
    {
     "data": {
      "image/svg+xml": [
       "<?xml version=\"1.0\" encoding=\"UTF-8\" standalone=\"no\"?>\n",
       "<!DOCTYPE svg PUBLIC \"-//W3C//DTD SVG 1.1//EN\"\n",
       " \"http://www.w3.org/Graphics/SVG/1.1/DTD/svg11.dtd\">\n",
       "<!-- Generated by graphviz version 3.0.0 (20220226.1711)\n",
       " -->\n",
       "<!-- Title: Tree Pages: 1 -->\n",
       "<svg width=\"782pt\" height=\"373pt\"\n",
       " viewBox=\"0.00 0.00 782.00 373.00\" xmlns=\"http://www.w3.org/2000/svg\" xmlns:xlink=\"http://www.w3.org/1999/xlink\">\n",
       "<g id=\"graph0\" class=\"graph\" transform=\"scale(1 1) rotate(0) translate(4 369)\">\n",
       "<title>Tree</title>\n",
       "<polygon fill=\"white\" stroke=\"transparent\" points=\"-4,4 -4,-369 778,-369 778,4 -4,4\"/>\n",
       "<!-- 0 -->\n",
       "<g id=\"node1\" class=\"node\">\n",
       "<title>0</title>\n",
       "<path fill=\"#f7d8c2\" stroke=\"black\" d=\"M432,-365C432,-365 267,-365 267,-365 261,-365 255,-359 255,-353 255,-353 255,-309 255,-309 255,-303 261,-297 267,-297 267,-297 432,-297 432,-297 438,-297 444,-303 444,-309 444,-309 444,-353 444,-353 444,-359 438,-365 432,-365\"/>\n",
       "<text text-anchor=\"middle\" x=\"349.5\" y=\"-349.8\" font-family=\"Helvetica,sans-Serif\" font-size=\"14.00\">com_deworm_05 &lt;= 0.213</text>\n",
       "<text text-anchor=\"middle\" x=\"349.5\" y=\"-334.8\" font-family=\"Helvetica,sans-Serif\" font-size=\"14.00\">squared_error = 0.188</text>\n",
       "<text text-anchor=\"middle\" x=\"349.5\" y=\"-319.8\" font-family=\"Helvetica,sans-Serif\" font-size=\"14.00\">samples = 3145</text>\n",
       "<text text-anchor=\"middle\" x=\"349.5\" y=\"-304.8\" font-family=\"Helvetica,sans-Serif\" font-size=\"14.00\">value = 0.14567</text>\n",
       "</g>\n",
       "<!-- 1 -->\n",
       "<g id=\"node2\" class=\"node\">\n",
       "<title>1</title>\n",
       "<path fill=\"#eead7e\" stroke=\"black\" d=\"M329.5,-261C329.5,-261 181.5,-261 181.5,-261 175.5,-261 169.5,-255 169.5,-249 169.5,-249 169.5,-205 169.5,-205 169.5,-199 175.5,-193 181.5,-193 181.5,-193 329.5,-193 329.5,-193 335.5,-193 341.5,-199 341.5,-205 341.5,-205 341.5,-249 341.5,-249 341.5,-255 335.5,-261 329.5,-261\"/>\n",
       "<text text-anchor=\"middle\" x=\"255.5\" y=\"-245.8\" font-family=\"Helvetica,sans-Serif\" font-size=\"14.00\">s1hhsz_5_14_05 &lt;= 2.5</text>\n",
       "<text text-anchor=\"middle\" x=\"255.5\" y=\"-230.8\" font-family=\"Helvetica,sans-Serif\" font-size=\"14.00\">squared_error = 0.378</text>\n",
       "<text text-anchor=\"middle\" x=\"255.5\" y=\"-215.8\" font-family=\"Helvetica,sans-Serif\" font-size=\"14.00\">samples = 40</text>\n",
       "<text text-anchor=\"middle\" x=\"255.5\" y=\"-200.8\" font-family=\"Helvetica,sans-Serif\" font-size=\"14.00\">value = 0.14567</text>\n",
       "</g>\n",
       "<!-- 0&#45;&gt;1 -->\n",
       "<g id=\"edge1\" class=\"edge\">\n",
       "<title>0&#45;&gt;1</title>\n",
       "<path fill=\"none\" stroke=\"black\" d=\"M318.98,-296.88C310.69,-287.89 301.62,-278.04 292.99,-268.68\"/>\n",
       "<polygon fill=\"black\" stroke=\"black\" points=\"295.54,-266.28 286.19,-261.3 290.39,-271.02 295.54,-266.28\"/>\n",
       "<text text-anchor=\"middle\" x=\"285.17\" y=\"-282.58\" font-family=\"Helvetica,sans-Serif\" font-size=\"14.00\">True</text>\n",
       "</g>\n",
       "<!-- 6 -->\n",
       "<g id=\"node7\" class=\"node\">\n",
       "<title>6</title>\n",
       "<path fill=\"#f7d9c3\" stroke=\"black\" d=\"M515,-261C515,-261 372,-261 372,-261 366,-261 360,-255 360,-249 360,-249 360,-205 360,-205 360,-199 366,-193 372,-193 372,-193 515,-193 515,-193 521,-193 527,-199 527,-205 527,-205 527,-249 527,-249 527,-255 521,-261 515,-261\"/>\n",
       "<text text-anchor=\"middle\" x=\"443.5\" y=\"-245.8\" font-family=\"Helvetica,sans-Serif\" font-size=\"14.00\">com_waz_05 &lt;= &#45;2.462</text>\n",
       "<text text-anchor=\"middle\" x=\"443.5\" y=\"-230.8\" font-family=\"Helvetica,sans-Serif\" font-size=\"14.00\">squared_error = 0.183</text>\n",
       "<text text-anchor=\"middle\" x=\"443.5\" y=\"-215.8\" font-family=\"Helvetica,sans-Serif\" font-size=\"14.00\">samples = 3105</text>\n",
       "<text text-anchor=\"middle\" x=\"443.5\" y=\"-200.8\" font-family=\"Helvetica,sans-Serif\" font-size=\"14.00\">value = 0.14567</text>\n",
       "</g>\n",
       "<!-- 0&#45;&gt;6 -->\n",
       "<g id=\"edge6\" class=\"edge\">\n",
       "<title>0&#45;&gt;6</title>\n",
       "<path fill=\"none\" stroke=\"black\" d=\"M380.02,-296.88C388.31,-287.89 397.38,-278.04 406.01,-268.68\"/>\n",
       "<polygon fill=\"black\" stroke=\"black\" points=\"408.61,-271.02 412.81,-261.3 403.46,-266.28 408.61,-271.02\"/>\n",
       "<text text-anchor=\"middle\" x=\"413.83\" y=\"-282.58\" font-family=\"Helvetica,sans-Serif\" font-size=\"14.00\">False</text>\n",
       "</g>\n",
       "<!-- 2 -->\n",
       "<g id=\"node3\" class=\"node\">\n",
       "<title>2</title>\n",
       "<path fill=\"#ea9a60\" stroke=\"black\" d=\"M155,-157C155,-157 20,-157 20,-157 14,-157 8,-151 8,-145 8,-145 8,-101 8,-101 8,-95 14,-89 20,-89 20,-89 155,-89 155,-89 161,-89 167,-95 167,-101 167,-101 167,-145 167,-145 167,-151 161,-157 155,-157\"/>\n",
       "<text text-anchor=\"middle\" x=\"87.5\" y=\"-141.8\" font-family=\"Helvetica,sans-Serif\" font-size=\"14.00\">male &lt;= 0.5</text>\n",
       "<text text-anchor=\"middle\" x=\"87.5\" y=\"-126.8\" font-family=\"Helvetica,sans-Serif\" font-size=\"14.00\">squared_error = 0.421</text>\n",
       "<text text-anchor=\"middle\" x=\"87.5\" y=\"-111.8\" font-family=\"Helvetica,sans-Serif\" font-size=\"14.00\">samples = 24</text>\n",
       "<text text-anchor=\"middle\" x=\"87.5\" y=\"-96.8\" font-family=\"Helvetica,sans-Serif\" font-size=\"14.00\">value = 0.14567</text>\n",
       "</g>\n",
       "<!-- 1&#45;&gt;2 -->\n",
       "<g id=\"edge2\" class=\"edge\">\n",
       "<title>1&#45;&gt;2</title>\n",
       "<path fill=\"none\" stroke=\"black\" d=\"M200.96,-192.88C185.03,-183.21 167.49,-172.56 151.06,-162.59\"/>\n",
       "<polygon fill=\"black\" stroke=\"black\" points=\"152.42,-159.32 142.06,-157.12 148.79,-165.31 152.42,-159.32\"/>\n",
       "</g>\n",
       "<!-- 5 -->\n",
       "<g id=\"node6\" class=\"node\">\n",
       "<title>5</title>\n",
       "<path fill=\"#f4caab\" stroke=\"black\" d=\"M324,-149.5C324,-149.5 197,-149.5 197,-149.5 191,-149.5 185,-143.5 185,-137.5 185,-137.5 185,-108.5 185,-108.5 185,-102.5 191,-96.5 197,-96.5 197,-96.5 324,-96.5 324,-96.5 330,-96.5 336,-102.5 336,-108.5 336,-108.5 336,-137.5 336,-137.5 336,-143.5 330,-149.5 324,-149.5\"/>\n",
       "<text text-anchor=\"middle\" x=\"260.5\" y=\"-134.3\" font-family=\"Helvetica,sans-Serif\" font-size=\"14.00\">squared_error = 0.17</text>\n",
       "<text text-anchor=\"middle\" x=\"260.5\" y=\"-119.3\" font-family=\"Helvetica,sans-Serif\" font-size=\"14.00\">samples = 16</text>\n",
       "<text text-anchor=\"middle\" x=\"260.5\" y=\"-104.3\" font-family=\"Helvetica,sans-Serif\" font-size=\"14.00\">value = 0.14567</text>\n",
       "</g>\n",
       "<!-- 1&#45;&gt;5 -->\n",
       "<g id=\"edge5\" class=\"edge\">\n",
       "<title>1&#45;&gt;5</title>\n",
       "<path fill=\"none\" stroke=\"black\" d=\"M257.12,-192.88C257.65,-182.22 258.23,-170.35 258.76,-159.52\"/>\n",
       "<polygon fill=\"black\" stroke=\"black\" points=\"262.26,-159.68 259.25,-149.52 255.26,-159.34 262.26,-159.68\"/>\n",
       "</g>\n",
       "<!-- 3 -->\n",
       "<g id=\"node4\" class=\"node\">\n",
       "<title>3</title>\n",
       "<path fill=\"#f1bc95\" stroke=\"black\" d=\"M147,-53C147,-53 12,-53 12,-53 6,-53 0,-47 0,-41 0,-41 0,-12 0,-12 0,-6 6,0 12,0 12,0 147,0 147,0 153,0 159,-6 159,-12 159,-12 159,-41 159,-41 159,-47 153,-53 147,-53\"/>\n",
       "<text text-anchor=\"middle\" x=\"79.5\" y=\"-37.8\" font-family=\"Helvetica,sans-Serif\" font-size=\"14.00\">squared_error = 0.161</text>\n",
       "<text text-anchor=\"middle\" x=\"79.5\" y=\"-22.8\" font-family=\"Helvetica,sans-Serif\" font-size=\"14.00\">samples = 10</text>\n",
       "<text text-anchor=\"middle\" x=\"79.5\" y=\"-7.8\" font-family=\"Helvetica,sans-Serif\" font-size=\"14.00\">value = 0.14567</text>\n",
       "</g>\n",
       "<!-- 2&#45;&gt;3 -->\n",
       "<g id=\"edge3\" class=\"edge\">\n",
       "<title>2&#45;&gt;3</title>\n",
       "<path fill=\"none\" stroke=\"black\" d=\"M84.7,-88.95C84,-80.62 83.24,-71.65 82.52,-63.2\"/>\n",
       "<polygon fill=\"black\" stroke=\"black\" points=\"86.01,-62.91 81.68,-53.24 79.03,-63.5 86.01,-62.91\"/>\n",
       "</g>\n",
       "<!-- 4 -->\n",
       "<g id=\"node5\" class=\"node\">\n",
       "<title>4</title>\n",
       "<path fill=\"#e58139\" stroke=\"black\" d=\"M324,-53C324,-53 189,-53 189,-53 183,-53 177,-47 177,-41 177,-41 177,-12 177,-12 177,-6 183,0 189,0 189,0 324,0 324,0 330,0 336,-6 336,-12 336,-12 336,-41 336,-41 336,-47 330,-53 324,-53\"/>\n",
       "<text text-anchor=\"middle\" x=\"256.5\" y=\"-37.8\" font-family=\"Helvetica,sans-Serif\" font-size=\"14.00\">squared_error = 0.457</text>\n",
       "<text text-anchor=\"middle\" x=\"256.5\" y=\"-22.8\" font-family=\"Helvetica,sans-Serif\" font-size=\"14.00\">samples = 14</text>\n",
       "<text text-anchor=\"middle\" x=\"256.5\" y=\"-7.8\" font-family=\"Helvetica,sans-Serif\" font-size=\"14.00\">value = 0.14567</text>\n",
       "</g>\n",
       "<!-- 2&#45;&gt;4 -->\n",
       "<g id=\"edge4\" class=\"edge\">\n",
       "<title>2&#45;&gt;4</title>\n",
       "<path fill=\"none\" stroke=\"black\" d=\"M146.61,-88.95C164.52,-78.93 184.11,-67.98 201.73,-58.13\"/>\n",
       "<polygon fill=\"black\" stroke=\"black\" points=\"203.72,-61.02 210.74,-53.09 200.31,-54.91 203.72,-61.02\"/>\n",
       "</g>\n",
       "<!-- 7 -->\n",
       "<g id=\"node8\" class=\"node\">\n",
       "<title>7</title>\n",
       "<path fill=\"#eda978\" stroke=\"black\" d=\"M502,-149.5C502,-149.5 375,-149.5 375,-149.5 369,-149.5 363,-143.5 363,-137.5 363,-137.5 363,-108.5 363,-108.5 363,-102.5 369,-96.5 375,-96.5 375,-96.5 502,-96.5 502,-96.5 508,-96.5 514,-102.5 514,-108.5 514,-108.5 514,-137.5 514,-137.5 514,-143.5 508,-149.5 502,-149.5\"/>\n",
       "<text text-anchor=\"middle\" x=\"438.5\" y=\"-134.3\" font-family=\"Helvetica,sans-Serif\" font-size=\"14.00\">squared_error = 0.34</text>\n",
       "<text text-anchor=\"middle\" x=\"438.5\" y=\"-119.3\" font-family=\"Helvetica,sans-Serif\" font-size=\"14.00\">samples = 17</text>\n",
       "<text text-anchor=\"middle\" x=\"438.5\" y=\"-104.3\" font-family=\"Helvetica,sans-Serif\" font-size=\"14.00\">value = 0.14567</text>\n",
       "</g>\n",
       "<!-- 6&#45;&gt;7 -->\n",
       "<g id=\"edge7\" class=\"edge\">\n",
       "<title>6&#45;&gt;7</title>\n",
       "<path fill=\"none\" stroke=\"black\" d=\"M441.88,-192.88C441.35,-182.22 440.77,-170.35 440.24,-159.52\"/>\n",
       "<polygon fill=\"black\" stroke=\"black\" points=\"443.74,-159.34 439.75,-149.52 436.74,-159.68 443.74,-159.34\"/>\n",
       "</g>\n",
       "<!-- 8 -->\n",
       "<g id=\"node9\" class=\"node\">\n",
       "<title>8</title>\n",
       "<path fill=\"#f7d9c3\" stroke=\"black\" d=\"M679,-157C679,-157 544,-157 544,-157 538,-157 532,-151 532,-145 532,-145 532,-101 532,-101 532,-95 538,-89 544,-89 544,-89 679,-89 679,-89 685,-89 691,-95 691,-101 691,-101 691,-145 691,-145 691,-151 685,-157 679,-157\"/>\n",
       "<text text-anchor=\"middle\" x=\"611.5\" y=\"-141.8\" font-family=\"Helvetica,sans-Serif\" font-size=\"14.00\">weight_05 &lt;= &#45;2.733</text>\n",
       "<text text-anchor=\"middle\" x=\"611.5\" y=\"-126.8\" font-family=\"Helvetica,sans-Serif\" font-size=\"14.00\">squared_error = 0.181</text>\n",
       "<text text-anchor=\"middle\" x=\"611.5\" y=\"-111.8\" font-family=\"Helvetica,sans-Serif\" font-size=\"14.00\">samples = 3088</text>\n",
       "<text text-anchor=\"middle\" x=\"611.5\" y=\"-96.8\" font-family=\"Helvetica,sans-Serif\" font-size=\"14.00\">value = 0.14567</text>\n",
       "</g>\n",
       "<!-- 6&#45;&gt;8 -->\n",
       "<g id=\"edge8\" class=\"edge\">\n",
       "<title>6&#45;&gt;8</title>\n",
       "<path fill=\"none\" stroke=\"black\" d=\"M498.04,-192.88C513.97,-183.21 531.51,-172.56 547.94,-162.59\"/>\n",
       "<polygon fill=\"black\" stroke=\"black\" points=\"550.21,-165.31 556.94,-157.12 546.58,-159.32 550.21,-165.31\"/>\n",
       "</g>\n",
       "<!-- 9 -->\n",
       "<g id=\"node10\" class=\"node\">\n",
       "<title>9</title>\n",
       "<path fill=\"#ffffff\" stroke=\"black\" d=\"M585,-53C585,-53 450,-53 450,-53 444,-53 438,-47 438,-41 438,-41 438,-12 438,-12 438,-6 444,0 450,0 450,0 585,0 585,0 591,0 597,-6 597,-12 597,-12 597,-41 597,-41 597,-47 591,-53 585,-53\"/>\n",
       "<text text-anchor=\"middle\" x=\"517.5\" y=\"-37.8\" font-family=\"Helvetica,sans-Serif\" font-size=\"14.00\">squared_error = 0.244</text>\n",
       "<text text-anchor=\"middle\" x=\"517.5\" y=\"-22.8\" font-family=\"Helvetica,sans-Serif\" font-size=\"14.00\">samples = 29</text>\n",
       "<text text-anchor=\"middle\" x=\"517.5\" y=\"-7.8\" font-family=\"Helvetica,sans-Serif\" font-size=\"14.00\">value = 0.14567</text>\n",
       "</g>\n",
       "<!-- 8&#45;&gt;9 -->\n",
       "<g id=\"edge9\" class=\"edge\">\n",
       "<title>8&#45;&gt;9</title>\n",
       "<path fill=\"none\" stroke=\"black\" d=\"M578.62,-88.95C569.43,-79.71 559.45,-69.67 550.26,-60.44\"/>\n",
       "<polygon fill=\"black\" stroke=\"black\" points=\"552.63,-57.86 543.1,-53.24 547.67,-62.79 552.63,-57.86\"/>\n",
       "</g>\n",
       "<!-- 10 -->\n",
       "<g id=\"node11\" class=\"node\">\n",
       "<title>10</title>\n",
       "<path fill=\"#f7d9c3\" stroke=\"black\" d=\"M762,-53C762,-53 627,-53 627,-53 621,-53 615,-47 615,-41 615,-41 615,-12 615,-12 615,-6 621,0 627,0 627,0 762,0 762,0 768,0 774,-6 774,-12 774,-12 774,-41 774,-41 774,-47 768,-53 762,-53\"/>\n",
       "<text text-anchor=\"middle\" x=\"694.5\" y=\"-37.8\" font-family=\"Helvetica,sans-Serif\" font-size=\"14.00\">squared_error = 0.179</text>\n",
       "<text text-anchor=\"middle\" x=\"694.5\" y=\"-22.8\" font-family=\"Helvetica,sans-Serif\" font-size=\"14.00\">samples = 3059</text>\n",
       "<text text-anchor=\"middle\" x=\"694.5\" y=\"-7.8\" font-family=\"Helvetica,sans-Serif\" font-size=\"14.00\">value = 0.14567</text>\n",
       "</g>\n",
       "<!-- 8&#45;&gt;10 -->\n",
       "<g id=\"edge10\" class=\"edge\">\n",
       "<title>8&#45;&gt;10</title>\n",
       "<path fill=\"none\" stroke=\"black\" d=\"M640.53,-88.95C648.48,-79.89 657.11,-70.07 665.09,-60.99\"/>\n",
       "<polygon fill=\"black\" stroke=\"black\" points=\"667.93,-63.06 671.9,-53.24 662.67,-58.44 667.93,-63.06\"/>\n",
       "</g>\n",
       "</g>\n",
       "</svg>\n"
      ],
      "text/plain": [
       "<graphviz.sources.Source at 0x2a0ce1894c0>"
      ]
     },
     "execution_count": 324,
     "metadata": {},
     "output_type": "execute_result"
    }
   ],
   "source": [
    "graph = graphviz.Source(dot_data_new, format=\"png\") \n",
    "graph"
   ]
  },
  {
   "cell_type": "code",
   "execution_count": 196,
   "id": "5fc4fb39",
   "metadata": {},
   "outputs": [],
   "source": [
    "#cate: donat un subgrup del nostre dataset, en calcula el cate\n",
    "\n",
    "def cate(df):\n",
    "    t=df[df.tr==1].z_al_06 \n",
    "    c=df[df.tr==1].z_al_06\n",
    "    \n",
    "    if((len(t) or len(c))==0):\n",
    "        cate= -999\n",
    "    else:\n",
    "        cate= np.mean(t)-np.mean(c)\n",
    "    return cate"
   ]
  },
  {
   "cell_type": "code",
   "execution_count": 194,
   "id": "986f9cbc",
   "metadata": {},
   "outputs": [],
   "source": [
    "#donada una estructura d'arbre, i un dataset (control i tractament) retorna l'arbre amb el comput del cate a cada fulla\n",
    "\n",
    "def cate_tree(dec_tree, df):\n",
    "    tree_str=dec_tree.tree_\n",
    "    \n",
    "    #vector amb threshold dels splits (-2 si la fulla no te fills)\n",
    "    threshold=tree_str.threshold \n",
    "\n",
    "    #vector amb variable usada en cada split\n",
    "    numeric_features=tree_str.feature\n",
    "    num_leaves=len(tree_str.feature)\n",
    "    features=[]\n",
    "    for i in numeric_features:\n",
    "        if i>=0:\n",
    "            features.append(ite_in.columns[i])\n",
    "        else:\n",
    "            features.append(-2)\n",
    "\n",
    "    n_split=np.sum(threshold!=-2) #nombre de splits\n",
    "    df_vec=[] #vector amb els df dels subgrups de df que cauen a cada fulla\n",
    "    df_vec=[df.copy()]*n_leafs #posem el node inicial, els altres els reescriurem\n",
    "    index_vec=[[0]] #vector amb \n",
    "\n",
    "    for i in range(n_split):\n",
    "        for index in index_vec[i]: #per a cada nivell de l'arbre, creem un vector amb els fills de les fulles del nivell\n",
    "            if  threshold[index]!=-2:\n",
    "                left_children=tree_str.children_left[index]\n",
    "                right_children=tree_str.children_right[index]\n",
    "                index_vec.append( [left_children, right_children])\n",
    "\n",
    "                father_df=df_vec[index].copy()\n",
    "                df_vec[left_children]=father_df[father_df[features[index]]<=threshold[index]].copy()\n",
    "                df_vec[right_children]=father_df[father_df[features[index]]>threshold[index]].copy()\n",
    "\n"
   ]
  },
  {
   "cell_type": "code",
   "execution_count": null,
   "id": "61f1bc36",
   "metadata": {},
   "outputs": [],
   "source": []
  }
 ],
 "metadata": {
  "kernelspec": {
   "display_name": "Python 3 (ipykernel)",
   "language": "python",
   "name": "python3"
  },
  "language_info": {
   "codemirror_mode": {
    "name": "ipython",
    "version": 3
   },
   "file_extension": ".py",
   "mimetype": "text/x-python",
   "name": "python",
   "nbconvert_exporter": "python",
   "pygments_lexer": "ipython3",
   "version": "3.8.8"
  }
 },
 "nbformat": 4,
 "nbformat_minor": 5
}
