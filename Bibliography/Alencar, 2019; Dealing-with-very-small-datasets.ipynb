{
 "cells": [
  {
   "cell_type": "markdown",
   "metadata": {
    "_uuid": "86c7b637c8f0b16fdd573ac8ff6576ab82f47cdd"
   },
   "source": [
    "![](https://raw.githubusercontent.com/rafjaa/curso-mineracao-de-dados-aplicada/master/img/kernel_overfitting/creativity.jpg)\n",
    "\n",
    "# Dealing with very small datasets\n",
    "\n",
    "In this kernel we will see some techniques to handle very small datasets, where the main challenge is to avoid overfitting.\n",
    "\n",
    "1. <a href=\"#t1\">Why small datasets lead to overfitting?</a>\n",
    "2. <a href=\"#t2\">Use simple models</a>\n",
    "3. <a href=\"#t3\">Beware the outliers</a>\n",
    "4. <a href=\"#t4\">Select the features</a>\n",
    "5. <a href=\"#t5\">Balance the dataset with synthetic samples (SMOTE)</a>\n",
    "6. <a href=\"#t6\">Combine models for the final submission</a>\n",
    "7. <a href=\"#t7\">References</a>"
   ]
  },
  {
   "cell_type": "markdown",
   "metadata": {
    "_uuid": "c26cdecd580c5993bef9df0d694918a7151cd6e5"
   },
   "source": [
    "Let's load the data from the **Don't Overfit! II** competition:"
   ]
  },
  {
   "cell_type": "code",
   "execution_count": 1,
   "metadata": {
    "_cell_guid": "b1076dfc-b9ad-4769-8c92-a6c4dae69d19",
    "_uuid": "8f2839f25d086af736a60e9eeb907d3b93b6e0e5"
   },
   "outputs": [
    {
     "name": "stdout",
     "output_type": "stream",
     "text": [
      "Train rows: 250\n",
      "Test rows: 19750\n",
      "Data columns: 300\n"
     ]
    }
   ],
   "source": [
    "import warnings\n",
    "warnings.filterwarnings('ignore')\n",
    "\n",
    "import numpy as np\n",
    "import pandas as pd\n",
    "\n",
    "train = pd.read_csv('../input/train.csv')\n",
    "test = pd.read_csv('../input/test.csv')\n",
    "\n",
    "labels = train.columns.drop(['id', 'target'])\n",
    "target = train['target']\n",
    "\n",
    "print('Train rows:', train.shape[0])\n",
    "print('Test rows:', test.shape[0])\n",
    "print('Data columns:', test.columns.drop(['id']).shape[0])"
   ]
  },
  {
   "cell_type": "markdown",
   "metadata": {
    "_uuid": "d051facc3f1f4492636a0a8fab86b395b593c146"
   },
   "source": [
    "A visual inspection of the number of rows:"
   ]
  },
  {
   "cell_type": "code",
   "execution_count": 2,
   "metadata": {
    "_uuid": "6fd9e2a4a61f803057c2bc58c217a51968e56165"
   },
   "outputs": [
    {
     "data": {
      "image/png": "[encoded data removed]",
      "text/plain": [
       "<Figure size 432x288 with 1 Axes>"
      ]
     },
     "metadata": {},
     "output_type": "display_data"
    }
   ],
   "source": [
    "import matplotlib.pyplot as plt\n",
    "\n",
    "d_names = ('train.csv', 'test.csv')\n",
    "y_pos = range(len(d_names))\n",
    " \n",
    "plt.bar(\n",
    "    y_pos, \n",
    "    (train.shape[0], test.shape[0]), \n",
    "    align='center', \n",
    "    alpha=0.8\n",
    ")\n",
    "plt.xticks(y_pos, d_names)\n",
    "plt.ylabel('Number of rows') \n",
    "plt.title('😱 Wow!')\n",
    "plt.show()"
   ]
  },
  {
   "cell_type": "markdown",
   "metadata": {
    "_uuid": "a45eede83e544b588fe660c3cf8b77e23ef3ed75"
   },
   "source": [
    "<h1 id=\"t1\">1. Why small datasets lead to overfitting?</h1>\n",
    "\n",
    "The goal of a machine learning model is to **generalize** patterns in training data so that you can correctly predict new data that has never been presented to the model. Overfitting occurs when a model adjusts excessively to the training data, seeing patterns that do not exist, and consequently performing poorly in predicting new data:\n",
    "\n",
    "![](https://raw.githubusercontent.com/rafjaa/curso-mineracao-de-dados-aplicada/master/img/kernel_overfitting/under_over.png)\n",
    "<center><strong>Source:</strong> <a href=\"https://medium.com/@shubhapatnim86/generalisation-training-validation-test-data-machine-learning-part-6-1de9dbb7d3d5\">https://medium.com/@shubhapatnim86/generalisation-training-validation-test-data-machine-learning-part-6-1de9dbb7d3d5</a></center>\n",
    "\n",
    "<br>\n",
    "\n",
    "The fewer samples for training, the more models can fit our data. In an extreme example (a), for just one training point, any model will be able to \"explain\" it, however simple or complex the model may be. As we get to have more samples (b, c), fewer models are able to explain them:\n",
    "\n",
    "![](https://raw.githubusercontent.com/rafjaa/curso-mineracao-de-dados-aplicada/master/img/kernel_overfitting/few_samples.png)\n",
    "<center><strong>Source:</strong> <a href=\"https://towardsdatascience.com/breaking-the-curse-of-small-datasets-in-machine-learning-part-1-36f28b0c044d\">https://towardsdatascience.com/breaking-the-curse-of-small-datasets-in-machine-learning-part-1-36f28b0c044d</a></center>\n",
    "\n",
    "<br>\n",
    "\n",
    "That way, for a dataset with only 250 samples, we need to be very careful not to be fooled by overfitting. In this kernel we will see some tips that can help.\n",
    "\n",
    "![](https://raw.githubusercontent.com/rafjaa/curso-mineracao-de-dados-aplicada/master/img/kernel_overfitting/meme1.jpeg)"
   ]
  },
  {
   "cell_type": "markdown",
   "metadata": {
    "_uuid": "4c86e4397232fa5e9ca6033629233a669dd4ca47"
   },
   "source": [
    "<h1 id=\"t2\">2. Use simple models</h1>\n",
    "\n",
    "As we saw, few samples allow several models to \"explain\" the data. By thinking graphically, complex models can make crazy curves that will almost perfectly explain the training data, but possibly will perform poorly over the test data.\n",
    "\n",
    "![](https://raw.githubusercontent.com/rafjaa/curso-mineracao-de-dados-aplicada/master/img/kernel_overfitting/overfitting_curve.png)\n",
    "<center><strong>Source:</strong> <a href=\"https://bioinfo.iric.ca/overfitting-and-regularization/\">https://bioinfo.iric.ca/overfitting-and-regularization/</a></center>\n",
    "\n",
    "<br>\n",
    "\n",
    "Avoid complex models with many parameters, thus limiting their generalization and possibility of overfitting. Regularization techniques like L1 and L2 also help make the models more conservative. For tree-based models, reducing their maximum depth also limits the model's ability to see patterns and non-existent relationships.\n",
    "\n",
    "A good model to get started is Logistic Regression, a linear model used when the dependent variable (target) is categorical (classification tasks).\n",
    "\n",
    "![](https://raw.githubusercontent.com/rafjaa/curso-mineracao-de-dados-aplicada/master/img/kernel_overfitting/logisticregression.png)\n",
    "<center><strong>Source:</strong> <a href=\"https://towardsdatascience.com/logistic-regression-detailed-overview-46c4da4303bc\">https://towardsdatascience.com/logistic-regression-detailed-overview-46c4da4303bc</a></center>\n",
    "\n",
    "<br>\n",
    "\n",
    "In this model, we can control the regularization by means of the <code>penalty</code> and <code>C</code> parameters (inverse of regularization strength - smaller values specify stronger regularization) to deal with the overfitting:"
   ]
  },
  {
   "cell_type": "code",
   "execution_count": 3,
   "metadata": {
    "_uuid": "af6bee68c72fc1f24980cdf910b4af276523cab5"
   },
   "outputs": [
    {
     "data": {
      "text/plain": [
       "array([0.73113342, 0.61589892, 0.64559318, ..., 0.45603746, 0.84490201,\n",
       "       0.31434359])"
      ]
     },
     "execution_count": 3,
     "metadata": {},
     "output_type": "execute_result"
    }
   ],
   "source": [
    "from sklearn.linear_model import LogisticRegression\n",
    "\n",
    "m = LogisticRegression(\n",
    "    penalty='l1',\n",
    "    C=0.1\n",
    ")\n",
    "m.fit(train[labels], target)\n",
    "m.predict_proba(test[labels])[:,1]"
   ]
  },
  {
   "cell_type": "markdown",
   "metadata": {
    "_uuid": "0cc6dd4980e4aacbd3e42ea806bab09839175851"
   },
   "source": [
    "For tree-based models like XGBoost, we can control the overfitting by tuning a series of parameters:\n",
    "\n",
    "- Restricting the maximum depth of trees via <code>max_depth</code> (low values)\n",
    "- Making the model more conservative via <code>gamma</code> and <code>eta</code> (high values)\n",
    "- L1 and L2 regularization via <code>reg_alpha</code> and <code>reg_lambda</code> (high values)"
   ]
  },
  {
   "cell_type": "code",
   "execution_count": 4,
   "metadata": {
    "_uuid": "552cc02db45c39cc57cc674e6abb4495c55c8a5c"
   },
   "outputs": [
    {
     "data": {
      "text/plain": [
       "array([0.7138114 , 0.5700851 , 0.48749483, ..., 0.29266763, 0.81729746,\n",
       "       0.42823464], dtype=float32)"
      ]
     },
     "execution_count": 4,
     "metadata": {},
     "output_type": "execute_result"
    }
   ],
   "source": [
    "from xgboost import XGBClassifier\n",
    "\n",
    "m = XGBClassifier(\n",
    "    max_depth=2,\n",
    "    gamma=2,\n",
    "    eta=0.8,\n",
    "    reg_alpha=0.5,\n",
    "    reg_lambda=0.5\n",
    ")\n",
    "m.fit(train[labels], target)\n",
    "m.predict_proba(test[labels])[:,1]"
   ]
  },
  {
   "cell_type": "markdown",
   "metadata": {
    "_uuid": "371cee8539913c6d7e473640f136965ea53383ea"
   },
   "source": [
    "**Note that because it is a nonlinear model with several parameters, it tends to be more prone to overfitting than a simple linear model such as logistic regression.**"
   ]
  },
  {
   "cell_type": "markdown",
   "metadata": {
    "_uuid": "52a6bc0d76ea6787dca7f5b0a79a5c5957c8d2c3"
   },
   "source": [
    "<h1 id=\"t3\">3. Beware the outliers</h1>\n",
    "\n",
    "Outliers are extreme values that fall a long way outside of the other observations. In a small dataset, the impact of an outlier can be much greater, since it will have a heavy weight for the model:\n",
    "\n",
    "![](https://raw.githubusercontent.com/rafjaa/curso-mineracao-de-dados-aplicada/master/img/kernel_overfitting/outlier.png)\n",
    "<center><strong>Source:</strong> <a href=\"https://becominghuman.ai/day-7-data-cleaning-all-that-you-need-to-know-about-it-23b05738abe7\">https://becominghuman.ai/day-7-data-cleaning-all-that-you-need-to-know-about-it-23b05738abe7</a></center>\n",
    "\n",
    "<br>\n",
    "\n",
    "The scikit-learn library has several implementations of outliers detection techniques:\n",
    "\n",
    "![](https://raw.githubusercontent.com/rafjaa/curso-mineracao-de-dados-aplicada/master/img/kernel_overfitting/outl_detection.png)\n",
    "<center><strong>Source:</strong> <a href=\"https://scikit-learn.org/stable/auto_examples/plot_anomaly_comparison.html\">https://scikit-learn.org/stable/auto_examples/plot_anomaly_comparison.html</a></center>\n",
    "\n",
    "<br>\n",
    "\n",
    "Let's do an experiment with the <code>IsolationForest</code> technique, which uses random forests for efficient detection of outliers in high-dimensional datasets. From scikit-learn documentation:\n",
    "\n",
    "> The IsolationForest ‘isolates’ observations by randomly selecting a feature and then randomly selecting a split value between the maximum and minimum values of the selected feature.\n",
    "> \n",
    "> Since recursive partitioning can be represented by a tree structure, the number of splittings required to isolate a sample is equivalent to the path length from the root node to the terminating node.\n",
    "> \n",
    "> This path length, averaged over a forest of such random trees, is a measure of normality and our decision function.\n",
    "\n",
    "![](https://raw.githubusercontent.com/rafjaa/curso-mineracao-de-dados-aplicada/master/img/kernel_overfitting/isolation_forest.jpg)\n",
    "<center><strong>Source:</strong> <a href=\"https://www.slideshare.net/mlvlc/l14-anomaly-detection\">https://www.slideshare.net/mlvlc/l14-anomaly-detection</a></center>\n",
    "\n",
    "<br>\n",
    "\n",
    "Let's score each sample of our dataset using a isolation forest (the lower, the more abnormal):"
   ]
  },
  {
   "cell_type": "code",
   "execution_count": 5,
   "metadata": {
    "_uuid": "fa4e76a07168b3638050b762aa5cb9f5d9ebfe28"
   },
   "outputs": [
    {
     "name": "stdout",
     "output_type": "stream",
     "text": [
      "[-0.43469812 -0.41975972 -0.43645204 -0.41547635 -0.43619105 -0.45387404\n",
      " -0.44501066 -0.42808743 -0.42391595 -0.42821109 -0.42663739 -0.42636454\n",
      " -0.43802452 -0.43881928 -0.42235859 -0.43685353 -0.42252529 -0.42698686\n",
      " -0.43146739 -0.43967397 -0.44154264 -0.43686939 -0.42246759 -0.4525844\n",
      " -0.43240325 -0.41816402 -0.41772435 -0.41816617 -0.44642832 -0.43005119\n",
      " -0.43868305 -0.41364373 -0.43876162 -0.42955655 -0.44890674 -0.42345201\n",
      " -0.43351493 -0.44406837 -0.4353762  -0.43473154 -0.4204892  -0.4370371\n",
      " -0.43454054 -0.42305028 -0.42845387 -0.44410595 -0.43576584 -0.41683766\n",
      " -0.42368301 -0.41962975 -0.44162676 -0.45019865 -0.43763141 -0.41514594\n",
      " -0.43407452 -0.42406518 -0.43057011 -0.41716011 -0.43461005 -0.42653133\n",
      " -0.44000386 -0.45187644 -0.44434114 -0.44041757 -0.43705451 -0.43975507\n",
      " -0.42971908 -0.4486313  -0.41805613 -0.41747817 -0.41891668 -0.43978058\n",
      " -0.43669433 -0.43036516 -0.43125644 -0.43741219 -0.42797231 -0.42653472\n",
      " -0.4231017  -0.41581038 -0.43063687 -0.44138784 -0.42186099 -0.41266366\n",
      " -0.44811402 -0.42678457 -0.42824112 -0.43972407 -0.43478035 -0.41980419\n",
      " -0.40625693 -0.43140575 -0.42697378 -0.4151458  -0.42350005 -0.42237921\n",
      " -0.42446637 -0.4209118  -0.41923589 -0.41978065 -0.4314013  -0.43352036\n",
      " -0.45081138 -0.44402453 -0.43256593 -0.4281443  -0.43395929 -0.43024042\n",
      " -0.43345354 -0.42205022 -0.41509088 -0.43113901 -0.42375316 -0.43385503\n",
      " -0.4316618  -0.44130641 -0.42956629 -0.43643025 -0.43140827 -0.43853946\n",
      " -0.43606748 -0.43181202 -0.41047098 -0.42323792 -0.42775055 -0.43891203\n",
      " -0.43127011 -0.4271875  -0.41727845 -0.43062103 -0.43447742 -0.41103519\n",
      " -0.41778844 -0.41845719 -0.44071884 -0.43937014 -0.4176824  -0.41787846\n",
      " -0.44005643 -0.45238078 -0.43860105 -0.42337505 -0.43268594 -0.42767847\n",
      " -0.4312199  -0.4297144  -0.44493221 -0.4131027  -0.44241765 -0.42741191\n",
      " -0.440943   -0.42683405 -0.42156997 -0.42579388 -0.42215392 -0.45350548\n",
      " -0.42531597 -0.40127768 -0.41314911 -0.43443866 -0.43335873 -0.43101249\n",
      " -0.43106124 -0.43190661 -0.43061129 -0.43766409 -0.41351972 -0.44507354\n",
      " -0.43308754 -0.42049961 -0.42350349 -0.41070317 -0.43341112 -0.43269591\n",
      " -0.42333559 -0.43332969 -0.4421862  -0.43542948 -0.44669598 -0.42892338\n",
      " -0.41978495 -0.42912365 -0.43351389 -0.42969489 -0.42498901 -0.43722355\n",
      " -0.43389567 -0.43436975 -0.43785333 -0.43043172 -0.42662259 -0.42141768\n",
      " -0.43644956 -0.43696262 -0.41825562 -0.43558654 -0.43008665 -0.428613\n",
      " -0.41392909 -0.43949865 -0.43404248 -0.42097913 -0.43059193 -0.42747307\n",
      " -0.42573542 -0.43819103 -0.44092081 -0.42386781 -0.43763383 -0.4366526\n",
      " -0.42604834 -0.43785204 -0.42873859 -0.43276886 -0.43877154 -0.45306002\n",
      " -0.43058273 -0.41899962 -0.42551153 -0.42786522 -0.43851347 -0.41728051\n",
      " -0.42606969 -0.42326077 -0.43853364 -0.41982276 -0.44353523 -0.42693779\n",
      " -0.43077726 -0.43936225 -0.43610218 -0.42853154 -0.43235138 -0.41938133\n",
      " -0.43372375 -0.44212043 -0.44741691 -0.43606163 -0.42946393 -0.43021014\n",
      " -0.43692314 -0.41761914 -0.44538589 -0.43090148 -0.42329698 -0.44174261\n",
      " -0.43088164 -0.44457873 -0.42504501 -0.42400243]\n"
     ]
    }
   ],
   "source": [
    "from sklearn.ensemble import IsolationForest\n",
    "\n",
    "isf = IsolationForest(n_jobs=-1, random_state=1)\n",
    "isf.fit(train[labels], train['target'])\n",
    "\n",
    "print(isf.score_samples(train[labels]))"
   ]
  },
  {
   "cell_type": "markdown",
   "metadata": {
    "_uuid": "ddba95cb7e564206474a39ce5889c93159adaa38"
   },
   "source": [
    "Now, let's predict the outliers (1 for inliers, -1 for outliers):"
   ]
  },
  {
   "cell_type": "code",
   "execution_count": 6,
   "metadata": {
    "_uuid": "9f2055a4e158a9d3031b8ba92b1b8536862c50c4"
   },
   "outputs": [
    {
     "name": "stderr",
     "output_type": "stream",
     "text": [
      "/opt/conda/lib/python3.6/site-packages/sklearn/ensemble/iforest.py:417: DeprecationWarning: threshold_ attribute is deprecated in 0.20 and will be removed in 0.22.\n",
      "  \" be removed in 0.22.\", DeprecationWarning)\n"
     ]
    },
    {
     "data": {
      "text/plain": [
       "array([ 1,  1,  1,  1,  1, -1, -1,  1,  1,  1,  1,  1,  1,  1,  1,  1,  1,\n",
       "        1,  1,  1,  1,  1,  1, -1,  1,  1,  1,  1, -1,  1,  1,  1,  1,  1,\n",
       "       -1,  1,  1, -1,  1,  1,  1,  1,  1,  1,  1, -1,  1,  1,  1,  1,  1,\n",
       "       -1,  1,  1,  1,  1,  1,  1,  1,  1,  1, -1, -1,  1,  1,  1,  1, -1,\n",
       "        1,  1,  1,  1,  1,  1,  1,  1,  1,  1,  1,  1,  1,  1,  1,  1, -1,\n",
       "        1,  1,  1,  1,  1,  1,  1,  1,  1,  1,  1,  1,  1,  1,  1,  1,  1,\n",
       "       -1, -1,  1,  1,  1,  1,  1,  1,  1,  1,  1,  1,  1,  1,  1,  1,  1,\n",
       "        1,  1,  1,  1,  1,  1,  1,  1,  1,  1,  1,  1,  1,  1,  1,  1,  1,\n",
       "        1,  1,  1, -1,  1,  1,  1,  1,  1,  1, -1,  1, -1,  1,  1,  1,  1,\n",
       "        1,  1, -1,  1,  1,  1,  1,  1,  1,  1,  1,  1,  1,  1, -1,  1,  1,\n",
       "        1,  1,  1,  1,  1,  1,  1,  1, -1,  1,  1,  1,  1,  1,  1,  1,  1,\n",
       "        1,  1,  1,  1,  1,  1,  1,  1,  1,  1,  1,  1,  1,  1,  1,  1,  1,\n",
       "        1,  1,  1,  1,  1,  1,  1,  1,  1,  1,  1, -1,  1,  1,  1,  1,  1,\n",
       "        1,  1,  1,  1,  1, -1,  1,  1,  1,  1,  1,  1,  1,  1,  1, -1,  1,\n",
       "        1,  1,  1,  1, -1,  1,  1,  1,  1, -1,  1,  1])"
      ]
     },
     "execution_count": 6,
     "metadata": {},
     "output_type": "execute_result"
    }
   ],
   "source": [
    "isf.predict(train[labels])"
   ]
  },
  {
   "cell_type": "markdown",
   "metadata": {
    "_uuid": "d42c39fec2ae9aae3c27aa0035ea0061c74bfbb1"
   },
   "source": [
    "**Beware, with few samples, it becomes a challenge to adjust the algorithms to correctly identify the outliers.**"
   ]
  },
  {
   "cell_type": "markdown",
   "metadata": {
    "_uuid": "f7a275c6a941a7b20b908f5cbd4b18d2d6766870"
   },
   "source": [
    "<h1 id=\"t4\">4. Select the features</h1>\n",
    "\n",
    "While removing outliers consists of deleting rows from the dataset, feature selection consists of deleting columns that do not contribute to the prediction. There is a wide variety of methods, such as analysis of its correlation with the target, importance analysis and recursive elimination.\n",
    "\n",
    "Let's see an example of how to identify the most relevant features for classification using a tree model:"
   ]
  },
  {
   "cell_type": "code",
   "execution_count": 7,
   "metadata": {
    "_uuid": "f721b3aca3bd586586f6ef3956a2550bf24be06c"
   },
   "outputs": [
    {
     "name": "stdout",
     "output_type": "stream",
     "text": [
      "Top features:\n",
      "1. feature 33 (0.041746)\n",
      "2. feature 65 (0.022398)\n",
      "3. feature 117 (0.013911)\n",
      "4. feature 217 (0.010103)\n",
      "5. feature 189 (0.009902)\n",
      "6. feature 91 (0.009249)\n",
      "7. feature 39 (0.008257)\n",
      "8. feature 73 (0.008089)\n",
      "9. feature 4 (0.007575)\n",
      "10. feature 201 (0.007043)\n",
      "11. feature 220 (0.007042)\n",
      "12. feature 214 (0.006762)\n",
      "13. feature 16 (0.006686)\n",
      "14. feature 119 (0.006643)\n",
      "15. feature 268 (0.006589)\n"
     ]
    }
   ],
   "source": [
    "from sklearn.ensemble import ExtraTreesClassifier\n",
    "\n",
    "TOP_FEATURES = 15\n",
    "\n",
    "forest = ExtraTreesClassifier(n_estimators=250, max_depth=5, random_state=1)\n",
    "forest.fit(train[labels], train['target'])\n",
    "\n",
    "importances = forest.feature_importances_\n",
    "std = np.std(\n",
    "    [tree.feature_importances_ for tree in forest.estimators_],\n",
    "    axis=0\n",
    ")\n",
    "indices = np.argsort(importances)[::-1]\n",
    "indices = indices[:TOP_FEATURES]\n",
    "\n",
    "print('Top features:')\n",
    "for f in range(TOP_FEATURES):\n",
    "    print('%d. feature %d (%f)' % (f + 1, indices[f], importances[indices[f]]))"
   ]
  },
  {
   "cell_type": "markdown",
   "metadata": {
    "_uuid": "9ecc50c16f2cf1c39bf6d5c1e198c59fb8e99b74"
   },
   "source": [
    "We can plot a chart of the importances:"
   ]
  },
  {
   "cell_type": "code",
   "execution_count": 8,
   "metadata": {
    "_uuid": "ac55b127995b43ed7347e59d9b8e9e07484cf802"
   },
   "outputs": [
    {
     "data": {
      "image/png": "[encoded data removed]",
      "text/plain": [
       "<Figure size 432x288 with 1 Axes>"
      ]
     },
     "metadata": {},
     "output_type": "display_data"
    }
   ],
   "source": [
    "plt.figure()\n",
    "plt.title('Top feature importances')\n",
    "plt.bar(\n",
    "    range(TOP_FEATURES), \n",
    "    importances[indices],\n",
    "    yerr=std[indices], \n",
    ")\n",
    "plt.xticks(range(TOP_FEATURES), indices)\n",
    "plt.show()"
   ]
  },
  {
   "cell_type": "markdown",
   "metadata": {
    "_uuid": "5ea7fbeb73ee8e742bd5671d9050a295130d063e"
   },
   "source": [
    "In the next example, we will try to identify the most important features by successively training a model and recursively eliminating those that do not contribute to a good final solution (according to the selected model).\n",
    "\n",
    "We will use the recursive feature elimination <code>RFE</code> from the scikit-learn library and the <code>XGBClassifier</code> model:"
   ]
  },
  {
   "cell_type": "code",
   "execution_count": 9,
   "metadata": {
    "_uuid": "adb2e9aa37a3064ef42fdd2bf8a3d6a6933be3a9"
   },
   "outputs": [
    {
     "name": "stdout",
     "output_type": "stream",
     "text": [
      "Selected features:\n",
      "['0', '1', '4', '6', '7', '9', '11', '12', '14', '16', '17', '18', '20', '21', '24', '25', '28', '32', '33', '35', '37', '38', '39', '43', '45', '46', '48', '49', '50', '55', '57', '63', '65', '66', '70', '73', '75', '80', '82', '83', '90', '91', '93', '95', '96', '100', '101', '102', '103', '106', '107', '108', '110', '111', '112', '114', '116', '117', '120', '121', '123', '126', '129', '131', '132', '133', '134', '141', '147', '148', '149', '150', '151', '153', '157', '160', '164', '165', '166', '167', '168', '170', '172', '173', '176', '177', '179', '183', '185', '189', '193', '194', '195', '198', '199', '201', '202', '204', '205', '208', '209', '214', '216', '217', '219', '220', '225', '226', '227', '228', '230', '231', '232', '234', '237', '241', '242', '244', '245', '251', '253', '254', '255', '257', '258', '259', '260', '261', '266', '268', '269', '272', '273', '275', '276', '277', '279', '280', '281', '282', '285', '286', '289', '291', '292', '293', '295', '296', '297', '298']\n"
     ]
    }
   ],
   "source": [
    "from sklearn.feature_selection import RFE\n",
    "\n",
    "rfe = RFE(XGBClassifier(n_jobs=-1, random_state=1))\n",
    "\n",
    "rfe.fit(train[labels], train['target'])\n",
    "\n",
    "print('Selected features:')\n",
    "print(labels[rfe.support_].tolist())"
   ]
  },
  {
   "cell_type": "markdown",
   "metadata": {
    "_uuid": "627acfe6b68e64db435b37ebb9bfe45e412c2df1"
   },
   "source": [
    "**Caution: for a very small dataset, very robust local validation is required to determine whether or not a feature contributes to the final solution. **"
   ]
  },
  {
   "cell_type": "markdown",
   "metadata": {
    "_uuid": "deb0972159b6229a555db03f3efdc6d8cddd8e95"
   },
   "source": [
    "<h1 id=\"t5\">5. Balance the dataset with synthetic samples (SMOTE)</h1>\n",
    "\n",
    "<br>\n",
    "\n",
    "Let's look at the distribution of target values:"
   ]
  },
  {
   "cell_type": "code",
   "execution_count": 10,
   "metadata": {
    "_uuid": "5a2736f9c0d29dd6514c89d82c45be3e9a338ae9"
   },
   "outputs": [
    {
     "data": {
      "image/png": "[encoded data removed]",
      "text/plain": [
       "<Figure size 432x288 with 1 Axes>"
      ]
     },
     "metadata": {},
     "output_type": "display_data"
    }
   ],
   "source": [
    "train['target'].value_counts().plot(kind='bar', title='Count (target)');"
   ]
  },
  {
   "cell_type": "markdown",
   "metadata": {
    "_uuid": "6e9632368a131cac585107c69662f8bdc9cd9b4c"
   },
   "source": [
    "In addition to being extremely small, our training dataset has the unbalanced <code>target</code> binary variable, which can undermine some models' predictability. We will perform an oversampling, which consists of creating new samples to increase the <code>0</code> minority class. For this we will use the SMOTE technique.\n",
    "\n",
    "SMOTE (Synthetic Minority Oversampling TEchnique) consists of synthesizing elements for the minority class, based on those that already exist. It works randomly picingk a point from the minority class and computing the k-nearest neighbors for this point. The synthetic points are added between the chosen point and its neighbors.\n",
    "\n",
    "![](https://raw.githubusercontent.com/rafjaa/machine_learning_fecib/master/src/static/img/smote.png)\n",
    "<center><strong>Source:</strong> <a href=\"https://www.kaggle.com/rafjaa/resampling-strategies-for-imbalanced-datasets\">https://www.kaggle.com/rafjaa/resampling-strategies-for-imbalanced-datasets</a></center>\n",
    "\n",
    "<br>\n",
    "\n",
    "We'll use the SMOTE implementation from the library <code>imbalanced-learn</code>, with the parameter <code>ratio='minority'</code> to resample the minority class:"
   ]
  },
  {
   "cell_type": "code",
   "execution_count": 11,
   "metadata": {
    "_uuid": "bf36c7a7d6184b5ec40bfda5e3e11c2bdc7d0433",
    "scrolled": true
   },
   "outputs": [
    {
     "name": "stderr",
     "output_type": "stream",
     "text": [
      "Using TensorFlow backend.\n"
     ]
    },
    {
     "data": {
      "image/png": "[encoded data removed]",
      "text/plain": [
       "<Figure size 432x288 with 1 Axes>"
      ]
     },
     "metadata": {},
     "output_type": "display_data"
    }
   ],
   "source": [
    "from imblearn.over_sampling import SMOTE\n",
    "\n",
    "smote = SMOTE(ratio='minority', n_jobs=-1)\n",
    "X_sm, y_sm = smote.fit_resample(train[labels], train['target'])\n",
    "\n",
    "df = pd.DataFrame(X_sm, columns=labels)\n",
    "df['target'] = y_sm\n",
    "\n",
    "df['target'].value_counts().plot(kind='bar', title='Count (target)');"
   ]
  },
  {
   "cell_type": "markdown",
   "metadata": {
    "_uuid": "8fb6548d56956e994069d0641283fc17b534a910"
   },
   "source": [
    "<h1 id=\"t6\">6. Combine models for the final submission</h1>\n",
    "\n",
    "Combine the prediction of several models or the same model with different values of hyperparameters reduces variance and enhances generalization.\n",
    "\n",
    "![](https://raw.githubusercontent.com/rafjaa/curso-mineracao-de-dados-aplicada/master/img/kernel_overfitting/combine.jpg)\n",
    "<center><strong>Source:</strong> <a href=\"https://medium.com/rants-on-machine-learning/what-to-do-with-small-data-d253254d1a89\">https://medium.com/rants-on-machine-learning/what-to-do-with-small-data-d253254d1a89</a></center>\n",
    "\n",
    "<br>\n",
    "\n",
    "Often, combining weak models that are poorly correlated with each other can lead to superior results than a strong individual model. There are several ways to do this. The simplest is to perform a weighted average of the various predictions:"
   ]
  },
  {
   "cell_type": "code",
   "execution_count": 12,
   "metadata": {
    "_uuid": "6c94a9467b0cbbfdb2c65d1690233efd2bce1cf9",
    "scrolled": true
   },
   "outputs": [
    {
     "data": {
      "text/html": [
       "<div>\n",
       "<style scoped>\n",
       "    .dataframe tbody tr th:only-of-type {\n",
       "        vertical-align: middle;\n",
       "    }\n",
       "\n",
       "    .dataframe tbody tr th {\n",
       "        vertical-align: top;\n",
       "    }\n",
       "\n",
       "    .dataframe thead th {\n",
       "        text-align: right;\n",
       "    }\n",
       "</style>\n",
       "<table border=\"1\" class=\"dataframe\">\n",
       "  <thead>\n",
       "    <tr style=\"text-align: right;\">\n",
       "      <th></th>\n",
       "      <th>0</th>\n",
       "      <th>1</th>\n",
       "      <th>weighted_pred</th>\n",
       "    </tr>\n",
       "  </thead>\n",
       "  <tbody>\n",
       "    <tr>\n",
       "      <th>0</th>\n",
       "      <td>0.087555</td>\n",
       "      <td>0.774624</td>\n",
       "      <td>0.246110</td>\n",
       "    </tr>\n",
       "    <tr>\n",
       "      <th>1</th>\n",
       "      <td>0.012161</td>\n",
       "      <td>0.615365</td>\n",
       "      <td>0.151362</td>\n",
       "    </tr>\n",
       "    <tr>\n",
       "      <th>2</th>\n",
       "      <td>0.403013</td>\n",
       "      <td>0.581467</td>\n",
       "      <td>0.444194</td>\n",
       "    </tr>\n",
       "    <tr>\n",
       "      <th>3</th>\n",
       "      <td>0.999589</td>\n",
       "      <td>0.967713</td>\n",
       "      <td>0.992233</td>\n",
       "    </tr>\n",
       "    <tr>\n",
       "      <th>4</th>\n",
       "      <td>0.262142</td>\n",
       "      <td>0.856254</td>\n",
       "      <td>0.399245</td>\n",
       "    </tr>\n",
       "  </tbody>\n",
       "</table>\n",
       "</div>"
      ],
      "text/plain": [
       "          0         1  weighted_pred\n",
       "0  0.087555  0.774624       0.246110\n",
       "1  0.012161  0.615365       0.151362\n",
       "2  0.403013  0.581467       0.444194\n",
       "3  0.999589  0.967713       0.992233\n",
       "4  0.262142  0.856254       0.399245"
      ]
     },
     "execution_count": 12,
     "metadata": {},
     "output_type": "execute_result"
    }
   ],
   "source": [
    "models = [\n",
    "    LogisticRegression(),\n",
    "    XGBClassifier(max_depth=2)\n",
    "]\n",
    "\n",
    "preds = pd.DataFrame()\n",
    "for i, m in enumerate(models):\n",
    "    m.fit(train[labels], target),\n",
    "    preds[i] = m.predict_proba(test[labels])[:,1]\n",
    "\n",
    "weights = [1, 0.3]\n",
    "preds['weighted_pred'] = (preds * weights).sum(axis=1) / sum(weights)\n",
    "preds.head()"
   ]
  },
  {
   "cell_type": "markdown",
   "metadata": {
    "_uuid": "2e0ebfeab0afddd15ebcb263878c6d8110db2d22"
   },
   "source": [
    "Another more sophisticated way of combining predictions is the use of a meta-classifier, which receives as input the prediction of other classifiers, and performs the final predict. From the <code>mlxtend</code> library documentation:\n",
    "\n",
    "> Stacking is an ensemble learning technique to combine multiple classification models via a meta-classifier. The individual classification models are trained based on the complete training set; then, the meta-classifier is fitted based on the outputs -- meta-features -- of the individual classification models in the ensemble. The meta-classifier can either be trained on the predicted class labels or probabilities from the ensemble.\n",
    "\n",
    "![](https://raw.githubusercontent.com/rafjaa/curso-mineracao-de-dados-aplicada/master/img/kernel_overfitting/stack.png)\n",
    "<center><strong>Source:</strong> <a href=\"http://rasbt.github.io/mlxtend/user_guide/classifier/StackingClassifier/\">http://rasbt.github.io/mlxtend/user_guide/classifier/StackingClassifier/</a></center>\n",
    "\n",
    "<br>\n",
    "\n",
    "As an example, we will use the <code>StackingClassifier</code> of the <code>mlxtend</code> library:"
   ]
  },
  {
   "cell_type": "code",
   "execution_count": 13,
   "metadata": {
    "_uuid": "90a2afb30f624565faa6d2f7a6e04220003b0938"
   },
   "outputs": [
    {
     "data": {
      "text/html": [
       "<div>\n",
       "<style scoped>\n",
       "    .dataframe tbody tr th:only-of-type {\n",
       "        vertical-align: middle;\n",
       "    }\n",
       "\n",
       "    .dataframe tbody tr th {\n",
       "        vertical-align: top;\n",
       "    }\n",
       "\n",
       "    .dataframe thead th {\n",
       "        text-align: right;\n",
       "    }\n",
       "</style>\n",
       "<table border=\"1\" class=\"dataframe\">\n",
       "  <thead>\n",
       "    <tr style=\"text-align: right;\">\n",
       "      <th></th>\n",
       "      <th>0</th>\n",
       "      <th>1</th>\n",
       "      <th>weighted_pred</th>\n",
       "      <th>stack_pred</th>\n",
       "    </tr>\n",
       "  </thead>\n",
       "  <tbody>\n",
       "    <tr>\n",
       "      <th>0</th>\n",
       "      <td>0.087555</td>\n",
       "      <td>0.774624</td>\n",
       "      <td>0.246110</td>\n",
       "      <td>0.298072</td>\n",
       "    </tr>\n",
       "    <tr>\n",
       "      <th>1</th>\n",
       "      <td>0.012161</td>\n",
       "      <td>0.615365</td>\n",
       "      <td>0.151362</td>\n",
       "      <td>0.137342</td>\n",
       "    </tr>\n",
       "    <tr>\n",
       "      <th>2</th>\n",
       "      <td>0.403013</td>\n",
       "      <td>0.581467</td>\n",
       "      <td>0.444194</td>\n",
       "      <td>0.492656</td>\n",
       "    </tr>\n",
       "    <tr>\n",
       "      <th>3</th>\n",
       "      <td>0.999589</td>\n",
       "      <td>0.967713</td>\n",
       "      <td>0.992233</td>\n",
       "      <td>0.987880</td>\n",
       "    </tr>\n",
       "    <tr>\n",
       "      <th>4</th>\n",
       "      <td>0.262142</td>\n",
       "      <td>0.856254</td>\n",
       "      <td>0.399245</td>\n",
       "      <td>0.579377</td>\n",
       "    </tr>\n",
       "  </tbody>\n",
       "</table>\n",
       "</div>"
      ],
      "text/plain": [
       "          0         1  weighted_pred  stack_pred\n",
       "0  0.087555  0.774624       0.246110    0.298072\n",
       "1  0.012161  0.615365       0.151362    0.137342\n",
       "2  0.403013  0.581467       0.444194    0.492656\n",
       "3  0.999589  0.967713       0.992233    0.987880\n",
       "4  0.262142  0.856254       0.399245    0.579377"
      ]
     },
     "execution_count": 13,
     "metadata": {},
     "output_type": "execute_result"
    }
   ],
   "source": [
    "from mlxtend.classifier import StackingClassifier\n",
    "\n",
    "m = StackingClassifier(\n",
    "    classifiers=[\n",
    "        LogisticRegression(),\n",
    "        XGBClassifier(max_depth=2)\n",
    "    ],\n",
    "    use_probas=True,\n",
    "    meta_classifier=LogisticRegression()\n",
    ")\n",
    "\n",
    "m.fit(train[labels], target),\n",
    "preds['stack_pred'] = m.predict_proba(test[labels])[:,1]\n",
    "preds.head()"
   ]
  },
  {
   "cell_type": "markdown",
   "metadata": {
    "_uuid": "04c653c3e5b8380b2e297be67865b516022dc6b5"
   },
   "source": [
    "![](https://raw.githubusercontent.com/rafjaa/curso-mineracao-de-dados-aplicada/master/img/kernel_overfitting/mem2.jpg)"
   ]
  },
  {
   "cell_type": "markdown",
   "metadata": {
    "_uuid": "f8a97a205f557f6cd475e067a8ee953ec5f52e87"
   },
   "source": [
    "<h1 id=\"t7\">References</h1>\n",
    "\n",
    "**Overfitting:**\n",
    "* IRIC's Bioinformatics Platform. Overfitting and Regularization. https://bioinfo.iric.ca/overfitting-and-regularization/\n",
    "* PATNI, Shubham. Generalisation, Training-Validation & Test data. Machine Learning- Part 6. https://medium.com/@shubhapatnim86/generalisation-training-validation-test-data-machine-learning-part-6-1de9dbb7d3d5\n",
    "* Rants on Machine Learning. What to do with “small” data? https://medium.com/rants-on-machine-learning/what-to-do-with-small-data-d253254d1a89\n",
    "* Towards Data Science. Breaking the curse of small datasets in Machine Learning: Part 1. https://towardsdatascience.com/breaking-the-curse-of-small-datasets-in-machine-learning-part-1-36f28b0c044d\n",
    "\n",
    "**Models:**\n",
    "* scikit-learn. LogisticRegression. https://scikit-learn.org/stable/modules/generated/sklearn.linear_model.LogisticRegression.html\n",
    "* Towards Data Science. Logistic Regression — Detailed Overview. https://towardsdatascience.com/logistic-regression-detailed-overview-46c4da4303bc\n",
    "* XGBoost. XGBoost Parameters. https://xgboost.readthedocs.io/en/latest/parameter.html\n",
    "\n",
    "**Outlier detection:**\n",
    "* Liu, Fei Tony, Ting, Kai Ming and Zhou, Zhi-Hua. “Isolation forest.” Data Mining, 2008. ICDM‘08. Eighth IEEE International Conference on.\n",
    "* Machine Learning Valencia. Anomaly Detection. Valencian Summer School 2015. https://www.slideshare.net/mlvlc/l14-anomaly-detection\n",
    "* scikit-learn. Novelty and Outlier Detection. https://scikit-learn.org/stable/modules/outlier_detection.html\n",
    "* VADALI, SaiGayatri.Day 7: Data cleaning — All you need to know about it. https://becominghuman.ai/day-7-data-cleaning-all-that-you-need-to-know-about-it-23b05738abe7\n",
    "\n",
    "**Feature selection:**\n",
    "* scikit-learn. Feature selection. https://scikit-learn.org/stable/modules/feature_selection.html\n",
    "\n",
    "**SMOTE**\n",
    "* ALENCAR, Rafael. Resampling strategies for imbalanced datasets. https://www.kaggle.com/rafjaa/resampling-strategies-for-imbalanced-datasets\n",
    "* Chawla, Nitesh V., et al. \"SMOTE: synthetic minority over-sampling technique.\" Journal of artificial intelligence research 16 (2002)\n",
    "* imbalanced-learn. https://imbalanced-learn.readthedocs.io/en/stable/generated/imblearn.over_sampling.SMOTE.html\n",
    "\n",
    "**Stacking**\n",
    "* mlxtend. StackingClassifier. http://rasbt.github.io/mlxtend/user_guide/classifier/StackingClassifier/\n",
    "* Tang, J., S. Alelyani, and H. Liu. \"Data Classification: Algorithms and Applications.\" Data Mining and Knowledge Discovery Series, CRC Press (2015): pp. 498-500.\n",
    "* Wolpert, David H. \"Stacked generalization.\" Neural networks 5.2 (1992): 241-259."
   ]
  }
 ],
 "metadata": {
  "kernelspec": {
   "display_name": "Python 3",
   "language": "python",
   "name": "python3"
  },
  "language_info": {
   "codemirror_mode": {
    "name": "ipython",
    "version": 3
   },
   "file_extension": ".py",
   "mimetype": "text/x-python",
   "name": "python",
   "nbconvert_exporter": "python",
   "pygments_lexer": "ipython3",
   "version": "3.6.6"
  }
 },
 "nbformat": 4,
 "nbformat_minor": 1
}
