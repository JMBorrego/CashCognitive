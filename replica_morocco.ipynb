{
 "cells": [
  {
   "cell_type": "markdown",
   "id": "b41fbe89",
   "metadata": {},
   "source": [
    "Notebook imitant:\n",
    "    https://towardsdatascience.com/causal-machine-learning-for-econometrics-causal-forests-5ab3aec825a7"
   ]
  },
  {
   "cell_type": "code",
<<<<<<< Updated upstream
   "execution_count": 3,
=======
   "execution_count": 10,
>>>>>>> Stashed changes
   "id": "8b33a126",
   "metadata": {},
   "outputs": [],
   "source": [
    "import pandas as pd\n",
    "import matplotlib.pyplot as plt\n",
    "import numpy as np\n",
    "import sklearn "
   ]
  },
  {
   "cell_type": "code",
<<<<<<< Updated upstream
   "execution_count": 6,
=======
   "execution_count": 11,
>>>>>>> Stashed changes
   "id": "5c4ce38f",
   "metadata": {},
   "outputs": [],
   "source": [
    "#Read main data to DataFrame\n",
    "df = pd.read_stata('Cash_and_Childhood_Development_Replication/macoursetal_main.dta')  "
   ]
  },
  {
   "cell_type": "code",
<<<<<<< Updated upstream
   "execution_count": 7,
=======
   "execution_count": 12,
>>>>>>> Stashed changes
   "id": "ac4db177",
   "metadata": {},
   "outputs": [],
   "source": [
    "# \"hogarid_old\",\"cp_old\",\"unique_05\", \"cpmom_06\" seran usats com a index\n",
    "df_out=df[[\"a5sscore_i_06\",\"a6smemory_p1_06\",\"a6smemory_p2_06\",\"a7a_delay_06\",\"a7b_delay_06\",\n",
    "        \"a7c_delay_06\",\"a7d_delay_06\",\"a9sgrossmotor_06\",\"height_06\",\"weight_06\",\"z_tvip_06\",\"z_social_06\",\n",
    "        \"z_language_06\",\"z_finmotor_06\",\"z_memory_06\",\"z_grmotor_06\",\"z_legmotor_06\",\"z_behavior_06\",\"z_height_06\",\n",
    "        \"z_weight_06\",\"z_all_06\"]]\n"
   ]
  },
  {
   "cell_type": "code",
   "execution_count": 13,
   "id": "914f5d57",
   "metadata": {},
   "outputs": [
    {
     "data": {
      "text/plain": [
       "z_all_06            1185\n",
       "a7a_delay_06        1200\n",
       "z_social_06         1204\n",
       "a7b_delay_06        1220\n",
       "z_language_06       1224\n",
       "a7c_delay_06        1242\n",
       "z_finmotor_06       1246\n",
       "a7d_delay_06        1254\n",
       "z_grmotor_06        1258\n",
       "z_height_06         1429\n",
       "height_06           1429\n",
       "weight_06           1429\n",
       "z_weight_06         1429\n",
       "a9sgrossmotor_06    2656\n",
       "a6smemory_p1_06     2669\n",
       "z_legmotor_06       2673\n",
       "a5sscore_i_06       2679\n",
       "z_memory_06         2684\n",
       "z_tvip_06           2694\n",
       "z_behavior_06       2891\n",
       "a6smemory_p2_06     3141\n",
       "dtype: int64"
      ]
     },
     "execution_count": 13,
     "metadata": {},
     "output_type": "execute_result"
    }
   ],
   "source": [
    "df_out.isna().sum().sort_values()"
   ]
  },
  {
   "cell_type": "markdown",
   "id": "8452d06e",
   "metadata": {},
   "source": [
    "# Income variables"
   ]
  },
  {
   "cell_type": "code",
<<<<<<< Updated upstream
   "execution_count": 8,
=======
   "execution_count": 14,
>>>>>>> Stashed changes
   "id": "16fa80e6",
   "metadata": {},
   "outputs": [],
   "source": [
    "df1=df[[\"hogarid_old\",\"cp_old\",\"unique_05\",\"s1age_head_05\",\"s1hhsize_05\",\"s1hhsz_undr5_05\",\"s1hhsz_5_14_05\",\n",
    "        \"s1hhsz_15_24_05\",\"s1hhsz_25_64_05\",\"s1hhsz_65plus_05\",\"s1male_head_05\",\"s2mother_inhs_05\",\"s3ap5_rooms_h_05\",\n",
    "        \"s3ap23_stime_h_05\",\"s3ap24_htime_h_05\",\"s3ap25_hqtime_h_05\",\"s3atoilet_hh_05\",\"s3awater_access_hh_05\",\n",
    "        \"s3aelectric_hh_05\",\"s4p6_vitamina_i_05\",\"s4p7_parasite_i_05\",\"s11ownland_hh_05\",\"cons_food_pc_05\",\"cons_tot_pc_05\",\n",
    "        \"tvip_05\",\"height_05\",\"a10whz_05\",\"weight_05\",\"itt_i\",\"itt_all_i\",\"yrsedfath\",\"age_transfer\",\"bweight\",\n",
    "        \"s4p7_parasite_i_06\",\"cpmom_06\",\"T\",\"male\",\"TREAT1\",\"TREAT2\",\"TREAT3\",\"TREAT4\",\"ed_mom\",\"MUN1\",\"MUN2\",\"MUN3\",\"MUN4\",\n",
    "        \"MUN5\",\"MUN6\",\"com_haz_05\",\"com_waz_05\",\"com_tvip_05\",\"com_control_05\",\"com_vit_05\",\"com_deworm_05\",\"com_notvip\",\n",
    "        \"sample06\",\"vitamiron_06\",#\"weighted_05\",\n",
    "        \"propfood_05\",\"prstap_f_05\",\"pranimalprot_f_05\",\"prfruitveg_f_05\"]]"
   ]
  },
  {
   "cell_type": "code",
<<<<<<< Updated upstream
   "execution_count": 9,
=======
   "execution_count": 15,
>>>>>>> Stashed changes
   "id": "c88df450",
   "metadata": {},
   "outputs": [
    {
     "name": "stderr",
     "output_type": "stream",
     "text": [
<<<<<<< Updated upstream
      "C:\\Users\\Usuari\\AppData\\Local\\Temp\\ipykernel_12280\\2300806653.py:1: SettingWithCopyWarning: \n",
=======
      "C:\\Users\\Usuari\\AppData\\Local\\Temp\\ipykernel_13028\\2300806653.py:1: SettingWithCopyWarning: \n",
>>>>>>> Stashed changes
      "A value is trying to be set on a copy of a slice from a DataFrame\n",
      "\n",
      "See the caveats in the documentation: https://pandas.pydata.org/pandas-docs/stable/user_guide/indexing.html#returning-a-view-versus-a-copy\n",
      "  df1.rename(columns = {'T':'tr'}, inplace = True)\n"
     ]
    }
   ],
   "source": [
    "df1.rename(columns = {'T':'tr'}, inplace = True)"
   ]
  },
  {
   "cell_type": "markdown",
   "id": "ce88e431",
   "metadata": {},
   "source": [
    "###  NaNs"
   ]
  },
  {
   "cell_type": "code",
<<<<<<< Updated upstream
   "execution_count": 10,
=======
   "execution_count": 16,
>>>>>>> Stashed changes
   "id": "f18c6ee8",
   "metadata": {},
   "outputs": [
    {
     "data": {
      "text/plain": [
       "1     1357\n",
       "11     910\n",
       "0      631\n",
       "8      427\n",
       "2      243\n",
       "5      212\n",
       "4      133\n",
       "3      130\n",
       "12     129\n",
       "7      112\n",
       "9       66\n",
       "6       59\n",
       "10      48\n",
       "55      32\n",
       "56       7\n",
       "54       7\n",
       "14       6\n",
       "13       2\n",
       "dtype: int64"
      ]
     },
<<<<<<< Updated upstream
     "execution_count": 10,
=======
     "execution_count": 16,
>>>>>>> Stashed changes
     "metadata": {},
     "output_type": "execute_result"
    }
   ],
   "source": [
    "df1.isnull().sum(axis=1).value_counts()"
   ]
  },
  {
   "cell_type": "code",
<<<<<<< Updated upstream
   "execution_count": 11,
=======
   "execution_count": 17,
>>>>>>> Stashed changes
   "id": "d7179548",
   "metadata": {},
   "outputs": [],
   "source": [
    "#fem una copia del df\n",
    "def copy_df(df):\n",
    "   return df.copy()"
   ]
  },
  {
   "cell_type": "code",
<<<<<<< Updated upstream
   "execution_count": 12,
=======
   "execution_count": 18,
>>>>>>> Stashed changes
   "id": "03b51b6e",
   "metadata": {},
   "outputs": [],
   "source": [
    "#eliminem individus amb >delta*100% columnes buides\n",
    "def drop_ind_missing(df, delta):\n",
    "    thresh = len(df.columns)*delta\n",
    "    df.dropna(axis=0, thresh=thresh, inplace=True)\n",
    "    return df"
   ]
  },
  {
   "cell_type": "code",
<<<<<<< Updated upstream
   "execution_count": 13,
=======
   "execution_count": 19,
>>>>>>> Stashed changes
   "id": "e905b250",
   "metadata": {},
   "outputs": [],
   "source": [
    "#eliminem individus amb age transfer<age\n",
    "def drop_out_missing(df, age=-11):\n",
    "    nan_rows=df[df.age_transfer<age].index\n",
    "    df.drop(nan_rows, inplace=True)\n",
    "    return df"
   ]
  },
  {
   "cell_type": "code",
<<<<<<< Updated upstream
   "execution_count": 14,
=======
   "execution_count": 20,
>>>>>>> Stashed changes
   "id": "2e98fd90",
   "metadata": {},
   "outputs": [],
   "source": [
    "#categorical to ordinal\n",
    "def ordinal(df, cols):\n",
    "    enc = OrdinalEncoder()\n",
    "    enc.fit(df[cols])\n",
    "    df[cols] = enc.transform(df[cols])\n",
    "    \n",
    "    return df"
   ]
  },
  {
   "cell_type": "code",
<<<<<<< Updated upstream
   "execution_count": 15,
=======
   "execution_count": 21,
>>>>>>> Stashed changes
   "id": "12652e1b",
   "metadata": {},
   "outputs": [],
   "source": [
    "#imputem NaNs\n",
    "\n",
    "#imputem mitjanes\n",
    "def mean_imputer(df, cols):\n",
    "    for col in cols:\n",
    "        df[col].fillna(df[col].mean(), inplace=True)\n",
    "    return df\n",
    "\n",
    "#imputem el valor més frequent de la columna dintre el hh\n",
    "def hh_mf_imputer(df,cols):\n",
    "    index=df.index\n",
    "    for col in cols:\n",
    "        col_hh=[df[df.hogarid_old==familia][[col,\"age_transfer\"]].sort_values(by=['age_transfer'])[col]\n",
    "                .values for familia in df.hogarid_old]\n",
    "        for i in range(len(index)):\n",
    "               if np.isnan(df[col][index[i]]):\n",
    "                    non_nan_len=np.count_nonzero(~np.isnan(col_hh[i]))\n",
    "                    if(non_nan_len!=0):\n",
    "                        vals,counts = np.unique(col_hh[i], return_counts=True)\n",
    "                        ind = np.argmax(counts)\n",
    "                        df.loc[index[i],col]=vals[ind]\n",
    "    return df             \n",
    "                            \n",
    "                        "
   ]
  },
  {
   "cell_type": "code",
<<<<<<< Updated upstream
   "execution_count": 20,
=======
   "execution_count": 22,
>>>>>>> Stashed changes
   "id": "f3ab3651",
   "metadata": {},
   "outputs": [],
   "source": [
    "#eliminem outliers\n",
    "\n",
    "def outlier_removal(df, cols):\n",
    "    outlier_threshold = []\n",
    "    for col in cols:\n",
    "            q3 = np.nanpercentile(df[col], 75)\n",
    "            q1 = np.nanpercentile(df[col], 25)\n",
    "            iqr = q3 - q1\n",
    "            out_low = q1 - 3*iqr\n",
    "            out_high = q3 + 3*iqr\n",
    "            outlier_threshold.append([out_low, out_high])\n",
    "    outliers_indexs=[]\n",
    "    for col,k in zip(cols,range(len(cols))):\n",
    "        #outliers_indexs_in_col=[]\n",
    "        for i in df[col].index:\n",
    "            if df[col][i]<outlier_threshold[k][0] or df[col][i]>outlier_threshold[k][1]:\n",
    "                outliers_indexs.append(i)\n",
    "        #outliers_indexs.append(outliers_indexs_in_col)\n",
    "    return df.drop(list(set(outliers_indexs)), axis=0)"
   ]
  },
  {
   "cell_type": "code",
<<<<<<< Updated upstream
   "execution_count": 17,
=======
   "execution_count": 23,
>>>>>>> Stashed changes
   "id": "0f97cfd5",
   "metadata": {},
   "outputs": [],
   "source": [
    "def normalize(df, cols):\n",
    "    Nscaler = MinMaxScaler()\n",
    "\n",
    "    Nscaler.fit(df[cols])\n",
    "    df[cols] = Nscaler.transform(df[cols])\n",
    "    \n",
    "    return df\n",
    "\n",
    "def standardize(df, cols):\n",
    "    Sscaler = StandardScaler()\n",
    "\n",
    "    Sscaler.fit(df[cols])\n",
    "    df[cols] = Sscaler.transform(df[cols])\n",
    "    \n",
    "    return df"
   ]
  },
  {
   "cell_type": "code",
<<<<<<< Updated upstream
   "execution_count": 21,
=======
   "execution_count": 24,
>>>>>>> Stashed changes
   "id": "a3987cd6",
   "metadata": {},
   "outputs": [],
   "source": [
    "from sklearn.impute import SimpleImputer\n",
    "from sklearn.preprocessing import OrdinalEncoder\n",
    "from sklearn.preprocessing import MinMaxScaler\n",
    "from sklearn.preprocessing import StandardScaler\n",
    "\n",
    "mean_cols=[\"bweight\", \"tvip_05\", \"height_05\", \"a10whz_05\", \"weight_05\"]\n",
    "hh_mf_cols=[\"s1age_head_05\",\"s1hhsize_05\",\"s1hhsz_undr5_05\",\"s1hhsz_5_14_05\",\"s1hhsz_15_24_05\",\"s1hhsz_25_64_05\",\n",
    "            \"s1hhsz_65plus_05\",\"s1male_head_05\",\"s2mother_inhs_05\",\"s3ap5_rooms_h_05\",\"s3atoilet_hh_05\",\n",
    "            \"s3awater_access_hh_05\",\"s3aelectric_hh_05\",\"s11ownland_hh_05\",\"s4p7_parasite_i_06\",\"ed_mom\",\"vitamiron_06\",\n",
    "           \"s4p6_vitamina_i_05\", \"s4p7_parasite_i_05\", \"cons_food_pc_05\", \"yrsedfath\", \"propfood_05\", \"prstap_f_05\"\n",
    "            ,  \"pranimalprot_f_05\",  \"prfruitveg_f_05\"]\n",
    "\n",
    "categorical_cols=df1.select_dtypes(exclude=[\"number\",\"bool_\",\"object_\"]).columns\n",
    "outlier_cols=[\"pranimalprot_f_05\", \"bweight\", \"prfruitveg_f_05\"]\n",
    "\n",
    "normal_cols =[\"height_05\",\"a10whz_05\",\"weight_05\",\"com_haz_05\",\"com_waz_05\"]\n",
    "\n",
    "Nnormal_cols = ['s1age_head_05', 's3ap23_stime_h_05', 's3ap24_htime_h_05', 's3ap25_hqtime_h_05', 'cons_food_pc_05', \n",
    "                'cons_tot_pc_05', 'tvip_05', 'yrsedfath','age_transfer', 'bweight', 'ed_mom', 'com_tvip_05', 'com_control_05']\n",
    "\n",
    "\n",
    "cleaned_df=(df1.pipe(copy_df)\n",
    "            .pipe(drop_ind_missing, 0.8)\n",
    "            .pipe(drop_out_missing)\n",
    "            .pipe(ordinal, categorical_cols)\n",
    "            .pipe(hh_mf_imputer, hh_mf_cols)\n",
    "            .pipe(mean_imputer, mean_cols+hh_mf_cols)\n",
    "            .pipe(outlier_removal, outlier_cols) #outliers\n",
    "            .pipe(standardize, normal_cols) #estandaritzacio\n",
    "            .pipe(normalize, Nnormal_cols)) #normalitzacio\n",
    "                         "
   ]
  },
  {
   "cell_type": "code",
<<<<<<< Updated upstream
   "execution_count": 79,
=======
   "execution_count": 25,
   "id": "0e87a1e0",
   "metadata": {},
   "outputs": [
    {
     "data": {
      "text/plain": [
       "Index(['s1male_head_05', 's3atoilet_hh_05', 's3awater_access_hh_05',\n",
       "       's3aelectric_hh_05', 's4p6_vitamina_i_05', 's4p7_parasite_i_05',\n",
       "       's11ownland_hh_05', 'itt_i', 'itt_all_i', 's4p7_parasite_i_06'],\n",
       "      dtype='object')"
      ]
     },
     "execution_count": 25,
     "metadata": {},
     "output_type": "execute_result"
    }
   ],
   "source": [
    "categorical_cols"
   ]
  },
  {
   "cell_type": "code",
   "execution_count": 26,
>>>>>>> Stashed changes
   "id": "8fae1bc5",
   "metadata": {},
   "outputs": [],
   "source": [
    "treatment = 'tr'\n",
    "outcome = 'z_all_06'\n",
    "covariates = [\"s1age_head_05\",\"s1hhsize_05\",\"s1hhsz_undr5_05\",\"s1hhsz_5_14_05\",\n",
    "        \"s1hhsz_15_24_05\",\"s1hhsz_25_64_05\",\"s1hhsz_65plus_05\",\"s1male_head_05\",\"s2mother_inhs_05\",\"s3ap5_rooms_h_05\",\n",
    "        \"s3ap23_stime_h_05\",\"s3ap24_htime_h_05\",\"s3ap25_hqtime_h_05\",\"s3atoilet_hh_05\",\"s3awater_access_hh_05\",\n",
    "        \"s3aelectric_hh_05\",\"s4p6_vitamina_i_05\",\"s4p7_parasite_i_05\",\"s11ownland_hh_05\",\"cons_food_pc_05\",\"cons_tot_pc_05\",\n",
    "        \"tvip_05\",\"height_05\",\"a10whz_05\",\"weight_05\",\"itt_i\",\"itt_all_i\",\"yrsedfath\",\"age_transfer\",\"bweight\",\n",
    "        \"s4p7_parasite_i_06\",\"male\",\"TREAT1\",\"TREAT2\",\"TREAT3\",\"TREAT4\",\"ed_mom\",\"MUN1\",\"MUN2\",\"MUN3\",\"MUN4\",\n",
    "        \"MUN5\",\"MUN6\",\"com_haz_05\",\"com_waz_05\",\"com_tvip_05\",\"com_control_05\",\"com_vit_05\",\"com_deworm_05\",\"com_notvip\",\n",
    "        \"sample06\",\"vitamiron_06\",\n",
    "        \"propfood_05\",\"prstap_f_05\",\"pranimalprot_f_05\",\"prfruitveg_f_05\"]"
   ]
  },
  {
   "cell_type": "code",
<<<<<<< Updated upstream
   "execution_count": 55,
=======
   "execution_count": 27,
>>>>>>> Stashed changes
   "id": "804f28af",
   "metadata": {},
   "outputs": [],
   "source": [
    "cleaned_df.drop(cleaned_df[df_out.iloc[cleaned_df.index].z_all_06.isna()].index, axis=0, inplace=True)"
   ]
  },
  {
   "cell_type": "code",
<<<<<<< Updated upstream
   "execution_count": 61,
=======
   "execution_count": 28,
>>>>>>> Stashed changes
   "id": "b42f0fc3",
   "metadata": {},
   "outputs": [],
   "source": [
    "cleaned_df[\"z_all_06\"]=df_out.iloc[cleaned_df.index].z_all_06"
   ]
  },
  {
   "cell_type": "code",
<<<<<<< Updated upstream
   "execution_count": 69,
=======
   "execution_count": 29,
>>>>>>> Stashed changes
   "id": "447af8fc",
   "metadata": {},
   "outputs": [],
   "source": [
    "cp_cols=[\"hogarid_old\",\"cp_old\",\"unique_05\", \"cpmom_06\"]"
   ]
  },
  {
   "cell_type": "code",
<<<<<<< Updated upstream
   "execution_count": 71,
=======
   "execution_count": 30,
>>>>>>> Stashed changes
   "id": "1c10e43c",
   "metadata": {},
   "outputs": [],
   "source": [
    "cleaned_df.drop(cp_cols, axis=1, inplace=True)"
   ]
  },
  {
   "cell_type": "code",
<<<<<<< Updated upstream
   "execution_count": 80,
=======
   "execution_count": 31,
>>>>>>> Stashed changes
   "id": "583b7d63",
   "metadata": {},
   "outputs": [],
   "source": [
    "from sklearn.model_selection import train_test_split\n",
    "# split data into train and test sets \n",
    "train, test = train_test_split(cleaned_df, test_size=0.2)\n",
    "\n",
    "# set variables for causal forest Y=outcome, T=treatment, X=covariates, W=effect_modifiers \n",
    "Y = train[outcome]\n",
    "T = train[treatment]\n",
    "X = train[covariates]\n",
    "W = None\n",
    "X_test = test[covariates]"
   ]
  },
  {
   "cell_type": "code",
<<<<<<< Updated upstream
   "execution_count": 100,
=======
   "execution_count": 32,
>>>>>>> Stashed changes
   "id": "5b0ca05d",
   "metadata": {},
   "outputs": [
    {
     "data": {
      "image/png": "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\n",
      "text/latex": [
       "$\\displaystyle 0.320401459825531$"
      ],
      "text/plain": [
       "0.320401459825531"
      ]
     },
     "execution_count": 32,
     "metadata": {},
     "output_type": "execute_result"
    }
   ],
   "source": [
    "from econml.dml import CausalForestDML\n",
    "from sklearn.linear_model import LassoCV\n",
    "\n",
    "# set parameters for causal forest \n",
    "causal_forest1 = CausalForestDML(criterion='het', \n",
    "                                n_estimators=10000,       \n",
    "                                min_samples_leaf=10, \n",
    "                                max_depth=None, \n",
    "                                max_samples=0.5,\n",
    "                                discrete_treatment=False,\n",
    "                                honest=True,\n",
    "                                inference=True,\n",
    "                                cv=10,\n",
    "                                model_t=LassoCV(), \n",
    "                                model_y=LassoCV(),\n",
    "                                )\n",
    "                      \n",
    "# fit train data to causal forest model \n",
    "causal_forest1.fit(Y, T, X=X, W=W)\n",
    "# estimate the CATE with the test set \n",
    "causal_forest1.const_marginal_ate(X_test)"
   ]
  },
  {
   "cell_type": "code",
<<<<<<< Updated upstream
   "execution_count": null,
   "id": "b679b979",
=======
   "execution_count": 33,
   "id": "3e36db4a",
   "metadata": {},
   "outputs": [],
   "source": [
    "a=causal_forest1.effect(X)"
   ]
  },
  {
   "cell_type": "markdown",
   "id": "a49212fb",
   "metadata": {},
   "source": [
    "Mirem de interpretar i identificar subgrups a través de les eines d'interpretació de econML. Primer fem un decision tree naive, sembla que fa el mateix que SingleTreeCateInterpreter. Després provem aquest (SingleTreeCateInterpreter) i llavors SingleTreePolicyInterpreter"
   ]
  },
  {
   "cell_type": "code",
   "execution_count": 34,
   "id": "cf1843e8",
   "metadata": {},
   "outputs": [],
   "source": [
    "import sklearn\n",
    "from sklearn.tree import DecisionTreeRegressor\n",
    "reg = DecisionTreeRegressor(max_depth=4).fit(X,a)\n",
    "sklearn.tree.export_graphviz(reg, 'test.dot')"
   ]
  },
  {
   "cell_type": "code",
   "execution_count": 35,
   "id": "06d4806d",
   "metadata": {},
   "outputs": [
    {
     "data": {
      "image/svg+xml": [
       "<?xml version=\"1.0\" encoding=\"UTF-8\" standalone=\"no\"?>\n",
       "<!DOCTYPE svg PUBLIC \"-//W3C//DTD SVG 1.1//EN\"\n",
       " \"http://www.w3.org/Graphics/SVG/1.1/DTD/svg11.dtd\">\n",
       "<!-- Generated by graphviz version 3.0.0 (20220226.1711)\n",
       " -->\n",
       "<!-- Title: Tree Pages: 1 -->\n",
       "<svg width=\"2814pt\" height=\"477pt\"\n",
       " viewBox=\"0.00 0.00 2814.00 477.00\" xmlns=\"http://www.w3.org/2000/svg\" xmlns:xlink=\"http://www.w3.org/1999/xlink\">\n",
       "<g id=\"graph0\" class=\"graph\" transform=\"scale(1 1) rotate(0) translate(4 473)\">\n",
       "<title>Tree</title>\n",
       "<polygon fill=\"white\" stroke=\"transparent\" points=\"-4,4 -4,-473 2810,-473 2810,4 -4,4\"/>\n",
       "<!-- 0 -->\n",
       "<g id=\"node1\" class=\"node\">\n",
       "<title>0</title>\n",
       "<polygon fill=\"none\" stroke=\"black\" points=\"1482,-469 1323,-469 1323,-401 1482,-401 1482,-469\"/>\n",
       "<text text-anchor=\"middle\" x=\"1402.5\" y=\"-453.8\" font-family=\"Helvetica,sans-Serif\" font-size=\"14.00\">age_transfer &lt;= 62.5</text>\n",
       "<text text-anchor=\"middle\" x=\"1402.5\" y=\"-438.8\" font-family=\"Helvetica,sans-Serif\" font-size=\"14.00\">squared_error = 0.116</text>\n",
       "<text text-anchor=\"middle\" x=\"1402.5\" y=\"-423.8\" font-family=\"Helvetica,sans-Serif\" font-size=\"14.00\">samples = 2567</text>\n",
       "<text text-anchor=\"middle\" x=\"1402.5\" y=\"-408.8\" font-family=\"Helvetica,sans-Serif\" font-size=\"14.00\">value = 0.307</text>\n",
       "</g>\n",
       "<!-- 1 -->\n",
       "<g id=\"node2\" class=\"node\">\n",
       "<title>1</title>\n",
       "<polygon fill=\"none\" stroke=\"black\" points=\"1132,-365 973,-365 973,-297 1132,-297 1132,-365\"/>\n",
       "<text text-anchor=\"middle\" x=\"1052.5\" y=\"-349.8\" font-family=\"Helvetica,sans-Serif\" font-size=\"14.00\">com_notvip &lt;= 0.414</text>\n",
       "<text text-anchor=\"middle\" x=\"1052.5\" y=\"-334.8\" font-family=\"Helvetica,sans-Serif\" font-size=\"14.00\">squared_error = 0.092</text>\n",
       "<text text-anchor=\"middle\" x=\"1052.5\" y=\"-319.8\" font-family=\"Helvetica,sans-Serif\" font-size=\"14.00\">samples = 2244</text>\n",
       "<text text-anchor=\"middle\" x=\"1052.5\" y=\"-304.8\" font-family=\"Helvetica,sans-Serif\" font-size=\"14.00\">value = 0.248</text>\n",
       "</g>\n",
       "<!-- 0&#45;&gt;1 -->\n",
       "<g id=\"edge1\" class=\"edge\">\n",
       "<title>0&#45;&gt;1</title>\n",
       "<path fill=\"none\" stroke=\"black\" d=\"M1322.64,-410.73C1268.78,-395.03 1197.64,-374.3 1141.88,-358.05\"/>\n",
       "<polygon fill=\"black\" stroke=\"black\" points=\"1142.6,-354.61 1132.02,-355.17 1140.64,-361.33 1142.6,-354.61\"/>\n",
       "<text text-anchor=\"middle\" x=\"1144.04\" y=\"-373.39\" font-family=\"Helvetica,sans-Serif\" font-size=\"14.00\">True</text>\n",
       "</g>\n",
       "<!-- 16 -->\n",
       "<g id=\"node17\" class=\"node\">\n",
       "<title>16</title>\n",
       "<polygon fill=\"none\" stroke=\"black\" points=\"1840,-365 1681,-365 1681,-297 1840,-297 1840,-365\"/>\n",
       "<text text-anchor=\"middle\" x=\"1760.5\" y=\"-349.8\" font-family=\"Helvetica,sans-Serif\" font-size=\"14.00\">com_notvip &lt;= 0.414</text>\n",
       "<text text-anchor=\"middle\" x=\"1760.5\" y=\"-334.8\" font-family=\"Helvetica,sans-Serif\" font-size=\"14.00\">squared_error = 0.088</text>\n",
       "<text text-anchor=\"middle\" x=\"1760.5\" y=\"-319.8\" font-family=\"Helvetica,sans-Serif\" font-size=\"14.00\">samples = 323</text>\n",
       "<text text-anchor=\"middle\" x=\"1760.5\" y=\"-304.8\" font-family=\"Helvetica,sans-Serif\" font-size=\"14.00\">value = 0.721</text>\n",
       "</g>\n",
       "<!-- 0&#45;&gt;16 -->\n",
       "<g id=\"edge16\" class=\"edge\">\n",
       "<title>0&#45;&gt;16</title>\n",
       "<path fill=\"none\" stroke=\"black\" d=\"M1482.4,-411.24C1538.31,-395.31 1613.05,-374.01 1670.97,-357.51\"/>\n",
       "<polygon fill=\"black\" stroke=\"black\" points=\"1672.19,-360.8 1680.85,-354.69 1670.27,-354.07 1672.19,-360.8\"/>\n",
       "<text text-anchor=\"middle\" x=\"1668.69\" y=\"-372.84\" font-family=\"Helvetica,sans-Serif\" font-size=\"14.00\">False</text>\n",
       "</g>\n",
       "<!-- 2 -->\n",
       "<g id=\"node3\" class=\"node\">\n",
       "<title>2</title>\n",
       "<polygon fill=\"none\" stroke=\"black\" points=\"608,-261 447,-261 447,-193 608,-193 608,-261\"/>\n",
       "<text text-anchor=\"middle\" x=\"527.5\" y=\"-245.8\" font-family=\"Helvetica,sans-Serif\" font-size=\"14.00\">propfood_05 &lt;= 0.631</text>\n",
       "<text text-anchor=\"middle\" x=\"527.5\" y=\"-230.8\" font-family=\"Helvetica,sans-Serif\" font-size=\"14.00\">squared_error = 0.065</text>\n",
       "<text text-anchor=\"middle\" x=\"527.5\" y=\"-215.8\" font-family=\"Helvetica,sans-Serif\" font-size=\"14.00\">samples = 2093</text>\n",
       "<text text-anchor=\"middle\" x=\"527.5\" y=\"-200.8\" font-family=\"Helvetica,sans-Serif\" font-size=\"14.00\">value = 0.207</text>\n",
       "</g>\n",
       "<!-- 1&#45;&gt;2 -->\n",
       "<g id=\"edge2\" class=\"edge\">\n",
       "<title>1&#45;&gt;2</title>\n",
       "<path fill=\"none\" stroke=\"black\" d=\"M972.76,-314.51C877.5,-296 718.49,-265.11 618.51,-245.68\"/>\n",
       "<polygon fill=\"black\" stroke=\"black\" points=\"618.9,-242.19 608.42,-243.72 617.57,-249.06 618.9,-242.19\"/>\n",
       "</g>\n",
       "<!-- 9 -->\n",
       "<g id=\"node10\" class=\"node\">\n",
       "<title>9</title>\n",
       "<polygon fill=\"none\" stroke=\"black\" points=\"1128,-261 977,-261 977,-193 1128,-193 1128,-261\"/>\n",
       "<text text-anchor=\"middle\" x=\"1052.5\" y=\"-245.8\" font-family=\"Helvetica,sans-Serif\" font-size=\"14.00\">com_tvip_05 &lt;= 3.7</text>\n",
       "<text text-anchor=\"middle\" x=\"1052.5\" y=\"-230.8\" font-family=\"Helvetica,sans-Serif\" font-size=\"14.00\">squared_error = 0.12</text>\n",
       "<text text-anchor=\"middle\" x=\"1052.5\" y=\"-215.8\" font-family=\"Helvetica,sans-Serif\" font-size=\"14.00\">samples = 151</text>\n",
       "<text text-anchor=\"middle\" x=\"1052.5\" y=\"-200.8\" font-family=\"Helvetica,sans-Serif\" font-size=\"14.00\">value = 0.805</text>\n",
       "</g>\n",
       "<!-- 1&#45;&gt;9 -->\n",
       "<g id=\"edge9\" class=\"edge\">\n",
       "<title>1&#45;&gt;9</title>\n",
       "<path fill=\"none\" stroke=\"black\" d=\"M1052.5,-296.88C1052.5,-288.78 1052.5,-279.98 1052.5,-271.47\"/>\n",
       "<polygon fill=\"black\" stroke=\"black\" points=\"1056,-271.3 1052.5,-261.3 1049,-271.3 1056,-271.3\"/>\n",
       "</g>\n",
       "<!-- 3 -->\n",
       "<g id=\"node4\" class=\"node\">\n",
       "<title>3</title>\n",
       "<polygon fill=\"none\" stroke=\"black\" points=\"336,-157 177,-157 177,-89 336,-89 336,-157\"/>\n",
       "<text text-anchor=\"middle\" x=\"256.5\" y=\"-141.8\" font-family=\"Helvetica,sans-Serif\" font-size=\"14.00\">age_transfer &lt;= 30.5</text>\n",
       "<text text-anchor=\"middle\" x=\"256.5\" y=\"-126.8\" font-family=\"Helvetica,sans-Serif\" font-size=\"14.00\">squared_error = 0.053</text>\n",
       "<text text-anchor=\"middle\" x=\"256.5\" y=\"-111.8\" font-family=\"Helvetica,sans-Serif\" font-size=\"14.00\">samples = 605</text>\n",
       "<text text-anchor=\"middle\" x=\"256.5\" y=\"-96.8\" font-family=\"Helvetica,sans-Serif\" font-size=\"14.00\">value = 0.067</text>\n",
       "</g>\n",
       "<!-- 2&#45;&gt;3 -->\n",
       "<g id=\"edge3\" class=\"edge\">\n",
       "<title>2&#45;&gt;3</title>\n",
       "<path fill=\"none\" stroke=\"black\" d=\"M446.92,-195.67C415.12,-183.7 378.45,-169.9 345.83,-157.62\"/>\n",
       "<polygon fill=\"black\" stroke=\"black\" points=\"346.89,-154.28 336.3,-154.03 344.42,-160.83 346.89,-154.28\"/>\n",
       "</g>\n",
       "<!-- 6 -->\n",
       "<g id=\"node7\" class=\"node\">\n",
       "<title>6</title>\n",
       "<polygon fill=\"none\" stroke=\"black\" points=\"617.5,-157 437.5,-157 437.5,-89 617.5,-89 617.5,-157\"/>\n",
       "<text text-anchor=\"middle\" x=\"527.5\" y=\"-141.8\" font-family=\"Helvetica,sans-Serif\" font-size=\"14.00\">s1hhsz_15_24_05 &lt;= 1.5</text>\n",
       "<text text-anchor=\"middle\" x=\"527.5\" y=\"-126.8\" font-family=\"Helvetica,sans-Serif\" font-size=\"14.00\">squared_error = 0.059</text>\n",
       "<text text-anchor=\"middle\" x=\"527.5\" y=\"-111.8\" font-family=\"Helvetica,sans-Serif\" font-size=\"14.00\">samples = 1488</text>\n",
       "<text text-anchor=\"middle\" x=\"527.5\" y=\"-96.8\" font-family=\"Helvetica,sans-Serif\" font-size=\"14.00\">value = 0.264</text>\n",
       "</g>\n",
       "<!-- 2&#45;&gt;6 -->\n",
       "<g id=\"edge6\" class=\"edge\">\n",
       "<title>2&#45;&gt;6</title>\n",
       "<path fill=\"none\" stroke=\"black\" d=\"M527.5,-192.88C527.5,-184.78 527.5,-175.98 527.5,-167.47\"/>\n",
       "<polygon fill=\"black\" stroke=\"black\" points=\"531,-167.3 527.5,-157.3 524,-167.3 531,-167.3\"/>\n",
       "</g>\n",
       "<!-- 4 -->\n",
       "<g id=\"node5\" class=\"node\">\n",
       "<title>4</title>\n",
       "<polygon fill=\"none\" stroke=\"black\" points=\"159,-53 0,-53 0,0 159,0 159,-53\"/>\n",
       "<text text-anchor=\"middle\" x=\"79.5\" y=\"-37.8\" font-family=\"Helvetica,sans-Serif\" font-size=\"14.00\">squared_error = 0.053</text>\n",
       "<text text-anchor=\"middle\" x=\"79.5\" y=\"-22.8\" font-family=\"Helvetica,sans-Serif\" font-size=\"14.00\">samples = 312</text>\n",
       "<text text-anchor=\"middle\" x=\"79.5\" y=\"-7.8\" font-family=\"Helvetica,sans-Serif\" font-size=\"14.00\">value = &#45;0.005</text>\n",
       "</g>\n",
       "<!-- 3&#45;&gt;4 -->\n",
       "<g id=\"edge4\" class=\"edge\">\n",
       "<title>3&#45;&gt;4</title>\n",
       "<path fill=\"none\" stroke=\"black\" d=\"M194.59,-88.95C175.66,-78.84 154.94,-67.78 136.36,-57.86\"/>\n",
       "<polygon fill=\"black\" stroke=\"black\" points=\"137.89,-54.71 127.42,-53.09 134.6,-60.88 137.89,-54.71\"/>\n",
       "</g>\n",
       "<!-- 5 -->\n",
       "<g id=\"node6\" class=\"node\">\n",
       "<title>5</title>\n",
       "<polygon fill=\"none\" stroke=\"black\" points=\"336,-53 177,-53 177,0 336,0 336,-53\"/>\n",
       "<text text-anchor=\"middle\" x=\"256.5\" y=\"-37.8\" font-family=\"Helvetica,sans-Serif\" font-size=\"14.00\">squared_error = 0.042</text>\n",
       "<text text-anchor=\"middle\" x=\"256.5\" y=\"-22.8\" font-family=\"Helvetica,sans-Serif\" font-size=\"14.00\">samples = 293</text>\n",
       "<text text-anchor=\"middle\" x=\"256.5\" y=\"-7.8\" font-family=\"Helvetica,sans-Serif\" font-size=\"14.00\">value = 0.144</text>\n",
       "</g>\n",
       "<!-- 3&#45;&gt;5 -->\n",
       "<g id=\"edge5\" class=\"edge\">\n",
       "<title>3&#45;&gt;5</title>\n",
       "<path fill=\"none\" stroke=\"black\" d=\"M256.5,-88.95C256.5,-80.72 256.5,-71.85 256.5,-63.48\"/>\n",
       "<polygon fill=\"black\" stroke=\"black\" points=\"260,-63.24 256.5,-53.24 253,-63.24 260,-63.24\"/>\n",
       "</g>\n",
       "<!-- 7 -->\n",
       "<g id=\"node8\" class=\"node\">\n",
       "<title>7</title>\n",
       "<polygon fill=\"none\" stroke=\"black\" points=\"513,-53 354,-53 354,0 513,0 513,-53\"/>\n",
       "<text text-anchor=\"middle\" x=\"433.5\" y=\"-37.8\" font-family=\"Helvetica,sans-Serif\" font-size=\"14.00\">squared_error = 0.044</text>\n",
       "<text text-anchor=\"middle\" x=\"433.5\" y=\"-22.8\" font-family=\"Helvetica,sans-Serif\" font-size=\"14.00\">samples = 955</text>\n",
       "<text text-anchor=\"middle\" x=\"433.5\" y=\"-7.8\" font-family=\"Helvetica,sans-Serif\" font-size=\"14.00\">value = 0.202</text>\n",
       "</g>\n",
       "<!-- 6&#45;&gt;7 -->\n",
       "<g id=\"edge7\" class=\"edge\">\n",
       "<title>6&#45;&gt;7</title>\n",
       "<path fill=\"none\" stroke=\"black\" d=\"M494.62,-88.95C485.43,-79.71 475.45,-69.67 466.26,-60.44\"/>\n",
       "<polygon fill=\"black\" stroke=\"black\" points=\"468.63,-57.86 459.1,-53.24 463.67,-62.79 468.63,-57.86\"/>\n",
       "</g>\n",
       "<!-- 8 -->\n",
       "<g id=\"node9\" class=\"node\">\n",
       "<title>8</title>\n",
       "<polygon fill=\"none\" stroke=\"black\" points=\"690,-53 531,-53 531,0 690,0 690,-53\"/>\n",
       "<text text-anchor=\"middle\" x=\"610.5\" y=\"-37.8\" font-family=\"Helvetica,sans-Serif\" font-size=\"14.00\">squared_error = 0.067</text>\n",
       "<text text-anchor=\"middle\" x=\"610.5\" y=\"-22.8\" font-family=\"Helvetica,sans-Serif\" font-size=\"14.00\">samples = 533</text>\n",
       "<text text-anchor=\"middle\" x=\"610.5\" y=\"-7.8\" font-family=\"Helvetica,sans-Serif\" font-size=\"14.00\">value = 0.376</text>\n",
       "</g>\n",
       "<!-- 6&#45;&gt;8 -->\n",
       "<g id=\"edge8\" class=\"edge\">\n",
       "<title>6&#45;&gt;8</title>\n",
       "<path fill=\"none\" stroke=\"black\" d=\"M556.53,-88.95C564.48,-79.89 573.11,-70.07 581.09,-60.99\"/>\n",
       "<polygon fill=\"black\" stroke=\"black\" points=\"583.93,-63.06 587.9,-53.24 578.67,-58.44 583.93,-63.06\"/>\n",
       "</g>\n",
       "<!-- 10 -->\n",
       "<g id=\"node11\" class=\"node\">\n",
       "<title>10</title>\n",
       "<polygon fill=\"none\" stroke=\"black\" points=\"1042,-157 883,-157 883,-89 1042,-89 1042,-157\"/>\n",
       "<text text-anchor=\"middle\" x=\"962.5\" y=\"-141.8\" font-family=\"Helvetica,sans-Serif\" font-size=\"14.00\">yrsedfath &lt;= 1.5</text>\n",
       "<text text-anchor=\"middle\" x=\"962.5\" y=\"-126.8\" font-family=\"Helvetica,sans-Serif\" font-size=\"14.00\">squared_error = 0.051</text>\n",
       "<text text-anchor=\"middle\" x=\"962.5\" y=\"-111.8\" font-family=\"Helvetica,sans-Serif\" font-size=\"14.00\">samples = 55</text>\n",
       "<text text-anchor=\"middle\" x=\"962.5\" y=\"-96.8\" font-family=\"Helvetica,sans-Serif\" font-size=\"14.00\">value = 0.485</text>\n",
       "</g>\n",
       "<!-- 9&#45;&gt;10 -->\n",
       "<g id=\"edge10\" class=\"edge\">\n",
       "<title>9&#45;&gt;10</title>\n",
       "<path fill=\"none\" stroke=\"black\" d=\"M1023.28,-192.88C1015.42,-183.98 1006.83,-174.24 998.64,-164.96\"/>\n",
       "<polygon fill=\"black\" stroke=\"black\" points=\"1001.12,-162.48 991.88,-157.3 995.87,-167.11 1001.12,-162.48\"/>\n",
       "</g>\n",
       "<!-- 13 -->\n",
       "<g id=\"node14\" class=\"node\">\n",
       "<title>13</title>\n",
       "<polygon fill=\"none\" stroke=\"black\" points=\"1224.5,-157 1060.5,-157 1060.5,-89 1224.5,-89 1224.5,-157\"/>\n",
       "<text text-anchor=\"middle\" x=\"1142.5\" y=\"-141.8\" font-family=\"Helvetica,sans-Serif\" font-size=\"14.00\">com_haz_05 &lt;= &#45;0.717</text>\n",
       "<text text-anchor=\"middle\" x=\"1142.5\" y=\"-126.8\" font-family=\"Helvetica,sans-Serif\" font-size=\"14.00\">squared_error = 0.067</text>\n",
       "<text text-anchor=\"middle\" x=\"1142.5\" y=\"-111.8\" font-family=\"Helvetica,sans-Serif\" font-size=\"14.00\">samples = 96</text>\n",
       "<text text-anchor=\"middle\" x=\"1142.5\" y=\"-96.8\" font-family=\"Helvetica,sans-Serif\" font-size=\"14.00\">value = 0.989</text>\n",
       "</g>\n",
       "<!-- 9&#45;&gt;13 -->\n",
       "<g id=\"edge13\" class=\"edge\">\n",
       "<title>9&#45;&gt;13</title>\n",
       "<path fill=\"none\" stroke=\"black\" d=\"M1081.72,-192.88C1089.58,-183.98 1098.17,-174.24 1106.36,-164.96\"/>\n",
       "<polygon fill=\"black\" stroke=\"black\" points=\"1109.13,-167.11 1113.12,-157.3 1103.88,-162.48 1109.13,-167.11\"/>\n",
       "</g>\n",
       "<!-- 11 -->\n",
       "<g id=\"node12\" class=\"node\">\n",
       "<title>11</title>\n",
       "<polygon fill=\"none\" stroke=\"black\" points=\"867,-53 708,-53 708,0 867,0 867,-53\"/>\n",
       "<text text-anchor=\"middle\" x=\"787.5\" y=\"-37.8\" font-family=\"Helvetica,sans-Serif\" font-size=\"14.00\">squared_error = 0.024</text>\n",
       "<text text-anchor=\"middle\" x=\"787.5\" y=\"-22.8\" font-family=\"Helvetica,sans-Serif\" font-size=\"14.00\">samples = 20</text>\n",
       "<text text-anchor=\"middle\" x=\"787.5\" y=\"-7.8\" font-family=\"Helvetica,sans-Serif\" font-size=\"14.00\">value = 0.321</text>\n",
       "</g>\n",
       "<!-- 10&#45;&gt;11 -->\n",
       "<g id=\"edge11\" class=\"edge\">\n",
       "<title>10&#45;&gt;11</title>\n",
       "<path fill=\"none\" stroke=\"black\" d=\"M901.29,-88.95C882.57,-78.84 862.08,-67.78 843.71,-57.86\"/>\n",
       "<polygon fill=\"black\" stroke=\"black\" points=\"845.34,-54.76 834.88,-53.09 842.02,-60.92 845.34,-54.76\"/>\n",
       "</g>\n",
       "<!-- 12 -->\n",
       "<g id=\"node13\" class=\"node\">\n",
       "<title>12</title>\n",
       "<polygon fill=\"none\" stroke=\"black\" points=\"1044,-53 885,-53 885,0 1044,0 1044,-53\"/>\n",
       "<text text-anchor=\"middle\" x=\"964.5\" y=\"-37.8\" font-family=\"Helvetica,sans-Serif\" font-size=\"14.00\">squared_error = 0.043</text>\n",
       "<text text-anchor=\"middle\" x=\"964.5\" y=\"-22.8\" font-family=\"Helvetica,sans-Serif\" font-size=\"14.00\">samples = 35</text>\n",
       "<text text-anchor=\"middle\" x=\"964.5\" y=\"-7.8\" font-family=\"Helvetica,sans-Serif\" font-size=\"14.00\">value = 0.579</text>\n",
       "</g>\n",
       "<!-- 10&#45;&gt;12 -->\n",
       "<g id=\"edge12\" class=\"edge\">\n",
       "<title>10&#45;&gt;12</title>\n",
       "<path fill=\"none\" stroke=\"black\" d=\"M963.2,-88.95C963.37,-80.72 963.56,-71.85 963.74,-63.48\"/>\n",
       "<polygon fill=\"black\" stroke=\"black\" points=\"967.24,-63.31 963.96,-53.24 960.24,-63.16 967.24,-63.31\"/>\n",
       "</g>\n",
       "<!-- 14 -->\n",
       "<g id=\"node15\" class=\"node\">\n",
       "<title>14</title>\n",
       "<polygon fill=\"none\" stroke=\"black\" points=\"1221,-53 1062,-53 1062,0 1221,0 1221,-53\"/>\n",
       "<text text-anchor=\"middle\" x=\"1141.5\" y=\"-37.8\" font-family=\"Helvetica,sans-Serif\" font-size=\"14.00\">squared_error = 0.033</text>\n",
       "<text text-anchor=\"middle\" x=\"1141.5\" y=\"-22.8\" font-family=\"Helvetica,sans-Serif\" font-size=\"14.00\">samples = 23</text>\n",
       "<text text-anchor=\"middle\" x=\"1141.5\" y=\"-7.8\" font-family=\"Helvetica,sans-Serif\" font-size=\"14.00\">value = 1.297</text>\n",
       "</g>\n",
       "<!-- 13&#45;&gt;14 -->\n",
       "<g id=\"edge14\" class=\"edge\">\n",
       "<title>13&#45;&gt;14</title>\n",
       "<path fill=\"none\" stroke=\"black\" d=\"M1142.15,-88.95C1142.06,-80.72 1141.97,-71.85 1141.88,-63.48\"/>\n",
       "<polygon fill=\"black\" stroke=\"black\" points=\"1145.38,-63.2 1141.77,-53.24 1138.38,-63.27 1145.38,-63.2\"/>\n",
       "</g>\n",
       "<!-- 15 -->\n",
       "<g id=\"node16\" class=\"node\">\n",
       "<title>15</title>\n",
       "<polygon fill=\"none\" stroke=\"black\" points=\"1398,-53 1239,-53 1239,0 1398,0 1398,-53\"/>\n",
       "<text text-anchor=\"middle\" x=\"1318.5\" y=\"-37.8\" font-family=\"Helvetica,sans-Serif\" font-size=\"14.00\">squared_error = 0.038</text>\n",
       "<text text-anchor=\"middle\" x=\"1318.5\" y=\"-22.8\" font-family=\"Helvetica,sans-Serif\" font-size=\"14.00\">samples = 73</text>\n",
       "<text text-anchor=\"middle\" x=\"1318.5\" y=\"-7.8\" font-family=\"Helvetica,sans-Serif\" font-size=\"14.00\">value = 0.892</text>\n",
       "</g>\n",
       "<!-- 13&#45;&gt;15 -->\n",
       "<g id=\"edge15\" class=\"edge\">\n",
       "<title>13&#45;&gt;15</title>\n",
       "<path fill=\"none\" stroke=\"black\" d=\"M1204.06,-88.95C1222.88,-78.84 1243.49,-67.78 1261.96,-57.86\"/>\n",
       "<polygon fill=\"black\" stroke=\"black\" points=\"1263.69,-60.9 1270.85,-53.09 1260.38,-54.73 1263.69,-60.9\"/>\n",
       "</g>\n",
       "<!-- 17 -->\n",
       "<g id=\"node18\" class=\"node\">\n",
       "<title>17</title>\n",
       "<polygon fill=\"none\" stroke=\"black\" points=\"1840,-261 1681,-261 1681,-193 1840,-193 1840,-261\"/>\n",
       "<text text-anchor=\"middle\" x=\"1760.5\" y=\"-245.8\" font-family=\"Helvetica,sans-Serif\" font-size=\"14.00\">age_transfer &lt;= 66.5</text>\n",
       "<text text-anchor=\"middle\" x=\"1760.5\" y=\"-230.8\" font-family=\"Helvetica,sans-Serif\" font-size=\"14.00\">squared_error = 0.065</text>\n",
       "<text text-anchor=\"middle\" x=\"1760.5\" y=\"-215.8\" font-family=\"Helvetica,sans-Serif\" font-size=\"14.00\">samples = 304</text>\n",
       "<text text-anchor=\"middle\" x=\"1760.5\" y=\"-200.8\" font-family=\"Helvetica,sans-Serif\" font-size=\"14.00\">value = 0.685</text>\n",
       "</g>\n",
       "<!-- 16&#45;&gt;17 -->\n",
       "<g id=\"edge17\" class=\"edge\">\n",
       "<title>16&#45;&gt;17</title>\n",
       "<path fill=\"none\" stroke=\"black\" d=\"M1760.5,-296.88C1760.5,-288.78 1760.5,-279.98 1760.5,-271.47\"/>\n",
       "<polygon fill=\"black\" stroke=\"black\" points=\"1764,-271.3 1760.5,-261.3 1757,-271.3 1764,-271.3\"/>\n",
       "</g>\n",
       "<!-- 24 -->\n",
       "<g id=\"node25\" class=\"node\">\n",
       "<title>24</title>\n",
       "<polygon fill=\"none\" stroke=\"black\" points=\"2372.5,-261 2210.5,-261 2210.5,-193 2372.5,-193 2372.5,-261\"/>\n",
       "<text text-anchor=\"middle\" x=\"2291.5\" y=\"-245.8\" font-family=\"Helvetica,sans-Serif\" font-size=\"14.00\">com_waz_05 &lt;= 0.339</text>\n",
       "<text text-anchor=\"middle\" x=\"2291.5\" y=\"-230.8\" font-family=\"Helvetica,sans-Serif\" font-size=\"14.00\">squared_error = 0.097</text>\n",
       "<text text-anchor=\"middle\" x=\"2291.5\" y=\"-215.8\" font-family=\"Helvetica,sans-Serif\" font-size=\"14.00\">samples = 19</text>\n",
       "<text text-anchor=\"middle\" x=\"2291.5\" y=\"-200.8\" font-family=\"Helvetica,sans-Serif\" font-size=\"14.00\">value = 1.307</text>\n",
       "</g>\n",
       "<!-- 16&#45;&gt;24 -->\n",
       "<g id=\"edge24\" class=\"edge\">\n",
       "<title>16&#45;&gt;24</title>\n",
       "<path fill=\"none\" stroke=\"black\" d=\"M1840.28,-314.67C1936.81,-296.13 2098.95,-264.99 2200.33,-245.51\"/>\n",
       "<polygon fill=\"black\" stroke=\"black\" points=\"2201.09,-248.93 2210.25,-243.61 2199.77,-242.06 2201.09,-248.93\"/>\n",
       "</g>\n",
       "<!-- 18 -->\n",
       "<g id=\"node19\" class=\"node\">\n",
       "<title>18</title>\n",
       "<polygon fill=\"none\" stroke=\"black\" points=\"1749.5,-157 1585.5,-157 1585.5,-89 1749.5,-89 1749.5,-157\"/>\n",
       "<text text-anchor=\"middle\" x=\"1667.5\" y=\"-141.8\" font-family=\"Helvetica,sans-Serif\" font-size=\"14.00\">com_haz_05 &lt;= &#45;1.153</text>\n",
       "<text text-anchor=\"middle\" x=\"1667.5\" y=\"-126.8\" font-family=\"Helvetica,sans-Serif\" font-size=\"14.00\">squared_error = 0.043</text>\n",
       "<text text-anchor=\"middle\" x=\"1667.5\" y=\"-111.8\" font-family=\"Helvetica,sans-Serif\" font-size=\"14.00\">samples = 126</text>\n",
       "<text text-anchor=\"middle\" x=\"1667.5\" y=\"-96.8\" font-family=\"Helvetica,sans-Serif\" font-size=\"14.00\">value = 0.541</text>\n",
       "</g>\n",
       "<!-- 17&#45;&gt;18 -->\n",
       "<g id=\"edge18\" class=\"edge\">\n",
       "<title>17&#45;&gt;18</title>\n",
       "<path fill=\"none\" stroke=\"black\" d=\"M1730.31,-192.88C1722.18,-183.98 1713.3,-174.24 1704.84,-164.96\"/>\n",
       "<polygon fill=\"black\" stroke=\"black\" points=\"1707.19,-162.33 1697.86,-157.3 1702.01,-167.05 1707.19,-162.33\"/>\n",
       "</g>\n",
       "<!-- 21 -->\n",
       "<g id=\"node22\" class=\"node\">\n",
       "<title>21</title>\n",
       "<polygon fill=\"none\" stroke=\"black\" points=\"1941,-157 1768,-157 1768,-89 1941,-89 1941,-157\"/>\n",
       "<text text-anchor=\"middle\" x=\"1854.5\" y=\"-141.8\" font-family=\"Helvetica,sans-Serif\" font-size=\"14.00\">s1age_head_05 &lt;= 35.5</text>\n",
       "<text text-anchor=\"middle\" x=\"1854.5\" y=\"-126.8\" font-family=\"Helvetica,sans-Serif\" font-size=\"14.00\">squared_error = 0.055</text>\n",
       "<text text-anchor=\"middle\" x=\"1854.5\" y=\"-111.8\" font-family=\"Helvetica,sans-Serif\" font-size=\"14.00\">samples = 178</text>\n",
       "<text text-anchor=\"middle\" x=\"1854.5\" y=\"-96.8\" font-family=\"Helvetica,sans-Serif\" font-size=\"14.00\">value = 0.786</text>\n",
       "</g>\n",
       "<!-- 17&#45;&gt;21 -->\n",
       "<g id=\"edge21\" class=\"edge\">\n",
       "<title>17&#45;&gt;21</title>\n",
       "<path fill=\"none\" stroke=\"black\" d=\"M1791.02,-192.88C1799.31,-183.89 1808.38,-174.04 1817.01,-164.68\"/>\n",
       "<polygon fill=\"black\" stroke=\"black\" points=\"1819.61,-167.02 1823.81,-157.3 1814.46,-162.28 1819.61,-167.02\"/>\n",
       "</g>\n",
       "<!-- 19 -->\n",
       "<g id=\"node20\" class=\"node\">\n",
       "<title>19</title>\n",
       "<polygon fill=\"none\" stroke=\"black\" points=\"1575,-53 1416,-53 1416,0 1575,0 1575,-53\"/>\n",
       "<text text-anchor=\"middle\" x=\"1495.5\" y=\"-37.8\" font-family=\"Helvetica,sans-Serif\" font-size=\"14.00\">squared_error = 0.028</text>\n",
       "<text text-anchor=\"middle\" x=\"1495.5\" y=\"-22.8\" font-family=\"Helvetica,sans-Serif\" font-size=\"14.00\">samples = 28</text>\n",
       "<text text-anchor=\"middle\" x=\"1495.5\" y=\"-7.8\" font-family=\"Helvetica,sans-Serif\" font-size=\"14.00\">value = 0.738</text>\n",
       "</g>\n",
       "<!-- 18&#45;&gt;19 -->\n",
       "<g id=\"edge19\" class=\"edge\">\n",
       "<title>18&#45;&gt;19</title>\n",
       "<path fill=\"none\" stroke=\"black\" d=\"M1607.34,-88.95C1589.11,-78.93 1569.17,-67.98 1551.24,-58.13\"/>\n",
       "<polygon fill=\"black\" stroke=\"black\" points=\"1552.52,-54.83 1542.07,-53.09 1549.15,-60.97 1552.52,-54.83\"/>\n",
       "</g>\n",
       "<!-- 20 -->\n",
       "<g id=\"node21\" class=\"node\">\n",
       "<title>20</title>\n",
       "<polygon fill=\"none\" stroke=\"black\" points=\"1752,-53 1593,-53 1593,0 1752,0 1752,-53\"/>\n",
       "<text text-anchor=\"middle\" x=\"1672.5\" y=\"-37.8\" font-family=\"Helvetica,sans-Serif\" font-size=\"14.00\">squared_error = 0.034</text>\n",
       "<text text-anchor=\"middle\" x=\"1672.5\" y=\"-22.8\" font-family=\"Helvetica,sans-Serif\" font-size=\"14.00\">samples = 98</text>\n",
       "<text text-anchor=\"middle\" x=\"1672.5\" y=\"-7.8\" font-family=\"Helvetica,sans-Serif\" font-size=\"14.00\">value = 0.485</text>\n",
       "</g>\n",
       "<!-- 18&#45;&gt;20 -->\n",
       "<g id=\"edge20\" class=\"edge\">\n",
       "<title>18&#45;&gt;20</title>\n",
       "<path fill=\"none\" stroke=\"black\" d=\"M1669.25,-88.95C1669.68,-80.72 1670.15,-71.85 1670.6,-63.48\"/>\n",
       "<polygon fill=\"black\" stroke=\"black\" points=\"1674.1,-63.41 1671.14,-53.24 1667.11,-63.04 1674.1,-63.41\"/>\n",
       "</g>\n",
       "<!-- 22 -->\n",
       "<g id=\"node23\" class=\"node\">\n",
       "<title>22</title>\n",
       "<polygon fill=\"none\" stroke=\"black\" points=\"1929,-53 1770,-53 1770,0 1929,0 1929,-53\"/>\n",
       "<text text-anchor=\"middle\" x=\"1849.5\" y=\"-37.8\" font-family=\"Helvetica,sans-Serif\" font-size=\"14.00\">squared_error = 0.039</text>\n",
       "<text text-anchor=\"middle\" x=\"1849.5\" y=\"-22.8\" font-family=\"Helvetica,sans-Serif\" font-size=\"14.00\">samples = 84</text>\n",
       "<text text-anchor=\"middle\" x=\"1849.5\" y=\"-7.8\" font-family=\"Helvetica,sans-Serif\" font-size=\"14.00\">value = 0.681</text>\n",
       "</g>\n",
       "<!-- 21&#45;&gt;22 -->\n",
       "<g id=\"edge22\" class=\"edge\">\n",
       "<title>21&#45;&gt;22</title>\n",
       "<path fill=\"none\" stroke=\"black\" d=\"M1852.75,-88.95C1852.32,-80.72 1851.85,-71.85 1851.4,-63.48\"/>\n",
       "<polygon fill=\"black\" stroke=\"black\" points=\"1854.89,-63.04 1850.86,-53.24 1847.9,-63.41 1854.89,-63.04\"/>\n",
       "</g>\n",
       "<!-- 23 -->\n",
       "<g id=\"node24\" class=\"node\">\n",
       "<title>23</title>\n",
       "<polygon fill=\"none\" stroke=\"black\" points=\"2106,-53 1947,-53 1947,0 2106,0 2106,-53\"/>\n",
       "<text text-anchor=\"middle\" x=\"2026.5\" y=\"-37.8\" font-family=\"Helvetica,sans-Serif\" font-size=\"14.00\">squared_error = 0.051</text>\n",
       "<text text-anchor=\"middle\" x=\"2026.5\" y=\"-22.8\" font-family=\"Helvetica,sans-Serif\" font-size=\"14.00\">samples = 94</text>\n",
       "<text text-anchor=\"middle\" x=\"2026.5\" y=\"-7.8\" font-family=\"Helvetica,sans-Serif\" font-size=\"14.00\">value = 0.881</text>\n",
       "</g>\n",
       "<!-- 21&#45;&gt;23 -->\n",
       "<g id=\"edge23\" class=\"edge\">\n",
       "<title>21&#45;&gt;23</title>\n",
       "<path fill=\"none\" stroke=\"black\" d=\"M1914.66,-88.95C1932.89,-78.93 1952.83,-67.98 1970.76,-58.13\"/>\n",
       "<polygon fill=\"black\" stroke=\"black\" points=\"1972.85,-60.97 1979.93,-53.09 1969.48,-54.83 1972.85,-60.97\"/>\n",
       "</g>\n",
       "<!-- 25 -->\n",
       "<g id=\"node26\" class=\"node\">\n",
       "<title>25</title>\n",
       "<polygon fill=\"none\" stroke=\"black\" points=\"2371,-157 2212,-157 2212,-89 2371,-89 2371,-157\"/>\n",
       "<text text-anchor=\"middle\" x=\"2291.5\" y=\"-141.8\" font-family=\"Helvetica,sans-Serif\" font-size=\"14.00\">age_transfer &lt;= 64.5</text>\n",
       "<text text-anchor=\"middle\" x=\"2291.5\" y=\"-126.8\" font-family=\"Helvetica,sans-Serif\" font-size=\"14.00\">squared_error = 0.042</text>\n",
       "<text text-anchor=\"middle\" x=\"2291.5\" y=\"-111.8\" font-family=\"Helvetica,sans-Serif\" font-size=\"14.00\">samples = 14</text>\n",
       "<text text-anchor=\"middle\" x=\"2291.5\" y=\"-96.8\" font-family=\"Helvetica,sans-Serif\" font-size=\"14.00\">value = 1.45</text>\n",
       "</g>\n",
       "<!-- 24&#45;&gt;25 -->\n",
       "<g id=\"edge25\" class=\"edge\">\n",
       "<title>24&#45;&gt;25</title>\n",
       "<path fill=\"none\" stroke=\"black\" d=\"M2291.5,-192.88C2291.5,-184.78 2291.5,-175.98 2291.5,-167.47\"/>\n",
       "<polygon fill=\"black\" stroke=\"black\" points=\"2295,-167.3 2291.5,-157.3 2288,-167.3 2295,-167.3\"/>\n",
       "</g>\n",
       "<!-- 28 -->\n",
       "<g id=\"node29\" class=\"node\">\n",
       "<title>28</title>\n",
       "<polygon fill=\"none\" stroke=\"black\" points=\"2637,-157 2478,-157 2478,-89 2637,-89 2637,-157\"/>\n",
       "<text text-anchor=\"middle\" x=\"2557.5\" y=\"-141.8\" font-family=\"Helvetica,sans-Serif\" font-size=\"14.00\">bweight &lt;= 6.8</text>\n",
       "<text text-anchor=\"middle\" x=\"2557.5\" y=\"-126.8\" font-family=\"Helvetica,sans-Serif\" font-size=\"14.00\">squared_error = 0.033</text>\n",
       "<text text-anchor=\"middle\" x=\"2557.5\" y=\"-111.8\" font-family=\"Helvetica,sans-Serif\" font-size=\"14.00\">samples = 5</text>\n",
       "<text text-anchor=\"middle\" x=\"2557.5\" y=\"-96.8\" font-family=\"Helvetica,sans-Serif\" font-size=\"14.00\">value = 0.906</text>\n",
       "</g>\n",
       "<!-- 24&#45;&gt;28 -->\n",
       "<g id=\"edge28\" class=\"edge\">\n",
       "<title>24&#45;&gt;28</title>\n",
       "<path fill=\"none\" stroke=\"black\" d=\"M2372.75,-194.84C2402.94,-183.27 2437.34,-170.08 2468.2,-158.24\"/>\n",
       "<polygon fill=\"black\" stroke=\"black\" points=\"2469.57,-161.46 2477.66,-154.62 2467.07,-154.93 2469.57,-161.46\"/>\n",
       "</g>\n",
       "<!-- 26 -->\n",
       "<g id=\"node27\" class=\"node\">\n",
       "<title>26</title>\n",
       "<polygon fill=\"none\" stroke=\"black\" points=\"2283,-53 2124,-53 2124,0 2283,0 2283,-53\"/>\n",
       "<text text-anchor=\"middle\" x=\"2203.5\" y=\"-37.8\" font-family=\"Helvetica,sans-Serif\" font-size=\"14.00\">squared_error = 0.025</text>\n",
       "<text text-anchor=\"middle\" x=\"2203.5\" y=\"-22.8\" font-family=\"Helvetica,sans-Serif\" font-size=\"14.00\">samples = 2</text>\n",
       "<text text-anchor=\"middle\" x=\"2203.5\" y=\"-7.8\" font-family=\"Helvetica,sans-Serif\" font-size=\"14.00\">value = 1.831</text>\n",
       "</g>\n",
       "<!-- 25&#45;&gt;26 -->\n",
       "<g id=\"edge26\" class=\"edge\">\n",
       "<title>25&#45;&gt;26</title>\n",
       "<path fill=\"none\" stroke=\"black\" d=\"M2260.72,-88.95C2252.2,-79.8 2242.96,-69.87 2234.43,-60.71\"/>\n",
       "<polygon fill=\"black\" stroke=\"black\" points=\"2236.84,-58.17 2227.47,-53.24 2231.72,-62.94 2236.84,-58.17\"/>\n",
       "</g>\n",
       "<!-- 27 -->\n",
       "<g id=\"node28\" class=\"node\">\n",
       "<title>27</title>\n",
       "<polygon fill=\"none\" stroke=\"black\" points=\"2460,-53 2301,-53 2301,0 2460,0 2460,-53\"/>\n",
       "<text text-anchor=\"middle\" x=\"2380.5\" y=\"-37.8\" font-family=\"Helvetica,sans-Serif\" font-size=\"14.00\">squared_error = 0.016</text>\n",
       "<text text-anchor=\"middle\" x=\"2380.5\" y=\"-22.8\" font-family=\"Helvetica,sans-Serif\" font-size=\"14.00\">samples = 12</text>\n",
       "<text text-anchor=\"middle\" x=\"2380.5\" y=\"-7.8\" font-family=\"Helvetica,sans-Serif\" font-size=\"14.00\">value = 1.386</text>\n",
       "</g>\n",
       "<!-- 25&#45;&gt;27 -->\n",
       "<g id=\"edge27\" class=\"edge\">\n",
       "<title>25&#45;&gt;27</title>\n",
       "<path fill=\"none\" stroke=\"black\" d=\"M2322.63,-88.95C2331.24,-79.8 2340.6,-69.87 2349.22,-60.71\"/>\n",
       "<polygon fill=\"black\" stroke=\"black\" points=\"2351.95,-62.92 2356.26,-53.24 2346.86,-58.12 2351.95,-62.92\"/>\n",
       "</g>\n",
       "<!-- 29 -->\n",
       "<g id=\"node30\" class=\"node\">\n",
       "<title>29</title>\n",
       "<polygon fill=\"none\" stroke=\"black\" points=\"2637,-53 2478,-53 2478,0 2637,0 2637,-53\"/>\n",
       "<text text-anchor=\"middle\" x=\"2557.5\" y=\"-37.8\" font-family=\"Helvetica,sans-Serif\" font-size=\"14.00\">squared_error = 0.005</text>\n",
       "<text text-anchor=\"middle\" x=\"2557.5\" y=\"-22.8\" font-family=\"Helvetica,sans-Serif\" font-size=\"14.00\">samples = 2</text>\n",
       "<text text-anchor=\"middle\" x=\"2557.5\" y=\"-7.8\" font-family=\"Helvetica,sans-Serif\" font-size=\"14.00\">value = 1.098</text>\n",
       "</g>\n",
       "<!-- 28&#45;&gt;29 -->\n",
       "<g id=\"edge29\" class=\"edge\">\n",
       "<title>28&#45;&gt;29</title>\n",
       "<path fill=\"none\" stroke=\"black\" d=\"M2557.5,-88.95C2557.5,-80.72 2557.5,-71.85 2557.5,-63.48\"/>\n",
       "<polygon fill=\"black\" stroke=\"black\" points=\"2561,-63.24 2557.5,-53.24 2554,-63.24 2561,-63.24\"/>\n",
       "</g>\n",
       "<!-- 30 -->\n",
       "<g id=\"node31\" class=\"node\">\n",
       "<title>30</title>\n",
       "<polygon fill=\"none\" stroke=\"black\" points=\"2806,-53 2655,-53 2655,0 2806,0 2806,-53\"/>\n",
       "<text text-anchor=\"middle\" x=\"2730.5\" y=\"-37.8\" font-family=\"Helvetica,sans-Serif\" font-size=\"14.00\">squared_error = 0.01</text>\n",
       "<text text-anchor=\"middle\" x=\"2730.5\" y=\"-22.8\" font-family=\"Helvetica,sans-Serif\" font-size=\"14.00\">samples = 3</text>\n",
       "<text text-anchor=\"middle\" x=\"2730.5\" y=\"-7.8\" font-family=\"Helvetica,sans-Serif\" font-size=\"14.00\">value = 0.777</text>\n",
       "</g>\n",
       "<!-- 28&#45;&gt;30 -->\n",
       "<g id=\"edge30\" class=\"edge\">\n",
       "<title>28&#45;&gt;30</title>\n",
       "<path fill=\"none\" stroke=\"black\" d=\"M2618.01,-88.95C2636.34,-78.93 2656.4,-67.98 2674.43,-58.13\"/>\n",
       "<polygon fill=\"black\" stroke=\"black\" points=\"2676.56,-60.95 2683.66,-53.09 2673.2,-54.81 2676.56,-60.95\"/>\n",
       "</g>\n",
       "</g>\n",
       "</svg>\n"
      ],
      "text/plain": [
       "<graphviz.sources.Source at 0x1d514bcf130>"
      ]
     },
     "execution_count": 35,
     "metadata": {},
     "output_type": "execute_result"
    }
   ],
   "source": [
    "import graphviz\n",
    "import os \n",
    "os.environ[\"PATH\"] += os.pathsep + 'C:\\Program Files\\Graphviz/bin/'\n",
    "# DOT data\n",
    "dot_data = sklearn.tree.export_graphviz(reg, out_file=None, \n",
    "                                feature_names=covariates) \n",
    "                                #class_names=iris.target_names,\n",
    "                                #filled=True)\n",
    "\n",
    "# Draw graph\n",
    "graph = graphviz.Source(dot_data, format=\"png\") \n",
    "graph\n"
   ]
  },
  {
   "cell_type": "code",
   "execution_count": 90,
   "id": "3c294799",
   "metadata": {},
   "outputs": [],
   "source": [
    "from econml.cate_interpreter import SingleTreeCateInterpreter\n",
    "from econml.dml import LinearDML\n",
    "\n",
    "intrp = SingleTreeCateInterpreter(include_model_uncertainty=True, max_depth=3, min_samples_leaf=50)\n",
    "# We interpret the CATE model's behavior based on the features used for heterogeneity\n",
    "intrp.interpret(causal_forest1, X)\n",
    "# Plot the tree\n",
    "intrp.plot(feature_names=covariates, fontsize=12)\n",
    "intrp.plot()\n"
   ]
  },
  {
   "cell_type": "code",
   "execution_count": 91,
   "id": "2fdac58f",
   "metadata": {},
   "outputs": [],
   "source": [
    "intrp.render(\"prova1\", feature_names=covariates)"
   ]
  },
  {
   "cell_type": "code",
   "execution_count": 38,
   "id": "d60a63f6",
   "metadata": {},
   "outputs": [
    {
     "data": {
      "text/plain": [
       "<econml.cate_interpreter._interpreters.SingleTreePolicyInterpreter at 0x1d511b96610>"
      ]
     },
     "execution_count": 38,
     "metadata": {},
     "output_type": "execute_result"
    }
   ],
   "source": [
    "from econml.cate_interpreter import SingleTreePolicyInterpreter\n",
    "\n",
    "intrp = SingleTreePolicyInterpreter(risk_level=None, max_depth=2, min_samples_leaf=1,min_impurity_decrease=.001)\n",
    "intrp.interpret(causal_forest1, X, sample_treatment_costs=0.02)\n"
   ]
  },
  {
   "cell_type": "code",
   "execution_count": 39,
   "id": "feb49c24",
>>>>>>> Stashed changes
   "metadata": {},
   "outputs": [],
   "source": [
    "intrp.render(\"prova2\", feature_names=covariates)"
   ]
  },
  {
   "cell_type": "markdown",
   "id": "d10a8545",
   "metadata": {},
   "source": [
    "### SHAP"
   ]
  },
  {
   "cell_type": "code",
<<<<<<< Updated upstream
   "execution_count": 88,
=======
   "execution_count": 40,
>>>>>>> Stashed changes
   "id": "e0f78747",
   "metadata": {},
   "outputs": [
    {
     "data": {
      "text/plain": [
       "sample06                 0.000000\n",
       "TREAT2                   0.000000\n",
       "MUN2                     0.000020\n",
       "MUN3                     0.000222\n",
       "s1hhsz_65plus_05         0.000297\n",
       "TREAT4                   0.000692\n",
       "TREAT1                   0.000951\n",
       "itt_i                    0.001022\n",
       "MUN4                     0.001260\n",
       "MUN1                     0.001282\n",
       "s1male_head_05           0.001317\n",
       "MUN6                     0.001407\n",
       "s3aelectric_hh_05        0.001563\n",
       "s3awater_access_hh_05    0.001741\n",
       "itt_all_i                0.001771\n",
       "s3atoilet_hh_05          0.002736\n",
       "tvip_05                  0.003194\n",
       "s11ownland_hh_05         0.003408\n",
       "s3ap5_rooms_h_05         0.003545\n",
       "s4p7_parasite_i_06       0.003894\n",
       "male                     0.004127\n",
       "s1hhsz_25_64_05          0.004168\n",
       "MUN5                     0.005897\n",
       "s1hhsz_5_14_05           0.006106\n",
       "s4p6_vitamina_i_05       0.006158\n",
       "s1hhsz_undr5_05          0.006166\n",
       "s4p7_parasite_i_05       0.006286\n",
       "vitamiron_06             0.006607\n",
       "TREAT3                   0.007641\n",
       "s3ap25_hqtime_h_05       0.009422\n",
       "s1hhsize_05              0.012429\n",
       "ed_mom                   0.013046\n",
       "s3ap23_stime_h_05        0.013766\n",
       "a10whz_05                0.015659\n",
       "com_vit_05               0.016872\n",
       "yrsedfath                0.017361\n",
       "com_control_05           0.019236\n",
       "s1hhsz_15_24_05          0.019543\n",
       "com_haz_05               0.019750\n",
       "s3ap24_htime_h_05        0.020178\n",
       "bweight                  0.020987\n",
       "s2mother_inhs_05         0.022148\n",
       "prfruitveg_f_05          0.025727\n",
       "pranimalprot_f_05        0.026527\n",
       "cons_tot_pc_05           0.028527\n",
       "weight_05                0.030597\n",
       "com_tvip_05              0.032746\n",
       "prstap_f_05              0.034961\n",
       "s1age_head_05            0.035537\n",
       "com_waz_05               0.038148\n",
       "cons_food_pc_05          0.041939\n",
       "propfood_05              0.046954\n",
       "com_deworm_05            0.055569\n",
       "height_05                0.067946\n",
       "com_notvip               0.105614\n",
       "age_transfer             0.125334\n",
       "dtype: float64"
      ]
     },
     "execution_count": 40,
     "metadata": {},
     "output_type": "execute_result"
    }
   ],
   "source": [
    "pd.Series(causal_forest1.feature_importances_,index=causal_forest1.cate_feature_names()).sort_values()"
   ]
  },
  {
   "cell_type": "code",
<<<<<<< Updated upstream
   "execution_count": 90,
=======
   "execution_count": 41,
>>>>>>> Stashed changes
   "id": "c771f998",
   "metadata": {},
   "outputs": [
    {
     "name": "stderr",
     "output_type": "stream",
     "text": [
      "'normalize' was deprecated in version 1.0 and will be removed in 1.2. Please leave the normalize parameter to its default value to silence this warning. The default behavior of this estimator is to not do any normalization. If normalization is needed please use sklearn.preprocessing.StandardScaler instead.\n",
      "'normalize' was deprecated in version 1.0 and will be removed in 1.2. Please leave the normalize parameter to its default value to silence this warning. The default behavior of this estimator is to not do any normalization. If normalization is needed please use sklearn.preprocessing.StandardScaler instead.\n",
      "'normalize' was deprecated in version 1.0 and will be removed in 1.2. Please leave the normalize parameter to its default value to silence this warning. The default behavior of this estimator is to not do any normalization. If normalization is needed please use sklearn.preprocessing.StandardScaler instead.\n",
      "'normalize' was deprecated in version 1.0 and will be removed in 1.2. Please leave the normalize parameter to its default value to silence this warning. The default behavior of this estimator is to not do any normalization. If normalization is needed please use sklearn.preprocessing.StandardScaler instead.\n",
      " 99%|===================| 2539/2567 [00:30<00:00]        "
     ]
    }
   ],
   "source": [
    "import shap\n",
    "from econml.dml import CausalForestDML\n",
    "\n",
    "# fit causal forest with default parameters \n",
    "causal_forest = CausalForestDML()\n",
    "causal_forest.fit(Y, T, X=X, W=W)\n",
    "\n",
    "# calculate shap values of causal forest model \n",
    "shap_values = causal_forest.shap_values(X)\n"
   ]
  },
  {
   "cell_type": "code",
<<<<<<< Updated upstream
   "execution_count": 99,
   "id": "21bfeb98",
=======
   "execution_count": 42,
   "id": "21bfeb98",
   "metadata": {},
   "outputs": [
    {
     "name": "stderr",
     "output_type": "stream",
     "text": [
      "Matplotlib is currently using agg, which is a non-GUI backend, so cannot show the figure.\n"
     ]
    }
   ],
   "source": [
    "\n",
    "# plot shap values \n",
    "shap.summary_plot(shap_values['z_all_06'][\"tr\"])\n",
    "\n"
   ]
  },
  {
   "cell_type": "markdown",
   "id": "a90f0cc8",
   "metadata": {},
   "source": [
    "### ITE"
   ]
  },
  {
   "cell_type": "markdown",
   "id": "6ef6b195",
   "metadata": {},
   "source": [
    "-Regressio\n",
    "-Random forest\n",
    "-XGBoost"
   ]
  },
  {
   "cell_type": "code",
   "execution_count": 43,
   "id": "a89b7dc1",
>>>>>>> Stashed changes
   "metadata": {},
   "outputs": [
    {
     "data": {
      "text/plain": [
       "['s1age_head_05',\n",
       " 's1hhsize_05',\n",
       " 's1hhsz_undr5_05',\n",
       " 's1hhsz_5_14_05',\n",
       " 's1hhsz_15_24_05',\n",
       " 's1hhsz_25_64_05',\n",
       " 's1hhsz_65plus_05',\n",
       " 's1male_head_05',\n",
       " 's2mother_inhs_05',\n",
       " 's3ap5_rooms_h_05',\n",
       " 's3ap23_stime_h_05',\n",
       " 's3ap24_htime_h_05',\n",
       " 's3ap25_hqtime_h_05',\n",
       " 's3atoilet_hh_05',\n",
       " 's3awater_access_hh_05',\n",
       " 's3aelectric_hh_05',\n",
       " 's4p6_vitamina_i_05',\n",
       " 's4p7_parasite_i_05',\n",
       " 's11ownland_hh_05',\n",
       " 'cons_food_pc_05',\n",
       " 'cons_tot_pc_05',\n",
       " 'tvip_05',\n",
       " 'height_05',\n",
       " 'a10whz_05',\n",
       " 'weight_05',\n",
       " 'itt_i',\n",
       " 'itt_all_i',\n",
       " 'yrsedfath',\n",
       " 'age_transfer',\n",
       " 'bweight',\n",
       " 's4p7_parasite_i_06',\n",
       " 'male',\n",
       " 'TREAT1',\n",
       " 'TREAT2',\n",
       " 'TREAT3',\n",
       " 'TREAT4',\n",
       " 'ed_mom',\n",
       " 'MUN1',\n",
       " 'MUN2',\n",
       " 'MUN3',\n",
       " 'MUN4',\n",
       " 'MUN5',\n",
       " 'MUN6',\n",
       " 'com_haz_05',\n",
       " 'com_waz_05',\n",
       " 'com_tvip_05',\n",
       " 'com_control_05',\n",
       " 'com_vit_05',\n",
       " 'com_deworm_05',\n",
       " 'com_notvip',\n",
       " 'sample06',\n",
       " 'vitamiron_06',\n",
       " 'propfood_05',\n",
       " 'prstap_f_05',\n",
       " 'pranimalprot_f_05',\n",
       " 'prfruitveg_f_05',\n",
       " 'tr']"
      ]
     },
     "execution_count": 43,
     "metadata": {},
     "output_type": "execute_result"
    }
   ],
   "source": [
    "covariates+ [\"tr\"]"
   ]
  },
  {
   "cell_type": "code",
   "execution_count": 44,
   "id": "a8ef39ce",
   "metadata": {},
   "outputs": [],
   "source": [
    "from sklearn.model_selection import train_test_split\n",
    "# split data into train and test sets \n",
    "train, test = train_test_split(cleaned_df, test_size=0.33)\n",
    "\n",
    "# set variables for causal forest Y=outcome, T=treatment, X=covariates, W=effect_modifiers \n",
    "y_train = train[outcome]\n",
    "X_train = train[covariates+[\"tr\"]]\n",
    "\n",
    "X_test = test[covariates+[\"tr\"]]\n",
    "y_test =  test[outcome]"
   ]
  },
  {
   "cell_type": "code",
<<<<<<< Updated upstream
   "execution_count": null,
   "id": "cae1f1db",
=======
   "execution_count": null,
   "id": "f4169078",
   "metadata": {},
   "outputs": [],
   "source": []
  },
  {
   "cell_type": "code",
   "execution_count": 45,
   "id": "148d7555",
   "metadata": {},
   "outputs": [],
   "source": [
    "def display_scores(scores,model_name = None):\n",
    "    if(model_name):\n",
    "        print(\"----\",model_name,\"----\")\n",
    "    print(\"Mean:\", scores.mean())\n",
    "    print(\"Standard deviation:\", scores.std())"
   ]
  },
  {
   "cell_type": "code",
   "execution_count": 46,
   "id": "31910104",
   "metadata": {},
   "outputs": [
    {
     "data": {
      "text/plain": [
       "['accuracy',\n",
       " 'adjusted_mutual_info_score',\n",
       " 'adjusted_rand_score',\n",
       " 'average_precision',\n",
       " 'balanced_accuracy',\n",
       " 'completeness_score',\n",
       " 'explained_variance',\n",
       " 'f1',\n",
       " 'f1_macro',\n",
       " 'f1_micro',\n",
       " 'f1_samples',\n",
       " 'f1_weighted',\n",
       " 'fowlkes_mallows_score',\n",
       " 'homogeneity_score',\n",
       " 'jaccard',\n",
       " 'jaccard_macro',\n",
       " 'jaccard_micro',\n",
       " 'jaccard_samples',\n",
       " 'jaccard_weighted',\n",
       " 'max_error',\n",
       " 'mutual_info_score',\n",
       " 'neg_brier_score',\n",
       " 'neg_log_loss',\n",
       " 'neg_mean_absolute_error',\n",
       " 'neg_mean_absolute_percentage_error',\n",
       " 'neg_mean_gamma_deviance',\n",
       " 'neg_mean_poisson_deviance',\n",
       " 'neg_mean_squared_error',\n",
       " 'neg_mean_squared_log_error',\n",
       " 'neg_median_absolute_error',\n",
       " 'neg_root_mean_squared_error',\n",
       " 'normalized_mutual_info_score',\n",
       " 'precision',\n",
       " 'precision_macro',\n",
       " 'precision_micro',\n",
       " 'precision_samples',\n",
       " 'precision_weighted',\n",
       " 'r2',\n",
       " 'rand_score',\n",
       " 'recall',\n",
       " 'recall_macro',\n",
       " 'recall_micro',\n",
       " 'recall_samples',\n",
       " 'recall_weighted',\n",
       " 'roc_auc',\n",
       " 'roc_auc_ovo',\n",
       " 'roc_auc_ovo_weighted',\n",
       " 'roc_auc_ovr',\n",
       " 'roc_auc_ovr_weighted',\n",
       " 'top_k_accuracy',\n",
       " 'v_measure_score']"
      ]
     },
     "execution_count": 46,
     "metadata": {},
     "output_type": "execute_result"
    }
   ],
   "source": [
    "sorted(sklearn.metrics.SCORERS.keys())"
   ]
  },
  {
   "cell_type": "code",
   "execution_count": 47,
   "id": "c66cac68",
   "metadata": {},
   "outputs": [
    {
     "name": "stderr",
     "output_type": "stream",
     "text": [
      "pandas.Int64Index is deprecated and will be removed from pandas in a future version. Use pandas.Index with the appropriate dtype instead.\n",
      "pandas.Int64Index is deprecated and will be removed from pandas in a future version. Use pandas.Index with the appropriate dtype instead.\n"
     ]
    },
    {
     "name": "stdout",
     "output_type": "stream",
     "text": [
      "---- lin_reg ----\n",
      "Mean: 0.22373943244551966\n",
      "Standard deviation: 0.09089992466426115\n",
      "---- Random Forest ----\n",
      "Mean: 0.2205922417625871\n",
      "Standard deviation: 0.06571264423725878\n"
     ]
    },
    {
     "name": "stderr",
     "output_type": "stream",
     "text": [
      "pandas.Int64Index is deprecated and will be removed from pandas in a future version. Use pandas.Index with the appropriate dtype instead.\n",
      "pandas.Int64Index is deprecated and will be removed from pandas in a future version. Use pandas.Index with the appropriate dtype instead.\n",
      "pandas.Int64Index is deprecated and will be removed from pandas in a future version. Use pandas.Index with the appropriate dtype instead.\n",
      "pandas.Int64Index is deprecated and will be removed from pandas in a future version. Use pandas.Index with the appropriate dtype instead.\n",
      "pandas.Int64Index is deprecated and will be removed from pandas in a future version. Use pandas.Index with the appropriate dtype instead.\n",
      "pandas.Int64Index is deprecated and will be removed from pandas in a future version. Use pandas.Index with the appropriate dtype instead.\n",
      "pandas.Int64Index is deprecated and will be removed from pandas in a future version. Use pandas.Index with the appropriate dtype instead.\n",
      "pandas.Int64Index is deprecated and will be removed from pandas in a future version. Use pandas.Index with the appropriate dtype instead.\n",
      "pandas.Int64Index is deprecated and will be removed from pandas in a future version. Use pandas.Index with the appropriate dtype instead.\n",
      "pandas.Int64Index is deprecated and will be removed from pandas in a future version. Use pandas.Index with the appropriate dtype instead.\n"
     ]
    },
    {
     "name": "stdout",
     "output_type": "stream",
     "text": [
      "---- XGboost ----\n",
      "Mean: 0.16888853350921568\n",
      "Standard deviation: 0.09261108996034004\n"
     ]
    }
   ],
   "source": [
    "from sklearn.linear_model import LinearRegression\n",
    "from sklearn.ensemble import RandomForestRegressor\n",
    "import xgboost as xgb\n",
    "\n",
    "from sklearn.model_selection import cross_val_score\n",
    "\n",
    "lin_reg = LinearRegression()\n",
    "lin_reg.fit(X_train, y_train)\n",
    "\n",
    "forest_reg = RandomForestRegressor(n_estimators=20, random_state=42)\n",
    "forest_reg.fit(X_train, y_train)\n",
    "\n",
    "xg_reg = xgb.XGBRegressor(objective ='reg:squarederror')\n",
    "xg_reg.fit(X_train,y_train)\n",
    "\n",
    " \n",
    "    # lets comare all of them \n",
    "models = [(lin_reg,\"lin_reg\"),\n",
    "          (forest_reg,'Random Forest'),\n",
    "          (xg_reg,\"XGboost\")]\n",
    "for model in models:\n",
    "    scores = cross_val_score(model[0], X_test, y_test, scoring='r2', cv=10)\n",
    "    display_scores(scores, model[1])"
   ]
  },
  {
   "cell_type": "code",
   "execution_count": 48,
   "id": "425ffe2b",
   "metadata": {},
   "outputs": [
    {
     "data": {
      "text/plain": [
       "{'objective': 'reg:squarederror',\n",
       " 'base_score': 0.5,\n",
       " 'booster': 'gbtree',\n",
       " 'colsample_bylevel': 1,\n",
       " 'colsample_bynode': 1,\n",
       " 'colsample_bytree': 1,\n",
       " 'gamma': 0,\n",
       " 'gpu_id': -1,\n",
       " 'interaction_constraints': '',\n",
       " 'learning_rate': 0.300000012,\n",
       " 'max_delta_step': 0,\n",
       " 'max_depth': 6,\n",
       " 'min_child_weight': 1,\n",
       " 'monotone_constraints': '()',\n",
       " 'n_jobs': 4,\n",
       " 'num_parallel_tree': 1,\n",
       " 'predictor': 'auto',\n",
       " 'random_state': 0,\n",
       " 'reg_alpha': 0,\n",
       " 'reg_lambda': 1,\n",
       " 'scale_pos_weight': 1,\n",
       " 'subsample': 1,\n",
       " 'tree_method': 'exact',\n",
       " 'validate_parameters': 1,\n",
       " 'verbosity': None}"
      ]
     },
     "execution_count": 48,
     "metadata": {},
     "output_type": "execute_result"
    }
   ],
   "source": [
    "xg_reg.get_xgb_params()"
   ]
  },
  {
   "cell_type": "code",
   "execution_count": 49,
   "id": "31844497",
   "metadata": {},
   "outputs": [
    {
     "name": "stderr",
     "output_type": "stream",
     "text": [
      "pandas.Int64Index is deprecated and will be removed from pandas in a future version. Use pandas.Index with the appropriate dtype instead.\n"
     ]
    },
    {
     "data": {
      "text/plain": [
       "GridSearchCV(cv=2,\n",
       "             estimator=XGBRegressor(base_score=None, booster=None,\n",
       "                                    colsample_bylevel=None,\n",
       "                                    colsample_bynode=None,\n",
       "                                    colsample_bytree=None,\n",
       "                                    enable_categorical=False, gamma=None,\n",
       "                                    gpu_id=None, importance_type=None,\n",
       "                                    interaction_constraints=None,\n",
       "                                    learning_rate=None, max_delta_step=None,\n",
       "                                    max_depth=None, min_child_weight=None,\n",
       "                                    missing=nan, monotone_constraints=None,\n",
       "                                    n_estimators=100, n_jobs=None,\n",
       "                                    num_parallel_tree=None, predictor=None,\n",
       "                                    random_state=None, reg_alpha=None,\n",
       "                                    reg_lambda=None, scale_pos_weight=None,\n",
       "                                    subsample=None, tree_method=None,\n",
       "                                    validate_parameters=None, verbosity=None),\n",
       "             n_jobs=-1,\n",
       "             param_grid={'learning_rate': [0.01, 0.3, 0.5],\n",
       "                         'max_depth': [4, 6, 8]})"
      ]
     },
     "execution_count": 49,
     "metadata": {},
     "output_type": "execute_result"
    }
   ],
   "source": [
    "from sklearn.model_selection import GridSearchCV\n",
    "\n",
    "parameters = {'learning_rate': [0.01,0.3, 0.5],\n",
    "                  'max_depth'    : [4,6,8]\n",
    "                 }\n",
    "\n",
    "GBR = xgb.XGBRegressor()\n",
    "grid_GBC = GridSearchCV(estimator=GBR, cv = 2, n_jobs=-1, param_grid = parameters)\n",
    "grid_GBC.fit(X_train, y_train)"
   ]
  },
  {
   "cell_type": "code",
   "execution_count": 50,
   "id": "774df71b",
   "metadata": {},
   "outputs": [
    {
     "name": "stdout",
     "output_type": "stream",
     "text": [
      " Results from Grid Search \n",
      "\n",
      " The best estimator across ALL searched params:\n",
      " XGBRegressor(base_score=0.5, booster='gbtree', colsample_bylevel=1,\n",
      "             colsample_bynode=1, colsample_bytree=1, enable_categorical=False,\n",
      "             gamma=0, gpu_id=-1, importance_type=None,\n",
      "             interaction_constraints='', learning_rate=0.3, max_delta_step=0,\n",
      "             max_depth=4, min_child_weight=1, missing=nan,\n",
      "             monotone_constraints='()', n_estimators=100, n_jobs=4,\n",
      "             num_parallel_tree=1, predictor='auto', random_state=0, reg_alpha=0,\n",
      "             reg_lambda=1, scale_pos_weight=1, subsample=1, tree_method='exact',\n",
      "             validate_parameters=1, verbosity=None)\n",
      "\n",
      " The best score across ALL searched params:\n",
      " 0.14855759720754957\n",
      "\n",
      " The best parameters across ALL searched params:\n",
      " {'learning_rate': 0.3, 'max_depth': 4}\n"
     ]
    }
   ],
   "source": [
    "print(\" Results from Grid Search \" )\n",
    "print(\"\\n The best estimator across ALL searched params:\\n\",grid_GBC.best_estimator_)\n",
    "print(\"\\n The best score across ALL searched params:\\n\",grid_GBC.best_score_)\n",
    "print(\"\\n The best parameters across ALL searched params:\\n\",grid_GBC.best_params_)\n"
   ]
  },
  {
   "cell_type": "code",
   "execution_count": 51,
   "id": "5aaaf1ff",
   "metadata": {},
   "outputs": [
    {
     "data": {
      "text/plain": [
       "['accuracy',\n",
       " 'adjusted_mutual_info_score',\n",
       " 'adjusted_rand_score',\n",
       " 'average_precision',\n",
       " 'balanced_accuracy',\n",
       " 'completeness_score',\n",
       " 'explained_variance',\n",
       " 'f1',\n",
       " 'f1_macro',\n",
       " 'f1_micro',\n",
       " 'f1_samples',\n",
       " 'f1_weighted',\n",
       " 'fowlkes_mallows_score',\n",
       " 'homogeneity_score',\n",
       " 'jaccard',\n",
       " 'jaccard_macro',\n",
       " 'jaccard_micro',\n",
       " 'jaccard_samples',\n",
       " 'jaccard_weighted',\n",
       " 'max_error',\n",
       " 'mutual_info_score',\n",
       " 'neg_brier_score',\n",
       " 'neg_log_loss',\n",
       " 'neg_mean_absolute_error',\n",
       " 'neg_mean_absolute_percentage_error',\n",
       " 'neg_mean_gamma_deviance',\n",
       " 'neg_mean_poisson_deviance',\n",
       " 'neg_mean_squared_error',\n",
       " 'neg_mean_squared_log_error',\n",
       " 'neg_median_absolute_error',\n",
       " 'neg_root_mean_squared_error',\n",
       " 'normalized_mutual_info_score',\n",
       " 'precision',\n",
       " 'precision_macro',\n",
       " 'precision_micro',\n",
       " 'precision_samples',\n",
       " 'precision_weighted',\n",
       " 'r2',\n",
       " 'rand_score',\n",
       " 'recall',\n",
       " 'recall_macro',\n",
       " 'recall_micro',\n",
       " 'recall_samples',\n",
       " 'recall_weighted',\n",
       " 'roc_auc',\n",
       " 'roc_auc_ovo',\n",
       " 'roc_auc_ovo_weighted',\n",
       " 'roc_auc_ovr',\n",
       " 'roc_auc_ovr_weighted',\n",
       " 'top_k_accuracy',\n",
       " 'v_measure_score']"
      ]
     },
     "execution_count": 51,
     "metadata": {},
     "output_type": "execute_result"
    }
   ],
   "source": [
    "sorted(sklearn.metrics.SCORERS.keys())"
   ]
  },
  {
   "cell_type": "code",
   "execution_count": 52,
   "id": "725fad88",
   "metadata": {},
   "outputs": [],
   "source": [
    "import warnings\n",
    "warnings.filterwarnings('ignore')"
   ]
  },
  {
   "cell_type": "code",
   "execution_count": 53,
   "id": "0c9e144c",
   "metadata": {},
   "outputs": [
    {
     "name": "stdout",
     "output_type": "stream",
     "text": [
      "---- lin_reg ----\n",
      "Mean: 0.22373943244551966\n",
      "Standard deviation: 0.09089992466426115\n",
      "---- Random Forest ----\n",
      "Mean: 0.2205922417625871\n",
      "Standard deviation: 0.06571264423725878\n",
      "---- XGboost ----\n",
      "Mean: 0.16888853350921568\n",
      "Standard deviation: 0.09261108996034004\n"
     ]
    }
   ],
   "source": [
    " # lets comare all of them \n",
    "models = [(lin_reg,\"lin_reg\"),\n",
    "          (forest_reg,'Random Forest'),\n",
    "          (xg_reg,\"XGboost\")]\n",
    "for model in models:\n",
    "    scores = cross_val_score(model[0], X_test, y_test, scoring=\"r2\", cv=10)\n",
    "    display_scores(scores, model[1])"
   ]
  },
  {
   "cell_type": "code",
   "execution_count": 54,
   "id": "cdf427e0",
   "metadata": {},
   "outputs": [
    {
     "data": {
      "text/html": [
       "<div>\n",
       "<style scoped>\n",
       "    .dataframe tbody tr th:only-of-type {\n",
       "        vertical-align: middle;\n",
       "    }\n",
       "\n",
       "    .dataframe tbody tr th {\n",
       "        vertical-align: top;\n",
       "    }\n",
       "\n",
       "    .dataframe thead th {\n",
       "        text-align: right;\n",
       "    }\n",
       "</style>\n",
       "<table border=\"1\" class=\"dataframe\">\n",
       "  <thead>\n",
       "    <tr style=\"text-align: right;\">\n",
       "      <th></th>\n",
       "      <th>s1age_head_05</th>\n",
       "      <th>s1hhsize_05</th>\n",
       "      <th>s1hhsz_undr5_05</th>\n",
       "      <th>s1hhsz_5_14_05</th>\n",
       "      <th>s1hhsz_15_24_05</th>\n",
       "      <th>s1hhsz_25_64_05</th>\n",
       "      <th>s1hhsz_65plus_05</th>\n",
       "      <th>s1male_head_05</th>\n",
       "      <th>s2mother_inhs_05</th>\n",
       "      <th>s3ap5_rooms_h_05</th>\n",
       "      <th>...</th>\n",
       "      <th>com_vit_05</th>\n",
       "      <th>com_deworm_05</th>\n",
       "      <th>com_notvip</th>\n",
       "      <th>sample06</th>\n",
       "      <th>vitamiron_06</th>\n",
       "      <th>propfood_05</th>\n",
       "      <th>prstap_f_05</th>\n",
       "      <th>pranimalprot_f_05</th>\n",
       "      <th>prfruitveg_f_05</th>\n",
       "      <th>z_all_06</th>\n",
       "    </tr>\n",
       "  </thead>\n",
       "  <tbody>\n",
       "    <tr>\n",
       "      <th>1</th>\n",
       "      <td>35.0</td>\n",
       "      <td>5.0</td>\n",
       "      <td>1.0</td>\n",
       "      <td>2.0</td>\n",
       "      <td>0.0</td>\n",
       "      <td>2.0</td>\n",
       "      <td>0.0</td>\n",
       "      <td>1.0</td>\n",
       "      <td>1.0</td>\n",
       "      <td>1.0</td>\n",
       "      <td>...</td>\n",
       "      <td>0.571429</td>\n",
       "      <td>0.285714</td>\n",
       "      <td>0.500000</td>\n",
       "      <td>1.0</td>\n",
       "      <td>0.0</td>\n",
       "      <td>0.678527</td>\n",
       "      <td>0.204472</td>\n",
       "      <td>0.674387</td>\n",
       "      <td>0.000000</td>\n",
       "      <td>0.450156</td>\n",
       "    </tr>\n",
       "    <tr>\n",
       "      <th>2</th>\n",
       "      <td>56.0</td>\n",
       "      <td>8.0</td>\n",
       "      <td>1.0</td>\n",
       "      <td>1.0</td>\n",
       "      <td>3.0</td>\n",
       "      <td>3.0</td>\n",
       "      <td>0.0</td>\n",
       "      <td>1.0</td>\n",
       "      <td>1.0</td>\n",
       "      <td>3.0</td>\n",
       "      <td>...</td>\n",
       "      <td>0.685714</td>\n",
       "      <td>0.628571</td>\n",
       "      <td>0.250000</td>\n",
       "      <td>1.0</td>\n",
       "      <td>1.0</td>\n",
       "      <td>0.560299</td>\n",
       "      <td>0.706687</td>\n",
       "      <td>0.046980</td>\n",
       "      <td>0.009460</td>\n",
       "      <td>0.011252</td>\n",
       "    </tr>\n",
       "    <tr>\n",
       "      <th>3</th>\n",
       "      <td>49.0</td>\n",
       "      <td>12.0</td>\n",
       "      <td>1.0</td>\n",
       "      <td>5.0</td>\n",
       "      <td>2.0</td>\n",
       "      <td>3.0</td>\n",
       "      <td>0.0</td>\n",
       "      <td>1.0</td>\n",
       "      <td>1.0</td>\n",
       "      <td>1.0</td>\n",
       "      <td>...</td>\n",
       "      <td>0.861111</td>\n",
       "      <td>0.500000</td>\n",
       "      <td>0.300000</td>\n",
       "      <td>1.0</td>\n",
       "      <td>1.0</td>\n",
       "      <td>0.527724</td>\n",
       "      <td>0.418402</td>\n",
       "      <td>0.122034</td>\n",
       "      <td>0.135109</td>\n",
       "      <td>-0.505333</td>\n",
       "    </tr>\n",
       "    <tr>\n",
       "      <th>4</th>\n",
       "      <td>49.0</td>\n",
       "      <td>12.0</td>\n",
       "      <td>1.0</td>\n",
       "      <td>5.0</td>\n",
       "      <td>2.0</td>\n",
       "      <td>3.0</td>\n",
       "      <td>0.0</td>\n",
       "      <td>1.0</td>\n",
       "      <td>1.0</td>\n",
       "      <td>1.0</td>\n",
       "      <td>...</td>\n",
       "      <td>0.861111</td>\n",
       "      <td>0.500000</td>\n",
       "      <td>0.300000</td>\n",
       "      <td>1.0</td>\n",
       "      <td>1.0</td>\n",
       "      <td>0.527724</td>\n",
       "      <td>0.418402</td>\n",
       "      <td>0.122034</td>\n",
       "      <td>0.135109</td>\n",
       "      <td>-0.468488</td>\n",
       "    </tr>\n",
       "    <tr>\n",
       "      <th>6</th>\n",
       "      <td>31.0</td>\n",
       "      <td>5.0</td>\n",
       "      <td>1.0</td>\n",
       "      <td>2.0</td>\n",
       "      <td>0.0</td>\n",
       "      <td>2.0</td>\n",
       "      <td>0.0</td>\n",
       "      <td>1.0</td>\n",
       "      <td>1.0</td>\n",
       "      <td>3.0</td>\n",
       "      <td>...</td>\n",
       "      <td>0.861111</td>\n",
       "      <td>0.500000</td>\n",
       "      <td>0.300000</td>\n",
       "      <td>1.0</td>\n",
       "      <td>1.0</td>\n",
       "      <td>0.450707</td>\n",
       "      <td>0.737649</td>\n",
       "      <td>0.037743</td>\n",
       "      <td>0.067608</td>\n",
       "      <td>0.120401</td>\n",
       "    </tr>\n",
       "    <tr>\n",
       "      <th>...</th>\n",
       "      <td>...</td>\n",
       "      <td>...</td>\n",
       "      <td>...</td>\n",
       "      <td>...</td>\n",
       "      <td>...</td>\n",
       "      <td>...</td>\n",
       "      <td>...</td>\n",
       "      <td>...</td>\n",
       "      <td>...</td>\n",
       "      <td>...</td>\n",
       "      <td>...</td>\n",
       "      <td>...</td>\n",
       "      <td>...</td>\n",
       "      <td>...</td>\n",
       "      <td>...</td>\n",
       "      <td>...</td>\n",
       "      <td>...</td>\n",
       "      <td>...</td>\n",
       "      <td>...</td>\n",
       "      <td>...</td>\n",
       "      <td>...</td>\n",
       "    </tr>\n",
       "    <tr>\n",
       "      <th>3544</th>\n",
       "      <td>52.0</td>\n",
       "      <td>8.0</td>\n",
       "      <td>1.0</td>\n",
       "      <td>1.0</td>\n",
       "      <td>3.0</td>\n",
       "      <td>3.0</td>\n",
       "      <td>0.0</td>\n",
       "      <td>1.0</td>\n",
       "      <td>1.0</td>\n",
       "      <td>4.0</td>\n",
       "      <td>...</td>\n",
       "      <td>0.720000</td>\n",
       "      <td>0.600000</td>\n",
       "      <td>0.000000</td>\n",
       "      <td>1.0</td>\n",
       "      <td>0.0</td>\n",
       "      <td>0.575694</td>\n",
       "      <td>0.584656</td>\n",
       "      <td>0.043516</td>\n",
       "      <td>0.047044</td>\n",
       "      <td>0.432928</td>\n",
       "    </tr>\n",
       "    <tr>\n",
       "      <th>3545</th>\n",
       "      <td>31.0</td>\n",
       "      <td>5.0</td>\n",
       "      <td>2.0</td>\n",
       "      <td>1.0</td>\n",
       "      <td>0.0</td>\n",
       "      <td>2.0</td>\n",
       "      <td>0.0</td>\n",
       "      <td>1.0</td>\n",
       "      <td>1.0</td>\n",
       "      <td>2.0</td>\n",
       "      <td>...</td>\n",
       "      <td>0.720000</td>\n",
       "      <td>0.600000</td>\n",
       "      <td>0.000000</td>\n",
       "      <td>1.0</td>\n",
       "      <td>1.0</td>\n",
       "      <td>0.574574</td>\n",
       "      <td>0.674472</td>\n",
       "      <td>0.037236</td>\n",
       "      <td>0.054894</td>\n",
       "      <td>0.418482</td>\n",
       "    </tr>\n",
       "    <tr>\n",
       "      <th>3546</th>\n",
       "      <td>31.0</td>\n",
       "      <td>5.0</td>\n",
       "      <td>2.0</td>\n",
       "      <td>1.0</td>\n",
       "      <td>0.0</td>\n",
       "      <td>2.0</td>\n",
       "      <td>0.0</td>\n",
       "      <td>1.0</td>\n",
       "      <td>1.0</td>\n",
       "      <td>2.0</td>\n",
       "      <td>...</td>\n",
       "      <td>0.720000</td>\n",
       "      <td>0.600000</td>\n",
       "      <td>0.000000</td>\n",
       "      <td>1.0</td>\n",
       "      <td>1.0</td>\n",
       "      <td>0.574574</td>\n",
       "      <td>0.674472</td>\n",
       "      <td>0.037236</td>\n",
       "      <td>0.054894</td>\n",
       "      <td>0.439541</td>\n",
       "    </tr>\n",
       "    <tr>\n",
       "      <th>3547</th>\n",
       "      <td>49.0</td>\n",
       "      <td>7.0</td>\n",
       "      <td>1.0</td>\n",
       "      <td>1.0</td>\n",
       "      <td>3.0</td>\n",
       "      <td>2.0</td>\n",
       "      <td>0.0</td>\n",
       "      <td>1.0</td>\n",
       "      <td>1.0</td>\n",
       "      <td>1.0</td>\n",
       "      <td>...</td>\n",
       "      <td>0.828829</td>\n",
       "      <td>0.603604</td>\n",
       "      <td>0.233333</td>\n",
       "      <td>1.0</td>\n",
       "      <td>1.0</td>\n",
       "      <td>0.696731</td>\n",
       "      <td>0.713329</td>\n",
       "      <td>0.092144</td>\n",
       "      <td>0.033274</td>\n",
       "      <td>0.035322</td>\n",
       "    </tr>\n",
       "    <tr>\n",
       "      <th>3548</th>\n",
       "      <td>49.0</td>\n",
       "      <td>7.0</td>\n",
       "      <td>1.0</td>\n",
       "      <td>1.0</td>\n",
       "      <td>3.0</td>\n",
       "      <td>2.0</td>\n",
       "      <td>0.0</td>\n",
       "      <td>1.0</td>\n",
       "      <td>1.0</td>\n",
       "      <td>1.0</td>\n",
       "      <td>...</td>\n",
       "      <td>0.828829</td>\n",
       "      <td>0.603604</td>\n",
       "      <td>0.233333</td>\n",
       "      <td>1.0</td>\n",
       "      <td>1.0</td>\n",
       "      <td>0.696731</td>\n",
       "      <td>0.713329</td>\n",
       "      <td>0.092144</td>\n",
       "      <td>0.033274</td>\n",
       "      <td>-0.037089</td>\n",
       "    </tr>\n",
       "  </tbody>\n",
       "</table>\n",
       "<p>3209 rows × 58 columns</p>\n",
       "</div>"
      ],
      "text/plain": [
       "      s1age_head_05  s1hhsize_05  s1hhsz_undr5_05  s1hhsz_5_14_05  \\\n",
       "1              35.0          5.0              1.0             2.0   \n",
       "2              56.0          8.0              1.0             1.0   \n",
       "3              49.0         12.0              1.0             5.0   \n",
       "4              49.0         12.0              1.0             5.0   \n",
       "6              31.0          5.0              1.0             2.0   \n",
       "...             ...          ...              ...             ...   \n",
       "3544           52.0          8.0              1.0             1.0   \n",
       "3545           31.0          5.0              2.0             1.0   \n",
       "3546           31.0          5.0              2.0             1.0   \n",
       "3547           49.0          7.0              1.0             1.0   \n",
       "3548           49.0          7.0              1.0             1.0   \n",
       "\n",
       "      s1hhsz_15_24_05  s1hhsz_25_64_05  s1hhsz_65plus_05  s1male_head_05  \\\n",
       "1                 0.0              2.0               0.0             1.0   \n",
       "2                 3.0              3.0               0.0             1.0   \n",
       "3                 2.0              3.0               0.0             1.0   \n",
       "4                 2.0              3.0               0.0             1.0   \n",
       "6                 0.0              2.0               0.0             1.0   \n",
       "...               ...              ...               ...             ...   \n",
       "3544              3.0              3.0               0.0             1.0   \n",
       "3545              0.0              2.0               0.0             1.0   \n",
       "3546              0.0              2.0               0.0             1.0   \n",
       "3547              3.0              2.0               0.0             1.0   \n",
       "3548              3.0              2.0               0.0             1.0   \n",
       "\n",
       "      s2mother_inhs_05  s3ap5_rooms_h_05  ...  com_vit_05  com_deworm_05  \\\n",
       "1                  1.0               1.0  ...    0.571429       0.285714   \n",
       "2                  1.0               3.0  ...    0.685714       0.628571   \n",
       "3                  1.0               1.0  ...    0.861111       0.500000   \n",
       "4                  1.0               1.0  ...    0.861111       0.500000   \n",
       "6                  1.0               3.0  ...    0.861111       0.500000   \n",
       "...                ...               ...  ...         ...            ...   \n",
       "3544               1.0               4.0  ...    0.720000       0.600000   \n",
       "3545               1.0               2.0  ...    0.720000       0.600000   \n",
       "3546               1.0               2.0  ...    0.720000       0.600000   \n",
       "3547               1.0               1.0  ...    0.828829       0.603604   \n",
       "3548               1.0               1.0  ...    0.828829       0.603604   \n",
       "\n",
       "      com_notvip  sample06  vitamiron_06  propfood_05  prstap_f_05  \\\n",
       "1       0.500000       1.0           0.0     0.678527     0.204472   \n",
       "2       0.250000       1.0           1.0     0.560299     0.706687   \n",
       "3       0.300000       1.0           1.0     0.527724     0.418402   \n",
       "4       0.300000       1.0           1.0     0.527724     0.418402   \n",
       "6       0.300000       1.0           1.0     0.450707     0.737649   \n",
       "...          ...       ...           ...          ...          ...   \n",
       "3544    0.000000       1.0           0.0     0.575694     0.584656   \n",
       "3545    0.000000       1.0           1.0     0.574574     0.674472   \n",
       "3546    0.000000       1.0           1.0     0.574574     0.674472   \n",
       "3547    0.233333       1.0           1.0     0.696731     0.713329   \n",
       "3548    0.233333       1.0           1.0     0.696731     0.713329   \n",
       "\n",
       "      pranimalprot_f_05  prfruitveg_f_05  z_all_06  \n",
       "1              0.674387         0.000000  0.450156  \n",
       "2              0.046980         0.009460  0.011252  \n",
       "3              0.122034         0.135109 -0.505333  \n",
       "4              0.122034         0.135109 -0.468488  \n",
       "6              0.037743         0.067608  0.120401  \n",
       "...                 ...              ...       ...  \n",
       "3544           0.043516         0.047044  0.432928  \n",
       "3545           0.037236         0.054894  0.418482  \n",
       "3546           0.037236         0.054894  0.439541  \n",
       "3547           0.092144         0.033274  0.035322  \n",
       "3548           0.092144         0.033274 -0.037089  \n",
       "\n",
       "[3209 rows x 58 columns]"
      ]
     },
     "execution_count": 54,
     "metadata": {},
     "output_type": "execute_result"
    }
   ],
   "source": [
    "cleaned_df"
   ]
  },
  {
   "cell_type": "code",
   "execution_count": 55,
   "id": "9b62bf97",
   "metadata": {},
   "outputs": [],
   "source": [
    "counterfactual_df=cleaned_df.drop(\"z_all_06\",axis=1)"
   ]
  },
  {
   "cell_type": "code",
   "execution_count": 56,
   "id": "07d3b241",
   "metadata": {},
   "outputs": [
    {
     "data": {
      "text/plain": [
       "1       1.0\n",
       "2       1.0\n",
       "3       1.0\n",
       "4       1.0\n",
       "6       1.0\n",
       "       ... \n",
       "3544    0.0\n",
       "3545    0.0\n",
       "3546    0.0\n",
       "3547    1.0\n",
       "3548    1.0\n",
       "Name: tr, Length: 3209, dtype: float32"
      ]
     },
     "execution_count": 56,
     "metadata": {},
     "output_type": "execute_result"
    }
   ],
   "source": [
    "counterfactual_df.tr"
   ]
  },
  {
   "cell_type": "code",
   "execution_count": 57,
   "id": "05cc3080",
   "metadata": {},
   "outputs": [],
   "source": [
    "a=counterfactual_df[\"tr\"]+1"
   ]
  },
  {
   "cell_type": "code",
   "execution_count": 58,
   "id": "e9feabf3",
   "metadata": {},
   "outputs": [],
   "source": [
    "counterfactual_df[\"tr\"]=a%2"
   ]
  },
  {
   "cell_type": "code",
   "execution_count": 59,
   "id": "9dad02a6",
   "metadata": {},
   "outputs": [
    {
     "data": {
      "text/plain": [
       "1       0.0\n",
       "2       0.0\n",
       "3       0.0\n",
       "4       0.0\n",
       "6       0.0\n",
       "       ... \n",
       "3544    1.0\n",
       "3545    1.0\n",
       "3546    1.0\n",
       "3547    0.0\n",
       "3548    0.0\n",
       "Name: tr, Length: 3209, dtype: float32"
      ]
     },
     "execution_count": 59,
     "metadata": {},
     "output_type": "execute_result"
    }
   ],
   "source": [
    "counterfactual_df.tr"
   ]
  },
  {
   "cell_type": "code",
   "execution_count": 60,
   "id": "3675377c",
   "metadata": {},
   "outputs": [],
   "source": [
    "counterfactual=forest_reg.predict(counterfactual_df)"
   ]
  },
  {
   "cell_type": "code",
   "execution_count": 61,
   "id": "90262d50",
   "metadata": {},
   "outputs": [],
   "source": [
    "observed=cleaned_df[\"z_all_06\"]\n",
    "counterfactuals=pd.Series(counterfactual, index=observed.index)"
   ]
  },
  {
   "cell_type": "code",
   "execution_count": 62,
   "id": "0473f02d",
   "metadata": {},
   "outputs": [
    {
     "data": {
      "text/plain": [
       "1       0.450156\n",
       "2       0.011252\n",
       "3      -0.505333\n",
       "4      -0.468488\n",
       "6       0.120401\n",
       "          ...   \n",
       "3544    0.432928\n",
       "3545    0.418482\n",
       "3546    0.439541\n",
       "3547    0.035322\n",
       "3548   -0.037089\n",
       "Name: z_all_06, Length: 3209, dtype: float32"
      ]
     },
     "execution_count": 62,
     "metadata": {},
     "output_type": "execute_result"
    }
   ],
   "source": [
    "observed"
   ]
  },
  {
   "cell_type": "code",
   "execution_count": 63,
   "id": "9eea8cba",
   "metadata": {},
   "outputs": [],
   "source": [
    "ite_temp=pd.Series([observed[i]-counterfactuals[i] for i in observed.index if cleaned_df.tr[i]==1], index=cleaned_df[cleaned_df.tr==1].index)\n",
    "ite_temp1=pd.Series([counterfactuals[i]-observed[i] for i in observed.index if cleaned_df.tr[i]==0], index=cleaned_df[cleaned_df.tr==0].index)\n",
    "ite=pd.concat([ite_temp,ite_temp1])\n",
    "ite.sort_index(inplace=True)"
   ]
  },
  {
   "cell_type": "code",
   "execution_count": 64,
   "id": "0a2c9c8b",
   "metadata": {},
   "outputs": [
    {
     "data": {
      "text/plain": [
       "count    3209.000000\n",
       "mean        0.112473\n",
       "std         0.527728\n",
       "min        -4.838247\n",
       "25%        -0.194583\n",
       "50%         0.146467\n",
       "75%         0.447030\n",
       "max         2.979306\n",
       "dtype: float64"
      ]
     },
     "execution_count": 64,
     "metadata": {},
     "output_type": "execute_result"
    }
   ],
   "source": [
    "ite.describe()"
   ]
  },
  {
   "cell_type": "code",
   "execution_count": 65,
   "id": "9637ac18",
   "metadata": {},
   "outputs": [
    {
     "data": {
      "text/plain": [
       "<AxesSubplot:xlabel='SHAP value (impact on model output)', ylabel='Count'>"
      ]
     },
     "execution_count": 65,
     "metadata": {},
     "output_type": "execute_result"
    }
   ],
   "source": [
    "import seaborn as sb\n",
    "\n",
    "sb.histplot(ite)"
   ]
  },
  {
   "cell_type": "code",
   "execution_count": 66,
   "id": "a97733f1",
   "metadata": {},
   "outputs": [
    {
     "data": {
      "text/plain": [
       "count    3209.000000\n",
       "mean        0.041547\n",
       "std         0.588593\n",
       "min        -6.785845\n",
       "25%        -0.247309\n",
       "50%         0.104151\n",
       "75%         0.405594\n",
       "max         2.354861\n",
       "Name: z_all_06, dtype: float64"
      ]
     },
     "execution_count": 66,
     "metadata": {},
     "output_type": "execute_result"
    }
   ],
   "source": [
    "cleaned_df.z_all_06.describe()"
   ]
  },
  {
   "cell_type": "markdown",
   "id": "d3c49300",
   "metadata": {},
   "source": [
    "NO CONSIDERAR: ite amb counterfactual i observed predits pel model"
   ]
  },
  {
   "cell_type": "code",
   "execution_count": 67,
   "id": "5d0ccee9",
   "metadata": {},
   "outputs": [],
   "source": [
    "observed_df=cleaned_df.drop(\"z_all_06\",axis=1)\n",
    "observed_predict=forest_reg.predict(observed_df)\n",
    "observed_predict=pd.Series(observed_predict, index=observed_df.index)"
   ]
  },
  {
   "cell_type": "code",
   "execution_count": 68,
   "id": "0d6ed0ab",
   "metadata": {},
   "outputs": [],
   "source": [
    "ite1=[observed_predict[i]-counterfactuals[i] for i in observed_predict.index if cleaned_df.tr[i]==1]+[counterfactuals[i]-observed_predict[i] for i in observed_predict.index if cleaned_df.tr[i]==0 ]"
   ]
  },
  {
   "cell_type": "code",
   "execution_count": 69,
   "id": "184ad4ea",
   "metadata": {},
   "outputs": [
    {
     "data": {
      "text/plain": [
       "count    3209.000000\n",
       "mean        0.006300\n",
       "std         0.024186\n",
       "min        -0.119661\n",
       "25%         0.000000\n",
       "50%         0.000000\n",
       "75%         0.016711\n",
       "max         0.125927\n",
       "dtype: float64"
      ]
     },
     "execution_count": 69,
     "metadata": {},
     "output_type": "execute_result"
    }
   ],
   "source": [
    "ite1=pd.Series(ite1, index=cleaned_df.index)\n",
    "ite1.describe()"
   ]
  },
  {
   "cell_type": "code",
   "execution_count": 70,
   "id": "faceb986",
   "metadata": {},
   "outputs": [
    {
     "data": {
      "text/plain": [
       "<AxesSubplot:xlabel='SHAP value (impact on model output)', ylabel='Count'>"
      ]
     },
     "execution_count": 70,
     "metadata": {},
     "output_type": "execute_result"
    }
   ],
   "source": [
    "sb.histplot(ite1)"
   ]
  },
  {
   "cell_type": "code",
   "execution_count": 71,
   "id": "21b8cdbb",
   "metadata": {},
   "outputs": [
    {
     "data": {
      "text/plain": [
       " 0.000000    1097\n",
       " 0.016916      52\n",
       "-0.015960      36\n",
       " 0.016916      32\n",
       " 0.016916      25\n",
       "             ... \n",
       "-0.009119       1\n",
       " 0.009355       1\n",
       " 0.020061       1\n",
       " 0.020061       1\n",
       "-0.031267       1\n",
       "Length: 1463, dtype: int64"
      ]
     },
     "execution_count": 71,
     "metadata": {},
     "output_type": "execute_result"
    }
   ],
   "source": [
    "ite1.value_counts()"
   ]
  },
  {
   "cell_type": "markdown",
   "id": "40087ab7",
   "metadata": {},
   "source": [
    "### ESTRATIFICACIO ITE"
   ]
  },
  {
   "cell_type": "markdown",
   "id": "ced005c0",
   "metadata": {},
   "source": [
    "Quartils i std.\n",
    "\n",
    "1. Separem <=q25, q25<...<=q50, q50<=q75, q75<\n",
    "2. STD"
   ]
  },
  {
   "cell_type": "code",
   "execution_count": 72,
   "id": "00533b58",
   "metadata": {},
   "outputs": [],
   "source": [
    "quartils=ite.quantile([0.25,0.5, 0.75])"
   ]
  },
  {
   "cell_type": "code",
   "execution_count": 73,
   "id": "2e8556b1",
   "metadata": {},
   "outputs": [],
   "source": [
    "ite0=ite[ite<=quartils.iloc[0]]"
   ]
  },
  {
   "cell_type": "code",
   "execution_count": 74,
   "id": "08767691",
   "metadata": {},
   "outputs": [],
   "source": [
    "ite1=ite[ite<=quartils.iloc[1]]\n",
    "ite1.drop(ite0.index, inplace=True)"
   ]
  },
  {
   "cell_type": "code",
   "execution_count": 75,
   "id": "553ca5ef",
   "metadata": {},
   "outputs": [],
   "source": [
    "ite2=ite[ite<=quartils.iloc[2]]\n",
    "ite2.drop(ite0.index, inplace=True)\n",
    "ite2.drop(ite1.index, inplace=True)"
   ]
  },
  {
   "cell_type": "code",
   "execution_count": 76,
   "id": "ebdb748d",
   "metadata": {},
   "outputs": [],
   "source": [
    "ite3=ite.copy()\n",
    "ite3.drop(ite0.index, inplace=True)\n",
    "ite3.drop(ite1.index, inplace=True)\n",
    "ite3.drop(ite2.index, inplace=True)"
   ]
  },
  {
   "cell_type": "code",
   "execution_count": 77,
   "id": "6ac87e17",
   "metadata": {},
   "outputs": [],
   "source": [
    "ite0_df=cleaned_df.loc[ite0.index]\n",
    "ite1_df=cleaned_df.loc[ite1.index]\n",
    "ite2_df=cleaned_df.loc[ite2.index]\n",
    "ite3_df=cleaned_df.loc[ite3.index]"
   ]
  },
  {
   "cell_type": "code",
   "execution_count": 78,
   "id": "55110a90",
   "metadata": {},
   "outputs": [],
   "source": [
    "shap=[[stats.shapiro(ite0_df[col].values).pvalue for col in normal_cols],\n",
    "        [stats.shapiro(ite1_df[col].values).pvalue for col in normal_cols],\n",
    "        [stats.shapiro(ite2_df[col].values).pvalue for col in normal_cols],\n",
    "        [stats.shapiro(ite3_df[col].values).pvalue for col in normal_cols]]\n",
    "\n",
    "shap_df=pd.DataFrame(shap,columns=normal_cols)"
   ]
  },
  {
   "cell_type": "code",
   "execution_count": 79,
   "id": "44bb57a4",
   "metadata": {},
   "outputs": [
    {
     "data": {
      "text/html": [
       "<div>\n",
       "<style scoped>\n",
       "    .dataframe tbody tr th:only-of-type {\n",
       "        vertical-align: middle;\n",
       "    }\n",
       "\n",
       "    .dataframe tbody tr th {\n",
       "        vertical-align: top;\n",
       "    }\n",
       "\n",
       "    .dataframe thead th {\n",
       "        text-align: right;\n",
       "    }\n",
       "</style>\n",
       "<table border=\"1\" class=\"dataframe\">\n",
       "  <thead>\n",
       "    <tr style=\"text-align: right;\">\n",
       "      <th></th>\n",
       "      <th>height_05</th>\n",
       "      <th>a10whz_05</th>\n",
       "      <th>weight_05</th>\n",
       "      <th>com_haz_05</th>\n",
       "      <th>com_waz_05</th>\n",
       "    </tr>\n",
       "  </thead>\n",
       "  <tbody>\n",
       "    <tr>\n",
       "      <th>0</th>\n",
       "      <td>1.134620e-18</td>\n",
       "      <td>2.148923e-19</td>\n",
       "      <td>1.287944e-19</td>\n",
       "      <td>6.936866e-08</td>\n",
       "      <td>3.009564e-05</td>\n",
       "    </tr>\n",
       "    <tr>\n",
       "      <th>1</th>\n",
       "      <td>1.442911e-15</td>\n",
       "      <td>4.540422e-22</td>\n",
       "      <td>5.320705e-20</td>\n",
       "      <td>4.621408e-08</td>\n",
       "      <td>8.177511e-05</td>\n",
       "    </tr>\n",
       "    <tr>\n",
       "      <th>2</th>\n",
       "      <td>4.289343e-20</td>\n",
       "      <td>1.610572e-15</td>\n",
       "      <td>5.926104e-21</td>\n",
       "      <td>4.025318e-12</td>\n",
       "      <td>1.695026e-08</td>\n",
       "    </tr>\n",
       "    <tr>\n",
       "      <th>3</th>\n",
       "      <td>3.589768e-18</td>\n",
       "      <td>4.546824e-17</td>\n",
       "      <td>5.886236e-16</td>\n",
       "      <td>5.248658e-11</td>\n",
       "      <td>2.359487e-07</td>\n",
       "    </tr>\n",
       "  </tbody>\n",
       "</table>\n",
       "</div>"
      ],
      "text/plain": [
       "      height_05     a10whz_05     weight_05    com_haz_05    com_waz_05\n",
       "0  1.134620e-18  2.148923e-19  1.287944e-19  6.936866e-08  3.009564e-05\n",
       "1  1.442911e-15  4.540422e-22  5.320705e-20  4.621408e-08  8.177511e-05\n",
       "2  4.289343e-20  1.610572e-15  5.926104e-21  4.025318e-12  1.695026e-08\n",
       "3  3.589768e-18  4.546824e-17  5.886236e-16  5.248658e-11  2.359487e-07"
      ]
     },
     "execution_count": 79,
     "metadata": {},
     "output_type": "execute_result"
    }
   ],
   "source": [
    "#fem el test de shapiro a els subgrups (generats al estratificar la ite en quartils) de les variables normals. \n",
    "#Surt normalitat arreu, aixi que si tenen desv std entre ells normals, podrem aplicar t-tests per comprovar \n",
    "#si les mitjanes son iguals\n",
    "shap_df"
   ]
  },
  {
   "cell_type": "code",
   "execution_count": 80,
   "id": "ac4ffd67",
   "metadata": {},
   "outputs": [],
   "source": [
    "std=[[np.std(ite0_df[col].values) for col in normal_cols],\n",
    "        [np.std(ite1_df[col].values) for col in normal_cols],\n",
    "        [np.std(ite2_df[col].values) for col in normal_cols],\n",
    "        [np.std(ite3_df[col].values) for col in normal_cols]]\n",
    "std_df=pd.DataFrame(std,columns=normal_cols)"
   ]
  },
  {
   "cell_type": "code",
   "execution_count": 81,
   "id": "69ba575a",
   "metadata": {},
   "outputs": [
    {
     "data": {
      "text/html": [
       "<div>\n",
       "<style scoped>\n",
       "    .dataframe tbody tr th:only-of-type {\n",
       "        vertical-align: middle;\n",
       "    }\n",
       "\n",
       "    .dataframe tbody tr th {\n",
       "        vertical-align: top;\n",
       "    }\n",
       "\n",
       "    .dataframe thead th {\n",
       "        text-align: right;\n",
       "    }\n",
       "</style>\n",
       "<table border=\"1\" class=\"dataframe\">\n",
       "  <thead>\n",
       "    <tr style=\"text-align: right;\">\n",
       "      <th></th>\n",
       "      <th>height_05</th>\n",
       "      <th>a10whz_05</th>\n",
       "      <th>weight_05</th>\n",
       "      <th>com_haz_05</th>\n",
       "      <th>com_waz_05</th>\n",
       "    </tr>\n",
       "  </thead>\n",
       "  <tbody>\n",
       "    <tr>\n",
       "      <th>0</th>\n",
       "      <td>1.039796</td>\n",
       "      <td>1.036701</td>\n",
       "      <td>1.063960</td>\n",
       "      <td>1.032308</td>\n",
       "      <td>1.080985</td>\n",
       "    </tr>\n",
       "    <tr>\n",
       "      <th>1</th>\n",
       "      <td>0.945579</td>\n",
       "      <td>1.029978</td>\n",
       "      <td>0.977538</td>\n",
       "      <td>0.964955</td>\n",
       "      <td>0.984505</td>\n",
       "    </tr>\n",
       "    <tr>\n",
       "      <th>2</th>\n",
       "      <td>0.998215</td>\n",
       "      <td>0.972044</td>\n",
       "      <td>0.960637</td>\n",
       "      <td>0.982225</td>\n",
       "      <td>0.988944</td>\n",
       "    </tr>\n",
       "    <tr>\n",
       "      <th>3</th>\n",
       "      <td>1.071605</td>\n",
       "      <td>1.030392</td>\n",
       "      <td>1.074634</td>\n",
       "      <td>1.003415</td>\n",
       "      <td>0.933461</td>\n",
       "    </tr>\n",
       "  </tbody>\n",
       "</table>\n",
       "</div>"
      ],
      "text/plain": [
       "   height_05  a10whz_05  weight_05  com_haz_05  com_waz_05\n",
       "0   1.039796   1.036701   1.063960    1.032308    1.080985\n",
       "1   0.945579   1.029978   0.977538    0.964955    0.984505\n",
       "2   0.998215   0.972044   0.960637    0.982225    0.988944\n",
       "3   1.071605   1.030392   1.074634    1.003415    0.933461"
      ]
     },
     "execution_count": 81,
     "metadata": {},
     "output_type": "execute_result"
    }
   ],
   "source": [
    "std_df"
   ]
  },
  {
   "cell_type": "code",
   "execution_count": 82,
   "id": "8b366e61",
   "metadata": {},
   "outputs": [
    {
     "data": {
      "text/html": [
       "<div>\n",
       "<style scoped>\n",
       "    .dataframe tbody tr th:only-of-type {\n",
       "        vertical-align: middle;\n",
       "    }\n",
       "\n",
       "    .dataframe tbody tr th {\n",
       "        vertical-align: top;\n",
       "    }\n",
       "\n",
       "    .dataframe thead th {\n",
       "        text-align: right;\n",
       "    }\n",
       "</style>\n",
       "<table border=\"1\" class=\"dataframe\">\n",
       "  <thead>\n",
       "    <tr style=\"text-align: right;\">\n",
       "      <th></th>\n",
       "      <th>height_05</th>\n",
       "      <th>a10whz_05</th>\n",
       "      <th>weight_05</th>\n",
       "      <th>com_haz_05</th>\n",
       "      <th>com_waz_05</th>\n",
       "    </tr>\n",
       "  </thead>\n",
       "  <tbody>\n",
       "    <tr>\n",
       "      <th>count</th>\n",
       "      <td>803.000000</td>\n",
       "      <td>803.000000</td>\n",
       "      <td>803.000000</td>\n",
       "      <td>803.000000</td>\n",
       "      <td>803.000000</td>\n",
       "    </tr>\n",
       "    <tr>\n",
       "      <th>mean</th>\n",
       "      <td>0.020502</td>\n",
       "      <td>-0.054535</td>\n",
       "      <td>-0.028123</td>\n",
       "      <td>0.033877</td>\n",
       "      <td>0.056150</td>\n",
       "    </tr>\n",
       "    <tr>\n",
       "      <th>std</th>\n",
       "      <td>1.040444</td>\n",
       "      <td>1.037346</td>\n",
       "      <td>1.064624</td>\n",
       "      <td>1.032953</td>\n",
       "      <td>1.081659</td>\n",
       "    </tr>\n",
       "    <tr>\n",
       "      <th>min</th>\n",
       "      <td>-4.116783</td>\n",
       "      <td>-4.728379</td>\n",
       "      <td>-4.225841</td>\n",
       "      <td>-2.099604</td>\n",
       "      <td>-2.945017</td>\n",
       "    </tr>\n",
       "    <tr>\n",
       "      <th>25%</th>\n",
       "      <td>-0.405704</td>\n",
       "      <td>-0.498347</td>\n",
       "      <td>-0.470694</td>\n",
       "      <td>-0.689268</td>\n",
       "      <td>-0.739611</td>\n",
       "    </tr>\n",
       "    <tr>\n",
       "      <th>50%</th>\n",
       "      <td>0.004128</td>\n",
       "      <td>-0.006138</td>\n",
       "      <td>-0.000365</td>\n",
       "      <td>0.027056</td>\n",
       "      <td>0.041541</td>\n",
       "    </tr>\n",
       "    <tr>\n",
       "      <th>75%</th>\n",
       "      <td>0.401657</td>\n",
       "      <td>0.299688</td>\n",
       "      <td>0.328458</td>\n",
       "      <td>0.660458</td>\n",
       "      <td>0.795905</td>\n",
       "    </tr>\n",
       "    <tr>\n",
       "      <th>max</th>\n",
       "      <td>5.229619</td>\n",
       "      <td>5.570420</td>\n",
       "      <td>5.790775</td>\n",
       "      <td>3.274381</td>\n",
       "      <td>3.984370</td>\n",
       "    </tr>\n",
       "  </tbody>\n",
       "</table>\n",
       "</div>"
      ],
      "text/plain": [
       "        height_05   a10whz_05   weight_05  com_haz_05  com_waz_05\n",
       "count  803.000000  803.000000  803.000000  803.000000  803.000000\n",
       "mean     0.020502   -0.054535   -0.028123    0.033877    0.056150\n",
       "std      1.040444    1.037346    1.064624    1.032953    1.081659\n",
       "min     -4.116783   -4.728379   -4.225841   -2.099604   -2.945017\n",
       "25%     -0.405704   -0.498347   -0.470694   -0.689268   -0.739611\n",
       "50%      0.004128   -0.006138   -0.000365    0.027056    0.041541\n",
       "75%      0.401657    0.299688    0.328458    0.660458    0.795905\n",
       "max      5.229619    5.570420    5.790775    3.274381    3.984370"
      ]
     },
     "execution_count": 82,
     "metadata": {},
     "output_type": "execute_result"
    }
   ],
   "source": [
    "ite0_df[normal_cols].describe()"
   ]
  },
  {
   "cell_type": "code",
   "execution_count": 83,
   "id": "39da1fcc",
   "metadata": {},
   "outputs": [
    {
     "data": {
      "text/html": [
       "<div>\n",
       "<style scoped>\n",
       "    .dataframe tbody tr th:only-of-type {\n",
       "        vertical-align: middle;\n",
       "    }\n",
       "\n",
       "    .dataframe tbody tr th {\n",
       "        vertical-align: top;\n",
       "    }\n",
       "\n",
       "    .dataframe thead th {\n",
       "        text-align: right;\n",
       "    }\n",
       "</style>\n",
       "<table border=\"1\" class=\"dataframe\">\n",
       "  <thead>\n",
       "    <tr style=\"text-align: right;\">\n",
       "      <th></th>\n",
       "      <th>height_05</th>\n",
       "      <th>a10whz_05</th>\n",
       "      <th>weight_05</th>\n",
       "      <th>com_haz_05</th>\n",
       "      <th>com_waz_05</th>\n",
       "    </tr>\n",
       "  </thead>\n",
       "  <tbody>\n",
       "    <tr>\n",
       "      <th>count</th>\n",
       "      <td>802.000000</td>\n",
       "      <td>802.000000</td>\n",
       "      <td>802.000000</td>\n",
       "      <td>802.000000</td>\n",
       "      <td>802.000000</td>\n",
       "    </tr>\n",
       "    <tr>\n",
       "      <th>mean</th>\n",
       "      <td>-0.077267</td>\n",
       "      <td>-0.085746</td>\n",
       "      <td>-0.137520</td>\n",
       "      <td>0.007115</td>\n",
       "      <td>-0.036924</td>\n",
       "    </tr>\n",
       "    <tr>\n",
       "      <th>std</th>\n",
       "      <td>1.072275</td>\n",
       "      <td>1.031036</td>\n",
       "      <td>1.075303</td>\n",
       "      <td>1.004041</td>\n",
       "      <td>0.934045</td>\n",
       "    </tr>\n",
       "    <tr>\n",
       "      <th>min</th>\n",
       "      <td>-4.100525</td>\n",
       "      <td>-4.300730</td>\n",
       "      <td>-4.204956</td>\n",
       "      <td>-2.099604</td>\n",
       "      <td>-2.945017</td>\n",
       "    </tr>\n",
       "    <tr>\n",
       "      <th>25%</th>\n",
       "      <td>-0.503719</td>\n",
       "      <td>-0.539360</td>\n",
       "      <td>-0.622075</td>\n",
       "      <td>-0.732636</td>\n",
       "      <td>-0.720442</td>\n",
       "    </tr>\n",
       "    <tr>\n",
       "      <th>50%</th>\n",
       "      <td>0.004128</td>\n",
       "      <td>-0.006138</td>\n",
       "      <td>-0.000365</td>\n",
       "      <td>0.010560</td>\n",
       "      <td>0.041541</td>\n",
       "    </tr>\n",
       "    <tr>\n",
       "      <th>75%</th>\n",
       "      <td>0.285659</td>\n",
       "      <td>0.275159</td>\n",
       "      <td>0.296354</td>\n",
       "      <td>0.660458</td>\n",
       "      <td>0.647383</td>\n",
       "    </tr>\n",
       "    <tr>\n",
       "      <th>max</th>\n",
       "      <td>5.954116</td>\n",
       "      <td>4.326862</td>\n",
       "      <td>4.351945</td>\n",
       "      <td>3.274381</td>\n",
       "      <td>2.887025</td>\n",
       "    </tr>\n",
       "  </tbody>\n",
       "</table>\n",
       "</div>"
      ],
      "text/plain": [
       "        height_05   a10whz_05   weight_05  com_haz_05  com_waz_05\n",
       "count  802.000000  802.000000  802.000000  802.000000  802.000000\n",
       "mean    -0.077267   -0.085746   -0.137520    0.007115   -0.036924\n",
       "std      1.072275    1.031036    1.075303    1.004041    0.934045\n",
       "min     -4.100525   -4.300730   -4.204956   -2.099604   -2.945017\n",
       "25%     -0.503719   -0.539360   -0.622075   -0.732636   -0.720442\n",
       "50%      0.004128   -0.006138   -0.000365    0.010560    0.041541\n",
       "75%      0.285659    0.275159    0.296354    0.660458    0.647383\n",
       "max      5.954116    4.326862    4.351945    3.274381    2.887025"
      ]
     },
     "execution_count": 83,
     "metadata": {},
     "output_type": "execute_result"
    }
   ],
   "source": [
    "ite3_df[normal_cols].describe()"
   ]
  },
  {
   "cell_type": "code",
   "execution_count": 84,
   "id": "4cf11aa9",
   "metadata": {},
   "outputs": [],
   "source": [
    "import scipy\n",
    "from scipy import stats\n",
    "    \n",
    "ttestp_df=[[stats.ttest_ind(ite1_df[col].values, ite0_df[col].values).pvalue for col in normal_cols],\n",
    "          [stats.ttest_ind(ite2_df[col].values, ite0_df[col].values).pvalue for col in normal_cols],\n",
    "          [stats.ttest_ind(ite3_df[col].values, ite0_df[col].values).pvalue for col in normal_cols],\n",
    "          [stats.ttest_ind(ite2_df[col].values, ite1_df[col].values).pvalue for col in normal_cols],\n",
    "          [stats.ttest_ind(ite3_df[col].values, ite1_df[col].values).pvalue for col in normal_cols],\n",
    "          [stats.ttest_ind(ite3_df[col].values, ite2_df[col].values).pvalue for col in normal_cols]\n",
    "         ]\n",
    "ttest_df=pd.DataFrame(ttestp_df,columns=normal_cols, index=[\"0-1\",\"0-2\",\"0-3\",\"1-2\",\"1-3\",\"2-3\"])"
   ]
  },
  {
   "cell_type": "code",
   "execution_count": 85,
   "id": "24db93f0",
   "metadata": {},
   "outputs": [
    {
     "data": {
      "text/html": [
       "<style type=\"text/css\">\n",
       "#T_296a4_row0_col0, #T_296a4_row0_col4, #T_296a4_row2_col1, #T_296a4_row3_col2, #T_296a4_row4_col3 {\n",
       "  background-color: #08306b;\n",
       "  color: #f1f1f1;\n",
       "}\n",
       "#T_296a4_row0_col1 {\n",
       "  background-color: #d3e4f3;\n",
       "  color: #000000;\n",
       "}\n",
       "#T_296a4_row0_col2 {\n",
       "  background-color: #cfe1f2;\n",
       "  color: #000000;\n",
       "}\n",
       "#T_296a4_row0_col3 {\n",
       "  background-color: #4292c6;\n",
       "  color: #f1f1f1;\n",
       "}\n",
       "#T_296a4_row1_col0 {\n",
       "  background-color: #3383be;\n",
       "  color: #f1f1f1;\n",
       "}\n",
       "#T_296a4_row1_col1, #T_296a4_row1_col3, #T_296a4_row1_col4, #T_296a4_row2_col0, #T_296a4_row4_col2, #T_296a4_row5_col1, #T_296a4_row5_col2 {\n",
       "  background-color: #f7fbff;\n",
       "  color: #000000;\n",
       "}\n",
       "#T_296a4_row1_col2 {\n",
       "  background-color: #edf4fc;\n",
       "  color: #000000;\n",
       "}\n",
       "#T_296a4_row2_col2 {\n",
       "  background-color: #e8f1fa;\n",
       "  color: #000000;\n",
       "}\n",
       "#T_296a4_row2_col3 {\n",
       "  background-color: #4695c8;\n",
       "  color: #f1f1f1;\n",
       "}\n",
       "#T_296a4_row2_col4 {\n",
       "  background-color: #deebf7;\n",
       "  color: #000000;\n",
       "}\n",
       "#T_296a4_row3_col0 {\n",
       "  background-color: #1e6db2;\n",
       "  color: #f1f1f1;\n",
       "}\n",
       "#T_296a4_row3_col1 {\n",
       "  background-color: #d8e7f5;\n",
       "  color: #000000;\n",
       "}\n",
       "#T_296a4_row3_col3 {\n",
       "  background-color: #f4f9fe;\n",
       "  color: #000000;\n",
       "}\n",
       "#T_296a4_row3_col4 {\n",
       "  background-color: #eaf3fb;\n",
       "  color: #000000;\n",
       "}\n",
       "#T_296a4_row4_col0 {\n",
       "  background-color: #f6faff;\n",
       "  color: #000000;\n",
       "}\n",
       "#T_296a4_row4_col1 {\n",
       "  background-color: #eef5fc;\n",
       "  color: #000000;\n",
       "}\n",
       "#T_296a4_row4_col4 {\n",
       "  background-color: #64a9d3;\n",
       "  color: #f1f1f1;\n",
       "}\n",
       "#T_296a4_row5_col0 {\n",
       "  background-color: #e2edf8;\n",
       "  color: #000000;\n",
       "}\n",
       "#T_296a4_row5_col3 {\n",
       "  background-color: #f3f8fe;\n",
       "  color: #000000;\n",
       "}\n",
       "#T_296a4_row5_col4 {\n",
       "  background-color: #3282be;\n",
       "  color: #f1f1f1;\n",
       "}\n",
       "</style>\n",
       "<table id=\"T_296a4\">\n",
       "  <thead>\n",
       "    <tr>\n",
       "      <th class=\"blank level0\" >&nbsp;</th>\n",
       "      <th id=\"T_296a4_level0_col0\" class=\"col_heading level0 col0\" >height_05</th>\n",
       "      <th id=\"T_296a4_level0_col1\" class=\"col_heading level0 col1\" >a10whz_05</th>\n",
       "      <th id=\"T_296a4_level0_col2\" class=\"col_heading level0 col2\" >weight_05</th>\n",
       "      <th id=\"T_296a4_level0_col3\" class=\"col_heading level0 col3\" >com_haz_05</th>\n",
       "      <th id=\"T_296a4_level0_col4\" class=\"col_heading level0 col4\" >com_waz_05</th>\n",
       "    </tr>\n",
       "  </thead>\n",
       "  <tbody>\n",
       "    <tr>\n",
       "      <th id=\"T_296a4_level0_row0\" class=\"row_heading level0 row0\" >0-1</th>\n",
       "      <td id=\"T_296a4_row0_col0\" class=\"data row0 col0\" >0.907470</td>\n",
       "      <td id=\"T_296a4_row0_col1\" class=\"data row0 col1\" >0.099135</td>\n",
       "      <td id=\"T_296a4_row0_col2\" class=\"data row0 col2\" >0.111680</td>\n",
       "      <td id=\"T_296a4_row0_col3\" class=\"data row0 col3\" >0.611948</td>\n",
       "      <td id=\"T_296a4_row0_col4\" class=\"data row0 col4\" >0.467906</td>\n",
       "    </tr>\n",
       "    <tr>\n",
       "      <th id=\"T_296a4_level0_row1\" class=\"row_heading level0 row1\" >0-2</th>\n",
       "      <td id=\"T_296a4_row1_col0\" class=\"data row1 col0\" >0.638275</td>\n",
       "      <td id=\"T_296a4_row1_col1\" class=\"data row1 col1\" >0.000665</td>\n",
       "      <td id=\"T_296a4_row1_col2\" class=\"data row1 col2\" >0.028835</td>\n",
       "      <td id=\"T_296a4_row1_col3\" class=\"data row1 col3\" >0.006724</td>\n",
       "      <td id=\"T_296a4_row1_col4\" class=\"data row1 col4\" >0.006686</td>\n",
       "    </tr>\n",
       "    <tr>\n",
       "      <th id=\"T_296a4_level0_row2\" class=\"row_heading level0 row2\" >0-3</th>\n",
       "      <td id=\"T_296a4_row2_col0\" class=\"data row2 col0\" >0.063959</td>\n",
       "      <td id=\"T_296a4_row2_col1\" class=\"data row2 col1\" >0.545588</td>\n",
       "      <td id=\"T_296a4_row2_col2\" class=\"data row2 col2\" >0.040719</td>\n",
       "      <td id=\"T_296a4_row2_col3\" class=\"data row2 col3\" >0.598767</td>\n",
       "      <td id=\"T_296a4_row2_col4\" class=\"data row2 col4\" >0.065246</td>\n",
       "    </tr>\n",
       "    <tr>\n",
       "      <th id=\"T_296a4_level0_row3\" class=\"row_heading level0 row3\" >1-2</th>\n",
       "      <td id=\"T_296a4_row3_col0\" class=\"data row3 col0\" >0.708472</td>\n",
       "      <td id=\"T_296a4_row3_col1\" class=\"data row3 col1\" >0.085775</td>\n",
       "      <td id=\"T_296a4_row3_col2\" class=\"data row3 col2\" >0.541866</td>\n",
       "      <td id=\"T_296a4_row3_col3\" class=\"data row3 col3\" >0.022328</td>\n",
       "      <td id=\"T_296a4_row3_col4\" class=\"data row3 col4\" >0.036789</td>\n",
       "    </tr>\n",
       "    <tr>\n",
       "      <th id=\"T_296a4_level0_row4\" class=\"row_heading level0 row4\" >1-3</th>\n",
       "      <td id=\"T_296a4_row4_col0\" class=\"data row4 col0\" >0.068662</td>\n",
       "      <td id=\"T_296a4_row4_col1\" class=\"data row4 col1\" >0.023901</td>\n",
       "      <td id=\"T_296a4_row4_col2\" class=\"data row4 col2\" >0.000211</td>\n",
       "      <td id=\"T_296a4_row4_col3\" class=\"data row4 col3\" >0.976719</td>\n",
       "      <td id=\"T_296a4_row4_col4\" class=\"data row4 col4\" >0.246484</td>\n",
       "    </tr>\n",
       "    <tr>\n",
       "      <th id=\"T_296a4_level0_row5\" class=\"row_heading level0 row5\" >2-3</th>\n",
       "      <td id=\"T_296a4_row5_col0\" class=\"data row5 col0\" >0.153843</td>\n",
       "      <td id=\"T_296a4_row5_col1\" class=\"data row5 col1\" >0.000055</td>\n",
       "      <td id=\"T_296a4_row5_col2\" class=\"data row5 col2\" >0.000016</td>\n",
       "      <td id=\"T_296a4_row5_col3\" class=\"data row5 col3\" >0.026990</td>\n",
       "      <td id=\"T_296a4_row5_col4\" class=\"data row5 col4\" >0.323381</td>\n",
       "    </tr>\n",
       "  </tbody>\n",
       "</table>\n"
      ],
      "text/plain": [
       "<pandas.io.formats.style.Styler at 0x1d527f2a310>"
      ]
     },
     "execution_count": 85,
     "metadata": {},
     "output_type": "execute_result"
    }
   ],
   "source": [
    "#si p<0.05 podem assumir que les mitjanes son diferents (descartem la hipotesi nulla)\n",
    "ttest_df.style.background_gradient(cmap=\"Blues\")"
   ]
  },
  {
   "cell_type": "markdown",
   "id": "a77a2159",
   "metadata": {},
   "source": [
    "Hauriem de comprovar les distribucions de les variables per veure si coincideixen o no. Intentem-ho."
   ]
  },
  {
   "cell_type": "code",
   "execution_count": null,
   "id": "6702cd93",
>>>>>>> Stashed changes
   "metadata": {},
   "outputs": [],
   "source": []
  }
 ],
 "metadata": {
  "kernelspec": {
   "display_name": "Python 3 (ipykernel)",
   "language": "python",
   "name": "python3"
  },
  "language_info": {
   "codemirror_mode": {
    "name": "ipython",
    "version": 3
   },
   "file_extension": ".py",
   "mimetype": "text/x-python",
   "name": "python",
   "nbconvert_exporter": "python",
   "pygments_lexer": "ipython3",
   "version": "3.8.8"
  }
 },
 "nbformat": 4,
 "nbformat_minor": 5
}
