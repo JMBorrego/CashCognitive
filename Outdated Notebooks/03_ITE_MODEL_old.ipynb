{
 "cells": [
  {
   "cell_type": "markdown",
   "id": "518b786e",
   "metadata": {},
   "source": [
    "# Índice\n",
    "\n",
    "1. [Definición del *dataframe*](#data)\n",
    "1. [Selección de modelos](#models)\n",
    "   1. [Optimización de hiperparámetros: *Random Forest*](#hyperRF)\n",
    "   1. [Optimización de hiperparámetros: *XGBoost*](#hyperXG)\n",
    "   1. [POLYNOMIAL FEATURES??????????](#poly)    <---- cal aquest sub-apartat??\n",
    "1. [Cálculo del ITE](#ITE)\n",
    "1. [Agrupación por ITE: *Decision Tree*](#Tree)\n",
    "1. [Cálculo de CATEs](#CATE)"
   ]
  },
  {
   "cell_type": "markdown",
   "id": "8d9a9333",
   "metadata": {},
   "source": [
    "<a id='data'> </a>\n",
    "# 1. Definición del *dataframe*"
   ]
  },
  {
   "cell_type": "code",
   "execution_count": 404,
   "id": "8b33a126",
   "metadata": {},
   "outputs": [],
   "source": [
    "import warnings\n",
    "warnings.simplefilter(action='ignore', category=FutureWarning)\n",
    "import pandas as pd\n",
    "import matplotlib.pyplot as plt\n",
    "import numpy as np\n",
    "import sklearn "
   ]
  },
  {
   "cell_type": "code",
   "execution_count": 405,
   "id": "5c4ce38f",
   "metadata": {},
   "outputs": [],
   "source": [
    "# Read main data to DataFrame\n",
    "cleaned_df = pd.read_csv('processed_data/cleaned_df.csv', index_col=0)  \n",
    "df_original = pd.read_stata('Cash_and_Childhood_Development_Replication/macoursetal_main.dta')  \n",
    "\n",
    "# Llegir cleaned_df "
   ]
  },
  {
   "cell_type": "code",
   "execution_count": 412,
   "id": "f797c117",
   "metadata": {},
   "outputs": [
    {
     "data": {
      "text/plain": [
       "<matplotlib.collections.PathCollection at 0x2b7f4c22640>"
      ]
     },
     "execution_count": 412,
     "metadata": {},
     "output_type": "execute_result"
    },
    {
     "data": {
      "image/png": "[encoded data removed]",
      "text/plain": [
       "<Figure size 432x288 with 1 Axes>"
      ]
     },
     "metadata": {
      "needs_background": "light"
     },
     "output_type": "display_data"
    }
   ],
   "source": [
    "plt.scatter([i for i in range(len(cleaned_df[\"z_all_06\"].sort_values().values))], cleaned_df[\"z_all_06\"].sort_values().values)"
   ]
  },
  {
   "cell_type": "code",
   "execution_count": 413,
   "id": "5ecc01ed",
   "metadata": {},
   "outputs": [
    {
     "data": {
      "text/plain": [
       "(array([ 22.,  29.,  72., 166., 517., 921., 907., 409.,  96.,   6.]),\n",
       " array([-2.1753304 , -1.7871083 , -1.3988862 , -1.0106641 , -0.62244195,\n",
       "        -0.23421985,  0.15400226,  0.54222435,  0.9304465 ,  1.3186686 ,\n",
       "         1.7068907 ], dtype=float32),\n",
       " <BarContainer object of 10 artists>)"
      ]
     },
     "execution_count": 413,
     "metadata": {},
     "output_type": "execute_result"
    },
    {
     "data": {
      "image/png": "[encoded data removed]",
      "text/plain": [
       "<Figure size 432x288 with 1 Axes>"
      ]
     },
     "metadata": {
      "needs_background": "light"
     },
     "output_type": "display_data"
    }
   ],
   "source": [
    "plt.hist(cleaned_df[\"z_all_06\"])"
   ]
  },
  {
   "cell_type": "code",
   "execution_count": 414,
   "id": "3c26c9f4",
   "metadata": {},
   "outputs": [],
   "source": [
    "cleaned_df[\"zall06_cat\"] = pd.cut(cleaned_df[\"z_all_06\"],\n",
    "                               bins=[-np.inf, -0.75, -0.25, 0.25, 0.75, np.inf],\n",
    "                               labels=[1, 2, 3, 4, 5])"
   ]
  },
  {
   "cell_type": "code",
   "execution_count": 415,
   "id": "e1fbefc8",
   "metadata": {},
   "outputs": [
    {
     "data": {
      "text/plain": [
       "1     204\n",
       "5     212\n",
       "2     574\n",
       "4     962\n",
       "3    1193\n",
       "Name: zall06_cat, dtype: int64"
      ]
     },
     "execution_count": 415,
     "metadata": {},
     "output_type": "execute_result"
    }
   ],
   "source": [
    "cleaned_df[\"zall06_cat\"].value_counts().sort_values()"
   ]
  },
  {
   "cell_type": "markdown",
   "id": "a90f0cc8",
   "metadata": {},
   "source": [
    "<a id='models'> </a>\n",
    "# 2. Selección de modelos"
   ]
  },
  {
   "cell_type": "markdown",
   "id": "6ef6b195",
   "metadata": {},
   "source": [
    "-Regressio\n",
    "-Random forest\n",
    "-XGBoost"
   ]
  },
  {
   "cell_type": "code",
   "execution_count": 416,
   "id": "f1d538b1",
   "metadata": {},
   "outputs": [],
   "source": [
    "treatment = 'tr'\n",
    "outcome = 'z_all_06'\n",
    "covariates = list(cleaned_df.columns)\n",
    "covariates.remove(treatment)\n",
    "covariates.remove(outcome)\n",
    "covariates.remove(\"zall06_cat\")"
   ]
  },
  {
   "cell_type": "code",
   "execution_count": 417,
   "id": "5e5196e6",
   "metadata": {},
   "outputs": [
    {
     "data": {
      "text/plain": [
       "array([ 0.45015588,  0.01125175, -0.5053326 , ...,  0.43954134,\n",
       "        0.03532236, -0.03708899], dtype=float32)"
      ]
     },
     "execution_count": 417,
     "metadata": {},
     "output_type": "execute_result"
    }
   ],
   "source": [
    "cleaned_df.z_all_06.values"
   ]
  },
  {
   "cell_type": "code",
   "execution_count": 418,
   "id": "a8ef39ce",
   "metadata": {},
   "outputs": [],
   "source": [
    "from sklearn.model_selection import train_test_split\n",
    "# split data into train and test sets \n",
    "train, test = train_test_split(cleaned_df, stratify=cleaned_df.zall06_cat, test_size=0.2)\n",
    "\n",
    "# set variables for causal forest Y=outcome, T=treatment, X=covariates, W=effect_modifiers \n",
    "y_train = train[outcome]\n",
    "X_train = train[covariates+[\"tr\"]]\n",
    "\n",
    "X_test = test[covariates+[\"tr\"]]\n",
    "y_test =  test[outcome]"
   ]
  },
  {
   "cell_type": "code",
   "execution_count": 419,
   "id": "148d7555",
   "metadata": {},
   "outputs": [],
   "source": [
    "def display_scores(scores,model_name = None):\n",
    "    if(model_name):\n",
    "        print(\"----\",model_name,\"----\")\n",
    "    print(\"Mean:\", scores.mean())\n",
    "    print(\"Standard deviation:\", scores.std())"
   ]
  },
  {
   "cell_type": "code",
   "execution_count": 420,
   "id": "c66cac68",
   "metadata": {},
   "outputs": [
    {
     "name": "stdout",
     "output_type": "stream",
     "text": [
      "---- lin_reg ----\n",
      "Mean: 0.17408242058790413\n",
      "Standard deviation: 0.18379522522351616\n",
      "---- lin_reg ----\n",
      "Mean: 0.4705563675292879\n",
      "Standard deviation: 0.05836792299639375\n",
      "---- Random Forest ----\n",
      "Mean: 0.26393581256392484\n",
      "Standard deviation: 0.163036642942322\n",
      "---- Random Forest ----\n",
      "Mean: 0.4418076227252574\n",
      "Standard deviation: 0.029712704018989327\n",
      "---- XGboost ----\n",
      "Mean: 0.15767320336266719\n",
      "Standard deviation: 0.1589705715244039\n",
      "---- XGboost ----\n",
      "Mean: 0.4744174122810364\n",
      "Standard deviation: 0.04078338375478946\n"
     ]
    }
   ],
   "source": [
    "from sklearn.linear_model import LinearRegression\n",
    "from sklearn.ensemble import RandomForestRegressor\n",
    "import xgboost as xgb\n",
    "\n",
    "from sklearn.model_selection import cross_val_score\n",
    "\n",
    "lin_reg = LinearRegression()\n",
    "lin_reg.fit(X_train, y_train)\n",
    "\n",
    "forest_reg = RandomForestRegressor(random_state=42)\n",
    "forest_reg.fit(X_train, y_train)\n",
    "\n",
    "xg_reg = xgb.XGBRegressor(objective ='reg:squarederror')\n",
    "xg_reg.fit(X_train,y_train)\n",
    "\n",
    " \n",
    "    # lets comare all of them \n",
    "models = [(lin_reg,\"lin_reg\"),\n",
    "          (forest_reg,'Random Forest'),\n",
    "          (xg_reg,\"XGboost\")]\n",
    "for model in models:\n",
    "    scores = cross_val_score(model[0], X_test, y_test, scoring='r2', cv=10)\n",
    "    display_scores(scores, model[1])\n",
    "    scores = cross_val_score(model[0], X_test, y_test, scoring='neg_root_mean_squared_error', cv=10)\n",
    "    display_scores(-scores, model[1])"
   ]
  },
  {
   "cell_type": "code",
   "execution_count": 421,
   "id": "8456aa6e",
   "metadata": {},
   "outputs": [
    {
     "data": {
      "text/plain": [
       "GridSearchCV(cv=5, estimator=RandomForestRegressor(random_state=42),\n",
       "             param_grid=[{'max_depth': [3, 5, 7, 10, 15],\n",
       "                          'max_features': [4, 6, 8, 10],\n",
       "                          'n_estimators': [10, 30, 40]},\n",
       "                         {'bootstrap': [False], 'max_features': [2, 3, 4],\n",
       "                          'n_estimators': [3, 10]}],\n",
       "             return_train_score=True, scoring='r2')"
      ]
     },
     "execution_count": 421,
     "metadata": {},
     "output_type": "execute_result"
    }
   ],
   "source": [
    "from sklearn.model_selection import GridSearchCV\n",
    "\n",
    "param_grid = [\n",
    "    # try 12 (3×4) combinations of hyperparameters\n",
    "    {'n_estimators': [10, 30, 40], 'max_features': [ 4, 6, 8, 10], 'max_depth':[3,5,7,10, 15]},\n",
    "    # then try 6 (2×3) combinations with bootstrap set as False\n",
    "    {'bootstrap': [False], 'n_estimators': [3, 10], 'max_features': [2, 3, 4]},\n",
    "  ]\n",
    "\n",
    "forest_reg = RandomForestRegressor(random_state=42)\n",
    "# train across 5 folds, that's a total of (12+6)*5=90 rounds of training \n",
    "grid_search = GridSearchCV(forest_reg, param_grid, cv=5,\n",
    "                           scoring='r2',\n",
    "                           return_train_score=True)\n",
    "grid_search.fit(X_train, y_train)"
   ]
  },
  {
   "cell_type": "code",
   "execution_count": 422,
   "id": "5945b0d3",
   "metadata": {},
   "outputs": [
    {
     "name": "stdout",
     "output_type": "stream",
     "text": [
      "the best parameters are:\n",
      "{'max_depth': 10, 'max_features': 10, 'n_estimators': 40}\n",
      "Best Score\n"
     ]
    },
    {
     "data": {
      "text/plain": [
       "0.3051260482682011"
      ]
     },
     "execution_count": 422,
     "metadata": {},
     "output_type": "execute_result"
    }
   ],
   "source": [
    "print(\"the best parameters are:\")\n",
    "print(grid_search.best_params_)\n",
    "print(\"Best Score\")\n",
    "grid_search.best_score_"
   ]
  },
  {
   "cell_type": "markdown",
   "id": "49d3538b",
   "metadata": {},
   "source": [
    "Veamos si otras scores nos proporcionan parámetros óptimos muy diferentes."
   ]
  },
  {
   "cell_type": "code",
   "execution_count": 423,
   "id": "25c9de2e",
   "metadata": {},
   "outputs": [
    {
     "data": {
      "text/plain": [
       "GridSearchCV(cv=5, estimator=RandomForestRegressor(random_state=42),\n",
       "             param_grid=[{'max_depth': [3, 5, 7, 10, 15],\n",
       "                          'max_features': [4, 6, 8, 10],\n",
       "                          'n_estimators': [10, 30, 40]},\n",
       "                         {'bootstrap': [False], 'max_features': [2, 3, 4],\n",
       "                          'n_estimators': [3, 10]}],\n",
       "             return_train_score=True, scoring='neg_mean_squared_error')"
      ]
     },
     "execution_count": 423,
     "metadata": {},
     "output_type": "execute_result"
    }
   ],
   "source": [
    "grid_search_mse = GridSearchCV(forest_reg, param_grid, cv=5,\n",
    "                           scoring='neg_mean_squared_error',\n",
    "                           return_train_score=True)\n",
    "grid_search_mse.fit(X_train, y_train)"
   ]
  },
  {
   "cell_type": "code",
   "execution_count": 424,
   "id": "a5045184",
   "metadata": {},
   "outputs": [
    {
     "name": "stdout",
     "output_type": "stream",
     "text": [
      "the best parameters are:\n",
      "{'max_depth': 10, 'max_features': 10, 'n_estimators': 40}\n",
      "Best Score\n"
     ]
    },
    {
     "data": {
      "text/plain": [
       "-0.1924010339151644"
      ]
     },
     "execution_count": 424,
     "metadata": {},
     "output_type": "execute_result"
    }
   ],
   "source": [
    "print(\"the best parameters are:\")\n",
    "print(grid_search_mse.best_params_)\n",
    "print(\"Best Score\")\n",
    "grid_search_mse.best_score_"
   ]
  },
  {
   "cell_type": "markdown",
   "id": "1bb74621",
   "metadata": {},
   "source": [
    "Sembla que de totes maneres prediu millor un RF. Fem un gridsearch més pròxim als valors òptims estimats."
   ]
  },
  {
   "cell_type": "code",
   "execution_count": 425,
   "id": "357f43e1",
   "metadata": {},
   "outputs": [],
   "source": [
    "grid_search = GridSearchCV(RandomForestRegressor(random_state=42,n_estimators=30,max_depth=20),\n",
    "                  param_grid={'max_features': range(2, 40, 5)},\n",
    "                  scoring='neg_root_mean_squared_error', return_train_score=True)\n",
    "grid_search.fit(X_train, y_train)\n",
    "results = grid_search.cv_results_ "
   ]
  },
  {
   "cell_type": "code",
   "execution_count": 426,
   "id": "4da74ceb",
   "metadata": {},
   "outputs": [
    {
     "data": {
      "image/png": "[encoded data removed]",
      "text/plain": [
       "<Figure size 576x360 with 1 Axes>"
      ]
     },
     "metadata": {
      "needs_background": "light"
     },
     "output_type": "display_data"
    }
   ],
   "source": [
    "#plot the results\n",
    "plt.figure(figsize=(8, 5))\n",
    "plt.title(\"GridSearchCV\",\n",
    "          fontsize=16)\n",
    "\n",
    "plt.xlabel(\"max_features\")\n",
    "plt.ylabel(\"Score\")\n",
    "\n",
    "ax = plt.gca()\n",
    "ax.set_xlim(0, 50)\n",
    "\n",
    "\n",
    "# Get the regular numpy array from the MaskedArray\n",
    "X_axis = np.array(results['param_max_features'].data, dtype=float)\n",
    "\n",
    "\n",
    "for sample, style in (('train', '--'), ('test', '-')):\n",
    "    sample_score_mean = (-results['mean_%s_score' % (sample)])\n",
    "    sample_score_std = (results['std_%s_score' % (sample)])\n",
    "    ax.fill_between(X_axis, sample_score_mean - sample_score_std,\n",
    "                    sample_score_mean + sample_score_std,\n",
    "                    alpha=0.1 if sample == 'test' else 0)\n",
    "    ax.plot(X_axis, sample_score_mean, style,\n",
    "            alpha=1 if sample == 'test' else 0.7,\n",
    "            label=\"(%s)\" % ( sample))\n",
    "\n",
    "best_index = np.nonzero(results['rank_test_score' ] == 1)[0][0]\n",
    "best_score =  (-results['mean_test_score' ][best_index])\n",
    "\n",
    "# Plot a dotted vertical line at the best score for that scorer marked by x\n",
    "ax.plot([X_axis[best_index], ] * 2, [best_score, best_score],\n",
    "        linestyle='-.',  marker='x', markeredgewidth=3, ms=8)\n",
    "\n",
    "# Annotate the best score for that scorer\n",
    "ax.annotate(\"%0.2f\" % best_score,\n",
    "            (X_axis[best_index], best_score + 0.005))\n",
    "\n",
    "plt.legend(loc=\"best\")\n",
    "plt.grid(False)\n",
    "plt.show()"
   ]
  },
  {
   "cell_type": "code",
   "execution_count": 427,
   "id": "b8d6ec5a",
   "metadata": {},
   "outputs": [],
   "source": [
    "from sklearn.model_selection import learning_curve\n",
    "\n",
    "def plot_learning_curve(clf, X_train, y_train):\n",
    "    train_sizes, train_scores, test_scores = learning_curve(\n",
    "        estimator=clf,\n",
    "        X=X_train,\n",
    "        y=y_train,\n",
    "        cv=3,\n",
    "        scoring=\"neg_root_mean_squared_error\",\n",
    "        train_sizes = [0.1, 0.2, 0.3, 0.4, 0.5, 0.6, 0.7, 0.8, 0.9, 1]\n",
    "    )\n",
    "\n",
    "    train_mean = -train_scores.mean(axis=1)\n",
    "    test_mean = -test_scores.mean(axis=1)\n",
    "\n",
    "    plt.subplots(figsize=(5,4))\n",
    "    plt.plot(train_sizes, train_mean, label=\"train\")\n",
    "    plt.plot(train_sizes, test_mean, label=\"validation\")\n",
    "\n",
    "    plt.title(\"Learning Curve\")\n",
    "    plt.xlabel(\"Training Set Size\")\n",
    "    plt.ylabel(\"RMSE\")\n",
    "    plt.legend(loc=\"best\")\n",
    "\n",
    "    plt.show()"
   ]
  },
  {
   "cell_type": "code",
   "execution_count": 430,
   "id": "084da86d",
   "metadata": {},
   "outputs": [
    {
     "data": {
      "image/png": "[encoded data removed]",
      "text/plain": [
       "<Figure size 360x288 with 1 Axes>"
      ]
     },
     "metadata": {
      "needs_background": "light"
     },
     "output_type": "display_data"
    }
   ],
   "source": [
    "clf=xgb.XGBRegressor()\n",
    "plot_learning_curve(clf,X_train, y_train)"
   ]
  },
  {
   "cell_type": "markdown",
   "id": "27b48f17",
   "metadata": {},
   "source": [
    "<a id=\"hyperRF\"> </a>\n",
    "## 2.A Optimización de hiperparámetros: *Random Forest*"
   ]
  },
  {
   "cell_type": "code",
   "execution_count": 443,
   "id": "a87adef1",
   "metadata": {},
   "outputs": [
    {
     "name": "stdout",
     "output_type": "stream",
     "text": [
      "{'bootstrap': [True, False],\n",
      " 'max_depth': [10, 20, 30, 40, 50, 60, 70, 80, 90, 100, 110, None],\n",
      " 'max_features': ['auto', 'sqrt'],\n",
      " 'min_samples_leaf': [1, 2, 4],\n",
      " 'min_samples_split': [2, 5, 10],\n",
      " 'n_estimators': [100, 144, 188, 233, 277, 322, 366, 411, 455, 500]}\n"
     ]
    }
   ],
   "source": [
    "from sklearn.model_selection import RandomizedSearchCV\n",
    "from pprint import pprint\n",
    "\n",
    "# Number of trees in random forest\n",
    "n_estimators = [int(x) for x in np.linspace(start = 100, stop = 500, num = 10)]\n",
    "# Number of features to consider at every split\n",
    "max_features = ['auto', 'sqrt']\n",
    "# Maximum number of levels in tree\n",
    "max_depth = [int(x) for x in np.linspace(10, 110, num = 11)]\n",
    "max_depth.append(None)\n",
    "# Minimum number of samples required to split a node\n",
    "min_samples_split = [2, 5, 10]\n",
    "# Minimum number of samples required at each leaf node\n",
    "min_samples_leaf = [1, 2, 4]\n",
    "# Method of selecting samples for training each tree\n",
    "bootstrap = [True, False]\n",
    "# Create the random grid\n",
    "random_grid = {'n_estimators': n_estimators,\n",
    "               'max_features': max_features,\n",
    "               'max_depth': max_depth,\n",
    "               'min_samples_split': min_samples_split,\n",
    "               'min_samples_leaf': min_samples_leaf,\n",
    "               'bootstrap': bootstrap}\n",
    "pprint(random_grid)"
   ]
  },
  {
   "cell_type": "code",
   "execution_count": 444,
   "id": "3302c925",
   "metadata": {},
   "outputs": [
    {
     "data": {
      "text/plain": [
       "RandomizedSearchCV(cv=3, estimator=RandomForestRegressor(), n_iter=50, n_jobs=1,\n",
       "                   param_distributions={'bootstrap': [True, False],\n",
       "                                        'max_depth': [10, 20, 30, 40, 50, 60,\n",
       "                                                      70, 80, 90, 100, 110,\n",
       "                                                      None],\n",
       "                                        'max_features': ['auto', 'sqrt'],\n",
       "                                        'min_samples_leaf': [1, 2, 4],\n",
       "                                        'min_samples_split': [2, 5, 10],\n",
       "                                        'n_estimators': [100, 144, 188, 233,\n",
       "                                                         277, 322, 366, 411,\n",
       "                                                         455, 500]},\n",
       "                   random_state=42, verbose=-1)"
      ]
     },
     "execution_count": 444,
     "metadata": {},
     "output_type": "execute_result"
    }
   ],
   "source": [
    "# Use the random grid to search for best hyperparameters\n",
    "# First create the base model to tune\n",
    "rf = RandomForestRegressor()\n",
    "# Random search of parameters, using 3 fold cross validation, \n",
    "# search across 100 different combinations, and use all available cores\n",
    "rf_random = RandomizedSearchCV(estimator = rf, param_distributions = random_grid, n_iter = 50, cv = 3, verbose=-1,\n",
    "                               random_state=42, n_jobs = 1)\n",
    "# Fit the random search model\n",
    "rf_random.fit(X_train, y_train)"
   ]
  },
  {
   "cell_type": "code",
   "execution_count": 445,
   "id": "baca063b",
   "metadata": {},
   "outputs": [
    {
     "data": {
      "text/plain": [
       "{'n_estimators': 277,\n",
       " 'min_samples_split': 2,\n",
       " 'min_samples_leaf': 2,\n",
       " 'max_features': 'sqrt',\n",
       " 'max_depth': 60,\n",
       " 'bootstrap': True}"
      ]
     },
     "execution_count": 445,
     "metadata": {},
     "output_type": "execute_result"
    }
   ],
   "source": [
    "rf_random.best_params_"
   ]
  },
  {
   "cell_type": "code",
   "execution_count": 446,
   "id": "9d25bc24",
   "metadata": {},
   "outputs": [
    {
     "name": "stdout",
     "output_type": "stream",
     "text": [
      "---- Base RF (r2) ----\n",
      "Mean: 0.3051377614968436\n",
      "Standard deviation: 0.06680249149084723\n",
      "---- Base RF (rmse) ----\n",
      "Mean: 0.43655475090551016\n",
      "Standard deviation: 0.026951488877928555\n",
      "---- Best random RF (r2) ----\n",
      "Mean: 0.3179865904134651\n",
      "Standard deviation: 0.049060446213599146\n",
      "---- Best random RF (rmse) ----\n",
      "Mean: 0.43379479735036564\n",
      "Standard deviation: 0.02566539147732039\n"
     ]
    }
   ],
   "source": [
    "base_model = RandomForestRegressor( random_state = 42)\n",
    "scores = cross_val_score(base_model, X_train, y_train, scoring='r2', cv=10)\n",
    "display_scores(scores, \"Base RF (r2)\")\n",
    "scores = cross_val_score(base_model, X_train, y_train, scoring=\"neg_root_mean_squared_error\", cv=10)\n",
    "display_scores(-scores, \"Base RF (rmse)\")\n",
    "\n",
    "\n",
    "best_random = rf_random.best_estimator_\n",
    "scores = cross_val_score(best_random, X_train, y_train, scoring='r2', cv=10)\n",
    "display_scores(scores, \"Best random RF (r2)\")\n",
    "scores = cross_val_score(best_random, X_train, y_train, scoring=\"neg_root_mean_squared_error\", cv=10)\n",
    "display_scores(-scores, \"Best random RF (rmse)\")"
   ]
  },
  {
   "cell_type": "markdown",
   "id": "2a48263a",
   "metadata": {},
   "source": [
    "Potser encara podem millorar alguna cosa."
   ]
  },
  {
   "cell_type": "code",
   "execution_count": 451,
   "id": "20f2052b",
   "metadata": {},
   "outputs": [],
   "source": [
    "from sklearn.model_selection import GridSearchCV\n",
    "# Create the parameter grid based on the results of random search \n",
    "param_grid = {\n",
    "    'bootstrap': [False],\n",
    "    'max_depth': [40,50,60],\n",
    "    'max_features': [\"sqrt\"],\n",
    "    'min_samples_leaf': [2,3,4],\n",
    "    'min_samples_split': [2,4,6],\n",
    "    'n_estimators': [200, 300, 800, 1000]\n",
    "}\n",
    "# Create a based model\n",
    "rf = RandomForestRegressor()\n",
    "# Instantiate the grid search model\n",
    "grid_search = GridSearchCV(estimator = rf, param_grid = param_grid, \n",
    "                          cv = 3, n_jobs = -1, verbose = 2)"
   ]
  },
  {
   "cell_type": "code",
   "execution_count": 452,
   "id": "3bf20198",
   "metadata": {},
   "outputs": [
    {
     "name": "stdout",
     "output_type": "stream",
     "text": [
      "Fitting 3 folds for each of 108 candidates, totalling 324 fits\n"
     ]
    },
    {
     "ename": "KeyboardInterrupt",
     "evalue": "",
     "output_type": "error",
     "traceback": [
      "\u001b[1;31m---------------------------------------------------------------------------\u001b[0m",
      "\u001b[1;31mKeyboardInterrupt\u001b[0m                         Traceback (most recent call last)",
      "Input \u001b[1;32mIn [452]\u001b[0m, in \u001b[0;36m<cell line: 2>\u001b[1;34m()\u001b[0m\n\u001b[0;32m      1\u001b[0m \u001b[38;5;66;03m# Fit the grid search to the data\u001b[39;00m\n\u001b[1;32m----> 2\u001b[0m \u001b[43mgrid_search\u001b[49m\u001b[38;5;241;43m.\u001b[39;49m\u001b[43mfit\u001b[49m\u001b[43m(\u001b[49m\u001b[43mX_train\u001b[49m\u001b[43m,\u001b[49m\u001b[43m \u001b[49m\u001b[43my_train\u001b[49m\u001b[43m)\u001b[49m\n\u001b[0;32m      3\u001b[0m grid_search\u001b[38;5;241m.\u001b[39mbest_params_\n",
      "File \u001b[1;32m~\\anaconda3\\lib\\site-packages\\sklearn\\model_selection\\_search.py:891\u001b[0m, in \u001b[0;36mBaseSearchCV.fit\u001b[1;34m(self, X, y, groups, **fit_params)\u001b[0m\n\u001b[0;32m    885\u001b[0m     results \u001b[38;5;241m=\u001b[39m \u001b[38;5;28mself\u001b[39m\u001b[38;5;241m.\u001b[39m_format_results(\n\u001b[0;32m    886\u001b[0m         all_candidate_params, n_splits, all_out, all_more_results\n\u001b[0;32m    887\u001b[0m     )\n\u001b[0;32m    889\u001b[0m     \u001b[38;5;28;01mreturn\u001b[39;00m results\n\u001b[1;32m--> 891\u001b[0m \u001b[38;5;28;43mself\u001b[39;49m\u001b[38;5;241;43m.\u001b[39;49m\u001b[43m_run_search\u001b[49m\u001b[43m(\u001b[49m\u001b[43mevaluate_candidates\u001b[49m\u001b[43m)\u001b[49m\n\u001b[0;32m    893\u001b[0m \u001b[38;5;66;03m# multimetric is determined here because in the case of a callable\u001b[39;00m\n\u001b[0;32m    894\u001b[0m \u001b[38;5;66;03m# self.scoring the return type is only known after calling\u001b[39;00m\n\u001b[0;32m    895\u001b[0m first_test_score \u001b[38;5;241m=\u001b[39m all_out[\u001b[38;5;241m0\u001b[39m][\u001b[38;5;124m\"\u001b[39m\u001b[38;5;124mtest_scores\u001b[39m\u001b[38;5;124m\"\u001b[39m]\n",
      "File \u001b[1;32m~\\anaconda3\\lib\\site-packages\\sklearn\\model_selection\\_search.py:1392\u001b[0m, in \u001b[0;36mGridSearchCV._run_search\u001b[1;34m(self, evaluate_candidates)\u001b[0m\n\u001b[0;32m   1390\u001b[0m \u001b[38;5;28;01mdef\u001b[39;00m \u001b[38;5;21m_run_search\u001b[39m(\u001b[38;5;28mself\u001b[39m, evaluate_candidates):\n\u001b[0;32m   1391\u001b[0m     \u001b[38;5;124;03m\"\"\"Search all candidates in param_grid\"\"\"\u001b[39;00m\n\u001b[1;32m-> 1392\u001b[0m     \u001b[43mevaluate_candidates\u001b[49m\u001b[43m(\u001b[49m\u001b[43mParameterGrid\u001b[49m\u001b[43m(\u001b[49m\u001b[38;5;28;43mself\u001b[39;49m\u001b[38;5;241;43m.\u001b[39;49m\u001b[43mparam_grid\u001b[49m\u001b[43m)\u001b[49m\u001b[43m)\u001b[49m\n",
      "File \u001b[1;32m~\\anaconda3\\lib\\site-packages\\sklearn\\model_selection\\_search.py:838\u001b[0m, in \u001b[0;36mBaseSearchCV.fit.<locals>.evaluate_candidates\u001b[1;34m(candidate_params, cv, more_results)\u001b[0m\n\u001b[0;32m    830\u001b[0m \u001b[38;5;28;01mif\u001b[39;00m \u001b[38;5;28mself\u001b[39m\u001b[38;5;241m.\u001b[39mverbose \u001b[38;5;241m>\u001b[39m \u001b[38;5;241m0\u001b[39m:\n\u001b[0;32m    831\u001b[0m     \u001b[38;5;28mprint\u001b[39m(\n\u001b[0;32m    832\u001b[0m         \u001b[38;5;124m\"\u001b[39m\u001b[38;5;124mFitting \u001b[39m\u001b[38;5;132;01m{0}\u001b[39;00m\u001b[38;5;124m folds for each of \u001b[39m\u001b[38;5;132;01m{1}\u001b[39;00m\u001b[38;5;124m candidates,\u001b[39m\u001b[38;5;124m\"\u001b[39m\n\u001b[0;32m    833\u001b[0m         \u001b[38;5;124m\"\u001b[39m\u001b[38;5;124m totalling \u001b[39m\u001b[38;5;132;01m{2}\u001b[39;00m\u001b[38;5;124m fits\u001b[39m\u001b[38;5;124m\"\u001b[39m\u001b[38;5;241m.\u001b[39mformat(\n\u001b[0;32m    834\u001b[0m             n_splits, n_candidates, n_candidates \u001b[38;5;241m*\u001b[39m n_splits\n\u001b[0;32m    835\u001b[0m         )\n\u001b[0;32m    836\u001b[0m     )\n\u001b[1;32m--> 838\u001b[0m out \u001b[38;5;241m=\u001b[39m \u001b[43mparallel\u001b[49m\u001b[43m(\u001b[49m\n\u001b[0;32m    839\u001b[0m \u001b[43m    \u001b[49m\u001b[43mdelayed\u001b[49m\u001b[43m(\u001b[49m\u001b[43m_fit_and_score\u001b[49m\u001b[43m)\u001b[49m\u001b[43m(\u001b[49m\n\u001b[0;32m    840\u001b[0m \u001b[43m        \u001b[49m\u001b[43mclone\u001b[49m\u001b[43m(\u001b[49m\u001b[43mbase_estimator\u001b[49m\u001b[43m)\u001b[49m\u001b[43m,\u001b[49m\n\u001b[0;32m    841\u001b[0m \u001b[43m        \u001b[49m\u001b[43mX\u001b[49m\u001b[43m,\u001b[49m\n\u001b[0;32m    842\u001b[0m \u001b[43m        \u001b[49m\u001b[43my\u001b[49m\u001b[43m,\u001b[49m\n\u001b[0;32m    843\u001b[0m \u001b[43m        \u001b[49m\u001b[43mtrain\u001b[49m\u001b[38;5;241;43m=\u001b[39;49m\u001b[43mtrain\u001b[49m\u001b[43m,\u001b[49m\n\u001b[0;32m    844\u001b[0m \u001b[43m        \u001b[49m\u001b[43mtest\u001b[49m\u001b[38;5;241;43m=\u001b[39;49m\u001b[43mtest\u001b[49m\u001b[43m,\u001b[49m\n\u001b[0;32m    845\u001b[0m \u001b[43m        \u001b[49m\u001b[43mparameters\u001b[49m\u001b[38;5;241;43m=\u001b[39;49m\u001b[43mparameters\u001b[49m\u001b[43m,\u001b[49m\n\u001b[0;32m    846\u001b[0m \u001b[43m        \u001b[49m\u001b[43msplit_progress\u001b[49m\u001b[38;5;241;43m=\u001b[39;49m\u001b[43m(\u001b[49m\u001b[43msplit_idx\u001b[49m\u001b[43m,\u001b[49m\u001b[43m \u001b[49m\u001b[43mn_splits\u001b[49m\u001b[43m)\u001b[49m\u001b[43m,\u001b[49m\n\u001b[0;32m    847\u001b[0m \u001b[43m        \u001b[49m\u001b[43mcandidate_progress\u001b[49m\u001b[38;5;241;43m=\u001b[39;49m\u001b[43m(\u001b[49m\u001b[43mcand_idx\u001b[49m\u001b[43m,\u001b[49m\u001b[43m \u001b[49m\u001b[43mn_candidates\u001b[49m\u001b[43m)\u001b[49m\u001b[43m,\u001b[49m\n\u001b[0;32m    848\u001b[0m \u001b[43m        \u001b[49m\u001b[38;5;241;43m*\u001b[39;49m\u001b[38;5;241;43m*\u001b[39;49m\u001b[43mfit_and_score_kwargs\u001b[49m\u001b[43m,\u001b[49m\n\u001b[0;32m    849\u001b[0m \u001b[43m    \u001b[49m\u001b[43m)\u001b[49m\n\u001b[0;32m    850\u001b[0m \u001b[43m    \u001b[49m\u001b[38;5;28;43;01mfor\u001b[39;49;00m\u001b[43m \u001b[49m\u001b[43m(\u001b[49m\u001b[43mcand_idx\u001b[49m\u001b[43m,\u001b[49m\u001b[43m \u001b[49m\u001b[43mparameters\u001b[49m\u001b[43m)\u001b[49m\u001b[43m,\u001b[49m\u001b[43m \u001b[49m\u001b[43m(\u001b[49m\u001b[43msplit_idx\u001b[49m\u001b[43m,\u001b[49m\u001b[43m \u001b[49m\u001b[43m(\u001b[49m\u001b[43mtrain\u001b[49m\u001b[43m,\u001b[49m\u001b[43m \u001b[49m\u001b[43mtest\u001b[49m\u001b[43m)\u001b[49m\u001b[43m)\u001b[49m\u001b[43m \u001b[49m\u001b[38;5;129;43;01min\u001b[39;49;00m\u001b[43m \u001b[49m\u001b[43mproduct\u001b[49m\u001b[43m(\u001b[49m\n\u001b[0;32m    851\u001b[0m \u001b[43m        \u001b[49m\u001b[38;5;28;43menumerate\u001b[39;49m\u001b[43m(\u001b[49m\u001b[43mcandidate_params\u001b[49m\u001b[43m)\u001b[49m\u001b[43m,\u001b[49m\u001b[43m \u001b[49m\u001b[38;5;28;43menumerate\u001b[39;49m\u001b[43m(\u001b[49m\u001b[43mcv\u001b[49m\u001b[38;5;241;43m.\u001b[39;49m\u001b[43msplit\u001b[49m\u001b[43m(\u001b[49m\u001b[43mX\u001b[49m\u001b[43m,\u001b[49m\u001b[43m \u001b[49m\u001b[43my\u001b[49m\u001b[43m,\u001b[49m\u001b[43m \u001b[49m\u001b[43mgroups\u001b[49m\u001b[43m)\u001b[49m\u001b[43m)\u001b[49m\n\u001b[0;32m    852\u001b[0m \u001b[43m    \u001b[49m\u001b[43m)\u001b[49m\n\u001b[0;32m    853\u001b[0m \u001b[43m\u001b[49m\u001b[43m)\u001b[49m\n\u001b[0;32m    855\u001b[0m \u001b[38;5;28;01mif\u001b[39;00m \u001b[38;5;28mlen\u001b[39m(out) \u001b[38;5;241m<\u001b[39m \u001b[38;5;241m1\u001b[39m:\n\u001b[0;32m    856\u001b[0m     \u001b[38;5;28;01mraise\u001b[39;00m \u001b[38;5;167;01mValueError\u001b[39;00m(\n\u001b[0;32m    857\u001b[0m         \u001b[38;5;124m\"\u001b[39m\u001b[38;5;124mNo fits were performed. \u001b[39m\u001b[38;5;124m\"\u001b[39m\n\u001b[0;32m    858\u001b[0m         \u001b[38;5;124m\"\u001b[39m\u001b[38;5;124mWas the CV iterator empty? \u001b[39m\u001b[38;5;124m\"\u001b[39m\n\u001b[0;32m    859\u001b[0m         \u001b[38;5;124m\"\u001b[39m\u001b[38;5;124mWere there no candidates?\u001b[39m\u001b[38;5;124m\"\u001b[39m\n\u001b[0;32m    860\u001b[0m     )\n",
      "File \u001b[1;32m~\\anaconda3\\lib\\site-packages\\joblib\\parallel.py:1056\u001b[0m, in \u001b[0;36mParallel.__call__\u001b[1;34m(self, iterable)\u001b[0m\n\u001b[0;32m   1053\u001b[0m     \u001b[38;5;28mself\u001b[39m\u001b[38;5;241m.\u001b[39m_iterating \u001b[38;5;241m=\u001b[39m \u001b[38;5;28;01mFalse\u001b[39;00m\n\u001b[0;32m   1055\u001b[0m \u001b[38;5;28;01mwith\u001b[39;00m \u001b[38;5;28mself\u001b[39m\u001b[38;5;241m.\u001b[39m_backend\u001b[38;5;241m.\u001b[39mretrieval_context():\n\u001b[1;32m-> 1056\u001b[0m     \u001b[38;5;28;43mself\u001b[39;49m\u001b[38;5;241;43m.\u001b[39;49m\u001b[43mretrieve\u001b[49m\u001b[43m(\u001b[49m\u001b[43m)\u001b[49m\n\u001b[0;32m   1057\u001b[0m \u001b[38;5;66;03m# Make sure that we get a last message telling us we are done\u001b[39;00m\n\u001b[0;32m   1058\u001b[0m elapsed_time \u001b[38;5;241m=\u001b[39m time\u001b[38;5;241m.\u001b[39mtime() \u001b[38;5;241m-\u001b[39m \u001b[38;5;28mself\u001b[39m\u001b[38;5;241m.\u001b[39m_start_time\n",
      "File \u001b[1;32m~\\anaconda3\\lib\\site-packages\\joblib\\parallel.py:935\u001b[0m, in \u001b[0;36mParallel.retrieve\u001b[1;34m(self)\u001b[0m\n\u001b[0;32m    933\u001b[0m \u001b[38;5;28;01mtry\u001b[39;00m:\n\u001b[0;32m    934\u001b[0m     \u001b[38;5;28;01mif\u001b[39;00m \u001b[38;5;28mgetattr\u001b[39m(\u001b[38;5;28mself\u001b[39m\u001b[38;5;241m.\u001b[39m_backend, \u001b[38;5;124m'\u001b[39m\u001b[38;5;124msupports_timeout\u001b[39m\u001b[38;5;124m'\u001b[39m, \u001b[38;5;28;01mFalse\u001b[39;00m):\n\u001b[1;32m--> 935\u001b[0m         \u001b[38;5;28mself\u001b[39m\u001b[38;5;241m.\u001b[39m_output\u001b[38;5;241m.\u001b[39mextend(\u001b[43mjob\u001b[49m\u001b[38;5;241;43m.\u001b[39;49m\u001b[43mget\u001b[49m\u001b[43m(\u001b[49m\u001b[43mtimeout\u001b[49m\u001b[38;5;241;43m=\u001b[39;49m\u001b[38;5;28;43mself\u001b[39;49m\u001b[38;5;241;43m.\u001b[39;49m\u001b[43mtimeout\u001b[49m\u001b[43m)\u001b[49m)\n\u001b[0;32m    936\u001b[0m     \u001b[38;5;28;01melse\u001b[39;00m:\n\u001b[0;32m    937\u001b[0m         \u001b[38;5;28mself\u001b[39m\u001b[38;5;241m.\u001b[39m_output\u001b[38;5;241m.\u001b[39mextend(job\u001b[38;5;241m.\u001b[39mget())\n",
      "File \u001b[1;32m~\\anaconda3\\lib\\site-packages\\joblib\\_parallel_backends.py:542\u001b[0m, in \u001b[0;36mLokyBackend.wrap_future_result\u001b[1;34m(future, timeout)\u001b[0m\n\u001b[0;32m    539\u001b[0m \u001b[38;5;124;03m\"\"\"Wrapper for Future.result to implement the same behaviour as\u001b[39;00m\n\u001b[0;32m    540\u001b[0m \u001b[38;5;124;03mAsyncResults.get from multiprocessing.\"\"\"\u001b[39;00m\n\u001b[0;32m    541\u001b[0m \u001b[38;5;28;01mtry\u001b[39;00m:\n\u001b[1;32m--> 542\u001b[0m     \u001b[38;5;28;01mreturn\u001b[39;00m \u001b[43mfuture\u001b[49m\u001b[38;5;241;43m.\u001b[39;49m\u001b[43mresult\u001b[49m\u001b[43m(\u001b[49m\u001b[43mtimeout\u001b[49m\u001b[38;5;241;43m=\u001b[39;49m\u001b[43mtimeout\u001b[49m\u001b[43m)\u001b[49m\n\u001b[0;32m    543\u001b[0m \u001b[38;5;28;01mexcept\u001b[39;00m CfTimeoutError \u001b[38;5;28;01mas\u001b[39;00m e:\n\u001b[0;32m    544\u001b[0m     \u001b[38;5;28;01mraise\u001b[39;00m \u001b[38;5;167;01mTimeoutError\u001b[39;00m \u001b[38;5;28;01mfrom\u001b[39;00m \u001b[38;5;21;01me\u001b[39;00m\n",
      "File \u001b[1;32m~\\anaconda3\\lib\\concurrent\\futures\\_base.py:434\u001b[0m, in \u001b[0;36mFuture.result\u001b[1;34m(self, timeout)\u001b[0m\n\u001b[0;32m    431\u001b[0m \u001b[38;5;28;01melif\u001b[39;00m \u001b[38;5;28mself\u001b[39m\u001b[38;5;241m.\u001b[39m_state \u001b[38;5;241m==\u001b[39m FINISHED:\n\u001b[0;32m    432\u001b[0m     \u001b[38;5;28;01mreturn\u001b[39;00m \u001b[38;5;28mself\u001b[39m\u001b[38;5;241m.\u001b[39m__get_result()\n\u001b[1;32m--> 434\u001b[0m \u001b[38;5;28;43mself\u001b[39;49m\u001b[38;5;241;43m.\u001b[39;49m\u001b[43m_condition\u001b[49m\u001b[38;5;241;43m.\u001b[39;49m\u001b[43mwait\u001b[49m\u001b[43m(\u001b[49m\u001b[43mtimeout\u001b[49m\u001b[43m)\u001b[49m\n\u001b[0;32m    436\u001b[0m \u001b[38;5;28;01mif\u001b[39;00m \u001b[38;5;28mself\u001b[39m\u001b[38;5;241m.\u001b[39m_state \u001b[38;5;129;01min\u001b[39;00m [CANCELLED, CANCELLED_AND_NOTIFIED]:\n\u001b[0;32m    437\u001b[0m     \u001b[38;5;28;01mraise\u001b[39;00m CancelledError()\n",
      "File \u001b[1;32m~\\anaconda3\\lib\\threading.py:302\u001b[0m, in \u001b[0;36mCondition.wait\u001b[1;34m(self, timeout)\u001b[0m\n\u001b[0;32m    300\u001b[0m \u001b[38;5;28;01mtry\u001b[39;00m:    \u001b[38;5;66;03m# restore state no matter what (e.g., KeyboardInterrupt)\u001b[39;00m\n\u001b[0;32m    301\u001b[0m     \u001b[38;5;28;01mif\u001b[39;00m timeout \u001b[38;5;129;01mis\u001b[39;00m \u001b[38;5;28;01mNone\u001b[39;00m:\n\u001b[1;32m--> 302\u001b[0m         \u001b[43mwaiter\u001b[49m\u001b[38;5;241;43m.\u001b[39;49m\u001b[43macquire\u001b[49m\u001b[43m(\u001b[49m\u001b[43m)\u001b[49m\n\u001b[0;32m    303\u001b[0m         gotit \u001b[38;5;241m=\u001b[39m \u001b[38;5;28;01mTrue\u001b[39;00m\n\u001b[0;32m    304\u001b[0m     \u001b[38;5;28;01melse\u001b[39;00m:\n",
      "\u001b[1;31mKeyboardInterrupt\u001b[0m: "
     ]
    }
   ],
   "source": [
    "# Fit the grid search to the data\n",
    "grid_search.fit(X_train, y_train)\n",
    "grid_search.best_params_"
   ]
  },
  {
   "cell_type": "code",
   "execution_count": null,
   "id": "4ef93d5a",
   "metadata": {},
   "outputs": [],
   "source": [
    "best_grid= grid_search.best_estimator_\n",
    "scores = cross_val_score(best_grid, X_train, y_train, scoring='r2', cv=10)\n",
    "display_scores(scores, \"Best grid RF (r2)\")\n",
    "scores = cross_val_score(best_grid, X_train, y_train, scoring=\"neg_root_mean_squared_error\", cv=10)\n",
    "display_scores(-scores, \"Best grid RF (rmse)\")"
   ]
  },
  {
   "cell_type": "code",
   "execution_count": null,
   "id": "fa0db6c5",
   "metadata": {},
   "outputs": [],
   "source": [
    "best_grid= grid_search.best_estimator_\n",
    "plot_learning_curve(best_grid, X_train, y_train)"
   ]
  },
  {
   "cell_type": "markdown",
   "id": "1ef9e99e",
   "metadata": {},
   "source": [
    "<a id=\"hyperXG\"> </a>\n",
    "## 2.B Optimización de hiperparámetros: *XGBoost*"
   ]
  },
  {
   "cell_type": "code",
   "execution_count": 448,
   "id": "cc4f0e0e",
   "metadata": {},
   "outputs": [],
   "source": [
    "import scipy as sp\n",
    "\n",
    "param_dist = {'boosting_type': ['gbdt', 'dart'],\n",
    "                    'num_leaves': sp.stats.randint(2, 500),\n",
    "                    'subsample_for_bin': sp.stats.randint(10, 1001),\n",
    "                    'min_split_gain': sp.stats.uniform(0, 0.5),\n",
    "                    'min_child_weight': sp.stats.uniform(1e-6, 1e-2),\n",
    "                    'reg_alpha': sp.stats.uniform(0, 1e-2),\n",
    "                    'reg_lambda': sp.stats.uniform(0, 1e-2),\n",
    "                    'application': ['regression_l2'],\n",
    "                    'subsample_freq': sp.stats.randint(1, 11),\n",
    "                    'subsample': sp.stats.uniform(1e-3, 0.99),\n",
    "                    'colsample_bytree': sp.stats.uniform(1e-3, 0.5),\n",
    "                    'learning_rate': sp.stats.uniform(1e-6, 0.3),\n",
    "                    'max_depth': sp.stats.randint(-1, 200),\n",
    "                    'n_estimators': sp.stats.randint(100, 1000),\n",
    "                    'extra_trees':[True]\n",
    "                 }"
   ]
  },
  {
   "cell_type": "code",
   "execution_count": 449,
   "id": "f253015c",
   "metadata": {},
   "outputs": [
    {
     "name": "stdout",
     "output_type": "stream",
     "text": [
      "Fitting 3 folds for each of 100 candidates, totalling 300 fits\n"
     ]
    }
   ],
   "source": [
    "lgbm = lgb.LGBMRegressor(objective='regression', n_jobs=1)\n",
    "rscv = RandomizedSearchCV(\n",
    "                              estimator=lgbm,\n",
    "                              param_distributions=param_dist,\n",
    "                              cv=3,\n",
    "                              n_iter=100,\n",
    "                              n_jobs=4,\n",
    "                              verbose=1,\n",
    "                              refit=True,\n",
    "                            )\n",
    "rscv = rscv.fit(X_train, y_train)"
   ]
  },
  {
   "cell_type": "code",
   "execution_count": 453,
   "id": "a88dd5b2",
   "metadata": {},
   "outputs": [
    {
     "data": {
      "text/plain": [
       "{'application': 'regression_l2',\n",
       " 'boosting_type': 'dart',\n",
       " 'colsample_bytree': 0.3429643257220632,\n",
       " 'extra_trees': True,\n",
       " 'learning_rate': 0.10180460185942476,\n",
       " 'max_depth': 191,\n",
       " 'min_child_weight': 1.964577986653959e-05,\n",
       " 'min_split_gain': 0.06213079963399726,\n",
       " 'n_estimators': 996,\n",
       " 'num_leaves': 278,\n",
       " 'reg_alpha': 0.009518636009640057,\n",
       " 'reg_lambda': 0.0015073210482326516,\n",
       " 'subsample': 0.8929615581731233,\n",
       " 'subsample_for_bin': 638,\n",
       " 'subsample_freq': 1}"
      ]
     },
     "execution_count": 453,
     "metadata": {},
     "output_type": "execute_result"
    }
   ],
   "source": [
    "rscv.best_params_"
   ]
  },
  {
   "cell_type": "code",
   "execution_count": 454,
   "id": "57b2c155",
   "metadata": {},
   "outputs": [
    {
     "name": "stdout",
     "output_type": "stream",
     "text": [
      "---- Base LightGBM (r2) ----\n",
      "Mean: 0.29872779733703064\n",
      "Standard deviation: 0.06203692102095203\n",
      "---- Base LightGBM (rmse) ----\n",
      "Mean: 0.43850540312127817\n",
      "Standard deviation: 0.02415326055841157\n",
      "---- Best random grid lightGBM (r2) ----\n",
      "Mean: 0.3235051068639046\n",
      "Standard deviation: 0.04956000433368016\n",
      "---- Best random grid lightGBM (rmse) ----\n",
      "Mean: 0.43107917340440977\n",
      "Standard deviation: 0.025415973371694087\n"
     ]
    }
   ],
   "source": [
    "base_lightgbm =lgb.LGBMRegressor()\n",
    "scores = cross_val_score(base_lightgbm, X_train, y_train, scoring='r2', cv=10)\n",
    "display_scores(scores, \"Base LightGBM (r2)\")\n",
    "scores = cross_val_score(base_lightgbm, X_train, y_train, scoring=\"neg_root_mean_squared_error\", cv=10)\n",
    "display_scores(-scores, \"Base LightGBM (rmse)\")\n",
    "\n",
    "best_lightgbm= rscv.best_estimator_\n",
    "scores = cross_val_score(best_ligthGBM, X_train, y_train, scoring='r2', cv=10)\n",
    "display_scores(scores, \"Best random grid lightGBM (r2)\")\n",
    "scores = cross_val_score(best_ligthGBM, X_train, y_train, scoring=\"neg_root_mean_squared_error\", cv=10)\n",
    "display_scores(-scores, \"Best random grid lightGBM (rmse)\")"
   ]
  },
  {
   "cell_type": "code",
   "execution_count": 455,
   "id": "1a68a226",
   "metadata": {},
   "outputs": [
    {
     "data": {
      "image/png": "[encoded data removed]",
      "text/plain": [
       "<Figure size 360x288 with 1 Axes>"
      ]
     },
     "metadata": {
      "needs_background": "light"
     },
     "output_type": "display_data"
    },
    {
     "data": {
      "image/png": "[encoded data removed]",
      "text/plain": [
       "<Figure size 360x288 with 1 Axes>"
      ]
     },
     "metadata": {
      "needs_background": "light"
     },
     "output_type": "display_data"
    }
   ],
   "source": [
    "plot_learning_curve(base_lightgbm, X_train, y_train)\n",
    "plot_learning_curve(best_lightgbm, X_train, y_train)"
   ]
  },
  {
   "cell_type": "code",
   "execution_count": 456,
   "id": "5b9b5e3c",
   "metadata": {},
   "outputs": [
    {
     "data": {
      "image/png": "[encoded data removed]",
      "text/plain": [
       "<Figure size 360x288 with 1 Axes>"
      ]
     },
     "metadata": {
      "needs_background": "light"
     },
     "output_type": "display_data"
    }
   ],
   "source": [
    "plot_learning_curve(lin_reg, X_train, y_train)"
   ]
  },
  {
   "cell_type": "code",
   "execution_count": 457,
   "id": "b29440c5",
   "metadata": {},
   "outputs": [
    {
     "data": {
      "text/plain": [
       "(-3.0, 2.0)"
      ]
     },
     "execution_count": 457,
     "metadata": {},
     "output_type": "execute_result"
    },
    {
     "data": {
      "image/png": "[encoded data removed]",
      "text/plain": [
       "<Figure size 432x288 with 1 Axes>"
      ]
     },
     "metadata": {
      "needs_background": "light"
     },
     "output_type": "display_data"
    }
   ],
   "source": [
    "lin_reg.fit(X_train, y_train)\n",
    "y_pred=lin_reg.predict(X_test)\n",
    "predicted=pd.DataFrame(y_pred, columns=[\"y_pred\"])\n",
    "predicted[\"y_true\"]=y_test.values\n",
    "predicted.sort_values(by=\"y_true\", inplace=True)\n",
    "plt.scatter([i for i in range(len(y_pred))], predicted.y_pred, s=1)\n",
    "plt.scatter([i for i in range(len(y_pred))], predicted.y_true.values, s=1)\n",
    "plt.ylim(-3,2)"
   ]
  },
  {
   "cell_type": "code",
   "execution_count": 458,
   "id": "5e202bb8",
   "metadata": {},
   "outputs": [
    {
     "data": {
      "text/plain": [
       "(-3.0, 2.0)"
      ]
     },
     "execution_count": 458,
     "metadata": {},
     "output_type": "execute_result"
    },
    {
     "data": {
      "image/png": "[encoded data removed]",
      "text/plain": [
       "<Figure size 432x288 with 1 Axes>"
      ]
     },
     "metadata": {
      "needs_background": "light"
     },
     "output_type": "display_data"
    }
   ],
   "source": [
    "best_lightgbm.fit(X_train, y_train)\n",
    "y_pred=best_lightgbm.predict(X_test)\n",
    "predicted=pd.DataFrame(y_pred, columns=[\"y_pred\"])\n",
    "predicted[\"y_true\"]=y_test.values\n",
    "predicted.sort_values(by=\"y_true\", inplace=True)\n",
    "plt.scatter([i for i in range(len(y_pred))], predicted.y_pred, s=1)\n",
    "plt.scatter([i for i in range(len(y_pred))], predicted.y_true.values, s=1)\n",
    "plt.ylim(-3,2)"
   ]
  },
  {
   "cell_type": "markdown",
   "id": "b29c9327",
   "metadata": {},
   "source": [
    "### INTENTEM AFEGIR POLYNOMIAL FEATURES"
   ]
  },
  {
   "cell_type": "code",
   "execution_count": 459,
   "id": "28343027",
   "metadata": {},
   "outputs": [],
   "source": [
    "from sklearn.preprocessing import PolynomialFeatures\n",
    "\n",
    "poly = PolynomialFeatures(2)\n",
    "X_train1=poly.fit_transform(X_train)\n",
    "X_test1=poly.transform(X_test)"
   ]
  },
  {
   "cell_type": "code",
   "execution_count": 461,
   "id": "c77132d0",
   "metadata": {},
   "outputs": [
    {
     "data": {
      "text/plain": [
       "(2516, 1128)"
      ]
     },
     "execution_count": 461,
     "metadata": {},
     "output_type": "execute_result"
    }
   ],
   "source": [
    "X_train1.shape"
   ]
  },
  {
   "cell_type": "code",
   "execution_count": 460,
   "id": "08e43f9d",
   "metadata": {},
   "outputs": [
    {
     "ename": "KeyboardInterrupt",
     "evalue": "",
     "output_type": "error",
     "traceback": [
      "\u001b[1;31m---------------------------------------------------------------------------\u001b[0m",
      "\u001b[1;31mKeyboardInterrupt\u001b[0m                         Traceback (most recent call last)",
      "Input \u001b[1;32mIn [460]\u001b[0m, in \u001b[0;36m<cell line: 1>\u001b[1;34m()\u001b[0m\n\u001b[1;32m----> 1\u001b[0m \u001b[43mbest_lightgbm\u001b[49m\u001b[38;5;241;43m.\u001b[39;49m\u001b[43mfit\u001b[49m\u001b[43m(\u001b[49m\u001b[43mX_train1\u001b[49m\u001b[43m,\u001b[49m\u001b[43m \u001b[49m\u001b[43my_train\u001b[49m\u001b[43m)\u001b[49m\n\u001b[0;32m      2\u001b[0m y_pred\u001b[38;5;241m=\u001b[39mbest_lightgbm\u001b[38;5;241m.\u001b[39mpredict(X_test1)\n\u001b[0;32m      3\u001b[0m predicted\u001b[38;5;241m=\u001b[39mpd\u001b[38;5;241m.\u001b[39mDataFrame(y_pred, columns\u001b[38;5;241m=\u001b[39m[\u001b[38;5;124m\"\u001b[39m\u001b[38;5;124my_pred\u001b[39m\u001b[38;5;124m\"\u001b[39m])\n",
      "File \u001b[1;32m~\\anaconda3\\lib\\site-packages\\lightgbm\\sklearn.py:895\u001b[0m, in \u001b[0;36mLGBMRegressor.fit\u001b[1;34m(self, X, y, sample_weight, init_score, eval_set, eval_names, eval_sample_weight, eval_init_score, eval_metric, early_stopping_rounds, verbose, feature_name, categorical_feature, callbacks, init_model)\u001b[0m\n\u001b[0;32m    888\u001b[0m \u001b[38;5;28;01mdef\u001b[39;00m \u001b[38;5;21mfit\u001b[39m(\u001b[38;5;28mself\u001b[39m, X, y,\n\u001b[0;32m    889\u001b[0m         sample_weight\u001b[38;5;241m=\u001b[39m\u001b[38;5;28;01mNone\u001b[39;00m, init_score\u001b[38;5;241m=\u001b[39m\u001b[38;5;28;01mNone\u001b[39;00m,\n\u001b[0;32m    890\u001b[0m         eval_set\u001b[38;5;241m=\u001b[39m\u001b[38;5;28;01mNone\u001b[39;00m, eval_names\u001b[38;5;241m=\u001b[39m\u001b[38;5;28;01mNone\u001b[39;00m, eval_sample_weight\u001b[38;5;241m=\u001b[39m\u001b[38;5;28;01mNone\u001b[39;00m,\n\u001b[0;32m    891\u001b[0m         eval_init_score\u001b[38;5;241m=\u001b[39m\u001b[38;5;28;01mNone\u001b[39;00m, eval_metric\u001b[38;5;241m=\u001b[39m\u001b[38;5;28;01mNone\u001b[39;00m, early_stopping_rounds\u001b[38;5;241m=\u001b[39m\u001b[38;5;28;01mNone\u001b[39;00m,\n\u001b[0;32m    892\u001b[0m         verbose\u001b[38;5;241m=\u001b[39m\u001b[38;5;124m'\u001b[39m\u001b[38;5;124mwarn\u001b[39m\u001b[38;5;124m'\u001b[39m, feature_name\u001b[38;5;241m=\u001b[39m\u001b[38;5;124m'\u001b[39m\u001b[38;5;124mauto\u001b[39m\u001b[38;5;124m'\u001b[39m, categorical_feature\u001b[38;5;241m=\u001b[39m\u001b[38;5;124m'\u001b[39m\u001b[38;5;124mauto\u001b[39m\u001b[38;5;124m'\u001b[39m,\n\u001b[0;32m    893\u001b[0m         callbacks\u001b[38;5;241m=\u001b[39m\u001b[38;5;28;01mNone\u001b[39;00m, init_model\u001b[38;5;241m=\u001b[39m\u001b[38;5;28;01mNone\u001b[39;00m):\n\u001b[0;32m    894\u001b[0m     \u001b[38;5;124;03m\"\"\"Docstring is inherited from the LGBMModel.\"\"\"\u001b[39;00m\n\u001b[1;32m--> 895\u001b[0m     \u001b[38;5;28;43msuper\u001b[39;49m\u001b[43m(\u001b[49m\u001b[43m)\u001b[49m\u001b[38;5;241;43m.\u001b[39;49m\u001b[43mfit\u001b[49m\u001b[43m(\u001b[49m\u001b[43mX\u001b[49m\u001b[43m,\u001b[49m\u001b[43m \u001b[49m\u001b[43my\u001b[49m\u001b[43m,\u001b[49m\u001b[43m \u001b[49m\u001b[43msample_weight\u001b[49m\u001b[38;5;241;43m=\u001b[39;49m\u001b[43msample_weight\u001b[49m\u001b[43m,\u001b[49m\u001b[43m \u001b[49m\u001b[43minit_score\u001b[49m\u001b[38;5;241;43m=\u001b[39;49m\u001b[43minit_score\u001b[49m\u001b[43m,\u001b[49m\n\u001b[0;32m    896\u001b[0m \u001b[43m                \u001b[49m\u001b[43meval_set\u001b[49m\u001b[38;5;241;43m=\u001b[39;49m\u001b[43meval_set\u001b[49m\u001b[43m,\u001b[49m\u001b[43m \u001b[49m\u001b[43meval_names\u001b[49m\u001b[38;5;241;43m=\u001b[39;49m\u001b[43meval_names\u001b[49m\u001b[43m,\u001b[49m\u001b[43m \u001b[49m\u001b[43meval_sample_weight\u001b[49m\u001b[38;5;241;43m=\u001b[39;49m\u001b[43meval_sample_weight\u001b[49m\u001b[43m,\u001b[49m\n\u001b[0;32m    897\u001b[0m \u001b[43m                \u001b[49m\u001b[43meval_init_score\u001b[49m\u001b[38;5;241;43m=\u001b[39;49m\u001b[43meval_init_score\u001b[49m\u001b[43m,\u001b[49m\u001b[43m \u001b[49m\u001b[43meval_metric\u001b[49m\u001b[38;5;241;43m=\u001b[39;49m\u001b[43meval_metric\u001b[49m\u001b[43m,\u001b[49m\n\u001b[0;32m    898\u001b[0m \u001b[43m                \u001b[49m\u001b[43mearly_stopping_rounds\u001b[49m\u001b[38;5;241;43m=\u001b[39;49m\u001b[43mearly_stopping_rounds\u001b[49m\u001b[43m,\u001b[49m\u001b[43m \u001b[49m\u001b[43mverbose\u001b[49m\u001b[38;5;241;43m=\u001b[39;49m\u001b[43mverbose\u001b[49m\u001b[43m,\u001b[49m\u001b[43m \u001b[49m\u001b[43mfeature_name\u001b[49m\u001b[38;5;241;43m=\u001b[39;49m\u001b[43mfeature_name\u001b[49m\u001b[43m,\u001b[49m\n\u001b[0;32m    899\u001b[0m \u001b[43m                \u001b[49m\u001b[43mcategorical_feature\u001b[49m\u001b[38;5;241;43m=\u001b[39;49m\u001b[43mcategorical_feature\u001b[49m\u001b[43m,\u001b[49m\u001b[43m \u001b[49m\u001b[43mcallbacks\u001b[49m\u001b[38;5;241;43m=\u001b[39;49m\u001b[43mcallbacks\u001b[49m\u001b[43m,\u001b[49m\u001b[43m \u001b[49m\u001b[43minit_model\u001b[49m\u001b[38;5;241;43m=\u001b[39;49m\u001b[43minit_model\u001b[49m\u001b[43m)\u001b[49m\n\u001b[0;32m    900\u001b[0m     \u001b[38;5;28;01mreturn\u001b[39;00m \u001b[38;5;28mself\u001b[39m\n",
      "File \u001b[1;32m~\\anaconda3\\lib\\site-packages\\lightgbm\\sklearn.py:748\u001b[0m, in \u001b[0;36mLGBMModel.fit\u001b[1;34m(self, X, y, sample_weight, init_score, group, eval_set, eval_names, eval_sample_weight, eval_class_weight, eval_init_score, eval_group, eval_metric, early_stopping_rounds, verbose, feature_name, categorical_feature, callbacks, init_model)\u001b[0m\n\u001b[0;32m    745\u001b[0m evals_result \u001b[38;5;241m=\u001b[39m {}\n\u001b[0;32m    746\u001b[0m callbacks\u001b[38;5;241m.\u001b[39mappend(record_evaluation(evals_result))\n\u001b[1;32m--> 748\u001b[0m \u001b[38;5;28mself\u001b[39m\u001b[38;5;241m.\u001b[39m_Booster \u001b[38;5;241m=\u001b[39m \u001b[43mtrain\u001b[49m\u001b[43m(\u001b[49m\n\u001b[0;32m    749\u001b[0m \u001b[43m    \u001b[49m\u001b[43mparams\u001b[49m\u001b[38;5;241;43m=\u001b[39;49m\u001b[43mparams\u001b[49m\u001b[43m,\u001b[49m\n\u001b[0;32m    750\u001b[0m \u001b[43m    \u001b[49m\u001b[43mtrain_set\u001b[49m\u001b[38;5;241;43m=\u001b[39;49m\u001b[43mtrain_set\u001b[49m\u001b[43m,\u001b[49m\n\u001b[0;32m    751\u001b[0m \u001b[43m    \u001b[49m\u001b[43mnum_boost_round\u001b[49m\u001b[38;5;241;43m=\u001b[39;49m\u001b[38;5;28;43mself\u001b[39;49m\u001b[38;5;241;43m.\u001b[39;49m\u001b[43mn_estimators\u001b[49m\u001b[43m,\u001b[49m\n\u001b[0;32m    752\u001b[0m \u001b[43m    \u001b[49m\u001b[43mvalid_sets\u001b[49m\u001b[38;5;241;43m=\u001b[39;49m\u001b[43mvalid_sets\u001b[49m\u001b[43m,\u001b[49m\n\u001b[0;32m    753\u001b[0m \u001b[43m    \u001b[49m\u001b[43mvalid_names\u001b[49m\u001b[38;5;241;43m=\u001b[39;49m\u001b[43meval_names\u001b[49m\u001b[43m,\u001b[49m\n\u001b[0;32m    754\u001b[0m \u001b[43m    \u001b[49m\u001b[43mfobj\u001b[49m\u001b[38;5;241;43m=\u001b[39;49m\u001b[38;5;28;43mself\u001b[39;49m\u001b[38;5;241;43m.\u001b[39;49m\u001b[43m_fobj\u001b[49m\u001b[43m,\u001b[49m\n\u001b[0;32m    755\u001b[0m \u001b[43m    \u001b[49m\u001b[43mfeval\u001b[49m\u001b[38;5;241;43m=\u001b[39;49m\u001b[43meval_metrics_callable\u001b[49m\u001b[43m,\u001b[49m\n\u001b[0;32m    756\u001b[0m \u001b[43m    \u001b[49m\u001b[43minit_model\u001b[49m\u001b[38;5;241;43m=\u001b[39;49m\u001b[43minit_model\u001b[49m\u001b[43m,\u001b[49m\n\u001b[0;32m    757\u001b[0m \u001b[43m    \u001b[49m\u001b[43mfeature_name\u001b[49m\u001b[38;5;241;43m=\u001b[39;49m\u001b[43mfeature_name\u001b[49m\u001b[43m,\u001b[49m\n\u001b[0;32m    758\u001b[0m \u001b[43m    \u001b[49m\u001b[43mcallbacks\u001b[49m\u001b[38;5;241;43m=\u001b[39;49m\u001b[43mcallbacks\u001b[49m\n\u001b[0;32m    759\u001b[0m \u001b[43m\u001b[49m\u001b[43m)\u001b[49m\n\u001b[0;32m    761\u001b[0m \u001b[38;5;28;01mif\u001b[39;00m evals_result:\n\u001b[0;32m    762\u001b[0m     \u001b[38;5;28mself\u001b[39m\u001b[38;5;241m.\u001b[39m_evals_result \u001b[38;5;241m=\u001b[39m evals_result\n",
      "File \u001b[1;32m~\\anaconda3\\lib\\site-packages\\lightgbm\\engine.py:292\u001b[0m, in \u001b[0;36mtrain\u001b[1;34m(params, train_set, num_boost_round, valid_sets, valid_names, fobj, feval, init_model, feature_name, categorical_feature, early_stopping_rounds, evals_result, verbose_eval, learning_rates, keep_training_booster, callbacks)\u001b[0m\n\u001b[0;32m    284\u001b[0m \u001b[38;5;28;01mfor\u001b[39;00m cb \u001b[38;5;129;01min\u001b[39;00m callbacks_before_iter:\n\u001b[0;32m    285\u001b[0m     cb(callback\u001b[38;5;241m.\u001b[39mCallbackEnv(model\u001b[38;5;241m=\u001b[39mbooster,\n\u001b[0;32m    286\u001b[0m                             params\u001b[38;5;241m=\u001b[39mparams,\n\u001b[0;32m    287\u001b[0m                             iteration\u001b[38;5;241m=\u001b[39mi,\n\u001b[0;32m    288\u001b[0m                             begin_iteration\u001b[38;5;241m=\u001b[39minit_iteration,\n\u001b[0;32m    289\u001b[0m                             end_iteration\u001b[38;5;241m=\u001b[39minit_iteration \u001b[38;5;241m+\u001b[39m num_boost_round,\n\u001b[0;32m    290\u001b[0m                             evaluation_result_list\u001b[38;5;241m=\u001b[39m\u001b[38;5;28;01mNone\u001b[39;00m))\n\u001b[1;32m--> 292\u001b[0m \u001b[43mbooster\u001b[49m\u001b[38;5;241;43m.\u001b[39;49m\u001b[43mupdate\u001b[49m\u001b[43m(\u001b[49m\u001b[43mfobj\u001b[49m\u001b[38;5;241;43m=\u001b[39;49m\u001b[43mfobj\u001b[49m\u001b[43m)\u001b[49m\n\u001b[0;32m    294\u001b[0m evaluation_result_list \u001b[38;5;241m=\u001b[39m []\n\u001b[0;32m    295\u001b[0m \u001b[38;5;66;03m# check evaluation result.\u001b[39;00m\n",
      "File \u001b[1;32m~\\anaconda3\\lib\\site-packages\\lightgbm\\basic.py:3021\u001b[0m, in \u001b[0;36mBooster.update\u001b[1;34m(self, train_set, fobj)\u001b[0m\n\u001b[0;32m   3019\u001b[0m \u001b[38;5;28;01mif\u001b[39;00m \u001b[38;5;28mself\u001b[39m\u001b[38;5;241m.\u001b[39m__set_objective_to_none:\n\u001b[0;32m   3020\u001b[0m     \u001b[38;5;28;01mraise\u001b[39;00m LightGBMError(\u001b[38;5;124m'\u001b[39m\u001b[38;5;124mCannot update due to null objective function.\u001b[39m\u001b[38;5;124m'\u001b[39m)\n\u001b[1;32m-> 3021\u001b[0m _safe_call(\u001b[43m_LIB\u001b[49m\u001b[38;5;241;43m.\u001b[39;49m\u001b[43mLGBM_BoosterUpdateOneIter\u001b[49m\u001b[43m(\u001b[49m\n\u001b[0;32m   3022\u001b[0m \u001b[43m    \u001b[49m\u001b[38;5;28;43mself\u001b[39;49m\u001b[38;5;241;43m.\u001b[39;49m\u001b[43mhandle\u001b[49m\u001b[43m,\u001b[49m\n\u001b[0;32m   3023\u001b[0m \u001b[43m    \u001b[49m\u001b[43mctypes\u001b[49m\u001b[38;5;241;43m.\u001b[39;49m\u001b[43mbyref\u001b[49m\u001b[43m(\u001b[49m\u001b[43mis_finished\u001b[49m\u001b[43m)\u001b[49m\u001b[43m)\u001b[49m)\n\u001b[0;32m   3024\u001b[0m \u001b[38;5;28mself\u001b[39m\u001b[38;5;241m.\u001b[39m__is_predicted_cur_iter \u001b[38;5;241m=\u001b[39m [\u001b[38;5;28;01mFalse\u001b[39;00m \u001b[38;5;28;01mfor\u001b[39;00m _ \u001b[38;5;129;01min\u001b[39;00m \u001b[38;5;28mrange\u001b[39m(\u001b[38;5;28mself\u001b[39m\u001b[38;5;241m.\u001b[39m__num_dataset)]\n\u001b[0;32m   3025\u001b[0m \u001b[38;5;28;01mreturn\u001b[39;00m is_finished\u001b[38;5;241m.\u001b[39mvalue \u001b[38;5;241m==\u001b[39m \u001b[38;5;241m1\u001b[39m\n",
      "\u001b[1;31mKeyboardInterrupt\u001b[0m: "
     ]
    }
   ],
   "source": [
    "best_lightgbm.fit(X_train1, y_train)\n",
    "y_pred=best_lightgbm.predict(X_test1)\n",
    "predicted=pd.DataFrame(y_pred, columns=[\"y_pred\"])\n",
    "predicted[\"y_true\"]=y_test.values\n",
    "predicted.sort_values(by=\"y_true\", inplace=True)\n",
    "plt.scatter([i for i in range(len(y_pred))], predicted.y_pred, s=1)\n",
    "plt.scatter([i for i in range(len(y_pred))], predicted.y_true.values, s=1)\n",
    "plt.ylim(-3,2)"
   ]
  },
  {
   "cell_type": "code",
   "execution_count": null,
   "id": "789a493b",
   "metadata": {},
   "outputs": [],
   "source": [
    "base_lightgbm =lgb.LGBMRegressor()\n",
    "scores = cross_val_score(base_lightgbm, X_train1, y_train, scoring='r2', cv=10)\n",
    "display_scores(scores, \"Base LightGBM (r2)\")\n",
    "scores = cross_val_score(base_lightgbm, X_train1, y_train, scoring=\"neg_root_mean_squared_error\", cv=10)\n",
    "display_scores(-scores, \"Base LightGBM (rmse)\")\n",
    "\n",
    "best_lightgbm= rscv.best_estimator_\n",
    "scores = cross_val_score(best_ligthGBM, X_train1, y_train, scoring='r2', cv=10)\n",
    "display_scores(scores, \"Best random grid lightGBM (r2)\")\n",
    "scores = cross_val_score(best_ligthGBM, X_train1, y_train, scoring=\"neg_root_mean_squared_error\", cv=10)\n",
    "display_scores(-scores, \"Best random grid lightGBM (rmse)\")"
   ]
  },
  {
   "cell_type": "markdown",
   "id": "86002383",
   "metadata": {},
   "source": [
    "<a id=\"ITE\"> </a>\n",
    "# 3. Cálculo del ITE"
   ]
  },
  {
   "cell_type": "markdown",
   "id": "c319b52c",
   "metadata": {},
   "source": [
    "Creem els contrafatuals i tot per predir la ITE"
   ]
  },
  {
   "cell_type": "code",
   "execution_count": null,
   "id": "9b62bf97",
   "metadata": {},
   "outputs": [],
   "source": [
    "counterfactual_df=cleaned_df.drop(\"z_all_06\",axis=1)"
   ]
  },
  {
   "cell_type": "code",
   "execution_count": null,
   "id": "07d3b241",
   "metadata": {},
   "outputs": [],
   "source": [
    "counterfactual_df.tr"
   ]
  },
  {
   "cell_type": "code",
   "execution_count": null,
   "id": "05cc3080",
   "metadata": {},
   "outputs": [],
   "source": [
    "a=counterfactual_df[\"tr\"]+1"
   ]
  },
  {
   "cell_type": "code",
   "execution_count": null,
   "id": "e9feabf3",
   "metadata": {},
   "outputs": [],
   "source": [
    "counterfactual_df[\"tr\"]=a%2"
   ]
  },
  {
   "cell_type": "code",
   "execution_count": null,
   "id": "9dad02a6",
   "metadata": {},
   "outputs": [],
   "source": [
    "counterfactual_df.tr"
   ]
  },
  {
   "cell_type": "code",
   "execution_count": null,
   "id": "3675377c",
   "metadata": {},
   "outputs": [],
   "source": [
    "counterfactual=forest_reg.predict(counterfactual_df)"
   ]
  },
  {
   "cell_type": "code",
   "execution_count": null,
   "id": "90262d50",
   "metadata": {},
   "outputs": [],
   "source": [
    "observed=cleaned_df[\"z_all_06\"]\n",
    "counterfactuals=pd.Series(counterfactual, index=observed.index)"
   ]
  },
  {
   "cell_type": "code",
   "execution_count": null,
   "id": "0473f02d",
   "metadata": {},
   "outputs": [],
   "source": [
    "observed"
   ]
  },
  {
   "cell_type": "code",
   "execution_count": null,
   "id": "9eea8cba",
   "metadata": {},
   "outputs": [],
   "source": [
    "ite_temp=pd.Series([observed[i]-counterfactuals[i] for i in observed.index if cleaned_df.tr[i]==1], index=cleaned_df[cleaned_df.tr==1].index)\n",
    "ite_temp1=pd.Series([counterfactuals[i]-observed[i] for i in observed.index if cleaned_df.tr[i]==0], index=cleaned_df[cleaned_df.tr==0].index)\n",
    "ite=pd.concat([ite_temp,ite_temp1])\n",
    "ite.sort_index(inplace=True)"
   ]
  },
  {
   "cell_type": "code",
   "execution_count": null,
   "id": "0a2c9c8b",
   "metadata": {},
   "outputs": [],
   "source": [
    "ite.describe()"
   ]
  },
  {
   "cell_type": "code",
   "execution_count": null,
   "id": "9637ac18",
   "metadata": {},
   "outputs": [],
   "source": [
    "import seaborn as sb\n",
    "\n",
    "sb.histplot(ite)"
   ]
  },
  {
   "cell_type": "code",
   "execution_count": null,
   "id": "a97733f1",
   "metadata": {},
   "outputs": [],
   "source": [
    "cleaned_df.z_all_06.describe()"
   ]
  },
  {
   "cell_type": "markdown",
   "id": "d3c49300",
   "metadata": {},
   "source": [
    "NO CONSIDERAR: ite amb counterfactual i observed predits pel model"
   ]
  },
  {
   "cell_type": "code",
   "execution_count": null,
   "id": "5d0ccee9",
   "metadata": {},
   "outputs": [],
   "source": [
    "observed_df=cleaned_df.drop(\"z_all_06\",axis=1)\n",
    "observed_predict=forest_reg.predict(observed_df)\n",
    "observed_predict=pd.Series(observed_predict, index=observed_df.index)"
   ]
  },
  {
   "cell_type": "code",
   "execution_count": null,
   "id": "0d6ed0ab",
   "metadata": {},
   "outputs": [],
   "source": [
    "ite1=[observed_predict[i]-counterfactuals[i] for i in observed_predict.index if cleaned_df.tr[i]==1]+[counterfactuals[i]-observed_predict[i] for i in observed_predict.index if cleaned_df.tr[i]==0 ]"
   ]
  },
  {
   "cell_type": "code",
   "execution_count": null,
   "id": "184ad4ea",
   "metadata": {},
   "outputs": [],
   "source": [
    "ite1=pd.Series(ite1, index=cleaned_df.index)\n",
    "ite1.describe()"
   ]
  },
  {
   "cell_type": "code",
   "execution_count": null,
   "id": "faceb986",
   "metadata": {},
   "outputs": [],
   "source": [
    "sb.histplot(ite1)"
   ]
  },
  {
   "cell_type": "code",
   "execution_count": null,
   "id": "21b8cdbb",
   "metadata": {},
   "outputs": [],
   "source": [
    "ite1.value_counts()"
   ]
  },
  {
   "cell_type": "markdown",
   "id": "40087ab7",
   "metadata": {},
   "source": [
    "<a id=\"Tree\"> </a>\n",
    "\n",
    "# 4. Agrupación por ITE: *Decision Tree*"
   ]
  },
  {
   "cell_type": "markdown",
   "id": "ced005c0",
   "metadata": {},
   "source": [
    "Quartils i std.\n",
    "\n",
    "1. Separem <=q25, q25<...<=q50, q50<=q75, q75<\n",
    "2. STD"
   ]
  },
  {
   "cell_type": "code",
   "execution_count": null,
   "id": "00533b58",
   "metadata": {},
   "outputs": [],
   "source": [
    "quartils=ite.quantile([0.25,0.5, 0.75])"
   ]
  },
  {
   "cell_type": "code",
   "execution_count": null,
   "id": "2e8556b1",
   "metadata": {},
   "outputs": [],
   "source": [
    "ite0=ite[ite<=quartils.iloc[0]]"
   ]
  },
  {
   "cell_type": "code",
   "execution_count": null,
   "id": "08767691",
   "metadata": {},
   "outputs": [],
   "source": [
    "ite1=ite[ite<=quartils.iloc[1]]\n",
    "ite1.drop(ite0.index, inplace=True)"
   ]
  },
  {
   "cell_type": "code",
   "execution_count": null,
   "id": "553ca5ef",
   "metadata": {},
   "outputs": [],
   "source": [
    "ite2=ite[ite<=quartils.iloc[2]]\n",
    "ite2.drop(ite0.index, inplace=True)\n",
    "ite2.drop(ite1.index, inplace=True)"
   ]
  },
  {
   "cell_type": "code",
   "execution_count": null,
   "id": "ebdb748d",
   "metadata": {},
   "outputs": [],
   "source": [
    "ite3=ite.copy()\n",
    "ite3.drop(ite0.index, inplace=True)\n",
    "ite3.drop(ite1.index, inplace=True)\n",
    "ite3.drop(ite2.index, inplace=True)"
   ]
  },
  {
   "cell_type": "code",
   "execution_count": null,
   "id": "6ac87e17",
   "metadata": {},
   "outputs": [],
   "source": [
    "ite0_df=cleaned_df.loc[ite0.index]\n",
    "ite1_df=cleaned_df.loc[ite1.index]\n",
    "ite2_df=cleaned_df.loc[ite2.index]\n",
    "ite3_df=cleaned_df.loc[ite3.index]"
   ]
  },
  {
   "cell_type": "code",
   "execution_count": null,
   "id": "55110a90",
   "metadata": {},
   "outputs": [],
   "source": [
    "shap=[[stats.shapiro(ite0_df[col].values).pvalue for col in normal_cols],\n",
    "        [stats.shapiro(ite1_df[col].values).pvalue for col in normal_cols],\n",
    "        [stats.shapiro(ite2_df[col].values).pvalue for col in normal_cols],\n",
    "        [stats.shapiro(ite3_df[col].values).pvalue for col in normal_cols]]\n",
    "\n",
    "shap_df=pd.DataFrame(shap,columns=normal_cols)"
   ]
  },
  {
   "cell_type": "code",
   "execution_count": null,
   "id": "44bb57a4",
   "metadata": {},
   "outputs": [],
   "source": [
    "#fem el test de shapiro a els subgrups (generats al estratificar la ite en quartils) de les variables normals. \n",
    "#Surt normalitat arreu, aixi que si tenen desv std entre ells normals, podrem aplicar t-tests per comprovar \n",
    "#si les mitjanes son iguals\n",
    "shap_df"
   ]
  },
  {
   "cell_type": "code",
   "execution_count": null,
   "id": "ac4ffd67",
   "metadata": {},
   "outputs": [],
   "source": [
    "std=[[np.std(ite0_df[col].values) for col in normal_cols],\n",
    "        [np.std(ite1_df[col].values) for col in normal_cols],\n",
    "        [np.std(ite2_df[col].values) for col in normal_cols],\n",
    "        [np.std(ite3_df[col].values) for col in normal_cols]]\n",
    "std_df=pd.DataFrame(std,columns=normal_cols)"
   ]
  },
  {
   "cell_type": "code",
   "execution_count": null,
   "id": "69ba575a",
   "metadata": {},
   "outputs": [],
   "source": [
    "std_df"
   ]
  },
  {
   "cell_type": "code",
   "execution_count": null,
   "id": "8b366e61",
   "metadata": {},
   "outputs": [],
   "source": [
    "ite0_df[normal_cols].describe()"
   ]
  },
  {
   "cell_type": "code",
   "execution_count": null,
   "id": "39da1fcc",
   "metadata": {},
   "outputs": [],
   "source": [
    "ite3_df[normal_cols].describe()"
   ]
  },
  {
   "cell_type": "code",
   "execution_count": null,
   "id": "4cf11aa9",
   "metadata": {},
   "outputs": [],
   "source": [
    "import scipy\n",
    "from scipy import stats\n",
    "    \n",
    "ttestp_df=[[stats.ttest_ind(ite1_df[col].values, ite0_df[col].values).pvalue for col in normal_cols],\n",
    "          [stats.ttest_ind(ite2_df[col].values, ite0_df[col].values).pvalue for col in normal_cols],\n",
    "          [stats.ttest_ind(ite3_df[col].values, ite0_df[col].values).pvalue for col in normal_cols],\n",
    "          [stats.ttest_ind(ite2_df[col].values, ite1_df[col].values).pvalue for col in normal_cols],\n",
    "          [stats.ttest_ind(ite3_df[col].values, ite1_df[col].values).pvalue for col in normal_cols],\n",
    "          [stats.ttest_ind(ite3_df[col].values, ite2_df[col].values).pvalue for col in normal_cols]\n",
    "         ]\n",
    "ttest_df=pd.DataFrame(ttestp_df,columns=normal_cols, index=[\"0-1\",\"0-2\",\"0-3\",\"1-2\",\"1-3\",\"2-3\"])"
   ]
  },
  {
   "cell_type": "code",
   "execution_count": null,
   "id": "24db93f0",
   "metadata": {},
   "outputs": [],
   "source": [
    "#si p<0.05 podem assumir que les mitjanes son diferents (descartem la hipotesi nulla)\n",
    "ttest_df.style.background_gradient(cmap=\"Blues\")"
   ]
  },
  {
   "cell_type": "markdown",
   "id": "f1aa7ed0",
   "metadata": {},
   "source": [
    "<a id=\"CATE\"> </a>\n",
    "\n",
    "# 5. Cálculo de CATEs"
   ]
  }
 ],
 "metadata": {
  "kernelspec": {
   "display_name": "Python 3 (ipykernel)",
   "language": "python",
   "name": "python3"
  },
  "language_info": {
   "codemirror_mode": {
    "name": "ipython",
    "version": 3
   },
   "file_extension": ".py",
   "mimetype": "text/x-python",
   "name": "python",
   "nbconvert_exporter": "python",
   "pygments_lexer": "ipython3",
   "version": "3.8.8"
  }
 },
 "nbformat": 4,
 "nbformat_minor": 5
}
