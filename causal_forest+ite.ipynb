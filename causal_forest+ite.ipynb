{
 "cells": [
  {
   "cell_type": "markdown",
<<<<<<< Updated upstream
   "id": "b41fbe89",
=======
   "id": "2da77eb2",
>>>>>>> Stashed changes
   "metadata": {},
   "source": [
    "Notebook imitant:\n",
    "    https://towardsdatascience.com/causal-machine-learning-for-econometrics-causal-forests-5ab3aec825a7"
   ]
  },
  {
   "cell_type": "code",
<<<<<<< Updated upstream
   "execution_count": 267,
   "id": "8b33a126",
=======
   "execution_count": 4,
   "id": "872fd05a",
>>>>>>> Stashed changes
   "metadata": {},
   "outputs": [],
   "source": [
    "import pandas as pd\n",
    "import matplotlib.pyplot as plt\n",
    "import numpy as np\n",
    "import sklearn "
   ]
  },
  {
   "cell_type": "code",
<<<<<<< Updated upstream
   "execution_count": 268,
   "id": "5c4ce38f",
=======
   "execution_count": 5,
   "id": "c96b95b1",
>>>>>>> Stashed changes
   "metadata": {},
   "outputs": [],
   "source": [
    "#Read main data to DataFrame\n",
    "df = pd.read_stata('Cash_and_Childhood_Development_Replication/macoursetal_main.dta')  "
   ]
  },
  {
   "cell_type": "code",
<<<<<<< Updated upstream
   "execution_count": 269,
   "id": "ac4db177",
=======
   "execution_count": 6,
   "id": "a3e65dd4",
>>>>>>> Stashed changes
   "metadata": {},
   "outputs": [],
   "source": [
    "# \"hogarid_old\",\"cp_old\",\"unique_05\", \"cpmom_06\" seran usats com a index\n",
    "df_out=df[[\"a5sscore_i_06\",\"a6smemory_p1_06\",\"a6smemory_p2_06\",\"a7a_delay_06\",\"a7b_delay_06\",\n",
    "        \"a7c_delay_06\",\"a7d_delay_06\",\"a9sgrossmotor_06\",\"height_06\",\"weight_06\",\"z_tvip_06\",\"z_social_06\",\n",
    "        \"z_language_06\",\"z_finmotor_06\",\"z_memory_06\",\"z_grmotor_06\",\"z_legmotor_06\",\"z_behavior_06\",\"z_height_06\",\n",
    "        \"z_weight_06\",\"z_all_06\"]]\n"
   ]
  },
  {
   "cell_type": "markdown",
<<<<<<< Updated upstream
   "id": "8452d06e",
=======
   "id": "ae2a7f03",
>>>>>>> Stashed changes
   "metadata": {},
   "source": [
    "# Income variables"
   ]
  },
  {
   "cell_type": "code",
<<<<<<< Updated upstream
   "execution_count": 270,
   "id": "16fa80e6",
=======
   "execution_count": 7,
   "id": "4c39f2d0",
>>>>>>> Stashed changes
   "metadata": {},
   "outputs": [],
   "source": [
    "df1=df[[\"hogarid_old\",\"cp_old\",\"unique_05\",\"s1age_head_05\",\"s1hhsize_05\",\"s1hhsz_undr5_05\",\"s1hhsz_5_14_05\",\n",
    "        \"s1hhsz_15_24_05\",\"s1hhsz_25_64_05\",\"s1hhsz_65plus_05\",\"s1male_head_05\",\"s2mother_inhs_05\",\"s3ap5_rooms_h_05\",\n",
    "        \"s3ap23_stime_h_05\",\"s3ap24_htime_h_05\",\"s3ap25_hqtime_h_05\",\"s3atoilet_hh_05\",\"s3awater_access_hh_05\",\n",
    "        \"s3aelectric_hh_05\",\"s4p6_vitamina_i_05\",\"s4p7_parasite_i_05\",\"s11ownland_hh_05\",\"cons_food_pc_05\",\"cons_tot_pc_05\",\n",
    "        \"tvip_05\",\"height_05\",\"a10whz_05\",\"weight_05\",\"itt_i\",\"itt_all_i\",\"yrsedfath\",\"age_transfer\",\"bweight\",\n",
    "        \"s4p7_parasite_i_06\",\"cpmom_06\",\"T\",\"male\",\"TREAT1\",\"TREAT2\",\"TREAT3\",\"TREAT4\",\"ed_mom\",\"MUN1\",\"MUN2\",\"MUN3\",\"MUN4\",\n",
    "        \"MUN5\",\"MUN6\",\"com_haz_05\",\"com_waz_05\",\"com_tvip_05\",\"com_control_05\",\"com_vit_05\",\"com_deworm_05\",\"com_notvip\",\n",
    "        \"sample06\",\"vitamiron_06\",#\"weighted_05\",\n",
    "        \"propfood_05\",\"prstap_f_05\",\"pranimalprot_f_05\",\"prfruitveg_f_05\"]]"
   ]
  },
  {
   "cell_type": "code",
<<<<<<< Updated upstream
   "execution_count": 271,
   "id": "c88df450",
   "metadata": {},
   "outputs": [],
=======
   "execution_count": 8,
   "id": "db4e6359",
   "metadata": {},
   "outputs": [
    {
     "name": "stderr",
     "output_type": "stream",
     "text": [
      "C:\\Users\\Usuari\\AppData\\Local\\Temp\\ipykernel_1732\\2300806653.py:1: SettingWithCopyWarning: \n",
      "A value is trying to be set on a copy of a slice from a DataFrame\n",
      "\n",
      "See the caveats in the documentation: https://pandas.pydata.org/pandas-docs/stable/user_guide/indexing.html#returning-a-view-versus-a-copy\n",
      "  df1.rename(columns = {'T':'tr'}, inplace = True)\n"
     ]
    }
   ],
>>>>>>> Stashed changes
   "source": [
    "df1.rename(columns = {'T':'tr'}, inplace = True)"
   ]
  },
  {
   "cell_type": "markdown",
<<<<<<< Updated upstream
   "id": "ce88e431",
=======
   "id": "7123c0be",
>>>>>>> Stashed changes
   "metadata": {},
   "source": [
    "###  NaNs"
   ]
  },
  {
   "cell_type": "code",
<<<<<<< Updated upstream
   "execution_count": 272,
   "id": "f18c6ee8",
=======
   "execution_count": 9,
   "id": "42c9f135",
>>>>>>> Stashed changes
   "metadata": {},
   "outputs": [
    {
     "data": {
      "text/plain": [
       "1     1357\n",
       "11     910\n",
       "0      631\n",
       "8      427\n",
       "2      243\n",
       "5      212\n",
       "4      133\n",
       "3      130\n",
       "12     129\n",
       "7      112\n",
       "9       66\n",
       "6       59\n",
       "10      48\n",
       "55      32\n",
       "56       7\n",
       "54       7\n",
       "14       6\n",
       "13       2\n",
       "dtype: int64"
      ]
     },
<<<<<<< Updated upstream
     "execution_count": 272,
=======
     "execution_count": 9,
>>>>>>> Stashed changes
     "metadata": {},
     "output_type": "execute_result"
    }
   ],
   "source": [
    "df1.isnull().sum(axis=1).value_counts()"
   ]
  },
  {
   "cell_type": "code",
<<<<<<< Updated upstream
   "execution_count": 273,
   "id": "d7179548",
=======
   "execution_count": 10,
   "id": "c90fad93",
>>>>>>> Stashed changes
   "metadata": {},
   "outputs": [],
   "source": [
    "#fem una copia del df\n",
    "def copy_df(df):\n",
    "   return df.copy()"
   ]
  },
  {
   "cell_type": "code",
<<<<<<< Updated upstream
   "execution_count": 274,
   "id": "03b51b6e",
=======
   "execution_count": 11,
   "id": "18c0ff72",
>>>>>>> Stashed changes
   "metadata": {},
   "outputs": [],
   "source": [
    "#eliminem individus amb >delta*100% columnes buides\n",
    "def drop_ind_missing(df, delta):\n",
    "    thresh = len(df.columns)*delta\n",
    "    df.dropna(axis=0, thresh=thresh, inplace=True)\n",
    "    return df"
   ]
  },
  {
   "cell_type": "code",
<<<<<<< Updated upstream
   "execution_count": 275,
   "id": "e905b250",
=======
   "execution_count": 12,
   "id": "b886777c",
>>>>>>> Stashed changes
   "metadata": {},
   "outputs": [],
   "source": [
    "#eliminem individus amb age transfer<age\n",
    "def drop_out_missing(df, age=-11):\n",
    "    nan_rows=df[df.age_transfer<age].index\n",
    "    df.drop(nan_rows, inplace=True)\n",
    "    return df"
   ]
  },
  {
   "cell_type": "code",
<<<<<<< Updated upstream
   "execution_count": 276,
   "id": "2e98fd90",
=======
   "execution_count": 13,
   "id": "e8a9c878",
>>>>>>> Stashed changes
   "metadata": {},
   "outputs": [],
   "source": [
    "#categorical to ordinal\n",
    "def ordinal(df, cols):\n",
    "    enc = OrdinalEncoder()\n",
    "    enc.fit(df[cols])\n",
    "    df[cols] = enc.transform(df[cols])\n",
    "    \n",
    "    return df"
   ]
  },
  {
   "cell_type": "code",
<<<<<<< Updated upstream
   "execution_count": 277,
   "id": "12652e1b",
=======
   "execution_count": 14,
   "id": "82eccfcb",
>>>>>>> Stashed changes
   "metadata": {},
   "outputs": [],
   "source": [
    "#imputem NaNs\n",
    "\n",
    "#imputem mitjanes\n",
    "def mean_imputer(df, cols):\n",
    "    for col in cols:\n",
    "        df[col].fillna(df[col].mean(), inplace=True)\n",
    "    return df\n",
    "\n",
    "#imputem el valor més frequent de la columna dintre el hh\n",
    "def hh_mf_imputer(df,cols):\n",
    "    index=df.index\n",
    "    for col in cols:\n",
    "        col_hh=[df[df.hogarid_old==familia][[col,\"age_transfer\"]].sort_values(by=['age_transfer'])[col]\n",
    "                .values for familia in df.hogarid_old]\n",
    "        for i in range(len(index)):\n",
    "               if np.isnan(df[col][index[i]]):\n",
    "                    non_nan_len=np.count_nonzero(~np.isnan(col_hh[i]))\n",
    "                    if(non_nan_len!=0):\n",
    "                        vals,counts = np.unique(col_hh[i], return_counts=True)\n",
    "                        ind = np.argmax(counts)\n",
    "                        df.loc[index[i],col]=vals[ind]\n",
    "    return df             \n",
    "                            \n",
    "                        "
   ]
  },
  {
   "cell_type": "code",
<<<<<<< Updated upstream
   "execution_count": 278,
   "id": "f3ab3651",
=======
   "execution_count": 15,
   "id": "ad17c455",
>>>>>>> Stashed changes
   "metadata": {},
   "outputs": [],
   "source": [
    "#eliminem outliers\n",
    "\n",
    "def outlier_removal(df, cols):\n",
    "    outlier_threshold = []\n",
    "    for col in cols:\n",
    "            q3 = np.nanpercentile(df[col], 75)\n",
    "            q1 = np.nanpercentile(df[col], 25)\n",
    "            iqr = q3 - q1\n",
    "            out_low = q1 - 3*iqr\n",
    "            out_high = q3 + 3*iqr\n",
    "            outlier_threshold.append([out_low, out_high])\n",
    "    outliers_indexs=[]\n",
    "    for col,k in zip(cols,range(len(cols))):\n",
    "        #outliers_indexs_in_col=[]\n",
    "        for i in df[col].index:\n",
    "            if df[col][i]<outlier_threshold[k][0] or df[col][i]>outlier_threshold[k][1]:\n",
    "                outliers_indexs.append(i)\n",
    "        #outliers_indexs.append(outliers_indexs_in_col)\n",
    "    return df.drop(list(set(outliers_indexs)), axis=0)"
   ]
  },
  {
   "cell_type": "code",
<<<<<<< Updated upstream
   "execution_count": 279,
   "id": "0f97cfd5",
=======
   "execution_count": 16,
   "id": "6871a219",
>>>>>>> Stashed changes
   "metadata": {},
   "outputs": [],
   "source": [
    "def normalize(df, cols):\n",
    "    Nscaler = MinMaxScaler()\n",
    "\n",
    "    Nscaler.fit(df[cols])\n",
    "    df[cols] = Nscaler.transform(df[cols])\n",
    "    \n",
    "    return df\n",
    "\n",
    "def standardize(df, cols):\n",
    "    Sscaler = StandardScaler()\n",
    "\n",
    "    Sscaler.fit(df[cols])\n",
    "    df[cols] = Sscaler.transform(df[cols])\n",
    "    \n",
    "    return df"
   ]
  },
  {
   "cell_type": "code",
<<<<<<< Updated upstream
   "execution_count": 280,
   "id": "a3987cd6",
=======
   "execution_count": 17,
   "id": "4dfa30f5",
>>>>>>> Stashed changes
   "metadata": {},
   "outputs": [],
   "source": [
    "from sklearn.impute import SimpleImputer\n",
    "from sklearn.preprocessing import OrdinalEncoder\n",
    "from sklearn.preprocessing import MinMaxScaler\n",
    "from sklearn.preprocessing import StandardScaler\n",
    "\n",
    "mean_cols=[\"bweight\", \"tvip_05\", \"height_05\", \"a10whz_05\", \"weight_05\"]\n",
    "hh_mf_cols=[\"s1age_head_05\",\"s1hhsize_05\",\"s1hhsz_undr5_05\",\"s1hhsz_5_14_05\",\"s1hhsz_15_24_05\",\"s1hhsz_25_64_05\",\n",
    "            \"s1hhsz_65plus_05\",\"s1male_head_05\",\"s2mother_inhs_05\",\"s3ap5_rooms_h_05\",\"s3atoilet_hh_05\",\n",
    "            \"s3awater_access_hh_05\",\"s3aelectric_hh_05\",\"s11ownland_hh_05\",\"s4p7_parasite_i_06\",\"ed_mom\",\"vitamiron_06\",\n",
    "           \"s4p6_vitamina_i_05\", \"s4p7_parasite_i_05\", \"cons_food_pc_05\", \"yrsedfath\", \"propfood_05\", \"prstap_f_05\"\n",
    "            ,  \"pranimalprot_f_05\",  \"prfruitveg_f_05\"]\n",
    "\n",
    "categorical_cols=df1.select_dtypes(exclude=[\"number\",\"bool_\",\"object_\"]).columns\n",
    "outlier_cols=[\"pranimalprot_f_05\", \"bweight\", \"prfruitveg_f_05\"]\n",
    "\n",
    "normal_cols =[\"height_05\",\"a10whz_05\",\"weight_05\",\"com_haz_05\",\"com_waz_05\"]\n",
    "\n",
    "Nnormal_cols = ['s1age_head_05', 's3ap23_stime_h_05', 's3ap24_htime_h_05', 's3ap25_hqtime_h_05', 'cons_food_pc_05', \n",
    "                'cons_tot_pc_05', 'tvip_05', 'yrsedfath','age_transfer', 'bweight', 'ed_mom', 'com_tvip_05', 'com_control_05']\n",
    "\n",
    "\n",
    "cleaned_df=(df1.pipe(copy_df)\n",
    "            .pipe(drop_ind_missing, 0.8)\n",
    "            .pipe(drop_out_missing)\n",
    "            .pipe(ordinal, categorical_cols)\n",
    "            .pipe(hh_mf_imputer, hh_mf_cols)\n",
    "            .pipe(mean_imputer, mean_cols+hh_mf_cols)\n",
    "            .pipe(outlier_removal, outlier_cols) #outliers\n",
    "            .pipe(standardize, normal_cols)) #estandaritzacio\n",
    "            #.pipe(normalize, Nnormal_cols)) #normalitzacio\n",
    "                         "
   ]
  },
  {
   "cell_type": "code",
<<<<<<< Updated upstream
   "execution_count": 281,
   "id": "0e87a1e0",
=======
   "execution_count": 18,
   "id": "316c1f57",
>>>>>>> Stashed changes
   "metadata": {},
   "outputs": [
    {
     "data": {
      "text/plain": [
       "Index(['s1male_head_05', 's3atoilet_hh_05', 's3awater_access_hh_05',\n",
       "       's3aelectric_hh_05', 's4p6_vitamina_i_05', 's4p7_parasite_i_05',\n",
       "       's11ownland_hh_05', 'itt_i', 'itt_all_i', 's4p7_parasite_i_06'],\n",
       "      dtype='object')"
      ]
     },
<<<<<<< Updated upstream
     "execution_count": 281,
=======
     "execution_count": 18,
>>>>>>> Stashed changes
     "metadata": {},
     "output_type": "execute_result"
    }
   ],
   "source": [
    "categorical_cols"
   ]
  },
  {
   "cell_type": "code",
<<<<<<< Updated upstream
   "execution_count": 282,
   "id": "8fae1bc5",
=======
   "execution_count": 19,
   "id": "23a2072e",
>>>>>>> Stashed changes
   "metadata": {},
   "outputs": [],
   "source": [
    "treatment = 'tr'\n",
    "outcome = 'z_all_06'\n",
    "covariates = [\"s1age_head_05\",\"s1hhsize_05\",\"s1hhsz_undr5_05\",\"s1hhsz_5_14_05\",\n",
    "        \"s1hhsz_15_24_05\",\"s1hhsz_25_64_05\",\"s1hhsz_65plus_05\",\"s1male_head_05\",\"s2mother_inhs_05\",\"s3ap5_rooms_h_05\",\n",
    "        \"s3ap23_stime_h_05\",\"s3ap24_htime_h_05\",\"s3ap25_hqtime_h_05\",\"s3atoilet_hh_05\",\"s3awater_access_hh_05\",\n",
    "        \"s3aelectric_hh_05\",\"s4p6_vitamina_i_05\",\"s4p7_parasite_i_05\",\"s11ownland_hh_05\",\"cons_food_pc_05\",\"cons_tot_pc_05\",\n",
    "        \"tvip_05\",\"height_05\",\"a10whz_05\",\"weight_05\",\"itt_i\",\"itt_all_i\",\"yrsedfath\",\"age_transfer\",\"bweight\",\n",
    "        \"s4p7_parasite_i_06\",\"male\",\"TREAT1\",\"TREAT2\",\"TREAT3\",\"TREAT4\",\"ed_mom\",\"MUN1\",\"MUN2\",\"MUN3\",\"MUN4\",\n",
    "        \"MUN5\",\"MUN6\",\"com_haz_05\",\"com_waz_05\",\"com_tvip_05\",\"com_control_05\",\"com_vit_05\",\"com_deworm_05\",\"com_notvip\",\n",
    "        \"sample06\",\"vitamiron_06\",\n",
    "        \"propfood_05\",\"prstap_f_05\",\"pranimalprot_f_05\",\"prfruitveg_f_05\"]"
   ]
  },
  {
   "cell_type": "code",
<<<<<<< Updated upstream
   "execution_count": 283,
   "id": "804f28af",
   "metadata": {},
   "outputs": [],
   "source": [
    "cleaned_df.drop(cleaned_df[df_out.iloc[cleaned_df.index].z_all_06.isna()].index, axis=0, inplace=True)"
   ]
  },
  {
   "cell_type": "code",
   "execution_count": 284,
   "id": "b42f0fc3",
   "metadata": {},
   "outputs": [],
   "source": [
    "cleaned_df[\"z_all_06\"]=df_out.iloc[cleaned_df.index].z_all_06"
   ]
  },
  {
   "cell_type": "code",
   "execution_count": 285,
   "id": "447af8fc",
   "metadata": {},
   "outputs": [],
   "source": [
    "cp_cols=[\"hogarid_old\",\"cp_old\",\"unique_05\", \"cpmom_06\"]"
   ]
  },
  {
   "cell_type": "code",
   "execution_count": 286,
   "id": "1c10e43c",
=======
   "execution_count": 20,
   "id": "4ee06a01",
>>>>>>> Stashed changes
   "metadata": {},
   "outputs": [],
   "source": [
    "cleaned_df.drop(cp_cols, axis=1, inplace=True)"
   ]
  },
  {
   "cell_type": "code",
<<<<<<< Updated upstream
   "execution_count": 22,
   "id": "583b7d63",
=======
   "execution_count": 21,
   "id": "152ac071",
>>>>>>> Stashed changes
   "metadata": {},
   "outputs": [],
   "source": [
    "from sklearn.model_selection import train_test_split\n",
    "# split data into train and test sets \n",
    "train, test = train_test_split(cleaned_df, test_size=0.2)\n",
    "\n",
    "# set variables for causal forest Y=outcome, T=treatment, X=covariates, W=effect_modifiers \n",
    "Y = train[outcome]\n",
    "T = train[treatment]\n",
    "X = train[covariates]\n",
    "W = None\n",
    "X_test = test[covariates]"
   ]
  },
  {
   "cell_type": "code",
<<<<<<< Updated upstream
   "execution_count": null,
   "id": "5b0ca05d",
   "metadata": {},
   "outputs": [],
=======
   "execution_count": 22,
   "id": "a45c2c11",
   "metadata": {},
   "outputs": [
    {
     "data": {
      "image/png": "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\n",
      "text/latex": [
       "$\\displaystyle 0.228740087471067$"
      ],
      "text/plain": [
       "0.22874008747106722"
      ]
     },
     "execution_count": 22,
     "metadata": {},
     "output_type": "execute_result"
    }
   ],
>>>>>>> Stashed changes
   "source": [
    "from econml.dml import CausalForestDML\n",
    "from sklearn.linear_model import LassoCV\n",
    "\n",
    "# set parameters for causal forest \n",
    "causal_forest1 = CausalForestDML(criterion='het', \n",
    "                                n_estimators=10000,       \n",
    "                                min_samples_leaf=10, \n",
    "                                max_depth=None, \n",
    "                                max_samples=0.5,\n",
    "                                discrete_treatment=False,\n",
    "                                honest=True,\n",
    "                                inference=True,\n",
    "                                cv=10,\n",
    "                                model_t=LassoCV(), \n",
    "                                model_y=LassoCV(),\n",
    "                                )\n",
    "                      \n",
    "# fit train data to causal forest model \n",
    "causal_forest1.fit(Y, T, X=X, W=W)\n",
    "# estimate the CATE with the test set \n",
    "causal_forest1.const_marginal_ate(X_test)"
   ]
  },
  {
   "cell_type": "code",
<<<<<<< Updated upstream
   "execution_count": null,
   "id": "3e36db4a",
=======
   "execution_count": 23,
   "id": "17ca045d",
>>>>>>> Stashed changes
   "metadata": {},
   "outputs": [],
   "source": [
    "a=causal_forest1.effect(X)"
   ]
  },
  {
   "cell_type": "markdown",
<<<<<<< Updated upstream
   "id": "a49212fb",
=======
   "id": "65c13467",
>>>>>>> Stashed changes
   "metadata": {},
   "source": [
    "Mirem de interpretar i identificar subgrups a través de les eines d'interpretació de econML. Primer fem un decision tree naive, sembla que fa el mateix que SingleTreeCateInterpreter. Després provem aquest (SingleTreeCateInterpreter) i llavors SingleTreePolicyInterpreter"
   ]
  },
  {
   "cell_type": "code",
<<<<<<< Updated upstream
   "execution_count": null,
   "id": "cf1843e8",
=======
   "execution_count": 24,
   "id": "6697776f",
>>>>>>> Stashed changes
   "metadata": {},
   "outputs": [],
   "source": [
    "import sklearn\n",
    "from sklearn.tree import DecisionTreeRegressor\n",
    "reg = DecisionTreeRegressor(max_depth=4).fit(X,a)\n",
    "sklearn.tree.export_graphviz(reg, 'test.dot')"
   ]
  },
  {
   "cell_type": "code",
<<<<<<< Updated upstream
   "execution_count": null,
   "id": "06d4806d",
=======
   "execution_count": 25,
   "id": "e1b28b36",
>>>>>>> Stashed changes
   "metadata": {},
   "outputs": [
    {
     "data": {
      "image/svg+xml": [
       "<?xml version=\"1.0\" encoding=\"UTF-8\" standalone=\"no\"?>\n",
       "<!DOCTYPE svg PUBLIC \"-//W3C//DTD SVG 1.1//EN\"\n",
       " \"http://www.w3.org/Graphics/SVG/1.1/DTD/svg11.dtd\">\n",
       "<!-- Generated by graphviz version 3.0.0 (20220226.1711)\n",
       " -->\n",
       "<!-- Title: Tree Pages: 1 -->\n",
       "<svg width=\"2774pt\" height=\"477pt\"\n",
       " viewBox=\"0.00 0.00 2774.00 477.00\" xmlns=\"http://www.w3.org/2000/svg\" xmlns:xlink=\"http://www.w3.org/1999/xlink\">\n",
       "<g id=\"graph0\" class=\"graph\" transform=\"scale(1 1) rotate(0) translate(4 473)\">\n",
       "<title>Tree</title>\n",
       "<polygon fill=\"white\" stroke=\"transparent\" points=\"-4,4 -4,-473 2770,-473 2770,4 -4,4\"/>\n",
       "<!-- 0 -->\n",
       "<g id=\"node1\" class=\"node\">\n",
       "<title>0</title>\n",
       "<polygon fill=\"none\" stroke=\"black\" points=\"1478,-469 1319,-469 1319,-401 1478,-401 1478,-469\"/>\n",
       "<text text-anchor=\"middle\" x=\"1398.5\" y=\"-453.8\" font-family=\"Helvetica,sans-Serif\" font-size=\"14.00\">age_transfer &lt;= 66.5</text>\n",
       "<text text-anchor=\"middle\" x=\"1398.5\" y=\"-438.8\" font-family=\"Helvetica,sans-Serif\" font-size=\"14.00\">squared_error = 0.064</text>\n",
       "<text text-anchor=\"middle\" x=\"1398.5\" y=\"-423.8\" font-family=\"Helvetica,sans-Serif\" font-size=\"14.00\">samples = 2567</text>\n",
       "<text text-anchor=\"middle\" x=\"1398.5\" y=\"-408.8\" font-family=\"Helvetica,sans-Serif\" font-size=\"14.00\">value = 0.228</text>\n",
       "</g>\n",
       "<!-- 1 -->\n",
       "<g id=\"node2\" class=\"node\">\n",
       "<title>1</title>\n",
       "<polygon fill=\"none\" stroke=\"black\" points=\"1139,-365 950,-365 950,-297 1139,-297 1139,-365\"/>\n",
       "<text text-anchor=\"middle\" x=\"1044.5\" y=\"-349.8\" font-family=\"Helvetica,sans-Serif\" font-size=\"14.00\">com_deworm_05 &lt;= 0.712</text>\n",
       "<text text-anchor=\"middle\" x=\"1044.5\" y=\"-334.8\" font-family=\"Helvetica,sans-Serif\" font-size=\"14.00\">squared_error = 0.049</text>\n",
       "<text text-anchor=\"middle\" x=\"1044.5\" y=\"-319.8\" font-family=\"Helvetica,sans-Serif\" font-size=\"14.00\">samples = 2367</text>\n",
       "<text text-anchor=\"middle\" x=\"1044.5\" y=\"-304.8\" font-family=\"Helvetica,sans-Serif\" font-size=\"14.00\">value = 0.193</text>\n",
       "</g>\n",
       "<!-- 0&#45;&gt;1 -->\n",
       "<g id=\"edge1\" class=\"edge\">\n",
       "<title>0&#45;&gt;1</title>\n",
       "<path fill=\"none\" stroke=\"black\" d=\"M1318.61,-410.98C1268.4,-396.51 1203.1,-377.7 1148.82,-362.06\"/>\n",
       "<polygon fill=\"black\" stroke=\"black\" points=\"1149.75,-358.68 1139.17,-359.28 1147.81,-365.41 1149.75,-358.68\"/>\n",
       "<text text-anchor=\"middle\" x=\"1151.26\" y=\"-377.46\" font-family=\"Helvetica,sans-Serif\" font-size=\"14.00\">True</text>\n",
       "</g>\n",
       "<!-- 16 -->\n",
       "<g id=\"node17\" class=\"node\">\n",
       "<title>16</title>\n",
       "<polygon fill=\"none\" stroke=\"black\" points=\"1833.5,-365 1671.5,-365 1671.5,-297 1833.5,-297 1833.5,-365\"/>\n",
       "<text text-anchor=\"middle\" x=\"1752.5\" y=\"-349.8\" font-family=\"Helvetica,sans-Serif\" font-size=\"14.00\">com_waz_05 &lt;= 0.691</text>\n",
       "<text text-anchor=\"middle\" x=\"1752.5\" y=\"-334.8\" font-family=\"Helvetica,sans-Serif\" font-size=\"14.00\">squared_error = 0.049</text>\n",
       "<text text-anchor=\"middle\" x=\"1752.5\" y=\"-319.8\" font-family=\"Helvetica,sans-Serif\" font-size=\"14.00\">samples = 200</text>\n",
       "<text text-anchor=\"middle\" x=\"1752.5\" y=\"-304.8\" font-family=\"Helvetica,sans-Serif\" font-size=\"14.00\">value = 0.654</text>\n",
       "</g>\n",
       "<!-- 0&#45;&gt;16 -->\n",
       "<g id=\"edge16\" class=\"edge\">\n",
       "<title>0&#45;&gt;16</title>\n",
       "<path fill=\"none\" stroke=\"black\" d=\"M1478.39,-410.98C1532.84,-395.29 1605.07,-374.48 1661.71,-358.16\"/>\n",
       "<polygon fill=\"black\" stroke=\"black\" points=\"1662.73,-361.51 1671.37,-355.38 1660.79,-354.78 1662.73,-361.51\"/>\n",
       "<text text-anchor=\"middle\" x=\"1659.28\" y=\"-373.56\" font-family=\"Helvetica,sans-Serif\" font-size=\"14.00\">False</text>\n",
       "</g>\n",
       "<!-- 2 -->\n",
       "<g id=\"node3\" class=\"node\">\n",
       "<title>2</title>\n",
       "<polygon fill=\"none\" stroke=\"black\" points=\"610,-261 421,-261 421,-193 610,-193 610,-261\"/>\n",
       "<text text-anchor=\"middle\" x=\"515.5\" y=\"-245.8\" font-family=\"Helvetica,sans-Serif\" font-size=\"14.00\">com_deworm_05 &lt;= 0.301</text>\n",
       "<text text-anchor=\"middle\" x=\"515.5\" y=\"-230.8\" font-family=\"Helvetica,sans-Serif\" font-size=\"14.00\">squared_error = 0.04</text>\n",
       "<text text-anchor=\"middle\" x=\"515.5\" y=\"-215.8\" font-family=\"Helvetica,sans-Serif\" font-size=\"14.00\">samples = 2155</text>\n",
       "<text text-anchor=\"middle\" x=\"515.5\" y=\"-200.8\" font-family=\"Helvetica,sans-Serif\" font-size=\"14.00\">value = 0.222</text>\n",
       "</g>\n",
       "<!-- 1&#45;&gt;2 -->\n",
       "<g id=\"edge2\" class=\"edge\">\n",
       "<title>1&#45;&gt;2</title>\n",
       "<path fill=\"none\" stroke=\"black\" d=\"M949.93,-311.76C857.22,-293.89 716.2,-266.7 620.17,-248.18\"/>\n",
       "<polygon fill=\"black\" stroke=\"black\" points=\"620.63,-244.71 610.15,-246.25 619.3,-251.58 620.63,-244.71\"/>\n",
       "</g>\n",
       "<!-- 9 -->\n",
       "<g id=\"node10\" class=\"node\">\n",
       "<title>9</title>\n",
       "<polygon fill=\"none\" stroke=\"black\" points=\"1154,-261 935,-261 935,-193 1154,-193 1154,-261\"/>\n",
       "<text text-anchor=\"middle\" x=\"1044.5\" y=\"-245.8\" font-family=\"Helvetica,sans-Serif\" font-size=\"14.00\">cons_food_pc_05 &lt;= 2252.441</text>\n",
       "<text text-anchor=\"middle\" x=\"1044.5\" y=\"-230.8\" font-family=\"Helvetica,sans-Serif\" font-size=\"14.00\">squared_error = 0.037</text>\n",
       "<text text-anchor=\"middle\" x=\"1044.5\" y=\"-215.8\" font-family=\"Helvetica,sans-Serif\" font-size=\"14.00\">samples = 212</text>\n",
       "<text text-anchor=\"middle\" x=\"1044.5\" y=\"-200.8\" font-family=\"Helvetica,sans-Serif\" font-size=\"14.00\">value = &#45;0.105</text>\n",
       "</g>\n",
       "<!-- 1&#45;&gt;9 -->\n",
       "<g id=\"edge9\" class=\"edge\">\n",
       "<title>1&#45;&gt;9</title>\n",
       "<path fill=\"none\" stroke=\"black\" d=\"M1044.5,-296.88C1044.5,-288.78 1044.5,-279.98 1044.5,-271.47\"/>\n",
       "<polygon fill=\"black\" stroke=\"black\" points=\"1048,-271.3 1044.5,-261.3 1041,-271.3 1048,-271.3\"/>\n",
       "</g>\n",
       "<!-- 3 -->\n",
       "<g id=\"node4\" class=\"node\">\n",
       "<title>3</title>\n",
       "<polygon fill=\"none\" stroke=\"black\" points=\"328,-157 169,-157 169,-89 328,-89 328,-157\"/>\n",
       "<text text-anchor=\"middle\" x=\"248.5\" y=\"-141.8\" font-family=\"Helvetica,sans-Serif\" font-size=\"14.00\">com_notvip &lt;= 0.383</text>\n",
       "<text text-anchor=\"middle\" x=\"248.5\" y=\"-126.8\" font-family=\"Helvetica,sans-Serif\" font-size=\"14.00\">squared_error = 0.073</text>\n",
       "<text text-anchor=\"middle\" x=\"248.5\" y=\"-111.8\" font-family=\"Helvetica,sans-Serif\" font-size=\"14.00\">samples = 182</text>\n",
       "<text text-anchor=\"middle\" x=\"248.5\" y=\"-96.8\" font-family=\"Helvetica,sans-Serif\" font-size=\"14.00\">value = 0.473</text>\n",
       "</g>\n",
       "<!-- 2&#45;&gt;3 -->\n",
       "<g id=\"edge3\" class=\"edge\">\n",
       "<title>2&#45;&gt;3</title>\n",
       "<path fill=\"none\" stroke=\"black\" d=\"M428.81,-192.88C399.68,-181.76 367.15,-169.33 337.82,-158.12\"/>\n",
       "<polygon fill=\"black\" stroke=\"black\" points=\"339.01,-154.83 328.42,-154.53 336.51,-161.37 339.01,-154.83\"/>\n",
       "</g>\n",
       "<!-- 6 -->\n",
       "<g id=\"node7\" class=\"node\">\n",
       "<title>6</title>\n",
       "<polygon fill=\"none\" stroke=\"black\" points=\"597.5,-157 433.5,-157 433.5,-89 597.5,-89 597.5,-157\"/>\n",
       "<text text-anchor=\"middle\" x=\"515.5\" y=\"-141.8\" font-family=\"Helvetica,sans-Serif\" font-size=\"14.00\">com_haz_05 &lt;= &#45;1.612</text>\n",
       "<text text-anchor=\"middle\" x=\"515.5\" y=\"-126.8\" font-family=\"Helvetica,sans-Serif\" font-size=\"14.00\">squared_error = 0.031</text>\n",
       "<text text-anchor=\"middle\" x=\"515.5\" y=\"-111.8\" font-family=\"Helvetica,sans-Serif\" font-size=\"14.00\">samples = 1973</text>\n",
       "<text text-anchor=\"middle\" x=\"515.5\" y=\"-96.8\" font-family=\"Helvetica,sans-Serif\" font-size=\"14.00\">value = 0.199</text>\n",
       "</g>\n",
       "<!-- 2&#45;&gt;6 -->\n",
       "<g id=\"edge6\" class=\"edge\">\n",
       "<title>2&#45;&gt;6</title>\n",
       "<path fill=\"none\" stroke=\"black\" d=\"M515.5,-192.88C515.5,-184.78 515.5,-175.98 515.5,-167.47\"/>\n",
       "<polygon fill=\"black\" stroke=\"black\" points=\"519,-167.3 515.5,-157.3 512,-167.3 519,-167.3\"/>\n",
       "</g>\n",
       "<!-- 4 -->\n",
       "<g id=\"node5\" class=\"node\">\n",
       "<title>4</title>\n",
       "<polygon fill=\"none\" stroke=\"black\" points=\"151,-53 0,-53 0,0 151,0 151,-53\"/>\n",
       "<text text-anchor=\"middle\" x=\"75.5\" y=\"-37.8\" font-family=\"Helvetica,sans-Serif\" font-size=\"14.00\">squared_error = 0.03</text>\n",
       "<text text-anchor=\"middle\" x=\"75.5\" y=\"-22.8\" font-family=\"Helvetica,sans-Serif\" font-size=\"14.00\">samples = 103</text>\n",
       "<text text-anchor=\"middle\" x=\"75.5\" y=\"-7.8\" font-family=\"Helvetica,sans-Serif\" font-size=\"14.00\">value = 0.327</text>\n",
       "</g>\n",
       "<!-- 3&#45;&gt;4 -->\n",
       "<g id=\"edge4\" class=\"edge\">\n",
       "<title>3&#45;&gt;4</title>\n",
       "<path fill=\"none\" stroke=\"black\" d=\"M187.99,-88.95C169.66,-78.93 149.6,-67.98 131.57,-58.13\"/>\n",
       "<polygon fill=\"black\" stroke=\"black\" points=\"132.8,-54.81 122.34,-53.09 129.44,-60.95 132.8,-54.81\"/>\n",
       "</g>\n",
       "<!-- 5 -->\n",
       "<g id=\"node6\" class=\"node\">\n",
       "<title>5</title>\n",
       "<polygon fill=\"none\" stroke=\"black\" points=\"328,-53 169,-53 169,0 328,0 328,-53\"/>\n",
       "<text text-anchor=\"middle\" x=\"248.5\" y=\"-37.8\" font-family=\"Helvetica,sans-Serif\" font-size=\"14.00\">squared_error = 0.065</text>\n",
       "<text text-anchor=\"middle\" x=\"248.5\" y=\"-22.8\" font-family=\"Helvetica,sans-Serif\" font-size=\"14.00\">samples = 79</text>\n",
       "<text text-anchor=\"middle\" x=\"248.5\" y=\"-7.8\" font-family=\"Helvetica,sans-Serif\" font-size=\"14.00\">value = 0.663</text>\n",
       "</g>\n",
       "<!-- 3&#45;&gt;5 -->\n",
       "<g id=\"edge5\" class=\"edge\">\n",
       "<title>3&#45;&gt;5</title>\n",
       "<path fill=\"none\" stroke=\"black\" d=\"M248.5,-88.95C248.5,-80.72 248.5,-71.85 248.5,-63.48\"/>\n",
       "<polygon fill=\"black\" stroke=\"black\" points=\"252,-63.24 248.5,-53.24 245,-63.24 252,-63.24\"/>\n",
       "</g>\n",
       "<!-- 7 -->\n",
       "<g id=\"node8\" class=\"node\">\n",
       "<title>7</title>\n",
       "<polygon fill=\"none\" stroke=\"black\" points=\"505,-53 346,-53 346,0 505,0 505,-53\"/>\n",
       "<text text-anchor=\"middle\" x=\"425.5\" y=\"-37.8\" font-family=\"Helvetica,sans-Serif\" font-size=\"14.00\">squared_error = 0.034</text>\n",
       "<text text-anchor=\"middle\" x=\"425.5\" y=\"-22.8\" font-family=\"Helvetica,sans-Serif\" font-size=\"14.00\">samples = 98</text>\n",
       "<text text-anchor=\"middle\" x=\"425.5\" y=\"-7.8\" font-family=\"Helvetica,sans-Serif\" font-size=\"14.00\">value = 0.44</text>\n",
       "</g>\n",
       "<!-- 6&#45;&gt;7 -->\n",
       "<g id=\"edge7\" class=\"edge\">\n",
       "<title>6&#45;&gt;7</title>\n",
       "<path fill=\"none\" stroke=\"black\" d=\"M484.02,-88.95C475.31,-79.8 465.85,-69.87 457.13,-60.71\"/>\n",
       "<polygon fill=\"black\" stroke=\"black\" points=\"459.44,-58.06 450.01,-53.24 454.37,-62.89 459.44,-58.06\"/>\n",
       "</g>\n",
       "<!-- 8 -->\n",
       "<g id=\"node9\" class=\"node\">\n",
       "<title>8</title>\n",
       "<polygon fill=\"none\" stroke=\"black\" points=\"682,-53 523,-53 523,0 682,0 682,-53\"/>\n",
       "<text text-anchor=\"middle\" x=\"602.5\" y=\"-37.8\" font-family=\"Helvetica,sans-Serif\" font-size=\"14.00\">squared_error = 0.028</text>\n",
       "<text text-anchor=\"middle\" x=\"602.5\" y=\"-22.8\" font-family=\"Helvetica,sans-Serif\" font-size=\"14.00\">samples = 1875</text>\n",
       "<text text-anchor=\"middle\" x=\"602.5\" y=\"-7.8\" font-family=\"Helvetica,sans-Serif\" font-size=\"14.00\">value = 0.186</text>\n",
       "</g>\n",
       "<!-- 6&#45;&gt;8 -->\n",
       "<g id=\"edge8\" class=\"edge\">\n",
       "<title>6&#45;&gt;8</title>\n",
       "<path fill=\"none\" stroke=\"black\" d=\"M545.93,-88.95C554.35,-79.8 563.49,-69.87 571.92,-60.71\"/>\n",
       "<polygon fill=\"black\" stroke=\"black\" points=\"574.61,-62.96 578.81,-53.24 569.46,-58.22 574.61,-62.96\"/>\n",
       "</g>\n",
       "<!-- 10 -->\n",
       "<g id=\"node11\" class=\"node\">\n",
       "<title>10</title>\n",
       "<polygon fill=\"none\" stroke=\"black\" points=\"1036,-157 877,-157 877,-89 1036,-89 1036,-157\"/>\n",
       "<text text-anchor=\"middle\" x=\"956.5\" y=\"-141.8\" font-family=\"Helvetica,sans-Serif\" font-size=\"14.00\">age_transfer &lt;= 33.5</text>\n",
       "<text text-anchor=\"middle\" x=\"956.5\" y=\"-126.8\" font-family=\"Helvetica,sans-Serif\" font-size=\"14.00\">squared_error = 0.039</text>\n",
       "<text text-anchor=\"middle\" x=\"956.5\" y=\"-111.8\" font-family=\"Helvetica,sans-Serif\" font-size=\"14.00\">samples = 104</text>\n",
       "<text text-anchor=\"middle\" x=\"956.5\" y=\"-96.8\" font-family=\"Helvetica,sans-Serif\" font-size=\"14.00\">value = &#45;0.195</text>\n",
       "</g>\n",
       "<!-- 9&#45;&gt;10 -->\n",
       "<g id=\"edge10\" class=\"edge\">\n",
       "<title>9&#45;&gt;10</title>\n",
       "<path fill=\"none\" stroke=\"black\" d=\"M1015.93,-192.88C1008.24,-183.98 999.84,-174.24 991.84,-164.96\"/>\n",
       "<polygon fill=\"black\" stroke=\"black\" points=\"994.41,-162.58 985.23,-157.3 989.11,-167.16 994.41,-162.58\"/>\n",
       "</g>\n",
       "<!-- 13 -->\n",
       "<g id=\"node14\" class=\"node\">\n",
       "<title>13</title>\n",
       "<polygon fill=\"none\" stroke=\"black\" points=\"1209,-157 1058,-157 1058,-89 1209,-89 1209,-157\"/>\n",
       "<text text-anchor=\"middle\" x=\"1133.5\" y=\"-141.8\" font-family=\"Helvetica,sans-Serif\" font-size=\"14.00\">com_notvip &lt;= 0.414</text>\n",
       "<text text-anchor=\"middle\" x=\"1133.5\" y=\"-126.8\" font-family=\"Helvetica,sans-Serif\" font-size=\"14.00\">squared_error = 0.02</text>\n",
       "<text text-anchor=\"middle\" x=\"1133.5\" y=\"-111.8\" font-family=\"Helvetica,sans-Serif\" font-size=\"14.00\">samples = 108</text>\n",
       "<text text-anchor=\"middle\" x=\"1133.5\" y=\"-96.8\" font-family=\"Helvetica,sans-Serif\" font-size=\"14.00\">value = &#45;0.018</text>\n",
       "</g>\n",
       "<!-- 9&#45;&gt;13 -->\n",
       "<g id=\"edge13\" class=\"edge\">\n",
       "<title>9&#45;&gt;13</title>\n",
       "<path fill=\"none\" stroke=\"black\" d=\"M1073.4,-192.88C1081.17,-183.98 1089.67,-174.24 1097.76,-164.96\"/>\n",
       "<polygon fill=\"black\" stroke=\"black\" points=\"1100.51,-167.14 1104.44,-157.3 1095.23,-162.53 1100.51,-167.14\"/>\n",
       "</g>\n",
       "<!-- 11 -->\n",
       "<g id=\"node12\" class=\"node\">\n",
       "<title>11</title>\n",
       "<polygon fill=\"none\" stroke=\"black\" points=\"859,-53 700,-53 700,0 859,0 859,-53\"/>\n",
       "<text text-anchor=\"middle\" x=\"779.5\" y=\"-37.8\" font-family=\"Helvetica,sans-Serif\" font-size=\"14.00\">squared_error = 0.034</text>\n",
       "<text text-anchor=\"middle\" x=\"779.5\" y=\"-22.8\" font-family=\"Helvetica,sans-Serif\" font-size=\"14.00\">samples = 49</text>\n",
       "<text text-anchor=\"middle\" x=\"779.5\" y=\"-7.8\" font-family=\"Helvetica,sans-Serif\" font-size=\"14.00\">value = &#45;0.297</text>\n",
       "</g>\n",
       "<!-- 10&#45;&gt;11 -->\n",
       "<g id=\"edge11\" class=\"edge\">\n",
       "<title>10&#45;&gt;11</title>\n",
       "<path fill=\"none\" stroke=\"black\" d=\"M894.59,-88.95C875.66,-78.84 854.94,-67.78 836.36,-57.86\"/>\n",
       "<polygon fill=\"black\" stroke=\"black\" points=\"837.89,-54.71 827.42,-53.09 834.6,-60.88 837.89,-54.71\"/>\n",
       "</g>\n",
       "<!-- 12 -->\n",
       "<g id=\"node13\" class=\"node\">\n",
       "<title>12</title>\n",
       "<polygon fill=\"none\" stroke=\"black\" points=\"1036,-53 877,-53 877,0 1036,0 1036,-53\"/>\n",
       "<text text-anchor=\"middle\" x=\"956.5\" y=\"-37.8\" font-family=\"Helvetica,sans-Serif\" font-size=\"14.00\">squared_error = 0.026</text>\n",
       "<text text-anchor=\"middle\" x=\"956.5\" y=\"-22.8\" font-family=\"Helvetica,sans-Serif\" font-size=\"14.00\">samples = 55</text>\n",
       "<text text-anchor=\"middle\" x=\"956.5\" y=\"-7.8\" font-family=\"Helvetica,sans-Serif\" font-size=\"14.00\">value = &#45;0.105</text>\n",
       "</g>\n",
       "<!-- 10&#45;&gt;12 -->\n",
       "<g id=\"edge12\" class=\"edge\">\n",
       "<title>10&#45;&gt;12</title>\n",
       "<path fill=\"none\" stroke=\"black\" d=\"M956.5,-88.95C956.5,-80.72 956.5,-71.85 956.5,-63.48\"/>\n",
       "<polygon fill=\"black\" stroke=\"black\" points=\"960,-63.24 956.5,-53.24 953,-63.24 960,-63.24\"/>\n",
       "</g>\n",
       "<!-- 14 -->\n",
       "<g id=\"node15\" class=\"node\">\n",
       "<title>14</title>\n",
       "<polygon fill=\"none\" stroke=\"black\" points=\"1213,-53 1054,-53 1054,0 1213,0 1213,-53\"/>\n",
       "<text text-anchor=\"middle\" x=\"1133.5\" y=\"-37.8\" font-family=\"Helvetica,sans-Serif\" font-size=\"14.00\">squared_error = 0.014</text>\n",
       "<text text-anchor=\"middle\" x=\"1133.5\" y=\"-22.8\" font-family=\"Helvetica,sans-Serif\" font-size=\"14.00\">samples = 93</text>\n",
       "<text text-anchor=\"middle\" x=\"1133.5\" y=\"-7.8\" font-family=\"Helvetica,sans-Serif\" font-size=\"14.00\">value = &#45;0.048</text>\n",
       "</g>\n",
       "<!-- 13&#45;&gt;14 -->\n",
       "<g id=\"edge14\" class=\"edge\">\n",
       "<title>13&#45;&gt;14</title>\n",
       "<path fill=\"none\" stroke=\"black\" d=\"M1133.5,-88.95C1133.5,-80.72 1133.5,-71.85 1133.5,-63.48\"/>\n",
       "<polygon fill=\"black\" stroke=\"black\" points=\"1137,-63.24 1133.5,-53.24 1130,-63.24 1137,-63.24\"/>\n",
       "</g>\n",
       "<!-- 15 -->\n",
       "<g id=\"node16\" class=\"node\">\n",
       "<title>15</title>\n",
       "<polygon fill=\"none\" stroke=\"black\" points=\"1390,-53 1231,-53 1231,0 1390,0 1390,-53\"/>\n",
       "<text text-anchor=\"middle\" x=\"1310.5\" y=\"-37.8\" font-family=\"Helvetica,sans-Serif\" font-size=\"14.00\">squared_error = 0.019</text>\n",
       "<text text-anchor=\"middle\" x=\"1310.5\" y=\"-22.8\" font-family=\"Helvetica,sans-Serif\" font-size=\"14.00\">samples = 15</text>\n",
       "<text text-anchor=\"middle\" x=\"1310.5\" y=\"-7.8\" font-family=\"Helvetica,sans-Serif\" font-size=\"14.00\">value = 0.168</text>\n",
       "</g>\n",
       "<!-- 13&#45;&gt;15 -->\n",
       "<g id=\"edge15\" class=\"edge\">\n",
       "<title>13&#45;&gt;15</title>\n",
       "<path fill=\"none\" stroke=\"black\" d=\"M1195.41,-88.95C1214.34,-78.84 1235.06,-67.78 1253.64,-57.86\"/>\n",
       "<polygon fill=\"black\" stroke=\"black\" points=\"1255.4,-60.88 1262.58,-53.09 1252.11,-54.71 1255.4,-60.88\"/>\n",
       "</g>\n",
       "<!-- 17 -->\n",
       "<g id=\"node18\" class=\"node\">\n",
       "<title>17</title>\n",
       "<polygon fill=\"none\" stroke=\"black\" points=\"1832,-261 1673,-261 1673,-193 1832,-193 1832,-261\"/>\n",
       "<text text-anchor=\"middle\" x=\"1752.5\" y=\"-245.8\" font-family=\"Helvetica,sans-Serif\" font-size=\"14.00\">com_notvip &lt;= 0.437</text>\n",
       "<text text-anchor=\"middle\" x=\"1752.5\" y=\"-230.8\" font-family=\"Helvetica,sans-Serif\" font-size=\"14.00\">squared_error = 0.034</text>\n",
       "<text text-anchor=\"middle\" x=\"1752.5\" y=\"-215.8\" font-family=\"Helvetica,sans-Serif\" font-size=\"14.00\">samples = 145</text>\n",
       "<text text-anchor=\"middle\" x=\"1752.5\" y=\"-200.8\" font-family=\"Helvetica,sans-Serif\" font-size=\"14.00\">value = 0.728</text>\n",
       "</g>\n",
       "<!-- 16&#45;&gt;17 -->\n",
       "<g id=\"edge17\" class=\"edge\">\n",
       "<title>16&#45;&gt;17</title>\n",
       "<path fill=\"none\" stroke=\"black\" d=\"M1752.5,-296.88C1752.5,-288.78 1752.5,-279.98 1752.5,-271.47\"/>\n",
       "<polygon fill=\"black\" stroke=\"black\" points=\"1756,-271.3 1752.5,-261.3 1749,-271.3 1756,-271.3\"/>\n",
       "</g>\n",
       "<!-- 24 -->\n",
       "<g id=\"node25\" class=\"node\">\n",
       "<title>24</title>\n",
       "<polygon fill=\"none\" stroke=\"black\" points=\"2327.5,-261 2163.5,-261 2163.5,-193 2327.5,-193 2327.5,-261\"/>\n",
       "<text text-anchor=\"middle\" x=\"2245.5\" y=\"-245.8\" font-family=\"Helvetica,sans-Serif\" font-size=\"14.00\">com_haz_05 &lt;= &#45;0.096</text>\n",
       "<text text-anchor=\"middle\" x=\"2245.5\" y=\"-230.8\" font-family=\"Helvetica,sans-Serif\" font-size=\"14.00\">squared_error = 0.039</text>\n",
       "<text text-anchor=\"middle\" x=\"2245.5\" y=\"-215.8\" font-family=\"Helvetica,sans-Serif\" font-size=\"14.00\">samples = 55</text>\n",
       "<text text-anchor=\"middle\" x=\"2245.5\" y=\"-200.8\" font-family=\"Helvetica,sans-Serif\" font-size=\"14.00\">value = 0.461</text>\n",
       "</g>\n",
       "<!-- 16&#45;&gt;24 -->\n",
       "<g id=\"edge24\" class=\"edge\">\n",
       "<title>16&#45;&gt;24</title>\n",
       "<path fill=\"none\" stroke=\"black\" d=\"M1833.63,-313.21C1921.58,-295.02 2061.66,-266.04 2153.61,-247.01\"/>\n",
       "<polygon fill=\"black\" stroke=\"black\" points=\"2154.38,-250.43 2163.46,-244.97 2152.96,-243.57 2154.38,-250.43\"/>\n",
       "</g>\n",
       "<!-- 18 -->\n",
       "<g id=\"node19\" class=\"node\">\n",
       "<title>18</title>\n",
       "<polygon fill=\"none\" stroke=\"black\" points=\"1744,-157 1585,-157 1585,-89 1744,-89 1744,-157\"/>\n",
       "<text text-anchor=\"middle\" x=\"1664.5\" y=\"-141.8\" font-family=\"Helvetica,sans-Serif\" font-size=\"14.00\">com_notvip &lt;= 0.115</text>\n",
       "<text text-anchor=\"middle\" x=\"1664.5\" y=\"-126.8\" font-family=\"Helvetica,sans-Serif\" font-size=\"14.00\">squared_error = 0.028</text>\n",
       "<text text-anchor=\"middle\" x=\"1664.5\" y=\"-111.8\" font-family=\"Helvetica,sans-Serif\" font-size=\"14.00\">samples = 135</text>\n",
       "<text text-anchor=\"middle\" x=\"1664.5\" y=\"-96.8\" font-family=\"Helvetica,sans-Serif\" font-size=\"14.00\">value = 0.707</text>\n",
       "</g>\n",
       "<!-- 17&#45;&gt;18 -->\n",
       "<g id=\"edge18\" class=\"edge\">\n",
       "<title>17&#45;&gt;18</title>\n",
       "<path fill=\"none\" stroke=\"black\" d=\"M1723.93,-192.88C1716.24,-183.98 1707.84,-174.24 1699.84,-164.96\"/>\n",
       "<polygon fill=\"black\" stroke=\"black\" points=\"1702.41,-162.58 1693.23,-157.3 1697.11,-167.16 1702.41,-162.58\"/>\n",
       "</g>\n",
       "<!-- 21 -->\n",
       "<g id=\"node22\" class=\"node\">\n",
       "<title>21</title>\n",
       "<polygon fill=\"none\" stroke=\"black\" points=\"1921,-157 1762,-157 1762,-89 1921,-89 1921,-157\"/>\n",
       "<text text-anchor=\"middle\" x=\"1841.5\" y=\"-141.8\" font-family=\"Helvetica,sans-Serif\" font-size=\"14.00\">age_transfer &lt;= 69.5</text>\n",
       "<text text-anchor=\"middle\" x=\"1841.5\" y=\"-126.8\" font-family=\"Helvetica,sans-Serif\" font-size=\"14.00\">squared_error = 0.022</text>\n",
       "<text text-anchor=\"middle\" x=\"1841.5\" y=\"-111.8\" font-family=\"Helvetica,sans-Serif\" font-size=\"14.00\">samples = 10</text>\n",
       "<text text-anchor=\"middle\" x=\"1841.5\" y=\"-96.8\" font-family=\"Helvetica,sans-Serif\" font-size=\"14.00\">value = 1.012</text>\n",
       "</g>\n",
       "<!-- 17&#45;&gt;21 -->\n",
       "<g id=\"edge21\" class=\"edge\">\n",
       "<title>17&#45;&gt;21</title>\n",
       "<path fill=\"none\" stroke=\"black\" d=\"M1781.4,-192.88C1789.17,-183.98 1797.67,-174.24 1805.76,-164.96\"/>\n",
       "<polygon fill=\"black\" stroke=\"black\" points=\"1808.51,-167.14 1812.44,-157.3 1803.23,-162.53 1808.51,-167.14\"/>\n",
       "</g>\n",
       "<!-- 19 -->\n",
       "<g id=\"node20\" class=\"node\">\n",
       "<title>19</title>\n",
       "<polygon fill=\"none\" stroke=\"black\" points=\"1567,-53 1408,-53 1408,0 1567,0 1567,-53\"/>\n",
       "<text text-anchor=\"middle\" x=\"1487.5\" y=\"-37.8\" font-family=\"Helvetica,sans-Serif\" font-size=\"14.00\">squared_error = 0.026</text>\n",
       "<text text-anchor=\"middle\" x=\"1487.5\" y=\"-22.8\" font-family=\"Helvetica,sans-Serif\" font-size=\"14.00\">samples = 24</text>\n",
       "<text text-anchor=\"middle\" x=\"1487.5\" y=\"-7.8\" font-family=\"Helvetica,sans-Serif\" font-size=\"14.00\">value = 0.572</text>\n",
       "</g>\n",
       "<!-- 18&#45;&gt;19 -->\n",
       "<g id=\"edge19\" class=\"edge\">\n",
       "<title>18&#45;&gt;19</title>\n",
       "<path fill=\"none\" stroke=\"black\" d=\"M1602.59,-88.95C1583.66,-78.84 1562.94,-67.78 1544.36,-57.86\"/>\n",
       "<polygon fill=\"black\" stroke=\"black\" points=\"1545.89,-54.71 1535.42,-53.09 1542.6,-60.88 1545.89,-54.71\"/>\n",
       "</g>\n",
       "<!-- 20 -->\n",
       "<g id=\"node21\" class=\"node\">\n",
       "<title>20</title>\n",
       "<polygon fill=\"none\" stroke=\"black\" points=\"1744,-53 1585,-53 1585,0 1744,0 1744,-53\"/>\n",
       "<text text-anchor=\"middle\" x=\"1664.5\" y=\"-37.8\" font-family=\"Helvetica,sans-Serif\" font-size=\"14.00\">squared_error = 0.024</text>\n",
       "<text text-anchor=\"middle\" x=\"1664.5\" y=\"-22.8\" font-family=\"Helvetica,sans-Serif\" font-size=\"14.00\">samples = 111</text>\n",
       "<text text-anchor=\"middle\" x=\"1664.5\" y=\"-7.8\" font-family=\"Helvetica,sans-Serif\" font-size=\"14.00\">value = 0.736</text>\n",
       "</g>\n",
       "<!-- 18&#45;&gt;20 -->\n",
       "<g id=\"edge20\" class=\"edge\">\n",
       "<title>18&#45;&gt;20</title>\n",
       "<path fill=\"none\" stroke=\"black\" d=\"M1664.5,-88.95C1664.5,-80.72 1664.5,-71.85 1664.5,-63.48\"/>\n",
       "<polygon fill=\"black\" stroke=\"black\" points=\"1668,-63.24 1664.5,-53.24 1661,-63.24 1668,-63.24\"/>\n",
       "</g>\n",
       "<!-- 22 -->\n",
       "<g id=\"node23\" class=\"node\">\n",
       "<title>22</title>\n",
       "<polygon fill=\"none\" stroke=\"black\" points=\"1921,-53 1762,-53 1762,0 1921,0 1921,-53\"/>\n",
       "<text text-anchor=\"middle\" x=\"1841.5\" y=\"-37.8\" font-family=\"Helvetica,sans-Serif\" font-size=\"14.00\">squared_error = 0.011</text>\n",
       "<text text-anchor=\"middle\" x=\"1841.5\" y=\"-22.8\" font-family=\"Helvetica,sans-Serif\" font-size=\"14.00\">samples = 8</text>\n",
       "<text text-anchor=\"middle\" x=\"1841.5\" y=\"-7.8\" font-family=\"Helvetica,sans-Serif\" font-size=\"14.00\">value = 0.955</text>\n",
       "</g>\n",
       "<!-- 21&#45;&gt;22 -->\n",
       "<g id=\"edge22\" class=\"edge\">\n",
       "<title>21&#45;&gt;22</title>\n",
       "<path fill=\"none\" stroke=\"black\" d=\"M1841.5,-88.95C1841.5,-80.72 1841.5,-71.85 1841.5,-63.48\"/>\n",
       "<polygon fill=\"black\" stroke=\"black\" points=\"1845,-63.24 1841.5,-53.24 1838,-63.24 1845,-63.24\"/>\n",
       "</g>\n",
       "<!-- 23 -->\n",
       "<g id=\"node24\" class=\"node\">\n",
       "<title>23</title>\n",
       "<polygon fill=\"none\" stroke=\"black\" points=\"2082,-53 1939,-53 1939,0 2082,0 2082,-53\"/>\n",
       "<text text-anchor=\"middle\" x=\"2010.5\" y=\"-37.8\" font-family=\"Helvetica,sans-Serif\" font-size=\"14.00\">squared_error = 0.0</text>\n",
       "<text text-anchor=\"middle\" x=\"2010.5\" y=\"-22.8\" font-family=\"Helvetica,sans-Serif\" font-size=\"14.00\">samples = 2</text>\n",
       "<text text-anchor=\"middle\" x=\"2010.5\" y=\"-7.8\" font-family=\"Helvetica,sans-Serif\" font-size=\"14.00\">value = 1.24</text>\n",
       "</g>\n",
       "<!-- 21&#45;&gt;23 -->\n",
       "<g id=\"edge23\" class=\"edge\">\n",
       "<title>21&#45;&gt;23</title>\n",
       "<path fill=\"none\" stroke=\"black\" d=\"M1900.61,-88.95C1918.52,-78.93 1938.11,-67.98 1955.73,-58.13\"/>\n",
       "<polygon fill=\"black\" stroke=\"black\" points=\"1957.72,-61.02 1964.74,-53.09 1954.31,-54.91 1957.72,-61.02\"/>\n",
       "</g>\n",
       "<!-- 25 -->\n",
       "<g id=\"node26\" class=\"node\">\n",
       "<title>25</title>\n",
       "<polygon fill=\"none\" stroke=\"black\" points=\"2350,-157 2141,-157 2141,-89 2350,-89 2350,-157\"/>\n",
       "<text text-anchor=\"middle\" x=\"2245.5\" y=\"-141.8\" font-family=\"Helvetica,sans-Serif\" font-size=\"14.00\">s3ap25_hqtime_h_05 &lt;= 2.25</text>\n",
       "<text text-anchor=\"middle\" x=\"2245.5\" y=\"-126.8\" font-family=\"Helvetica,sans-Serif\" font-size=\"14.00\">squared_error = 0.042</text>\n",
       "<text text-anchor=\"middle\" x=\"2245.5\" y=\"-111.8\" font-family=\"Helvetica,sans-Serif\" font-size=\"14.00\">samples = 5</text>\n",
       "<text text-anchor=\"middle\" x=\"2245.5\" y=\"-96.8\" font-family=\"Helvetica,sans-Serif\" font-size=\"14.00\">value = 0.124</text>\n",
       "</g>\n",
       "<!-- 24&#45;&gt;25 -->\n",
       "<g id=\"edge25\" class=\"edge\">\n",
       "<title>24&#45;&gt;25</title>\n",
       "<path fill=\"none\" stroke=\"black\" d=\"M2245.5,-192.88C2245.5,-184.78 2245.5,-175.98 2245.5,-167.47\"/>\n",
       "<polygon fill=\"black\" stroke=\"black\" points=\"2249,-167.3 2245.5,-157.3 2242,-167.3 2249,-167.3\"/>\n",
       "</g>\n",
       "<!-- 28 -->\n",
       "<g id=\"node29\" class=\"node\">\n",
       "<title>28</title>\n",
       "<polygon fill=\"none\" stroke=\"black\" points=\"2607.5,-157 2435.5,-157 2435.5,-89 2607.5,-89 2607.5,-157\"/>\n",
       "<text text-anchor=\"middle\" x=\"2521.5\" y=\"-141.8\" font-family=\"Helvetica,sans-Serif\" font-size=\"14.00\">s1hhsz_5_14_05 &lt;= 7.5</text>\n",
       "<text text-anchor=\"middle\" x=\"2521.5\" y=\"-126.8\" font-family=\"Helvetica,sans-Serif\" font-size=\"14.00\">squared_error = 0.026</text>\n",
       "<text text-anchor=\"middle\" x=\"2521.5\" y=\"-111.8\" font-family=\"Helvetica,sans-Serif\" font-size=\"14.00\">samples = 50</text>\n",
       "<text text-anchor=\"middle\" x=\"2521.5\" y=\"-96.8\" font-family=\"Helvetica,sans-Serif\" font-size=\"14.00\">value = 0.494</text>\n",
       "</g>\n",
       "<!-- 24&#45;&gt;28 -->\n",
       "<g id=\"edge28\" class=\"edge\">\n",
       "<title>24&#45;&gt;28</title>\n",
       "<path fill=\"none\" stroke=\"black\" d=\"M2327.56,-195.67C2358.51,-184.23 2393.98,-171.13 2426.05,-159.28\"/>\n",
       "<polygon fill=\"black\" stroke=\"black\" points=\"2427.27,-162.55 2435.44,-155.8 2424.85,-155.99 2427.27,-162.55\"/>\n",
       "</g>\n",
       "<!-- 26 -->\n",
       "<g id=\"node27\" class=\"node\">\n",
       "<title>26</title>\n",
       "<polygon fill=\"none\" stroke=\"black\" points=\"2259,-53 2100,-53 2100,0 2259,0 2259,-53\"/>\n",
       "<text text-anchor=\"middle\" x=\"2179.5\" y=\"-37.8\" font-family=\"Helvetica,sans-Serif\" font-size=\"14.00\">squared_error = 0.005</text>\n",
       "<text text-anchor=\"middle\" x=\"2179.5\" y=\"-22.8\" font-family=\"Helvetica,sans-Serif\" font-size=\"14.00\">samples = 4</text>\n",
       "<text text-anchor=\"middle\" x=\"2179.5\" y=\"-7.8\" font-family=\"Helvetica,sans-Serif\" font-size=\"14.00\">value = 0.221</text>\n",
       "</g>\n",
       "<!-- 25&#45;&gt;26 -->\n",
       "<g id=\"edge26\" class=\"edge\">\n",
       "<title>25&#45;&gt;26</title>\n",
       "<path fill=\"none\" stroke=\"black\" d=\"M2222.42,-88.95C2216.22,-80.07 2209.51,-70.46 2203.27,-61.54\"/>\n",
       "<polygon fill=\"black\" stroke=\"black\" points=\"2206.07,-59.43 2197.47,-53.24 2200.33,-63.44 2206.07,-59.43\"/>\n",
       "</g>\n",
       "<!-- 27 -->\n",
       "<g id=\"node28\" class=\"node\">\n",
       "<title>27</title>\n",
       "<polygon fill=\"none\" stroke=\"black\" points=\"2424,-53 2277,-53 2277,0 2424,0 2424,-53\"/>\n",
       "<text text-anchor=\"middle\" x=\"2350.5\" y=\"-37.8\" font-family=\"Helvetica,sans-Serif\" font-size=\"14.00\">squared_error = &#45;0.0</text>\n",
       "<text text-anchor=\"middle\" x=\"2350.5\" y=\"-22.8\" font-family=\"Helvetica,sans-Serif\" font-size=\"14.00\">samples = 1</text>\n",
       "<text text-anchor=\"middle\" x=\"2350.5\" y=\"-7.8\" font-family=\"Helvetica,sans-Serif\" font-size=\"14.00\">value = &#45;0.268</text>\n",
       "</g>\n",
       "<!-- 25&#45;&gt;27 -->\n",
       "<g id=\"edge27\" class=\"edge\">\n",
       "<title>25&#45;&gt;27</title>\n",
       "<path fill=\"none\" stroke=\"black\" d=\"M2282.22,-88.95C2292.59,-79.62 2303.86,-69.47 2314.21,-60.16\"/>\n",
       "<polygon fill=\"black\" stroke=\"black\" points=\"2316.81,-62.53 2321.9,-53.24 2312.13,-57.32 2316.81,-62.53\"/>\n",
       "</g>\n",
       "<!-- 29 -->\n",
       "<g id=\"node30\" class=\"node\">\n",
       "<title>29</title>\n",
       "<polygon fill=\"none\" stroke=\"black\" points=\"2601,-53 2442,-53 2442,0 2601,0 2601,-53\"/>\n",
       "<text text-anchor=\"middle\" x=\"2521.5\" y=\"-37.8\" font-family=\"Helvetica,sans-Serif\" font-size=\"14.00\">squared_error = 0.022</text>\n",
       "<text text-anchor=\"middle\" x=\"2521.5\" y=\"-22.8\" font-family=\"Helvetica,sans-Serif\" font-size=\"14.00\">samples = 49</text>\n",
       "<text text-anchor=\"middle\" x=\"2521.5\" y=\"-7.8\" font-family=\"Helvetica,sans-Serif\" font-size=\"14.00\">value = 0.504</text>\n",
       "</g>\n",
       "<!-- 28&#45;&gt;29 -->\n",
       "<g id=\"edge29\" class=\"edge\">\n",
       "<title>28&#45;&gt;29</title>\n",
       "<path fill=\"none\" stroke=\"black\" d=\"M2521.5,-88.95C2521.5,-80.72 2521.5,-71.85 2521.5,-63.48\"/>\n",
       "<polygon fill=\"black\" stroke=\"black\" points=\"2525,-63.24 2521.5,-53.24 2518,-63.24 2525,-63.24\"/>\n",
       "</g>\n",
       "<!-- 30 -->\n",
       "<g id=\"node31\" class=\"node\">\n",
       "<title>30</title>\n",
       "<polygon fill=\"none\" stroke=\"black\" points=\"2766,-53 2619,-53 2619,0 2766,0 2766,-53\"/>\n",
       "<text text-anchor=\"middle\" x=\"2692.5\" y=\"-37.8\" font-family=\"Helvetica,sans-Serif\" font-size=\"14.00\">squared_error = &#45;0.0</text>\n",
       "<text text-anchor=\"middle\" x=\"2692.5\" y=\"-22.8\" font-family=\"Helvetica,sans-Serif\" font-size=\"14.00\">samples = 1</text>\n",
       "<text text-anchor=\"middle\" x=\"2692.5\" y=\"-7.8\" font-family=\"Helvetica,sans-Serif\" font-size=\"14.00\">value = 0.016</text>\n",
       "</g>\n",
       "<!-- 28&#45;&gt;30 -->\n",
       "<g id=\"edge30\" class=\"edge\">\n",
       "<title>28&#45;&gt;30</title>\n",
       "<path fill=\"none\" stroke=\"black\" d=\"M2581.31,-88.95C2599.43,-78.93 2619.26,-67.98 2637.08,-58.13\"/>\n",
       "<polygon fill=\"black\" stroke=\"black\" points=\"2639.14,-60.99 2646.2,-53.09 2635.75,-54.86 2639.14,-60.99\"/>\n",
       "</g>\n",
       "</g>\n",
       "</svg>\n"
      ],
      "text/plain": [
       "<graphviz.sources.Source at 0x2208a786880>"
      ]
     },
     "execution_count": 25,
     "metadata": {},
     "output_type": "execute_result"
    }
   ],
   "source": [
    "import graphviz\n",
    "import os \n",
    "os.environ[\"PATH\"] += os.pathsep + 'C:\\Program Files\\Graphviz/bin/'\n",
    "# DOT data\n",
    "dot_data = sklearn.tree.export_graphviz(reg, out_file=None, \n",
    "                                feature_names=covariates) \n",
    "                                #class_names=iris.target_names,\n",
    "                                #filled=True)\n",
    "\n",
    "# Draw graph\n",
    "graph = graphviz.Source(dot_data, format=\"png\") \n",
    "graph\n"
   ]
  },
  {
   "cell_type": "code",
<<<<<<< Updated upstream
   "execution_count": null,
   "id": "3c294799",
=======
   "execution_count": 26,
   "id": "742fa1b6",
>>>>>>> Stashed changes
   "metadata": {},
   "outputs": [
    {
     "name": "stderr",
     "output_type": "stream",
     "text": [
      "Criterion 'mse' was deprecated in v1.0 and will be removed in version 1.2. Use `criterion='squared_error'` which is equivalent.\n"
     ]
    }
   ],
   "source": [
    "from econml.cate_interpreter import SingleTreeCateInterpreter\n",
    "from econml.dml import LinearDML\n",
    "\n",
    "intrp = SingleTreeCateInterpreter(include_model_uncertainty=True, max_depth=3, min_samples_leaf=10)\n",
    "# We interpret the CATE model's behavior based on the features used for heterogeneity\n",
    "intrp.interpret(causal_forest1, X)\n",
    "# Plot the tree\n",
    "intrp.plot(feature_names=covariates, fontsize=12)\n",
    "intrp.plot()\n"
   ]
  },
  {
   "cell_type": "code",
<<<<<<< Updated upstream
   "execution_count": null,
   "id": "2fdac58f",
=======
   "execution_count": 27,
   "id": "11d5e421",
>>>>>>> Stashed changes
   "metadata": {},
   "outputs": [],
   "source": [
    "intrp.render(\"prova1\", feature_names=covariates)"
   ]
  },
  {
   "cell_type": "code",
<<<<<<< Updated upstream
   "execution_count": null,
   "id": "d60a63f6",
=======
   "execution_count": 28,
   "id": "62938cc4",
>>>>>>> Stashed changes
   "metadata": {},
   "outputs": [
    {
     "data": {
      "text/plain": [
       "<econml.cate_interpreter._interpreters.SingleTreePolicyInterpreter at 0x2208a9f5820>"
      ]
     },
     "execution_count": 28,
     "metadata": {},
     "output_type": "execute_result"
    }
   ],
   "source": [
    "from econml.cate_interpreter import SingleTreePolicyInterpreter\n",
    "\n",
    "intrp = SingleTreePolicyInterpreter(risk_level=None, max_depth=2, min_samples_leaf=1,min_impurity_decrease=.001)\n",
    "intrp.interpret(causal_forest1, X, sample_treatment_costs=0.02)\n"
   ]
  },
  {
   "cell_type": "code",
<<<<<<< Updated upstream
   "execution_count": null,
   "id": "feb49c24",
=======
   "execution_count": 29,
   "id": "180e75bb",
>>>>>>> Stashed changes
   "metadata": {},
   "outputs": [],
   "source": [
    "intrp.render(\"prova2\", feature_names=covariates)"
   ]
  },
  {
   "cell_type": "markdown",
<<<<<<< Updated upstream
   "id": "d10a8545",
=======
   "id": "f767bcac",
>>>>>>> Stashed changes
   "metadata": {},
   "source": [
    "### SHAP"
   ]
  },
  {
   "cell_type": "code",
<<<<<<< Updated upstream
   "execution_count": null,
   "id": "e0f78747",
=======
   "execution_count": 30,
   "id": "96e86e37",
>>>>>>> Stashed changes
   "metadata": {},
   "outputs": [
    {
     "data": {
      "text/plain": [
       "sample06                 0.000000\n",
       "MUN2                     0.000058\n",
       "TREAT2                   0.000062\n",
       "MUN3                     0.000233\n",
       "s1hhsz_65plus_05         0.000375\n",
       "TREAT4                   0.000676\n",
       "TREAT1                   0.000713\n",
       "itt_i                    0.000996\n",
       "MUN5                     0.001031\n",
       "s3awater_access_hh_05    0.001343\n",
       "s1male_head_05           0.001517\n",
       "MUN6                     0.001530\n",
       "MUN1                     0.001692\n",
       "s4p7_parasite_i_06       0.002234\n",
       "s3aelectric_hh_05        0.002258\n",
       "s11ownland_hh_05         0.002520\n",
       "MUN4                     0.002531\n",
       "s3ap5_rooms_h_05         0.003024\n",
       "tvip_05                  0.003200\n",
       "itt_all_i                0.003227\n",
       "s1hhsz_25_64_05          0.003604\n",
       "s3atoilet_hh_05          0.003793\n",
       "s4p6_vitamina_i_05       0.004177\n",
       "vitamiron_06             0.004603\n",
       "s4p7_parasite_i_05       0.006165\n",
       "s1hhsz_undr5_05          0.006255\n",
       "s1hhsz_15_24_05          0.006779\n",
       "male                     0.006959\n",
       "s1hhsz_5_14_05           0.007550\n",
       "s3ap25_hqtime_h_05       0.009592\n",
       "s1hhsize_05              0.010480\n",
       "TREAT3                   0.013290\n",
       "a10whz_05                0.015891\n",
       "yrsedfath                0.017046\n",
       "s3ap23_stime_h_05        0.017393\n",
       "s3ap24_htime_h_05        0.017867\n",
       "bweight                  0.019843\n",
       "s2mother_inhs_05         0.020527\n",
       "com_vit_05               0.020796\n",
       "s1age_head_05            0.022218\n",
       "weight_05                0.022927\n",
       "ed_mom                   0.023870\n",
       "prfruitveg_f_05          0.025043\n",
       "com_tvip_05              0.027464\n",
       "pranimalprot_f_05        0.030844\n",
       "cons_tot_pc_05           0.031984\n",
       "com_control_05           0.033961\n",
       "cons_food_pc_05          0.036215\n",
       "com_haz_05               0.037303\n",
       "prstap_f_05              0.040047\n",
       "propfood_05              0.045187\n",
       "height_05                0.054228\n",
       "com_waz_05               0.057225\n",
       "com_notvip               0.062142\n",
       "com_deworm_05            0.082027\n",
       "age_transfer             0.125484\n",
       "dtype: float64"
      ]
     },
     "execution_count": 30,
     "metadata": {},
     "output_type": "execute_result"
    }
   ],
   "source": [
    "pd.Series(causal_forest1.feature_importances_,index=causal_forest1.cate_feature_names()).sort_values()"
   ]
  },
  {
   "cell_type": "code",
<<<<<<< Updated upstream
   "execution_count": null,
   "id": "c771f998",
=======
   "execution_count": 31,
   "id": "aeede77c",
>>>>>>> Stashed changes
   "metadata": {},
   "outputs": [
    {
     "name": "stderr",
     "output_type": "stream",
     "text": [
      "'normalize' was deprecated in version 1.0 and will be removed in 1.2. Please leave the normalize parameter to its default value to silence this warning. The default behavior of this estimator is to not do any normalization. If normalization is needed please use sklearn.preprocessing.StandardScaler instead.\n",
      "'normalize' was deprecated in version 1.0 and will be removed in 1.2. Please leave the normalize parameter to its default value to silence this warning. The default behavior of this estimator is to not do any normalization. If normalization is needed please use sklearn.preprocessing.StandardScaler instead.\n",
      "'normalize' was deprecated in version 1.0 and will be removed in 1.2. Please leave the normalize parameter to its default value to silence this warning. The default behavior of this estimator is to not do any normalization. If normalization is needed please use sklearn.preprocessing.StandardScaler instead.\n",
      "'normalize' was deprecated in version 1.0 and will be removed in 1.2. Please leave the normalize parameter to its default value to silence this warning. The default behavior of this estimator is to not do any normalization. If normalization is needed please use sklearn.preprocessing.StandardScaler instead.\n",
      " 97%|=================== | 2497/2567 [00:29<00:00]       "
     ]
    }
   ],
   "source": [
    "import shap\n",
    "from econml.dml import CausalForestDML\n",
    "\n",
    "# fit causal forest with default parameters \n",
    "causal_forest = CausalForestDML()\n",
    "causal_forest.fit(Y, T, X=X, W=W)\n",
    "\n",
    "# calculate shap values of causal forest model \n",
<<<<<<< Updated upstream
    "shap_values = causal_forest.shap_values(X)\n"
=======
    "shap_values = causal_forest.shap_values(X)"
   ]
  },
  {
   "cell_type": "code",
   "execution_count": 32,
   "id": "0f7dc795",
   "metadata": {},
   "outputs": [
    {
     "name": "stderr",
     "output_type": "stream",
     "text": [
      "Matplotlib is currently using agg, which is a non-GUI backend, so cannot show the figure.\n"
     ]
    }
   ],
   "source": [
    "\n",
    "# plot shap values \n",
    "shap.summary_plot(shap_values['z_all_06'][\"tr\"])"
   ]
  },
  {
   "cell_type": "markdown",
   "id": "20e39a76",
   "metadata": {},
   "source": [
    "# Sense community variables"
   ]
  },
  {
   "cell_type": "code",
   "execution_count": 33,
   "id": "374f0df3",
   "metadata": {},
   "outputs": [],
   "source": [
    "treatment = 'tr'\n",
    "outcome = 'z_all_06'\n",
    "covariates = [\"s1age_head_05\",\"s1hhsize_05\",\"s1hhsz_undr5_05\",\"s1hhsz_5_14_05\",\n",
    "        \"s1hhsz_15_24_05\",\"s1hhsz_25_64_05\",\"s1hhsz_65plus_05\",\"s1male_head_05\",\"s2mother_inhs_05\",\"s3ap5_rooms_h_05\",\n",
    "        \"s3ap23_stime_h_05\",\"s3ap24_htime_h_05\",\"s3ap25_hqtime_h_05\",\"s3atoilet_hh_05\",\"s3awater_access_hh_05\",\n",
    "        \"s3aelectric_hh_05\",\"s4p6_vitamina_i_05\",\"s4p7_parasite_i_05\",\"s11ownland_hh_05\",\"cons_food_pc_05\",\"cons_tot_pc_05\",\n",
    "        \"tvip_05\",\"height_05\",\"a10whz_05\",\"weight_05\",\"itt_i\",\"itt_all_i\",\"yrsedfath\",\"age_transfer\",\"bweight\",\n",
    "        \"s4p7_parasite_i_06\",\"male\",\"ed_mom\",\"MUN1\",\"MUN2\",\"MUN3\",\"MUN4\",\n",
    "        \"MUN5\",\"MUN6\",\n",
    "        \"sample06\",\"vitamiron_06\",\n",
    "        \"propfood_05\",\"prstap_f_05\",\"pranimalprot_f_05\",\"prfruitveg_f_05\"]"
   ]
  },
  {
   "cell_type": "code",
   "execution_count": 34,
   "id": "61cf0285",
   "metadata": {},
   "outputs": [],
   "source": [
    "cleaned_df.drop(cleaned_df[df_out.iloc[cleaned_df.index].z_all_06.isna()].index, axis=0, inplace=True)\n",
    "cleaned_df[\"z_all_06\"]=df_out.iloc[cleaned_df.index].z_all_06"
   ]
  },
  {
   "cell_type": "code",
   "execution_count": 39,
   "id": "3bbbe75b",
   "metadata": {},
   "outputs": [],
   "source": [
    "# set variables for causal forest Y=outcome, T=treatment, X=covariates, W=effect_modifiers \n",
    "Y = train[outcome]\n",
    "T = train[treatment]\n",
    "X = train[covariates]\n",
    "W = None\n",
    "X_test = test[covariates]"
   ]
  },
  {
   "cell_type": "code",
   "execution_count": 40,
   "id": "36804912",
   "metadata": {},
   "outputs": [],
   "source": [
    "# set parameters for causal forest \n",
    "causal_forest2 = CausalForestDML(criterion='het', \n",
    "                                n_estimators=10000,       \n",
    "                                min_samples_leaf=10, \n",
    "                                max_depth=None, \n",
    "                                max_samples=0.5,\n",
    "                                discrete_treatment=False,\n",
    "                                honest=True,\n",
    "                                inference=True,\n",
    "                                cv=10,\n",
    "                                model_t=LassoCV(), \n",
    "                                model_y=LassoCV(),\n",
    "                                )\n",
    "                      \n",
    "# fit train data to causal forest model \n",
    "causal_forest2.fit(Y, T, X=X, W=W)\n",
    "# estimate the CATE with the test set \n",
    "causal_forest2.const_marginal_ate(X_test)\n",
    "# create a variable with ATE\n",
    "b=causal_forest2.effect(X)"
   ]
  },
  {
   "cell_type": "markdown",
   "id": "6919e192",
   "metadata": {},
   "source": [
    "Fem un naive Decision Tree per les variables sense community"
   ]
  },
  {
   "cell_type": "code",
   "execution_count": 41,
   "id": "5d233336",
   "metadata": {},
   "outputs": [],
   "source": [
    "reg = DecisionTreeRegressor(max_depth=4).fit(X,b)\n",
    "sklearn.tree.export_graphviz(reg, 'test.dot')"
   ]
  },
  {
   "cell_type": "code",
   "execution_count": 43,
   "id": "388ace2b",
   "metadata": {},
   "outputs": [
    {
     "name": "stderr",
     "output_type": "stream",
     "text": [
      "Criterion 'mse' was deprecated in v1.0 and will be removed in version 1.2. Use `criterion='squared_error'` which is equivalent.\n"
     ]
    }
   ],
   "source": [
    "intrp = SingleTreeCateInterpreter(include_model_uncertainty=True, max_depth=3, min_samples_leaf=10)\n",
    "# We interpret the CATE model's behavior based on the features used for heterogeneity\n",
    "intrp.interpret(causal_forest2, X)\n",
    "# Plot the tree\n",
    "intrp.plot(feature_names=covariates, fontsize=12)\n",
    "intrp.plot()"
   ]
  },
  {
   "cell_type": "code",
   "execution_count": 44,
   "id": "4f37c0c7",
   "metadata": {},
   "outputs": [],
   "source": [
    "intrp.render(\"prova_nocom\", feature_names=covariates)"
   ]
  },
  {
   "cell_type": "markdown",
   "id": "2076dbb0",
   "metadata": {},
   "source": [
    "# SHAP (no comm)"
   ]
  },
  {
   "cell_type": "code",
   "execution_count": 46,
   "id": "4b5dfde3",
   "metadata": {},
   "outputs": [
    {
     "data": {
      "text/plain": [
       "sample06                 0.000000\n",
       "MUN2                     0.000007\n",
       "s1hhsz_65plus_05         0.000446\n",
       "MUN3                     0.000649\n",
       "MUN5                     0.001273\n",
       "itt_i                    0.001682\n",
       "s1male_head_05           0.001737\n",
       "MUN1                     0.002436\n",
       "MUN4                     0.002579\n",
       "s3aelectric_hh_05        0.003187\n",
       "s4p7_parasite_i_06       0.003245\n",
       "s3awater_access_hh_05    0.003922\n",
       "MUN6                     0.004004\n",
       "tvip_05                  0.004136\n",
       "s11ownland_hh_05         0.004727\n",
       "s1hhsz_25_64_05          0.004738\n",
       "s3atoilet_hh_05          0.005004\n",
       "vitamiron_06             0.005243\n",
       "s4p6_vitamina_i_05       0.005666\n",
       "itt_all_i                0.005819\n",
       "s1hhsz_undr5_05          0.007343\n",
       "male                     0.007814\n",
       "s3ap5_rooms_h_05         0.007872\n",
       "s4p7_parasite_i_05       0.008762\n",
       "s1hhsz_15_24_05          0.009114\n",
       "s1hhsz_5_14_05           0.010420\n",
       "s1hhsize_05              0.014305\n",
       "s3ap25_hqtime_h_05       0.017358\n",
       "yrsedfath                0.023651\n",
       "s3ap23_stime_h_05        0.023763\n",
       "s3ap24_htime_h_05        0.024817\n",
       "a10whz_05                0.027686\n",
       "s1age_head_05            0.028880\n",
       "bweight                  0.032145\n",
       "weight_05                0.036424\n",
       "prfruitveg_f_05          0.040145\n",
       "cons_tot_pc_05           0.043776\n",
       "pranimalprot_f_05        0.046103\n",
       "ed_mom                   0.046291\n",
       "s2mother_inhs_05         0.057985\n",
       "prstap_f_05              0.059550\n",
       "cons_food_pc_05          0.066950\n",
       "propfood_05              0.070128\n",
       "height_05                0.087789\n",
       "age_transfer             0.140432\n",
       "dtype: float64"
      ]
     },
     "execution_count": 46,
     "metadata": {},
     "output_type": "execute_result"
    }
   ],
   "source": [
    "pd.Series(causal_forest2.feature_importances_,index=causal_forest2.cate_feature_names()).sort_values()"
   ]
  },
  {
   "cell_type": "code",
   "execution_count": 47,
   "id": "231cb297",
   "metadata": {},
   "outputs": [
    {
     "name": "stderr",
     "output_type": "stream",
     "text": [
      "'normalize' was deprecated in version 1.0 and will be removed in 1.2. Please leave the normalize parameter to its default value to silence this warning. The default behavior of this estimator is to not do any normalization. If normalization is needed please use sklearn.preprocessing.StandardScaler instead.\n",
      "'normalize' was deprecated in version 1.0 and will be removed in 1.2. Please leave the normalize parameter to its default value to silence this warning. The default behavior of this estimator is to not do any normalization. If normalization is needed please use sklearn.preprocessing.StandardScaler instead.\n",
      "'normalize' was deprecated in version 1.0 and will be removed in 1.2. Please leave the normalize parameter to its default value to silence this warning. The default behavior of this estimator is to not do any normalization. If normalization is needed please use sklearn.preprocessing.StandardScaler instead.\n",
      "'normalize' was deprecated in version 1.0 and will be removed in 1.2. Please leave the normalize parameter to its default value to silence this warning. The default behavior of this estimator is to not do any normalization. If normalization is needed please use sklearn.preprocessing.StandardScaler instead.\n",
      " 99%|===================| 2529/2567 [00:31<00:00]        Matplotlib is currently using agg, which is a non-GUI backend, so cannot show the figure.\n"
     ]
    }
   ],
   "source": [
    "# fit causal forest with default parameters \n",
    "causal_forest = CausalForestDML()\n",
    "causal_forest.fit(Y, T, X=X, W=W)\n",
    "\n",
    "# calculate shap values of causal forest model \n",
    "shap_values = causal_forest.shap_values(X)\n",
    "\n",
    "# plot shap values \n",
    "shap.summary_plot(shap_values['z_all_06'][\"tr\"])"
   ]
  },
  {
   "cell_type": "markdown",
   "id": "d6212237",
   "metadata": {},
   "source": [
    "# Amb community Variables, threshold de min sample size més alt"
   ]
  },
  {
   "cell_type": "code",
   "execution_count": 48,
   "id": "f47c604d",
   "metadata": {},
   "outputs": [],
   "source": [
    "treatment = 'tr'\n",
    "outcome = 'z_all_06'\n",
    "covariates = [\"s1age_head_05\",\"s1hhsize_05\",\"s1hhsz_undr5_05\",\"s1hhsz_5_14_05\",\n",
    "        \"s1hhsz_15_24_05\",\"s1hhsz_25_64_05\",\"s1hhsz_65plus_05\",\"s1male_head_05\",\"s2mother_inhs_05\",\"s3ap5_rooms_h_05\",\n",
    "        \"s3ap23_stime_h_05\",\"s3ap24_htime_h_05\",\"s3ap25_hqtime_h_05\",\"s3atoilet_hh_05\",\"s3awater_access_hh_05\",\n",
    "        \"s3aelectric_hh_05\",\"s4p6_vitamina_i_05\",\"s4p7_parasite_i_05\",\"s11ownland_hh_05\",\"cons_food_pc_05\",\"cons_tot_pc_05\",\n",
    "        \"tvip_05\",\"height_05\",\"a10whz_05\",\"weight_05\",\"itt_i\",\"itt_all_i\",\"yrsedfath\",\"age_transfer\",\"bweight\",\n",
    "        \"s4p7_parasite_i_06\",\"male\",\"ed_mom\",\"MUN1\",\"MUN2\",\"MUN3\",\"MUN4\",\n",
    "        \"MUN5\",\"MUN6\",\"com_haz_05\",\"com_waz_05\",\"com_tvip_05\",\"com_control_05\",\"com_vit_05\",\"com_deworm_05\",\"com_notvip\",\n",
    "        \"sample06\",\"vitamiron_06\",\n",
    "        \"propfood_05\",\"prstap_f_05\",\"pranimalprot_f_05\",\"prfruitveg_f_05\"]"
   ]
  },
  {
   "cell_type": "code",
   "execution_count": 49,
   "id": "40c5a43a",
   "metadata": {},
   "outputs": [],
   "source": [
    "cleaned_df.drop(cleaned_df[df_out.iloc[cleaned_df.index].z_all_06.isna()].index, axis=0, inplace=True)\n",
    "cleaned_df[\"z_all_06\"]=df_out.iloc[cleaned_df.index].z_all_06"
   ]
  },
  {
   "cell_type": "code",
   "execution_count": null,
   "id": "ce6d66c5",
   "metadata": {},
   "outputs": [],
   "source": [
    "# set variables for causal forest Y=outcome, T=treatment, X=covariates, W=effect_modifiers \n",
    "y_train = train[outcome]\n",
    "X_train = train[covariates+[\"tr\"]]\n",
    "\n",
    "X_test = test[covariates+[\"tr\"]]\n",
    "y_test =  test[outcome]"
   ]
  },
  {
   "cell_type": "code",
   "execution_count": null,
   "id": "709940e3",
   "metadata": {},
   "outputs": [],
   "source": [
    "# set parameters for causal forest \n",
    "causal_forest3 = CausalForestDML(criterion='het', \n",
    "                                n_estimators=10000,       \n",
    "                                min_samples_leaf=30, \n",
    "                                max_depth=None, \n",
    "                                max_samples=0.5,\n",
    "                                discrete_treatment=False,\n",
    "                                honest=True,\n",
    "                                inference=True,\n",
    "                                cv=10,\n",
    "                                model_t=LassoCV(), \n",
    "                                model_y=LassoCV(),\n",
    "                                )\n",
    "                      \n",
    "# fit train data to causal forest model \n",
    "causal_forest3.fit(Y, T, X=X, W=W)\n",
    "# estimate the CATE with the test set \n",
    "causal_forest3.const_marginal_ate(X_test)\n",
    "# create a variable with ATE\n",
    "b=causal_forest3.effect(X)"
   ]
  },
  {
   "cell_type": "code",
   "execution_count": null,
   "id": "8420bf94",
   "metadata": {},
   "outputs": [],
   "source": [
    "intrp = SingleTreePolicyInterpreter(risk_level=None, max_depth=2, min_samples_leaf=1,min_impurity_decrease=.001)\n",
    "intrp.interpret(causal_forest3# SHAP (no comm), X, sample_treatment_costs=0.02)\n",
    "intrp.render(\"prova\", feature_names=covariates)"
   ]
  },
  {
   "cell_type": "markdown",
   "id": "49783d00",
   "metadata": {},
   "source": [
    "# SHAP (amb comm, threshold més alt)"
   ]
  },
  {
   "cell_type": "code",
   "execution_count": null,
   "id": "72c92007",
   "metadata": {},
   "outputs": [],
   "source": [
    "pd.Series(causal_forest3.feature_importances_,index=causal_forest3.cate_feature_names()).sort_values()"
   ]
  },
  {
   "cell_type": "code",
   "execution_count": null,
   "id": "9cea69bd",
   "metadata": {},
   "outputs": [],
   "source": [
    "# fit causal forest with default parameters \n",
    "causal_forest = CausalForestDML()\n",
    "causal_forest.fit(Y, T, X=X, W=W)\n",
    "\n",
    "# calculate shap values of causal forest model \n",
    "shap_values = causal_forest.shap_values(X)\n",
    "\n",
    "# plot shap values \n",
    "shap.summary_plot(shap_values['z_all_06'][\"tr\"])"
   ]
  },
  {
   "cell_type": "markdown",
   "id": "bf6e4ebb",
   "metadata": {},
   "source": [
    "# Sense community Variables, threshold de min sample size més alt"
>>>>>>> Stashed changes
   ]
  },
  {
   "cell_type": "code",
   "execution_count": null,
<<<<<<< Updated upstream
   "id": "21bfeb98",
   "metadata": {},
   "outputs": [],
   "source": [
=======
   "id": "1b1240fb",
   "metadata": {},
   "outputs": [],
   "source": [
    "treatment = 'tr'\n",
    "outcome = 'z_all_06'\n",
    "covariates = [\"s1age_head_05\",\"s1hhsize_05\",\"s1hhsz_undr5_05\",\"s1hhsz_5_14_05\",\n",
    "        \"s1hhsz_15_24_05\",\"s1hhsz_25_64_05\",\"s1hhsz_65plus_05\",\"s1male_head_05\",\"s2mother_inhs_05\",\"s3ap5_rooms_h_05\",\n",
    "        \"s3ap23_stime_h_05\",\"s3ap24_htime_h_05\",\"s3ap25_hqtime_h_05\",\"s3atoilet_hh_05\",\"s3awater_access_hh_05\",\n",
    "        \"s3aelectric_hh_05\",\"s4p6_vitamina_i_05\",\"s4p7_parasite_i_05\",\"s11ownland_hh_05\",\"cons_food_pc_05\",\"cons_tot_pc_05\",\n",
    "        \"tvip_05\",\"height_05\",\"a10whz_05\",\"weight_05\",\"itt_i\",\"itt_all_i\",\"yrsedfath\",\"age_transfer\",\"bweight\",\n",
    "        \"s4p7_parasite_i_06\",\"male\",\"ed_mom\",\"MUN1\",\"MUN2\",\"MUN3\",\"MUN4\",\n",
    "        \"MUN5\",\"MUN6\",\n",
    "        \"sample06\",\"vitamiron_06\",\n",
    "        \"propfood_05\",\"prstap_f_05\",\"pranimalprot_f_05\",\"prfruitveg_f_05\"]"
   ]
  },
  {
   "cell_type": "code",
   "execution_count": null,
   "id": "334c2f26",
   "metadata": {},
   "outputs": [],
   "source": [
    "cleaned_df.drop(cleaned_df[df_out.iloc[cleaned_df.index].z_all_06.isna()].index, axis=0, inplace=True)\n",
    "cleaned_df[\"z_all_06\"]=df_out.iloc[cleaned_df.index].z_all_06"
   ]
  },
  {
   "cell_type": "code",
   "execution_count": null,
   "id": "4f223b6d",
   "metadata": {},
   "outputs": [],
   "source": [
    "# set variables for causal forest Y=outcome, T=treatment, X=covariates, W=effect_modifiers \n",
    "y_train = train[outcome]\n",
    "X_train = train[covariates+[\"tr\"]]\n",
    "\n",
    "X_test = test[covariates+[\"tr\"]]\n",
    "y_test =  test[outcome]"
   ]
  },
  {
   "cell_type": "code",
   "execution_count": null,
   "id": "150c36b7",
   "metadata": {},
   "outputs": [],
   "source": [
    "# set parameters for causal forest \n",
    "causal_forest4 = CausalForestDML(criterion='het', \n",
    "                                n_estimators=10000,       \n",
    "                                min_samples_leaf=30, \n",
    "                                max_depth=None, \n",
    "                                max_samples=0.5,\n",
    "                                discrete_treatment=False,\n",
    "                                honest=True,\n",
    "                                inference=True,\n",
    "                                cv=10,\n",
    "                                model_t=LassoCV(), \n",
    "                                model_y=LassoCV(),\n",
    "                                )\n",
    "                      \n",
    "# fit train data to causal forest model \n",
    "causal_forest4.fit(Y, T, X=X, W=W)\n",
    "# estimate the CATE with the test set \n",
    "causal_forest4.const_marginal_ate(X_test)\n",
    "# create a variable with ATE\n",
    "b=causal_forest4.effect(X)"
   ]
  },
  {
   "cell_type": "code",
   "execution_count": null,
   "id": "582add1b",
   "metadata": {},
   "outputs": [],
   "source": [
    "intrp = SingleTreePolicyInterpreter(risk_level=None, max_depth=2, min_samples_leaf=1,min_impurity_decrease=.001)\n",
    "intrp.interpret(causal_forest3# SHAP (no comm), X, sample_treatment_costs=0.02)\n",
    "intrp.render(\"prova\", feature_names=covariates)"
   ]
  },
  {
   "cell_type": "markdown",
   "id": "70fb3d2e",
   "metadata": {},
   "source": [
    "# SHAP (no comm, threshold més alt)"
   ]
  },
  {
   "cell_type": "code",
   "execution_count": null,
   "id": "0a31fb32",
   "metadata": {},
   "outputs": [],
   "source": [
    "pd.Series(causal_forest4.feature_importances_,index=causal_forest4.cate_feature_names()).sort_values()"
   ]
  },
  {
   "cell_type": "code",
   "execution_count": null,
   "id": "1939117c",
   "metadata": {},
   "outputs": [],
   "source": [
    "# fit causal forest with default parameters \n",
    "causal_forest = CausalForestDML()\n",
    "causal_forest.fit(Y, T, X=X, W=W)\n",
    "\n",
    "# calculate shap values of causal forest model \n",
    "shap_values = causal_forest.shap_values(X)\n",
>>>>>>> Stashed changes
    "\n",
    "# plot shap values \n",
    "shap.summary_plot(shap_values['z_all_06'][\"tr\"])"
   ]
<<<<<<< Updated upstream
  },
  {
   "cell_type": "markdown",
   "id": "a90f0cc8",
   "metadata": {},
   "source": [
    "### ITE"
   ]
  },
  {
   "cell_type": "markdown",
   "id": "6ef6b195",
   "metadata": {},
   "source": [
    "-Regressio\n",
    "-Random forest\n",
    "-XGBoost"
   ]
  },
  {
   "cell_type": "code",
   "execution_count": 23,
   "id": "a89b7dc1",
   "metadata": {},
   "outputs": [
    {
     "data": {
      "text/plain": [
       "['s1age_head_05',\n",
       " 's1hhsize_05',\n",
       " 's1hhsz_undr5_05',\n",
       " 's1hhsz_5_14_05',\n",
       " 's1hhsz_15_24_05',\n",
       " 's1hhsz_25_64_05',\n",
       " 's1hhsz_65plus_05',\n",
       " 's1male_head_05',\n",
       " 's2mother_inhs_05',\n",
       " 's3ap5_rooms_h_05',\n",
       " 's3ap23_stime_h_05',\n",
       " 's3ap24_htime_h_05',\n",
       " 's3ap25_hqtime_h_05',\n",
       " 's3atoilet_hh_05',\n",
       " 's3awater_access_hh_05',\n",
       " 's3aelectric_hh_05',\n",
       " 's4p6_vitamina_i_05',\n",
       " 's4p7_parasite_i_05',\n",
       " 's11ownland_hh_05',\n",
       " 'cons_food_pc_05',\n",
       " 'cons_tot_pc_05',\n",
       " 'tvip_05',\n",
       " 'height_05',\n",
       " 'a10whz_05',\n",
       " 'weight_05',\n",
       " 'itt_i',\n",
       " 'itt_all_i',\n",
       " 'yrsedfath',\n",
       " 'age_transfer',\n",
       " 'bweight',\n",
       " 's4p7_parasite_i_06',\n",
       " 'male',\n",
       " 'TREAT1',\n",
       " 'TREAT2',\n",
       " 'TREAT3',\n",
       " 'TREAT4',\n",
       " 'ed_mom',\n",
       " 'MUN1',\n",
       " 'MUN2',\n",
       " 'MUN3',\n",
       " 'MUN4',\n",
       " 'MUN5',\n",
       " 'MUN6',\n",
       " 'com_haz_05',\n",
       " 'com_waz_05',\n",
       " 'com_tvip_05',\n",
       " 'com_control_05',\n",
       " 'com_vit_05',\n",
       " 'com_deworm_05',\n",
       " 'com_notvip',\n",
       " 'sample06',\n",
       " 'vitamiron_06',\n",
       " 'propfood_05',\n",
       " 'prstap_f_05',\n",
       " 'pranimalprot_f_05',\n",
       " 'prfruitveg_f_05',\n",
       " 'tr']"
      ]
     },
     "execution_count": 23,
     "metadata": {},
     "output_type": "execute_result"
    }
   ],
   "source": [
    "covariates+ [\"tr\"]"
   ]
  },
  {
   "cell_type": "code",
   "execution_count": 24,
   "id": "a8ef39ce",
   "metadata": {},
   "outputs": [],
   "source": [
    "from sklearn.model_selection import train_test_split\n",
    "# split data into train and test sets \n",
    "train, test = train_test_split(cleaned_df, test_size=0.33)\n",
    "\n",
    "# set variables for causal forest Y=outcome, T=treatment, X=covariates, W=effect_modifiers \n",
    "y_train = train[outcome]\n",
    "X_train = train[covariates+[\"tr\"]]\n",
    "\n",
    "X_test = test[covariates+[\"tr\"]]\n",
    "y_test =  test[outcome]"
   ]
  },
  {
   "cell_type": "code",
   "execution_count": null,
   "id": "f4169078",
   "metadata": {},
   "outputs": [],
   "source": []
  },
  {
   "cell_type": "code",
   "execution_count": 25,
   "id": "148d7555",
   "metadata": {},
   "outputs": [],
   "source": [
    "def display_scores(scores,model_name = None):\n",
    "    if(model_name):\n",
    "        print(\"----\",model_name,\"----\")\n",
    "    print(\"Mean:\", scores.mean())\n",
    "    print(\"Standard deviation:\", scores.std())"
   ]
  },
  {
   "cell_type": "code",
   "execution_count": 26,
   "id": "31910104",
   "metadata": {},
   "outputs": [
    {
     "ename": "NameError",
     "evalue": "name 'sklearn' is not defined",
     "output_type": "error",
     "traceback": [
      "\u001b[1;31m---------------------------------------------------------------------------\u001b[0m",
      "\u001b[1;31mNameError\u001b[0m                                 Traceback (most recent call last)",
      "Input \u001b[1;32mIn [26]\u001b[0m, in \u001b[0;36m<cell line: 1>\u001b[1;34m()\u001b[0m\n\u001b[1;32m----> 1\u001b[0m \u001b[38;5;28msorted\u001b[39m(\u001b[43msklearn\u001b[49m\u001b[38;5;241m.\u001b[39mmetrics\u001b[38;5;241m.\u001b[39mSCORERS\u001b[38;5;241m.\u001b[39mkeys())\n",
      "\u001b[1;31mNameError\u001b[0m: name 'sklearn' is not defined"
     ]
    }
   ],
   "source": [
    "sorted(sklearn.metrics.SCORERS.keys())"
   ]
  },
  {
   "cell_type": "code",
   "execution_count": 27,
   "id": "c66cac68",
   "metadata": {},
   "outputs": [
    {
     "name": "stderr",
     "output_type": "stream",
     "text": [
      "C:\\Users\\Usuari\\anaconda3\\lib\\site-packages\\xgboost\\compat.py:36: FutureWarning: pandas.Int64Index is deprecated and will be removed from pandas in a future version. Use pandas.Index with the appropriate dtype instead.\n",
      "  from pandas import MultiIndex, Int64Index\n",
      "C:\\Users\\Usuari\\anaconda3\\lib\\site-packages\\xgboost\\data.py:262: FutureWarning: pandas.Int64Index is deprecated and will be removed from pandas in a future version. Use pandas.Index with the appropriate dtype instead.\n",
      "  elif isinstance(data.columns, (pd.Int64Index, pd.RangeIndex)):\n"
     ]
    },
    {
     "name": "stdout",
     "output_type": "stream",
     "text": [
      "---- lin_reg ----\n",
      "Mean: 0.19846182785215571\n",
      "Standard deviation: 0.12405241196680919\n",
      "---- Random Forest ----\n",
      "Mean: 0.23217899390054653\n",
      "Standard deviation: 0.07216574836144535\n"
     ]
    },
    {
     "name": "stderr",
     "output_type": "stream",
     "text": [
      "C:\\Users\\Usuari\\anaconda3\\lib\\site-packages\\xgboost\\data.py:262: FutureWarning: pandas.Int64Index is deprecated and will be removed from pandas in a future version. Use pandas.Index with the appropriate dtype instead.\n",
      "  elif isinstance(data.columns, (pd.Int64Index, pd.RangeIndex)):\n",
      "C:\\Users\\Usuari\\anaconda3\\lib\\site-packages\\xgboost\\data.py:262: FutureWarning: pandas.Int64Index is deprecated and will be removed from pandas in a future version. Use pandas.Index with the appropriate dtype instead.\n",
      "  elif isinstance(data.columns, (pd.Int64Index, pd.RangeIndex)):\n",
      "C:\\Users\\Usuari\\anaconda3\\lib\\site-packages\\xgboost\\data.py:262: FutureWarning: pandas.Int64Index is deprecated and will be removed from pandas in a future version. Use pandas.Index with the appropriate dtype instead.\n",
      "  elif isinstance(data.columns, (pd.Int64Index, pd.RangeIndex)):\n",
      "C:\\Users\\Usuari\\anaconda3\\lib\\site-packages\\xgboost\\data.py:262: FutureWarning: pandas.Int64Index is deprecated and will be removed from pandas in a future version. Use pandas.Index with the appropriate dtype instead.\n",
      "  elif isinstance(data.columns, (pd.Int64Index, pd.RangeIndex)):\n",
      "C:\\Users\\Usuari\\anaconda3\\lib\\site-packages\\xgboost\\data.py:262: FutureWarning: pandas.Int64Index is deprecated and will be removed from pandas in a future version. Use pandas.Index with the appropriate dtype instead.\n",
      "  elif isinstance(data.columns, (pd.Int64Index, pd.RangeIndex)):\n",
      "C:\\Users\\Usuari\\anaconda3\\lib\\site-packages\\xgboost\\data.py:262: FutureWarning: pandas.Int64Index is deprecated and will be removed from pandas in a future version. Use pandas.Index with the appropriate dtype instead.\n",
      "  elif isinstance(data.columns, (pd.Int64Index, pd.RangeIndex)):\n",
      "C:\\Users\\Usuari\\anaconda3\\lib\\site-packages\\xgboost\\data.py:262: FutureWarning: pandas.Int64Index is deprecated and will be removed from pandas in a future version. Use pandas.Index with the appropriate dtype instead.\n",
      "  elif isinstance(data.columns, (pd.Int64Index, pd.RangeIndex)):\n",
      "C:\\Users\\Usuari\\anaconda3\\lib\\site-packages\\xgboost\\data.py:262: FutureWarning: pandas.Int64Index is deprecated and will be removed from pandas in a future version. Use pandas.Index with the appropriate dtype instead.\n",
      "  elif isinstance(data.columns, (pd.Int64Index, pd.RangeIndex)):\n",
      "C:\\Users\\Usuari\\anaconda3\\lib\\site-packages\\xgboost\\data.py:262: FutureWarning: pandas.Int64Index is deprecated and will be removed from pandas in a future version. Use pandas.Index with the appropriate dtype instead.\n",
      "  elif isinstance(data.columns, (pd.Int64Index, pd.RangeIndex)):\n",
      "C:\\Users\\Usuari\\anaconda3\\lib\\site-packages\\xgboost\\data.py:262: FutureWarning: pandas.Int64Index is deprecated and will be removed from pandas in a future version. Use pandas.Index with the appropriate dtype instead.\n",
      "  elif isinstance(data.columns, (pd.Int64Index, pd.RangeIndex)):\n"
     ]
    },
    {
     "name": "stdout",
     "output_type": "stream",
     "text": [
      "---- XGboost ----\n",
      "Mean: 0.18148342812821236\n",
      "Standard deviation: 0.11394298547750425\n"
     ]
    }
   ],
   "source": [
    "from sklearn.linear_model import LinearRegression\n",
    "from sklearn.ensemble import RandomForestRegressor\n",
    "import xgboost as xgb\n",
    "\n",
    "from sklearn.model_selection import cross_val_score\n",
    "\n",
    "lin_reg = LinearRegression()\n",
    "lin_reg.fit(X_train, y_train)\n",
    "\n",
    "forest_reg = RandomForestRegressor(n_estimators=20, random_state=42)\n",
    "forest_reg.fit(X_train, y_train)\n",
    "\n",
    "xg_reg = xgb.XGBRegressor(objective ='reg:squarederror')\n",
    "xg_reg.fit(X_train,y_train)\n",
    "\n",
    " \n",
    "    # lets comare all of them \n",
    "models = [(lin_reg,\"lin_reg\"),\n",
    "          (forest_reg,'Random Forest'),\n",
    "          (xg_reg,\"XGboost\")]\n",
    "for model in models:\n",
    "    scores = cross_val_score(model[0], X_test, y_test, scoring='r2', cv=10)\n",
    "    display_scores(scores, model[1])"
   ]
  },
  {
   "cell_type": "code",
   "execution_count": 28,
   "id": "425ffe2b",
   "metadata": {},
   "outputs": [
    {
     "data": {
      "text/plain": [
       "{'objective': 'reg:squarederror',\n",
       " 'base_score': 0.5,\n",
       " 'booster': 'gbtree',\n",
       " 'colsample_bylevel': 1,\n",
       " 'colsample_bynode': 1,\n",
       " 'colsample_bytree': 1,\n",
       " 'gamma': 0,\n",
       " 'gpu_id': -1,\n",
       " 'interaction_constraints': '',\n",
       " 'learning_rate': 0.300000012,\n",
       " 'max_delta_step': 0,\n",
       " 'max_depth': 6,\n",
       " 'min_child_weight': 1,\n",
       " 'monotone_constraints': '()',\n",
       " 'n_jobs': 4,\n",
       " 'num_parallel_tree': 1,\n",
       " 'predictor': 'auto',\n",
       " 'random_state': 0,\n",
       " 'reg_alpha': 0,\n",
       " 'reg_lambda': 1,\n",
       " 'scale_pos_weight': 1,\n",
       " 'subsample': 1,\n",
       " 'tree_method': 'exact',\n",
       " 'validate_parameters': 1,\n",
       " 'verbosity': None}"
      ]
     },
     "execution_count": 28,
     "metadata": {},
     "output_type": "execute_result"
    }
   ],
   "source": [
    "xg_reg.get_xgb_params()"
   ]
  },
  {
   "cell_type": "code",
   "execution_count": 29,
   "id": "31844497",
   "metadata": {},
   "outputs": [
    {
     "name": "stderr",
     "output_type": "stream",
     "text": [
      "C:\\Users\\Usuari\\anaconda3\\lib\\site-packages\\xgboost\\data.py:262: FutureWarning: pandas.Int64Index is deprecated and will be removed from pandas in a future version. Use pandas.Index with the appropriate dtype instead.\n",
      "  elif isinstance(data.columns, (pd.Int64Index, pd.RangeIndex)):\n"
     ]
    },
    {
     "data": {
      "text/plain": [
       "GridSearchCV(cv=2,\n",
       "             estimator=XGBRegressor(base_score=None, booster=None,\n",
       "                                    colsample_bylevel=None,\n",
       "                                    colsample_bynode=None,\n",
       "                                    colsample_bytree=None,\n",
       "                                    enable_categorical=False, gamma=None,\n",
       "                                    gpu_id=None, importance_type=None,\n",
       "                                    interaction_constraints=None,\n",
       "                                    learning_rate=None, max_delta_step=None,\n",
       "                                    max_depth=None, min_child_weight=None,\n",
       "                                    missing=nan, monotone_constraints=None,\n",
       "                                    n_estimators=100, n_jobs=None,\n",
       "                                    num_parallel_tree=None, predictor=None,\n",
       "                                    random_state=None, reg_alpha=None,\n",
       "                                    reg_lambda=None, scale_pos_weight=None,\n",
       "                                    subsample=None, tree_method=None,\n",
       "                                    validate_parameters=None, verbosity=None),\n",
       "             n_jobs=-1,\n",
       "             param_grid={'learning_rate': [0.01, 0.3, 0.5],\n",
       "                         'max_depth': [4, 6, 8]})"
      ]
     },
     "execution_count": 29,
     "metadata": {},
     "output_type": "execute_result"
    }
   ],
   "source": [
    "from sklearn.model_selection import GridSearchCV\n",
    "\n",
    "parameters = {'learning_rate': [0.01,0.3, 0.5],\n",
    "                  'max_depth'    : [4,6,8]\n",
    "                 }\n",
    "\n",
    "GBR = xgb.XGBRegressor()\n",
    "grid_GBC = GridSearchCV(estimator=GBR, cv = 2, n_jobs=-1, param_grid = parameters)\n",
    "grid_GBC.fit(X_train, y_train)"
   ]
  },
  {
   "cell_type": "code",
   "execution_count": 30,
   "id": "774df71b",
   "metadata": {},
   "outputs": [
    {
     "name": "stdout",
     "output_type": "stream",
     "text": [
      " Results from Grid Search \n",
      "\n",
      " The best estimator across ALL searched params:\n",
      " XGBRegressor(base_score=0.5, booster='gbtree', colsample_bylevel=1,\n",
      "             colsample_bynode=1, colsample_bytree=1, enable_categorical=False,\n",
      "             gamma=0, gpu_id=-1, importance_type=None,\n",
      "             interaction_constraints='', learning_rate=0.3, max_delta_step=0,\n",
      "             max_depth=4, min_child_weight=1, missing=nan,\n",
      "             monotone_constraints='()', n_estimators=100, n_jobs=4,\n",
      "             num_parallel_tree=1, predictor='auto', random_state=0, reg_alpha=0,\n",
      "             reg_lambda=1, scale_pos_weight=1, subsample=1, tree_method='exact',\n",
      "             validate_parameters=1, verbosity=None)\n",
      "\n",
      " The best score across ALL searched params:\n",
      " 0.1383027791230182\n",
      "\n",
      " The best parameters across ALL searched params:\n",
      " {'learning_rate': 0.3, 'max_depth': 4}\n"
     ]
    }
   ],
   "source": [
    "print(\" Results from Grid Search \" )\n",
    "print(\"\\n The best estimator across ALL searched params:\\n\",grid_GBC.best_estimator_)\n",
    "print(\"\\n The best score across ALL searched params:\\n\",grid_GBC.best_score_)\n",
    "print(\"\\n The best parameters across ALL searched params:\\n\",grid_GBC.best_params_)\n"
   ]
  },
  {
   "cell_type": "code",
   "execution_count": 35,
   "id": "5aaaf1ff",
   "metadata": {},
   "outputs": [
    {
     "data": {
      "text/plain": [
       "['accuracy',\n",
       " 'adjusted_mutual_info_score',\n",
       " 'adjusted_rand_score',\n",
       " 'average_precision',\n",
       " 'balanced_accuracy',\n",
       " 'completeness_score',\n",
       " 'explained_variance',\n",
       " 'f1',\n",
       " 'f1_macro',\n",
       " 'f1_micro',\n",
       " 'f1_samples',\n",
       " 'f1_weighted',\n",
       " 'fowlkes_mallows_score',\n",
       " 'homogeneity_score',\n",
       " 'jaccard',\n",
       " 'jaccard_macro',\n",
       " 'jaccard_micro',\n",
       " 'jaccard_samples',\n",
       " 'jaccard_weighted',\n",
       " 'max_error',\n",
       " 'mutual_info_score',\n",
       " 'neg_brier_score',\n",
       " 'neg_log_loss',\n",
       " 'neg_mean_absolute_error',\n",
       " 'neg_mean_absolute_percentage_error',\n",
       " 'neg_mean_gamma_deviance',\n",
       " 'neg_mean_poisson_deviance',\n",
       " 'neg_mean_squared_error',\n",
       " 'neg_mean_squared_log_error',\n",
       " 'neg_median_absolute_error',\n",
       " 'neg_root_mean_squared_error',\n",
       " 'normalized_mutual_info_score',\n",
       " 'precision',\n",
       " 'precision_macro',\n",
       " 'precision_micro',\n",
       " 'precision_samples',\n",
       " 'precision_weighted',\n",
       " 'r2',\n",
       " 'rand_score',\n",
       " 'recall',\n",
       " 'recall_macro',\n",
       " 'recall_micro',\n",
       " 'recall_samples',\n",
       " 'recall_weighted',\n",
       " 'roc_auc',\n",
       " 'roc_auc_ovo',\n",
       " 'roc_auc_ovo_weighted',\n",
       " 'roc_auc_ovr',\n",
       " 'roc_auc_ovr_weighted',\n",
       " 'top_k_accuracy',\n",
       " 'v_measure_score']"
      ]
     },
     "execution_count": 35,
     "metadata": {},
     "output_type": "execute_result"
    }
   ],
   "source": [
    "sorted(sklearn.metrics.SCORERS.keys())"
   ]
  },
  {
   "cell_type": "code",
   "execution_count": 36,
   "id": "725fad88",
   "metadata": {},
   "outputs": [],
   "source": [
    "import warnings\n",
    "warnings.filterwarnings('ignore')"
   ]
  },
  {
   "cell_type": "code",
   "execution_count": 37,
   "id": "0c9e144c",
   "metadata": {},
   "outputs": [
    {
     "name": "stdout",
     "output_type": "stream",
     "text": [
      "---- lin_reg ----\n",
      "Mean: 0.19846182785215571\n",
      "Standard deviation: 0.12405241196680919\n",
      "---- Random Forest ----\n",
      "Mean: 0.23217899390054653\n",
      "Standard deviation: 0.07216574836144535\n",
      "---- XGboost ----\n",
      "Mean: 0.18148342812821236\n",
      "Standard deviation: 0.11394298547750425\n"
     ]
    }
   ],
   "source": [
    " # lets comare all of them \n",
    "models = [(lin_reg,\"lin_reg\"),\n",
    "          (forest_reg,'Random Forest'),\n",
    "          (xg_reg,\"XGboost\")]\n",
    "for model in models:\n",
    "    scores = cross_val_score(model[0], X_test, y_test, scoring=\"r2\", cv=10)\n",
    "    display_scores(scores, model[1])"
   ]
  },
  {
   "cell_type": "code",
   "execution_count": 38,
   "id": "cdf427e0",
   "metadata": {},
   "outputs": [
    {
     "data": {
      "text/html": [
       "<div>\n",
       "<style scoped>\n",
       "    .dataframe tbody tr th:only-of-type {\n",
       "        vertical-align: middle;\n",
       "    }\n",
       "\n",
       "    .dataframe tbody tr th {\n",
       "        vertical-align: top;\n",
       "    }\n",
       "\n",
       "    .dataframe thead th {\n",
       "        text-align: right;\n",
       "    }\n",
       "</style>\n",
       "<table border=\"1\" class=\"dataframe\">\n",
       "  <thead>\n",
       "    <tr style=\"text-align: right;\">\n",
       "      <th></th>\n",
       "      <th>s1age_head_05</th>\n",
       "      <th>s1hhsize_05</th>\n",
       "      <th>s1hhsz_undr5_05</th>\n",
       "      <th>s1hhsz_5_14_05</th>\n",
       "      <th>s1hhsz_15_24_05</th>\n",
       "      <th>s1hhsz_25_64_05</th>\n",
       "      <th>s1hhsz_65plus_05</th>\n",
       "      <th>s1male_head_05</th>\n",
       "      <th>s2mother_inhs_05</th>\n",
       "      <th>s3ap5_rooms_h_05</th>\n",
       "      <th>...</th>\n",
       "      <th>com_vit_05</th>\n",
       "      <th>com_deworm_05</th>\n",
       "      <th>com_notvip</th>\n",
       "      <th>sample06</th>\n",
       "      <th>vitamiron_06</th>\n",
       "      <th>propfood_05</th>\n",
       "      <th>prstap_f_05</th>\n",
       "      <th>pranimalprot_f_05</th>\n",
       "      <th>prfruitveg_f_05</th>\n",
       "      <th>z_all_06</th>\n",
       "    </tr>\n",
       "  </thead>\n",
       "  <tbody>\n",
       "    <tr>\n",
       "      <th>1</th>\n",
       "      <td>35.0</td>\n",
       "      <td>5.0</td>\n",
       "      <td>1.0</td>\n",
       "      <td>2.0</td>\n",
       "      <td>0.0</td>\n",
       "      <td>2.0</td>\n",
       "      <td>0.0</td>\n",
       "      <td>1.0</td>\n",
       "      <td>1.0</td>\n",
       "      <td>1.0</td>\n",
       "      <td>...</td>\n",
       "      <td>0.571429</td>\n",
       "      <td>0.285714</td>\n",
       "      <td>0.500000</td>\n",
       "      <td>1.0</td>\n",
       "      <td>0.0</td>\n",
       "      <td>0.678527</td>\n",
       "      <td>0.204472</td>\n",
       "      <td>0.674387</td>\n",
       "      <td>0.000000</td>\n",
       "      <td>0.450156</td>\n",
       "    </tr>\n",
       "    <tr>\n",
       "      <th>2</th>\n",
       "      <td>56.0</td>\n",
       "      <td>8.0</td>\n",
       "      <td>1.0</td>\n",
       "      <td>1.0</td>\n",
       "      <td>3.0</td>\n",
       "      <td>3.0</td>\n",
       "      <td>0.0</td>\n",
       "      <td>1.0</td>\n",
       "      <td>1.0</td>\n",
       "      <td>3.0</td>\n",
       "      <td>...</td>\n",
       "      <td>0.685714</td>\n",
       "      <td>0.628571</td>\n",
       "      <td>0.250000</td>\n",
       "      <td>1.0</td>\n",
       "      <td>1.0</td>\n",
       "      <td>0.560299</td>\n",
       "      <td>0.706687</td>\n",
       "      <td>0.046980</td>\n",
       "      <td>0.009460</td>\n",
       "      <td>0.011252</td>\n",
       "    </tr>\n",
       "    <tr>\n",
       "      <th>3</th>\n",
       "      <td>49.0</td>\n",
       "      <td>12.0</td>\n",
       "      <td>1.0</td>\n",
       "      <td>5.0</td>\n",
       "      <td>2.0</td>\n",
       "      <td>3.0</td>\n",
       "      <td>0.0</td>\n",
       "      <td>1.0</td>\n",
       "      <td>1.0</td>\n",
       "      <td>1.0</td>\n",
       "      <td>...</td>\n",
       "      <td>0.861111</td>\n",
       "      <td>0.500000</td>\n",
       "      <td>0.300000</td>\n",
       "      <td>1.0</td>\n",
       "      <td>1.0</td>\n",
       "      <td>0.527724</td>\n",
       "      <td>0.418402</td>\n",
       "      <td>0.122034</td>\n",
       "      <td>0.135109</td>\n",
       "      <td>-0.505333</td>\n",
       "    </tr>\n",
       "    <tr>\n",
       "      <th>4</th>\n",
       "      <td>49.0</td>\n",
       "      <td>12.0</td>\n",
       "      <td>1.0</td>\n",
       "      <td>5.0</td>\n",
       "      <td>2.0</td>\n",
       "      <td>3.0</td>\n",
       "      <td>0.0</td>\n",
       "      <td>1.0</td>\n",
       "      <td>1.0</td>\n",
       "      <td>1.0</td>\n",
       "      <td>...</td>\n",
       "      <td>0.861111</td>\n",
       "      <td>0.500000</td>\n",
       "      <td>0.300000</td>\n",
       "      <td>1.0</td>\n",
       "      <td>1.0</td>\n",
       "      <td>0.527724</td>\n",
       "      <td>0.418402</td>\n",
       "      <td>0.122034</td>\n",
       "      <td>0.135109</td>\n",
       "      <td>-0.468488</td>\n",
       "    </tr>\n",
       "    <tr>\n",
       "      <th>6</th>\n",
       "      <td>31.0</td>\n",
       "      <td>5.0</td>\n",
       "      <td>1.0</td>\n",
       "      <td>2.0</td>\n",
       "      <td>0.0</td>\n",
       "      <td>2.0</td>\n",
       "      <td>0.0</td>\n",
       "      <td>1.0</td>\n",
       "      <td>1.0</td>\n",
       "      <td>3.0</td>\n",
       "      <td>...</td>\n",
       "      <td>0.861111</td>\n",
       "      <td>0.500000</td>\n",
       "      <td>0.300000</td>\n",
       "      <td>1.0</td>\n",
       "      <td>1.0</td>\n",
       "      <td>0.450707</td>\n",
       "      <td>0.737649</td>\n",
       "      <td>0.037743</td>\n",
       "      <td>0.067608</td>\n",
       "      <td>0.120401</td>\n",
       "    </tr>\n",
       "    <tr>\n",
       "      <th>...</th>\n",
       "      <td>...</td>\n",
       "      <td>...</td>\n",
       "      <td>...</td>\n",
       "      <td>...</td>\n",
       "      <td>...</td>\n",
       "      <td>...</td>\n",
       "      <td>...</td>\n",
       "      <td>...</td>\n",
       "      <td>...</td>\n",
       "      <td>...</td>\n",
       "      <td>...</td>\n",
       "      <td>...</td>\n",
       "      <td>...</td>\n",
       "      <td>...</td>\n",
       "      <td>...</td>\n",
       "      <td>...</td>\n",
       "      <td>...</td>\n",
       "      <td>...</td>\n",
       "      <td>...</td>\n",
       "      <td>...</td>\n",
       "      <td>...</td>\n",
       "    </tr>\n",
       "    <tr>\n",
       "      <th>3544</th>\n",
       "      <td>52.0</td>\n",
       "      <td>8.0</td>\n",
       "      <td>1.0</td>\n",
       "      <td>1.0</td>\n",
       "      <td>3.0</td>\n",
       "      <td>3.0</td>\n",
       "      <td>0.0</td>\n",
       "      <td>1.0</td>\n",
       "      <td>1.0</td>\n",
       "      <td>4.0</td>\n",
       "      <td>...</td>\n",
       "      <td>0.720000</td>\n",
       "      <td>0.600000</td>\n",
       "      <td>0.000000</td>\n",
       "      <td>1.0</td>\n",
       "      <td>0.0</td>\n",
       "      <td>0.575694</td>\n",
       "      <td>0.584656</td>\n",
       "      <td>0.043516</td>\n",
       "      <td>0.047044</td>\n",
       "      <td>0.432928</td>\n",
       "    </tr>\n",
       "    <tr>\n",
       "      <th>3545</th>\n",
       "      <td>31.0</td>\n",
       "      <td>5.0</td>\n",
       "      <td>2.0</td>\n",
       "      <td>1.0</td>\n",
       "      <td>0.0</td>\n",
       "      <td>2.0</td>\n",
       "      <td>0.0</td>\n",
       "      <td>1.0</td>\n",
       "      <td>1.0</td>\n",
       "      <td>2.0</td>\n",
       "      <td>...</td>\n",
       "      <td>0.720000</td>\n",
       "      <td>0.600000</td>\n",
       "      <td>0.000000</td>\n",
       "      <td>1.0</td>\n",
       "      <td>1.0</td>\n",
       "      <td>0.574574</td>\n",
       "      <td>0.674472</td>\n",
       "      <td>0.037236</td>\n",
       "      <td>0.054894</td>\n",
       "      <td>0.418482</td>\n",
       "    </tr>\n",
       "    <tr>\n",
       "      <th>3546</th>\n",
       "      <td>31.0</td>\n",
       "      <td>5.0</td>\n",
       "      <td>2.0</td>\n",
       "      <td>1.0</td>\n",
       "      <td>0.0</td>\n",
       "      <td>2.0</td>\n",
       "      <td>0.0</td>\n",
       "      <td>1.0</td>\n",
       "      <td>1.0</td>\n",
       "      <td>2.0</td>\n",
       "      <td>...</td>\n",
       "      <td>0.720000</td>\n",
       "      <td>0.600000</td>\n",
       "      <td>0.000000</td>\n",
       "      <td>1.0</td>\n",
       "      <td>1.0</td>\n",
       "      <td>0.574574</td>\n",
       "      <td>0.674472</td>\n",
       "      <td>0.037236</td>\n",
       "      <td>0.054894</td>\n",
       "      <td>0.439541</td>\n",
       "    </tr>\n",
       "    <tr>\n",
       "      <th>3547</th>\n",
       "      <td>49.0</td>\n",
       "      <td>7.0</td>\n",
       "      <td>1.0</td>\n",
       "      <td>1.0</td>\n",
       "      <td>3.0</td>\n",
       "      <td>2.0</td>\n",
       "      <td>0.0</td>\n",
       "      <td>1.0</td>\n",
       "      <td>1.0</td>\n",
       "      <td>1.0</td>\n",
       "      <td>...</td>\n",
       "      <td>0.828829</td>\n",
       "      <td>0.603604</td>\n",
       "      <td>0.233333</td>\n",
       "      <td>1.0</td>\n",
       "      <td>1.0</td>\n",
       "      <td>0.696731</td>\n",
       "      <td>0.713329</td>\n",
       "      <td>0.092144</td>\n",
       "      <td>0.033274</td>\n",
       "      <td>0.035322</td>\n",
       "    </tr>\n",
       "    <tr>\n",
       "      <th>3548</th>\n",
       "      <td>49.0</td>\n",
       "      <td>7.0</td>\n",
       "      <td>1.0</td>\n",
       "      <td>1.0</td>\n",
       "      <td>3.0</td>\n",
       "      <td>2.0</td>\n",
       "      <td>0.0</td>\n",
       "      <td>1.0</td>\n",
       "      <td>1.0</td>\n",
       "      <td>1.0</td>\n",
       "      <td>...</td>\n",
       "      <td>0.828829</td>\n",
       "      <td>0.603604</td>\n",
       "      <td>0.233333</td>\n",
       "      <td>1.0</td>\n",
       "      <td>1.0</td>\n",
       "      <td>0.696731</td>\n",
       "      <td>0.713329</td>\n",
       "      <td>0.092144</td>\n",
       "      <td>0.033274</td>\n",
       "      <td>-0.037089</td>\n",
       "    </tr>\n",
       "  </tbody>\n",
       "</table>\n",
       "<p>3209 rows × 58 columns</p>\n",
       "</div>"
      ],
      "text/plain": [
       "      s1age_head_05  s1hhsize_05  s1hhsz_undr5_05  s1hhsz_5_14_05  \\\n",
       "1              35.0          5.0              1.0             2.0   \n",
       "2              56.0          8.0              1.0             1.0   \n",
       "3              49.0         12.0              1.0             5.0   \n",
       "4              49.0         12.0              1.0             5.0   \n",
       "6              31.0          5.0              1.0             2.0   \n",
       "...             ...          ...              ...             ...   \n",
       "3544           52.0          8.0              1.0             1.0   \n",
       "3545           31.0          5.0              2.0             1.0   \n",
       "3546           31.0          5.0              2.0             1.0   \n",
       "3547           49.0          7.0              1.0             1.0   \n",
       "3548           49.0          7.0              1.0             1.0   \n",
       "\n",
       "      s1hhsz_15_24_05  s1hhsz_25_64_05  s1hhsz_65plus_05  s1male_head_05  \\\n",
       "1                 0.0              2.0               0.0             1.0   \n",
       "2                 3.0              3.0               0.0             1.0   \n",
       "3                 2.0              3.0               0.0             1.0   \n",
       "4                 2.0              3.0               0.0             1.0   \n",
       "6                 0.0              2.0               0.0             1.0   \n",
       "...               ...              ...               ...             ...   \n",
       "3544              3.0              3.0               0.0             1.0   \n",
       "3545              0.0              2.0               0.0             1.0   \n",
       "3546              0.0              2.0               0.0             1.0   \n",
       "3547              3.0              2.0               0.0             1.0   \n",
       "3548              3.0              2.0               0.0             1.0   \n",
       "\n",
       "      s2mother_inhs_05  s3ap5_rooms_h_05  ...  com_vit_05  com_deworm_05  \\\n",
       "1                  1.0               1.0  ...    0.571429       0.285714   \n",
       "2                  1.0               3.0  ...    0.685714       0.628571   \n",
       "3                  1.0               1.0  ...    0.861111       0.500000   \n",
       "4                  1.0               1.0  ...    0.861111       0.500000   \n",
       "6                  1.0               3.0  ...    0.861111       0.500000   \n",
       "...                ...               ...  ...         ...            ...   \n",
       "3544               1.0               4.0  ...    0.720000       0.600000   \n",
       "3545               1.0               2.0  ...    0.720000       0.600000   \n",
       "3546               1.0               2.0  ...    0.720000       0.600000   \n",
       "3547               1.0               1.0  ...    0.828829       0.603604   \n",
       "3548               1.0               1.0  ...    0.828829       0.603604   \n",
       "\n",
       "      com_notvip  sample06  vitamiron_06  propfood_05  prstap_f_05  \\\n",
       "1       0.500000       1.0           0.0     0.678527     0.204472   \n",
       "2       0.250000       1.0           1.0     0.560299     0.706687   \n",
       "3       0.300000       1.0           1.0     0.527724     0.418402   \n",
       "4       0.300000       1.0           1.0     0.527724     0.418402   \n",
       "6       0.300000       1.0           1.0     0.450707     0.737649   \n",
       "...          ...       ...           ...          ...          ...   \n",
       "3544    0.000000       1.0           0.0     0.575694     0.584656   \n",
       "3545    0.000000       1.0           1.0     0.574574     0.674472   \n",
       "3546    0.000000       1.0           1.0     0.574574     0.674472   \n",
       "3547    0.233333       1.0           1.0     0.696731     0.713329   \n",
       "3548    0.233333       1.0           1.0     0.696731     0.713329   \n",
       "\n",
       "      pranimalprot_f_05  prfruitveg_f_05  z_all_06  \n",
       "1              0.674387         0.000000  0.450156  \n",
       "2              0.046980         0.009460  0.011252  \n",
       "3              0.122034         0.135109 -0.505333  \n",
       "4              0.122034         0.135109 -0.468488  \n",
       "6              0.037743         0.067608  0.120401  \n",
       "...                 ...              ...       ...  \n",
       "3544           0.043516         0.047044  0.432928  \n",
       "3545           0.037236         0.054894  0.418482  \n",
       "3546           0.037236         0.054894  0.439541  \n",
       "3547           0.092144         0.033274  0.035322  \n",
       "3548           0.092144         0.033274 -0.037089  \n",
       "\n",
       "[3209 rows x 58 columns]"
      ]
     },
     "execution_count": 38,
     "metadata": {},
     "output_type": "execute_result"
    }
   ],
   "source": [
    "cleaned_df"
   ]
  },
  {
   "cell_type": "code",
   "execution_count": 39,
   "id": "9b62bf97",
   "metadata": {},
   "outputs": [],
   "source": [
    "counterfactual_df=cleaned_df.drop(\"z_all_06\",axis=1)"
   ]
  },
  {
   "cell_type": "code",
   "execution_count": 40,
   "id": "07d3b241",
   "metadata": {},
   "outputs": [
    {
     "data": {
      "text/plain": [
       "1       1.0\n",
       "2       1.0\n",
       "3       1.0\n",
       "4       1.0\n",
       "6       1.0\n",
       "       ... \n",
       "3544    0.0\n",
       "3545    0.0\n",
       "3546    0.0\n",
       "3547    1.0\n",
       "3548    1.0\n",
       "Name: tr, Length: 3209, dtype: float32"
      ]
     },
     "execution_count": 40,
     "metadata": {},
     "output_type": "execute_result"
    }
   ],
   "source": [
    "counterfactual_df.tr"
   ]
  },
  {
   "cell_type": "code",
   "execution_count": 41,
   "id": "05cc3080",
   "metadata": {},
   "outputs": [],
   "source": [
    "a=counterfactual_df[\"tr\"]+1"
   ]
  },
  {
   "cell_type": "code",
   "execution_count": 42,
   "id": "e9feabf3",
   "metadata": {},
   "outputs": [],
   "source": [
    "counterfactual_df[\"tr\"]=a%2"
   ]
  },
  {
   "cell_type": "code",
   "execution_count": 43,
   "id": "9dad02a6",
   "metadata": {},
   "outputs": [
    {
     "data": {
      "text/plain": [
       "1       0.0\n",
       "2       0.0\n",
       "3       0.0\n",
       "4       0.0\n",
       "6       0.0\n",
       "       ... \n",
       "3544    1.0\n",
       "3545    1.0\n",
       "3546    1.0\n",
       "3547    0.0\n",
       "3548    0.0\n",
       "Name: tr, Length: 3209, dtype: float32"
      ]
     },
     "execution_count": 43,
     "metadata": {},
     "output_type": "execute_result"
    }
   ],
   "source": [
    "counterfactual_df.tr"
   ]
  },
  {
   "cell_type": "code",
   "execution_count": 99,
   "id": "3675377c",
   "metadata": {},
   "outputs": [],
   "source": [
    "counterfactual=forest_reg.predict(counterfactual_df)"
   ]
  },
  {
   "cell_type": "code",
   "execution_count": 100,
   "id": "90262d50",
   "metadata": {},
   "outputs": [],
   "source": [
    "observed=cleaned_df[\"z_all_06\"]\n",
    "counterfactuals=pd.Series(counterfactual, index=observed.index)"
   ]
  },
  {
   "cell_type": "code",
   "execution_count": 102,
   "id": "0473f02d",
   "metadata": {},
   "outputs": [
    {
     "data": {
      "text/plain": [
       "1       0.450156\n",
       "2       0.011252\n",
       "3      -0.505333\n",
       "4      -0.468488\n",
       "6       0.120401\n",
       "          ...   \n",
       "3544    0.432928\n",
       "3545    0.418482\n",
       "3546    0.439541\n",
       "3547    0.035322\n",
       "3548   -0.037089\n",
       "Name: z_all_06, Length: 3209, dtype: float32"
      ]
     },
     "execution_count": 102,
     "metadata": {},
     "output_type": "execute_result"
    }
   ],
   "source": [
    "observed"
   ]
  },
  {
   "cell_type": "code",
   "execution_count": 184,
   "id": "9eea8cba",
   "metadata": {},
   "outputs": [],
   "source": [
    "ite_temp=pd.Series([observed[i]-counterfactuals[i] for i in observed.index if cleaned_df.tr[i]==1], index=cleaned_df[cleaned_df.tr==1].index)\n",
    "ite_temp1=pd.Series([counterfactuals[i]-observed[i] for i in observed.index if cleaned_df.tr[i]==0], index=cleaned_df[cleaned_df.tr==0].index)\n",
    "ite=pd.concat([ite_temp,ite_temp1])\n",
    "ite.sort_index(inplace=True)"
   ]
  },
  {
   "cell_type": "code",
   "execution_count": 185,
   "id": "0a2c9c8b",
   "metadata": {},
   "outputs": [
    {
     "data": {
      "text/plain": [
       "count    3209.000000\n",
       "mean        0.093979\n",
       "std         0.489267\n",
       "min        -3.511709\n",
       "25%        -0.181556\n",
       "50%         0.115594\n",
       "75%         0.392617\n",
       "max         2.547441\n",
       "dtype: float64"
      ]
     },
     "execution_count": 185,
     "metadata": {},
     "output_type": "execute_result"
    }
   ],
   "source": [
    "ite.describe()"
   ]
  },
  {
   "cell_type": "code",
   "execution_count": 186,
   "id": "9637ac18",
   "metadata": {},
   "outputs": [
    {
     "data": {
      "text/plain": [
       "<AxesSubplot:ylabel='Count'>"
      ]
     },
     "execution_count": 186,
     "metadata": {},
     "output_type": "execute_result"
    },
    {
     "data": {
      "image/png": "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\n",
      "text/plain": [
       "<Figure size 432x288 with 1 Axes>"
      ]
     },
     "metadata": {
      "needs_background": "light"
     },
     "output_type": "display_data"
    }
   ],
   "source": [
    "import seaborn as sb\n",
    "\n",
    "sb.histplot(ite)"
   ]
  },
  {
   "cell_type": "code",
   "execution_count": 49,
   "id": "a97733f1",
   "metadata": {},
   "outputs": [
    {
     "data": {
      "text/plain": [
       "count    3209.000000\n",
       "mean        0.041547\n",
       "std         0.588593\n",
       "min        -6.785845\n",
       "25%        -0.247309\n",
       "50%         0.104151\n",
       "75%         0.405594\n",
       "max         2.354861\n",
       "Name: z_all_06, dtype: float64"
      ]
     },
     "execution_count": 49,
     "metadata": {},
     "output_type": "execute_result"
    }
   ],
   "source": [
    "cleaned_df.z_all_06.describe()"
   ]
  },
  {
   "cell_type": "markdown",
   "id": "d3c49300",
   "metadata": {},
   "source": [
    "NO CONSIDERAR: ite amb counterfactual i observed predits pel model"
   ]
  },
  {
   "cell_type": "code",
   "execution_count": 117,
   "id": "5d0ccee9",
   "metadata": {},
   "outputs": [],
   "source": [
    "observed_df=cleaned_df.drop(\"z_all_06\",axis=1)\n",
    "observed_predict=forest_reg.predict(observed_df)\n",
    "observed_predict=pd.Series(observed_predict, index=observed_df.index)"
   ]
  },
  {
   "cell_type": "code",
   "execution_count": 118,
   "id": "0d6ed0ab",
   "metadata": {},
   "outputs": [],
   "source": [
    "ite1=[observed_predict[i]-counterfactuals[i] for i in observed_predict.index if cleaned_df.tr[i]==1]+[counterfactuals[i]-observed_predict[i] for i in observed_predict.index if cleaned_df.tr[i]==0 ]"
   ]
  },
  {
   "cell_type": "code",
   "execution_count": 121,
   "id": "184ad4ea",
   "metadata": {},
   "outputs": [
    {
     "data": {
      "text/plain": [
       "count    3209.000000\n",
       "mean       -0.000477\n",
       "std         0.036231\n",
       "min        -0.323135\n",
       "25%        -0.003446\n",
       "50%         0.000000\n",
       "75%         0.008464\n",
       "max         0.145475\n",
       "dtype: float64"
      ]
     },
     "execution_count": 121,
     "metadata": {},
     "output_type": "execute_result"
    }
   ],
   "source": [
    "ite1=pd.Series(ite1, index=cleaned_df.index)\n",
    "ite1.describe()"
   ]
  },
  {
   "cell_type": "code",
   "execution_count": 123,
   "id": "faceb986",
   "metadata": {},
   "outputs": [
    {
     "data": {
      "text/plain": [
       "<AxesSubplot:ylabel='Count'>"
      ]
     },
     "execution_count": 123,
     "metadata": {},
     "output_type": "execute_result"
    },
    {
     "data": {
      "image/png": "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\n",
      "text/plain": [
       "<Figure size 432x288 with 1 Axes>"
      ]
     },
     "metadata": {
      "needs_background": "light"
     },
     "output_type": "display_data"
    }
   ],
   "source": [
    "sb.histplot(ite1)"
   ]
  },
  {
   "cell_type": "code",
   "execution_count": 124,
   "id": "21b8cdbb",
   "metadata": {},
   "outputs": [
    {
     "data": {
      "text/plain": [
       " 0.000000    1193\n",
       "-0.013396      22\n",
       " 0.000436      20\n",
       "-0.034386      19\n",
       "-0.006040      16\n",
       "             ... \n",
       "-0.018917       1\n",
       "-0.015859       1\n",
       " 0.016669       1\n",
       "-0.010926       1\n",
       "-0.013396       1\n",
       "Length: 1295, dtype: int64"
      ]
     },
     "execution_count": 124,
     "metadata": {},
     "output_type": "execute_result"
    }
   ],
   "source": [
    "ite1.value_counts()"
   ]
  },
  {
   "cell_type": "markdown",
   "id": "40087ab7",
   "metadata": {},
   "source": [
    "### ESTRATIFICACIO ITE"
   ]
  },
  {
   "cell_type": "markdown",
   "id": "ced005c0",
   "metadata": {},
   "source": [
    "Quartils i std.\n",
    "\n",
    "1. Separem <=q25, q25<...<=q50, q50<=q75, q75<\n",
    "2. STD"
   ]
  },
  {
   "cell_type": "code",
   "execution_count": 187,
   "id": "00533b58",
   "metadata": {},
   "outputs": [],
   "source": [
    "quartils=ite.quantile([0.25,0.5, 0.75])"
   ]
  },
  {
   "cell_type": "code",
   "execution_count": 188,
   "id": "2e8556b1",
   "metadata": {},
   "outputs": [],
   "source": [
    "ite0=ite[ite<=quartils.iloc[0]]"
   ]
  },
  {
   "cell_type": "code",
   "execution_count": 189,
   "id": "08767691",
   "metadata": {},
   "outputs": [],
   "source": [
    "ite1=ite[ite<=quartils.iloc[1]]\n",
    "ite1.drop(ite0.index, inplace=True)"
   ]
  },
  {
   "cell_type": "code",
   "execution_count": 190,
   "id": "553ca5ef",
   "metadata": {},
   "outputs": [],
   "source": [
    "ite2=ite[ite<=quartils.iloc[2]]\n",
    "ite2.drop(ite0.index, inplace=True)\n",
    "ite2.drop(ite1.index, inplace=True)"
   ]
  },
  {
   "cell_type": "code",
   "execution_count": 191,
   "id": "ebdb748d",
   "metadata": {},
   "outputs": [],
   "source": [
    "ite3=ite.copy()\n",
    "ite3.drop(ite0.index, inplace=True)\n",
    "ite3.drop(ite1.index, inplace=True)\n",
    "ite3.drop(ite2.index, inplace=True)"
   ]
  },
  {
   "cell_type": "code",
   "execution_count": 212,
   "id": "6ac87e17",
   "metadata": {},
   "outputs": [],
   "source": [
    "ite0_df=cleaned_df.loc[ite0.index]\n",
    "ite1_df=cleaned_df.loc[ite1.index]\n",
    "ite2_df=cleaned_df.loc[ite2.index]\n",
    "ite3_df=cleaned_df.loc[ite3.index]"
   ]
  },
  {
   "cell_type": "code",
   "execution_count": 249,
   "id": "55110a90",
   "metadata": {},
   "outputs": [],
   "source": [
    "shap=[[stats.shapiro(ite0_df[col].values).pvalue for col in normal_cols],\n",
    "        [stats.shapiro(ite1_df[col].values).pvalue for col in normal_cols],\n",
    "        [stats.shapiro(ite2_df[col].values).pvalue for col in normal_cols],\n",
    "        [stats.shapiro(ite3_df[col].values).pvalue for col in normal_cols]]\n",
    "\n",
    "shap_df=pd.DataFrame(shap,columns=normal_cols)"
   ]
  },
  {
   "cell_type": "code",
   "execution_count": 251,
   "id": "44bb57a4",
   "metadata": {},
   "outputs": [
    {
     "data": {
      "text/html": [
       "<div>\n",
       "<style scoped>\n",
       "    .dataframe tbody tr th:only-of-type {\n",
       "        vertical-align: middle;\n",
       "    }\n",
       "\n",
       "    .dataframe tbody tr th {\n",
       "        vertical-align: top;\n",
       "    }\n",
       "\n",
       "    .dataframe thead th {\n",
       "        text-align: right;\n",
       "    }\n",
       "</style>\n",
       "<table border=\"1\" class=\"dataframe\">\n",
       "  <thead>\n",
       "    <tr style=\"text-align: right;\">\n",
       "      <th></th>\n",
       "      <th>height_05</th>\n",
       "      <th>a10whz_05</th>\n",
       "      <th>weight_05</th>\n",
       "      <th>com_haz_05</th>\n",
       "      <th>com_waz_05</th>\n",
       "    </tr>\n",
       "  </thead>\n",
       "  <tbody>\n",
       "    <tr>\n",
       "      <th>0</th>\n",
       "      <td>1.692938e-20</td>\n",
       "      <td>7.999157e-21</td>\n",
       "      <td>5.900706e-23</td>\n",
       "      <td>4.731629e-08</td>\n",
       "      <td>4.332452e-05</td>\n",
       "    </tr>\n",
       "    <tr>\n",
       "      <th>1</th>\n",
       "      <td>1.068471e-17</td>\n",
       "      <td>2.055897e-20</td>\n",
       "      <td>1.974264e-18</td>\n",
       "      <td>6.929594e-08</td>\n",
       "      <td>6.752737e-05</td>\n",
       "    </tr>\n",
       "    <tr>\n",
       "      <th>2</th>\n",
       "      <td>4.455937e-18</td>\n",
       "      <td>5.056334e-15</td>\n",
       "      <td>9.587839e-20</td>\n",
       "      <td>2.340285e-11</td>\n",
       "      <td>6.823386e-07</td>\n",
       "    </tr>\n",
       "    <tr>\n",
       "      <th>3</th>\n",
       "      <td>2.079285e-16</td>\n",
       "      <td>7.975345e-17</td>\n",
       "      <td>1.450469e-14</td>\n",
       "      <td>1.624672e-10</td>\n",
       "      <td>1.016494e-07</td>\n",
       "    </tr>\n",
       "  </tbody>\n",
       "</table>\n",
       "</div>"
      ],
      "text/plain": [
       "      height_05     a10whz_05     weight_05    com_haz_05    com_waz_05\n",
       "0  1.692938e-20  7.999157e-21  5.900706e-23  4.731629e-08  4.332452e-05\n",
       "1  1.068471e-17  2.055897e-20  1.974264e-18  6.929594e-08  6.752737e-05\n",
       "2  4.455937e-18  5.056334e-15  9.587839e-20  2.340285e-11  6.823386e-07\n",
       "3  2.079285e-16  7.975345e-17  1.450469e-14  1.624672e-10  1.016494e-07"
      ]
     },
     "execution_count": 251,
     "metadata": {},
     "output_type": "execute_result"
    }
   ],
   "source": [
    "#fem el test de shapiro a els subgrups (generats al estratificar la ite en quartils) de les variables normals. \n",
    "#Surt normalitat arreu, aixi que si tenen desv std entre ells normals, podrem aplicar t-tests per comprovar \n",
    "#si les mitjanes son iguals\n",
    "shap_df"
   ]
  },
  {
   "cell_type": "code",
   "execution_count": 253,
   "id": "ac4ffd67",
   "metadata": {},
   "outputs": [],
   "source": [
    "std=[[np.std(ite0_df[col].values) for col in normal_cols],\n",
    "        [np.std(ite1_df[col].values) for col in normal_cols],\n",
    "        [np.std(ite2_df[col].values) for col in normal_cols],\n",
    "        [np.std(ite3_df[col].values) for col in normal_cols]]\n",
    "std_df=pd.DataFrame(std,columns=normal_cols)"
   ]
  },
  {
   "cell_type": "code",
   "execution_count": 254,
   "id": "69ba575a",
   "metadata": {},
   "outputs": [
    {
     "data": {
      "text/html": [
       "<div>\n",
       "<style scoped>\n",
       "    .dataframe tbody tr th:only-of-type {\n",
       "        vertical-align: middle;\n",
       "    }\n",
       "\n",
       "    .dataframe tbody tr th {\n",
       "        vertical-align: top;\n",
       "    }\n",
       "\n",
       "    .dataframe thead th {\n",
       "        text-align: right;\n",
       "    }\n",
       "</style>\n",
       "<table border=\"1\" class=\"dataframe\">\n",
       "  <thead>\n",
       "    <tr style=\"text-align: right;\">\n",
       "      <th></th>\n",
       "      <th>height_05</th>\n",
       "      <th>a10whz_05</th>\n",
       "      <th>weight_05</th>\n",
       "      <th>com_haz_05</th>\n",
       "      <th>com_waz_05</th>\n",
       "    </tr>\n",
       "  </thead>\n",
       "  <tbody>\n",
       "    <tr>\n",
       "      <th>0</th>\n",
       "      <td>1.051912</td>\n",
       "      <td>0.948997</td>\n",
       "      <td>1.157040</td>\n",
       "      <td>0.535744</td>\n",
       "      <td>0.486789</td>\n",
       "    </tr>\n",
       "    <tr>\n",
       "      <th>1</th>\n",
       "      <td>0.973054</td>\n",
       "      <td>0.928258</td>\n",
       "      <td>1.024248</td>\n",
       "      <td>0.515012</td>\n",
       "      <td>0.461553</td>\n",
       "    </tr>\n",
       "    <tr>\n",
       "      <th>2</th>\n",
       "      <td>1.022051</td>\n",
       "      <td>0.844274</td>\n",
       "      <td>1.068762</td>\n",
       "      <td>0.521360</td>\n",
       "      <td>0.447696</td>\n",
       "    </tr>\n",
       "    <tr>\n",
       "      <th>3</th>\n",
       "      <td>1.241987</td>\n",
       "      <td>0.945313</td>\n",
       "      <td>1.268203</td>\n",
       "      <td>0.524768</td>\n",
       "      <td>0.448712</td>\n",
       "    </tr>\n",
       "  </tbody>\n",
       "</table>\n",
       "</div>"
      ],
      "text/plain": [
       "   height_05  a10whz_05  weight_05  com_haz_05  com_waz_05\n",
       "0   1.051912   0.948997   1.157040    0.535744    0.486789\n",
       "1   0.973054   0.928258   1.024248    0.515012    0.461553\n",
       "2   1.022051   0.844274   1.068762    0.521360    0.447696\n",
       "3   1.241987   0.945313   1.268203    0.524768    0.448712"
      ]
     },
     "execution_count": 254,
     "metadata": {},
     "output_type": "execute_result"
    }
   ],
   "source": [
    "std_df"
   ]
  },
  {
   "cell_type": "code",
   "execution_count": 225,
   "id": "8b366e61",
   "metadata": {},
   "outputs": [
    {
     "data": {
      "text/html": [
       "<div>\n",
       "<style scoped>\n",
       "    .dataframe tbody tr th:only-of-type {\n",
       "        vertical-align: middle;\n",
       "    }\n",
       "\n",
       "    .dataframe tbody tr th {\n",
       "        vertical-align: top;\n",
       "    }\n",
       "\n",
       "    .dataframe thead th {\n",
       "        text-align: right;\n",
       "    }\n",
       "</style>\n",
       "<table border=\"1\" class=\"dataframe\">\n",
       "  <thead>\n",
       "    <tr style=\"text-align: right;\">\n",
       "      <th></th>\n",
       "      <th>height_05</th>\n",
       "      <th>a10whz_05</th>\n",
       "      <th>weight_05</th>\n",
       "      <th>com_haz_05</th>\n",
       "      <th>com_waz_05</th>\n",
       "    </tr>\n",
       "  </thead>\n",
       "  <tbody>\n",
       "    <tr>\n",
       "      <th>count</th>\n",
       "      <td>803.000000</td>\n",
       "      <td>803.000000</td>\n",
       "      <td>803.000000</td>\n",
       "      <td>803.000000</td>\n",
       "      <td>803.000000</td>\n",
       "    </tr>\n",
       "    <tr>\n",
       "      <th>mean</th>\n",
       "      <td>-1.159026</td>\n",
       "      <td>-0.173930</td>\n",
       "      <td>-0.974409</td>\n",
       "      <td>-1.200500</td>\n",
       "      <td>-0.977829</td>\n",
       "    </tr>\n",
       "    <tr>\n",
       "      <th>std</th>\n",
       "      <td>1.052567</td>\n",
       "      <td>0.949587</td>\n",
       "      <td>1.157759</td>\n",
       "      <td>0.536077</td>\n",
       "      <td>0.487092</td>\n",
       "    </tr>\n",
       "    <tr>\n",
       "      <th>min</th>\n",
       "      <td>-5.587734</td>\n",
       "      <td>-5.823857</td>\n",
       "      <td>-5.136597</td>\n",
       "      <td>-2.323237</td>\n",
       "      <td>-2.374005</td>\n",
       "    </tr>\n",
       "    <tr>\n",
       "      <th>25%</th>\n",
       "      <td>-1.548416</td>\n",
       "      <td>-0.527920</td>\n",
       "      <td>-1.452437</td>\n",
       "      <td>-1.537984</td>\n",
       "      <td>-1.321717</td>\n",
       "    </tr>\n",
       "    <tr>\n",
       "      <th>50%</th>\n",
       "      <td>-1.213941</td>\n",
       "      <td>-0.169167</td>\n",
       "      <td>-1.013034</td>\n",
       "      <td>-1.204403</td>\n",
       "      <td>-0.987693</td>\n",
       "    </tr>\n",
       "    <tr>\n",
       "      <th>75%</th>\n",
       "      <td>-0.806143</td>\n",
       "      <td>0.136461</td>\n",
       "      <td>-0.622533</td>\n",
       "      <td>-0.883109</td>\n",
       "      <td>-0.644499</td>\n",
       "    </tr>\n",
       "    <tr>\n",
       "      <th>max</th>\n",
       "      <td>4.332216</td>\n",
       "      <td>4.850458</td>\n",
       "      <td>5.628351</td>\n",
       "      <td>0.504012</td>\n",
       "      <td>0.829595</td>\n",
       "    </tr>\n",
       "  </tbody>\n",
       "</table>\n",
       "</div>"
      ],
      "text/plain": [
       "        height_05   a10whz_05   weight_05  com_haz_05  com_waz_05\n",
       "count  803.000000  803.000000  803.000000  803.000000  803.000000\n",
       "mean    -1.159026   -0.173930   -0.974409   -1.200500   -0.977829\n",
       "std      1.052567    0.949587    1.157759    0.536077    0.487092\n",
       "min     -5.587734   -5.823857   -5.136597   -2.323237   -2.374005\n",
       "25%     -1.548416   -0.527920   -1.452437   -1.537984   -1.321717\n",
       "50%     -1.213941   -0.169167   -1.013034   -1.204403   -0.987693\n",
       "75%     -0.806143    0.136461   -0.622533   -0.883109   -0.644499\n",
       "max      4.332216    4.850458    5.628351    0.504012    0.829595"
      ]
     },
     "execution_count": 225,
     "metadata": {},
     "output_type": "execute_result"
    }
   ],
   "source": [
    "ite0_df[normal_cols].describe()"
   ]
  },
  {
   "cell_type": "code",
   "execution_count": 226,
   "id": "39da1fcc",
   "metadata": {},
   "outputs": [
    {
     "data": {
      "text/html": [
       "<div>\n",
       "<style scoped>\n",
       "    .dataframe tbody tr th:only-of-type {\n",
       "        vertical-align: middle;\n",
       "    }\n",
       "\n",
       "    .dataframe tbody tr th {\n",
       "        vertical-align: top;\n",
       "    }\n",
       "\n",
       "    .dataframe thead th {\n",
       "        text-align: right;\n",
       "    }\n",
       "</style>\n",
       "<table border=\"1\" class=\"dataframe\">\n",
       "  <thead>\n",
       "    <tr style=\"text-align: right;\">\n",
       "      <th></th>\n",
       "      <th>height_05</th>\n",
       "      <th>a10whz_05</th>\n",
       "      <th>weight_05</th>\n",
       "      <th>com_haz_05</th>\n",
       "      <th>com_waz_05</th>\n",
       "    </tr>\n",
       "  </thead>\n",
       "  <tbody>\n",
       "    <tr>\n",
       "      <th>count</th>\n",
       "      <td>802.000000</td>\n",
       "      <td>802.000000</td>\n",
       "      <td>802.000000</td>\n",
       "      <td>802.000000</td>\n",
       "      <td>802.000000</td>\n",
       "    </tr>\n",
       "    <tr>\n",
       "      <th>mean</th>\n",
       "      <td>-1.276148</td>\n",
       "      <td>-0.101024</td>\n",
       "      <td>-1.040323</td>\n",
       "      <td>-1.260586</td>\n",
       "      <td>-1.050950</td>\n",
       "    </tr>\n",
       "    <tr>\n",
       "      <th>std</th>\n",
       "      <td>1.242762</td>\n",
       "      <td>0.945902</td>\n",
       "      <td>1.268994</td>\n",
       "      <td>0.525096</td>\n",
       "      <td>0.448992</td>\n",
       "    </tr>\n",
       "    <tr>\n",
       "      <th>min</th>\n",
       "      <td>-5.690308</td>\n",
       "      <td>-4.034855</td>\n",
       "      <td>-5.669209</td>\n",
       "      <td>-2.323237</td>\n",
       "      <td>-2.374005</td>\n",
       "    </tr>\n",
       "    <tr>\n",
       "      <th>25%</th>\n",
       "      <td>-1.717241</td>\n",
       "      <td>-0.479922</td>\n",
       "      <td>-1.570520</td>\n",
       "      <td>-1.737182</td>\n",
       "      <td>-1.397898</td>\n",
       "    </tr>\n",
       "    <tr>\n",
       "      <th>50%</th>\n",
       "      <td>-1.213941</td>\n",
       "      <td>-0.169167</td>\n",
       "      <td>-1.013034</td>\n",
       "      <td>-1.252950</td>\n",
       "      <td>-1.062930</td>\n",
       "    </tr>\n",
       "    <tr>\n",
       "      <th>75%</th>\n",
       "      <td>-0.762598</td>\n",
       "      <td>0.312019</td>\n",
       "      <td>-0.429225</td>\n",
       "      <td>-0.896829</td>\n",
       "      <td>-0.750683</td>\n",
       "    </tr>\n",
       "    <tr>\n",
       "      <th>max</th>\n",
       "      <td>5.101172</td>\n",
       "      <td>3.731095</td>\n",
       "      <td>4.137001</td>\n",
       "      <td>0.504012</td>\n",
       "      <td>0.322270</td>\n",
       "    </tr>\n",
       "  </tbody>\n",
       "</table>\n",
       "</div>"
      ],
      "text/plain": [
       "        height_05   a10whz_05   weight_05  com_haz_05  com_waz_05\n",
       "count  802.000000  802.000000  802.000000  802.000000  802.000000\n",
       "mean    -1.276148   -0.101024   -1.040323   -1.260586   -1.050950\n",
       "std      1.242762    0.945902    1.268994    0.525096    0.448992\n",
       "min     -5.690308   -4.034855   -5.669209   -2.323237   -2.374005\n",
       "25%     -1.717241   -0.479922   -1.570520   -1.737182   -1.397898\n",
       "50%     -1.213941   -0.169167   -1.013034   -1.252950   -1.062930\n",
       "75%     -0.762598    0.312019   -0.429225   -0.896829   -0.750683\n",
       "max      5.101172    3.731095    4.137001    0.504012    0.322270"
      ]
     },
     "execution_count": 226,
     "metadata": {},
     "output_type": "execute_result"
    }
   ],
   "source": [
    "ite3_df[normal_cols].describe()"
   ]
  },
  {
   "cell_type": "code",
   "execution_count": 264,
   "id": "4cf11aa9",
   "metadata": {},
   "outputs": [],
   "source": [
    "import scipy\n",
    "from scipy import stats\n",
    "    \n",
    "ttestp_df=[[stats.ttest_ind(ite1_df[col].values, ite0_df[col].values).pvalue for col in normal_cols],\n",
    "          [stats.ttest_ind(ite2_df[col].values, ite0_df[col].values).pvalue for col in normal_cols],\n",
    "          [stats.ttest_ind(ite3_df[col].values, ite0_df[col].values).pvalue for col in normal_cols],\n",
    "          [stats.ttest_ind(ite2_df[col].values, ite1_df[col].values).pvalue for col in normal_cols],\n",
    "          [stats.ttest_ind(ite3_df[col].values, ite1_df[col].values).pvalue for col in normal_cols],\n",
    "          [stats.ttest_ind(ite3_df[col].values, ite2_df[col].values).pvalue for col in normal_cols]\n",
    "         ]\n",
    "ttest_df=pd.DataFrame(ttestp_df,columns=normal_cols, index=[\"0-1\",\"0-2\",\"0-3\",\"1-2\",\"1-3\",\"2-3\"])"
   ]
  },
  {
   "cell_type": "code",
   "execution_count": 266,
   "id": "24db93f0",
   "metadata": {},
   "outputs": [
    {
     "data": {
      "text/html": [
       "<style type=\"text/css\">\n",
       "#T_5006a_row0_col0 {\n",
       "  background-color: #f2f8fd;\n",
       "  color: #000000;\n",
       "}\n",
       "#T_5006a_row0_col1 {\n",
       "  background-color: #6fb0d7;\n",
       "  color: #f1f1f1;\n",
       "}\n",
       "#T_5006a_row0_col2, #T_5006a_row2_col0, #T_5006a_row2_col3, #T_5006a_row2_col4, #T_5006a_row4_col1 {\n",
       "  background-color: #f7fbff;\n",
       "  color: #000000;\n",
       "}\n",
       "#T_5006a_row0_col3, #T_5006a_row1_col1, #T_5006a_row1_col2, #T_5006a_row3_col4, #T_5006a_row4_col0 {\n",
       "  background-color: #08306b;\n",
       "  color: #f1f1f1;\n",
       "}\n",
       "#T_5006a_row0_col4 {\n",
       "  background-color: #9cc9e1;\n",
       "  color: #000000;\n",
       "}\n",
       "#T_5006a_row1_col0 {\n",
       "  background-color: #d3e4f3;\n",
       "  color: #000000;\n",
       "}\n",
       "#T_5006a_row1_col3 {\n",
       "  background-color: #7ab6d9;\n",
       "  color: #000000;\n",
       "}\n",
       "#T_5006a_row1_col4 {\n",
       "  background-color: #edf4fc;\n",
       "  color: #000000;\n",
       "}\n",
       "#T_5006a_row2_col1 {\n",
       "  background-color: #d2e3f3;\n",
       "  color: #000000;\n",
       "}\n",
       "#T_5006a_row2_col2 {\n",
       "  background-color: #a9cfe5;\n",
       "  color: #000000;\n",
       "}\n",
       "#T_5006a_row3_col0 {\n",
       "  background-color: #08468b;\n",
       "  color: #f1f1f1;\n",
       "}\n",
       "#T_5006a_row3_col1 {\n",
       "  background-color: #d6e6f4;\n",
       "  color: #000000;\n",
       "}\n",
       "#T_5006a_row3_col2 {\n",
       "  background-color: #d6e5f4;\n",
       "  color: #000000;\n",
       "}\n",
       "#T_5006a_row3_col3 {\n",
       "  background-color: #084387;\n",
       "  color: #f1f1f1;\n",
       "}\n",
       "#T_5006a_row4_col2 {\n",
       "  background-color: #084488;\n",
       "  color: #f1f1f1;\n",
       "}\n",
       "#T_5006a_row4_col3 {\n",
       "  background-color: #e7f1fa;\n",
       "  color: #000000;\n",
       "}\n",
       "#T_5006a_row4_col4 {\n",
       "  background-color: #cee0f2;\n",
       "  color: #000000;\n",
       "}\n",
       "#T_5006a_row5_col0 {\n",
       "  background-color: #4b98ca;\n",
       "  color: #f1f1f1;\n",
       "}\n",
       "#T_5006a_row5_col1 {\n",
       "  background-color: #8dc1dd;\n",
       "  color: #000000;\n",
       "}\n",
       "#T_5006a_row5_col2 {\n",
       "  background-color: #2e7ebc;\n",
       "  color: #f1f1f1;\n",
       "}\n",
       "#T_5006a_row5_col3 {\n",
       "  background-color: #b2d2e8;\n",
       "  color: #000000;\n",
       "}\n",
       "#T_5006a_row5_col4 {\n",
       "  background-color: #084285;\n",
       "  color: #f1f1f1;\n",
       "}\n",
       "</style>\n",
       "<table id=\"T_5006a\">\n",
       "  <thead>\n",
       "    <tr>\n",
       "      <th class=\"blank level0\" >&nbsp;</th>\n",
       "      <th id=\"T_5006a_level0_col0\" class=\"col_heading level0 col0\" >height_05</th>\n",
       "      <th id=\"T_5006a_level0_col1\" class=\"col_heading level0 col1\" >a10whz_05</th>\n",
       "      <th id=\"T_5006a_level0_col2\" class=\"col_heading level0 col2\" >weight_05</th>\n",
       "      <th id=\"T_5006a_level0_col3\" class=\"col_heading level0 col3\" >com_haz_05</th>\n",
       "      <th id=\"T_5006a_level0_col4\" class=\"col_heading level0 col4\" >com_waz_05</th>\n",
       "    </tr>\n",
       "  </thead>\n",
       "  <tbody>\n",
       "    <tr>\n",
       "      <th id=\"T_5006a_level0_row0\" class=\"row_heading level0 row0\" >0-1</th>\n",
       "      <td id=\"T_5006a_row0_col0\" class=\"data row0 col0\" >0.058928</td>\n",
       "      <td id=\"T_5006a_row0_col1\" class=\"data row0 col1\" >0.305725</td>\n",
       "      <td id=\"T_5006a_row0_col2\" class=\"data row0 col2\" >0.081145</td>\n",
       "      <td id=\"T_5006a_row0_col3\" class=\"data row0 col3\" >0.620384</td>\n",
       "      <td id=\"T_5006a_row0_col4\" class=\"data row0 col4\" >0.153247</td>\n",
       "    </tr>\n",
       "    <tr>\n",
       "      <th id=\"T_5006a_level0_row1\" class=\"row_heading level0 row1\" >0-2</th>\n",
       "      <td id=\"T_5006a_row1_col0\" class=\"data row1 col0\" >0.160772</td>\n",
       "      <td id=\"T_5006a_row1_col1\" class=\"data row1 col1\" >0.615128</td>\n",
       "      <td id=\"T_5006a_row1_col2\" class=\"data row1 col2\" >0.654499</td>\n",
       "      <td id=\"T_5006a_row1_col3\" class=\"data row1 col3\" >0.298979</td>\n",
       "      <td id=\"T_5006a_row1_col4\" class=\"data row1 col4\" >0.023228</td>\n",
       "    </tr>\n",
       "    <tr>\n",
       "      <th id=\"T_5006a_level0_row2\" class=\"row_heading level0 row2\" >0-3</th>\n",
       "      <td id=\"T_5006a_row2_col0\" class=\"data row2 col0\" >0.041777</td>\n",
       "      <td id=\"T_5006a_row2_col1\" class=\"data row2 col1\" >0.123538</td>\n",
       "      <td id=\"T_5006a_row2_col2\" class=\"data row2 col2\" >0.277192</td>\n",
       "      <td id=\"T_5006a_row2_col3\" class=\"data row2 col3\" >0.023443</td>\n",
       "      <td id=\"T_5006a_row2_col4\" class=\"data row2 col4\" >0.001799</td>\n",
       "    </tr>\n",
       "    <tr>\n",
       "      <th id=\"T_5006a_level0_row3\" class=\"row_heading level0 row3\" >1-2</th>\n",
       "      <td id=\"T_5006a_row3_col0\" class=\"data row3 col0\" >0.644981</td>\n",
       "      <td id=\"T_5006a_row3_col1\" class=\"data row3 col1\" >0.111466</td>\n",
       "      <td id=\"T_5006a_row3_col2\" class=\"data row3 col2\" >0.178779</td>\n",
       "      <td id=\"T_5006a_row3_col3\" class=\"data row3 col3\" >0.577409</td>\n",
       "      <td id=\"T_5006a_row3_col4\" class=\"data row3 col4\" >0.397782</td>\n",
       "    </tr>\n",
       "    <tr>\n",
       "      <th id=\"T_5006a_level0_row4\" class=\"row_heading level0 row4\" >1-3</th>\n",
       "      <td id=\"T_5006a_row4_col0\" class=\"data row4 col0\" >0.700412</td>\n",
       "      <td id=\"T_5006a_row4_col1\" class=\"data row4 col1\" >0.009863</td>\n",
       "      <td id=\"T_5006a_row4_col2\" class=\"data row4 col2\" >0.610473</td>\n",
       "      <td id=\"T_5006a_row4_col3\" class=\"data row4 col3\" >0.070128</td>\n",
       "      <td id=\"T_5006a_row4_col4\" class=\"data row4 col4\" >0.084473</td>\n",
       "    </tr>\n",
       "    <tr>\n",
       "      <th id=\"T_5006a_level0_row5\" class=\"row_heading level0 row5\" >2-3</th>\n",
       "      <td id=\"T_5006a_row5_col0\" class=\"data row5 col0\" >0.434445</td>\n",
       "      <td id=\"T_5006a_row5_col1\" class=\"data row5 col1\" >0.261115</td>\n",
       "      <td id=\"T_5006a_row5_col2\" class=\"data row5 col2\" >0.484147</td>\n",
       "      <td id=\"T_5006a_row5_col3\" class=\"data row5 col3\" >0.211750</td>\n",
       "      <td id=\"T_5006a_row5_col4\" class=\"data row5 col4\" >0.370812</td>\n",
       "    </tr>\n",
       "  </tbody>\n",
       "</table>\n"
      ],
      "text/plain": [
       "<pandas.io.formats.style.Styler at 0x28ff63fcbe0>"
      ]
     },
     "execution_count": 266,
     "metadata": {},
     "output_type": "execute_result"
    }
   ],
   "source": [
    "#si p<0.05 podem assumir que les mitjanes son diferents (descartem la hipotesi nulla)\n",
    "ttest_df.style.background_gradient(cmap=\"Blues\")"
   ]
  },
  {
   "cell_type": "code",
   "execution_count": null,
   "id": "c2a63e80",
   "metadata": {},
   "outputs": [],
   "source": []
=======
>>>>>>> Stashed changes
  }
 ],
 "metadata": {
  "kernelspec": {
   "display_name": "Python 3 (ipykernel)",
   "language": "python",
   "name": "python3"
  },
  "language_info": {
   "codemirror_mode": {
    "name": "ipython",
    "version": 3
   },
   "file_extension": ".py",
   "mimetype": "text/x-python",
   "name": "python",
   "nbconvert_exporter": "python",
   "pygments_lexer": "ipython3",
   "version": "3.8.8"
  }
 },
 "nbformat": 4,
 "nbformat_minor": 5
}
