{
 "cells": [
  {
   "cell_type": "code",
   "execution_count": 2,
   "id": "8b33a126",
   "metadata": {},
   "outputs": [],
   "source": [
    "import pandas as pd\n",
    "import matplotlib.pyplot as plt"
   ]
  },
  {
   "cell_type": "code",
   "execution_count": 3,
   "id": "5c4ce38f",
   "metadata": {},
   "outputs": [
    {
     "ename": "FileNotFoundError",
     "evalue": "[Errno 2] No such file or directory: 'macoursetal_main.dta'",
     "output_type": "error",
     "traceback": [
      "\u001b[1;31m---------------------------------------------------------------------------\u001b[0m",
      "\u001b[1;31mFileNotFoundError\u001b[0m                         Traceback (most recent call last)",
      "Input \u001b[1;32mIn [3]\u001b[0m, in \u001b[0;36m<cell line: 1>\u001b[1;34m()\u001b[0m\n\u001b[1;32m----> 1\u001b[0m df \u001b[38;5;241m=\u001b[39m \u001b[43mpd\u001b[49m\u001b[38;5;241;43m.\u001b[39;49m\u001b[43mread_stata\u001b[49m\u001b[43m(\u001b[49m\u001b[38;5;124;43m'\u001b[39;49m\u001b[38;5;124;43mmacoursetal_main.dta\u001b[39;49m\u001b[38;5;124;43m'\u001b[39;49m\u001b[43m)\u001b[49m\n",
      "File \u001b[1;32m~\\anaconda3\\lib\\site-packages\\pandas\\io\\stata.py:2004\u001b[0m, in \u001b[0;36mread_stata\u001b[1;34m(filepath_or_buffer, convert_dates, convert_categoricals, index_col, convert_missing, preserve_dtypes, columns, order_categoricals, chunksize, iterator, compression, storage_options)\u001b[0m\n\u001b[0;32m   1988\u001b[0m \u001b[38;5;129m@Appender\u001b[39m(_read_stata_doc)\n\u001b[0;32m   1989\u001b[0m \u001b[38;5;28;01mdef\u001b[39;00m \u001b[38;5;21mread_stata\u001b[39m(\n\u001b[0;32m   1990\u001b[0m     filepath_or_buffer: FilePath \u001b[38;5;241m|\u001b[39m ReadBuffer[\u001b[38;5;28mbytes\u001b[39m],\n\u001b[1;32m   (...)\u001b[0m\n\u001b[0;32m   2001\u001b[0m     storage_options: StorageOptions \u001b[38;5;241m=\u001b[39m \u001b[38;5;28;01mNone\u001b[39;00m,\n\u001b[0;32m   2002\u001b[0m ) \u001b[38;5;241m-\u001b[39m\u001b[38;5;241m>\u001b[39m DataFrame \u001b[38;5;241m|\u001b[39m StataReader:\n\u001b[1;32m-> 2004\u001b[0m     reader \u001b[38;5;241m=\u001b[39m \u001b[43mStataReader\u001b[49m\u001b[43m(\u001b[49m\n\u001b[0;32m   2005\u001b[0m \u001b[43m        \u001b[49m\u001b[43mfilepath_or_buffer\u001b[49m\u001b[43m,\u001b[49m\n\u001b[0;32m   2006\u001b[0m \u001b[43m        \u001b[49m\u001b[43mconvert_dates\u001b[49m\u001b[38;5;241;43m=\u001b[39;49m\u001b[43mconvert_dates\u001b[49m\u001b[43m,\u001b[49m\n\u001b[0;32m   2007\u001b[0m \u001b[43m        \u001b[49m\u001b[43mconvert_categoricals\u001b[49m\u001b[38;5;241;43m=\u001b[39;49m\u001b[43mconvert_categoricals\u001b[49m\u001b[43m,\u001b[49m\n\u001b[0;32m   2008\u001b[0m \u001b[43m        \u001b[49m\u001b[43mindex_col\u001b[49m\u001b[38;5;241;43m=\u001b[39;49m\u001b[43mindex_col\u001b[49m\u001b[43m,\u001b[49m\n\u001b[0;32m   2009\u001b[0m \u001b[43m        \u001b[49m\u001b[43mconvert_missing\u001b[49m\u001b[38;5;241;43m=\u001b[39;49m\u001b[43mconvert_missing\u001b[49m\u001b[43m,\u001b[49m\n\u001b[0;32m   2010\u001b[0m \u001b[43m        \u001b[49m\u001b[43mpreserve_dtypes\u001b[49m\u001b[38;5;241;43m=\u001b[39;49m\u001b[43mpreserve_dtypes\u001b[49m\u001b[43m,\u001b[49m\n\u001b[0;32m   2011\u001b[0m \u001b[43m        \u001b[49m\u001b[43mcolumns\u001b[49m\u001b[38;5;241;43m=\u001b[39;49m\u001b[43mcolumns\u001b[49m\u001b[43m,\u001b[49m\n\u001b[0;32m   2012\u001b[0m \u001b[43m        \u001b[49m\u001b[43morder_categoricals\u001b[49m\u001b[38;5;241;43m=\u001b[39;49m\u001b[43morder_categoricals\u001b[49m\u001b[43m,\u001b[49m\n\u001b[0;32m   2013\u001b[0m \u001b[43m        \u001b[49m\u001b[43mchunksize\u001b[49m\u001b[38;5;241;43m=\u001b[39;49m\u001b[43mchunksize\u001b[49m\u001b[43m,\u001b[49m\n\u001b[0;32m   2014\u001b[0m \u001b[43m        \u001b[49m\u001b[43mstorage_options\u001b[49m\u001b[38;5;241;43m=\u001b[39;49m\u001b[43mstorage_options\u001b[49m\u001b[43m,\u001b[49m\n\u001b[0;32m   2015\u001b[0m \u001b[43m        \u001b[49m\u001b[43mcompression\u001b[49m\u001b[38;5;241;43m=\u001b[39;49m\u001b[43mcompression\u001b[49m\u001b[43m,\u001b[49m\n\u001b[0;32m   2016\u001b[0m \u001b[43m    \u001b[49m\u001b[43m)\u001b[49m\n\u001b[0;32m   2018\u001b[0m     \u001b[38;5;28;01mif\u001b[39;00m iterator \u001b[38;5;129;01mor\u001b[39;00m chunksize:\n\u001b[0;32m   2019\u001b[0m         \u001b[38;5;28;01mreturn\u001b[39;00m reader\n",
      "File \u001b[1;32m~\\anaconda3\\lib\\site-packages\\pandas\\io\\stata.py:1151\u001b[0m, in \u001b[0;36mStataReader.__init__\u001b[1;34m(self, path_or_buf, convert_dates, convert_categoricals, index_col, convert_missing, preserve_dtypes, columns, order_categoricals, chunksize, compression, storage_options)\u001b[0m\n\u001b[0;32m   1148\u001b[0m \u001b[38;5;28mself\u001b[39m\u001b[38;5;241m.\u001b[39m_lines_read \u001b[38;5;241m=\u001b[39m \u001b[38;5;241m0\u001b[39m\n\u001b[0;32m   1150\u001b[0m \u001b[38;5;28mself\u001b[39m\u001b[38;5;241m.\u001b[39m_native_byteorder \u001b[38;5;241m=\u001b[39m _set_endianness(sys\u001b[38;5;241m.\u001b[39mbyteorder)\n\u001b[1;32m-> 1151\u001b[0m \u001b[38;5;28;01mwith\u001b[39;00m \u001b[43mget_handle\u001b[49m\u001b[43m(\u001b[49m\n\u001b[0;32m   1152\u001b[0m \u001b[43m    \u001b[49m\u001b[43mpath_or_buf\u001b[49m\u001b[43m,\u001b[49m\n\u001b[0;32m   1153\u001b[0m \u001b[43m    \u001b[49m\u001b[38;5;124;43m\"\u001b[39;49m\u001b[38;5;124;43mrb\u001b[39;49m\u001b[38;5;124;43m\"\u001b[39;49m\u001b[43m,\u001b[49m\n\u001b[0;32m   1154\u001b[0m \u001b[43m    \u001b[49m\u001b[43mstorage_options\u001b[49m\u001b[38;5;241;43m=\u001b[39;49m\u001b[43mstorage_options\u001b[49m\u001b[43m,\u001b[49m\n\u001b[0;32m   1155\u001b[0m \u001b[43m    \u001b[49m\u001b[43mis_text\u001b[49m\u001b[38;5;241;43m=\u001b[39;49m\u001b[38;5;28;43;01mFalse\u001b[39;49;00m\u001b[43m,\u001b[49m\n\u001b[0;32m   1156\u001b[0m \u001b[43m    \u001b[49m\u001b[43mcompression\u001b[49m\u001b[38;5;241;43m=\u001b[39;49m\u001b[43mcompression\u001b[49m\u001b[43m,\u001b[49m\n\u001b[0;32m   1157\u001b[0m \u001b[43m\u001b[49m\u001b[43m)\u001b[49m \u001b[38;5;28;01mas\u001b[39;00m handles:\n\u001b[0;32m   1158\u001b[0m     \u001b[38;5;66;03m# Copy to BytesIO, and ensure no encoding\u001b[39;00m\n\u001b[0;32m   1159\u001b[0m     \u001b[38;5;28mself\u001b[39m\u001b[38;5;241m.\u001b[39mpath_or_buf \u001b[38;5;241m=\u001b[39m BytesIO(handles\u001b[38;5;241m.\u001b[39mhandle\u001b[38;5;241m.\u001b[39mread())\n\u001b[0;32m   1161\u001b[0m \u001b[38;5;28mself\u001b[39m\u001b[38;5;241m.\u001b[39m_read_header()\n",
      "File \u001b[1;32m~\\anaconda3\\lib\\site-packages\\pandas\\io\\common.py:798\u001b[0m, in \u001b[0;36mget_handle\u001b[1;34m(path_or_buf, mode, encoding, compression, memory_map, is_text, errors, storage_options)\u001b[0m\n\u001b[0;32m    789\u001b[0m         handle \u001b[38;5;241m=\u001b[39m \u001b[38;5;28mopen\u001b[39m(\n\u001b[0;32m    790\u001b[0m             handle,\n\u001b[0;32m    791\u001b[0m             ioargs\u001b[38;5;241m.\u001b[39mmode,\n\u001b[1;32m   (...)\u001b[0m\n\u001b[0;32m    794\u001b[0m             newline\u001b[38;5;241m=\u001b[39m\u001b[38;5;124m\"\u001b[39m\u001b[38;5;124m\"\u001b[39m,\n\u001b[0;32m    795\u001b[0m         )\n\u001b[0;32m    796\u001b[0m     \u001b[38;5;28;01melse\u001b[39;00m:\n\u001b[0;32m    797\u001b[0m         \u001b[38;5;66;03m# Binary mode\u001b[39;00m\n\u001b[1;32m--> 798\u001b[0m         handle \u001b[38;5;241m=\u001b[39m \u001b[38;5;28;43mopen\u001b[39;49m\u001b[43m(\u001b[49m\u001b[43mhandle\u001b[49m\u001b[43m,\u001b[49m\u001b[43m \u001b[49m\u001b[43mioargs\u001b[49m\u001b[38;5;241;43m.\u001b[39;49m\u001b[43mmode\u001b[49m\u001b[43m)\u001b[49m\n\u001b[0;32m    799\u001b[0m     handles\u001b[38;5;241m.\u001b[39mappend(handle)\n\u001b[0;32m    801\u001b[0m \u001b[38;5;66;03m# Convert BytesIO or file objects passed with an encoding\u001b[39;00m\n",
      "\u001b[1;31mFileNotFoundError\u001b[0m: [Errno 2] No such file or directory: 'macoursetal_main.dta'"
     ]
    }
   ],
   "source": [
    "df = pd.read_stata('macoursetal_main.dta')  "
   ]
  },
  {
   "cell_type": "markdown",
   "id": "d802b82c",
   "metadata": {},
   "source": [
    "Variables que considerem en la predicció inicial:\n",
    "- hogarid_old: household ID in 2005\n",
    "- cp_old:Person code 2005\n",
    "- unique_05: communityid\n",
    "- s1age_head_05: age for the household head at time of interview \n",
    "- s1hhsize_05 : household size\n",
    "- s1hhsz_undr5_05s: # people under 5 yrs in hh\n",
    "- 1hhsz_5_14_05:  # people between 5 and 15 in hh\n",
    "- s1hhsz_15_24_05: # people between 15 and 25 in hh\n",
    "- s1hhsz_25_64_05: # people between 25 and 65 in hh\n",
    "- s1hhsz_65plus_05: # people 65 yrs and over in hh\n",
    "- s1male_head_05: gender of hh head        (categorical)\n",
    "- s2mother_inhs_05:mother of this person lives in the household\n",
    "- s3ap5_rooms_h_05:number of rooms\n",
    "- s3ap23_stime_h_05:time to prim. school, hrs\n",
    "- s3ap24_htime_h_05:time to health center, hrs\n",
    "- s3ap25_hqtime_h_05: time to municipal hq, hrs\n",
    "- s3atoilet_hh_05: household has a toilet for waste disposal\n",
    "- s3awater_access_hh_05:Access to piped water within property\n",
    "- s3aelectric_hh_05: Access to electricity\n",
    "- s4p6_vitamina_i_05: vitamin A in last 6 mos,under 5y         (categorical)\n",
    "- s4p7_parasite_i_06: Got deworming medicine in last 6 months     (categorical)\n",
    "- s11ownland_hh_05: hh owns land\n",
    "- cons_food_pc_05: annual pc total food consumption\n",
    "- cons_tot_pc_05: pc consumption aggregate\n",
    "- tvip_05: TVIP Raw score\n",
    "- height_05: Height-for-age z-score\n",
    "- a10whz_05: weight for height z-score\n",
    "- weight_05: Weight-for_age z_score\n",
    "- age_transfer: Age in months at time of first transfer\n",
    "- itt_i: Intent to treat\n",
    "- itt_all_i: Intent to treat - 4 cat\n",
    "- yrsedfath: Years of education of father\n",
    "- bweight: Birth weight\n",
    "- cpmom_06: Person code mother 2008\n",
    "- T: =1 for treatment communities; = 0 for control\n",
    "- male: =1 for boys, =0 for girls\n",
    "- TREAT1:itt_all_i==Control\n",
    "- TREAT2:itt_all_i==Bono Basico\n",
    "- TREAT3:itt_all_i==Bono+Training\n",
    "- TREAT4:itt_all_i==Bono+Grant\n",
    "- ed_mom: Number of years of education mother at baseline\n",
    "- MUN1: Municipal dummy 1\n",
    "- MUN2: Municipal dummy 2\n",
    "- MUN3: Municipal dummy 3\n",
    "- MUN4: Municipal dummy 4\n",
    "- MUN5: Municipal dummy 5\n",
    "- MUN6: Municipal dummy 6\n",
    "- com_haz_05: community average baseline height-for-age\n",
    "- com_waz_05: community average baseline weight-for-age\n",
    "- com_tvip_05: Community average baseline tvip score\n",
    "- com_control_05: Community average baseline weight controls\n",
    "- com_vit_05: Community average children received vitamins\n",
    "- com_deworm_05: Community average children received deworming medicine\n",
    "- com_notvip: Share of children in community without tvip score at baseline\n",
    "- sample06:=1 for children with at least one test in 2006\n",
    "- vitamiron_06: Got vitamin or iron in last 6 months\n",
    "- weighted_05: Weighed in last 6 months\n",
    "- propfood_05: % food in total expenditures\n",
    "- prstap_f_05: % staples in total food expenditures\n",
    "- pranimalprot_f_05: % animal proteins in total food expenditures\n",
    "- prfruitveg_f_05: % fruit and vegetables in total food expenditures"
   ]
  },
  {
   "cell_type": "code",
   "execution_count": null,
   "id": "c53d42ad",
   "metadata": {},
   "outputs": [],
   "source": [
    "df1=df[[\"hogarid_old\",\"cp_old\",\"unique_05\",\"s1age_head_05\",\"s1hhsize_05\",\"s1hhsz_undr5_05\",\"s1hhsz_5_14_05\",\n",
    "        \"s1hhsz_15_24_05\",\"s1hhsz_25_64_05\",\"s1hhsz_65plus_05\",\"s1male_head_05\",\"s2mother_inhs_05\",\"s3ap5_rooms_h_05\",\n",
    "        \"s3ap23_stime_h_05\",\"s3ap24_htime_h_05\",\"s3ap25_hqtime_h_05\",\"s3atoilet_hh_05\",\"s3awater_access_hh_05\",\n",
    "        \"s3aelectric_hh_05\",\"s4p6_vitamina_i_05\",\"s4p7_parasite_i_05\",\"s11ownland_hh_05\",\"cons_food_pc_05\",\"cons_tot_pc_05\",\n",
    "        \"tvip_05\",\"height_05\",\"a10whz_05\",\"weight_05\",\"itt_i\",\"itt_all_i\",\"yrsedfath\",\"age_transfer\",\"bweight\",\n",
    "        \"s4p7_parasite_i_06\",\"cpmom_06\",\"T\",\"male\",\"TREAT1\",\"TREAT2\",\"TREAT3\",\"TREAT4\",\"ed_mom\",\"MUN1\",\"MUN2\",\"MUN3\",\"MUN4\",\n",
    "        \"MUN5\",\"MUN6\",\"com_haz_05\",\"com_waz_05\",\"com_tvip_05\",\"com_control_05\",\"com_vit_05\",\"com_deworm_05\",\"com_notvip\",\n",
    "        \"sample06\",\"vitamiron_06\",\"weighted_05\",\"propfood_05\",\"prstap_f_05\",\"pranimalprot_f_05\",\"prfruitveg_f_05\"]]"
   ]
  },
  {
   "cell_type": "code",
   "execution_count": null,
   "id": "a823522b",
   "metadata": {},
   "outputs": [],
   "source": [
    "df1.rename(columns = {'T':'tr'}, inplace = True)"
   ]
  },
  {
   "cell_type": "markdown",
   "id": "77338366",
   "metadata": {},
   "source": [
    "Outcomes que considerem inicialment:\n",
    "\n",
    "- hogarid_old: Full 2008 household ID\n",
    "- cp_old: Person code 2005\n",
    "- unique_05: communityid\n",
    "- a5sscore_i_06:TVIP standardized score\n",
    "- a6smemory_p1_06: standardize score McCarthy memory 1st part\n",
    "- a6smemory_p2_06: standardize score McCarthy memory 2nd part\n",
    "- a7a_delay_06: personal-social skills: delayed for age\n",
    "- a7b_delay_06: language skills: delayed for age\n",
    "- a7c_delay_06: fine motor skills: delayed for age\n",
    "- a7d_delay_06: gross motor skills: delayed for age\n",
    "- a9sgrossmotor_06: standardize score McCarthy gross motor\n",
    "- height_06: height for age z-score (antrop age)\n",
    "- weight_06: weight for age z-score(antrop age)\n",
    "- cpmom_06: Person code mother 2006\n",
    "- z_tvip_06: z-score tvip 2006\n",
    "- z_social_06: z-score denver social-personal score 2006\n",
    "- z_language_06: z-score denver language score 2006\n",
    "- z_finmotor_06: z-score denver fine motor score 2006\n",
    "- z_memory_06: z-score memory for numbers score 2006\n",
    "- z_grmotor_06: z-score denver gross motor score 2006\n",
    "- z_legmotor_06: z-score leg motor score 2006\n",
    "- z_behavior_06: z-score behavioral problem index 2006\n",
    "- z_height_06: z-score height-for-age 2006\n",
    "- z_weight_06: z-score weight-for-age 2006\n",
    "- z_all_06: z-score of sum of all tests 2006"
   ]
  },
  {
   "cell_type": "code",
   "execution_count": null,
   "id": "ac4db177",
   "metadata": {},
   "outputs": [],
   "source": [
    "# \"hogarid_old\",\"cp_old\",\"unique_05\", \"cpmom_06\" seran usats com a index\n",
    "df_out=df[[\"a5sscore_i_06\",\"a6smemory_p1_06\",\"a6smemory_p2_06\",\"a7a_delay_06\",\"a7b_delay_06\",\n",
    "        \"a7c_delay_06\",\"a7d_delay_06\",\"a9sgrossmotor_06\",\"height_06\",\"weight_06\",\"z_tvip_06\",\"z_social_06\",\n",
    "        \"z_language_06\",\"z_finmotor_06\",\"z_memory_06\",\"z_grmotor_06\",\"z_legmotor_06\",\"z_behavior_06\",\"z_height_06\",\n",
    "        \"z_weight_06\",\"z_all_06\"]]\n"
   ]
  },
  {
   "cell_type": "markdown",
   "id": "8001bd83",
   "metadata": {},
   "source": [
    "# PRIOR VARIABLE EXPLORATION"
   ]
  },
  {
   "cell_type": "markdown",
   "id": "33371083",
   "metadata": {},
   "source": [
    "## Outcome variables "
   ]
  },
  {
   "cell_type": "code",
   "execution_count": null,
   "id": "44586177",
   "metadata": {},
   "outputs": [],
   "source": [
    "df_out"
   ]
  },
  {
   "cell_type": "code",
   "execution_count": null,
   "id": "cff827db",
   "metadata": {},
   "outputs": [],
   "source": [
    "len(df_out[df_out.isnull().all(axis=1)].index) #quants individus tenen NaN a totes les columnes (1074)"
   ]
  },
  {
   "cell_type": "code",
   "execution_count": null,
   "id": "19db682f",
   "metadata": {},
   "outputs": [],
   "source": [
    "df_out.isnull().sum().sort_values() #quants nulls hi ha per columna (variable)"
   ]
  },
  {
   "cell_type": "code",
   "execution_count": null,
   "id": "6f38d154",
   "metadata": {},
   "outputs": [],
   "source": [
    "df_out.isnull().sum(axis=1) #NaNs per fila (individu)"
   ]
  },
  {
   "cell_type": "code",
   "execution_count": null,
   "id": "b81e2ebe",
   "metadata": {},
   "outputs": [],
   "source": [
    "plt.hist(df_out.isnull().sum(axis=1), bins=20)  "
   ]
  },
  {
   "cell_type": "code",
   "execution_count": null,
   "id": "9352e6bf",
   "metadata": {},
   "outputs": [],
   "source": [
    "df_out.isnull().sum(axis=1).value_counts()"
   ]
  },
  {
   "cell_type": "markdown",
   "id": "a9de9973",
   "metadata": {},
   "source": [
    "Veiem que a la majoria els hi falten 8 o 21 o 1 outcomes, mirem si són els mateixos a tots, i en aquest cas si té alguna explicació. \n",
    "- Als que els n'hi falten 22, els hi falten dades per totes les variables.\n",
    "- Als que els n'hi falten 8, els hi falten dades per les variables \"a5sscore_i_06\",\"a6smemory_p1_06\", \"a9sgrossmotor_06\", \"z_tvip_06\", \"z_memory_06\", \"z_legmotor_06\", \"z_behavior_06\". És a dir, no se'ls hi ha pogut fer el test de memòria de McCarthy, el TVIP, el Denver Social-Personal i el McCarthy motor.\n",
    "- Als que  els hi falta una sola variable, els falta o bé la 2a part del test de memòria de McCarthy, o el test de Denver social-personal.\n",
    "Com veiem en els hostogrames, els NaNs estan estretament relacionats amb l'edat del subjecte."
   ]
  },
  {
   "cell_type": "code",
   "execution_count": null,
   "id": "78bf509b",
   "metadata": {},
   "outputs": [],
   "source": [
    "df_out[df_out.isnull().sum(axis=1)==8].isnull().sum()"
   ]
  },
  {
   "cell_type": "code",
   "execution_count": null,
   "id": "4ad58249",
   "metadata": {},
   "outputs": [],
   "source": [
    "df_out[df_out.isnull().sum(axis=1)==21].isnull().sum()"
   ]
  },
  {
   "cell_type": "code",
   "execution_count": null,
   "id": "d3e70fc4",
   "metadata": {},
   "outputs": [],
   "source": [
    "df_out[df_out.isnull().sum(axis=1)==1].isnull().sum()"
   ]
  },
  {
   "cell_type": "code",
   "execution_count": null,
   "id": "b32babb4",
   "metadata": {},
   "outputs": [],
   "source": [
    "plt.hist(df1[df_out.isnull().sum(axis=1)==8].age_transfer, bins=70)"
   ]
  },
  {
   "cell_type": "code",
   "execution_count": null,
   "id": "4f69d320",
   "metadata": {},
   "outputs": [],
   "source": [
    "plt.hist(df1[df_out.isnull().sum(axis=1)==21].age_transfer, bins=70)"
   ]
  },
  {
   "cell_type": "code",
   "execution_count": null,
   "id": "3743b7f2",
   "metadata": {},
   "outputs": [],
   "source": [
    "plt.hist(df1[df_out.isnull().sum(axis=1)==1].age_transfer, bins=70)"
   ]
  },
  {
   "cell_type": "code",
   "execution_count": null,
   "id": "08841cc2",
   "metadata": {},
   "outputs": [],
   "source": [
    "plt.hist(df1[df_out.isnull().sum(axis=1)==0].age_transfer, bins=70)"
   ]
  },
  {
   "cell_type": "markdown",
   "id": "ca46879d",
   "metadata": {},
   "source": [
    "Deixant de banda els NaNs, explorem la relació entre la variable treatment i els diferents outcomes. "
   ]
  },
  {
   "cell_type": "code",
   "execution_count": null,
   "id": "34f5bc1f",
   "metadata": {},
   "outputs": [],
   "source": [
    "df_violin=pd.concat([df1, df_out])\n",
    "df_violin[\"ct\"]=0"
   ]
  },
  {
   "cell_type": "code",
   "execution_count": null,
   "id": "5a00b639",
   "metadata": {},
   "outputs": [],
   "source": [
    "import seaborn as sns\n",
    "col=df_out.columns\n",
    "plt.figure(figsize=(10,30))\n",
    "for i in range(21):\n",
    "    plt.subplot(11,2,i+1)\n",
    "    sns.violinplot(x=\"ct\", y=col[i], hue=\"tr\", data=df_violin, split=True, width=0.5)\n",
    "    "
   ]
  },
  {
   "cell_type": "markdown",
   "id": "8452d06e",
   "metadata": {},
   "source": [
    "# Income variables (1a meitat)"
   ]
  },
  {
   "cell_type": "markdown",
   "id": "05258e83",
   "metadata": {},
   "source": [
    "Primer fem un analisi dels NaNs"
   ]
  },
  {
   "cell_type": "code",
   "execution_count": null,
   "id": "7b9f8155",
   "metadata": {},
   "outputs": [],
   "source": [
    "df05.isnan().sum()"
   ]
  },
  {
   "cell_type": "code",
   "execution_count": null,
   "id": "95d0c451",
   "metadata": {},
   "outputs": [],
   "source": []
  }
 ],
 "metadata": {
  "kernelspec": {
   "display_name": "Python 3 (ipykernel)",
   "language": "python",
   "name": "python3"
  },
  "language_info": {
   "codemirror_mode": {
    "name": "ipython",
    "version": 3
   },
   "file_extension": ".py",
   "mimetype": "text/x-python",
   "name": "python",
   "nbconvert_exporter": "python",
   "pygments_lexer": "ipython3",
   "version": "3.8.8"
  }
 },
 "nbformat": 4,
 "nbformat_minor": 5
}
