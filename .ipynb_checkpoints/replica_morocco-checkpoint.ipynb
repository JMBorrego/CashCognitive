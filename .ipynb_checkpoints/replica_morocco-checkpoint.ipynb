{
 "cells": [
  {
   "cell_type": "markdown",
   "id": "b41fbe89",
   "metadata": {},
   "source": [
    "Notebook imitant:\n",
    "    https://towardsdatascience.com/causal-machine-learning-for-econometrics-causal-forests-5ab3aec825a7"
   ]
  },
  {
   "cell_type": "code",
<<<<<<< Updated upstream
   "execution_count": 267,
=======
   "execution_count": 1,
>>>>>>> Stashed changes
   "id": "8b33a126",
   "metadata": {},
   "outputs": [],
   "source": [
    "import pandas as pd\n",
    "import matplotlib.pyplot as plt\n",
<<<<<<< Updated upstream
    "import numpy as np\n",
    "import sklearn "
=======
    "import numpy as np"
>>>>>>> Stashed changes
   ]
  },
  {
   "cell_type": "code",
<<<<<<< Updated upstream
   "execution_count": 268,
=======
   "execution_count": 3,
>>>>>>> Stashed changes
   "id": "5c4ce38f",
   "metadata": {},
   "outputs": [],
   "source": [
    "#Read main data to DataFrame\n",
<<<<<<< Updated upstream
    "df = pd.read_stata('Cash_and_Childhood_Development_Replication/macoursetal_main.dta')  "
=======
    "df = pd.read_stata('macoursetal_main.dta')  "
>>>>>>> Stashed changes
   ]
  },
  {
   "cell_type": "code",
<<<<<<< Updated upstream
   "execution_count": 269,
=======
   "execution_count": 4,
>>>>>>> Stashed changes
   "id": "ac4db177",
   "metadata": {},
   "outputs": [],
   "source": [
    "# \"hogarid_old\",\"cp_old\",\"unique_05\", \"cpmom_06\" seran usats com a index\n",
    "df_out=df[[\"a5sscore_i_06\",\"a6smemory_p1_06\",\"a6smemory_p2_06\",\"a7a_delay_06\",\"a7b_delay_06\",\n",
    "        \"a7c_delay_06\",\"a7d_delay_06\",\"a9sgrossmotor_06\",\"height_06\",\"weight_06\",\"z_tvip_06\",\"z_social_06\",\n",
    "        \"z_language_06\",\"z_finmotor_06\",\"z_memory_06\",\"z_grmotor_06\",\"z_legmotor_06\",\"z_behavior_06\",\"z_height_06\",\n",
    "        \"z_weight_06\",\"z_all_06\"]]\n"
   ]
  },
  {
   "cell_type": "markdown",
   "id": "8452d06e",
   "metadata": {},
   "source": [
    "# Income variables"
   ]
  },
  {
   "cell_type": "code",
<<<<<<< Updated upstream
   "execution_count": 270,
=======
   "execution_count": 5,
>>>>>>> Stashed changes
   "id": "16fa80e6",
   "metadata": {},
   "outputs": [],
   "source": [
    "df1=df[[\"hogarid_old\",\"cp_old\",\"unique_05\",\"s1age_head_05\",\"s1hhsize_05\",\"s1hhsz_undr5_05\",\"s1hhsz_5_14_05\",\n",
    "        \"s1hhsz_15_24_05\",\"s1hhsz_25_64_05\",\"s1hhsz_65plus_05\",\"s1male_head_05\",\"s2mother_inhs_05\",\"s3ap5_rooms_h_05\",\n",
    "        \"s3ap23_stime_h_05\",\"s3ap24_htime_h_05\",\"s3ap25_hqtime_h_05\",\"s3atoilet_hh_05\",\"s3awater_access_hh_05\",\n",
    "        \"s3aelectric_hh_05\",\"s4p6_vitamina_i_05\",\"s4p7_parasite_i_05\",\"s11ownland_hh_05\",\"cons_food_pc_05\",\"cons_tot_pc_05\",\n",
    "        \"tvip_05\",\"height_05\",\"a10whz_05\",\"weight_05\",\"itt_i\",\"itt_all_i\",\"yrsedfath\",\"age_transfer\",\"bweight\",\n",
    "        \"s4p7_parasite_i_06\",\"cpmom_06\",\"T\",\"male\",\"TREAT1\",\"TREAT2\",\"TREAT3\",\"TREAT4\",\"ed_mom\",\"MUN1\",\"MUN2\",\"MUN3\",\"MUN4\",\n",
    "        \"MUN5\",\"MUN6\",\"com_haz_05\",\"com_waz_05\",\"com_tvip_05\",\"com_control_05\",\"com_vit_05\",\"com_deworm_05\",\"com_notvip\",\n",
    "        \"sample06\",\"vitamiron_06\",#\"weighted_05\",\n",
    "        \"propfood_05\",\"prstap_f_05\",\"pranimalprot_f_05\",\"prfruitveg_f_05\"]]"
   ]
  },
  {
   "cell_type": "code",
<<<<<<< Updated upstream
   "execution_count": 271,
   "id": "c88df450",
   "metadata": {},
   "outputs": [],
=======
   "execution_count": 6,
   "id": "c88df450",
   "metadata": {},
   "outputs": [
    {
     "name": "stderr",
     "output_type": "stream",
     "text": [
      "C:\\ProgramData\\Anaconda3\\lib\\site-packages\\pandas\\core\\frame.py:4441: SettingWithCopyWarning: \n",
      "A value is trying to be set on a copy of a slice from a DataFrame\n",
      "\n",
      "See the caveats in the documentation: https://pandas.pydata.org/pandas-docs/stable/user_guide/indexing.html#returning-a-view-versus-a-copy\n",
      "  return super().rename(\n"
     ]
    }
   ],
>>>>>>> Stashed changes
   "source": [
    "df1.rename(columns = {'T':'tr'}, inplace = True)"
   ]
  },
  {
   "cell_type": "markdown",
   "id": "ce88e431",
   "metadata": {},
   "source": [
    "###  NaNs"
   ]
  },
  {
   "cell_type": "code",
<<<<<<< Updated upstream
   "execution_count": 272,
=======
   "execution_count": 7,
>>>>>>> Stashed changes
   "id": "f18c6ee8",
   "metadata": {},
   "outputs": [
    {
     "data": {
      "text/plain": [
       "1     1357\n",
       "11     910\n",
       "0      631\n",
       "8      427\n",
       "2      243\n",
       "5      212\n",
       "4      133\n",
       "3      130\n",
       "12     129\n",
       "7      112\n",
       "9       66\n",
       "6       59\n",
       "10      48\n",
       "55      32\n",
       "56       7\n",
       "54       7\n",
       "14       6\n",
       "13       2\n",
       "dtype: int64"
      ]
     },
<<<<<<< Updated upstream
     "execution_count": 272,
=======
     "execution_count": 7,
>>>>>>> Stashed changes
     "metadata": {},
     "output_type": "execute_result"
    }
   ],
   "source": [
    "df1.isnull().sum(axis=1).value_counts()"
   ]
  },
  {
   "cell_type": "code",
<<<<<<< Updated upstream
   "execution_count": 273,
=======
   "execution_count": 8,
>>>>>>> Stashed changes
   "id": "d7179548",
   "metadata": {},
   "outputs": [],
   "source": [
    "#fem una copia del df\n",
    "def copy_df(df):\n",
    "   return df.copy()"
   ]
  },
  {
   "cell_type": "code",
<<<<<<< Updated upstream
   "execution_count": 274,
=======
   "execution_count": 9,
>>>>>>> Stashed changes
   "id": "03b51b6e",
   "metadata": {},
   "outputs": [],
   "source": [
    "#eliminem individus amb >delta*100% columnes buides\n",
    "def drop_ind_missing(df, delta):\n",
    "    thresh = len(df.columns)*delta\n",
    "    df.dropna(axis=0, thresh=thresh, inplace=True)\n",
    "    return df"
   ]
  },
  {
   "cell_type": "code",
<<<<<<< Updated upstream
   "execution_count": 275,
=======
   "execution_count": 10,
>>>>>>> Stashed changes
   "id": "e905b250",
   "metadata": {},
   "outputs": [],
   "source": [
    "#eliminem individus amb age transfer<age\n",
    "def drop_out_missing(df, age=-11):\n",
    "    nan_rows=df[df.age_transfer<age].index\n",
    "    df.drop(nan_rows, inplace=True)\n",
    "    return df"
   ]
  },
  {
   "cell_type": "code",
<<<<<<< Updated upstream
   "execution_count": 276,
=======
   "execution_count": 11,
>>>>>>> Stashed changes
   "id": "2e98fd90",
   "metadata": {},
   "outputs": [],
   "source": [
    "#categorical to ordinal\n",
    "def ordinal(df, cols):\n",
    "    enc = OrdinalEncoder()\n",
    "    enc.fit(df[cols])\n",
    "    df[cols] = enc.transform(df[cols])\n",
    "    \n",
    "    return df"
   ]
  },
  {
   "cell_type": "code",
<<<<<<< Updated upstream
   "execution_count": 277,
=======
   "execution_count": 12,
>>>>>>> Stashed changes
   "id": "12652e1b",
   "metadata": {},
   "outputs": [],
   "source": [
    "#imputem NaNs\n",
    "\n",
    "#imputem mitjanes\n",
    "def mean_imputer(df, cols):\n",
    "    for col in cols:\n",
    "        df[col].fillna(df[col].mean(), inplace=True)\n",
    "    return df\n",
    "\n",
    "#imputem el valor més frequent de la columna dintre el hh\n",
    "def hh_mf_imputer(df,cols):\n",
    "    index=df.index\n",
    "    for col in cols:\n",
    "        col_hh=[df[df.hogarid_old==familia][[col,\"age_transfer\"]].sort_values(by=['age_transfer'])[col]\n",
    "                .values for familia in df.hogarid_old]\n",
    "        for i in range(len(index)):\n",
    "               if np.isnan(df[col][index[i]]):\n",
    "                    non_nan_len=np.count_nonzero(~np.isnan(col_hh[i]))\n",
    "                    if(non_nan_len!=0):\n",
    "                        vals,counts = np.unique(col_hh[i], return_counts=True)\n",
    "                        ind = np.argmax(counts)\n",
    "                        df.loc[index[i],col]=vals[ind]\n",
    "    return df             \n",
    "                            \n",
    "                        "
   ]
  },
  {
   "cell_type": "code",
<<<<<<< Updated upstream
   "execution_count": 278,
=======
   "execution_count": 13,
>>>>>>> Stashed changes
   "id": "f3ab3651",
   "metadata": {},
   "outputs": [],
   "source": [
    "#eliminem outliers\n",
    "\n",
    "def outlier_removal(df, cols):\n",
    "    outlier_threshold = []\n",
    "    for col in cols:\n",
    "            q3 = np.nanpercentile(df[col], 75)\n",
    "            q1 = np.nanpercentile(df[col], 25)\n",
    "            iqr = q3 - q1\n",
    "            out_low = q1 - 3*iqr\n",
    "            out_high = q3 + 3*iqr\n",
    "            outlier_threshold.append([out_low, out_high])\n",
    "    outliers_indexs=[]\n",
    "    for col,k in zip(cols,range(len(cols))):\n",
    "        #outliers_indexs_in_col=[]\n",
    "        for i in df[col].index:\n",
    "            if df[col][i]<outlier_threshold[k][0] or df[col][i]>outlier_threshold[k][1]:\n",
    "                outliers_indexs.append(i)\n",
    "        #outliers_indexs.append(outliers_indexs_in_col)\n",
    "    return df.drop(list(set(outliers_indexs)), axis=0)"
   ]
  },
  {
   "cell_type": "code",
<<<<<<< Updated upstream
   "execution_count": 279,
=======
   "execution_count": 14,
>>>>>>> Stashed changes
   "id": "0f97cfd5",
   "metadata": {},
   "outputs": [],
   "source": [
    "def normalize(df, cols):\n",
    "    Nscaler = MinMaxScaler()\n",
    "\n",
    "    Nscaler.fit(df[cols])\n",
    "    df[cols] = Nscaler.transform(df[cols])\n",
    "    \n",
    "    return df\n",
    "\n",
    "def standardize(df, cols):\n",
    "    Sscaler = StandardScaler()\n",
    "\n",
    "    Sscaler.fit(df[cols])\n",
    "    df[cols] = Sscaler.transform(df[cols])\n",
    "    \n",
    "    return df"
   ]
  },
  {
   "cell_type": "code",
<<<<<<< Updated upstream
   "execution_count": 280,
   "id": "a3987cd6",
   "metadata": {},
   "outputs": [],
=======
   "execution_count": 19,
   "id": "a3987cd6",
   "metadata": {},
   "outputs": [
    {
     "name": "stderr",
     "output_type": "stream",
     "text": [
      "<ipython-input-9-ce68b2daa9e8>:4: SettingWithCopyWarning: \n",
      "A value is trying to be set on a copy of a slice from a DataFrame\n",
      "\n",
      "See the caveats in the documentation: https://pandas.pydata.org/pandas-docs/stable/user_guide/indexing.html#returning-a-view-versus-a-copy\n",
      "  df.dropna(axis=0, thresh=thresh, inplace=True)\n",
      "C:\\ProgramData\\Anaconda3\\lib\\site-packages\\pandas\\core\\frame.py:4308: SettingWithCopyWarning: \n",
      "A value is trying to be set on a copy of a slice from a DataFrame\n",
      "\n",
      "See the caveats in the documentation: https://pandas.pydata.org/pandas-docs/stable/user_guide/indexing.html#returning-a-view-versus-a-copy\n",
      "  return super().drop(\n"
     ]
    },
    {
     "ename": "ValueError",
     "evalue": "Input contains NaN",
     "output_type": "error",
     "traceback": [
      "\u001b[1;31m---------------------------------------------------------------------------\u001b[0m",
      "\u001b[1;31mValueError\u001b[0m                                Traceback (most recent call last)",
      "\u001b[1;32m<ipython-input-19-8e988d426160>\u001b[0m in \u001b[0;36m<module>\u001b[1;34m\u001b[0m\n\u001b[0;32m     20\u001b[0m \u001b[1;33m\u001b[0m\u001b[0m\n\u001b[0;32m     21\u001b[0m \u001b[1;33m\u001b[0m\u001b[0m\n\u001b[1;32m---> 22\u001b[1;33m cleaned_df=(df1.pipe(drop_ind_missing, 0.8)\n\u001b[0m\u001b[0;32m     23\u001b[0m             \u001b[1;33m.\u001b[0m\u001b[0mpipe\u001b[0m\u001b[1;33m(\u001b[0m\u001b[0mdrop_out_missing\u001b[0m\u001b[1;33m)\u001b[0m\u001b[1;33m\u001b[0m\u001b[1;33m\u001b[0m\u001b[0m\n\u001b[0;32m     24\u001b[0m             \u001b[1;33m.\u001b[0m\u001b[0mpipe\u001b[0m\u001b[1;33m(\u001b[0m\u001b[0mordinal\u001b[0m\u001b[1;33m,\u001b[0m \u001b[0mcategorical_cols\u001b[0m\u001b[1;33m)\u001b[0m\u001b[1;33m\u001b[0m\u001b[1;33m\u001b[0m\u001b[0m\n",
      "\u001b[1;32mC:\\ProgramData\\Anaconda3\\lib\\site-packages\\pandas\\core\\generic.py\u001b[0m in \u001b[0;36mpipe\u001b[1;34m(self, func, *args, **kwargs)\u001b[0m\n\u001b[0;32m   5404\u001b[0m         ...  )  # doctest: +SKIP\n\u001b[0;32m   5405\u001b[0m         \"\"\"\n\u001b[1;32m-> 5406\u001b[1;33m         \u001b[1;32mreturn\u001b[0m \u001b[0mcom\u001b[0m\u001b[1;33m.\u001b[0m\u001b[0mpipe\u001b[0m\u001b[1;33m(\u001b[0m\u001b[0mself\u001b[0m\u001b[1;33m,\u001b[0m \u001b[0mfunc\u001b[0m\u001b[1;33m,\u001b[0m \u001b[1;33m*\u001b[0m\u001b[0margs\u001b[0m\u001b[1;33m,\u001b[0m \u001b[1;33m**\u001b[0m\u001b[0mkwargs\u001b[0m\u001b[1;33m)\u001b[0m\u001b[1;33m\u001b[0m\u001b[1;33m\u001b[0m\u001b[0m\n\u001b[0m\u001b[0;32m   5407\u001b[0m \u001b[1;33m\u001b[0m\u001b[0m\n\u001b[0;32m   5408\u001b[0m     \u001b[1;31m# ----------------------------------------------------------------------\u001b[0m\u001b[1;33m\u001b[0m\u001b[1;33m\u001b[0m\u001b[1;33m\u001b[0m\u001b[0m\n",
      "\u001b[1;32mC:\\ProgramData\\Anaconda3\\lib\\site-packages\\pandas\\core\\common.py\u001b[0m in \u001b[0;36mpipe\u001b[1;34m(obj, func, *args, **kwargs)\u001b[0m\n\u001b[0;32m    438\u001b[0m         \u001b[1;32mreturn\u001b[0m \u001b[0mfunc\u001b[0m\u001b[1;33m(\u001b[0m\u001b[1;33m*\u001b[0m\u001b[0margs\u001b[0m\u001b[1;33m,\u001b[0m \u001b[1;33m**\u001b[0m\u001b[0mkwargs\u001b[0m\u001b[1;33m)\u001b[0m\u001b[1;33m\u001b[0m\u001b[1;33m\u001b[0m\u001b[0m\n\u001b[0;32m    439\u001b[0m     \u001b[1;32melse\u001b[0m\u001b[1;33m:\u001b[0m\u001b[1;33m\u001b[0m\u001b[1;33m\u001b[0m\u001b[0m\n\u001b[1;32m--> 440\u001b[1;33m         \u001b[1;32mreturn\u001b[0m \u001b[0mfunc\u001b[0m\u001b[1;33m(\u001b[0m\u001b[0mobj\u001b[0m\u001b[1;33m,\u001b[0m \u001b[1;33m*\u001b[0m\u001b[0margs\u001b[0m\u001b[1;33m,\u001b[0m \u001b[1;33m**\u001b[0m\u001b[0mkwargs\u001b[0m\u001b[1;33m)\u001b[0m\u001b[1;33m\u001b[0m\u001b[1;33m\u001b[0m\u001b[0m\n\u001b[0m\u001b[0;32m    441\u001b[0m \u001b[1;33m\u001b[0m\u001b[0m\n\u001b[0;32m    442\u001b[0m \u001b[1;33m\u001b[0m\u001b[0m\n",
      "\u001b[1;32m<ipython-input-11-67b2c7c2a045>\u001b[0m in \u001b[0;36mordinal\u001b[1;34m(df, cols)\u001b[0m\n\u001b[0;32m      2\u001b[0m \u001b[1;32mdef\u001b[0m \u001b[0mordinal\u001b[0m\u001b[1;33m(\u001b[0m\u001b[0mdf\u001b[0m\u001b[1;33m,\u001b[0m \u001b[0mcols\u001b[0m\u001b[1;33m)\u001b[0m\u001b[1;33m:\u001b[0m\u001b[1;33m\u001b[0m\u001b[1;33m\u001b[0m\u001b[0m\n\u001b[0;32m      3\u001b[0m     \u001b[0menc\u001b[0m \u001b[1;33m=\u001b[0m \u001b[0mOrdinalEncoder\u001b[0m\u001b[1;33m(\u001b[0m\u001b[1;33m)\u001b[0m\u001b[1;33m\u001b[0m\u001b[1;33m\u001b[0m\u001b[0m\n\u001b[1;32m----> 4\u001b[1;33m     \u001b[0menc\u001b[0m\u001b[1;33m.\u001b[0m\u001b[0mfit\u001b[0m\u001b[1;33m(\u001b[0m\u001b[0mdf\u001b[0m\u001b[1;33m[\u001b[0m\u001b[0mcols\u001b[0m\u001b[1;33m]\u001b[0m\u001b[1;33m)\u001b[0m\u001b[1;33m\u001b[0m\u001b[1;33m\u001b[0m\u001b[0m\n\u001b[0m\u001b[0;32m      5\u001b[0m     \u001b[0mdf\u001b[0m\u001b[1;33m[\u001b[0m\u001b[0mcols\u001b[0m\u001b[1;33m]\u001b[0m \u001b[1;33m=\u001b[0m \u001b[0menc\u001b[0m\u001b[1;33m.\u001b[0m\u001b[0mtransform\u001b[0m\u001b[1;33m(\u001b[0m\u001b[0mdf\u001b[0m\u001b[1;33m[\u001b[0m\u001b[0mcols\u001b[0m\u001b[1;33m]\u001b[0m\u001b[1;33m)\u001b[0m\u001b[1;33m\u001b[0m\u001b[1;33m\u001b[0m\u001b[0m\n\u001b[0;32m      6\u001b[0m \u001b[1;33m\u001b[0m\u001b[0m\n",
      "\u001b[1;32mC:\\ProgramData\\Anaconda3\\lib\\site-packages\\sklearn\\preprocessing\\_encoders.py\u001b[0m in \u001b[0;36mfit\u001b[1;34m(self, X, y)\u001b[0m\n\u001b[0;32m    759\u001b[0m                             f\"got {self.unknown_value}.\")\n\u001b[0;32m    760\u001b[0m \u001b[1;33m\u001b[0m\u001b[0m\n\u001b[1;32m--> 761\u001b[1;33m         \u001b[0mself\u001b[0m\u001b[1;33m.\u001b[0m\u001b[0m_fit\u001b[0m\u001b[1;33m(\u001b[0m\u001b[0mX\u001b[0m\u001b[1;33m)\u001b[0m\u001b[1;33m\u001b[0m\u001b[1;33m\u001b[0m\u001b[0m\n\u001b[0m\u001b[0;32m    762\u001b[0m \u001b[1;33m\u001b[0m\u001b[0m\n\u001b[0;32m    763\u001b[0m         \u001b[1;32mif\u001b[0m \u001b[0mself\u001b[0m\u001b[1;33m.\u001b[0m\u001b[0mhandle_unknown\u001b[0m \u001b[1;33m==\u001b[0m \u001b[1;34m'use_encoded_value'\u001b[0m\u001b[1;33m:\u001b[0m\u001b[1;33m\u001b[0m\u001b[1;33m\u001b[0m\u001b[0m\n",
      "\u001b[1;32mC:\\ProgramData\\Anaconda3\\lib\\site-packages\\sklearn\\preprocessing\\_encoders.py\u001b[0m in \u001b[0;36m_fit\u001b[1;34m(self, X, handle_unknown, force_all_finite)\u001b[0m\n\u001b[0;32m     75\u001b[0m \u001b[1;33m\u001b[0m\u001b[0m\n\u001b[0;32m     76\u001b[0m     \u001b[1;32mdef\u001b[0m \u001b[0m_fit\u001b[0m\u001b[1;33m(\u001b[0m\u001b[0mself\u001b[0m\u001b[1;33m,\u001b[0m \u001b[0mX\u001b[0m\u001b[1;33m,\u001b[0m \u001b[0mhandle_unknown\u001b[0m\u001b[1;33m=\u001b[0m\u001b[1;34m'error'\u001b[0m\u001b[1;33m,\u001b[0m \u001b[0mforce_all_finite\u001b[0m\u001b[1;33m=\u001b[0m\u001b[1;32mTrue\u001b[0m\u001b[1;33m)\u001b[0m\u001b[1;33m:\u001b[0m\u001b[1;33m\u001b[0m\u001b[1;33m\u001b[0m\u001b[0m\n\u001b[1;32m---> 77\u001b[1;33m         X_list, n_samples, n_features = self._check_X(\n\u001b[0m\u001b[0;32m     78\u001b[0m             X, force_all_finite=force_all_finite)\n\u001b[0;32m     79\u001b[0m \u001b[1;33m\u001b[0m\u001b[0m\n",
      "\u001b[1;32mC:\\ProgramData\\Anaconda3\\lib\\site-packages\\sklearn\\preprocessing\\_encoders.py\u001b[0m in \u001b[0;36m_check_X\u001b[1;34m(self, X, force_all_finite)\u001b[0m\n\u001b[0;32m     61\u001b[0m         \u001b[1;32mfor\u001b[0m \u001b[0mi\u001b[0m \u001b[1;32min\u001b[0m \u001b[0mrange\u001b[0m\u001b[1;33m(\u001b[0m\u001b[0mn_features\u001b[0m\u001b[1;33m)\u001b[0m\u001b[1;33m:\u001b[0m\u001b[1;33m\u001b[0m\u001b[1;33m\u001b[0m\u001b[0m\n\u001b[0;32m     62\u001b[0m             \u001b[0mXi\u001b[0m \u001b[1;33m=\u001b[0m \u001b[0mself\u001b[0m\u001b[1;33m.\u001b[0m\u001b[0m_get_feature\u001b[0m\u001b[1;33m(\u001b[0m\u001b[0mX\u001b[0m\u001b[1;33m,\u001b[0m \u001b[0mfeature_idx\u001b[0m\u001b[1;33m=\u001b[0m\u001b[0mi\u001b[0m\u001b[1;33m)\u001b[0m\u001b[1;33m\u001b[0m\u001b[1;33m\u001b[0m\u001b[0m\n\u001b[1;32m---> 63\u001b[1;33m             Xi = check_array(Xi, ensure_2d=False, dtype=None,\n\u001b[0m\u001b[0;32m     64\u001b[0m                              force_all_finite=needs_validation)\n\u001b[0;32m     65\u001b[0m             \u001b[0mX_columns\u001b[0m\u001b[1;33m.\u001b[0m\u001b[0mappend\u001b[0m\u001b[1;33m(\u001b[0m\u001b[0mXi\u001b[0m\u001b[1;33m)\u001b[0m\u001b[1;33m\u001b[0m\u001b[1;33m\u001b[0m\u001b[0m\n",
      "\u001b[1;32mC:\\ProgramData\\Anaconda3\\lib\\site-packages\\sklearn\\utils\\validation.py\u001b[0m in \u001b[0;36minner_f\u001b[1;34m(*args, **kwargs)\u001b[0m\n\u001b[0;32m     61\u001b[0m             \u001b[0mextra_args\u001b[0m \u001b[1;33m=\u001b[0m \u001b[0mlen\u001b[0m\u001b[1;33m(\u001b[0m\u001b[0margs\u001b[0m\u001b[1;33m)\u001b[0m \u001b[1;33m-\u001b[0m \u001b[0mlen\u001b[0m\u001b[1;33m(\u001b[0m\u001b[0mall_args\u001b[0m\u001b[1;33m)\u001b[0m\u001b[1;33m\u001b[0m\u001b[1;33m\u001b[0m\u001b[0m\n\u001b[0;32m     62\u001b[0m             \u001b[1;32mif\u001b[0m \u001b[0mextra_args\u001b[0m \u001b[1;33m<=\u001b[0m \u001b[1;36m0\u001b[0m\u001b[1;33m:\u001b[0m\u001b[1;33m\u001b[0m\u001b[1;33m\u001b[0m\u001b[0m\n\u001b[1;32m---> 63\u001b[1;33m                 \u001b[1;32mreturn\u001b[0m \u001b[0mf\u001b[0m\u001b[1;33m(\u001b[0m\u001b[1;33m*\u001b[0m\u001b[0margs\u001b[0m\u001b[1;33m,\u001b[0m \u001b[1;33m**\u001b[0m\u001b[0mkwargs\u001b[0m\u001b[1;33m)\u001b[0m\u001b[1;33m\u001b[0m\u001b[1;33m\u001b[0m\u001b[0m\n\u001b[0m\u001b[0;32m     64\u001b[0m \u001b[1;33m\u001b[0m\u001b[0m\n\u001b[0;32m     65\u001b[0m             \u001b[1;31m# extra_args > 0\u001b[0m\u001b[1;33m\u001b[0m\u001b[1;33m\u001b[0m\u001b[1;33m\u001b[0m\u001b[0m\n",
      "\u001b[1;32mC:\\ProgramData\\Anaconda3\\lib\\site-packages\\sklearn\\utils\\validation.py\u001b[0m in \u001b[0;36mcheck_array\u001b[1;34m(array, accept_sparse, accept_large_sparse, dtype, order, copy, force_all_finite, ensure_2d, allow_nd, ensure_min_samples, ensure_min_features, estimator)\u001b[0m\n\u001b[0;32m    661\u001b[0m \u001b[1;33m\u001b[0m\u001b[0m\n\u001b[0;32m    662\u001b[0m         \u001b[1;32mif\u001b[0m \u001b[0mforce_all_finite\u001b[0m\u001b[1;33m:\u001b[0m\u001b[1;33m\u001b[0m\u001b[1;33m\u001b[0m\u001b[0m\n\u001b[1;32m--> 663\u001b[1;33m             _assert_all_finite(array,\n\u001b[0m\u001b[0;32m    664\u001b[0m                                allow_nan=force_all_finite == 'allow-nan')\n\u001b[0;32m    665\u001b[0m \u001b[1;33m\u001b[0m\u001b[0m\n",
      "\u001b[1;32mC:\\ProgramData\\Anaconda3\\lib\\site-packages\\sklearn\\utils\\validation.py\u001b[0m in \u001b[0;36m_assert_all_finite\u001b[1;34m(X, allow_nan, msg_dtype)\u001b[0m\n\u001b[0;32m    109\u001b[0m     \u001b[1;32melif\u001b[0m \u001b[0mX\u001b[0m\u001b[1;33m.\u001b[0m\u001b[0mdtype\u001b[0m \u001b[1;33m==\u001b[0m \u001b[0mnp\u001b[0m\u001b[1;33m.\u001b[0m\u001b[0mdtype\u001b[0m\u001b[1;33m(\u001b[0m\u001b[1;34m'object'\u001b[0m\u001b[1;33m)\u001b[0m \u001b[1;32mand\u001b[0m \u001b[1;32mnot\u001b[0m \u001b[0mallow_nan\u001b[0m\u001b[1;33m:\u001b[0m\u001b[1;33m\u001b[0m\u001b[1;33m\u001b[0m\u001b[0m\n\u001b[0;32m    110\u001b[0m         \u001b[1;32mif\u001b[0m \u001b[0m_object_dtype_isnan\u001b[0m\u001b[1;33m(\u001b[0m\u001b[0mX\u001b[0m\u001b[1;33m)\u001b[0m\u001b[1;33m.\u001b[0m\u001b[0many\u001b[0m\u001b[1;33m(\u001b[0m\u001b[1;33m)\u001b[0m\u001b[1;33m:\u001b[0m\u001b[1;33m\u001b[0m\u001b[1;33m\u001b[0m\u001b[0m\n\u001b[1;32m--> 111\u001b[1;33m             \u001b[1;32mraise\u001b[0m \u001b[0mValueError\u001b[0m\u001b[1;33m(\u001b[0m\u001b[1;34m\"Input contains NaN\"\u001b[0m\u001b[1;33m)\u001b[0m\u001b[1;33m\u001b[0m\u001b[1;33m\u001b[0m\u001b[0m\n\u001b[0m\u001b[0;32m    112\u001b[0m \u001b[1;33m\u001b[0m\u001b[0m\n\u001b[0;32m    113\u001b[0m \u001b[1;33m\u001b[0m\u001b[0m\n",
      "\u001b[1;31mValueError\u001b[0m: Input contains NaN"
     ]
    }
   ],
>>>>>>> Stashed changes
   "source": [
    "from sklearn.impute import SimpleImputer\n",
    "from sklearn.preprocessing import OrdinalEncoder\n",
    "from sklearn.preprocessing import MinMaxScaler\n",
    "from sklearn.preprocessing import StandardScaler\n",
    "\n",
    "mean_cols=[\"bweight\", \"tvip_05\", \"height_05\", \"a10whz_05\", \"weight_05\"]\n",
    "hh_mf_cols=[\"s1age_head_05\",\"s1hhsize_05\",\"s1hhsz_undr5_05\",\"s1hhsz_5_14_05\",\"s1hhsz_15_24_05\",\"s1hhsz_25_64_05\",\n",
    "            \"s1hhsz_65plus_05\",\"s1male_head_05\",\"s2mother_inhs_05\",\"s3ap5_rooms_h_05\",\"s3atoilet_hh_05\",\n",
    "            \"s3awater_access_hh_05\",\"s3aelectric_hh_05\",\"s11ownland_hh_05\",\"s4p7_parasite_i_06\",\"ed_mom\",\"vitamiron_06\",\n",
    "           \"s4p6_vitamina_i_05\", \"s4p7_parasite_i_05\", \"cons_food_pc_05\", \"yrsedfath\", \"propfood_05\", \"prstap_f_05\"\n",
    "            ,  \"pranimalprot_f_05\",  \"prfruitveg_f_05\"]\n",
    "\n",
    "categorical_cols=df1.select_dtypes(exclude=[\"number\",\"bool_\",\"object_\"]).columns\n",
    "outlier_cols=[\"pranimalprot_f_05\", \"bweight\", \"prfruitveg_f_05\"]\n",
    "\n",
    "normal_cols =[\"height_05\",\"a10whz_05\",\"weight_05\",\"com_haz_05\",\"com_waz_05\"]\n",
    "\n",
    "Nnormal_cols = ['s1age_head_05', 's3ap23_stime_h_05', 's3ap24_htime_h_05', 's3ap25_hqtime_h_05', 'cons_food_pc_05', \n",
    "                'cons_tot_pc_05', 'tvip_05', 'yrsedfath','age_transfer', 'bweight', 'ed_mom', 'com_tvip_05', 'com_control_05']\n",
    "\n",
    "\n",
    "cleaned_df=(df1.pipe(copy_df)\n",
    "            .pipe(drop_ind_missing, 0.8)\n",
    "            .pipe(drop_out_missing)\n",
    "            .pipe(ordinal, categorical_cols)\n",
    "            .pipe(hh_mf_imputer, hh_mf_cols)\n",
    "            .pipe(mean_imputer, mean_cols+hh_mf_cols)\n",
<<<<<<< Updated upstream
    "            .pipe(outlier_removal, outlier_cols) #outliers\n",
    "            .pipe(standardize, normal_cols)) #estandaritzacio\n",
=======
    "            .pipe(outlier_removal, outlier_cols)) #outliers\n",
    "            #.pipe(standardize, normal_cols) #estandaritzacio\n",
>>>>>>> Stashed changes
    "            #.pipe(normalize, Nnormal_cols)) #normalitzacio\n",
    "                         "
   ]
  },
  {
   "cell_type": "code",
<<<<<<< Updated upstream
   "execution_count": 281,
   "id": "0e87a1e0",
   "metadata": {},
   "outputs": [
    {
     "data": {
      "text/plain": [
       "Index(['s1male_head_05', 's3atoilet_hh_05', 's3awater_access_hh_05',\n",
       "       's3aelectric_hh_05', 's4p6_vitamina_i_05', 's4p7_parasite_i_05',\n",
       "       's11ownland_hh_05', 'itt_i', 'itt_all_i', 's4p7_parasite_i_06'],\n",
       "      dtype='object')"
      ]
     },
     "execution_count": 281,
     "metadata": {},
     "output_type": "execute_result"
    }
   ],
   "source": [
    "categorical_cols"
   ]
  },
  {
   "cell_type": "code",
   "execution_count": 282,
=======
   "execution_count": 79,
>>>>>>> Stashed changes
   "id": "8fae1bc5",
   "metadata": {},
   "outputs": [],
   "source": [
    "treatment = 'tr'\n",
    "outcome = 'z_all_06'\n",
    "covariates = [\"s1age_head_05\",\"s1hhsize_05\",\"s1hhsz_undr5_05\",\"s1hhsz_5_14_05\",\n",
    "        \"s1hhsz_15_24_05\",\"s1hhsz_25_64_05\",\"s1hhsz_65plus_05\",\"s1male_head_05\",\"s2mother_inhs_05\",\"s3ap5_rooms_h_05\",\n",
    "        \"s3ap23_stime_h_05\",\"s3ap24_htime_h_05\",\"s3ap25_hqtime_h_05\",\"s3atoilet_hh_05\",\"s3awater_access_hh_05\",\n",
    "        \"s3aelectric_hh_05\",\"s4p6_vitamina_i_05\",\"s4p7_parasite_i_05\",\"s11ownland_hh_05\",\"cons_food_pc_05\",\"cons_tot_pc_05\",\n",
    "        \"tvip_05\",\"height_05\",\"a10whz_05\",\"weight_05\",\"itt_i\",\"itt_all_i\",\"yrsedfath\",\"age_transfer\",\"bweight\",\n",
    "        \"s4p7_parasite_i_06\",\"male\",\"TREAT1\",\"TREAT2\",\"TREAT3\",\"TREAT4\",\"ed_mom\",\"MUN1\",\"MUN2\",\"MUN3\",\"MUN4\",\n",
    "        \"MUN5\",\"MUN6\",\"com_haz_05\",\"com_waz_05\",\"com_tvip_05\",\"com_control_05\",\"com_vit_05\",\"com_deworm_05\",\"com_notvip\",\n",
    "        \"sample06\",\"vitamiron_06\",\n",
    "        \"propfood_05\",\"prstap_f_05\",\"pranimalprot_f_05\",\"prfruitveg_f_05\"]"
   ]
  },
  {
   "cell_type": "code",
<<<<<<< Updated upstream
   "execution_count": 283,
=======
   "execution_count": 55,
>>>>>>> Stashed changes
   "id": "804f28af",
   "metadata": {},
   "outputs": [],
   "source": [
    "cleaned_df.drop(cleaned_df[df_out.iloc[cleaned_df.index].z_all_06.isna()].index, axis=0, inplace=True)"
   ]
  },
  {
   "cell_type": "code",
<<<<<<< Updated upstream
   "execution_count": 284,
=======
   "execution_count": 61,
>>>>>>> Stashed changes
   "id": "b42f0fc3",
   "metadata": {},
   "outputs": [],
   "source": [
    "cleaned_df[\"z_all_06\"]=df_out.iloc[cleaned_df.index].z_all_06"
   ]
  },
  {
   "cell_type": "code",
<<<<<<< Updated upstream
   "execution_count": 285,
=======
   "execution_count": 69,
>>>>>>> Stashed changes
   "id": "447af8fc",
   "metadata": {},
   "outputs": [],
   "source": [
    "cp_cols=[\"hogarid_old\",\"cp_old\",\"unique_05\", \"cpmom_06\"]"
   ]
  },
  {
   "cell_type": "code",
<<<<<<< Updated upstream
   "execution_count": 286,
=======
   "execution_count": 71,
>>>>>>> Stashed changes
   "id": "1c10e43c",
   "metadata": {},
   "outputs": [],
   "source": [
    "cleaned_df.drop(cp_cols, axis=1, inplace=True)"
   ]
  },
  {
   "cell_type": "code",
<<<<<<< Updated upstream
   "execution_count": 22,
=======
   "execution_count": 80,
>>>>>>> Stashed changes
   "id": "583b7d63",
   "metadata": {},
   "outputs": [],
   "source": [
    "from sklearn.model_selection import train_test_split\n",
    "# split data into train and test sets \n",
    "train, test = train_test_split(cleaned_df, test_size=0.2)\n",
    "\n",
    "# set variables for causal forest Y=outcome, T=treatment, X=covariates, W=effect_modifiers \n",
    "Y = train[outcome]\n",
    "T = train[treatment]\n",
    "X = train[covariates]\n",
    "W = None\n",
    "X_test = test[covariates]"
   ]
  },
  {
   "cell_type": "code",
<<<<<<< Updated upstream
   "execution_count": null,
   "id": "5b0ca05d",
   "metadata": {},
   "outputs": [],
=======
   "execution_count": 100,
   "id": "5b0ca05d",
   "metadata": {},
   "outputs": [
    {
     "data": {
      "image/png": "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\n",
      "text/latex": [
       "$\\displaystyle 0.0953433421390388$"
      ],
      "text/plain": [
       "0.09534334213903875"
      ]
     },
     "execution_count": 100,
     "metadata": {},
     "output_type": "execute_result"
    }
   ],
>>>>>>> Stashed changes
   "source": [
    "from econml.dml import CausalForestDML\n",
    "from sklearn.linear_model import LassoCV\n",
    "\n",
    "# set parameters for causal forest \n",
    "causal_forest1 = CausalForestDML(criterion='het', \n",
    "                                n_estimators=10000,       \n",
    "                                min_samples_leaf=10, \n",
    "                                max_depth=None, \n",
    "                                max_samples=0.5,\n",
    "                                discrete_treatment=False,\n",
    "                                honest=True,\n",
    "                                inference=True,\n",
    "                                cv=10,\n",
    "                                model_t=LassoCV(), \n",
    "                                model_y=LassoCV(),\n",
    "                                )\n",
    "                      \n",
    "# fit train data to causal forest model \n",
    "causal_forest1.fit(Y, T, X=X, W=W)\n",
    "# estimate the CATE with the test set \n",
    "causal_forest1.const_marginal_ate(X_test)"
   ]
  },
  {
   "cell_type": "code",
   "execution_count": null,
<<<<<<< Updated upstream
   "id": "3e36db4a",
   "metadata": {},
   "outputs": [],
   "source": [
    "a=causal_forest1.effect(X)"
   ]
  },
  {
   "cell_type": "markdown",
   "id": "a49212fb",
   "metadata": {},
   "source": [
    "Mirem de interpretar i identificar subgrups a través de les eines d'interpretació de econML. Primer fem un decision tree naive, sembla que fa el mateix que SingleTreeCateInterpreter. Després provem aquest (SingleTreeCateInterpreter) i llavors SingleTreePolicyInterpreter"
   ]
  },
  {
   "cell_type": "code",
   "execution_count": null,
   "id": "cf1843e8",
   "metadata": {},
   "outputs": [],
   "source": [
    "import sklearn\n",
    "from sklearn.tree import DecisionTreeRegressor\n",
    "reg = DecisionTreeRegressor(max_depth=4).fit(X,a)\n",
    "sklearn.tree.export_graphviz(reg, 'test.dot')"
   ]
  },
  {
   "cell_type": "code",
   "execution_count": null,
   "id": "06d4806d",
   "metadata": {},
   "outputs": [],
   "source": [
    "import graphviz\n",
    "import os \n",
    "os.environ[\"PATH\"] += os.pathsep + 'C:\\Program Files\\Graphviz/bin/'\n",
    "# DOT data\n",
    "dot_data = sklearn.tree.export_graphviz(reg, out_file=None, \n",
    "                                feature_names=covariates) \n",
    "                                #class_names=iris.target_names,\n",
    "                                #filled=True)\n",
    "\n",
    "# Draw graph\n",
    "graph = graphviz.Source(dot_data, format=\"png\") \n",
    "graph\n"
   ]
  },
  {
   "cell_type": "code",
   "execution_count": null,
   "id": "3c294799",
   "metadata": {},
   "outputs": [],
   "source": [
    "from econml.cate_interpreter import SingleTreeCateInterpreter\n",
    "from econml.dml import LinearDML\n",
    "\n",
    "intrp = SingleTreeCateInterpreter(include_model_uncertainty=True, max_depth=3, min_samples_leaf=10)\n",
    "# We interpret the CATE model's behavior based on the features used for heterogeneity\n",
    "intrp.interpret(causal_forest1, X)\n",
    "# Plot the tree\n",
    "intrp.plot(feature_names=covariates, fontsize=12)\n",
    "intrp.plot()\n"
   ]
  },
  {
   "cell_type": "code",
   "execution_count": null,
   "id": "2fdac58f",
   "metadata": {},
   "outputs": [],
   "source": [
    "intrp.render(\"prova1\", feature_names=covariates)"
   ]
  },
  {
   "cell_type": "code",
   "execution_count": null,
   "id": "d60a63f6",
   "metadata": {},
   "outputs": [],
   "source": [
    "from econml.cate_interpreter import SingleTreePolicyInterpreter\n",
    "\n",
    "intrp = SingleTreePolicyInterpreter(risk_level=None, max_depth=2, min_samples_leaf=1,min_impurity_decrease=.001)\n",
    "intrp.interpret(causal_forest1, X, sample_treatment_costs=0.02)\n"
   ]
  },
  {
   "cell_type": "code",
   "execution_count": null,
   "id": "feb49c24",
   "metadata": {},
   "outputs": [],
   "source": [
    "intrp.render(\"prova2\", feature_names=covariates)"
   ]
  },
  {
   "cell_type": "markdown",
   "id": "d10a8545",
   "metadata": {},
   "source": [
    "### SHAP"
=======
   "id": "b679b979",
   "metadata": {},
   "outputs": [],
   "source": [
    "causal_forest1_ate"
>>>>>>> Stashed changes
   ]
  },
  {
   "cell_type": "code",
<<<<<<< Updated upstream
   "execution_count": null,
   "id": "e0f78747",
   "metadata": {},
   "outputs": [],
   "source": [
    "pd.Series(causal_forest1.feature_importances_,index=causal_forest1.cate_feature_names()).sort_values()"
   ]
  },
  {
   "cell_type": "code",
   "execution_count": null,
   "id": "c771f998",
   "metadata": {},
   "outputs": [],
   "source": [
    "import shap\n",
    "from econml.dml import CausalForestDML\n",
    "\n",
    "# fit causal forest with default parameters \n",
    "causal_forest = CausalForestDML()\n",
    "causal_forest.fit(Y, T, X=X, W=W)\n",
    "\n",
    "# calculate shap values of causal forest model \n",
    "shap_values = causal_forest.shap_values(X)\n"
   ]
  },
  {
   "cell_type": "code",
   "execution_count": null,
   "id": "21bfeb98",
   "metadata": {},
   "outputs": [],
   "source": [
    "\n",
    "# plot shap values \n",
    "shap.summary_plot(shap_values['z_all_06'][\"tr\"])"
   ]
  },
  {
   "cell_type": "markdown",
   "id": "a90f0cc8",
   "metadata": {},
   "source": [
    "### ITE"
   ]
  },
  {
   "cell_type": "markdown",
   "id": "6ef6b195",
   "metadata": {},
   "source": [
    "-Regressio\n",
    "-Random forest\n",
    "-XGBoost"
   ]
  },
  {
   "cell_type": "code",
   "execution_count": 23,
   "id": "a89b7dc1",
   "metadata": {},
=======
   "execution_count": 88,
   "id": "e0f78747",
   "metadata": {},
>>>>>>> Stashed changes
   "outputs": [
    {
     "data": {
      "text/plain": [
<<<<<<< Updated upstream
       "['s1age_head_05',\n",
       " 's1hhsize_05',\n",
       " 's1hhsz_undr5_05',\n",
       " 's1hhsz_5_14_05',\n",
       " 's1hhsz_15_24_05',\n",
       " 's1hhsz_25_64_05',\n",
       " 's1hhsz_65plus_05',\n",
       " 's1male_head_05',\n",
       " 's2mother_inhs_05',\n",
       " 's3ap5_rooms_h_05',\n",
       " 's3ap23_stime_h_05',\n",
       " 's3ap24_htime_h_05',\n",
       " 's3ap25_hqtime_h_05',\n",
       " 's3atoilet_hh_05',\n",
       " 's3awater_access_hh_05',\n",
       " 's3aelectric_hh_05',\n",
       " 's4p6_vitamina_i_05',\n",
       " 's4p7_parasite_i_05',\n",
       " 's11ownland_hh_05',\n",
       " 'cons_food_pc_05',\n",
       " 'cons_tot_pc_05',\n",
       " 'tvip_05',\n",
       " 'height_05',\n",
       " 'a10whz_05',\n",
       " 'weight_05',\n",
       " 'itt_i',\n",
       " 'itt_all_i',\n",
       " 'yrsedfath',\n",
       " 'age_transfer',\n",
       " 'bweight',\n",
       " 's4p7_parasite_i_06',\n",
       " 'male',\n",
       " 'TREAT1',\n",
       " 'TREAT2',\n",
       " 'TREAT3',\n",
       " 'TREAT4',\n",
       " 'ed_mom',\n",
       " 'MUN1',\n",
       " 'MUN2',\n",
       " 'MUN3',\n",
       " 'MUN4',\n",
       " 'MUN5',\n",
       " 'MUN6',\n",
       " 'com_haz_05',\n",
       " 'com_waz_05',\n",
       " 'com_tvip_05',\n",
       " 'com_control_05',\n",
       " 'com_vit_05',\n",
       " 'com_deworm_05',\n",
       " 'com_notvip',\n",
       " 'sample06',\n",
       " 'vitamiron_06',\n",
       " 'propfood_05',\n",
       " 'prstap_f_05',\n",
       " 'pranimalprot_f_05',\n",
       " 'prfruitveg_f_05',\n",
       " 'tr']"
      ]
     },
     "execution_count": 23,
=======
       "sample06                 0.000000\n",
       "MUN2                     0.000017\n",
       "TREAT2                   0.000046\n",
       "MUN3                     0.000101\n",
       "TREAT4                   0.000193\n",
       "s3awater_access_hh_05    0.000562\n",
       "TREAT1                   0.000667\n",
       "itt_i                    0.000689\n",
       "s1hhsz_65plus_05         0.000743\n",
       "MUN6                     0.001219\n",
       "MUN1                     0.001269\n",
       "s3aelectric_hh_05        0.001656\n",
       "MUN4                     0.001715\n",
       "s11ownland_hh_05         0.002158\n",
       "s4p7_parasite_i_06       0.002189\n",
       "tvip_05                  0.002306\n",
       "s1hhsz_25_64_05          0.002395\n",
       "vitamiron_06             0.002478\n",
       "itt_all_i                0.002628\n",
       "s1male_head_05           0.002754\n",
       "s3atoilet_hh_05          0.002855\n",
       "s3ap5_rooms_h_05         0.003330\n",
       "MUN5                     0.004598\n",
       "male                     0.005098\n",
       "s4p6_vitamina_i_05       0.005810\n",
       "s4p7_parasite_i_05       0.006341\n",
       "s1hhsz_undr5_05          0.006604\n",
       "s1hhsz_5_14_05           0.007135\n",
       "s3ap25_hqtime_h_05       0.008662\n",
       "s1hhsize_05              0.011510\n",
       "s1hhsz_15_24_05          0.013123\n",
       "a10whz_05                0.014074\n",
       "s3ap23_stime_h_05        0.014575\n",
       "yrsedfath                0.015290\n",
       "ed_mom                   0.016116\n",
       "TREAT3                   0.016831\n",
       "com_vit_05               0.020485\n",
       "com_haz_05               0.020907\n",
       "com_tvip_05              0.021340\n",
       "prfruitveg_f_05          0.021545\n",
       "s3ap24_htime_h_05        0.023503\n",
       "s1age_head_05            0.023832\n",
       "bweight                  0.024043\n",
       "weight_05                0.024787\n",
       "pranimalprot_f_05        0.025022\n",
       "cons_tot_pc_05           0.025032\n",
       "com_control_05           0.025647\n",
       "prstap_f_05              0.032449\n",
       "s2mother_inhs_05         0.035716\n",
       "propfood_05              0.038247\n",
       "com_waz_05               0.040298\n",
       "cons_food_pc_05          0.045425\n",
       "height_05                0.047771\n",
       "age_transfer             0.087539\n",
       "com_notvip               0.096199\n",
       "com_deworm_05            0.142477\n",
       "dtype: float64"
      ]
     },
     "execution_count": 88,
>>>>>>> Stashed changes
     "metadata": {},
     "output_type": "execute_result"
    }
   ],
   "source": [
<<<<<<< Updated upstream
    "covariates+ [\"tr\"]"
   ]
  },
  {
   "cell_type": "code",
   "execution_count": 24,
   "id": "a8ef39ce",
   "metadata": {},
   "outputs": [],
   "source": [
    "from sklearn.model_selection import train_test_split\n",
    "# split data into train and test sets \n",
    "train, test = train_test_split(cleaned_df, test_size=0.33)\n",
    "\n",
    "# set variables for causal forest Y=outcome, T=treatment, X=covariates, W=effect_modifiers \n",
    "y_train = train[outcome]\n",
    "X_train = train[covariates+[\"tr\"]]\n",
    "\n",
    "X_test = test[covariates+[\"tr\"]]\n",
    "y_test =  test[outcome]"
   ]
  },
  {
   "cell_type": "code",
   "execution_count": null,
   "id": "f4169078",
   "metadata": {},
   "outputs": [],
   "source": []
  },
  {
   "cell_type": "code",
   "execution_count": 25,
   "id": "148d7555",
   "metadata": {},
   "outputs": [],
   "source": [
    "def display_scores(scores,model_name = None):\n",
    "    if(model_name):\n",
    "        print(\"----\",model_name,\"----\")\n",
    "    print(\"Mean:\", scores.mean())\n",
    "    print(\"Standard deviation:\", scores.std())"
   ]
  },
  {
   "cell_type": "code",
   "execution_count": 26,
   "id": "31910104",
   "metadata": {},
   "outputs": [
    {
     "ename": "NameError",
     "evalue": "name 'sklearn' is not defined",
     "output_type": "error",
     "traceback": [
      "\u001b[1;31m---------------------------------------------------------------------------\u001b[0m",
      "\u001b[1;31mNameError\u001b[0m                                 Traceback (most recent call last)",
      "Input \u001b[1;32mIn [26]\u001b[0m, in \u001b[0;36m<cell line: 1>\u001b[1;34m()\u001b[0m\n\u001b[1;32m----> 1\u001b[0m \u001b[38;5;28msorted\u001b[39m(\u001b[43msklearn\u001b[49m\u001b[38;5;241m.\u001b[39mmetrics\u001b[38;5;241m.\u001b[39mSCORERS\u001b[38;5;241m.\u001b[39mkeys())\n",
      "\u001b[1;31mNameError\u001b[0m: name 'sklearn' is not defined"
     ]
    }
   ],
   "source": [
    "sorted(sklearn.metrics.SCORERS.keys())"
=======
    "pd.Series(causal_forest.feature_importances_,index=causal_forest.cate_feature_names()).sort_values()"
>>>>>>> Stashed changes
   ]
  },
  {
   "cell_type": "code",
<<<<<<< Updated upstream
   "execution_count": 27,
   "id": "c66cac68",
=======
   "execution_count": 90,
   "id": "c771f998",
>>>>>>> Stashed changes
   "metadata": {},
   "outputs": [
    {
     "name": "stderr",
     "output_type": "stream",
     "text": [
<<<<<<< Updated upstream
      "C:\\Users\\Usuari\\anaconda3\\lib\\site-packages\\xgboost\\compat.py:36: FutureWarning: pandas.Int64Index is deprecated and will be removed from pandas in a future version. Use pandas.Index with the appropriate dtype instead.\n",
      "  from pandas import MultiIndex, Int64Index\n",
      "C:\\Users\\Usuari\\anaconda3\\lib\\site-packages\\xgboost\\data.py:262: FutureWarning: pandas.Int64Index is deprecated and will be removed from pandas in a future version. Use pandas.Index with the appropriate dtype instead.\n",
      "  elif isinstance(data.columns, (pd.Int64Index, pd.RangeIndex)):\n"
     ]
    },
    {
     "name": "stdout",
     "output_type": "stream",
     "text": [
      "---- lin_reg ----\n",
      "Mean: 0.19846182785215571\n",
      "Standard deviation: 0.12405241196680919\n",
      "---- Random Forest ----\n",
      "Mean: 0.23217899390054653\n",
      "Standard deviation: 0.07216574836144535\n"
     ]
    },
    {
     "name": "stderr",
     "output_type": "stream",
     "text": [
      "C:\\Users\\Usuari\\anaconda3\\lib\\site-packages\\xgboost\\data.py:262: FutureWarning: pandas.Int64Index is deprecated and will be removed from pandas in a future version. Use pandas.Index with the appropriate dtype instead.\n",
      "  elif isinstance(data.columns, (pd.Int64Index, pd.RangeIndex)):\n",
      "C:\\Users\\Usuari\\anaconda3\\lib\\site-packages\\xgboost\\data.py:262: FutureWarning: pandas.Int64Index is deprecated and will be removed from pandas in a future version. Use pandas.Index with the appropriate dtype instead.\n",
      "  elif isinstance(data.columns, (pd.Int64Index, pd.RangeIndex)):\n",
      "C:\\Users\\Usuari\\anaconda3\\lib\\site-packages\\xgboost\\data.py:262: FutureWarning: pandas.Int64Index is deprecated and will be removed from pandas in a future version. Use pandas.Index with the appropriate dtype instead.\n",
      "  elif isinstance(data.columns, (pd.Int64Index, pd.RangeIndex)):\n",
      "C:\\Users\\Usuari\\anaconda3\\lib\\site-packages\\xgboost\\data.py:262: FutureWarning: pandas.Int64Index is deprecated and will be removed from pandas in a future version. Use pandas.Index with the appropriate dtype instead.\n",
      "  elif isinstance(data.columns, (pd.Int64Index, pd.RangeIndex)):\n",
      "C:\\Users\\Usuari\\anaconda3\\lib\\site-packages\\xgboost\\data.py:262: FutureWarning: pandas.Int64Index is deprecated and will be removed from pandas in a future version. Use pandas.Index with the appropriate dtype instead.\n",
      "  elif isinstance(data.columns, (pd.Int64Index, pd.RangeIndex)):\n",
      "C:\\Users\\Usuari\\anaconda3\\lib\\site-packages\\xgboost\\data.py:262: FutureWarning: pandas.Int64Index is deprecated and will be removed from pandas in a future version. Use pandas.Index with the appropriate dtype instead.\n",
      "  elif isinstance(data.columns, (pd.Int64Index, pd.RangeIndex)):\n",
      "C:\\Users\\Usuari\\anaconda3\\lib\\site-packages\\xgboost\\data.py:262: FutureWarning: pandas.Int64Index is deprecated and will be removed from pandas in a future version. Use pandas.Index with the appropriate dtype instead.\n",
      "  elif isinstance(data.columns, (pd.Int64Index, pd.RangeIndex)):\n",
      "C:\\Users\\Usuari\\anaconda3\\lib\\site-packages\\xgboost\\data.py:262: FutureWarning: pandas.Int64Index is deprecated and will be removed from pandas in a future version. Use pandas.Index with the appropriate dtype instead.\n",
      "  elif isinstance(data.columns, (pd.Int64Index, pd.RangeIndex)):\n",
      "C:\\Users\\Usuari\\anaconda3\\lib\\site-packages\\xgboost\\data.py:262: FutureWarning: pandas.Int64Index is deprecated and will be removed from pandas in a future version. Use pandas.Index with the appropriate dtype instead.\n",
      "  elif isinstance(data.columns, (pd.Int64Index, pd.RangeIndex)):\n",
      "C:\\Users\\Usuari\\anaconda3\\lib\\site-packages\\xgboost\\data.py:262: FutureWarning: pandas.Int64Index is deprecated and will be removed from pandas in a future version. Use pandas.Index with the appropriate dtype instead.\n",
      "  elif isinstance(data.columns, (pd.Int64Index, pd.RangeIndex)):\n"
     ]
    },
    {
     "name": "stdout",
     "output_type": "stream",
     "text": [
      "---- XGboost ----\n",
      "Mean: 0.18148342812821236\n",
      "Standard deviation: 0.11394298547750425\n"
=======
      "'normalize' was deprecated in version 1.0 and will be removed in 1.2. Please leave the normalize parameter to its default value to silence this warning. The default behavior of this estimator is to not do any normalization. If normalization is needed please use sklearn.preprocessing.StandardScaler instead.\n",
      "'normalize' was deprecated in version 1.0 and will be removed in 1.2. Please leave the normalize parameter to its default value to silence this warning. The default behavior of this estimator is to not do any normalization. If normalization is needed please use sklearn.preprocessing.StandardScaler instead.\n",
      "'normalize' was deprecated in version 1.0 and will be removed in 1.2. Please leave the normalize parameter to its default value to silence this warning. The default behavior of this estimator is to not do any normalization. If normalization is needed please use sklearn.preprocessing.StandardScaler instead.\n",
      "'normalize' was deprecated in version 1.0 and will be removed in 1.2. Please leave the normalize parameter to its default value to silence this warning. The default behavior of this estimator is to not do any normalization. If normalization is needed please use sklearn.preprocessing.StandardScaler instead.\n",
      " 98%|===================| 2507/2567 [00:32<00:00]        "
>>>>>>> Stashed changes
     ]
    }
   ],
   "source": [
<<<<<<< Updated upstream
    "from sklearn.linear_model import LinearRegression\n",
    "from sklearn.ensemble import RandomForestRegressor\n",
    "import xgboost as xgb\n",
    "\n",
    "from sklearn.model_selection import cross_val_score\n",
    "\n",
    "lin_reg = LinearRegression()\n",
    "lin_reg.fit(X_train, y_train)\n",
    "\n",
    "forest_reg = RandomForestRegressor(n_estimators=20, random_state=42)\n",
    "forest_reg.fit(X_train, y_train)\n",
    "\n",
    "xg_reg = xgb.XGBRegressor(objective ='reg:squarederror')\n",
    "xg_reg.fit(X_train,y_train)\n",
    "\n",
    " \n",
    "    # lets comare all of them \n",
    "models = [(lin_reg,\"lin_reg\"),\n",
    "          (forest_reg,'Random Forest'),\n",
    "          (xg_reg,\"XGboost\")]\n",
    "for model in models:\n",
    "    scores = cross_val_score(model[0], X_test, y_test, scoring='r2', cv=10)\n",
    "    display_scores(scores, model[1])"
=======
    "import shap\n",
    "from econml.dml import CausalForestDML\n",
    "\n",
    "# fit causal forest with default parameters \n",
    "causal_forest = CausalForestDML()\n",
    "causal_forest.fit(Y, T, X=X, W=W)\n",
    "\n",
    "# calculate shap values of causal forest model \n",
    "shap_values = causal_forest.shap_values(X)\n"
>>>>>>> Stashed changes
   ]
  },
  {
   "cell_type": "code",
<<<<<<< Updated upstream
   "execution_count": 28,
   "id": "425ffe2b",
=======
   "execution_count": 99,
   "id": "21bfeb98",
>>>>>>> Stashed changes
   "metadata": {},
   "outputs": [
    {
     "data": {
<<<<<<< Updated upstream
      "text/plain": [
       "{'objective': 'reg:squarederror',\n",
       " 'base_score': 0.5,\n",
       " 'booster': 'gbtree',\n",
       " 'colsample_bylevel': 1,\n",
       " 'colsample_bynode': 1,\n",
       " 'colsample_bytree': 1,\n",
       " 'gamma': 0,\n",
       " 'gpu_id': -1,\n",
       " 'interaction_constraints': '',\n",
       " 'learning_rate': 0.300000012,\n",
       " 'max_delta_step': 0,\n",
       " 'max_depth': 6,\n",
       " 'min_child_weight': 1,\n",
       " 'monotone_constraints': '()',\n",
       " 'n_jobs': 4,\n",
       " 'num_parallel_tree': 1,\n",
       " 'predictor': 'auto',\n",
       " 'random_state': 0,\n",
       " 'reg_alpha': 0,\n",
       " 'reg_lambda': 1,\n",
       " 'scale_pos_weight': 1,\n",
       " 'subsample': 1,\n",
       " 'tree_method': 'exact',\n",
       " 'validate_parameters': 1,\n",
       " 'verbosity': None}"
      ]
     },
     "execution_count": 28,
     "metadata": {},
     "output_type": "execute_result"
    }
   ],
   "source": [
    "xg_reg.get_xgb_params()"
   ]
  },
  {
   "cell_type": "code",
   "execution_count": 29,
   "id": "31844497",
   "metadata": {},
   "outputs": [
    {
     "name": "stderr",
     "output_type": "stream",
     "text": [
      "C:\\Users\\Usuari\\anaconda3\\lib\\site-packages\\xgboost\\data.py:262: FutureWarning: pandas.Int64Index is deprecated and will be removed from pandas in a future version. Use pandas.Index with the appropriate dtype instead.\n",
      "  elif isinstance(data.columns, (pd.Int64Index, pd.RangeIndex)):\n"
     ]
    },
    {
     "data": {
      "text/plain": [
       "GridSearchCV(cv=2,\n",
       "             estimator=XGBRegressor(base_score=None, booster=None,\n",
       "                                    colsample_bylevel=None,\n",
       "                                    colsample_bynode=None,\n",
       "                                    colsample_bytree=None,\n",
       "                                    enable_categorical=False, gamma=None,\n",
       "                                    gpu_id=None, importance_type=None,\n",
       "                                    interaction_constraints=None,\n",
       "                                    learning_rate=None, max_delta_step=None,\n",
       "                                    max_depth=None, min_child_weight=None,\n",
       "                                    missing=nan, monotone_constraints=None,\n",
       "                                    n_estimators=100, n_jobs=None,\n",
       "                                    num_parallel_tree=None, predictor=None,\n",
       "                                    random_state=None, reg_alpha=None,\n",
       "                                    reg_lambda=None, scale_pos_weight=None,\n",
       "                                    subsample=None, tree_method=None,\n",
       "                                    validate_parameters=None, verbosity=None),\n",
       "             n_jobs=-1,\n",
       "             param_grid={'learning_rate': [0.01, 0.3, 0.5],\n",
       "                         'max_depth': [4, 6, 8]})"
      ]
     },
     "execution_count": 29,
     "metadata": {},
     "output_type": "execute_result"
    }
   ],
   "source": [
    "from sklearn.model_selection import GridSearchCV\n",
    "\n",
    "parameters = {'learning_rate': [0.01,0.3, 0.5],\n",
    "                  'max_depth'    : [4,6,8]\n",
    "                 }\n",
    "\n",
    "GBR = xgb.XGBRegressor()\n",
    "grid_GBC = GridSearchCV(estimator=GBR, cv = 2, n_jobs=-1, param_grid = parameters)\n",
    "grid_GBC.fit(X_train, y_train)"
   ]
  },
  {
   "cell_type": "code",
   "execution_count": 30,
   "id": "774df71b",
   "metadata": {},
   "outputs": [
    {
     "name": "stdout",
     "output_type": "stream",
     "text": [
      " Results from Grid Search \n",
      "\n",
      " The best estimator across ALL searched params:\n",
      " XGBRegressor(base_score=0.5, booster='gbtree', colsample_bylevel=1,\n",
      "             colsample_bynode=1, colsample_bytree=1, enable_categorical=False,\n",
      "             gamma=0, gpu_id=-1, importance_type=None,\n",
      "             interaction_constraints='', learning_rate=0.3, max_delta_step=0,\n",
      "             max_depth=4, min_child_weight=1, missing=nan,\n",
      "             monotone_constraints='()', n_estimators=100, n_jobs=4,\n",
      "             num_parallel_tree=1, predictor='auto', random_state=0, reg_alpha=0,\n",
      "             reg_lambda=1, scale_pos_weight=1, subsample=1, tree_method='exact',\n",
      "             validate_parameters=1, verbosity=None)\n",
      "\n",
      " The best score across ALL searched params:\n",
      " 0.1383027791230182\n",
      "\n",
      " The best parameters across ALL searched params:\n",
      " {'learning_rate': 0.3, 'max_depth': 4}\n"
     ]
    }
   ],
   "source": [
    "print(\" Results from Grid Search \" )\n",
    "print(\"\\n The best estimator across ALL searched params:\\n\",grid_GBC.best_estimator_)\n",
    "print(\"\\n The best score across ALL searched params:\\n\",grid_GBC.best_score_)\n",
    "print(\"\\n The best parameters across ALL searched params:\\n\",grid_GBC.best_params_)\n"
   ]
  },
  {
   "cell_type": "code",
   "execution_count": 35,
   "id": "5aaaf1ff",
   "metadata": {},
   "outputs": [
    {
     "data": {
      "text/plain": [
       "['accuracy',\n",
       " 'adjusted_mutual_info_score',\n",
       " 'adjusted_rand_score',\n",
       " 'average_precision',\n",
       " 'balanced_accuracy',\n",
       " 'completeness_score',\n",
       " 'explained_variance',\n",
       " 'f1',\n",
       " 'f1_macro',\n",
       " 'f1_micro',\n",
       " 'f1_samples',\n",
       " 'f1_weighted',\n",
       " 'fowlkes_mallows_score',\n",
       " 'homogeneity_score',\n",
       " 'jaccard',\n",
       " 'jaccard_macro',\n",
       " 'jaccard_micro',\n",
       " 'jaccard_samples',\n",
       " 'jaccard_weighted',\n",
       " 'max_error',\n",
       " 'mutual_info_score',\n",
       " 'neg_brier_score',\n",
       " 'neg_log_loss',\n",
       " 'neg_mean_absolute_error',\n",
       " 'neg_mean_absolute_percentage_error',\n",
       " 'neg_mean_gamma_deviance',\n",
       " 'neg_mean_poisson_deviance',\n",
       " 'neg_mean_squared_error',\n",
       " 'neg_mean_squared_log_error',\n",
       " 'neg_median_absolute_error',\n",
       " 'neg_root_mean_squared_error',\n",
       " 'normalized_mutual_info_score',\n",
       " 'precision',\n",
       " 'precision_macro',\n",
       " 'precision_micro',\n",
       " 'precision_samples',\n",
       " 'precision_weighted',\n",
       " 'r2',\n",
       " 'rand_score',\n",
       " 'recall',\n",
       " 'recall_macro',\n",
       " 'recall_micro',\n",
       " 'recall_samples',\n",
       " 'recall_weighted',\n",
       " 'roc_auc',\n",
       " 'roc_auc_ovo',\n",
       " 'roc_auc_ovo_weighted',\n",
       " 'roc_auc_ovr',\n",
       " 'roc_auc_ovr_weighted',\n",
       " 'top_k_accuracy',\n",
       " 'v_measure_score']"
      ]
     },
     "execution_count": 35,
     "metadata": {},
     "output_type": "execute_result"
    }
   ],
   "source": [
    "sorted(sklearn.metrics.SCORERS.keys())"
   ]
  },
  {
   "cell_type": "code",
   "execution_count": 36,
   "id": "725fad88",
   "metadata": {},
   "outputs": [],
   "source": [
    "import warnings\n",
    "warnings.filterwarnings('ignore')"
   ]
  },
  {
   "cell_type": "code",
   "execution_count": 37,
   "id": "0c9e144c",
   "metadata": {},
   "outputs": [
    {
     "name": "stdout",
     "output_type": "stream",
     "text": [
      "---- lin_reg ----\n",
      "Mean: 0.19846182785215571\n",
      "Standard deviation: 0.12405241196680919\n",
      "---- Random Forest ----\n",
      "Mean: 0.23217899390054653\n",
      "Standard deviation: 0.07216574836144535\n",
      "---- XGboost ----\n",
      "Mean: 0.18148342812821236\n",
      "Standard deviation: 0.11394298547750425\n"
     ]
    }
   ],
   "source": [
    " # lets comare all of them \n",
    "models = [(lin_reg,\"lin_reg\"),\n",
    "          (forest_reg,'Random Forest'),\n",
    "          (xg_reg,\"XGboost\")]\n",
    "for model in models:\n",
    "    scores = cross_val_score(model[0], X_test, y_test, scoring=\"r2\", cv=10)\n",
    "    display_scores(scores, model[1])"
   ]
  },
  {
   "cell_type": "code",
   "execution_count": 38,
   "id": "cdf427e0",
   "metadata": {},
   "outputs": [
    {
     "data": {
      "text/html": [
       "<div>\n",
       "<style scoped>\n",
       "    .dataframe tbody tr th:only-of-type {\n",
       "        vertical-align: middle;\n",
       "    }\n",
       "\n",
       "    .dataframe tbody tr th {\n",
       "        vertical-align: top;\n",
       "    }\n",
       "\n",
       "    .dataframe thead th {\n",
       "        text-align: right;\n",
       "    }\n",
       "</style>\n",
       "<table border=\"1\" class=\"dataframe\">\n",
       "  <thead>\n",
       "    <tr style=\"text-align: right;\">\n",
       "      <th></th>\n",
       "      <th>s1age_head_05</th>\n",
       "      <th>s1hhsize_05</th>\n",
       "      <th>s1hhsz_undr5_05</th>\n",
       "      <th>s1hhsz_5_14_05</th>\n",
       "      <th>s1hhsz_15_24_05</th>\n",
       "      <th>s1hhsz_25_64_05</th>\n",
       "      <th>s1hhsz_65plus_05</th>\n",
       "      <th>s1male_head_05</th>\n",
       "      <th>s2mother_inhs_05</th>\n",
       "      <th>s3ap5_rooms_h_05</th>\n",
       "      <th>...</th>\n",
       "      <th>com_vit_05</th>\n",
       "      <th>com_deworm_05</th>\n",
       "      <th>com_notvip</th>\n",
       "      <th>sample06</th>\n",
       "      <th>vitamiron_06</th>\n",
       "      <th>propfood_05</th>\n",
       "      <th>prstap_f_05</th>\n",
       "      <th>pranimalprot_f_05</th>\n",
       "      <th>prfruitveg_f_05</th>\n",
       "      <th>z_all_06</th>\n",
       "    </tr>\n",
       "  </thead>\n",
       "  <tbody>\n",
       "    <tr>\n",
       "      <th>1</th>\n",
       "      <td>35.0</td>\n",
       "      <td>5.0</td>\n",
       "      <td>1.0</td>\n",
       "      <td>2.0</td>\n",
       "      <td>0.0</td>\n",
       "      <td>2.0</td>\n",
       "      <td>0.0</td>\n",
       "      <td>1.0</td>\n",
       "      <td>1.0</td>\n",
       "      <td>1.0</td>\n",
       "      <td>...</td>\n",
       "      <td>0.571429</td>\n",
       "      <td>0.285714</td>\n",
       "      <td>0.500000</td>\n",
       "      <td>1.0</td>\n",
       "      <td>0.0</td>\n",
       "      <td>0.678527</td>\n",
       "      <td>0.204472</td>\n",
       "      <td>0.674387</td>\n",
       "      <td>0.000000</td>\n",
       "      <td>0.450156</td>\n",
       "    </tr>\n",
       "    <tr>\n",
       "      <th>2</th>\n",
       "      <td>56.0</td>\n",
       "      <td>8.0</td>\n",
       "      <td>1.0</td>\n",
       "      <td>1.0</td>\n",
       "      <td>3.0</td>\n",
       "      <td>3.0</td>\n",
       "      <td>0.0</td>\n",
       "      <td>1.0</td>\n",
       "      <td>1.0</td>\n",
       "      <td>3.0</td>\n",
       "      <td>...</td>\n",
       "      <td>0.685714</td>\n",
       "      <td>0.628571</td>\n",
       "      <td>0.250000</td>\n",
       "      <td>1.0</td>\n",
       "      <td>1.0</td>\n",
       "      <td>0.560299</td>\n",
       "      <td>0.706687</td>\n",
       "      <td>0.046980</td>\n",
       "      <td>0.009460</td>\n",
       "      <td>0.011252</td>\n",
       "    </tr>\n",
       "    <tr>\n",
       "      <th>3</th>\n",
       "      <td>49.0</td>\n",
       "      <td>12.0</td>\n",
       "      <td>1.0</td>\n",
       "      <td>5.0</td>\n",
       "      <td>2.0</td>\n",
       "      <td>3.0</td>\n",
       "      <td>0.0</td>\n",
       "      <td>1.0</td>\n",
       "      <td>1.0</td>\n",
       "      <td>1.0</td>\n",
       "      <td>...</td>\n",
       "      <td>0.861111</td>\n",
       "      <td>0.500000</td>\n",
       "      <td>0.300000</td>\n",
       "      <td>1.0</td>\n",
       "      <td>1.0</td>\n",
       "      <td>0.527724</td>\n",
       "      <td>0.418402</td>\n",
       "      <td>0.122034</td>\n",
       "      <td>0.135109</td>\n",
       "      <td>-0.505333</td>\n",
       "    </tr>\n",
       "    <tr>\n",
       "      <th>4</th>\n",
       "      <td>49.0</td>\n",
       "      <td>12.0</td>\n",
       "      <td>1.0</td>\n",
       "      <td>5.0</td>\n",
       "      <td>2.0</td>\n",
       "      <td>3.0</td>\n",
       "      <td>0.0</td>\n",
       "      <td>1.0</td>\n",
       "      <td>1.0</td>\n",
       "      <td>1.0</td>\n",
       "      <td>...</td>\n",
       "      <td>0.861111</td>\n",
       "      <td>0.500000</td>\n",
       "      <td>0.300000</td>\n",
       "      <td>1.0</td>\n",
       "      <td>1.0</td>\n",
       "      <td>0.527724</td>\n",
       "      <td>0.418402</td>\n",
       "      <td>0.122034</td>\n",
       "      <td>0.135109</td>\n",
       "      <td>-0.468488</td>\n",
       "    </tr>\n",
       "    <tr>\n",
       "      <th>6</th>\n",
       "      <td>31.0</td>\n",
       "      <td>5.0</td>\n",
       "      <td>1.0</td>\n",
       "      <td>2.0</td>\n",
       "      <td>0.0</td>\n",
       "      <td>2.0</td>\n",
       "      <td>0.0</td>\n",
       "      <td>1.0</td>\n",
       "      <td>1.0</td>\n",
       "      <td>3.0</td>\n",
       "      <td>...</td>\n",
       "      <td>0.861111</td>\n",
       "      <td>0.500000</td>\n",
       "      <td>0.300000</td>\n",
       "      <td>1.0</td>\n",
       "      <td>1.0</td>\n",
       "      <td>0.450707</td>\n",
       "      <td>0.737649</td>\n",
       "      <td>0.037743</td>\n",
       "      <td>0.067608</td>\n",
       "      <td>0.120401</td>\n",
       "    </tr>\n",
       "    <tr>\n",
       "      <th>...</th>\n",
       "      <td>...</td>\n",
       "      <td>...</td>\n",
       "      <td>...</td>\n",
       "      <td>...</td>\n",
       "      <td>...</td>\n",
       "      <td>...</td>\n",
       "      <td>...</td>\n",
       "      <td>...</td>\n",
       "      <td>...</td>\n",
       "      <td>...</td>\n",
       "      <td>...</td>\n",
       "      <td>...</td>\n",
       "      <td>...</td>\n",
       "      <td>...</td>\n",
       "      <td>...</td>\n",
       "      <td>...</td>\n",
       "      <td>...</td>\n",
       "      <td>...</td>\n",
       "      <td>...</td>\n",
       "      <td>...</td>\n",
       "      <td>...</td>\n",
       "    </tr>\n",
       "    <tr>\n",
       "      <th>3544</th>\n",
       "      <td>52.0</td>\n",
       "      <td>8.0</td>\n",
       "      <td>1.0</td>\n",
       "      <td>1.0</td>\n",
       "      <td>3.0</td>\n",
       "      <td>3.0</td>\n",
       "      <td>0.0</td>\n",
       "      <td>1.0</td>\n",
       "      <td>1.0</td>\n",
       "      <td>4.0</td>\n",
       "      <td>...</td>\n",
       "      <td>0.720000</td>\n",
       "      <td>0.600000</td>\n",
       "      <td>0.000000</td>\n",
       "      <td>1.0</td>\n",
       "      <td>0.0</td>\n",
       "      <td>0.575694</td>\n",
       "      <td>0.584656</td>\n",
       "      <td>0.043516</td>\n",
       "      <td>0.047044</td>\n",
       "      <td>0.432928</td>\n",
       "    </tr>\n",
       "    <tr>\n",
       "      <th>3545</th>\n",
       "      <td>31.0</td>\n",
       "      <td>5.0</td>\n",
       "      <td>2.0</td>\n",
       "      <td>1.0</td>\n",
       "      <td>0.0</td>\n",
       "      <td>2.0</td>\n",
       "      <td>0.0</td>\n",
       "      <td>1.0</td>\n",
       "      <td>1.0</td>\n",
       "      <td>2.0</td>\n",
       "      <td>...</td>\n",
       "      <td>0.720000</td>\n",
       "      <td>0.600000</td>\n",
       "      <td>0.000000</td>\n",
       "      <td>1.0</td>\n",
       "      <td>1.0</td>\n",
       "      <td>0.574574</td>\n",
       "      <td>0.674472</td>\n",
       "      <td>0.037236</td>\n",
       "      <td>0.054894</td>\n",
       "      <td>0.418482</td>\n",
       "    </tr>\n",
       "    <tr>\n",
       "      <th>3546</th>\n",
       "      <td>31.0</td>\n",
       "      <td>5.0</td>\n",
       "      <td>2.0</td>\n",
       "      <td>1.0</td>\n",
       "      <td>0.0</td>\n",
       "      <td>2.0</td>\n",
       "      <td>0.0</td>\n",
       "      <td>1.0</td>\n",
       "      <td>1.0</td>\n",
       "      <td>2.0</td>\n",
       "      <td>...</td>\n",
       "      <td>0.720000</td>\n",
       "      <td>0.600000</td>\n",
       "      <td>0.000000</td>\n",
       "      <td>1.0</td>\n",
       "      <td>1.0</td>\n",
       "      <td>0.574574</td>\n",
       "      <td>0.674472</td>\n",
       "      <td>0.037236</td>\n",
       "      <td>0.054894</td>\n",
       "      <td>0.439541</td>\n",
       "    </tr>\n",
       "    <tr>\n",
       "      <th>3547</th>\n",
       "      <td>49.0</td>\n",
       "      <td>7.0</td>\n",
       "      <td>1.0</td>\n",
       "      <td>1.0</td>\n",
       "      <td>3.0</td>\n",
       "      <td>2.0</td>\n",
       "      <td>0.0</td>\n",
       "      <td>1.0</td>\n",
       "      <td>1.0</td>\n",
       "      <td>1.0</td>\n",
       "      <td>...</td>\n",
       "      <td>0.828829</td>\n",
       "      <td>0.603604</td>\n",
       "      <td>0.233333</td>\n",
       "      <td>1.0</td>\n",
       "      <td>1.0</td>\n",
       "      <td>0.696731</td>\n",
       "      <td>0.713329</td>\n",
       "      <td>0.092144</td>\n",
       "      <td>0.033274</td>\n",
       "      <td>0.035322</td>\n",
       "    </tr>\n",
       "    <tr>\n",
       "      <th>3548</th>\n",
       "      <td>49.0</td>\n",
       "      <td>7.0</td>\n",
       "      <td>1.0</td>\n",
       "      <td>1.0</td>\n",
       "      <td>3.0</td>\n",
       "      <td>2.0</td>\n",
       "      <td>0.0</td>\n",
       "      <td>1.0</td>\n",
       "      <td>1.0</td>\n",
       "      <td>1.0</td>\n",
       "      <td>...</td>\n",
       "      <td>0.828829</td>\n",
       "      <td>0.603604</td>\n",
       "      <td>0.233333</td>\n",
       "      <td>1.0</td>\n",
       "      <td>1.0</td>\n",
       "      <td>0.696731</td>\n",
       "      <td>0.713329</td>\n",
       "      <td>0.092144</td>\n",
       "      <td>0.033274</td>\n",
       "      <td>-0.037089</td>\n",
       "    </tr>\n",
       "  </tbody>\n",
       "</table>\n",
       "<p>3209 rows × 58 columns</p>\n",
       "</div>"
      ],
      "text/plain": [
       "      s1age_head_05  s1hhsize_05  s1hhsz_undr5_05  s1hhsz_5_14_05  \\\n",
       "1              35.0          5.0              1.0             2.0   \n",
       "2              56.0          8.0              1.0             1.0   \n",
       "3              49.0         12.0              1.0             5.0   \n",
       "4              49.0         12.0              1.0             5.0   \n",
       "6              31.0          5.0              1.0             2.0   \n",
       "...             ...          ...              ...             ...   \n",
       "3544           52.0          8.0              1.0             1.0   \n",
       "3545           31.0          5.0              2.0             1.0   \n",
       "3546           31.0          5.0              2.0             1.0   \n",
       "3547           49.0          7.0              1.0             1.0   \n",
       "3548           49.0          7.0              1.0             1.0   \n",
       "\n",
       "      s1hhsz_15_24_05  s1hhsz_25_64_05  s1hhsz_65plus_05  s1male_head_05  \\\n",
       "1                 0.0              2.0               0.0             1.0   \n",
       "2                 3.0              3.0               0.0             1.0   \n",
       "3                 2.0              3.0               0.0             1.0   \n",
       "4                 2.0              3.0               0.0             1.0   \n",
       "6                 0.0              2.0               0.0             1.0   \n",
       "...               ...              ...               ...             ...   \n",
       "3544              3.0              3.0               0.0             1.0   \n",
       "3545              0.0              2.0               0.0             1.0   \n",
       "3546              0.0              2.0               0.0             1.0   \n",
       "3547              3.0              2.0               0.0             1.0   \n",
       "3548              3.0              2.0               0.0             1.0   \n",
       "\n",
       "      s2mother_inhs_05  s3ap5_rooms_h_05  ...  com_vit_05  com_deworm_05  \\\n",
       "1                  1.0               1.0  ...    0.571429       0.285714   \n",
       "2                  1.0               3.0  ...    0.685714       0.628571   \n",
       "3                  1.0               1.0  ...    0.861111       0.500000   \n",
       "4                  1.0               1.0  ...    0.861111       0.500000   \n",
       "6                  1.0               3.0  ...    0.861111       0.500000   \n",
       "...                ...               ...  ...         ...            ...   \n",
       "3544               1.0               4.0  ...    0.720000       0.600000   \n",
       "3545               1.0               2.0  ...    0.720000       0.600000   \n",
       "3546               1.0               2.0  ...    0.720000       0.600000   \n",
       "3547               1.0               1.0  ...    0.828829       0.603604   \n",
       "3548               1.0               1.0  ...    0.828829       0.603604   \n",
       "\n",
       "      com_notvip  sample06  vitamiron_06  propfood_05  prstap_f_05  \\\n",
       "1       0.500000       1.0           0.0     0.678527     0.204472   \n",
       "2       0.250000       1.0           1.0     0.560299     0.706687   \n",
       "3       0.300000       1.0           1.0     0.527724     0.418402   \n",
       "4       0.300000       1.0           1.0     0.527724     0.418402   \n",
       "6       0.300000       1.0           1.0     0.450707     0.737649   \n",
       "...          ...       ...           ...          ...          ...   \n",
       "3544    0.000000       1.0           0.0     0.575694     0.584656   \n",
       "3545    0.000000       1.0           1.0     0.574574     0.674472   \n",
       "3546    0.000000       1.0           1.0     0.574574     0.674472   \n",
       "3547    0.233333       1.0           1.0     0.696731     0.713329   \n",
       "3548    0.233333       1.0           1.0     0.696731     0.713329   \n",
       "\n",
       "      pranimalprot_f_05  prfruitveg_f_05  z_all_06  \n",
       "1              0.674387         0.000000  0.450156  \n",
       "2              0.046980         0.009460  0.011252  \n",
       "3              0.122034         0.135109 -0.505333  \n",
       "4              0.122034         0.135109 -0.468488  \n",
       "6              0.037743         0.067608  0.120401  \n",
       "...                 ...              ...       ...  \n",
       "3544           0.043516         0.047044  0.432928  \n",
       "3545           0.037236         0.054894  0.418482  \n",
       "3546           0.037236         0.054894  0.439541  \n",
       "3547           0.092144         0.033274  0.035322  \n",
       "3548           0.092144         0.033274 -0.037089  \n",
       "\n",
       "[3209 rows x 58 columns]"
      ]
     },
     "execution_count": 38,
     "metadata": {},
     "output_type": "execute_result"
    }
   ],
   "source": [
    "cleaned_df"
   ]
  },
  {
   "cell_type": "code",
   "execution_count": 39,
   "id": "9b62bf97",
   "metadata": {},
   "outputs": [],
   "source": [
    "counterfactual_df=cleaned_df.drop(\"z_all_06\",axis=1)"
   ]
  },
  {
   "cell_type": "code",
   "execution_count": 40,
   "id": "07d3b241",
   "metadata": {},
   "outputs": [
    {
     "data": {
      "text/plain": [
       "1       1.0\n",
       "2       1.0\n",
       "3       1.0\n",
       "4       1.0\n",
       "6       1.0\n",
       "       ... \n",
       "3544    0.0\n",
       "3545    0.0\n",
       "3546    0.0\n",
       "3547    1.0\n",
       "3548    1.0\n",
       "Name: tr, Length: 3209, dtype: float32"
      ]
     },
     "execution_count": 40,
     "metadata": {},
     "output_type": "execute_result"
    }
   ],
   "source": [
    "counterfactual_df.tr"
   ]
  },
  {
   "cell_type": "code",
   "execution_count": 41,
   "id": "05cc3080",
   "metadata": {},
   "outputs": [],
   "source": [
    "a=counterfactual_df[\"tr\"]+1"
   ]
  },
  {
   "cell_type": "code",
   "execution_count": 42,
   "id": "e9feabf3",
   "metadata": {},
   "outputs": [],
   "source": [
    "counterfactual_df[\"tr\"]=a%2"
   ]
  },
  {
   "cell_type": "code",
   "execution_count": 43,
   "id": "9dad02a6",
   "metadata": {},
   "outputs": [
    {
     "data": {
      "text/plain": [
       "1       0.0\n",
       "2       0.0\n",
       "3       0.0\n",
       "4       0.0\n",
       "6       0.0\n",
       "       ... \n",
       "3544    1.0\n",
       "3545    1.0\n",
       "3546    1.0\n",
       "3547    0.0\n",
       "3548    0.0\n",
       "Name: tr, Length: 3209, dtype: float32"
      ]
     },
     "execution_count": 43,
     "metadata": {},
     "output_type": "execute_result"
    }
   ],
   "source": [
    "counterfactual_df.tr"
   ]
  },
  {
   "cell_type": "code",
   "execution_count": 99,
   "id": "3675377c",
   "metadata": {},
   "outputs": [],
   "source": [
    "counterfactual=forest_reg.predict(counterfactual_df)"
   ]
  },
  {
   "cell_type": "code",
   "execution_count": 100,
   "id": "90262d50",
   "metadata": {},
   "outputs": [],
   "source": [
    "observed=cleaned_df[\"z_all_06\"]\n",
    "counterfactuals=pd.Series(counterfactual, index=observed.index)"
   ]
  },
  {
   "cell_type": "code",
   "execution_count": 102,
   "id": "0473f02d",
   "metadata": {},
   "outputs": [
    {
     "data": {
      "text/plain": [
       "1       0.450156\n",
       "2       0.011252\n",
       "3      -0.505333\n",
       "4      -0.468488\n",
       "6       0.120401\n",
       "          ...   \n",
       "3544    0.432928\n",
       "3545    0.418482\n",
       "3546    0.439541\n",
       "3547    0.035322\n",
       "3548   -0.037089\n",
       "Name: z_all_06, Length: 3209, dtype: float32"
      ]
     },
     "execution_count": 102,
     "metadata": {},
     "output_type": "execute_result"
    }
   ],
   "source": [
    "observed"
   ]
  },
  {
   "cell_type": "code",
   "execution_count": 184,
   "id": "9eea8cba",
   "metadata": {},
   "outputs": [],
   "source": [
    "ite_temp=pd.Series([observed[i]-counterfactuals[i] for i in observed.index if cleaned_df.tr[i]==1], index=cleaned_df[cleaned_df.tr==1].index)\n",
    "ite_temp1=pd.Series([counterfactuals[i]-observed[i] for i in observed.index if cleaned_df.tr[i]==0], index=cleaned_df[cleaned_df.tr==0].index)\n",
    "ite=pd.concat([ite_temp,ite_temp1])\n",
    "ite.sort_index(inplace=True)"
   ]
  },
  {
   "cell_type": "code",
   "execution_count": 185,
   "id": "0a2c9c8b",
   "metadata": {},
   "outputs": [
    {
     "data": {
      "text/plain": [
       "count    3209.000000\n",
       "mean        0.093979\n",
       "std         0.489267\n",
       "min        -3.511709\n",
       "25%        -0.181556\n",
       "50%         0.115594\n",
       "75%         0.392617\n",
       "max         2.547441\n",
       "dtype: float64"
      ]
     },
     "execution_count": 185,
     "metadata": {},
     "output_type": "execute_result"
    }
   ],
   "source": [
    "ite.describe()"
   ]
  },
  {
   "cell_type": "code",
   "execution_count": 186,
   "id": "9637ac18",
   "metadata": {},
   "outputs": [
    {
     "data": {
      "text/plain": [
       "<AxesSubplot:ylabel='Count'>"
      ]
     },
     "execution_count": 186,
     "metadata": {},
     "output_type": "execute_result"
    },
    {
     "data": {
      "image/png": "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\n",
      "text/plain": [
       "<Figure size 432x288 with 1 Axes>"
      ]
     },
     "metadata": {
      "needs_background": "light"
     },
     "output_type": "display_data"
    }
   ],
   "source": [
    "import seaborn as sb\n",
    "\n",
    "sb.histplot(ite)"
   ]
  },
  {
   "cell_type": "code",
   "execution_count": 49,
   "id": "a97733f1",
   "metadata": {},
   "outputs": [
    {
     "data": {
      "text/plain": [
       "count    3209.000000\n",
       "mean        0.041547\n",
       "std         0.588593\n",
       "min        -6.785845\n",
       "25%        -0.247309\n",
       "50%         0.104151\n",
       "75%         0.405594\n",
       "max         2.354861\n",
       "Name: z_all_06, dtype: float64"
      ]
     },
     "execution_count": 49,
     "metadata": {},
     "output_type": "execute_result"
    }
   ],
   "source": [
    "cleaned_df.z_all_06.describe()"
   ]
  },
  {
   "cell_type": "markdown",
   "id": "d3c49300",
   "metadata": {},
   "source": [
    "NO CONSIDERAR: ite amb counterfactual i observed predits pel model"
   ]
  },
  {
   "cell_type": "code",
   "execution_count": 117,
   "id": "5d0ccee9",
   "metadata": {},
   "outputs": [],
   "source": [
    "observed_df=cleaned_df.drop(\"z_all_06\",axis=1)\n",
    "observed_predict=forest_reg.predict(observed_df)\n",
    "observed_predict=pd.Series(observed_predict, index=observed_df.index)"
   ]
  },
  {
   "cell_type": "code",
   "execution_count": 118,
   "id": "0d6ed0ab",
   "metadata": {},
   "outputs": [],
   "source": [
    "ite1=[observed_predict[i]-counterfactuals[i] for i in observed_predict.index if cleaned_df.tr[i]==1]+[counterfactuals[i]-observed_predict[i] for i in observed_predict.index if cleaned_df.tr[i]==0 ]"
   ]
  },
  {
   "cell_type": "code",
   "execution_count": 121,
   "id": "184ad4ea",
   "metadata": {},
   "outputs": [
    {
     "data": {
      "text/plain": [
       "count    3209.000000\n",
       "mean       -0.000477\n",
       "std         0.036231\n",
       "min        -0.323135\n",
       "25%        -0.003446\n",
       "50%         0.000000\n",
       "75%         0.008464\n",
       "max         0.145475\n",
       "dtype: float64"
      ]
     },
     "execution_count": 121,
     "metadata": {},
     "output_type": "execute_result"
    }
   ],
   "source": [
    "ite1=pd.Series(ite1, index=cleaned_df.index)\n",
    "ite1.describe()"
   ]
  },
  {
   "cell_type": "code",
   "execution_count": 123,
   "id": "faceb986",
   "metadata": {},
   "outputs": [
    {
     "data": {
      "text/plain": [
       "<AxesSubplot:ylabel='Count'>"
      ]
     },
     "execution_count": 123,
     "metadata": {},
     "output_type": "execute_result"
    },
    {
     "data": {
      "image/png": "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\n",
      "text/plain": [
       "<Figure size 432x288 with 1 Axes>"
      ]
     },
     "metadata": {
      "needs_background": "light"
     },
     "output_type": "display_data"
    }
   ],
   "source": [
    "sb.histplot(ite1)"
   ]
  },
  {
   "cell_type": "code",
   "execution_count": 124,
   "id": "21b8cdbb",
   "metadata": {},
   "outputs": [
    {
     "data": {
      "text/plain": [
       " 0.000000    1193\n",
       "-0.013396      22\n",
       " 0.000436      20\n",
       "-0.034386      19\n",
       "-0.006040      16\n",
       "             ... \n",
       "-0.018917       1\n",
       "-0.015859       1\n",
       " 0.016669       1\n",
       "-0.010926       1\n",
       "-0.013396       1\n",
       "Length: 1295, dtype: int64"
      ]
     },
     "execution_count": 124,
     "metadata": {},
     "output_type": "execute_result"
    }
   ],
   "source": [
    "ite1.value_counts()"
   ]
  },
  {
   "cell_type": "markdown",
   "id": "40087ab7",
   "metadata": {},
   "source": [
    "### ESTRATIFICACIO ITE"
   ]
  },
  {
   "cell_type": "markdown",
   "id": "ced005c0",
   "metadata": {},
   "source": [
    "Quartils i std.\n",
    "\n",
    "1. Separem <=q25, q25<...<=q50, q50<=q75, q75<\n",
    "2. STD"
   ]
  },
  {
   "cell_type": "code",
   "execution_count": 187,
   "id": "00533b58",
   "metadata": {},
   "outputs": [],
   "source": [
    "quartils=ite.quantile([0.25,0.5, 0.75])"
   ]
  },
  {
   "cell_type": "code",
   "execution_count": 188,
   "id": "2e8556b1",
   "metadata": {},
   "outputs": [],
   "source": [
    "ite0=ite[ite<=quartils.iloc[0]]"
   ]
  },
  {
   "cell_type": "code",
   "execution_count": 189,
   "id": "08767691",
   "metadata": {},
   "outputs": [],
   "source": [
    "ite1=ite[ite<=quartils.iloc[1]]\n",
    "ite1.drop(ite0.index, inplace=True)"
   ]
  },
  {
   "cell_type": "code",
   "execution_count": 190,
   "id": "553ca5ef",
   "metadata": {},
   "outputs": [],
   "source": [
    "ite2=ite[ite<=quartils.iloc[2]]\n",
    "ite2.drop(ite0.index, inplace=True)\n",
    "ite2.drop(ite1.index, inplace=True)"
   ]
  },
  {
   "cell_type": "code",
   "execution_count": 191,
   "id": "ebdb748d",
   "metadata": {},
   "outputs": [],
   "source": [
    "ite3=ite.copy()\n",
    "ite3.drop(ite0.index, inplace=True)\n",
    "ite3.drop(ite1.index, inplace=True)\n",
    "ite3.drop(ite2.index, inplace=True)"
   ]
  },
  {
   "cell_type": "code",
   "execution_count": 212,
   "id": "6ac87e17",
   "metadata": {},
   "outputs": [],
   "source": [
    "ite0_df=cleaned_df.loc[ite0.index]\n",
    "ite1_df=cleaned_df.loc[ite1.index]\n",
    "ite2_df=cleaned_df.loc[ite2.index]\n",
    "ite3_df=cleaned_df.loc[ite3.index]"
   ]
  },
  {
   "cell_type": "code",
   "execution_count": 249,
   "id": "55110a90",
   "metadata": {},
   "outputs": [],
   "source": [
    "shap=[[stats.shapiro(ite0_df[col].values).pvalue for col in normal_cols],\n",
    "        [stats.shapiro(ite1_df[col].values).pvalue for col in normal_cols],\n",
    "        [stats.shapiro(ite2_df[col].values).pvalue for col in normal_cols],\n",
    "        [stats.shapiro(ite3_df[col].values).pvalue for col in normal_cols]]\n",
    "\n",
    "shap_df=pd.DataFrame(shap,columns=normal_cols)"
   ]
  },
  {
   "cell_type": "code",
   "execution_count": 251,
   "id": "44bb57a4",
   "metadata": {},
   "outputs": [
    {
     "data": {
      "text/html": [
       "<div>\n",
       "<style scoped>\n",
       "    .dataframe tbody tr th:only-of-type {\n",
       "        vertical-align: middle;\n",
       "    }\n",
       "\n",
       "    .dataframe tbody tr th {\n",
       "        vertical-align: top;\n",
       "    }\n",
       "\n",
       "    .dataframe thead th {\n",
       "        text-align: right;\n",
       "    }\n",
       "</style>\n",
       "<table border=\"1\" class=\"dataframe\">\n",
       "  <thead>\n",
       "    <tr style=\"text-align: right;\">\n",
       "      <th></th>\n",
       "      <th>height_05</th>\n",
       "      <th>a10whz_05</th>\n",
       "      <th>weight_05</th>\n",
       "      <th>com_haz_05</th>\n",
       "      <th>com_waz_05</th>\n",
       "    </tr>\n",
       "  </thead>\n",
       "  <tbody>\n",
       "    <tr>\n",
       "      <th>0</th>\n",
       "      <td>1.692938e-20</td>\n",
       "      <td>7.999157e-21</td>\n",
       "      <td>5.900706e-23</td>\n",
       "      <td>4.731629e-08</td>\n",
       "      <td>4.332452e-05</td>\n",
       "    </tr>\n",
       "    <tr>\n",
       "      <th>1</th>\n",
       "      <td>1.068471e-17</td>\n",
       "      <td>2.055897e-20</td>\n",
       "      <td>1.974264e-18</td>\n",
       "      <td>6.929594e-08</td>\n",
       "      <td>6.752737e-05</td>\n",
       "    </tr>\n",
       "    <tr>\n",
       "      <th>2</th>\n",
       "      <td>4.455937e-18</td>\n",
       "      <td>5.056334e-15</td>\n",
       "      <td>9.587839e-20</td>\n",
       "      <td>2.340285e-11</td>\n",
       "      <td>6.823386e-07</td>\n",
       "    </tr>\n",
       "    <tr>\n",
       "      <th>3</th>\n",
       "      <td>2.079285e-16</td>\n",
       "      <td>7.975345e-17</td>\n",
       "      <td>1.450469e-14</td>\n",
       "      <td>1.624672e-10</td>\n",
       "      <td>1.016494e-07</td>\n",
       "    </tr>\n",
       "  </tbody>\n",
       "</table>\n",
       "</div>"
      ],
      "text/plain": [
       "      height_05     a10whz_05     weight_05    com_haz_05    com_waz_05\n",
       "0  1.692938e-20  7.999157e-21  5.900706e-23  4.731629e-08  4.332452e-05\n",
       "1  1.068471e-17  2.055897e-20  1.974264e-18  6.929594e-08  6.752737e-05\n",
       "2  4.455937e-18  5.056334e-15  9.587839e-20  2.340285e-11  6.823386e-07\n",
       "3  2.079285e-16  7.975345e-17  1.450469e-14  1.624672e-10  1.016494e-07"
      ]
     },
     "execution_count": 251,
     "metadata": {},
     "output_type": "execute_result"
    }
   ],
   "source": [
    "#fem el test de shapiro a els subgrups (generats al estratificar la ite en quartils) de les variables normals. \n",
    "#Surt normalitat arreu, aixi que si tenen desv std entre ells normals, podrem aplicar t-tests per comprovar \n",
    "#si les mitjanes son iguals\n",
    "shap_df"
   ]
  },
  {
   "cell_type": "code",
   "execution_count": 253,
   "id": "ac4ffd67",
   "metadata": {},
   "outputs": [],
   "source": [
    "std=[[np.std(ite0_df[col].values) for col in normal_cols],\n",
    "        [np.std(ite1_df[col].values) for col in normal_cols],\n",
    "        [np.std(ite2_df[col].values) for col in normal_cols],\n",
    "        [np.std(ite3_df[col].values) for col in normal_cols]]\n",
    "std_df=pd.DataFrame(std,columns=normal_cols)"
   ]
  },
  {
   "cell_type": "code",
   "execution_count": 254,
   "id": "69ba575a",
   "metadata": {},
   "outputs": [
    {
     "data": {
      "text/html": [
       "<div>\n",
       "<style scoped>\n",
       "    .dataframe tbody tr th:only-of-type {\n",
       "        vertical-align: middle;\n",
       "    }\n",
       "\n",
       "    .dataframe tbody tr th {\n",
       "        vertical-align: top;\n",
       "    }\n",
       "\n",
       "    .dataframe thead th {\n",
       "        text-align: right;\n",
       "    }\n",
       "</style>\n",
       "<table border=\"1\" class=\"dataframe\">\n",
       "  <thead>\n",
       "    <tr style=\"text-align: right;\">\n",
       "      <th></th>\n",
       "      <th>height_05</th>\n",
       "      <th>a10whz_05</th>\n",
       "      <th>weight_05</th>\n",
       "      <th>com_haz_05</th>\n",
       "      <th>com_waz_05</th>\n",
       "    </tr>\n",
       "  </thead>\n",
       "  <tbody>\n",
       "    <tr>\n",
       "      <th>0</th>\n",
       "      <td>1.051912</td>\n",
       "      <td>0.948997</td>\n",
       "      <td>1.157040</td>\n",
       "      <td>0.535744</td>\n",
       "      <td>0.486789</td>\n",
       "    </tr>\n",
       "    <tr>\n",
       "      <th>1</th>\n",
       "      <td>0.973054</td>\n",
       "      <td>0.928258</td>\n",
       "      <td>1.024248</td>\n",
       "      <td>0.515012</td>\n",
       "      <td>0.461553</td>\n",
       "    </tr>\n",
       "    <tr>\n",
       "      <th>2</th>\n",
       "      <td>1.022051</td>\n",
       "      <td>0.844274</td>\n",
       "      <td>1.068762</td>\n",
       "      <td>0.521360</td>\n",
       "      <td>0.447696</td>\n",
       "    </tr>\n",
       "    <tr>\n",
       "      <th>3</th>\n",
       "      <td>1.241987</td>\n",
       "      <td>0.945313</td>\n",
       "      <td>1.268203</td>\n",
       "      <td>0.524768</td>\n",
       "      <td>0.448712</td>\n",
       "    </tr>\n",
       "  </tbody>\n",
       "</table>\n",
       "</div>"
      ],
      "text/plain": [
       "   height_05  a10whz_05  weight_05  com_haz_05  com_waz_05\n",
       "0   1.051912   0.948997   1.157040    0.535744    0.486789\n",
       "1   0.973054   0.928258   1.024248    0.515012    0.461553\n",
       "2   1.022051   0.844274   1.068762    0.521360    0.447696\n",
       "3   1.241987   0.945313   1.268203    0.524768    0.448712"
      ]
     },
     "execution_count": 254,
     "metadata": {},
     "output_type": "execute_result"
    }
   ],
   "source": [
    "std_df"
   ]
  },
  {
   "cell_type": "code",
   "execution_count": 225,
   "id": "8b366e61",
   "metadata": {},
   "outputs": [
    {
     "data": {
      "text/html": [
       "<div>\n",
       "<style scoped>\n",
       "    .dataframe tbody tr th:only-of-type {\n",
       "        vertical-align: middle;\n",
       "    }\n",
       "\n",
       "    .dataframe tbody tr th {\n",
       "        vertical-align: top;\n",
       "    }\n",
       "\n",
       "    .dataframe thead th {\n",
       "        text-align: right;\n",
       "    }\n",
       "</style>\n",
       "<table border=\"1\" class=\"dataframe\">\n",
       "  <thead>\n",
       "    <tr style=\"text-align: right;\">\n",
       "      <th></th>\n",
       "      <th>height_05</th>\n",
       "      <th>a10whz_05</th>\n",
       "      <th>weight_05</th>\n",
       "      <th>com_haz_05</th>\n",
       "      <th>com_waz_05</th>\n",
       "    </tr>\n",
       "  </thead>\n",
       "  <tbody>\n",
       "    <tr>\n",
       "      <th>count</th>\n",
       "      <td>803.000000</td>\n",
       "      <td>803.000000</td>\n",
       "      <td>803.000000</td>\n",
       "      <td>803.000000</td>\n",
       "      <td>803.000000</td>\n",
       "    </tr>\n",
       "    <tr>\n",
       "      <th>mean</th>\n",
       "      <td>-1.159026</td>\n",
       "      <td>-0.173930</td>\n",
       "      <td>-0.974409</td>\n",
       "      <td>-1.200500</td>\n",
       "      <td>-0.977829</td>\n",
       "    </tr>\n",
       "    <tr>\n",
       "      <th>std</th>\n",
       "      <td>1.052567</td>\n",
       "      <td>0.949587</td>\n",
       "      <td>1.157759</td>\n",
       "      <td>0.536077</td>\n",
       "      <td>0.487092</td>\n",
       "    </tr>\n",
       "    <tr>\n",
       "      <th>min</th>\n",
       "      <td>-5.587734</td>\n",
       "      <td>-5.823857</td>\n",
       "      <td>-5.136597</td>\n",
       "      <td>-2.323237</td>\n",
       "      <td>-2.374005</td>\n",
       "    </tr>\n",
       "    <tr>\n",
       "      <th>25%</th>\n",
       "      <td>-1.548416</td>\n",
       "      <td>-0.527920</td>\n",
       "      <td>-1.452437</td>\n",
       "      <td>-1.537984</td>\n",
       "      <td>-1.321717</td>\n",
       "    </tr>\n",
       "    <tr>\n",
       "      <th>50%</th>\n",
       "      <td>-1.213941</td>\n",
       "      <td>-0.169167</td>\n",
       "      <td>-1.013034</td>\n",
       "      <td>-1.204403</td>\n",
       "      <td>-0.987693</td>\n",
       "    </tr>\n",
       "    <tr>\n",
       "      <th>75%</th>\n",
       "      <td>-0.806143</td>\n",
       "      <td>0.136461</td>\n",
       "      <td>-0.622533</td>\n",
       "      <td>-0.883109</td>\n",
       "      <td>-0.644499</td>\n",
       "    </tr>\n",
       "    <tr>\n",
       "      <th>max</th>\n",
       "      <td>4.332216</td>\n",
       "      <td>4.850458</td>\n",
       "      <td>5.628351</td>\n",
       "      <td>0.504012</td>\n",
       "      <td>0.829595</td>\n",
       "    </tr>\n",
       "  </tbody>\n",
       "</table>\n",
       "</div>"
      ],
      "text/plain": [
       "        height_05   a10whz_05   weight_05  com_haz_05  com_waz_05\n",
       "count  803.000000  803.000000  803.000000  803.000000  803.000000\n",
       "mean    -1.159026   -0.173930   -0.974409   -1.200500   -0.977829\n",
       "std      1.052567    0.949587    1.157759    0.536077    0.487092\n",
       "min     -5.587734   -5.823857   -5.136597   -2.323237   -2.374005\n",
       "25%     -1.548416   -0.527920   -1.452437   -1.537984   -1.321717\n",
       "50%     -1.213941   -0.169167   -1.013034   -1.204403   -0.987693\n",
       "75%     -0.806143    0.136461   -0.622533   -0.883109   -0.644499\n",
       "max      4.332216    4.850458    5.628351    0.504012    0.829595"
      ]
     },
     "execution_count": 225,
     "metadata": {},
     "output_type": "execute_result"
    }
   ],
   "source": [
    "ite0_df[normal_cols].describe()"
   ]
  },
  {
   "cell_type": "code",
   "execution_count": 226,
   "id": "39da1fcc",
   "metadata": {},
   "outputs": [
    {
     "data": {
      "text/html": [
       "<div>\n",
       "<style scoped>\n",
       "    .dataframe tbody tr th:only-of-type {\n",
       "        vertical-align: middle;\n",
       "    }\n",
       "\n",
       "    .dataframe tbody tr th {\n",
       "        vertical-align: top;\n",
       "    }\n",
       "\n",
       "    .dataframe thead th {\n",
       "        text-align: right;\n",
       "    }\n",
       "</style>\n",
       "<table border=\"1\" class=\"dataframe\">\n",
       "  <thead>\n",
       "    <tr style=\"text-align: right;\">\n",
       "      <th></th>\n",
       "      <th>height_05</th>\n",
       "      <th>a10whz_05</th>\n",
       "      <th>weight_05</th>\n",
       "      <th>com_haz_05</th>\n",
       "      <th>com_waz_05</th>\n",
       "    </tr>\n",
       "  </thead>\n",
       "  <tbody>\n",
       "    <tr>\n",
       "      <th>count</th>\n",
       "      <td>802.000000</td>\n",
       "      <td>802.000000</td>\n",
       "      <td>802.000000</td>\n",
       "      <td>802.000000</td>\n",
       "      <td>802.000000</td>\n",
       "    </tr>\n",
       "    <tr>\n",
       "      <th>mean</th>\n",
       "      <td>-1.276148</td>\n",
       "      <td>-0.101024</td>\n",
       "      <td>-1.040323</td>\n",
       "      <td>-1.260586</td>\n",
       "      <td>-1.050950</td>\n",
       "    </tr>\n",
       "    <tr>\n",
       "      <th>std</th>\n",
       "      <td>1.242762</td>\n",
       "      <td>0.945902</td>\n",
       "      <td>1.268994</td>\n",
       "      <td>0.525096</td>\n",
       "      <td>0.448992</td>\n",
       "    </tr>\n",
       "    <tr>\n",
       "      <th>min</th>\n",
       "      <td>-5.690308</td>\n",
       "      <td>-4.034855</td>\n",
       "      <td>-5.669209</td>\n",
       "      <td>-2.323237</td>\n",
       "      <td>-2.374005</td>\n",
       "    </tr>\n",
       "    <tr>\n",
       "      <th>25%</th>\n",
       "      <td>-1.717241</td>\n",
       "      <td>-0.479922</td>\n",
       "      <td>-1.570520</td>\n",
       "      <td>-1.737182</td>\n",
       "      <td>-1.397898</td>\n",
       "    </tr>\n",
       "    <tr>\n",
       "      <th>50%</th>\n",
       "      <td>-1.213941</td>\n",
       "      <td>-0.169167</td>\n",
       "      <td>-1.013034</td>\n",
       "      <td>-1.252950</td>\n",
       "      <td>-1.062930</td>\n",
       "    </tr>\n",
       "    <tr>\n",
       "      <th>75%</th>\n",
       "      <td>-0.762598</td>\n",
       "      <td>0.312019</td>\n",
       "      <td>-0.429225</td>\n",
       "      <td>-0.896829</td>\n",
       "      <td>-0.750683</td>\n",
       "    </tr>\n",
       "    <tr>\n",
       "      <th>max</th>\n",
       "      <td>5.101172</td>\n",
       "      <td>3.731095</td>\n",
       "      <td>4.137001</td>\n",
       "      <td>0.504012</td>\n",
       "      <td>0.322270</td>\n",
       "    </tr>\n",
       "  </tbody>\n",
       "</table>\n",
       "</div>"
      ],
      "text/plain": [
       "        height_05   a10whz_05   weight_05  com_haz_05  com_waz_05\n",
       "count  802.000000  802.000000  802.000000  802.000000  802.000000\n",
       "mean    -1.276148   -0.101024   -1.040323   -1.260586   -1.050950\n",
       "std      1.242762    0.945902    1.268994    0.525096    0.448992\n",
       "min     -5.690308   -4.034855   -5.669209   -2.323237   -2.374005\n",
       "25%     -1.717241   -0.479922   -1.570520   -1.737182   -1.397898\n",
       "50%     -1.213941   -0.169167   -1.013034   -1.252950   -1.062930\n",
       "75%     -0.762598    0.312019   -0.429225   -0.896829   -0.750683\n",
       "max      5.101172    3.731095    4.137001    0.504012    0.322270"
      ]
     },
     "execution_count": 226,
     "metadata": {},
     "output_type": "execute_result"
    }
   ],
   "source": [
    "ite3_df[normal_cols].describe()"
   ]
  },
  {
   "cell_type": "code",
   "execution_count": 264,
   "id": "4cf11aa9",
   "metadata": {},
   "outputs": [],
   "source": [
    "import scipy\n",
    "from scipy import stats\n",
    "    \n",
    "ttestp_df=[[stats.ttest_ind(ite1_df[col].values, ite0_df[col].values).pvalue for col in normal_cols],\n",
    "          [stats.ttest_ind(ite2_df[col].values, ite0_df[col].values).pvalue for col in normal_cols],\n",
    "          [stats.ttest_ind(ite3_df[col].values, ite0_df[col].values).pvalue for col in normal_cols],\n",
    "          [stats.ttest_ind(ite2_df[col].values, ite1_df[col].values).pvalue for col in normal_cols],\n",
    "          [stats.ttest_ind(ite3_df[col].values, ite1_df[col].values).pvalue for col in normal_cols],\n",
    "          [stats.ttest_ind(ite3_df[col].values, ite2_df[col].values).pvalue for col in normal_cols]\n",
    "         ]\n",
    "ttest_df=pd.DataFrame(ttestp_df,columns=normal_cols, index=[\"0-1\",\"0-2\",\"0-3\",\"1-2\",\"1-3\",\"2-3\"])"
   ]
  },
  {
   "cell_type": "code",
   "execution_count": 266,
   "id": "24db93f0",
   "metadata": {},
   "outputs": [
    {
     "data": {
      "text/html": [
       "<style type=\"text/css\">\n",
       "#T_5006a_row0_col0 {\n",
       "  background-color: #f2f8fd;\n",
       "  color: #000000;\n",
       "}\n",
       "#T_5006a_row0_col1 {\n",
       "  background-color: #6fb0d7;\n",
       "  color: #f1f1f1;\n",
       "}\n",
       "#T_5006a_row0_col2, #T_5006a_row2_col0, #T_5006a_row2_col3, #T_5006a_row2_col4, #T_5006a_row4_col1 {\n",
       "  background-color: #f7fbff;\n",
       "  color: #000000;\n",
       "}\n",
       "#T_5006a_row0_col3, #T_5006a_row1_col1, #T_5006a_row1_col2, #T_5006a_row3_col4, #T_5006a_row4_col0 {\n",
       "  background-color: #08306b;\n",
       "  color: #f1f1f1;\n",
       "}\n",
       "#T_5006a_row0_col4 {\n",
       "  background-color: #9cc9e1;\n",
       "  color: #000000;\n",
       "}\n",
       "#T_5006a_row1_col0 {\n",
       "  background-color: #d3e4f3;\n",
       "  color: #000000;\n",
       "}\n",
       "#T_5006a_row1_col3 {\n",
       "  background-color: #7ab6d9;\n",
       "  color: #000000;\n",
       "}\n",
       "#T_5006a_row1_col4 {\n",
       "  background-color: #edf4fc;\n",
       "  color: #000000;\n",
       "}\n",
       "#T_5006a_row2_col1 {\n",
       "  background-color: #d2e3f3;\n",
       "  color: #000000;\n",
       "}\n",
       "#T_5006a_row2_col2 {\n",
       "  background-color: #a9cfe5;\n",
       "  color: #000000;\n",
       "}\n",
       "#T_5006a_row3_col0 {\n",
       "  background-color: #08468b;\n",
       "  color: #f1f1f1;\n",
       "}\n",
       "#T_5006a_row3_col1 {\n",
       "  background-color: #d6e6f4;\n",
       "  color: #000000;\n",
       "}\n",
       "#T_5006a_row3_col2 {\n",
       "  background-color: #d6e5f4;\n",
       "  color: #000000;\n",
       "}\n",
       "#T_5006a_row3_col3 {\n",
       "  background-color: #084387;\n",
       "  color: #f1f1f1;\n",
       "}\n",
       "#T_5006a_row4_col2 {\n",
       "  background-color: #084488;\n",
       "  color: #f1f1f1;\n",
       "}\n",
       "#T_5006a_row4_col3 {\n",
       "  background-color: #e7f1fa;\n",
       "  color: #000000;\n",
       "}\n",
       "#T_5006a_row4_col4 {\n",
       "  background-color: #cee0f2;\n",
       "  color: #000000;\n",
       "}\n",
       "#T_5006a_row5_col0 {\n",
       "  background-color: #4b98ca;\n",
       "  color: #f1f1f1;\n",
       "}\n",
       "#T_5006a_row5_col1 {\n",
       "  background-color: #8dc1dd;\n",
       "  color: #000000;\n",
       "}\n",
       "#T_5006a_row5_col2 {\n",
       "  background-color: #2e7ebc;\n",
       "  color: #f1f1f1;\n",
       "}\n",
       "#T_5006a_row5_col3 {\n",
       "  background-color: #b2d2e8;\n",
       "  color: #000000;\n",
       "}\n",
       "#T_5006a_row5_col4 {\n",
       "  background-color: #084285;\n",
       "  color: #f1f1f1;\n",
       "}\n",
       "</style>\n",
       "<table id=\"T_5006a\">\n",
       "  <thead>\n",
       "    <tr>\n",
       "      <th class=\"blank level0\" >&nbsp;</th>\n",
       "      <th id=\"T_5006a_level0_col0\" class=\"col_heading level0 col0\" >height_05</th>\n",
       "      <th id=\"T_5006a_level0_col1\" class=\"col_heading level0 col1\" >a10whz_05</th>\n",
       "      <th id=\"T_5006a_level0_col2\" class=\"col_heading level0 col2\" >weight_05</th>\n",
       "      <th id=\"T_5006a_level0_col3\" class=\"col_heading level0 col3\" >com_haz_05</th>\n",
       "      <th id=\"T_5006a_level0_col4\" class=\"col_heading level0 col4\" >com_waz_05</th>\n",
       "    </tr>\n",
       "  </thead>\n",
       "  <tbody>\n",
       "    <tr>\n",
       "      <th id=\"T_5006a_level0_row0\" class=\"row_heading level0 row0\" >0-1</th>\n",
       "      <td id=\"T_5006a_row0_col0\" class=\"data row0 col0\" >0.058928</td>\n",
       "      <td id=\"T_5006a_row0_col1\" class=\"data row0 col1\" >0.305725</td>\n",
       "      <td id=\"T_5006a_row0_col2\" class=\"data row0 col2\" >0.081145</td>\n",
       "      <td id=\"T_5006a_row0_col3\" class=\"data row0 col3\" >0.620384</td>\n",
       "      <td id=\"T_5006a_row0_col4\" class=\"data row0 col4\" >0.153247</td>\n",
       "    </tr>\n",
       "    <tr>\n",
       "      <th id=\"T_5006a_level0_row1\" class=\"row_heading level0 row1\" >0-2</th>\n",
       "      <td id=\"T_5006a_row1_col0\" class=\"data row1 col0\" >0.160772</td>\n",
       "      <td id=\"T_5006a_row1_col1\" class=\"data row1 col1\" >0.615128</td>\n",
       "      <td id=\"T_5006a_row1_col2\" class=\"data row1 col2\" >0.654499</td>\n",
       "      <td id=\"T_5006a_row1_col3\" class=\"data row1 col3\" >0.298979</td>\n",
       "      <td id=\"T_5006a_row1_col4\" class=\"data row1 col4\" >0.023228</td>\n",
       "    </tr>\n",
       "    <tr>\n",
       "      <th id=\"T_5006a_level0_row2\" class=\"row_heading level0 row2\" >0-3</th>\n",
       "      <td id=\"T_5006a_row2_col0\" class=\"data row2 col0\" >0.041777</td>\n",
       "      <td id=\"T_5006a_row2_col1\" class=\"data row2 col1\" >0.123538</td>\n",
       "      <td id=\"T_5006a_row2_col2\" class=\"data row2 col2\" >0.277192</td>\n",
       "      <td id=\"T_5006a_row2_col3\" class=\"data row2 col3\" >0.023443</td>\n",
       "      <td id=\"T_5006a_row2_col4\" class=\"data row2 col4\" >0.001799</td>\n",
       "    </tr>\n",
       "    <tr>\n",
       "      <th id=\"T_5006a_level0_row3\" class=\"row_heading level0 row3\" >1-2</th>\n",
       "      <td id=\"T_5006a_row3_col0\" class=\"data row3 col0\" >0.644981</td>\n",
       "      <td id=\"T_5006a_row3_col1\" class=\"data row3 col1\" >0.111466</td>\n",
       "      <td id=\"T_5006a_row3_col2\" class=\"data row3 col2\" >0.178779</td>\n",
       "      <td id=\"T_5006a_row3_col3\" class=\"data row3 col3\" >0.577409</td>\n",
       "      <td id=\"T_5006a_row3_col4\" class=\"data row3 col4\" >0.397782</td>\n",
       "    </tr>\n",
       "    <tr>\n",
       "      <th id=\"T_5006a_level0_row4\" class=\"row_heading level0 row4\" >1-3</th>\n",
       "      <td id=\"T_5006a_row4_col0\" class=\"data row4 col0\" >0.700412</td>\n",
       "      <td id=\"T_5006a_row4_col1\" class=\"data row4 col1\" >0.009863</td>\n",
       "      <td id=\"T_5006a_row4_col2\" class=\"data row4 col2\" >0.610473</td>\n",
       "      <td id=\"T_5006a_row4_col3\" class=\"data row4 col3\" >0.070128</td>\n",
       "      <td id=\"T_5006a_row4_col4\" class=\"data row4 col4\" >0.084473</td>\n",
       "    </tr>\n",
       "    <tr>\n",
       "      <th id=\"T_5006a_level0_row5\" class=\"row_heading level0 row5\" >2-3</th>\n",
       "      <td id=\"T_5006a_row5_col0\" class=\"data row5 col0\" >0.434445</td>\n",
       "      <td id=\"T_5006a_row5_col1\" class=\"data row5 col1\" >0.261115</td>\n",
       "      <td id=\"T_5006a_row5_col2\" class=\"data row5 col2\" >0.484147</td>\n",
       "      <td id=\"T_5006a_row5_col3\" class=\"data row5 col3\" >0.211750</td>\n",
       "      <td id=\"T_5006a_row5_col4\" class=\"data row5 col4\" >0.370812</td>\n",
       "    </tr>\n",
       "  </tbody>\n",
       "</table>\n"
      ],
      "text/plain": [
       "<pandas.io.formats.style.Styler at 0x28ff63fcbe0>"
      ]
     },
     "execution_count": 266,
     "metadata": {},
     "output_type": "execute_result"
    }
   ],
   "source": [
    "#si p<0.05 podem assumir que les mitjanes son diferents (descartem la hipotesi nulla)\n",
    "ttest_df.style.background_gradient(cmap=\"Blues\")"
=======
      "image/png": "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\n",
      "text/plain": [
       "<Figure size 576x684 with 2 Axes>"
      ]
     },
     "metadata": {
      "needs_background": "light"
     },
     "output_type": "display_data"
    }
   ],
   "source": [
    "\n",
    "# plot shap values \n",
    "shap.summary_plot(shap_values['z_all_06'][\"tr\"])"
>>>>>>> Stashed changes
   ]
  },
  {
   "cell_type": "code",
   "execution_count": null,
<<<<<<< Updated upstream
   "id": "c2a63e80",
=======
   "id": "cae1f1db",
>>>>>>> Stashed changes
   "metadata": {},
   "outputs": [],
   "source": []
  }
 ],
 "metadata": {
  "kernelspec": {
<<<<<<< Updated upstream
   "display_name": "Python 3 (ipykernel)",
=======
   "display_name": "Python 3",
>>>>>>> Stashed changes
   "language": "python",
   "name": "python3"
  },
  "language_info": {
   "codemirror_mode": {
    "name": "ipython",
    "version": 3
   },
   "file_extension": ".py",
   "mimetype": "text/x-python",
   "name": "python",
   "nbconvert_exporter": "python",
   "pygments_lexer": "ipython3",
   "version": "3.8.8"
  }
 },
 "nbformat": 4,
 "nbformat_minor": 5
}
