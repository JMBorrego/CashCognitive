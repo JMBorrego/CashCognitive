{
 "cells": [
  {
   "cell_type": "markdown",
   "id": "b41fbe89",
   "metadata": {},
   "source": [
    "Notebook imitant:\n",
    "    https://towardsdatascience.com/causal-machine-learning-for-econometrics-causal-forests-5ab3aec825a7"
   ]
  },
  {
   "cell_type": "code",
   "execution_count": 31,
   "id": "8b33a126",
   "metadata": {},
   "outputs": [],
   "source": [
    "import pandas as pd\n",
    "import matplotlib.pyplot as plt\n",
    "import numpy as np\n",
    "import sklearn "
   ]
  },
  {
   "cell_type": "code",
   "execution_count": 32,
   "id": "5c4ce38f",
   "metadata": {},
   "outputs": [],
   "source": [
    "#Read main data to DataFrame\n",
    "df = pd.read_stata('Cash_and_Childhood_Development_Replication/macoursetal_main.dta')  "
   ]
  },
  {
   "cell_type": "code",
   "execution_count": 48,
   "id": "ac4db177",
   "metadata": {},
   "outputs": [],
   "source": [
    "# \"hogarid_old\",\"cp_old\",\"unique_05\", \"cpmom_06\" seran usats com a index\n",
    "df_out=df[[\"a5sscore_i_06\",\"a6smemory_p1_06\",\"a6smemory_p2_06\",\"a7a_delay_06\",\"a7b_delay_06\",\n",
    "        \"a7c_delay_06\",\"a7d_delay_06\",\"a9sgrossmotor_06\",\"height_06\",\"weight_06\",\"z_tvip_06\",\"z_social_06\",\n",
    "        \"z_language_06\",\"z_finmotor_06\",\"z_memory_06\",\"z_grmotor_06\",\"z_legmotor_06\",\"z_behavior_06\",\"z_height_06\",\n",
    "        \"z_weight_06\",\"z_all_06\"]]\n"
   ]
  },
  {
   "cell_type": "markdown",
   "id": "8452d06e",
   "metadata": {},
   "source": [
    "# Income variables"
   ]
  },
  {
   "cell_type": "markdown",
   "id": "f70a746c",
   "metadata": {},
   "source": [
    "#2-6: Treiem variables:\n",
    "\n",
    "\"hogarid_old\",\"cp_old\", \"unique_05\", \"itt_all_i\", \"TREAT1\",\"TREAT2\",\"TREAT3\",\"TREAT4\", \"com_tvip_05\", \"com_control_05\"\n",
    ", \"com_notvip\", \"sample06\",\"weighted_05\","
   ]
  },
  {
   "cell_type": "code",
   "execution_count": 81,
   "id": "16fa80e6",
   "metadata": {},
   "outputs": [],
   "source": [
    "df1=df[[\"hogarid_old\",\"s1age_head_05\",\"s1hhsize_05\",\"s1hhsz_undr5_05\",\"s1hhsz_5_14_05\",\n",
    "        \"s1hhsz_15_24_05\",\"s1hhsz_25_64_05\",\"s1hhsz_65plus_05\",\"s1male_head_05\",\"s2mother_inhs_05\",\"s3ap5_rooms_h_05\",\n",
    "        \"s3ap23_stime_h_05\",\"s3ap24_htime_h_05\",\"s3ap25_hqtime_h_05\",\"s3atoilet_hh_05\",\"s3awater_access_hh_05\",\n",
    "        \"s3aelectric_hh_05\",\"s4p6_vitamina_i_05\",\"s4p7_parasite_i_05\",\"s11ownland_hh_05\",\"cons_food_pc_05\",\"cons_tot_pc_05\",\n",
    "        \"height_05\",\"a10whz_05\",\"weight_05\",\"itt_i\",\"yrsedfath\",\"age_transfer\",\"bweight\",\n",
    "        \"s4p7_parasite_i_06\",\"T\",\"male\",\"ed_mom\",\"MUN1\",\"MUN2\",\"MUN3\",\"MUN4\",\n",
    "        \"MUN5\",\"MUN6\",\"com_haz_05\",\"com_waz_05\",\"com_vit_05\",\"com_deworm_05\",\n",
    "        \"vitamiron_06\", \"propfood_05\",\"prstap_f_05\",\"pranimalprot_f_05\",\"prfruitveg_f_05\"]]"
   ]
  },
  {
   "cell_type": "code",
   "execution_count": 82,
   "id": "c88df450",
   "metadata": {},
   "outputs": [
    {
     "name": "stderr",
     "output_type": "stream",
     "text": [
      "\n",
      "A value is trying to be set on a copy of a slice from a DataFrame\n",
      "\n",
      "See the caveats in the documentation: https://pandas.pydata.org/pandas-docs/stable/user_guide/indexing.html#returning-a-view-versus-a-copy\n"
     ]
    }
   ],
   "source": [
    "df1.rename(columns = {'T':'tr'}, inplace = True)"
   ]
  },
  {
   "cell_type": "code",
   "execution_count": 83,
   "id": "d7179548",
   "metadata": {},
   "outputs": [],
   "source": [
    "#fem una copia del df\n",
    "def copy_df(df):\n",
    "   return df.copy()"
   ]
  },
  {
   "cell_type": "code",
   "execution_count": 84,
   "id": "03b51b6e",
   "metadata": {},
   "outputs": [],
   "source": [
    "#eliminem individus amb >delta*100% columnes buides\n",
    "def drop_ind_missing(df, delta):\n",
    "    thresh = len(df.columns)*delta\n",
    "    df.dropna(axis=0, thresh=thresh, inplace=True)\n",
    "    return df"
   ]
  },
  {
   "cell_type": "code",
   "execution_count": 85,
   "id": "e905b250",
   "metadata": {},
   "outputs": [],
   "source": [
    "#eliminem individus amb age transfer<age\n",
    "def drop_out_missing(df, age=-11):\n",
    "    nan_rows=df[df.age_transfer<age].index\n",
    "    df.drop(nan_rows, inplace=True)\n",
    "    return df"
   ]
  },
  {
   "cell_type": "code",
   "execution_count": 86,
   "id": "2e98fd90",
   "metadata": {},
   "outputs": [],
   "source": [
    "#categorical to ordinal\n",
    "def ordinal(df, cols):\n",
    "    enc = OrdinalEncoder()\n",
    "    enc.fit(df[cols])\n",
    "    df[cols] = enc.transform(df[cols])\n",
    "    \n",
    "    return df"
   ]
  },
  {
   "cell_type": "code",
   "execution_count": 87,
   "id": "12652e1b",
   "metadata": {},
   "outputs": [],
   "source": [
    "#imputem NaNs\n",
    "\n",
    "#imputem mitjanes\n",
    "def mean_imputer(df, cols):\n",
    "    for col in cols:\n",
    "        df[col].fillna(df[col].mean(), inplace=True)\n",
    "    return df\n",
    "\n",
    "#imputem el valor més frequent de la columna dintre el hh\n",
    "def hh_mf_imputer(df,cols):\n",
    "    index=df.index\n",
    "    for col in cols:\n",
    "        col_hh=[df[df.hogarid_old==familia][[col,\"age_transfer\"]].sort_values(by=['age_transfer'])[col]\n",
    "                .values for familia in df.hogarid_old]\n",
    "        for i in range(len(index)):\n",
    "               if np.isnan(df[col][index[i]]):\n",
    "                    non_nan_len=np.count_nonzero(~np.isnan(col_hh[i]))\n",
    "                    if(non_nan_len!=0):\n",
    "                        vals,counts = np.unique(col_hh[i], return_counts=True)\n",
    "                        ind = np.argmax(counts)\n",
    "                        df.loc[index[i],col]=vals[ind]\n",
    "    return df             \n",
    "                            \n",
    "                        "
   ]
  },
  {
   "cell_type": "code",
   "execution_count": 88,
   "id": "f3ab3651",
   "metadata": {},
   "outputs": [],
   "source": [
    "#eliminem outliers\n",
    "\n",
    "def outlier_removal(df, cols):\n",
    "    outlier_threshold = []\n",
    "    for col in cols:\n",
    "            q3 = np.nanpercentile(df[col], 75)\n",
    "            q1 = np.nanpercentile(df[col], 25)\n",
    "            iqr = q3 - q1\n",
    "            out_low = q1 - 3*iqr\n",
    "            out_high = q3 + 3*iqr\n",
    "            outlier_threshold.append([out_low, out_high])\n",
    "    outliers_indexs=[]\n",
    "    for col,k in zip(cols,range(len(cols))):\n",
    "        #outliers_indexs_in_col=[]\n",
    "        for i in df[col].index:\n",
    "            if df[col][i]<outlier_threshold[k][0] or df[col][i]>outlier_threshold[k][1]:\n",
    "                outliers_indexs.append(i)\n",
    "        #outliers_indexs.append(outliers_indexs_in_col)\n",
    "    return df.drop(list(set(outliers_indexs)), axis=0)"
   ]
  },
  {
   "cell_type": "code",
   "execution_count": 89,
   "id": "0f97cfd5",
   "metadata": {},
   "outputs": [],
   "source": [
    "def normalize(df, cols):\n",
    "    Nscaler = MinMaxScaler()\n",
    "\n",
    "    Nscaler.fit(df[cols])\n",
    "    df[cols] = Nscaler.transform(df[cols])\n",
    "    \n",
    "    return df\n",
    "\n",
    "def standardize(df, cols):\n",
    "    Sscaler = StandardScaler()\n",
    "\n",
    "    Sscaler.fit(df[cols])\n",
    "    df[cols] = Sscaler.transform(df[cols])\n",
    "    \n",
    "    return df"
   ]
  },
  {
   "cell_type": "code",
   "execution_count": 90,
   "id": "a3987cd6",
   "metadata": {},
   "outputs": [],
   "source": [
    "from sklearn.impute import SimpleImputer\n",
    "from sklearn.preprocessing import OrdinalEncoder\n",
    "from sklearn.preprocessing import MinMaxScaler\n",
    "from sklearn.preprocessing import StandardScaler\n",
    "\n",
    "mean_cols=[\"bweight\", \"height_05\", \"a10whz_05\", \"weight_05\"]\n",
    "hh_mf_cols=[\"s1age_head_05\",\"s1hhsize_05\",\"s1hhsz_undr5_05\",\"s1hhsz_5_14_05\",\"s1hhsz_15_24_05\",\"s1hhsz_25_64_05\",\n",
    "            \"s1hhsz_65plus_05\",\"s1male_head_05\",\"s2mother_inhs_05\",\"s3ap5_rooms_h_05\",\"s3atoilet_hh_05\",\n",
    "            \"s3awater_access_hh_05\",\"s3aelectric_hh_05\",\"s11ownland_hh_05\",\"s4p7_parasite_i_06\",\"ed_mom\",\"vitamiron_06\",\n",
    "           \"s4p6_vitamina_i_05\", \"s4p7_parasite_i_05\", \"cons_food_pc_05\", \"yrsedfath\", \"propfood_05\", \"prstap_f_05\"\n",
    "            ,  \"pranimalprot_f_05\",  \"prfruitveg_f_05\"]\n",
    "\n",
    "categorical_cols=df1.select_dtypes(exclude=[\"number\",\"bool_\",\"object_\"]).columns\n",
    "outlier_cols=[\"pranimalprot_f_05\", \"bweight\", \"prfruitveg_f_05\"]\n",
    "\n",
    "normal_cols =[\"height_05\",\"a10whz_05\",\"weight_05\",\"com_haz_05\",\"com_waz_05\"]\n",
    "\n",
    "Nnormal_cols = ['s1age_head_05', 's3ap23_stime_h_05', 's3ap24_htime_h_05', 's3ap25_hqtime_h_05', 'cons_food_pc_05', \n",
    "                'cons_tot_pc_05', 'yrsedfath','age_transfer', 'bweight', 'ed_mom', 'com_tvip_05', 'com_control_05']\n",
    "\n",
    "\n",
    "v=(df1.pipe(copy_df)\n",
    "            .pipe(drop_ind_missing, 0.8)\n",
    "            .pipe(drop_out_missing)\n",
    "            .pipe(ordinal, categorical_cols)\n",
    "            .pipe(hh_mf_imputer, hh_mf_cols)\n",
    "            .pipe(mean_imputer, mean_cols+hh_mf_cols)\n",
    "            .pipe(outlier_removal, outlier_cols)) #outliers\n",
    "            #.pipe(standardize, normal_cols) #estandaritzacio\n",
    "            #.pipe(normalize, Nnormal_cols)) #normalitzacio\n",
    "                         "
   ]
  },
  {
   "cell_type": "code",
   "execution_count": 92,
   "id": "1111fb13",
   "metadata": {},
   "outputs": [],
   "source": [
    "cleaned_df=v.copy()"
   ]
  },
  {
   "cell_type": "code",
   "execution_count": 93,
   "id": "48cbdbc5",
   "metadata": {},
   "outputs": [
    {
     "data": {
      "text/plain": [
       "hogarid_old              0\n",
       "s1age_head_05            0\n",
       "s1hhsize_05              0\n",
       "s1hhsz_undr5_05          0\n",
       "s1hhsz_5_14_05           0\n",
       "s1hhsz_15_24_05          0\n",
       "s1hhsz_25_64_05          0\n",
       "s1hhsz_65plus_05         0\n",
       "s1male_head_05           0\n",
       "s2mother_inhs_05         0\n",
       "s3ap5_rooms_h_05         0\n",
       "s3ap23_stime_h_05        0\n",
       "s3ap24_htime_h_05        0\n",
       "s3ap25_hqtime_h_05       0\n",
       "s3atoilet_hh_05          0\n",
       "s3awater_access_hh_05    0\n",
       "s3aelectric_hh_05        0\n",
       "s4p6_vitamina_i_05       0\n",
       "s4p7_parasite_i_05       0\n",
       "s11ownland_hh_05         0\n",
       "cons_food_pc_05          0\n",
       "cons_tot_pc_05           0\n",
       "height_05                0\n",
       "a10whz_05                0\n",
       "weight_05                0\n",
       "itt_i                    0\n",
       "yrsedfath                0\n",
       "age_transfer             0\n",
       "bweight                  0\n",
       "s4p7_parasite_i_06       0\n",
       "tr                       0\n",
       "male                     0\n",
       "ed_mom                   0\n",
       "MUN1                     0\n",
       "MUN2                     0\n",
       "MUN3                     0\n",
       "MUN4                     0\n",
       "MUN5                     0\n",
       "MUN6                     0\n",
       "com_haz_05               0\n",
       "com_waz_05               0\n",
       "com_vit_05               0\n",
       "com_deworm_05            0\n",
       "vitamiron_06             0\n",
       "propfood_05              0\n",
       "prstap_f_05              0\n",
       "pranimalprot_f_05        0\n",
       "prfruitveg_f_05          0\n",
       "dtype: int64"
      ]
     },
     "execution_count": 93,
     "metadata": {},
     "output_type": "execute_result"
    }
   ],
   "source": [
    "cleaned_df.isna().sum()"
   ]
  },
  {
   "cell_type": "code",
   "execution_count": 94,
   "id": "6170791b",
   "metadata": {},
   "outputs": [
    {
     "data": {
      "text/plain": [
       "Index(['s1male_head_05', 's3atoilet_hh_05', 's3awater_access_hh_05',\n",
       "       's3aelectric_hh_05', 's4p6_vitamina_i_05', 's4p7_parasite_i_05',\n",
       "       's11ownland_hh_05', 'itt_i', 's4p7_parasite_i_06'],\n",
       "      dtype='object')"
      ]
     },
     "execution_count": 94,
     "metadata": {},
     "output_type": "execute_result"
    }
   ],
   "source": [
    "categorical_cols"
   ]
  },
  {
   "cell_type": "code",
   "execution_count": 95,
   "id": "8fae1bc5",
   "metadata": {},
   "outputs": [],
   "source": [
    "treatment = 'tr'\n",
    "outcome = 'z_all_06'\n",
    "covariates = [\"s1age_head_05\",\"s1hhsize_05\",\"s1hhsz_undr5_05\",\"s1hhsz_5_14_05\",\n",
    "        \"s1hhsz_15_24_05\",\"s1hhsz_25_64_05\",\"s1hhsz_65plus_05\",\"s1male_head_05\",\"s2mother_inhs_05\",\"s3ap5_rooms_h_05\",\n",
    "        \"s3ap23_stime_h_05\",\"s3ap24_htime_h_05\",\"s3ap25_hqtime_h_05\",\"s3atoilet_hh_05\",\"s3awater_access_hh_05\",\n",
    "        \"s3aelectric_hh_05\",\"s4p6_vitamina_i_05\",\"s4p7_parasite_i_05\",\"s11ownland_hh_05\",\"cons_food_pc_05\",\"cons_tot_pc_05\",\n",
    "        \"height_05\",\"a10whz_05\",\"weight_05\",\"itt_i\",\"yrsedfath\",\"age_transfer\",\"bweight\",\n",
    "        \"s4p7_parasite_i_06\",\"male\",\"ed_mom\",\"MUN1\",\"MUN2\",\"MUN3\",\"MUN4\",\n",
    "        \"MUN5\",\"MUN6\",\"com_haz_05\",\"com_waz_05\",\"com_vit_05\",\"com_deworm_05\",\n",
    "        \"vitamiron_06\", \"propfood_05\",\"prstap_f_05\",\"pranimalprot_f_05\",\"prfruitveg_f_05\"]"
   ]
  },
  {
   "cell_type": "code",
   "execution_count": 96,
   "id": "804f28af",
   "metadata": {},
   "outputs": [],
   "source": [
    "cleaned_df.drop(cleaned_df[df_out.iloc[cleaned_df.index].z_all_06.isna()].index, axis=0, inplace=True)"
   ]
  },
  {
   "cell_type": "code",
   "execution_count": 97,
   "id": "b42f0fc3",
   "metadata": {},
   "outputs": [],
   "source": [
    "cleaned_df[\"z_all_06\"]=df_out.iloc[cleaned_df.index].z_all_06"
   ]
  },
  {
   "cell_type": "code",
   "execution_count": 98,
   "id": "447af8fc",
   "metadata": {},
   "outputs": [],
   "source": [
    "cp_cols=[\"hogarid_old\"]"
   ]
  },
  {
   "cell_type": "code",
   "execution_count": 99,
   "id": "1c10e43c",
   "metadata": {},
   "outputs": [],
   "source": [
    "cleaned_df.drop(cp_cols, axis=1, inplace=True)"
   ]
  },
  {
   "cell_type": "code",
   "execution_count": 100,
   "id": "583b7d63",
   "metadata": {},
   "outputs": [],
   "source": [
    "from sklearn.model_selection import train_test_split\n",
    "# split data into train and test sets \n",
    "train, test = train_test_split(cleaned_df, test_size=0.2)\n",
    "\n",
    "# set variables for causal forest Y=outcome, T=treatment, X=covariates, W=effect_modifiers \n",
    "Y = train[outcome]\n",
    "T = train[treatment]\n",
    "X = train[covariates]\n",
    "W = None\n",
    "X_test = test[covariates]"
   ]
  },
  {
   "cell_type": "code",
   "execution_count": 101,
   "id": "5b0ca05d",
   "metadata": {},
   "outputs": [
    {
     "data": {
      "image/png": "[encoded data removed]",
      "text/latex": [
       "$\\displaystyle 0.141756096286298$"
      ],
      "text/plain": [
       "0.14175609628629818"
      ]
     },
     "execution_count": 101,
     "metadata": {},
     "output_type": "execute_result"
    }
   ],
   "source": [
    "from econml.dml import CausalForestDML\n",
    "from sklearn.linear_model import LassoCV\n",
    "\n",
    "# set parameters for causal forest \n",
    "causal_forest1 = CausalForestDML(criterion='het', \n",
    "                                n_estimators=10000,       \n",
    "                                min_samples_leaf=10, \n",
    "                                max_depth=None, \n",
    "                                max_samples=0.5,\n",
    "                                discrete_treatment=False,\n",
    "                                honest=True,\n",
    "                                inference=True,\n",
    "                                cv=10,\n",
    "                                model_t=LassoCV(), \n",
    "                                model_y=LassoCV(),\n",
    "                                )\n",
    "                      \n",
    "# fit train data to causal forest model \n",
    "causal_forest1.fit(Y, T, X=X, W=W)\n",
    "# estimate the CATE with the test set \n",
    "causal_forest1.const_marginal_ate(X_test)"
   ]
  },
  {
   "cell_type": "code",
   "execution_count": 102,
   "id": "96cae7f6",
   "metadata": {},
   "outputs": [],
   "source": [
    "a=causal_forest1.effect(X)"
   ]
  },
  {
   "cell_type": "markdown",
   "id": "2710de27",
   "metadata": {},
   "source": [
    "Mirem de interpretar i identificar subgrups a través de les eines d'interpretació de econML. Primer fem un decision tree naive, sembla que fa el mateix que SingleTreeCateInterpreter. Després provem aquest (SingleTreeCateInterpreter) i llavors SingleTreePolicyInterpreter"
   ]
  },
  {
   "cell_type": "code",
   "execution_count": 103,
   "id": "3c294799",
   "metadata": {},
   "outputs": [
    {
     "name": "stderr",
     "output_type": "stream",
     "text": [
      "Criterion 'mse' was deprecated in v1.0 and will be removed in version 1.2. Use `criterion='squared_error'` which is equivalent.\n"
     ]
    }
   ],
   "source": [
    "from econml.cate_interpreter import SingleTreeCateInterpreter\n",
    "from econml.dml import LinearDML\n",
    "import graphviz\n",
    "import os \n",
    "os.environ[\"PATH\"] += os.pathsep + 'C:\\Program Files\\Graphviz/bin/'\n",
    "\n",
    "intrp = SingleTreeCateInterpreter(include_model_uncertainty=True, max_depth=3, min_samples_leaf=10)\n",
    "# We interpret the CATE model's behavior based on the features used for heterogeneity\n",
    "intrp.interpret(causal_forest1, X)\n",
    "# Plot the tree\n",
    "intrp.plot(feature_names=covariates, fontsize=12)\n",
    "intrp.plot()\n"
   ]
  },
  {
   "cell_type": "code",
   "execution_count": 104,
   "id": "9a96f04a",
   "metadata": {},
   "outputs": [],
   "source": [
    "intrp.render(\"prova1\", feature_names=covariates)"
   ]
  },
  {
   "cell_type": "code",
   "execution_count": 105,
   "id": "9be53889",
   "metadata": {},
   "outputs": [
    {
     "data": {
      "text/plain": [
       "<econml.cate_interpreter._interpreters.SingleTreePolicyInterpreter at 0x1a65dc8e340>"
      ]
     },
     "execution_count": 105,
     "metadata": {},
     "output_type": "execute_result"
    }
   ],
   "source": [
    "from econml.cate_interpreter import SingleTreePolicyInterpreter\n",
    "\n",
    "intrp = SingleTreePolicyInterpreter(risk_level=None, max_depth=2, min_samples_leaf=1,min_impurity_decrease=.001)\n",
    "intrp.interpret(causal_forest1, X, sample_treatment_costs=0.02)\n"
   ]
  },
  {
   "cell_type": "code",
   "execution_count": 106,
   "id": "394da855",
   "metadata": {},
   "outputs": [],
   "source": [
    "intrp.render(\"prova2\", feature_names=covariates)"
   ]
  },
  {
   "cell_type": "markdown",
   "id": "4dcbbe2f",
   "metadata": {},
   "source": [
    "### SHAP"
   ]
  },
  {
   "cell_type": "code",
   "execution_count": null,
   "id": "e0f78747",
   "metadata": {},
   "outputs": [],
   "source": [
    "pd.Series(causal_forest1.feature_importances_,index=causal_forest1.cate_feature_names()).sort_values()"
   ]
  },
  {
   "cell_type": "code",
   "execution_count": null,
   "id": "c771f998",
   "metadata": {},
   "outputs": [],
   "source": [
    "import shap\n",
    "from econml.dml import CausalForestDML\n",
    "\n",
    "# fit causal forest with default parameters \n",
    "causal_forest = CausalForestDML()\n",
    "causal_forest.fit(Y, T, X=X, W=W)\n",
    "\n",
    "# calculate shap values of causal forest model \n",
    "shap_values = causal_forest.shap_values(X)\n"
   ]
  },
  {
   "cell_type": "code",
   "execution_count": null,
   "id": "21bfeb98",
   "metadata": {},
   "outputs": [],
   "source": [
    "\n",
    "# plot shap values \n",
    "shap.summary_plot(shap_values['z_all_06'][\"tr\"])"
   ]
  },
  {
   "cell_type": "code",
   "execution_count": null,
   "id": "4001f592",
   "metadata": {},
   "outputs": [],
   "source": []
  }
 ],
 "metadata": {
  "kernelspec": {
   "display_name": "Python 3 (ipykernel)",
   "language": "python",
   "name": "python3"
  },
  "language_info": {
   "codemirror_mode": {
    "name": "ipython",
    "version": 3
   },
   "file_extension": ".py",
   "mimetype": "text/x-python",
   "name": "python",
   "nbconvert_exporter": "python",
   "pygments_lexer": "ipython3",
   "version": "3.8.8"
  }
 },
 "nbformat": 4,
 "nbformat_minor": 5
}
