{
 "cells": [
  {
   "cell_type": "markdown",
   "id": "b41fbe89",
   "metadata": {},
   "source": [
    "Notebook imitant:\n",
    "    https://towardsdatascience.com/causal-machine-learning-for-econometrics-causal-forests-5ab3aec825a7"
   ]
  },
  {
   "cell_type": "code",
   "execution_count": 2,
   "id": "8b33a126",
   "metadata": {},
   "outputs": [],
   "source": [
    "import pandas as pd\n",
    "import matplotlib.pyplot as plt\n",
    "import numpy as np\n",
    "import sklearn "
   ]
  },
  {
   "cell_type": "code",
   "execution_count": 3,
   "id": "5c4ce38f",
   "metadata": {},
   "outputs": [],
   "source": [
    "#Read main data to DataFrame\n",
    "df = pd.read_stata('Cash_and_Childhood_Development_Replication/macoursetal_main.dta')  "
   ]
  },
  {
   "cell_type": "code",
   "execution_count": 4,
   "id": "ac4db177",
   "metadata": {},
   "outputs": [],
   "source": [
    "# \"hogarid_old\",\"cp_old\",\"unique_05\", \"cpmom_06\" seran usats com a index\n",
    "df_out=df[[\"a5sscore_i_06\",\"a6smemory_p1_06\",\"a6smemory_p2_06\",\"a7a_delay_06\",\"a7b_delay_06\",\n",
    "        \"a7c_delay_06\",\"a7d_delay_06\",\"a9sgrossmotor_06\",\"height_06\",\"weight_06\",\"z_tvip_06\",\"z_social_06\",\n",
    "        \"z_language_06\",\"z_finmotor_06\",\"z_memory_06\",\"z_grmotor_06\",\"z_legmotor_06\",\"z_behavior_06\",\"z_height_06\",\n",
    "        \"z_weight_06\",\"z_all_06\"]]\n"
   ]
  },
  {
   "cell_type": "code",
   "execution_count": 7,
   "id": "bac15faf",
   "metadata": {},
   "outputs": [
    {
     "data": {
      "text/plain": [
       "z_all_06            1185\n",
       "a7a_delay_06        1200\n",
       "z_social_06         1204\n",
       "a7b_delay_06        1220\n",
       "z_language_06       1224\n",
       "a7c_delay_06        1242\n",
       "z_finmotor_06       1246\n",
       "a7d_delay_06        1254\n",
       "z_grmotor_06        1258\n",
       "z_height_06         1429\n",
       "height_06           1429\n",
       "weight_06           1429\n",
       "z_weight_06         1429\n",
       "a9sgrossmotor_06    2656\n",
       "a6smemory_p1_06     2669\n",
       "z_legmotor_06       2673\n",
       "a5sscore_i_06       2679\n",
       "z_memory_06         2684\n",
       "z_tvip_06           2694\n",
       "z_behavior_06       2891\n",
       "a6smemory_p2_06     3141\n",
       "dtype: int64"
      ]
     },
     "execution_count": 7,
     "metadata": {},
     "output_type": "execute_result"
    }
   ],
   "source": [
    "df_out.isna().sum().sort_values()"
   ]
  },
  {
   "cell_type": "markdown",
   "id": "8452d06e",
   "metadata": {},
   "source": [
    "# Income variables"
   ]
  },
  {
   "cell_type": "code",
   "execution_count": 270,
   "id": "16fa80e6",
   "metadata": {},
   "outputs": [],
   "source": [
    "df1=df[[\"hogarid_old\",\"cp_old\",\"unique_05\",\"s1age_head_05\",\"s1hhsize_05\",\"s1hhsz_undr5_05\",\"s1hhsz_5_14_05\",\n",
    "        \"s1hhsz_15_24_05\",\"s1hhsz_25_64_05\",\"s1hhsz_65plus_05\",\"s1male_head_05\",\"s2mother_inhs_05\",\"s3ap5_rooms_h_05\",\n",
    "        \"s3ap23_stime_h_05\",\"s3ap24_htime_h_05\",\"s3ap25_hqtime_h_05\",\"s3atoilet_hh_05\",\"s3awater_access_hh_05\",\n",
    "        \"s3aelectric_hh_05\",\"s4p6_vitamina_i_05\",\"s4p7_parasite_i_05\",\"s11ownland_hh_05\",\"cons_food_pc_05\",\"cons_tot_pc_05\",\n",
    "        \"tvip_05\",\"height_05\",\"a10whz_05\",\"weight_05\",\"itt_i\",\"itt_all_i\",\"yrsedfath\",\"age_transfer\",\"bweight\",\n",
    "        \"s4p7_parasite_i_06\",\"cpmom_06\",\"T\",\"male\",\"TREAT1\",\"TREAT2\",\"TREAT3\",\"TREAT4\",\"ed_mom\",\"MUN1\",\"MUN2\",\"MUN3\",\"MUN4\",\n",
    "        \"MUN5\",\"MUN6\",\"com_haz_05\",\"com_waz_05\",\"com_tvip_05\",\"com_control_05\",\"com_vit_05\",\"com_deworm_05\",\"com_notvip\",\n",
    "        \"sample06\",\"vitamiron_06\",#\"weighted_05\",\n",
    "        \"propfood_05\",\"prstap_f_05\",\"pranimalprot_f_05\",\"prfruitveg_f_05\"]]"
   ]
  },
  {
   "cell_type": "code",
   "execution_count": 271,
   "id": "c88df450",
   "metadata": {},
   "outputs": [],
   "source": [
    "df1.rename(columns = {'T':'tr'}, inplace = True)"
   ]
  },
  {
   "cell_type": "markdown",
   "id": "ce88e431",
   "metadata": {},
   "source": [
    "###  NaNs"
   ]
  },
  {
   "cell_type": "code",
   "execution_count": 272,
   "id": "f18c6ee8",
   "metadata": {},
   "outputs": [
    {
     "data": {
      "text/plain": [
       "1     1357\n",
       "11     910\n",
       "0      631\n",
       "8      427\n",
       "2      243\n",
       "5      212\n",
       "4      133\n",
       "3      130\n",
       "12     129\n",
       "7      112\n",
       "9       66\n",
       "6       59\n",
       "10      48\n",
       "55      32\n",
       "56       7\n",
       "54       7\n",
       "14       6\n",
       "13       2\n",
       "dtype: int64"
      ]
     },
     "execution_count": 272,
     "metadata": {},
     "output_type": "execute_result"
    }
   ],
   "source": [
    "df1.isnull().sum(axis=1).value_counts()"
   ]
  },
  {
   "cell_type": "code",
   "execution_count": 273,
   "id": "d7179548",
   "metadata": {},
   "outputs": [],
   "source": [
    "#fem una copia del df\n",
    "def copy_df(df):\n",
    "   return df.copy()"
   ]
  },
  {
   "cell_type": "code",
   "execution_count": 274,
   "id": "03b51b6e",
   "metadata": {},
   "outputs": [],
   "source": [
    "#eliminem individus amb >delta*100% columnes buides\n",
    "def drop_ind_missing(df, delta):\n",
    "    thresh = len(df.columns)*delta\n",
    "    df.dropna(axis=0, thresh=thresh, inplace=True)\n",
    "    return df"
   ]
  },
  {
   "cell_type": "code",
   "execution_count": 275,
   "id": "e905b250",
   "metadata": {},
   "outputs": [],
   "source": [
    "#eliminem individus amb age transfer<age\n",
    "def drop_out_missing(df, age=-11):\n",
    "    nan_rows=df[df.age_transfer<age].index\n",
    "    df.drop(nan_rows, inplace=True)\n",
    "    return df"
   ]
  },
  {
   "cell_type": "code",
   "execution_count": 276,
   "id": "2e98fd90",
   "metadata": {},
   "outputs": [],
   "source": [
    "#categorical to ordinal\n",
    "def ordinal(df, cols):\n",
    "    enc = OrdinalEncoder()\n",
    "    enc.fit(df[cols])\n",
    "    df[cols] = enc.transform(df[cols])\n",
    "    \n",
    "    return df"
   ]
  },
  {
   "cell_type": "code",
   "execution_count": 277,
   "id": "12652e1b",
   "metadata": {},
   "outputs": [],
   "source": [
    "#imputem NaNs\n",
    "\n",
    "#imputem mitjanes\n",
    "def mean_imputer(df, cols):\n",
    "    for col in cols:\n",
    "        df[col].fillna(df[col].mean(), inplace=True)\n",
    "    return df\n",
    "\n",
    "#imputem el valor més frequent de la columna dintre el hh\n",
    "def hh_mf_imputer(df,cols):\n",
    "    index=df.index\n",
    "    for col in cols:\n",
    "        col_hh=[df[df.hogarid_old==familia][[col,\"age_transfer\"]].sort_values(by=['age_transfer'])[col]\n",
    "                .values for familia in df.hogarid_old]\n",
    "        for i in range(len(index)):\n",
    "               if np.isnan(df[col][index[i]]):\n",
    "                    non_nan_len=np.count_nonzero(~np.isnan(col_hh[i]))\n",
    "                    if(non_nan_len!=0):\n",
    "                        vals,counts = np.unique(col_hh[i], return_counts=True)\n",
    "                        ind = np.argmax(counts)\n",
    "                        df.loc[index[i],col]=vals[ind]\n",
    "    return df             \n",
    "                            \n",
    "                        "
   ]
  },
  {
   "cell_type": "code",
   "execution_count": 278,
   "id": "f3ab3651",
   "metadata": {},
   "outputs": [],
   "source": [
    "#eliminem outliers\n",
    "\n",
    "def outlier_removal(df, cols):\n",
    "    outlier_threshold = []\n",
    "    for col in cols:\n",
    "            q3 = np.nanpercentile(df[col], 75)\n",
    "            q1 = np.nanpercentile(df[col], 25)\n",
    "            iqr = q3 - q1\n",
    "            out_low = q1 - 3*iqr\n",
    "            out_high = q3 + 3*iqr\n",
    "            outlier_threshold.append([out_low, out_high])\n",
    "    outliers_indexs=[]\n",
    "    for col,k in zip(cols,range(len(cols))):\n",
    "        #outliers_indexs_in_col=[]\n",
    "        for i in df[col].index:\n",
    "            if df[col][i]<outlier_threshold[k][0] or df[col][i]>outlier_threshold[k][1]:\n",
    "                outliers_indexs.append(i)\n",
    "        #outliers_indexs.append(outliers_indexs_in_col)\n",
    "    return df.drop(list(set(outliers_indexs)), axis=0)"
   ]
  },
  {
   "cell_type": "code",
   "execution_count": 279,
   "id": "0f97cfd5",
   "metadata": {},
   "outputs": [],
   "source": [
    "def normalize(df, cols):\n",
    "    Nscaler = MinMaxScaler()\n",
    "\n",
    "    Nscaler.fit(df[cols])\n",
    "    df[cols] = Nscaler.transform(df[cols])\n",
    "    \n",
    "    return df\n",
    "\n",
    "def standardize(df, cols):\n",
    "    Sscaler = StandardScaler()\n",
    "\n",
    "    Sscaler.fit(df[cols])\n",
    "    df[cols] = Sscaler.transform(df[cols])\n",
    "    \n",
    "    return df"
   ]
  },
  {
   "cell_type": "code",
   "execution_count": 280,
   "id": "a3987cd6",
   "metadata": {},
   "outputs": [],
   "source": [
    "from sklearn.impute import SimpleImputer\n",
    "from sklearn.preprocessing import OrdinalEncoder\n",
    "from sklearn.preprocessing import MinMaxScaler\n",
    "from sklearn.preprocessing import StandardScaler\n",
    "\n",
    "mean_cols=[\"bweight\", \"tvip_05\", \"height_05\", \"a10whz_05\", \"weight_05\"]\n",
    "hh_mf_cols=[\"s1age_head_05\",\"s1hhsize_05\",\"s1hhsz_undr5_05\",\"s1hhsz_5_14_05\",\"s1hhsz_15_24_05\",\"s1hhsz_25_64_05\",\n",
    "            \"s1hhsz_65plus_05\",\"s1male_head_05\",\"s2mother_inhs_05\",\"s3ap5_rooms_h_05\",\"s3atoilet_hh_05\",\n",
    "            \"s3awater_access_hh_05\",\"s3aelectric_hh_05\",\"s11ownland_hh_05\",\"s4p7_parasite_i_06\",\"ed_mom\",\"vitamiron_06\",\n",
    "           \"s4p6_vitamina_i_05\", \"s4p7_parasite_i_05\", \"cons_food_pc_05\", \"yrsedfath\", \"propfood_05\", \"prstap_f_05\"\n",
    "            ,  \"pranimalprot_f_05\",  \"prfruitveg_f_05\"]\n",
    "\n",
    "categorical_cols=df1.select_dtypes(exclude=[\"number\",\"bool_\",\"object_\"]).columns\n",
    "outlier_cols=[\"pranimalprot_f_05\", \"bweight\", \"prfruitveg_f_05\"]\n",
    "\n",
    "normal_cols =[\"height_05\",\"a10whz_05\",\"weight_05\",\"com_haz_05\",\"com_waz_05\"]\n",
    "\n",
    "Nnormal_cols = ['s1age_head_05', 's3ap23_stime_h_05', 's3ap24_htime_h_05', 's3ap25_hqtime_h_05', 'cons_food_pc_05', \n",
    "                'cons_tot_pc_05', 'tvip_05', 'yrsedfath','age_transfer', 'bweight', 'ed_mom', 'com_tvip_05', 'com_control_05']\n",
    "\n",
    "\n",
    "cleaned_df=(df1.pipe(copy_df)\n",
    "            .pipe(drop_ind_missing, 0.8)\n",
    "            .pipe(drop_out_missing)\n",
    "            .pipe(ordinal, categorical_cols)\n",
    "            .pipe(hh_mf_imputer, hh_mf_cols)\n",
    "            .pipe(mean_imputer, mean_cols+hh_mf_cols)\n",
    "            .pipe(outlier_removal, outlier_cols) #outliers\n",
    "            .pipe(standardize, normal_cols)) #estandaritzacio\n",
    "            #.pipe(normalize, Nnormal_cols)) #normalitzacio\n",
    "                         "
   ]
  },
  {
   "cell_type": "code",
   "execution_count": 281,
   "id": "0e87a1e0",
   "metadata": {},
   "outputs": [
    {
     "data": {
      "text/plain": [
       "Index(['s1male_head_05', 's3atoilet_hh_05', 's3awater_access_hh_05',\n",
       "       's3aelectric_hh_05', 's4p6_vitamina_i_05', 's4p7_parasite_i_05',\n",
       "       's11ownland_hh_05', 'itt_i', 'itt_all_i', 's4p7_parasite_i_06'],\n",
       "      dtype='object')"
      ]
     },
     "execution_count": 281,
     "metadata": {},
     "output_type": "execute_result"
    }
   ],
   "source": [
    "categorical_cols"
   ]
  },
  {
   "cell_type": "code",
   "execution_count": 282,
   "id": "8fae1bc5",
   "metadata": {},
   "outputs": [],
   "source": [
    "treatment = 'tr'\n",
    "outcome = 'z_all_06'\n",
    "covariates = [\"s1age_head_05\",\"s1hhsize_05\",\"s1hhsz_undr5_05\",\"s1hhsz_5_14_05\",\n",
    "        \"s1hhsz_15_24_05\",\"s1hhsz_25_64_05\",\"s1hhsz_65plus_05\",\"s1male_head_05\",\"s2mother_inhs_05\",\"s3ap5_rooms_h_05\",\n",
    "        \"s3ap23_stime_h_05\",\"s3ap24_htime_h_05\",\"s3ap25_hqtime_h_05\",\"s3atoilet_hh_05\",\"s3awater_access_hh_05\",\n",
    "        \"s3aelectric_hh_05\",\"s4p6_vitamina_i_05\",\"s4p7_parasite_i_05\",\"s11ownland_hh_05\",\"cons_food_pc_05\",\"cons_tot_pc_05\",\n",
    "        \"tvip_05\",\"height_05\",\"a10whz_05\",\"weight_05\",\"itt_i\",\"itt_all_i\",\"yrsedfath\",\"age_transfer\",\"bweight\",\n",
    "        \"s4p7_parasite_i_06\",\"male\",\"TREAT1\",\"TREAT2\",\"TREAT3\",\"TREAT4\",\"ed_mom\",\"MUN1\",\"MUN2\",\"MUN3\",\"MUN4\",\n",
    "        \"MUN5\",\"MUN6\",\"com_haz_05\",\"com_waz_05\",\"com_tvip_05\",\"com_control_05\",\"com_vit_05\",\"com_deworm_05\",\"com_notvip\",\n",
    "        \"sample06\",\"vitamiron_06\",\n",
    "        \"propfood_05\",\"prstap_f_05\",\"pranimalprot_f_05\",\"prfruitveg_f_05\"]"
   ]
  },
  {
   "cell_type": "code",
   "execution_count": 283,
   "id": "804f28af",
   "metadata": {},
   "outputs": [],
   "source": [
    "cleaned_df.drop(cleaned_df[df_out.iloc[cleaned_df.index].z_all_06.isna()].index, axis=0, inplace=True)"
   ]
  },
  {
   "cell_type": "code",
   "execution_count": 284,
   "id": "b42f0fc3",
   "metadata": {},
   "outputs": [],
   "source": [
    "cleaned_df[\"z_all_06\"]=df_out.iloc[cleaned_df.index].z_all_06"
   ]
  },
  {
   "cell_type": "code",
   "execution_count": 285,
   "id": "447af8fc",
   "metadata": {},
   "outputs": [],
   "source": [
    "cp_cols=[\"hogarid_old\",\"cp_old\",\"unique_05\", \"cpmom_06\"]"
   ]
  },
  {
   "cell_type": "code",
   "execution_count": 286,
   "id": "1c10e43c",
   "metadata": {},
   "outputs": [],
   "source": [
    "cleaned_df.drop(cp_cols, axis=1, inplace=True)"
   ]
  },
  {
   "cell_type": "code",
   "execution_count": 22,
   "id": "583b7d63",
   "metadata": {},
   "outputs": [],
   "source": [
    "from sklearn.model_selection import train_test_split\n",
    "# split data into train and test sets \n",
    "train, test = train_test_split(cleaned_df, test_size=0.2)\n",
    "\n",
    "# set variables for causal forest Y=outcome, T=treatment, X=covariates, W=effect_modifiers \n",
    "Y = train[outcome]\n",
    "T = train[treatment]\n",
    "X = train[covariates]\n",
    "W = None\n",
    "X_test = test[covariates]"
   ]
  },
  {
   "cell_type": "code",
   "execution_count": null,
   "id": "5b0ca05d",
   "metadata": {},
   "outputs": [],
   "source": [
    "from econml.dml import CausalForestDML\n",
    "from sklearn.linear_model import LassoCV\n",
    "\n",
    "# set parameters for causal forest \n",
    "causal_forest1 = CausalForestDML(criterion='het', \n",
    "                                n_estimators=10000,       \n",
    "                                min_samples_leaf=10, \n",
    "                                max_depth=None, \n",
    "                                max_samples=0.5,\n",
    "                                discrete_treatment=False,\n",
    "                                honest=True,\n",
    "                                inference=True,\n",
    "                                cv=10,\n",
    "                                model_t=LassoCV(), \n",
    "                                model_y=LassoCV(),\n",
    "                                )\n",
    "                      \n",
    "# fit train data to causal forest model \n",
    "causal_forest1.fit(Y, T, X=X, W=W)\n",
    "# estimate the CATE with the test set \n",
    "causal_forest1.const_marginal_ate(X_test)"
   ]
  },
  {
   "cell_type": "code",
   "execution_count": null,
   "id": "3e36db4a",
   "metadata": {},
   "outputs": [],
   "source": [
    "a=causal_forest1.effect(X)"
   ]
  },
  {
   "cell_type": "markdown",
   "id": "a49212fb",
   "metadata": {},
   "source": [
    "Mirem de interpretar i identificar subgrups a través de les eines d'interpretació de econML. Primer fem un decision tree naive, sembla que fa el mateix que SingleTreeCateInterpreter. Després provem aquest (SingleTreeCateInterpreter) i llavors SingleTreePolicyInterpreter"
   ]
  },
  {
   "cell_type": "code",
   "execution_count": null,
   "id": "cf1843e8",
   "metadata": {},
   "outputs": [],
   "source": [
    "import sklearn\n",
    "from sklearn.tree import DecisionTreeRegressor\n",
    "reg = DecisionTreeRegressor(max_depth=4).fit(X,a)\n",
    "sklearn.tree.export_graphviz(reg, 'test.dot')"
   ]
  },
  {
   "cell_type": "code",
   "execution_count": null,
   "id": "06d4806d",
   "metadata": {},
   "outputs": [],
   "source": [
    "import graphviz\n",
    "import os \n",
    "os.environ[\"PATH\"] += os.pathsep + 'C:\\Program Files\\Graphviz/bin/'\n",
    "# DOT data\n",
    "dot_data = sklearn.tree.export_graphviz(reg, out_file=None, \n",
    "                                feature_names=covariates) \n",
    "                                #class_names=iris.target_names,\n",
    "                                #filled=True)\n",
    "\n",
    "# Draw graph\n",
    "graph = graphviz.Source(dot_data, format=\"png\") \n",
    "graph\n"
   ]
  },
  {
   "cell_type": "code",
   "execution_count": null,
   "id": "3c294799",
   "metadata": {},
   "outputs": [],
   "source": [
    "from econml.cate_interpreter import SingleTreeCateInterpreter\n",
    "from econml.dml import LinearDML\n",
    "\n",
    "intrp = SingleTreeCateInterpreter(include_model_uncertainty=True, max_depth=3, min_samples_leaf=10)\n",
    "# We interpret the CATE model's behavior based on the features used for heterogeneity\n",
    "intrp.interpret(causal_forest1, X)\n",
    "# Plot the tree\n",
    "intrp.plot(feature_names=covariates, fontsize=12)\n",
    "intrp.plot()\n"
   ]
  },
  {
   "cell_type": "code",
   "execution_count": null,
   "id": "2fdac58f",
   "metadata": {},
   "outputs": [],
   "source": [
    "intrp.render(\"prova1\", feature_names=covariates)"
   ]
  },
  {
   "cell_type": "code",
   "execution_count": null,
   "id": "d60a63f6",
   "metadata": {},
   "outputs": [],
   "source": [
    "from econml.cate_interpreter import SingleTreePolicyInterpreter\n",
    "\n",
    "intrp = SingleTreePolicyInterpreter(risk_level=None, max_depth=2, min_samples_leaf=1,min_impurity_decrease=.001)\n",
    "intrp.interpret(causal_forest1, X, sample_treatment_costs=0.02)\n"
   ]
  },
  {
   "cell_type": "code",
   "execution_count": null,
   "id": "feb49c24",
   "metadata": {},
   "outputs": [],
   "source": [
    "intrp.render(\"prova2\", feature_names=covariates)"
   ]
  },
  {
   "cell_type": "markdown",
   "id": "d10a8545",
   "metadata": {},
   "source": [
    "### SHAP"
   ]
  },
  {
   "cell_type": "code",
   "execution_count": null,
   "id": "e0f78747",
   "metadata": {},
   "outputs": [],
   "source": [
    "pd.Series(causal_forest1.feature_importances_,index=causal_forest1.cate_feature_names()).sort_values()"
   ]
  },
  {
   "cell_type": "code",
   "execution_count": null,
   "id": "c771f998",
   "metadata": {},
   "outputs": [],
   "source": [
    "import shap\n",
    "from econml.dml import CausalForestDML\n",
    "\n",
    "# fit causal forest with default parameters \n",
    "causal_forest = CausalForestDML()\n",
    "causal_forest.fit(Y, T, X=X, W=W)\n",
    "\n",
    "# calculate shap values of causal forest model \n",
    "shap_values = causal_forest.shap_values(X)\n"
   ]
  },
  {
   "cell_type": "code",
   "execution_count": null,
   "id": "21bfeb98",
   "metadata": {},
   "outputs": [],
   "source": [
    "\n",
    "# plot shap values \n",
    "shap.summary_plot(shap_values['z_all_06'][\"tr\"])"
   ]
  },
  {
   "cell_type": "markdown",
   "id": "a90f0cc8",
   "metadata": {},
   "source": [
    "### ITE"
   ]
  },
  {
   "cell_type": "markdown",
   "id": "6ef6b195",
   "metadata": {},
   "source": [
    "-Regressio\n",
    "-Random forest\n",
    "-XGBoost"
   ]
  },
  {
   "cell_type": "code",
   "execution_count": 23,
   "id": "a89b7dc1",
   "metadata": {},
   "outputs": [
    {
     "data": {
      "text/plain": [
       "['s1age_head_05',\n",
       " 's1hhsize_05',\n",
       " 's1hhsz_undr5_05',\n",
       " 's1hhsz_5_14_05',\n",
       " 's1hhsz_15_24_05',\n",
       " 's1hhsz_25_64_05',\n",
       " 's1hhsz_65plus_05',\n",
       " 's1male_head_05',\n",
       " 's2mother_inhs_05',\n",
       " 's3ap5_rooms_h_05',\n",
       " 's3ap23_stime_h_05',\n",
       " 's3ap24_htime_h_05',\n",
       " 's3ap25_hqtime_h_05',\n",
       " 's3atoilet_hh_05',\n",
       " 's3awater_access_hh_05',\n",
       " 's3aelectric_hh_05',\n",
       " 's4p6_vitamina_i_05',\n",
       " 's4p7_parasite_i_05',\n",
       " 's11ownland_hh_05',\n",
       " 'cons_food_pc_05',\n",
       " 'cons_tot_pc_05',\n",
       " 'tvip_05',\n",
       " 'height_05',\n",
       " 'a10whz_05',\n",
       " 'weight_05',\n",
       " 'itt_i',\n",
       " 'itt_all_i',\n",
       " 'yrsedfath',\n",
       " 'age_transfer',\n",
       " 'bweight',\n",
       " 's4p7_parasite_i_06',\n",
       " 'male',\n",
       " 'TREAT1',\n",
       " 'TREAT2',\n",
       " 'TREAT3',\n",
       " 'TREAT4',\n",
       " 'ed_mom',\n",
       " 'MUN1',\n",
       " 'MUN2',\n",
       " 'MUN3',\n",
       " 'MUN4',\n",
       " 'MUN5',\n",
       " 'MUN6',\n",
       " 'com_haz_05',\n",
       " 'com_waz_05',\n",
       " 'com_tvip_05',\n",
       " 'com_control_05',\n",
       " 'com_vit_05',\n",
       " 'com_deworm_05',\n",
       " 'com_notvip',\n",
       " 'sample06',\n",
       " 'vitamiron_06',\n",
       " 'propfood_05',\n",
       " 'prstap_f_05',\n",
       " 'pranimalprot_f_05',\n",
       " 'prfruitveg_f_05',\n",
       " 'tr']"
      ]
     },
     "execution_count": 23,
     "metadata": {},
     "output_type": "execute_result"
    }
   ],
   "source": [
    "covariates+ [\"tr\"]"
   ]
  },
  {
   "cell_type": "code",
   "execution_count": 24,
   "id": "a8ef39ce",
   "metadata": {},
   "outputs": [],
   "source": [
    "from sklearn.model_selection import train_test_split\n",
    "# split data into train and test sets \n",
    "train, test = train_test_split(cleaned_df, test_size=0.33)\n",
    "\n",
    "# set variables for causal forest Y=outcome, T=treatment, X=covariates, W=effect_modifiers \n",
    "y_train = train[outcome]\n",
    "X_train = train[covariates+[\"tr\"]]\n",
    "\n",
    "X_test = test[covariates+[\"tr\"]]\n",
    "y_test =  test[outcome]"
   ]
  },
  {
   "cell_type": "code",
   "execution_count": null,
   "id": "f4169078",
   "metadata": {},
   "outputs": [],
   "source": []
  },
  {
   "cell_type": "code",
   "execution_count": 25,
   "id": "148d7555",
   "metadata": {},
   "outputs": [],
   "source": [
    "def display_scores(scores,model_name = None):\n",
    "    if(model_name):\n",
    "        print(\"----\",model_name,\"----\")\n",
    "    print(\"Mean:\", scores.mean())\n",
    "    print(\"Standard deviation:\", scores.std())"
   ]
  },
  {
   "cell_type": "code",
   "execution_count": 26,
   "id": "31910104",
   "metadata": {},
   "outputs": [
    {
     "ename": "NameError",
     "evalue": "name 'sklearn' is not defined",
     "output_type": "error",
     "traceback": [
      "\u001b[1;31m---------------------------------------------------------------------------\u001b[0m",
      "\u001b[1;31mNameError\u001b[0m                                 Traceback (most recent call last)",
      "Input \u001b[1;32mIn [26]\u001b[0m, in \u001b[0;36m<cell line: 1>\u001b[1;34m()\u001b[0m\n\u001b[1;32m----> 1\u001b[0m \u001b[38;5;28msorted\u001b[39m(\u001b[43msklearn\u001b[49m\u001b[38;5;241m.\u001b[39mmetrics\u001b[38;5;241m.\u001b[39mSCORERS\u001b[38;5;241m.\u001b[39mkeys())\n",
      "\u001b[1;31mNameError\u001b[0m: name 'sklearn' is not defined"
     ]
    }
   ],
   "source": [
    "sorted(sklearn.metrics.SCORERS.keys())"
   ]
  },
  {
   "cell_type": "code",
   "execution_count": 27,
   "id": "c66cac68",
   "metadata": {},
   "outputs": [
    {
     "name": "stderr",
     "output_type": "stream",
     "text": [
      "C:\\Users\\Usuari\\anaconda3\\lib\\site-packages\\xgboost\\compat.py:36: FutureWarning: pandas.Int64Index is deprecated and will be removed from pandas in a future version. Use pandas.Index with the appropriate dtype instead.\n",
      "  from pandas import MultiIndex, Int64Index\n",
      "C:\\Users\\Usuari\\anaconda3\\lib\\site-packages\\xgboost\\data.py:262: FutureWarning: pandas.Int64Index is deprecated and will be removed from pandas in a future version. Use pandas.Index with the appropriate dtype instead.\n",
      "  elif isinstance(data.columns, (pd.Int64Index, pd.RangeIndex)):\n"
     ]
    },
    {
     "name": "stdout",
     "output_type": "stream",
     "text": [
      "---- lin_reg ----\n",
      "Mean: 0.19846182785215571\n",
      "Standard deviation: 0.12405241196680919\n",
      "---- Random Forest ----\n",
      "Mean: 0.23217899390054653\n",
      "Standard deviation: 0.07216574836144535\n"
     ]
    },
    {
     "name": "stderr",
     "output_type": "stream",
     "text": [
      "C:\\Users\\Usuari\\anaconda3\\lib\\site-packages\\xgboost\\data.py:262: FutureWarning: pandas.Int64Index is deprecated and will be removed from pandas in a future version. Use pandas.Index with the appropriate dtype instead.\n",
      "  elif isinstance(data.columns, (pd.Int64Index, pd.RangeIndex)):\n",
      "C:\\Users\\Usuari\\anaconda3\\lib\\site-packages\\xgboost\\data.py:262: FutureWarning: pandas.Int64Index is deprecated and will be removed from pandas in a future version. Use pandas.Index with the appropriate dtype instead.\n",
      "  elif isinstance(data.columns, (pd.Int64Index, pd.RangeIndex)):\n",
      "C:\\Users\\Usuari\\anaconda3\\lib\\site-packages\\xgboost\\data.py:262: FutureWarning: pandas.Int64Index is deprecated and will be removed from pandas in a future version. Use pandas.Index with the appropriate dtype instead.\n",
      "  elif isinstance(data.columns, (pd.Int64Index, pd.RangeIndex)):\n",
      "C:\\Users\\Usuari\\anaconda3\\lib\\site-packages\\xgboost\\data.py:262: FutureWarning: pandas.Int64Index is deprecated and will be removed from pandas in a future version. Use pandas.Index with the appropriate dtype instead.\n",
      "  elif isinstance(data.columns, (pd.Int64Index, pd.RangeIndex)):\n",
      "C:\\Users\\Usuari\\anaconda3\\lib\\site-packages\\xgboost\\data.py:262: FutureWarning: pandas.Int64Index is deprecated and will be removed from pandas in a future version. Use pandas.Index with the appropriate dtype instead.\n",
      "  elif isinstance(data.columns, (pd.Int64Index, pd.RangeIndex)):\n",
      "C:\\Users\\Usuari\\anaconda3\\lib\\site-packages\\xgboost\\data.py:262: FutureWarning: pandas.Int64Index is deprecated and will be removed from pandas in a future version. Use pandas.Index with the appropriate dtype instead.\n",
      "  elif isinstance(data.columns, (pd.Int64Index, pd.RangeIndex)):\n",
      "C:\\Users\\Usuari\\anaconda3\\lib\\site-packages\\xgboost\\data.py:262: FutureWarning: pandas.Int64Index is deprecated and will be removed from pandas in a future version. Use pandas.Index with the appropriate dtype instead.\n",
      "  elif isinstance(data.columns, (pd.Int64Index, pd.RangeIndex)):\n",
      "C:\\Users\\Usuari\\anaconda3\\lib\\site-packages\\xgboost\\data.py:262: FutureWarning: pandas.Int64Index is deprecated and will be removed from pandas in a future version. Use pandas.Index with the appropriate dtype instead.\n",
      "  elif isinstance(data.columns, (pd.Int64Index, pd.RangeIndex)):\n",
      "C:\\Users\\Usuari\\anaconda3\\lib\\site-packages\\xgboost\\data.py:262: FutureWarning: pandas.Int64Index is deprecated and will be removed from pandas in a future version. Use pandas.Index with the appropriate dtype instead.\n",
      "  elif isinstance(data.columns, (pd.Int64Index, pd.RangeIndex)):\n",
      "C:\\Users\\Usuari\\anaconda3\\lib\\site-packages\\xgboost\\data.py:262: FutureWarning: pandas.Int64Index is deprecated and will be removed from pandas in a future version. Use pandas.Index with the appropriate dtype instead.\n",
      "  elif isinstance(data.columns, (pd.Int64Index, pd.RangeIndex)):\n"
     ]
    },
    {
     "name": "stdout",
     "output_type": "stream",
     "text": [
      "---- XGboost ----\n",
      "Mean: 0.18148342812821236\n",
      "Standard deviation: 0.11394298547750425\n"
     ]
    }
   ],
   "source": [
    "from sklearn.linear_model import LinearRegression\n",
    "from sklearn.ensemble import RandomForestRegressor\n",
    "import xgboost as xgb\n",
    "\n",
    "from sklearn.model_selection import cross_val_score\n",
    "\n",
    "lin_reg = LinearRegression()\n",
    "lin_reg.fit(X_train, y_train)\n",
    "\n",
    "forest_reg = RandomForestRegressor(n_estimators=20, random_state=42)\n",
    "forest_reg.fit(X_train, y_train)\n",
    "\n",
    "xg_reg = xgb.XGBRegressor(objective ='reg:squarederror')\n",
    "xg_reg.fit(X_train,y_train)\n",
    "\n",
    " \n",
    "    # lets comare all of them \n",
    "models = [(lin_reg,\"lin_reg\"),\n",
    "          (forest_reg,'Random Forest'),\n",
    "          (xg_reg,\"XGboost\")]\n",
    "for model in models:\n",
    "    scores = cross_val_score(model[0], X_test, y_test, scoring='r2', cv=10)\n",
    "    display_scores(scores, model[1])"
   ]
  },
  {
   "cell_type": "code",
   "execution_count": 28,
   "id": "425ffe2b",
   "metadata": {},
   "outputs": [
    {
     "data": {
      "text/plain": [
       "{'objective': 'reg:squarederror',\n",
       " 'base_score': 0.5,\n",
       " 'booster': 'gbtree',\n",
       " 'colsample_bylevel': 1,\n",
       " 'colsample_bynode': 1,\n",
       " 'colsample_bytree': 1,\n",
       " 'gamma': 0,\n",
       " 'gpu_id': -1,\n",
       " 'interaction_constraints': '',\n",
       " 'learning_rate': 0.300000012,\n",
       " 'max_delta_step': 0,\n",
       " 'max_depth': 6,\n",
       " 'min_child_weight': 1,\n",
       " 'monotone_constraints': '()',\n",
       " 'n_jobs': 4,\n",
       " 'num_parallel_tree': 1,\n",
       " 'predictor': 'auto',\n",
       " 'random_state': 0,\n",
       " 'reg_alpha': 0,\n",
       " 'reg_lambda': 1,\n",
       " 'scale_pos_weight': 1,\n",
       " 'subsample': 1,\n",
       " 'tree_method': 'exact',\n",
       " 'validate_parameters': 1,\n",
       " 'verbosity': None}"
      ]
     },
     "execution_count": 28,
     "metadata": {},
     "output_type": "execute_result"
    }
   ],
   "source": [
    "xg_reg.get_xgb_params()"
   ]
  },
  {
   "cell_type": "code",
   "execution_count": 29,
   "id": "31844497",
   "metadata": {},
   "outputs": [
    {
     "name": "stderr",
     "output_type": "stream",
     "text": [
      "C:\\Users\\Usuari\\anaconda3\\lib\\site-packages\\xgboost\\data.py:262: FutureWarning: pandas.Int64Index is deprecated and will be removed from pandas in a future version. Use pandas.Index with the appropriate dtype instead.\n",
      "  elif isinstance(data.columns, (pd.Int64Index, pd.RangeIndex)):\n"
     ]
    },
    {
     "data": {
      "text/plain": [
       "GridSearchCV(cv=2,\n",
       "             estimator=XGBRegressor(base_score=None, booster=None,\n",
       "                                    colsample_bylevel=None,\n",
       "                                    colsample_bynode=None,\n",
       "                                    colsample_bytree=None,\n",
       "                                    enable_categorical=False, gamma=None,\n",
       "                                    gpu_id=None, importance_type=None,\n",
       "                                    interaction_constraints=None,\n",
       "                                    learning_rate=None, max_delta_step=None,\n",
       "                                    max_depth=None, min_child_weight=None,\n",
       "                                    missing=nan, monotone_constraints=None,\n",
       "                                    n_estimators=100, n_jobs=None,\n",
       "                                    num_parallel_tree=None, predictor=None,\n",
       "                                    random_state=None, reg_alpha=None,\n",
       "                                    reg_lambda=None, scale_pos_weight=None,\n",
       "                                    subsample=None, tree_method=None,\n",
       "                                    validate_parameters=None, verbosity=None),\n",
       "             n_jobs=-1,\n",
       "             param_grid={'learning_rate': [0.01, 0.3, 0.5],\n",
       "                         'max_depth': [4, 6, 8]})"
      ]
     },
     "execution_count": 29,
     "metadata": {},
     "output_type": "execute_result"
    }
   ],
   "source": [
    "from sklearn.model_selection import GridSearchCV\n",
    "\n",
    "parameters = {'learning_rate': [0.01,0.3, 0.5],\n",
    "                  'max_depth'    : [4,6,8]\n",
    "                 }\n",
    "\n",
    "GBR = xgb.XGBRegressor()\n",
    "grid_GBC = GridSearchCV(estimator=GBR, cv = 2, n_jobs=-1, param_grid = parameters)\n",
    "grid_GBC.fit(X_train, y_train)"
   ]
  },
  {
   "cell_type": "code",
   "execution_count": 30,
   "id": "774df71b",
   "metadata": {},
   "outputs": [
    {
     "name": "stdout",
     "output_type": "stream",
     "text": [
      " Results from Grid Search \n",
      "\n",
      " The best estimator across ALL searched params:\n",
      " XGBRegressor(base_score=0.5, booster='gbtree', colsample_bylevel=1,\n",
      "             colsample_bynode=1, colsample_bytree=1, enable_categorical=False,\n",
      "             gamma=0, gpu_id=-1, importance_type=None,\n",
      "             interaction_constraints='', learning_rate=0.3, max_delta_step=0,\n",
      "             max_depth=4, min_child_weight=1, missing=nan,\n",
      "             monotone_constraints='()', n_estimators=100, n_jobs=4,\n",
      "             num_parallel_tree=1, predictor='auto', random_state=0, reg_alpha=0,\n",
      "             reg_lambda=1, scale_pos_weight=1, subsample=1, tree_method='exact',\n",
      "             validate_parameters=1, verbosity=None)\n",
      "\n",
      " The best score across ALL searched params:\n",
      " 0.1383027791230182\n",
      "\n",
      " The best parameters across ALL searched params:\n",
      " {'learning_rate': 0.3, 'max_depth': 4}\n"
     ]
    }
   ],
   "source": [
    "print(\" Results from Grid Search \" )\n",
    "print(\"\\n The best estimator across ALL searched params:\\n\",grid_GBC.best_estimator_)\n",
    "print(\"\\n The best score across ALL searched params:\\n\",grid_GBC.best_score_)\n",
    "print(\"\\n The best parameters across ALL searched params:\\n\",grid_GBC.best_params_)\n"
   ]
  },
  {
   "cell_type": "code",
   "execution_count": 35,
   "id": "5aaaf1ff",
   "metadata": {},
   "outputs": [
    {
     "data": {
      "text/plain": [
       "['accuracy',\n",
       " 'adjusted_mutual_info_score',\n",
       " 'adjusted_rand_score',\n",
       " 'average_precision',\n",
       " 'balanced_accuracy',\n",
       " 'completeness_score',\n",
       " 'explained_variance',\n",
       " 'f1',\n",
       " 'f1_macro',\n",
       " 'f1_micro',\n",
       " 'f1_samples',\n",
       " 'f1_weighted',\n",
       " 'fowlkes_mallows_score',\n",
       " 'homogeneity_score',\n",
       " 'jaccard',\n",
       " 'jaccard_macro',\n",
       " 'jaccard_micro',\n",
       " 'jaccard_samples',\n",
       " 'jaccard_weighted',\n",
       " 'max_error',\n",
       " 'mutual_info_score',\n",
       " 'neg_brier_score',\n",
       " 'neg_log_loss',\n",
       " 'neg_mean_absolute_error',\n",
       " 'neg_mean_absolute_percentage_error',\n",
       " 'neg_mean_gamma_deviance',\n",
       " 'neg_mean_poisson_deviance',\n",
       " 'neg_mean_squared_error',\n",
       " 'neg_mean_squared_log_error',\n",
       " 'neg_median_absolute_error',\n",
       " 'neg_root_mean_squared_error',\n",
       " 'normalized_mutual_info_score',\n",
       " 'precision',\n",
       " 'precision_macro',\n",
       " 'precision_micro',\n",
       " 'precision_samples',\n",
       " 'precision_weighted',\n",
       " 'r2',\n",
       " 'rand_score',\n",
       " 'recall',\n",
       " 'recall_macro',\n",
       " 'recall_micro',\n",
       " 'recall_samples',\n",
       " 'recall_weighted',\n",
       " 'roc_auc',\n",
       " 'roc_auc_ovo',\n",
       " 'roc_auc_ovo_weighted',\n",
       " 'roc_auc_ovr',\n",
       " 'roc_auc_ovr_weighted',\n",
       " 'top_k_accuracy',\n",
       " 'v_measure_score']"
      ]
     },
     "execution_count": 35,
     "metadata": {},
     "output_type": "execute_result"
    }
   ],
   "source": [
    "sorted(sklearn.metrics.SCORERS.keys())"
   ]
  },
  {
   "cell_type": "code",
   "execution_count": 36,
   "id": "725fad88",
   "metadata": {},
   "outputs": [],
   "source": [
    "import warnings\n",
    "warnings.filterwarnings('ignore')"
   ]
  },
  {
   "cell_type": "code",
   "execution_count": 37,
   "id": "0c9e144c",
   "metadata": {},
   "outputs": [
    {
     "name": "stdout",
     "output_type": "stream",
     "text": [
      "---- lin_reg ----\n",
      "Mean: 0.19846182785215571\n",
      "Standard deviation: 0.12405241196680919\n",
      "---- Random Forest ----\n",
      "Mean: 0.23217899390054653\n",
      "Standard deviation: 0.07216574836144535\n",
      "---- XGboost ----\n",
      "Mean: 0.18148342812821236\n",
      "Standard deviation: 0.11394298547750425\n"
     ]
    }
   ],
   "source": [
    " # lets comare all of them \n",
    "models = [(lin_reg,\"lin_reg\"),\n",
    "          (forest_reg,'Random Forest'),\n",
    "          (xg_reg,\"XGboost\")]\n",
    "for model in models:\n",
    "    scores = cross_val_score(model[0], X_test, y_test, scoring=\"r2\", cv=10)\n",
    "    display_scores(scores, model[1])"
   ]
  },
  {
   "cell_type": "code",
   "execution_count": 38,
   "id": "cdf427e0",
   "metadata": {},
   "outputs": [
    {
     "data": {
      "text/html": [
       "<div>\n",
       "<style scoped>\n",
       "    .dataframe tbody tr th:only-of-type {\n",
       "        vertical-align: middle;\n",
       "    }\n",
       "\n",
       "    .dataframe tbody tr th {\n",
       "        vertical-align: top;\n",
       "    }\n",
       "\n",
       "    .dataframe thead th {\n",
       "        text-align: right;\n",
       "    }\n",
       "</style>\n",
       "<table border=\"1\" class=\"dataframe\">\n",
       "  <thead>\n",
       "    <tr style=\"text-align: right;\">\n",
       "      <th></th>\n",
       "      <th>s1age_head_05</th>\n",
       "      <th>s1hhsize_05</th>\n",
       "      <th>s1hhsz_undr5_05</th>\n",
       "      <th>s1hhsz_5_14_05</th>\n",
       "      <th>s1hhsz_15_24_05</th>\n",
       "      <th>s1hhsz_25_64_05</th>\n",
       "      <th>s1hhsz_65plus_05</th>\n",
       "      <th>s1male_head_05</th>\n",
       "      <th>s2mother_inhs_05</th>\n",
       "      <th>s3ap5_rooms_h_05</th>\n",
       "      <th>...</th>\n",
       "      <th>com_vit_05</th>\n",
       "      <th>com_deworm_05</th>\n",
       "      <th>com_notvip</th>\n",
       "      <th>sample06</th>\n",
       "      <th>vitamiron_06</th>\n",
       "      <th>propfood_05</th>\n",
       "      <th>prstap_f_05</th>\n",
       "      <th>pranimalprot_f_05</th>\n",
       "      <th>prfruitveg_f_05</th>\n",
       "      <th>z_all_06</th>\n",
       "    </tr>\n",
       "  </thead>\n",
       "  <tbody>\n",
       "    <tr>\n",
       "      <th>1</th>\n",
       "      <td>35.0</td>\n",
       "      <td>5.0</td>\n",
       "      <td>1.0</td>\n",
       "      <td>2.0</td>\n",
       "      <td>0.0</td>\n",
       "      <td>2.0</td>\n",
       "      <td>0.0</td>\n",
       "      <td>1.0</td>\n",
       "      <td>1.0</td>\n",
       "      <td>1.0</td>\n",
       "      <td>...</td>\n",
       "      <td>0.571429</td>\n",
       "      <td>0.285714</td>\n",
       "      <td>0.500000</td>\n",
       "      <td>1.0</td>\n",
       "      <td>0.0</td>\n",
       "      <td>0.678527</td>\n",
       "      <td>0.204472</td>\n",
       "      <td>0.674387</td>\n",
       "      <td>0.000000</td>\n",
       "      <td>0.450156</td>\n",
       "    </tr>\n",
       "    <tr>\n",
       "      <th>2</th>\n",
       "      <td>56.0</td>\n",
       "      <td>8.0</td>\n",
       "      <td>1.0</td>\n",
       "      <td>1.0</td>\n",
       "      <td>3.0</td>\n",
       "      <td>3.0</td>\n",
       "      <td>0.0</td>\n",
       "      <td>1.0</td>\n",
       "      <td>1.0</td>\n",
       "      <td>3.0</td>\n",
       "      <td>...</td>\n",
       "      <td>0.685714</td>\n",
       "      <td>0.628571</td>\n",
       "      <td>0.250000</td>\n",
       "      <td>1.0</td>\n",
       "      <td>1.0</td>\n",
       "      <td>0.560299</td>\n",
       "      <td>0.706687</td>\n",
       "      <td>0.046980</td>\n",
       "      <td>0.009460</td>\n",
       "      <td>0.011252</td>\n",
       "    </tr>\n",
       "    <tr>\n",
       "      <th>3</th>\n",
       "      <td>49.0</td>\n",
       "      <td>12.0</td>\n",
       "      <td>1.0</td>\n",
       "      <td>5.0</td>\n",
       "      <td>2.0</td>\n",
       "      <td>3.0</td>\n",
       "      <td>0.0</td>\n",
       "      <td>1.0</td>\n",
       "      <td>1.0</td>\n",
       "      <td>1.0</td>\n",
       "      <td>...</td>\n",
       "      <td>0.861111</td>\n",
       "      <td>0.500000</td>\n",
       "      <td>0.300000</td>\n",
       "      <td>1.0</td>\n",
       "      <td>1.0</td>\n",
       "      <td>0.527724</td>\n",
       "      <td>0.418402</td>\n",
       "      <td>0.122034</td>\n",
       "      <td>0.135109</td>\n",
       "      <td>-0.505333</td>\n",
       "    </tr>\n",
       "    <tr>\n",
       "      <th>4</th>\n",
       "      <td>49.0</td>\n",
       "      <td>12.0</td>\n",
       "      <td>1.0</td>\n",
       "      <td>5.0</td>\n",
       "      <td>2.0</td>\n",
       "      <td>3.0</td>\n",
       "      <td>0.0</td>\n",
       "      <td>1.0</td>\n",
       "      <td>1.0</td>\n",
       "      <td>1.0</td>\n",
       "      <td>...</td>\n",
       "      <td>0.861111</td>\n",
       "      <td>0.500000</td>\n",
       "      <td>0.300000</td>\n",
       "      <td>1.0</td>\n",
       "      <td>1.0</td>\n",
       "      <td>0.527724</td>\n",
       "      <td>0.418402</td>\n",
       "      <td>0.122034</td>\n",
       "      <td>0.135109</td>\n",
       "      <td>-0.468488</td>\n",
       "    </tr>\n",
       "    <tr>\n",
       "      <th>6</th>\n",
       "      <td>31.0</td>\n",
       "      <td>5.0</td>\n",
       "      <td>1.0</td>\n",
       "      <td>2.0</td>\n",
       "      <td>0.0</td>\n",
       "      <td>2.0</td>\n",
       "      <td>0.0</td>\n",
       "      <td>1.0</td>\n",
       "      <td>1.0</td>\n",
       "      <td>3.0</td>\n",
       "      <td>...</td>\n",
       "      <td>0.861111</td>\n",
       "      <td>0.500000</td>\n",
       "      <td>0.300000</td>\n",
       "      <td>1.0</td>\n",
       "      <td>1.0</td>\n",
       "      <td>0.450707</td>\n",
       "      <td>0.737649</td>\n",
       "      <td>0.037743</td>\n",
       "      <td>0.067608</td>\n",
       "      <td>0.120401</td>\n",
       "    </tr>\n",
       "    <tr>\n",
       "      <th>...</th>\n",
       "      <td>...</td>\n",
       "      <td>...</td>\n",
       "      <td>...</td>\n",
       "      <td>...</td>\n",
       "      <td>...</td>\n",
       "      <td>...</td>\n",
       "      <td>...</td>\n",
       "      <td>...</td>\n",
       "      <td>...</td>\n",
       "      <td>...</td>\n",
       "      <td>...</td>\n",
       "      <td>...</td>\n",
       "      <td>...</td>\n",
       "      <td>...</td>\n",
       "      <td>...</td>\n",
       "      <td>...</td>\n",
       "      <td>...</td>\n",
       "      <td>...</td>\n",
       "      <td>...</td>\n",
       "      <td>...</td>\n",
       "      <td>...</td>\n",
       "    </tr>\n",
       "    <tr>\n",
       "      <th>3544</th>\n",
       "      <td>52.0</td>\n",
       "      <td>8.0</td>\n",
       "      <td>1.0</td>\n",
       "      <td>1.0</td>\n",
       "      <td>3.0</td>\n",
       "      <td>3.0</td>\n",
       "      <td>0.0</td>\n",
       "      <td>1.0</td>\n",
       "      <td>1.0</td>\n",
       "      <td>4.0</td>\n",
       "      <td>...</td>\n",
       "      <td>0.720000</td>\n",
       "      <td>0.600000</td>\n",
       "      <td>0.000000</td>\n",
       "      <td>1.0</td>\n",
       "      <td>0.0</td>\n",
       "      <td>0.575694</td>\n",
       "      <td>0.584656</td>\n",
       "      <td>0.043516</td>\n",
       "      <td>0.047044</td>\n",
       "      <td>0.432928</td>\n",
       "    </tr>\n",
       "    <tr>\n",
       "      <th>3545</th>\n",
       "      <td>31.0</td>\n",
       "      <td>5.0</td>\n",
       "      <td>2.0</td>\n",
       "      <td>1.0</td>\n",
       "      <td>0.0</td>\n",
       "      <td>2.0</td>\n",
       "      <td>0.0</td>\n",
       "      <td>1.0</td>\n",
       "      <td>1.0</td>\n",
       "      <td>2.0</td>\n",
       "      <td>...</td>\n",
       "      <td>0.720000</td>\n",
       "      <td>0.600000</td>\n",
       "      <td>0.000000</td>\n",
       "      <td>1.0</td>\n",
       "      <td>1.0</td>\n",
       "      <td>0.574574</td>\n",
       "      <td>0.674472</td>\n",
       "      <td>0.037236</td>\n",
       "      <td>0.054894</td>\n",
       "      <td>0.418482</td>\n",
       "    </tr>\n",
       "    <tr>\n",
       "      <th>3546</th>\n",
       "      <td>31.0</td>\n",
       "      <td>5.0</td>\n",
       "      <td>2.0</td>\n",
       "      <td>1.0</td>\n",
       "      <td>0.0</td>\n",
       "      <td>2.0</td>\n",
       "      <td>0.0</td>\n",
       "      <td>1.0</td>\n",
       "      <td>1.0</td>\n",
       "      <td>2.0</td>\n",
       "      <td>...</td>\n",
       "      <td>0.720000</td>\n",
       "      <td>0.600000</td>\n",
       "      <td>0.000000</td>\n",
       "      <td>1.0</td>\n",
       "      <td>1.0</td>\n",
       "      <td>0.574574</td>\n",
       "      <td>0.674472</td>\n",
       "      <td>0.037236</td>\n",
       "      <td>0.054894</td>\n",
       "      <td>0.439541</td>\n",
       "    </tr>\n",
       "    <tr>\n",
       "      <th>3547</th>\n",
       "      <td>49.0</td>\n",
       "      <td>7.0</td>\n",
       "      <td>1.0</td>\n",
       "      <td>1.0</td>\n",
       "      <td>3.0</td>\n",
       "      <td>2.0</td>\n",
       "      <td>0.0</td>\n",
       "      <td>1.0</td>\n",
       "      <td>1.0</td>\n",
       "      <td>1.0</td>\n",
       "      <td>...</td>\n",
       "      <td>0.828829</td>\n",
       "      <td>0.603604</td>\n",
       "      <td>0.233333</td>\n",
       "      <td>1.0</td>\n",
       "      <td>1.0</td>\n",
       "      <td>0.696731</td>\n",
       "      <td>0.713329</td>\n",
       "      <td>0.092144</td>\n",
       "      <td>0.033274</td>\n",
       "      <td>0.035322</td>\n",
       "    </tr>\n",
       "    <tr>\n",
       "      <th>3548</th>\n",
       "      <td>49.0</td>\n",
       "      <td>7.0</td>\n",
       "      <td>1.0</td>\n",
       "      <td>1.0</td>\n",
       "      <td>3.0</td>\n",
       "      <td>2.0</td>\n",
       "      <td>0.0</td>\n",
       "      <td>1.0</td>\n",
       "      <td>1.0</td>\n",
       "      <td>1.0</td>\n",
       "      <td>...</td>\n",
       "      <td>0.828829</td>\n",
       "      <td>0.603604</td>\n",
       "      <td>0.233333</td>\n",
       "      <td>1.0</td>\n",
       "      <td>1.0</td>\n",
       "      <td>0.696731</td>\n",
       "      <td>0.713329</td>\n",
       "      <td>0.092144</td>\n",
       "      <td>0.033274</td>\n",
       "      <td>-0.037089</td>\n",
       "    </tr>\n",
       "  </tbody>\n",
       "</table>\n",
       "<p>3209 rows × 58 columns</p>\n",
       "</div>"
      ],
      "text/plain": [
       "      s1age_head_05  s1hhsize_05  s1hhsz_undr5_05  s1hhsz_5_14_05  \\\n",
       "1              35.0          5.0              1.0             2.0   \n",
       "2              56.0          8.0              1.0             1.0   \n",
       "3              49.0         12.0              1.0             5.0   \n",
       "4              49.0         12.0              1.0             5.0   \n",
       "6              31.0          5.0              1.0             2.0   \n",
       "...             ...          ...              ...             ...   \n",
       "3544           52.0          8.0              1.0             1.0   \n",
       "3545           31.0          5.0              2.0             1.0   \n",
       "3546           31.0          5.0              2.0             1.0   \n",
       "3547           49.0          7.0              1.0             1.0   \n",
       "3548           49.0          7.0              1.0             1.0   \n",
       "\n",
       "      s1hhsz_15_24_05  s1hhsz_25_64_05  s1hhsz_65plus_05  s1male_head_05  \\\n",
       "1                 0.0              2.0               0.0             1.0   \n",
       "2                 3.0              3.0               0.0             1.0   \n",
       "3                 2.0              3.0               0.0             1.0   \n",
       "4                 2.0              3.0               0.0             1.0   \n",
       "6                 0.0              2.0               0.0             1.0   \n",
       "...               ...              ...               ...             ...   \n",
       "3544              3.0              3.0               0.0             1.0   \n",
       "3545              0.0              2.0               0.0             1.0   \n",
       "3546              0.0              2.0               0.0             1.0   \n",
       "3547              3.0              2.0               0.0             1.0   \n",
       "3548              3.0              2.0               0.0             1.0   \n",
       "\n",
       "      s2mother_inhs_05  s3ap5_rooms_h_05  ...  com_vit_05  com_deworm_05  \\\n",
       "1                  1.0               1.0  ...    0.571429       0.285714   \n",
       "2                  1.0               3.0  ...    0.685714       0.628571   \n",
       "3                  1.0               1.0  ...    0.861111       0.500000   \n",
       "4                  1.0               1.0  ...    0.861111       0.500000   \n",
       "6                  1.0               3.0  ...    0.861111       0.500000   \n",
       "...                ...               ...  ...         ...            ...   \n",
       "3544               1.0               4.0  ...    0.720000       0.600000   \n",
       "3545               1.0               2.0  ...    0.720000       0.600000   \n",
       "3546               1.0               2.0  ...    0.720000       0.600000   \n",
       "3547               1.0               1.0  ...    0.828829       0.603604   \n",
       "3548               1.0               1.0  ...    0.828829       0.603604   \n",
       "\n",
       "      com_notvip  sample06  vitamiron_06  propfood_05  prstap_f_05  \\\n",
       "1       0.500000       1.0           0.0     0.678527     0.204472   \n",
       "2       0.250000       1.0           1.0     0.560299     0.706687   \n",
       "3       0.300000       1.0           1.0     0.527724     0.418402   \n",
       "4       0.300000       1.0           1.0     0.527724     0.418402   \n",
       "6       0.300000       1.0           1.0     0.450707     0.737649   \n",
       "...          ...       ...           ...          ...          ...   \n",
       "3544    0.000000       1.0           0.0     0.575694     0.584656   \n",
       "3545    0.000000       1.0           1.0     0.574574     0.674472   \n",
       "3546    0.000000       1.0           1.0     0.574574     0.674472   \n",
       "3547    0.233333       1.0           1.0     0.696731     0.713329   \n",
       "3548    0.233333       1.0           1.0     0.696731     0.713329   \n",
       "\n",
       "      pranimalprot_f_05  prfruitveg_f_05  z_all_06  \n",
       "1              0.674387         0.000000  0.450156  \n",
       "2              0.046980         0.009460  0.011252  \n",
       "3              0.122034         0.135109 -0.505333  \n",
       "4              0.122034         0.135109 -0.468488  \n",
       "6              0.037743         0.067608  0.120401  \n",
       "...                 ...              ...       ...  \n",
       "3544           0.043516         0.047044  0.432928  \n",
       "3545           0.037236         0.054894  0.418482  \n",
       "3546           0.037236         0.054894  0.439541  \n",
       "3547           0.092144         0.033274  0.035322  \n",
       "3548           0.092144         0.033274 -0.037089  \n",
       "\n",
       "[3209 rows x 58 columns]"
      ]
     },
     "execution_count": 38,
     "metadata": {},
     "output_type": "execute_result"
    }
   ],
   "source": [
    "cleaned_df"
   ]
  },
  {
   "cell_type": "code",
   "execution_count": 39,
   "id": "9b62bf97",
   "metadata": {},
   "outputs": [],
   "source": [
    "counterfactual_df=cleaned_df.drop(\"z_all_06\",axis=1)"
   ]
  },
  {
   "cell_type": "code",
   "execution_count": 40,
   "id": "07d3b241",
   "metadata": {},
   "outputs": [
    {
     "data": {
      "text/plain": [
       "1       1.0\n",
       "2       1.0\n",
       "3       1.0\n",
       "4       1.0\n",
       "6       1.0\n",
       "       ... \n",
       "3544    0.0\n",
       "3545    0.0\n",
       "3546    0.0\n",
       "3547    1.0\n",
       "3548    1.0\n",
       "Name: tr, Length: 3209, dtype: float32"
      ]
     },
     "execution_count": 40,
     "metadata": {},
     "output_type": "execute_result"
    }
   ],
   "source": [
    "counterfactual_df.tr"
   ]
  },
  {
   "cell_type": "code",
   "execution_count": 41,
   "id": "05cc3080",
   "metadata": {},
   "outputs": [],
   "source": [
    "a=counterfactual_df[\"tr\"]+1"
   ]
  },
  {
   "cell_type": "code",
   "execution_count": 42,
   "id": "e9feabf3",
   "metadata": {},
   "outputs": [],
   "source": [
    "counterfactual_df[\"tr\"]=a%2"
   ]
  },
  {
   "cell_type": "code",
   "execution_count": 43,
   "id": "9dad02a6",
   "metadata": {},
   "outputs": [
    {
     "data": {
      "text/plain": [
       "1       0.0\n",
       "2       0.0\n",
       "3       0.0\n",
       "4       0.0\n",
       "6       0.0\n",
       "       ... \n",
       "3544    1.0\n",
       "3545    1.0\n",
       "3546    1.0\n",
       "3547    0.0\n",
       "3548    0.0\n",
       "Name: tr, Length: 3209, dtype: float32"
      ]
     },
     "execution_count": 43,
     "metadata": {},
     "output_type": "execute_result"
    }
   ],
   "source": [
    "counterfactual_df.tr"
   ]
  },
  {
   "cell_type": "code",
   "execution_count": 99,
   "id": "3675377c",
   "metadata": {},
   "outputs": [],
   "source": [
    "counterfactual=forest_reg.predict(counterfactual_df)"
   ]
  },
  {
   "cell_type": "code",
   "execution_count": 100,
   "id": "90262d50",
   "metadata": {},
   "outputs": [],
   "source": [
    "observed=cleaned_df[\"z_all_06\"]\n",
    "counterfactuals=pd.Series(counterfactual, index=observed.index)"
   ]
  },
  {
   "cell_type": "code",
   "execution_count": 102,
   "id": "0473f02d",
   "metadata": {},
   "outputs": [
    {
     "data": {
      "text/plain": [
       "1       0.450156\n",
       "2       0.011252\n",
       "3      -0.505333\n",
       "4      -0.468488\n",
       "6       0.120401\n",
       "          ...   \n",
       "3544    0.432928\n",
       "3545    0.418482\n",
       "3546    0.439541\n",
       "3547    0.035322\n",
       "3548   -0.037089\n",
       "Name: z_all_06, Length: 3209, dtype: float32"
      ]
     },
     "execution_count": 102,
     "metadata": {},
     "output_type": "execute_result"
    }
   ],
   "source": [
    "observed"
   ]
  },
  {
   "cell_type": "code",
   "execution_count": 184,
   "id": "9eea8cba",
   "metadata": {},
   "outputs": [],
   "source": [
    "ite_temp=pd.Series([observed[i]-counterfactuals[i] for i in observed.index if cleaned_df.tr[i]==1], index=cleaned_df[cleaned_df.tr==1].index)\n",
    "ite_temp1=pd.Series([counterfactuals[i]-observed[i] for i in observed.index if cleaned_df.tr[i]==0], index=cleaned_df[cleaned_df.tr==0].index)\n",
    "ite=pd.concat([ite_temp,ite_temp1])\n",
    "ite.sort_index(inplace=True)"
   ]
  },
  {
   "cell_type": "code",
   "execution_count": 185,
   "id": "0a2c9c8b",
   "metadata": {},
   "outputs": [
    {
     "data": {
      "text/plain": [
       "count    3209.000000\n",
       "mean        0.093979\n",
       "std         0.489267\n",
       "min        -3.511709\n",
       "25%        -0.181556\n",
       "50%         0.115594\n",
       "75%         0.392617\n",
       "max         2.547441\n",
       "dtype: float64"
      ]
     },
     "execution_count": 185,
     "metadata": {},
     "output_type": "execute_result"
    }
   ],
   "source": [
    "ite.describe()"
   ]
  },
  {
   "cell_type": "code",
   "execution_count": 186,
   "id": "9637ac18",
   "metadata": {},
   "outputs": [
    {
     "data": {
      "text/plain": [
       "<AxesSubplot:ylabel='Count'>"
      ]
     },
     "execution_count": 186,
     "metadata": {},
     "output_type": "execute_result"
    },
    {
     "data": {
      "image/png": "[encoded data removed]",
      "text/plain": [
       "<Figure size 432x288 with 1 Axes>"
      ]
     },
     "metadata": {
      "needs_background": "light"
     },
     "output_type": "display_data"
    }
   ],
   "source": [
    "import seaborn as sb\n",
    "\n",
    "sb.histplot(ite)"
   ]
  },
  {
   "cell_type": "code",
   "execution_count": 49,
   "id": "a97733f1",
   "metadata": {},
   "outputs": [
    {
     "data": {
      "text/plain": [
       "count    3209.000000\n",
       "mean        0.041547\n",
       "std         0.588593\n",
       "min        -6.785845\n",
       "25%        -0.247309\n",
       "50%         0.104151\n",
       "75%         0.405594\n",
       "max         2.354861\n",
       "Name: z_all_06, dtype: float64"
      ]
     },
     "execution_count": 49,
     "metadata": {},
     "output_type": "execute_result"
    }
   ],
   "source": [
    "cleaned_df.z_all_06.describe()"
   ]
  },
  {
   "cell_type": "markdown",
   "id": "d3c49300",
   "metadata": {},
   "source": [
    "NO CONSIDERAR: ite amb counterfactual i observed predits pel model"
   ]
  },
  {
   "cell_type": "code",
   "execution_count": 117,
   "id": "5d0ccee9",
   "metadata": {},
   "outputs": [],
   "source": [
    "observed_df=cleaned_df.drop(\"z_all_06\",axis=1)\n",
    "observed_predict=forest_reg.predict(observed_df)\n",
    "observed_predict=pd.Series(observed_predict, index=observed_df.index)"
   ]
  },
  {
   "cell_type": "code",
   "execution_count": 118,
   "id": "0d6ed0ab",
   "metadata": {},
   "outputs": [],
   "source": [
    "ite1=[observed_predict[i]-counterfactuals[i] for i in observed_predict.index if cleaned_df.tr[i]==1]+[counterfactuals[i]-observed_predict[i] for i in observed_predict.index if cleaned_df.tr[i]==0 ]"
   ]
  },
  {
   "cell_type": "code",
   "execution_count": 121,
   "id": "184ad4ea",
   "metadata": {},
   "outputs": [
    {
     "data": {
      "text/plain": [
       "count    3209.000000\n",
       "mean       -0.000477\n",
       "std         0.036231\n",
       "min        -0.323135\n",
       "25%        -0.003446\n",
       "50%         0.000000\n",
       "75%         0.008464\n",
       "max         0.145475\n",
       "dtype: float64"
      ]
     },
     "execution_count": 121,
     "metadata": {},
     "output_type": "execute_result"
    }
   ],
   "source": [
    "ite1=pd.Series(ite1, index=cleaned_df.index)\n",
    "ite1.describe()"
   ]
  },
  {
   "cell_type": "code",
   "execution_count": 123,
   "id": "faceb986",
   "metadata": {},
   "outputs": [
    {
     "data": {
      "text/plain": [
       "<AxesSubplot:ylabel='Count'>"
      ]
     },
     "execution_count": 123,
     "metadata": {},
     "output_type": "execute_result"
    },
    {
     "data": {
      "image/png": "[encoded data removed]",
      "text/plain": [
       "<Figure size 432x288 with 1 Axes>"
      ]
     },
     "metadata": {
      "needs_background": "light"
     },
     "output_type": "display_data"
    }
   ],
   "source": [
    "sb.histplot(ite1)"
   ]
  },
  {
   "cell_type": "code",
   "execution_count": 124,
   "id": "21b8cdbb",
   "metadata": {},
   "outputs": [
    {
     "data": {
      "text/plain": [
       " 0.000000    1193\n",
       "-0.013396      22\n",
       " 0.000436      20\n",
       "-0.034386      19\n",
       "-0.006040      16\n",
       "             ... \n",
       "-0.018917       1\n",
       "-0.015859       1\n",
       " 0.016669       1\n",
       "-0.010926       1\n",
       "-0.013396       1\n",
       "Length: 1295, dtype: int64"
      ]
     },
     "execution_count": 124,
     "metadata": {},
     "output_type": "execute_result"
    }
   ],
   "source": [
    "ite1.value_counts()"
   ]
  },
  {
   "cell_type": "markdown",
   "id": "40087ab7",
   "metadata": {},
   "source": [
    "### ESTRATIFICACIO ITE"
   ]
  },
  {
   "cell_type": "markdown",
   "id": "ced005c0",
   "metadata": {},
   "source": [
    "Quartils i std.\n",
    "\n",
    "1. Separem <=q25, q25<...<=q50, q50<=q75, q75<\n",
    "2. STD"
   ]
  },
  {
   "cell_type": "code",
   "execution_count": 187,
   "id": "00533b58",
   "metadata": {},
   "outputs": [],
   "source": [
    "quartils=ite.quantile([0.25,0.5, 0.75])"
   ]
  },
  {
   "cell_type": "code",
   "execution_count": 188,
   "id": "2e8556b1",
   "metadata": {},
   "outputs": [],
   "source": [
    "ite0=ite[ite<=quartils.iloc[0]]"
   ]
  },
  {
   "cell_type": "code",
   "execution_count": 189,
   "id": "08767691",
   "metadata": {},
   "outputs": [],
   "source": [
    "ite1=ite[ite<=quartils.iloc[1]]\n",
    "ite1.drop(ite0.index, inplace=True)"
   ]
  },
  {
   "cell_type": "code",
   "execution_count": 190,
   "id": "553ca5ef",
   "metadata": {},
   "outputs": [],
   "source": [
    "ite2=ite[ite<=quartils.iloc[2]]\n",
    "ite2.drop(ite0.index, inplace=True)\n",
    "ite2.drop(ite1.index, inplace=True)"
   ]
  },
  {
   "cell_type": "code",
   "execution_count": 191,
   "id": "ebdb748d",
   "metadata": {},
   "outputs": [],
   "source": [
    "ite3=ite.copy()\n",
    "ite3.drop(ite0.index, inplace=True)\n",
    "ite3.drop(ite1.index, inplace=True)\n",
    "ite3.drop(ite2.index, inplace=True)"
   ]
  },
  {
   "cell_type": "code",
   "execution_count": 212,
   "id": "6ac87e17",
   "metadata": {},
   "outputs": [],
   "source": [
    "ite0_df=cleaned_df.loc[ite0.index]\n",
    "ite1_df=cleaned_df.loc[ite1.index]\n",
    "ite2_df=cleaned_df.loc[ite2.index]\n",
    "ite3_df=cleaned_df.loc[ite3.index]"
   ]
  },
  {
   "cell_type": "code",
   "execution_count": 249,
   "id": "55110a90",
   "metadata": {},
   "outputs": [],
   "source": [
    "shap=[[stats.shapiro(ite0_df[col].values).pvalue for col in normal_cols],\n",
    "        [stats.shapiro(ite1_df[col].values).pvalue for col in normal_cols],\n",
    "        [stats.shapiro(ite2_df[col].values).pvalue for col in normal_cols],\n",
    "        [stats.shapiro(ite3_df[col].values).pvalue for col in normal_cols]]\n",
    "\n",
    "shap_df=pd.DataFrame(shap,columns=normal_cols)"
   ]
  },
  {
   "cell_type": "code",
   "execution_count": 251,
   "id": "44bb57a4",
   "metadata": {},
   "outputs": [
    {
     "data": {
      "text/html": [
       "<div>\n",
       "<style scoped>\n",
       "    .dataframe tbody tr th:only-of-type {\n",
       "        vertical-align: middle;\n",
       "    }\n",
       "\n",
       "    .dataframe tbody tr th {\n",
       "        vertical-align: top;\n",
       "    }\n",
       "\n",
       "    .dataframe thead th {\n",
       "        text-align: right;\n",
       "    }\n",
       "</style>\n",
       "<table border=\"1\" class=\"dataframe\">\n",
       "  <thead>\n",
       "    <tr style=\"text-align: right;\">\n",
       "      <th></th>\n",
       "      <th>height_05</th>\n",
       "      <th>a10whz_05</th>\n",
       "      <th>weight_05</th>\n",
       "      <th>com_haz_05</th>\n",
       "      <th>com_waz_05</th>\n",
       "    </tr>\n",
       "  </thead>\n",
       "  <tbody>\n",
       "    <tr>\n",
       "      <th>0</th>\n",
       "      <td>1.692938e-20</td>\n",
       "      <td>7.999157e-21</td>\n",
       "      <td>5.900706e-23</td>\n",
       "      <td>4.731629e-08</td>\n",
       "      <td>4.332452e-05</td>\n",
       "    </tr>\n",
       "    <tr>\n",
       "      <th>1</th>\n",
       "      <td>1.068471e-17</td>\n",
       "      <td>2.055897e-20</td>\n",
       "      <td>1.974264e-18</td>\n",
       "      <td>6.929594e-08</td>\n",
       "      <td>6.752737e-05</td>\n",
       "    </tr>\n",
       "    <tr>\n",
       "      <th>2</th>\n",
       "      <td>4.455937e-18</td>\n",
       "      <td>5.056334e-15</td>\n",
       "      <td>9.587839e-20</td>\n",
       "      <td>2.340285e-11</td>\n",
       "      <td>6.823386e-07</td>\n",
       "    </tr>\n",
       "    <tr>\n",
       "      <th>3</th>\n",
       "      <td>2.079285e-16</td>\n",
       "      <td>7.975345e-17</td>\n",
       "      <td>1.450469e-14</td>\n",
       "      <td>1.624672e-10</td>\n",
       "      <td>1.016494e-07</td>\n",
       "    </tr>\n",
       "  </tbody>\n",
       "</table>\n",
       "</div>"
      ],
      "text/plain": [
       "      height_05     a10whz_05     weight_05    com_haz_05    com_waz_05\n",
       "0  1.692938e-20  7.999157e-21  5.900706e-23  4.731629e-08  4.332452e-05\n",
       "1  1.068471e-17  2.055897e-20  1.974264e-18  6.929594e-08  6.752737e-05\n",
       "2  4.455937e-18  5.056334e-15  9.587839e-20  2.340285e-11  6.823386e-07\n",
       "3  2.079285e-16  7.975345e-17  1.450469e-14  1.624672e-10  1.016494e-07"
      ]
     },
     "execution_count": 251,
     "metadata": {},
     "output_type": "execute_result"
    }
   ],
   "source": [
    "#fem el test de shapiro a els subgrups (generats al estratificar la ite en quartils) de les variables normals. \n",
    "#Surt normalitat arreu, aixi que si tenen desv std entre ells normals, podrem aplicar t-tests per comprovar \n",
    "#si les mitjanes son iguals\n",
    "shap_df"
   ]
  },
  {
   "cell_type": "code",
   "execution_count": 253,
   "id": "ac4ffd67",
   "metadata": {},
   "outputs": [],
   "source": [
    "std=[[np.std(ite0_df[col].values) for col in normal_cols],\n",
    "        [np.std(ite1_df[col].values) for col in normal_cols],\n",
    "        [np.std(ite2_df[col].values) for col in normal_cols],\n",
    "        [np.std(ite3_df[col].values) for col in normal_cols]]\n",
    "std_df=pd.DataFrame(std,columns=normal_cols)"
   ]
  },
  {
   "cell_type": "code",
   "execution_count": 254,
   "id": "69ba575a",
   "metadata": {},
   "outputs": [
    {
     "data": {
      "text/html": [
       "<div>\n",
       "<style scoped>\n",
       "    .dataframe tbody tr th:only-of-type {\n",
       "        vertical-align: middle;\n",
       "    }\n",
       "\n",
       "    .dataframe tbody tr th {\n",
       "        vertical-align: top;\n",
       "    }\n",
       "\n",
       "    .dataframe thead th {\n",
       "        text-align: right;\n",
       "    }\n",
       "</style>\n",
       "<table border=\"1\" class=\"dataframe\">\n",
       "  <thead>\n",
       "    <tr style=\"text-align: right;\">\n",
       "      <th></th>\n",
       "      <th>height_05</th>\n",
       "      <th>a10whz_05</th>\n",
       "      <th>weight_05</th>\n",
       "      <th>com_haz_05</th>\n",
       "      <th>com_waz_05</th>\n",
       "    </tr>\n",
       "  </thead>\n",
       "  <tbody>\n",
       "    <tr>\n",
       "      <th>0</th>\n",
       "      <td>1.051912</td>\n",
       "      <td>0.948997</td>\n",
       "      <td>1.157040</td>\n",
       "      <td>0.535744</td>\n",
       "      <td>0.486789</td>\n",
       "    </tr>\n",
       "    <tr>\n",
       "      <th>1</th>\n",
       "      <td>0.973054</td>\n",
       "      <td>0.928258</td>\n",
       "      <td>1.024248</td>\n",
       "      <td>0.515012</td>\n",
       "      <td>0.461553</td>\n",
       "    </tr>\n",
       "    <tr>\n",
       "      <th>2</th>\n",
       "      <td>1.022051</td>\n",
       "      <td>0.844274</td>\n",
       "      <td>1.068762</td>\n",
       "      <td>0.521360</td>\n",
       "      <td>0.447696</td>\n",
       "    </tr>\n",
       "    <tr>\n",
       "      <th>3</th>\n",
       "      <td>1.241987</td>\n",
       "      <td>0.945313</td>\n",
       "      <td>1.268203</td>\n",
       "      <td>0.524768</td>\n",
       "      <td>0.448712</td>\n",
       "    </tr>\n",
       "  </tbody>\n",
       "</table>\n",
       "</div>"
      ],
      "text/plain": [
       "   height_05  a10whz_05  weight_05  com_haz_05  com_waz_05\n",
       "0   1.051912   0.948997   1.157040    0.535744    0.486789\n",
       "1   0.973054   0.928258   1.024248    0.515012    0.461553\n",
       "2   1.022051   0.844274   1.068762    0.521360    0.447696\n",
       "3   1.241987   0.945313   1.268203    0.524768    0.448712"
      ]
     },
     "execution_count": 254,
     "metadata": {},
     "output_type": "execute_result"
    }
   ],
   "source": [
    "std_df"
   ]
  },
  {
   "cell_type": "code",
   "execution_count": 225,
   "id": "8b366e61",
   "metadata": {},
   "outputs": [
    {
     "data": {
      "text/html": [
       "<div>\n",
       "<style scoped>\n",
       "    .dataframe tbody tr th:only-of-type {\n",
       "        vertical-align: middle;\n",
       "    }\n",
       "\n",
       "    .dataframe tbody tr th {\n",
       "        vertical-align: top;\n",
       "    }\n",
       "\n",
       "    .dataframe thead th {\n",
       "        text-align: right;\n",
       "    }\n",
       "</style>\n",
       "<table border=\"1\" class=\"dataframe\">\n",
       "  <thead>\n",
       "    <tr style=\"text-align: right;\">\n",
       "      <th></th>\n",
       "      <th>height_05</th>\n",
       "      <th>a10whz_05</th>\n",
       "      <th>weight_05</th>\n",
       "      <th>com_haz_05</th>\n",
       "      <th>com_waz_05</th>\n",
       "    </tr>\n",
       "  </thead>\n",
       "  <tbody>\n",
       "    <tr>\n",
       "      <th>count</th>\n",
       "      <td>803.000000</td>\n",
       "      <td>803.000000</td>\n",
       "      <td>803.000000</td>\n",
       "      <td>803.000000</td>\n",
       "      <td>803.000000</td>\n",
       "    </tr>\n",
       "    <tr>\n",
       "      <th>mean</th>\n",
       "      <td>-1.159026</td>\n",
       "      <td>-0.173930</td>\n",
       "      <td>-0.974409</td>\n",
       "      <td>-1.200500</td>\n",
       "      <td>-0.977829</td>\n",
       "    </tr>\n",
       "    <tr>\n",
       "      <th>std</th>\n",
       "      <td>1.052567</td>\n",
       "      <td>0.949587</td>\n",
       "      <td>1.157759</td>\n",
       "      <td>0.536077</td>\n",
       "      <td>0.487092</td>\n",
       "    </tr>\n",
       "    <tr>\n",
       "      <th>min</th>\n",
       "      <td>-5.587734</td>\n",
       "      <td>-5.823857</td>\n",
       "      <td>-5.136597</td>\n",
       "      <td>-2.323237</td>\n",
       "      <td>-2.374005</td>\n",
       "    </tr>\n",
       "    <tr>\n",
       "      <th>25%</th>\n",
       "      <td>-1.548416</td>\n",
       "      <td>-0.527920</td>\n",
       "      <td>-1.452437</td>\n",
       "      <td>-1.537984</td>\n",
       "      <td>-1.321717</td>\n",
       "    </tr>\n",
       "    <tr>\n",
       "      <th>50%</th>\n",
       "      <td>-1.213941</td>\n",
       "      <td>-0.169167</td>\n",
       "      <td>-1.013034</td>\n",
       "      <td>-1.204403</td>\n",
       "      <td>-0.987693</td>\n",
       "    </tr>\n",
       "    <tr>\n",
       "      <th>75%</th>\n",
       "      <td>-0.806143</td>\n",
       "      <td>0.136461</td>\n",
       "      <td>-0.622533</td>\n",
       "      <td>-0.883109</td>\n",
       "      <td>-0.644499</td>\n",
       "    </tr>\n",
       "    <tr>\n",
       "      <th>max</th>\n",
       "      <td>4.332216</td>\n",
       "      <td>4.850458</td>\n",
       "      <td>5.628351</td>\n",
       "      <td>0.504012</td>\n",
       "      <td>0.829595</td>\n",
       "    </tr>\n",
       "  </tbody>\n",
       "</table>\n",
       "</div>"
      ],
      "text/plain": [
       "        height_05   a10whz_05   weight_05  com_haz_05  com_waz_05\n",
       "count  803.000000  803.000000  803.000000  803.000000  803.000000\n",
       "mean    -1.159026   -0.173930   -0.974409   -1.200500   -0.977829\n",
       "std      1.052567    0.949587    1.157759    0.536077    0.487092\n",
       "min     -5.587734   -5.823857   -5.136597   -2.323237   -2.374005\n",
       "25%     -1.548416   -0.527920   -1.452437   -1.537984   -1.321717\n",
       "50%     -1.213941   -0.169167   -1.013034   -1.204403   -0.987693\n",
       "75%     -0.806143    0.136461   -0.622533   -0.883109   -0.644499\n",
       "max      4.332216    4.850458    5.628351    0.504012    0.829595"
      ]
     },
     "execution_count": 225,
     "metadata": {},
     "output_type": "execute_result"
    }
   ],
   "source": [
    "ite0_df[normal_cols].describe()"
   ]
  },
  {
   "cell_type": "code",
   "execution_count": 226,
   "id": "39da1fcc",
   "metadata": {},
   "outputs": [
    {
     "data": {
      "text/html": [
       "<div>\n",
       "<style scoped>\n",
       "    .dataframe tbody tr th:only-of-type {\n",
       "        vertical-align: middle;\n",
       "    }\n",
       "\n",
       "    .dataframe tbody tr th {\n",
       "        vertical-align: top;\n",
       "    }\n",
       "\n",
       "    .dataframe thead th {\n",
       "        text-align: right;\n",
       "    }\n",
       "</style>\n",
       "<table border=\"1\" class=\"dataframe\">\n",
       "  <thead>\n",
       "    <tr style=\"text-align: right;\">\n",
       "      <th></th>\n",
       "      <th>height_05</th>\n",
       "      <th>a10whz_05</th>\n",
       "      <th>weight_05</th>\n",
       "      <th>com_haz_05</th>\n",
       "      <th>com_waz_05</th>\n",
       "    </tr>\n",
       "  </thead>\n",
       "  <tbody>\n",
       "    <tr>\n",
       "      <th>count</th>\n",
       "      <td>802.000000</td>\n",
       "      <td>802.000000</td>\n",
       "      <td>802.000000</td>\n",
       "      <td>802.000000</td>\n",
       "      <td>802.000000</td>\n",
       "    </tr>\n",
       "    <tr>\n",
       "      <th>mean</th>\n",
       "      <td>-1.276148</td>\n",
       "      <td>-0.101024</td>\n",
       "      <td>-1.040323</td>\n",
       "      <td>-1.260586</td>\n",
       "      <td>-1.050950</td>\n",
       "    </tr>\n",
       "    <tr>\n",
       "      <th>std</th>\n",
       "      <td>1.242762</td>\n",
       "      <td>0.945902</td>\n",
       "      <td>1.268994</td>\n",
       "      <td>0.525096</td>\n",
       "      <td>0.448992</td>\n",
       "    </tr>\n",
       "    <tr>\n",
       "      <th>min</th>\n",
       "      <td>-5.690308</td>\n",
       "      <td>-4.034855</td>\n",
       "      <td>-5.669209</td>\n",
       "      <td>-2.323237</td>\n",
       "      <td>-2.374005</td>\n",
       "    </tr>\n",
       "    <tr>\n",
       "      <th>25%</th>\n",
       "      <td>-1.717241</td>\n",
       "      <td>-0.479922</td>\n",
       "      <td>-1.570520</td>\n",
       "      <td>-1.737182</td>\n",
       "      <td>-1.397898</td>\n",
       "    </tr>\n",
       "    <tr>\n",
       "      <th>50%</th>\n",
       "      <td>-1.213941</td>\n",
       "      <td>-0.169167</td>\n",
       "      <td>-1.013034</td>\n",
       "      <td>-1.252950</td>\n",
       "      <td>-1.062930</td>\n",
       "    </tr>\n",
       "    <tr>\n",
       "      <th>75%</th>\n",
       "      <td>-0.762598</td>\n",
       "      <td>0.312019</td>\n",
       "      <td>-0.429225</td>\n",
       "      <td>-0.896829</td>\n",
       "      <td>-0.750683</td>\n",
       "    </tr>\n",
       "    <tr>\n",
       "      <th>max</th>\n",
       "      <td>5.101172</td>\n",
       "      <td>3.731095</td>\n",
       "      <td>4.137001</td>\n",
       "      <td>0.504012</td>\n",
       "      <td>0.322270</td>\n",
       "    </tr>\n",
       "  </tbody>\n",
       "</table>\n",
       "</div>"
      ],
      "text/plain": [
       "        height_05   a10whz_05   weight_05  com_haz_05  com_waz_05\n",
       "count  802.000000  802.000000  802.000000  802.000000  802.000000\n",
       "mean    -1.276148   -0.101024   -1.040323   -1.260586   -1.050950\n",
       "std      1.242762    0.945902    1.268994    0.525096    0.448992\n",
       "min     -5.690308   -4.034855   -5.669209   -2.323237   -2.374005\n",
       "25%     -1.717241   -0.479922   -1.570520   -1.737182   -1.397898\n",
       "50%     -1.213941   -0.169167   -1.013034   -1.252950   -1.062930\n",
       "75%     -0.762598    0.312019   -0.429225   -0.896829   -0.750683\n",
       "max      5.101172    3.731095    4.137001    0.504012    0.322270"
      ]
     },
     "execution_count": 226,
     "metadata": {},
     "output_type": "execute_result"
    }
   ],
   "source": [
    "ite3_df[normal_cols].describe()"
   ]
  },
  {
   "cell_type": "code",
   "execution_count": 264,
   "id": "4cf11aa9",
   "metadata": {},
   "outputs": [],
   "source": [
    "import scipy\n",
    "from scipy import stats\n",
    "    \n",
    "ttestp_df=[[stats.ttest_ind(ite1_df[col].values, ite0_df[col].values).pvalue for col in normal_cols],\n",
    "          [stats.ttest_ind(ite2_df[col].values, ite0_df[col].values).pvalue for col in normal_cols],\n",
    "          [stats.ttest_ind(ite3_df[col].values, ite0_df[col].values).pvalue for col in normal_cols],\n",
    "          [stats.ttest_ind(ite2_df[col].values, ite1_df[col].values).pvalue for col in normal_cols],\n",
    "          [stats.ttest_ind(ite3_df[col].values, ite1_df[col].values).pvalue for col in normal_cols],\n",
    "          [stats.ttest_ind(ite3_df[col].values, ite2_df[col].values).pvalue for col in normal_cols]\n",
    "         ]\n",
    "ttest_df=pd.DataFrame(ttestp_df,columns=normal_cols, index=[\"0-1\",\"0-2\",\"0-3\",\"1-2\",\"1-3\",\"2-3\"])"
   ]
  },
  {
   "cell_type": "code",
   "execution_count": 266,
   "id": "24db93f0",
   "metadata": {},
   "outputs": [
    {
     "data": {
      "text/html": [
       "<style type=\"text/css\">\n",
       "#T_5006a_row0_col0 {\n",
       "  background-color: #f2f8fd;\n",
       "  color: #000000;\n",
       "}\n",
       "#T_5006a_row0_col1 {\n",
       "  background-color: #6fb0d7;\n",
       "  color: #f1f1f1;\n",
       "}\n",
       "#T_5006a_row0_col2, #T_5006a_row2_col0, #T_5006a_row2_col3, #T_5006a_row2_col4, #T_5006a_row4_col1 {\n",
       "  background-color: #f7fbff;\n",
       "  color: #000000;\n",
       "}\n",
       "#T_5006a_row0_col3, #T_5006a_row1_col1, #T_5006a_row1_col2, #T_5006a_row3_col4, #T_5006a_row4_col0 {\n",
       "  background-color: #08306b;\n",
       "  color: #f1f1f1;\n",
       "}\n",
       "#T_5006a_row0_col4 {\n",
       "  background-color: #9cc9e1;\n",
       "  color: #000000;\n",
       "}\n",
       "#T_5006a_row1_col0 {\n",
       "  background-color: #d3e4f3;\n",
       "  color: #000000;\n",
       "}\n",
       "#T_5006a_row1_col3 {\n",
       "  background-color: #7ab6d9;\n",
       "  color: #000000;\n",
       "}\n",
       "#T_5006a_row1_col4 {\n",
       "  background-color: #edf4fc;\n",
       "  color: #000000;\n",
       "}\n",
       "#T_5006a_row2_col1 {\n",
       "  background-color: #d2e3f3;\n",
       "  color: #000000;\n",
       "}\n",
       "#T_5006a_row2_col2 {\n",
       "  background-color: #a9cfe5;\n",
       "  color: #000000;\n",
       "}\n",
       "#T_5006a_row3_col0 {\n",
       "  background-color: #08468b;\n",
       "  color: #f1f1f1;\n",
       "}\n",
       "#T_5006a_row3_col1 {\n",
       "  background-color: #d6e6f4;\n",
       "  color: #000000;\n",
       "}\n",
       "#T_5006a_row3_col2 {\n",
       "  background-color: #d6e5f4;\n",
       "  color: #000000;\n",
       "}\n",
       "#T_5006a_row3_col3 {\n",
       "  background-color: #084387;\n",
       "  color: #f1f1f1;\n",
       "}\n",
       "#T_5006a_row4_col2 {\n",
       "  background-color: #084488;\n",
       "  color: #f1f1f1;\n",
       "}\n",
       "#T_5006a_row4_col3 {\n",
       "  background-color: #e7f1fa;\n",
       "  color: #000000;\n",
       "}\n",
       "#T_5006a_row4_col4 {\n",
       "  background-color: #cee0f2;\n",
       "  color: #000000;\n",
       "}\n",
       "#T_5006a_row5_col0 {\n",
       "  background-color: #4b98ca;\n",
       "  color: #f1f1f1;\n",
       "}\n",
       "#T_5006a_row5_col1 {\n",
       "  background-color: #8dc1dd;\n",
       "  color: #000000;\n",
       "}\n",
       "#T_5006a_row5_col2 {\n",
       "  background-color: #2e7ebc;\n",
       "  color: #f1f1f1;\n",
       "}\n",
       "#T_5006a_row5_col3 {\n",
       "  background-color: #b2d2e8;\n",
       "  color: #000000;\n",
       "}\n",
       "#T_5006a_row5_col4 {\n",
       "  background-color: #084285;\n",
       "  color: #f1f1f1;\n",
       "}\n",
       "</style>\n",
       "<table id=\"T_5006a\">\n",
       "  <thead>\n",
       "    <tr>\n",
       "      <th class=\"blank level0\" >&nbsp;</th>\n",
       "      <th id=\"T_5006a_level0_col0\" class=\"col_heading level0 col0\" >height_05</th>\n",
       "      <th id=\"T_5006a_level0_col1\" class=\"col_heading level0 col1\" >a10whz_05</th>\n",
       "      <th id=\"T_5006a_level0_col2\" class=\"col_heading level0 col2\" >weight_05</th>\n",
       "      <th id=\"T_5006a_level0_col3\" class=\"col_heading level0 col3\" >com_haz_05</th>\n",
       "      <th id=\"T_5006a_level0_col4\" class=\"col_heading level0 col4\" >com_waz_05</th>\n",
       "    </tr>\n",
       "  </thead>\n",
       "  <tbody>\n",
       "    <tr>\n",
       "      <th id=\"T_5006a_level0_row0\" class=\"row_heading level0 row0\" >0-1</th>\n",
       "      <td id=\"T_5006a_row0_col0\" class=\"data row0 col0\" >0.058928</td>\n",
       "      <td id=\"T_5006a_row0_col1\" class=\"data row0 col1\" >0.305725</td>\n",
       "      <td id=\"T_5006a_row0_col2\" class=\"data row0 col2\" >0.081145</td>\n",
       "      <td id=\"T_5006a_row0_col3\" class=\"data row0 col3\" >0.620384</td>\n",
       "      <td id=\"T_5006a_row0_col4\" class=\"data row0 col4\" >0.153247</td>\n",
       "    </tr>\n",
       "    <tr>\n",
       "      <th id=\"T_5006a_level0_row1\" class=\"row_heading level0 row1\" >0-2</th>\n",
       "      <td id=\"T_5006a_row1_col0\" class=\"data row1 col0\" >0.160772</td>\n",
       "      <td id=\"T_5006a_row1_col1\" class=\"data row1 col1\" >0.615128</td>\n",
       "      <td id=\"T_5006a_row1_col2\" class=\"data row1 col2\" >0.654499</td>\n",
       "      <td id=\"T_5006a_row1_col3\" class=\"data row1 col3\" >0.298979</td>\n",
       "      <td id=\"T_5006a_row1_col4\" class=\"data row1 col4\" >0.023228</td>\n",
       "    </tr>\n",
       "    <tr>\n",
       "      <th id=\"T_5006a_level0_row2\" class=\"row_heading level0 row2\" >0-3</th>\n",
       "      <td id=\"T_5006a_row2_col0\" class=\"data row2 col0\" >0.041777</td>\n",
       "      <td id=\"T_5006a_row2_col1\" class=\"data row2 col1\" >0.123538</td>\n",
       "      <td id=\"T_5006a_row2_col2\" class=\"data row2 col2\" >0.277192</td>\n",
       "      <td id=\"T_5006a_row2_col3\" class=\"data row2 col3\" >0.023443</td>\n",
       "      <td id=\"T_5006a_row2_col4\" class=\"data row2 col4\" >0.001799</td>\n",
       "    </tr>\n",
       "    <tr>\n",
       "      <th id=\"T_5006a_level0_row3\" class=\"row_heading level0 row3\" >1-2</th>\n",
       "      <td id=\"T_5006a_row3_col0\" class=\"data row3 col0\" >0.644981</td>\n",
       "      <td id=\"T_5006a_row3_col1\" class=\"data row3 col1\" >0.111466</td>\n",
       "      <td id=\"T_5006a_row3_col2\" class=\"data row3 col2\" >0.178779</td>\n",
       "      <td id=\"T_5006a_row3_col3\" class=\"data row3 col3\" >0.577409</td>\n",
       "      <td id=\"T_5006a_row3_col4\" class=\"data row3 col4\" >0.397782</td>\n",
       "    </tr>\n",
       "    <tr>\n",
       "      <th id=\"T_5006a_level0_row4\" class=\"row_heading level0 row4\" >1-3</th>\n",
       "      <td id=\"T_5006a_row4_col0\" class=\"data row4 col0\" >0.700412</td>\n",
       "      <td id=\"T_5006a_row4_col1\" class=\"data row4 col1\" >0.009863</td>\n",
       "      <td id=\"T_5006a_row4_col2\" class=\"data row4 col2\" >0.610473</td>\n",
       "      <td id=\"T_5006a_row4_col3\" class=\"data row4 col3\" >0.070128</td>\n",
       "      <td id=\"T_5006a_row4_col4\" class=\"data row4 col4\" >0.084473</td>\n",
       "    </tr>\n",
       "    <tr>\n",
       "      <th id=\"T_5006a_level0_row5\" class=\"row_heading level0 row5\" >2-3</th>\n",
       "      <td id=\"T_5006a_row5_col0\" class=\"data row5 col0\" >0.434445</td>\n",
       "      <td id=\"T_5006a_row5_col1\" class=\"data row5 col1\" >0.261115</td>\n",
       "      <td id=\"T_5006a_row5_col2\" class=\"data row5 col2\" >0.484147</td>\n",
       "      <td id=\"T_5006a_row5_col3\" class=\"data row5 col3\" >0.211750</td>\n",
       "      <td id=\"T_5006a_row5_col4\" class=\"data row5 col4\" >0.370812</td>\n",
       "    </tr>\n",
       "  </tbody>\n",
       "</table>\n"
      ],
      "text/plain": [
       "<pandas.io.formats.style.Styler at 0x28ff63fcbe0>"
      ]
     },
     "execution_count": 266,
     "metadata": {},
     "output_type": "execute_result"
    }
   ],
   "source": [
    "#si p<0.05 podem assumir que les mitjanes son diferents (descartem la hipotesi nulla)\n",
    "ttest_df.style.background_gradient(cmap=\"Blues\")"
   ]
  },
  {
   "cell_type": "code",
   "execution_count": null,
   "id": "c2a63e80",
   "metadata": {},
   "outputs": [],
   "source": []
  }
 ],
 "metadata": {
  "kernelspec": {
   "display_name": "Python 3 (ipykernel)",
   "language": "python",
   "name": "python3"
  },
  "language_info": {
   "codemirror_mode": {
    "name": "ipython",
    "version": 3
   },
   "file_extension": ".py",
   "mimetype": "text/x-python",
   "name": "python",
   "nbconvert_exporter": "python",
   "pygments_lexer": "ipython3",
   "version": "3.8.8"
  }
 },
 "nbformat": 4,
 "nbformat_minor": 5
}
