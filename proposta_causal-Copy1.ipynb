{
 "cells": [
  {
   "cell_type": "code",
   "execution_count": 2,
   "id": "8b33a126",
   "metadata": {},
   "outputs": [],
   "source": [
    "import pandas as pd\n",
    "import matplotlib.pyplot as plt\n",
    "import numpy as np\n",
    "import sklearn "
   ]
  },
  {
   "cell_type": "code",
   "execution_count": 3,
   "id": "5c4ce38f",
   "metadata": {},
   "outputs": [],
   "source": [
    "#Read main data to DataFrame\n",
    "df = pd.read_stata('Cash_and_Childhood_Development_Replication/macoursetal_main.dta')  "
   ]
  },
  {
   "cell_type": "code",
   "execution_count": 4,
   "id": "ac4db177",
   "metadata": {},
   "outputs": [],
   "source": [
    "# \"hogarid_old\",\"cp_old\",\"unique_05\", \"cpmom_06\" seran usats com a index\n",
    "df_out=df[[\"a5sscore_i_06\",\"a6smemory_p1_06\",\"a6smemory_p2_06\",\"a7a_delay_06\",\"a7b_delay_06\",\n",
    "        \"a7c_delay_06\",\"a7d_delay_06\",\"a9sgrossmotor_06\",\"height_06\",\"weight_06\",\"z_tvip_06\",\"z_social_06\",\n",
    "        \"z_language_06\",\"z_finmotor_06\",\"z_memory_06\",\"z_grmotor_06\",\"z_legmotor_06\",\"z_behavior_06\",\"z_height_06\",\n",
    "        \"z_weight_06\",\"z_all_06\"]]\n"
   ]
  },
  {
   "cell_type": "markdown",
   "id": "8452d06e",
   "metadata": {},
   "source": [
    "# Income variables"
   ]
  },
  {
   "cell_type": "code",
   "execution_count": 5,
   "id": "16fa80e6",
   "metadata": {},
   "outputs": [],
   "source": [
    "#Read main data to DataFrame\n",
    "cleaned_df = pd.read_csv('processed_data/cleaned_df.csv', index_col=0)  "
   ]
  },
  {
   "cell_type": "code",
   "execution_count": 6,
   "id": "c88df450",
   "metadata": {},
   "outputs": [],
   "source": [
    "df_original = pd.read_stata('Cash_and_Childhood_Development_Replication/macoursetal_main.dta')  \n",
    "\n",
    "df_out=df_original[[\"a5sscore_i_06\",\"a6smemory_p1_06\",\"a6smemory_p2_06\",\"a7a_delay_06\",\"a7b_delay_06\",\n",
    "        \"a7c_delay_06\",\"a7d_delay_06\",\"a9sgrossmotor_06\",\"height_06\",\"weight_06\",\"z_tvip_06\",\"z_social_06\",\n",
    "        \"z_language_06\",\"z_finmotor_06\",\"z_memory_06\",\"z_grmotor_06\",\"z_legmotor_06\",\"z_behavior_06\",\"z_height_06\",\n",
    "        \"z_weight_06\",\"z_all_06\"]]\n",
    "cleaned_df.drop(cleaned_df[df_out.iloc[cleaned_df.index].z_all_06.isna()].index, axis=0, inplace=True)"
   ]
  },
  {
   "cell_type": "code",
   "execution_count": 7,
   "id": "eddb274c",
   "metadata": {},
   "outputs": [],
   "source": [
    "cleaned_df[\"z_all_06\"]=df_out.iloc[cleaned_df.index].z_all_06"
   ]
  },
  {
   "cell_type": "code",
   "execution_count": 8,
   "id": "6c1f7607",
   "metadata": {},
   "outputs": [],
   "source": [
    "cp_cols=[\"hogarid_old\"]"
   ]
  },
  {
   "cell_type": "code",
   "execution_count": 9,
   "id": "b68b4d34",
   "metadata": {},
   "outputs": [],
   "source": [
    "cleaned_df.drop(cp_cols, axis=1, inplace=True)"
   ]
  },
  {
   "cell_type": "code",
   "execution_count": 10,
   "id": "06d5e42a",
   "metadata": {},
   "outputs": [],
   "source": [
    "treatment = 'tr'\n",
    "outcome = 'z_all_06'\n",
    "covariates = list(cleaned_df.columns)\n",
    "covariates.remove(treatment)\n",
    "covariates.remove(outcome)"
   ]
  },
  {
   "cell_type": "code",
   "execution_count": 11,
   "id": "e6585fde",
   "metadata": {},
   "outputs": [],
   "source": [
    "X=cleaned_df.drop([\"z_all_06\",\"tr\"], axis=1).copy()\n",
    "y=cleaned_df.z_all_06\n",
    "t=cleaned_df.tr"
   ]
  },
  {
   "cell_type": "code",
   "execution_count": 40,
   "id": "0c6cf993",
   "metadata": {},
   "outputs": [
    {
     "data": {
      "text/plain": [
       "CausalForest(criterion='het', inference=False, max_depth=3, max_features=45,\n",
       "             max_samples=1.0, min_samples_leaf=30, n_estimators=1,\n",
       "             subforest_size=1)"
      ]
     },
     "execution_count": 40,
     "metadata": {},
     "output_type": "execute_result"
    }
   ],
   "source": [
    "from econml.grf import CausalForest\n",
    "\n",
    "causal_tree=CausalForest(n_estimators=1, subforest_size=1, max_samples=1., min_samples_leaf=30, max_depth=3,\n",
    "                         max_features=len(X.columns), criterion=\"het\", inference=False)\n",
    "causal_tree.fit(X,t,y)"
   ]
  },
  {
   "cell_type": "code",
   "execution_count": 43,
   "id": "3a5c92b8",
   "metadata": {},
   "outputs": [],
   "source": [
    "from sklearn import tree\n",
    "import graphviz\n",
    "\n",
    "dot_data = tree.export_graphviz(causal_tree[0], out_file=None, \n",
    "                                feature_names=X.columns, filled=True, rounded=True)\n",
    "\n",
    "#Draw graph\n",
    "causal_tree_im = graphviz.Source(dot_data, format=\"png\") "
   ]
  },
  {
   "cell_type": "code",
   "execution_count": 44,
   "id": "367a2bd1",
   "metadata": {},
   "outputs": [
    {
     "data": {
      "image/svg+xml": [
       "<?xml version=\"1.0\" encoding=\"UTF-8\" standalone=\"no\"?>\n",
       "<!DOCTYPE svg PUBLIC \"-//W3C//DTD SVG 1.1//EN\"\n",
       " \"http://www.w3.org/Graphics/SVG/1.1/DTD/svg11.dtd\">\n",
       "<!-- Generated by graphviz version 3.0.0 (20220226.1711)\n",
       " -->\n",
       "<!-- Title: Tree Pages: 1 -->\n",
       "<svg width=\"880pt\" height=\"373pt\"\n",
       " viewBox=\"0.00 0.00 879.50 373.00\" xmlns=\"http://www.w3.org/2000/svg\" xmlns:xlink=\"http://www.w3.org/1999/xlink\">\n",
       "<g id=\"graph0\" class=\"graph\" transform=\"scale(1 1) rotate(0) translate(4 369)\">\n",
       "<title>Tree</title>\n",
       "<polygon fill=\"white\" stroke=\"transparent\" points=\"-4,4 -4,-369 875.5,-369 875.5,4 -4,4\"/>\n",
       "<!-- 0 -->\n",
       "<g id=\"node1\" class=\"node\">\n",
       "<title>0</title>\n",
       "<path fill=\"#f6d4bb\" stroke=\"black\" d=\"M557,-365C557,-365 392,-365 392,-365 386,-365 380,-359 380,-353 380,-353 380,-309 380,-309 380,-303 386,-297 392,-297 392,-297 557,-297 557,-297 563,-297 569,-303 569,-309 569,-309 569,-353 569,-353 569,-359 563,-365 557,-365\"/>\n",
       "<text text-anchor=\"middle\" x=\"474.5\" y=\"-349.8\" font-family=\"Helvetica,sans-Serif\" font-size=\"14.00\">com_deworm_05 &lt;= 0.712</text>\n",
       "<text text-anchor=\"middle\" x=\"474.5\" y=\"-334.8\" font-family=\"Helvetica,sans-Serif\" font-size=\"14.00\">het = 1.699</text>\n",
       "<text text-anchor=\"middle\" x=\"474.5\" y=\"-319.8\" font-family=\"Helvetica,sans-Serif\" font-size=\"14.00\">samples = 1580</text>\n",
       "<text text-anchor=\"middle\" x=\"474.5\" y=\"-304.8\" font-family=\"Helvetica,sans-Serif\" font-size=\"14.00\">value = [[0.034]]</text>\n",
       "</g>\n",
       "<!-- 1 -->\n",
       "<g id=\"node2\" class=\"node\">\n",
       "<title>1</title>\n",
       "<path fill=\"#f7d9c4\" stroke=\"black\" d=\"M457,-261C457,-261 292,-261 292,-261 286,-261 280,-255 280,-249 280,-249 280,-205 280,-205 280,-199 286,-193 292,-193 292,-193 457,-193 457,-193 463,-193 469,-199 469,-205 469,-205 469,-249 469,-249 469,-255 463,-261 457,-261\"/>\n",
       "<text text-anchor=\"middle\" x=\"374.5\" y=\"-245.8\" font-family=\"Helvetica,sans-Serif\" font-size=\"14.00\">com_deworm_05 &lt;= 0.289</text>\n",
       "<text text-anchor=\"middle\" x=\"374.5\" y=\"-230.8\" font-family=\"Helvetica,sans-Serif\" font-size=\"14.00\">het = 1.788</text>\n",
       "<text text-anchor=\"middle\" x=\"374.5\" y=\"-215.8\" font-family=\"Helvetica,sans-Serif\" font-size=\"14.00\">samples = 1446</text>\n",
       "<text text-anchor=\"middle\" x=\"374.5\" y=\"-200.8\" font-family=\"Helvetica,sans-Serif\" font-size=\"14.00\">value = [[0.053]]</text>\n",
       "</g>\n",
       "<!-- 0&#45;&gt;1 -->\n",
       "<g id=\"edge1\" class=\"edge\">\n",
       "<title>0&#45;&gt;1</title>\n",
       "<path fill=\"none\" stroke=\"black\" d=\"M442.03,-296.88C433.21,-287.89 423.56,-278.04 414.38,-268.68\"/>\n",
       "<polygon fill=\"black\" stroke=\"black\" points=\"416.65,-265.99 407.15,-261.3 411.65,-270.89 416.65,-265.99\"/>\n",
       "<text text-anchor=\"middle\" x=\"406.9\" y=\"-282.6\" font-family=\"Helvetica,sans-Serif\" font-size=\"14.00\">True</text>\n",
       "</g>\n",
       "<!-- 8 -->\n",
       "<g id=\"node9\" class=\"node\">\n",
       "<title>8</title>\n",
       "<path fill=\"#f0b58b\" stroke=\"black\" d=\"M649.5,-261C649.5,-261 499.5,-261 499.5,-261 493.5,-261 487.5,-255 487.5,-249 487.5,-249 487.5,-205 487.5,-205 487.5,-199 493.5,-193 499.5,-193 499.5,-193 649.5,-193 649.5,-193 655.5,-193 661.5,-199 661.5,-205 661.5,-205 661.5,-249 661.5,-249 661.5,-255 655.5,-261 649.5,-261\"/>\n",
       "<text text-anchor=\"middle\" x=\"574.5\" y=\"-245.8\" font-family=\"Helvetica,sans-Serif\" font-size=\"14.00\">prfruitveg_f_05 &lt;= 0.032</text>\n",
       "<text text-anchor=\"middle\" x=\"574.5\" y=\"-230.8\" font-family=\"Helvetica,sans-Serif\" font-size=\"14.00\">het = 1.208</text>\n",
       "<text text-anchor=\"middle\" x=\"574.5\" y=\"-215.8\" font-family=\"Helvetica,sans-Serif\" font-size=\"14.00\">samples = 134</text>\n",
       "<text text-anchor=\"middle\" x=\"574.5\" y=\"-200.8\" font-family=\"Helvetica,sans-Serif\" font-size=\"14.00\">value = [[&#45;0.148]]</text>\n",
       "</g>\n",
       "<!-- 0&#45;&gt;8 -->\n",
       "<g id=\"edge8\" class=\"edge\">\n",
       "<title>0&#45;&gt;8</title>\n",
       "<path fill=\"none\" stroke=\"black\" d=\"M506.97,-296.88C515.79,-287.89 525.44,-278.04 534.62,-268.68\"/>\n",
       "<polygon fill=\"black\" stroke=\"black\" points=\"537.35,-270.89 541.85,-261.3 532.35,-265.99 537.35,-270.89\"/>\n",
       "<text text-anchor=\"middle\" x=\"542.1\" y=\"-282.6\" font-family=\"Helvetica,sans-Serif\" font-size=\"14.00\">False</text>\n",
       "</g>\n",
       "<!-- 2 -->\n",
       "<g id=\"node3\" class=\"node\">\n",
       "<title>2</title>\n",
       "<path fill=\"#ffffff\" stroke=\"black\" d=\"M257,-157C257,-157 72,-157 72,-157 66,-157 60,-151 60,-145 60,-145 60,-101 60,-101 60,-95 66,-89 72,-89 72,-89 257,-89 257,-89 263,-89 269,-95 269,-101 269,-101 269,-145 269,-145 269,-151 263,-157 257,-157\"/>\n",
       "<text text-anchor=\"middle\" x=\"164.5\" y=\"-141.8\" font-family=\"Helvetica,sans-Serif\" font-size=\"14.00\">s3ap23_stime_h_05 &lt;= 0.111</text>\n",
       "<text text-anchor=\"middle\" x=\"164.5\" y=\"-126.8\" font-family=\"Helvetica,sans-Serif\" font-size=\"14.00\">het = 2.391</text>\n",
       "<text text-anchor=\"middle\" x=\"164.5\" y=\"-111.8\" font-family=\"Helvetica,sans-Serif\" font-size=\"14.00\">samples = 89</text>\n",
       "<text text-anchor=\"middle\" x=\"164.5\" y=\"-96.8\" font-family=\"Helvetica,sans-Serif\" font-size=\"14.00\">value = [[0.332]]</text>\n",
       "</g>\n",
       "<!-- 1&#45;&gt;2 -->\n",
       "<g id=\"edge2\" class=\"edge\">\n",
       "<title>1&#45;&gt;2</title>\n",
       "<path fill=\"none\" stroke=\"black\" d=\"M306.32,-192.88C285.77,-182.9 263.06,-171.87 241.95,-161.62\"/>\n",
       "<polygon fill=\"black\" stroke=\"black\" points=\"243.22,-158.35 232.7,-157.12 240.16,-164.64 243.22,-158.35\"/>\n",
       "</g>\n",
       "<!-- 5 -->\n",
       "<g id=\"node6\" class=\"node\">\n",
       "<title>5</title>\n",
       "<path fill=\"#f7d7c0\" stroke=\"black\" d=\"M464,-157C464,-157 299,-157 299,-157 293,-157 287,-151 287,-145 287,-145 287,-101 287,-101 287,-95 293,-89 299,-89 299,-89 464,-89 464,-89 470,-89 476,-95 476,-101 476,-101 476,-145 476,-145 476,-151 470,-157 464,-157\"/>\n",
       "<text text-anchor=\"middle\" x=\"381.5\" y=\"-141.8\" font-family=\"Helvetica,sans-Serif\" font-size=\"14.00\">com_deworm_05 &lt;= 0.677</text>\n",
       "<text text-anchor=\"middle\" x=\"381.5\" y=\"-126.8\" font-family=\"Helvetica,sans-Serif\" font-size=\"14.00\">het = 1.742</text>\n",
       "<text text-anchor=\"middle\" x=\"381.5\" y=\"-111.8\" font-family=\"Helvetica,sans-Serif\" font-size=\"14.00\">samples = 1357</text>\n",
       "<text text-anchor=\"middle\" x=\"381.5\" y=\"-96.8\" font-family=\"Helvetica,sans-Serif\" font-size=\"14.00\">value = [[0.04]]</text>\n",
       "</g>\n",
       "<!-- 1&#45;&gt;5 -->\n",
       "<g id=\"edge5\" class=\"edge\">\n",
       "<title>1&#45;&gt;5</title>\n",
       "<path fill=\"none\" stroke=\"black\" d=\"M376.77,-192.88C377.33,-184.78 377.93,-175.98 378.52,-167.47\"/>\n",
       "<polygon fill=\"black\" stroke=\"black\" points=\"382.02,-167.52 379.21,-157.3 375.04,-167.04 382.02,-167.52\"/>\n",
       "</g>\n",
       "<!-- 3 -->\n",
       "<g id=\"node4\" class=\"node\">\n",
       "<title>3</title>\n",
       "<path fill=\"#f2c19e\" stroke=\"black\" d=\"M97,-53C97,-53 12,-53 12,-53 6,-53 0,-47 0,-41 0,-41 0,-12 0,-12 0,-6 6,0 12,0 12,0 97,0 97,0 103,0 109,-6 109,-12 109,-12 109,-41 109,-41 109,-47 103,-53 97,-53\"/>\n",
       "<text text-anchor=\"middle\" x=\"54.5\" y=\"-37.8\" font-family=\"Helvetica,sans-Serif\" font-size=\"14.00\">het = 1.4</text>\n",
       "<text text-anchor=\"middle\" x=\"54.5\" y=\"-22.8\" font-family=\"Helvetica,sans-Serif\" font-size=\"14.00\">samples = 59</text>\n",
       "<text text-anchor=\"middle\" x=\"54.5\" y=\"-7.8\" font-family=\"Helvetica,sans-Serif\" font-size=\"14.00\">value = [[0.18]]</text>\n",
       "</g>\n",
       "<!-- 2&#45;&gt;3 -->\n",
       "<g id=\"edge3\" class=\"edge\">\n",
       "<title>2&#45;&gt;3</title>\n",
       "<path fill=\"none\" stroke=\"black\" d=\"M126.03,-88.95C115.06,-79.53 103.12,-69.27 92.2,-59.89\"/>\n",
       "<polygon fill=\"black\" stroke=\"black\" points=\"94.32,-57.1 84.46,-53.24 89.76,-62.41 94.32,-57.1\"/>\n",
       "</g>\n",
       "<!-- 4 -->\n",
       "<g id=\"node5\" class=\"node\">\n",
       "<title>4</title>\n",
       "<path fill=\"#fcf1e9\" stroke=\"black\" d=\"M232,-53C232,-53 139,-53 139,-53 133,-53 127,-47 127,-41 127,-41 127,-12 127,-12 127,-6 133,0 139,0 139,0 232,0 232,0 238,0 244,-6 244,-12 244,-12 244,-41 244,-41 244,-47 238,-53 232,-53\"/>\n",
       "<text text-anchor=\"middle\" x=\"185.5\" y=\"-37.8\" font-family=\"Helvetica,sans-Serif\" font-size=\"14.00\">het = 2.167</text>\n",
       "<text text-anchor=\"middle\" x=\"185.5\" y=\"-22.8\" font-family=\"Helvetica,sans-Serif\" font-size=\"14.00\">samples = 30</text>\n",
       "<text text-anchor=\"middle\" x=\"185.5\" y=\"-7.8\" font-family=\"Helvetica,sans-Serif\" font-size=\"14.00\">value = [[0.375]]</text>\n",
       "</g>\n",
       "<!-- 2&#45;&gt;4 -->\n",
       "<g id=\"edge4\" class=\"edge\">\n",
       "<title>2&#45;&gt;4</title>\n",
       "<path fill=\"none\" stroke=\"black\" d=\"M171.84,-88.95C173.69,-80.62 175.69,-71.65 177.57,-63.2\"/>\n",
       "<polygon fill=\"black\" stroke=\"black\" points=\"181.03,-63.76 179.78,-53.24 174.19,-62.24 181.03,-63.76\"/>\n",
       "</g>\n",
       "<!-- 6 -->\n",
       "<g id=\"node7\" class=\"node\">\n",
       "<title>6</title>\n",
       "<path fill=\"#f8ddc9\" stroke=\"black\" d=\"M409,-53C409,-53 314,-53 314,-53 308,-53 302,-47 302,-41 302,-41 302,-12 302,-12 302,-6 308,0 314,0 314,0 409,0 409,0 415,0 421,-6 421,-12 421,-12 421,-41 421,-41 421,-47 415,-53 409,-53\"/>\n",
       "<text text-anchor=\"middle\" x=\"361.5\" y=\"-37.8\" font-family=\"Helvetica,sans-Serif\" font-size=\"14.00\">het = 1.843</text>\n",
       "<text text-anchor=\"middle\" x=\"361.5\" y=\"-22.8\" font-family=\"Helvetica,sans-Serif\" font-size=\"14.00\">samples = 1240</text>\n",
       "<text text-anchor=\"middle\" x=\"361.5\" y=\"-7.8\" font-family=\"Helvetica,sans-Serif\" font-size=\"14.00\">value = [[0.012]]</text>\n",
       "</g>\n",
       "<!-- 5&#45;&gt;6 -->\n",
       "<g id=\"edge6\" class=\"edge\">\n",
       "<title>5&#45;&gt;6</title>\n",
       "<path fill=\"none\" stroke=\"black\" d=\"M374.5,-88.95C372.74,-80.62 370.84,-71.65 369.06,-63.2\"/>\n",
       "<polygon fill=\"black\" stroke=\"black\" points=\"372.44,-62.3 366.95,-53.24 365.59,-63.74 372.44,-62.3\"/>\n",
       "</g>\n",
       "<!-- 7 -->\n",
       "<g id=\"node8\" class=\"node\">\n",
       "<title>7</title>\n",
       "<path fill=\"#f0b68c\" stroke=\"black\" d=\"M544,-53C544,-53 451,-53 451,-53 445,-53 439,-47 439,-41 439,-41 439,-12 439,-12 439,-6 445,0 451,0 451,0 544,0 544,0 550,0 556,-6 556,-12 556,-12 556,-41 556,-41 556,-47 550,-53 544,-53\"/>\n",
       "<text text-anchor=\"middle\" x=\"497.5\" y=\"-37.8\" font-family=\"Helvetica,sans-Serif\" font-size=\"14.00\">het = 1.215</text>\n",
       "<text text-anchor=\"middle\" x=\"497.5\" y=\"-22.8\" font-family=\"Helvetica,sans-Serif\" font-size=\"14.00\">samples = 117</text>\n",
       "<text text-anchor=\"middle\" x=\"497.5\" y=\"-7.8\" font-family=\"Helvetica,sans-Serif\" font-size=\"14.00\">value = [[0.202]]</text>\n",
       "</g>\n",
       "<!-- 5&#45;&gt;7 -->\n",
       "<g id=\"edge7\" class=\"edge\">\n",
       "<title>5&#45;&gt;7</title>\n",
       "<path fill=\"none\" stroke=\"black\" d=\"M422.07,-88.95C433.75,-79.43 446.47,-69.07 458.08,-59.62\"/>\n",
       "<polygon fill=\"black\" stroke=\"black\" points=\"460.37,-62.27 465.91,-53.24 455.94,-56.84 460.37,-62.27\"/>\n",
       "</g>\n",
       "<!-- 9 -->\n",
       "<g id=\"node10\" class=\"node\">\n",
       "<title>9</title>\n",
       "<path fill=\"#f5cfb3\" stroke=\"black\" d=\"M617.5,-149.5C617.5,-149.5 519.5,-149.5 519.5,-149.5 513.5,-149.5 507.5,-143.5 507.5,-137.5 507.5,-137.5 507.5,-108.5 507.5,-108.5 507.5,-102.5 513.5,-96.5 519.5,-96.5 519.5,-96.5 617.5,-96.5 617.5,-96.5 623.5,-96.5 629.5,-102.5 629.5,-108.5 629.5,-108.5 629.5,-137.5 629.5,-137.5 629.5,-143.5 623.5,-149.5 617.5,-149.5\"/>\n",
       "<text text-anchor=\"middle\" x=\"568.5\" y=\"-134.3\" font-family=\"Helvetica,sans-Serif\" font-size=\"14.00\">het = 1.617</text>\n",
       "<text text-anchor=\"middle\" x=\"568.5\" y=\"-119.3\" font-family=\"Helvetica,sans-Serif\" font-size=\"14.00\">samples = 56</text>\n",
       "<text text-anchor=\"middle\" x=\"568.5\" y=\"-104.3\" font-family=\"Helvetica,sans-Serif\" font-size=\"14.00\">value = [[&#45;0.062]]</text>\n",
       "</g>\n",
       "<!-- 8&#45;&gt;9 -->\n",
       "<g id=\"edge9\" class=\"edge\">\n",
       "<title>8&#45;&gt;9</title>\n",
       "<path fill=\"none\" stroke=\"black\" d=\"M572.55,-192.88C571.92,-182.22 571.23,-170.35 570.59,-159.52\"/>\n",
       "<polygon fill=\"black\" stroke=\"black\" points=\"574.08,-159.3 570,-149.52 567.09,-159.71 574.08,-159.3\"/>\n",
       "</g>\n",
       "<!-- 10 -->\n",
       "<g id=\"node11\" class=\"node\">\n",
       "<title>10</title>\n",
       "<path fill=\"#eb9f68\" stroke=\"black\" d=\"M817,-157C817,-157 660,-157 660,-157 654,-157 648,-151 648,-145 648,-145 648,-101 648,-101 648,-95 654,-89 660,-89 660,-89 817,-89 817,-89 823,-89 829,-95 829,-101 829,-101 829,-145 829,-145 829,-151 823,-157 817,-157\"/>\n",
       "<text text-anchor=\"middle\" x=\"738.5\" y=\"-141.8\" font-family=\"Helvetica,sans-Serif\" font-size=\"14.00\">com_deworm_05 &lt;= 0.78</text>\n",
       "<text text-anchor=\"middle\" x=\"738.5\" y=\"-126.8\" font-family=\"Helvetica,sans-Serif\" font-size=\"14.00\">het = 0.85</text>\n",
       "<text text-anchor=\"middle\" x=\"738.5\" y=\"-111.8\" font-family=\"Helvetica,sans-Serif\" font-size=\"14.00\">samples = 78</text>\n",
       "<text text-anchor=\"middle\" x=\"738.5\" y=\"-96.8\" font-family=\"Helvetica,sans-Serif\" font-size=\"14.00\">value = [[&#45;0.174]]</text>\n",
       "</g>\n",
       "<!-- 8&#45;&gt;10 -->\n",
       "<g id=\"edge10\" class=\"edge\">\n",
       "<title>8&#45;&gt;10</title>\n",
       "<path fill=\"none\" stroke=\"black\" d=\"M627.75,-192.88C643.29,-183.21 660.42,-172.56 676.46,-162.59\"/>\n",
       "<polygon fill=\"black\" stroke=\"black\" points=\"678.6,-165.38 685.24,-157.12 674.9,-159.43 678.6,-165.38\"/>\n",
       "</g>\n",
       "<!-- 11 -->\n",
       "<g id=\"node12\" class=\"node\">\n",
       "<title>11</title>\n",
       "<path fill=\"#e58139\" stroke=\"black\" d=\"M719.5,-53C719.5,-53 621.5,-53 621.5,-53 615.5,-53 609.5,-47 609.5,-41 609.5,-41 609.5,-12 609.5,-12 609.5,-6 615.5,0 621.5,0 621.5,0 719.5,0 719.5,0 725.5,0 731.5,-6 731.5,-12 731.5,-12 731.5,-41 731.5,-41 731.5,-47 725.5,-53 719.5,-53\"/>\n",
       "<text text-anchor=\"middle\" x=\"670.5\" y=\"-37.8\" font-family=\"Helvetica,sans-Serif\" font-size=\"14.00\">het = 0.365</text>\n",
       "<text text-anchor=\"middle\" x=\"670.5\" y=\"-22.8\" font-family=\"Helvetica,sans-Serif\" font-size=\"14.00\">samples = 45</text>\n",
       "<text text-anchor=\"middle\" x=\"670.5\" y=\"-7.8\" font-family=\"Helvetica,sans-Serif\" font-size=\"14.00\">value = [[&#45;0.226]]</text>\n",
       "</g>\n",
       "<!-- 10&#45;&gt;11 -->\n",
       "<g id=\"edge11\" class=\"edge\">\n",
       "<title>10&#45;&gt;11</title>\n",
       "<path fill=\"none\" stroke=\"black\" d=\"M714.72,-88.95C708.33,-80.07 701.42,-70.46 694.99,-61.54\"/>\n",
       "<polygon fill=\"black\" stroke=\"black\" points=\"697.7,-59.31 689.02,-53.24 692.02,-63.4 697.7,-59.31\"/>\n",
       "</g>\n",
       "<!-- 12 -->\n",
       "<g id=\"node13\" class=\"node\">\n",
       "<title>12</title>\n",
       "<path fill=\"#f2c29e\" stroke=\"black\" d=\"M859.5,-53C859.5,-53 761.5,-53 761.5,-53 755.5,-53 749.5,-47 749.5,-41 749.5,-41 749.5,-12 749.5,-12 749.5,-6 755.5,0 761.5,0 761.5,0 859.5,0 859.5,0 865.5,0 871.5,-6 871.5,-12 871.5,-12 871.5,-41 871.5,-41 871.5,-47 865.5,-53 859.5,-53\"/>\n",
       "<text text-anchor=\"middle\" x=\"810.5\" y=\"-37.8\" font-family=\"Helvetica,sans-Serif\" font-size=\"14.00\">het = 1.403</text>\n",
       "<text text-anchor=\"middle\" x=\"810.5\" y=\"-22.8\" font-family=\"Helvetica,sans-Serif\" font-size=\"14.00\">samples = 33</text>\n",
       "<text text-anchor=\"middle\" x=\"810.5\" y=\"-7.8\" font-family=\"Helvetica,sans-Serif\" font-size=\"14.00\">value = [[&#45;0.244]]</text>\n",
       "</g>\n",
       "<!-- 10&#45;&gt;12 -->\n",
       "<g id=\"edge12\" class=\"edge\">\n",
       "<title>10&#45;&gt;12</title>\n",
       "<path fill=\"none\" stroke=\"black\" d=\"M763.68,-88.95C770.51,-79.98 777.92,-70.27 784.78,-61.26\"/>\n",
       "<polygon fill=\"black\" stroke=\"black\" points=\"787.61,-63.31 790.89,-53.24 782.05,-59.07 787.61,-63.31\"/>\n",
       "</g>\n",
       "</g>\n",
       "</svg>\n"
      ],
      "text/plain": [
       "<graphviz.sources.Source at 0x1b9abce4248>"
      ]
     },
     "execution_count": 44,
     "metadata": {},
     "output_type": "execute_result"
    }
   ],
   "source": [
    "causal_tree_im"
   ]
  },
  {
   "cell_type": "code",
   "execution_count": null,
   "id": "419def48",
   "metadata": {},
   "outputs": [],
   "source": [
    "individual_df=cleaned_df[['s1age_head_05', 's1hhsize_05', 's1hhsz_undr5_05', 's1hhsz_5_14_05',\n",
    "       's1hhsz_15_24_05', 's1hhsz_25_64_05', 's1hhsz_65plus_05',\n",
    "       's1male_head_05', 's2mother_inhs_05', 's3ap5_rooms_h_05',\n",
    "       's3ap23_stime_h_05', 's3ap24_htime_h_05', 's3ap25_hqtime_h_05',\n",
    "       's3atoilet_hh_05', 's3awater_access_hh_05', 's3aelectric_hh_05',\n",
    "       's4p6_vitamina_i_05', 's4p7_parasite_i_05', 's11ownland_hh_05',\n",
    "       'cons_food_pc_05', 'cons_tot_pc_05', 'height_05', 'a10whz_05',\n",
    "       'weight_05', 'yrsedfath', 'age_transfer', 'bweight',\n",
    "       's4p7_parasite_i_06', 'male', 'ed_mom', 'vitamiron_06', 'propfood_05', 'prstap_f_05',\n",
    "       'pranimalprot_f_05', 'prfruitveg_f_05']].copy()\n",
    "\n",
    "individual_df1=individual_df.copy()\n",
    "causal_tree_ind=CausalForest(n_estimators=1, subforest_size=1, max_samples=1., min_samples_leaf=50, max_depth=3,\n",
    "                         max_features=len(X.columns), criterion=\"het\", inference=False)\n",
    "causal_tree_ind .fit(X,t,y)\n",
    "\n",
    "dot_data_ind = tree.export_graphviz(causal_tree_ind[0], out_file=None, \n",
    "                                feature_names=individual_df.columns, filled=True,\n",
    "                               rounded=True)\n",
    "\n",
    "\n",
    "#Draw graph\n",
    "ite_ind_dt = graphviz.Source(dot_data_ind, format=\"png\") "
   ]
  }
 ],
 "metadata": {
  "kernelspec": {
   "display_name": "py37",
   "language": "python",
   "name": "py37"
  },
  "language_info": {
   "codemirror_mode": {
    "name": "ipython",
    "version": 3
   },
   "file_extension": ".py",
   "mimetype": "text/x-python",
   "name": "python",
   "nbconvert_exporter": "python",
   "pygments_lexer": "ipython3",
   "version": "3.7.13"
  }
 },
 "nbformat": 4,
 "nbformat_minor": 5
}
