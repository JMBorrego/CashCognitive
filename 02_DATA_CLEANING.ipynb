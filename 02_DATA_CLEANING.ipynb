{
 "cells": [
  {
   "cell_type": "markdown",
   "id": "1a27da51",
   "metadata": {},
   "source": [
    "# Índice\n",
    "\n",
    "1. [Definición del *dataset*](#data)\n",
    "1. [Funciones de limpieza de datos](#functions)\n",
    "1. [Definición de características](#features)\n",
    "1. [Procesado de la *pipeline*](#pipe)"
   ]
  },
  {
   "cell_type": "markdown",
   "id": "6f4a3a1a",
   "metadata": {},
   "source": [
    "<a id='data'></a>\n",
    "# 1. Definición del dataset"
   ]
  },
  {
   "cell_type": "code",
   "execution_count": 133,
   "id": "6d4a7362",
   "metadata": {},
   "outputs": [],
   "source": [
    "import pandas as pd\n",
    "import matplotlib.pyplot as plt\n",
    "import numpy as np\n",
    "import sklearn "
   ]
  },
  {
   "cell_type": "code",
   "execution_count": 134,
   "id": "175860af",
   "metadata": {},
   "outputs": [],
   "source": [
    "# Lectura de los datos brutos \n",
    "\n",
    "df = pd.read_stata('Cash_and_Childhood_Development_Replication/macoursetal_main.dta')  \n",
    "\n",
    "# Definición de las variables de resultado\n",
    "df_out=df[[\"a5sscore_i_06\",\"a6smemory_p1_06\",\"a6smemory_p2_06\",\"a7a_delay_06\",\"a7b_delay_06\",\n",
    "        \"a7c_delay_06\",\"a7d_delay_06\",\"a9sgrossmotor_06\",\"height_06\",\"weight_06\",\"z_tvip_06\",\"z_social_06\",\n",
    "        \"z_language_06\",\"z_finmotor_06\",\"z_memory_06\",\"z_grmotor_06\",\"z_legmotor_06\",\"z_behavior_06\",\"z_height_06\",\n",
    "        \"z_weight_06\",\"z_all_06\"]]\n",
    "\n",
    "# Definición de las variables de entrada\n",
    "#     hogarid_old se usará como identificador para la imputación por unidad familiar, no como entrada\n",
    "\n",
    "df1=df[[\"hogarid_old\",\"s1age_head_05\",\"s1hhsize_05\",\"s1hhsz_undr5_05\",\"s1hhsz_5_14_05\",\n",
    "        \"s1hhsz_15_24_05\",\"s1hhsz_25_64_05\",\"s1hhsz_65plus_05\",\"s1male_head_05\",\"s2mother_inhs_05\",\"s3ap5_rooms_h_05\",\n",
    "        \"s3ap23_stime_h_05\",\"s3ap24_htime_h_05\",\"s3ap25_hqtime_h_05\",\"s3atoilet_hh_05\",\"s3awater_access_hh_05\",\n",
    "        \"s3aelectric_hh_05\",\"s4p6_vitamina_i_05\",\"s4p7_parasite_i_05\",\"s11ownland_hh_05\",\"cons_food_pc_05\",\"cons_tot_pc_05\",\n",
    "        \"height_05\",\"a10whz_05\",\"weight_05\",\"yrsedfath\",\"age_transfer\",\"bweight\",\n",
    "        \"s4p7_parasite_i_06\",\"T\",\"male\",\"ed_mom\",\"MUN1\",\"MUN2\",\"MUN3\",\"MUN4\",\n",
    "        \"MUN5\",\"MUN6\",\"com_haz_05\",\"com_waz_05\",\"com_vit_05\",\"com_deworm_05\",\n",
    "        \"vitamiron_06\", \"propfood_05\",\"prstap_f_05\",\"pranimalprot_f_05\",\"prfruitveg_f_05\"]]\n",
    "\n",
    "df1=df1.rename(columns = {'T':'tr'})"
   ]
  },
  {
   "cell_type": "markdown",
   "id": "4e6a28c3",
   "metadata": {},
   "source": [
    "<a id='functions'></a>\n",
    "# 2. Funciones de limpieza de datos"
   ]
  },
  {
   "cell_type": "code",
   "execution_count": 135,
   "id": "2dfd4228",
   "metadata": {},
   "outputs": [],
   "source": [
    "# Copia del dataframe\n",
    "def copy_df(df):\n",
    "    return df.copy()"
   ]
  },
  {
   "cell_type": "code",
   "execution_count": 136,
   "id": "3f4f3a68",
   "metadata": {},
   "outputs": [],
   "source": [
    "# Omisión de registros con más de delta datos faltantes\n",
    "def drop_ind_missing(df, delta):\n",
    "    thresh = len(df.columns)*delta\n",
    "    df.dropna(axis=0, thresh=thresh, inplace=True)\n",
    "    return df"
   ]
  },
  {
   "cell_type": "code",
   "execution_count": 137,
   "id": "6c8f472b",
   "metadata": {},
   "outputs": [],
   "source": [
    "# Omisión de registros con age_transfer<age\n",
    "def drop_out_missing(df, age=-11):\n",
    "    nan_rows=df[df.age_transfer<age].index\n",
    "    df.drop(nan_rows, inplace=True)\n",
    "    return df"
   ]
  },
  {
   "cell_type": "code",
   "execution_count": 138,
   "id": "a7f1c088",
   "metadata": {},
   "outputs": [],
   "source": [
    "# Codificación de variables categóricas\n",
    "def ordinal(df, cols):\n",
    "    enc = OrdinalEncoder()\n",
    "    enc.fit(df[cols])\n",
    "    df[cols] = enc.transform(df[cols])\n",
    "    \n",
    "    return df"
   ]
  },
  {
   "cell_type": "code",
   "execution_count": 148,
   "id": "d623825d",
   "metadata": {},
   "outputs": [],
   "source": [
    "# Imputación de valores faltantes\n",
    "\n",
    "# Imputación por media\n",
    "def median_imputer(df, cols):\n",
    "    for col in cols:\n",
    "        df[col].fillna(df[col].median(), inplace=True)\n",
    "    return df\n",
    "\n",
    "# Imputación por moda\n",
    "def mode_imputer(df, cols):\n",
    "    for col in cols:\n",
    "        df[col].fillna(df[col].mode()[0], inplace=True)\n",
    "    return df\n",
    "\n",
    "\n",
    "# Imputación por moda/media en la unidad familiar\n",
    "def hh_mode_imputer(df,cols):\n",
    "    index=df.index\n",
    "    for col in cols:\n",
    "        col_hh=[df[df.hogarid_old==familia][[col,\"age_transfer\"]].sort_values(by=['age_transfer'])[col]\n",
    "                .values for familia in df.hogarid_old]\n",
    "        for i in range(len(index)):\n",
    "               if np.isnan(df[col][index[i]]):\n",
    "                    non_nan_len=np.count_nonzero(~np.isnan(col_hh[i]))\n",
    "                    if(non_nan_len!=0):\n",
    "                        vals,counts = np.unique(col_hh[i], return_counts=True)\n",
    "                        ind = np.argmax(counts)\n",
    "                        df.loc[index[i],col]=vals[ind]\n",
    "    return df             \n",
    "                            \n",
    "def hh_mean_imputer(df,cols):\n",
    "    index=df.index\n",
    "    for col in cols:\n",
    "        col_hh=[df[df.hogarid_old==familia][[col,\"age_transfer\"]].sort_values(by=['age_transfer'])[col]\n",
    "                .values for familia in df.hogarid_old]\n",
    "        for i in range(len(index)):\n",
    "               if np.isnan(df[col][index[i]]):\n",
    "                    non_nan_len=np.count_nonzero(~np.isnan(col_hh[i]))\n",
    "                    if(non_nan_len!=0):\n",
    "                        vals,counts = np.unique(col_hh[i], return_counts=True)\n",
    "                        ind = np.argmax(counts)\n",
    "                        df.loc[index[i],col]=vals[ind]\n",
    "    return df  \n",
    "    "
   ]
  },
  {
   "cell_type": "code",
   "execution_count": 140,
   "id": "9dd0f564",
   "metadata": {},
   "outputs": [],
   "source": [
    "# Omisión de valores atípicos\n",
    "\n",
    "def outlier_removal(df, cols):\n",
    "    outlier_threshold = []\n",
    "    for col in cols:\n",
    "            q3 = np.nanpercentile(df[col], 75)\n",
    "            q1 = np.nanpercentile(df[col], 25)\n",
    "            iqr = q3 - q1\n",
    "            out_low = q1 - 3*iqr\n",
    "            out_high = q3 + 3*iqr\n",
    "            outlier_threshold.append([out_low, out_high])\n",
    "    outliers_indexs=[]\n",
    "    for col,k in zip(cols,range(len(cols))):\n",
    "        #outliers_indexs_in_col=[]\n",
    "        for i in df[col].index:\n",
    "            if df[col][i]<outlier_threshold[k][0] or df[col][i]>outlier_threshold[k][1]:\n",
    "                outliers_indexs.append(i)\n",
    "        #outliers_indexs.append(outliers_indexs_in_col)\n",
    "    return df.drop(list(set(outliers_indexs)), axis=0)"
   ]
  },
  {
   "cell_type": "code",
   "execution_count": 141,
   "id": "27dd8b22",
   "metadata": {},
   "outputs": [],
   "source": [
    "# Normalización y estandarización\n",
    "\n",
    "def normalize(df, cols):\n",
    "    Nscaler = MinMaxScaler()\n",
    "\n",
    "    Nscaler.fit(df[cols])\n",
    "    df[cols] = Nscaler.transform(df[cols])\n",
    "    \n",
    "    return df\n",
    "\n",
    "def standardize(df, cols):\n",
    "    Sscaler = StandardScaler()\n",
    "\n",
    "    Sscaler.fit(df[cols])\n",
    "    df[cols] = Sscaler.transform(df[cols])\n",
    "    \n",
    "    return df"
   ]
  },
  {
   "cell_type": "markdown",
   "id": "dcbcdf98",
   "metadata": {},
   "source": [
    "<a id='features'></a>\n",
    "# 3. Definición de características\n",
    "\n",
    "A continuación se define los conjuntos de características según las estrategias a implementar."
   ]
  },
  {
   "cell_type": "code",
   "execution_count": 149,
   "id": "8cd44704",
   "metadata": {},
   "outputs": [],
   "source": [
    "median_cols = [\"prfruitveg_f_05\",\"prstap_f_05\",\"pranimalprot_f_05\",\"propfood_05\",\"cons_food_pc_05\",\"ed_mom\",\"yrsedfath\",\n",
    "               \"bweight\",\"weight_05\",\"height_05\",\"a10whz_05\"]\n",
    "mode_cols = [\"s2mother_inhs_05\",\"s4p7_parasite_i_06\",\"vitamiron_06\",\"s4p7_parasite_i_05\",\"s4p6_vitamina_i_05\"]\n",
    "\n",
    "hh_mean_cols = [\"prfruitveg_f_05\",\"prstap_f_05\",\"pranimalprot_f_05\",\"propfood_05\",\"cons_food_pc_05\",\"ed_mom\",\"yrsedfath\"]\n",
    "hh_mode_cols = [\"s2mother_inhs_05\",\"s4p7_parasite_i_06\",\"vitamiron_06\",\"s4p7_parasite_i_05\",\"s4p6_vitamina_i_05\"]\n",
    "\n",
    "categorical_cols=df1.select_dtypes(exclude=[\"number\",\"bool_\",\"object_\"]).columns\n",
    "\n",
    "outlier_cols=[\"cons_food_pc_05\",\"cons_tot_pc_05\",\"s3ap24_htime_h_05\",\"bweight\",\"pranimalprot_f_05\",\"prfruitveg_f_05\"]\n",
    "\n",
    "normal_cols =[\"height_05\",\"a10whz_05\",\"weight_05\"]\n",
    "\n",
    "Nnormal_cols = ['s1age_head_05', 's3ap23_stime_h_05', 's3ap24_htime_h_05', 's3ap25_hqtime_h_05', 'cons_food_pc_05', \n",
    "                'cons_tot_pc_05', 'yrsedfath','age_transfer', 'bweight', 'ed_mom', \"com_haz_05\",\"com_waz_05\"]\n",
    "\n"
   ]
  },
  {
   "cell_type": "markdown",
   "id": "430ef868",
   "metadata": {},
   "source": [
    "<a id='pipe'></a>\n",
    "# 4. Procesado de la *pipeline*"
   ]
  },
  {
   "cell_type": "code",
   "execution_count": 150,
   "id": "4e8a63b4",
   "metadata": {},
   "outputs": [],
   "source": [
    "from sklearn.impute import SimpleImputer\n",
    "from sklearn.preprocessing import OrdinalEncoder\n",
    "from sklearn.preprocessing import MinMaxScaler\n",
    "from sklearn.preprocessing import StandardScaler\n",
    "\n",
    "cleaned_df=(df1.pipe(copy_df)\n",
    "            .pipe(drop_ind_missing, 0.8)\n",
    "            .pipe(drop_out_missing)\n",
    "            .pipe(ordinal, categorical_cols)\n",
    "            .pipe(hh_mean_imputer, hh_mean_cols)\n",
    "            .pipe(hh_mode_imputer, hh_mode_cols)\n",
    "            .pipe(median_imputer, median_cols)\n",
    "            .pipe(mode_imputer, mode_cols)\n",
    "            .pipe(outlier_removal, outlier_cols) \n",
    "            .pipe(standardize, normal_cols) \n",
    "            .pipe(normalize, Nnormal_cols)) "
   ]
  },
  {
   "cell_type": "markdown",
   "id": "a3a83e0b",
   "metadata": {},
   "source": [
    "<a id='outcome'></a>\n",
    "# 5. Procesado respecto el outcome"
   ]
  },
  {
   "cell_type": "code",
   "execution_count": 152,
   "id": "4a95cf8b",
   "metadata": {},
   "outputs": [],
   "source": [
    "# Se añade el outcome al dataframe, eliminando aquellos individuos con outcome NaN \n",
    "cleaned_df.drop(cleaned_df[df_out.iloc[cleaned_df.index].z_all_06.isna()].index, axis=0, inplace=True)\n",
    "cleaned_df[\"z_all_06\"]=df_out.iloc[cleaned_df.index].z_all_06\n",
    "\n",
    "# Se eliminan los identificadores\n",
    "cp_cols=[\"hogarid_old\"]\n",
    "cleaned_df.drop(cp_cols, axis=1, inplace=True)\n",
    "\n",
    "# Se eliminan outliers\n",
    "cleaned_df=outlier_removal(cleaned_df, [\"z_all_06\"])"
   ]
  },
  {
   "cell_type": "code",
   "execution_count": 154,
   "id": "69346e68",
   "metadata": {},
   "outputs": [],
   "source": [
    "import os  \n",
    "os.makedirs('processed_data', exist_ok=True)  \n",
    "cleaned_df.to_csv(\"processed_data/cleaned_df.csv\")\n"
   ]
  }
 ],
 "metadata": {
  "kernelspec": {
   "display_name": "Python 3 (ipykernel)",
   "language": "python",
   "name": "python3"
  },
  "language_info": {
   "codemirror_mode": {
    "name": "ipython",
    "version": 3
   },
   "file_extension": ".py",
   "mimetype": "text/x-python",
   "name": "python",
   "nbconvert_exporter": "python",
   "pygments_lexer": "ipython3",
   "version": "3.8.8"
  }
 },
 "nbformat": 4,
 "nbformat_minor": 5
}
