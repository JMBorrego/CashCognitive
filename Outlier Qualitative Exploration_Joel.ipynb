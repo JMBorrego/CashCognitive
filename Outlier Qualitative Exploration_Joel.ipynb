{
 "cells": [
  {
   "cell_type": "code",
   "execution_count": 1,
   "metadata": {},
   "outputs": [],
   "source": [
    "import pandas as pd\n",
    "import matplotlib.pyplot as plt\n",
    "import numpy as np\n",
    "import seaborn as sns"
   ]
  },
  {
   "cell_type": "code",
   "execution_count": 2,
   "metadata": {},
   "outputs": [],
   "source": [
    "#Read main data to DataFrame\n",
    "df = pd.read_stata('macoursetal_main.dta')  "
   ]
  },
  {
   "cell_type": "code",
   "execution_count": 3,
   "metadata": {},
   "outputs": [],
   "source": [
    "outlier_cols=['s3ap24_htime_h_05', 'com_control_05', 'height_05',\n",
    "       'weight_05', 'a10whz_05', 'pranimalprot_f_05', 'com_notvip',\n",
    "       'bweight', 's3ap25_hqtime_h_05', 's1hhsz_25_64_05', 'tvip_05',\n",
    "       'cons_food_pc_05', 'prfruitveg_f_05', 's3ap23_stime_h_05',\n",
    "       'cons_tot_pc_05']\n",
    "\n",
    "outlier_df = pd.DataFrame(df[outlier_cols])"
   ]
  },
  {
   "cell_type": "markdown",
   "metadata": {},
   "source": [
    "## EXPLICACIÓ DE LES VARIABLES\n",
    "\n",
    "s3ap24_htime_h_05: Temps que es triga a arribar a un hospital\n",
    "\n",
    "com_control_05: Mitjana de controls de pes de la comunitat\n",
    "\n",
    "height_05: Alçada\n",
    "\n",
    "weight_05: Pes\n",
    "\n",
    "a10whz_05: Pesos per alçada\n",
    "\n",
    "pranimalprot_f_05: Percentatge de despeses en proteïna animal del total de consum en menjar\n",
    "\n",
    "com_notvip: Percentatge de nanos que no han fet el test VIP\n",
    "\n",
    "bweight: Pes al néixer\n",
    "\n",
    "s3ap25_hqtime_h_05: Temps que es triga a arribar al \"hq municipal\" (descrit així, suposo que és headquarter) més proper\n",
    "\n",
    "s1hhsz_25_64_05: Persones d'entre 25 i 64 que viuen al household\n",
    "\n",
    "tvip_05: Score del test VIP\n",
    "\n",
    "cons_food_pc_05: Consum de menjar anual en percentatge (?)\n",
    "\n",
    "prfruitveg_f_05: Consum de verdures del total de menjar\n",
    "\n",
    "s3ap23_stime_h_05: Temps que es triga a arribar a l'escola\n",
    "\n",
    "cons_tot_pc_05: Percentatge de consum agregat (?)"
   ]
  },
  {
   "cell_type": "code",
   "execution_count": 4,
   "metadata": {},
   "outputs": [
    {
     "data": {
      "text/html": [
       "<div>\n",
       "<style scoped>\n",
       "    .dataframe tbody tr th:only-of-type {\n",
       "        vertical-align: middle;\n",
       "    }\n",
       "\n",
       "    .dataframe tbody tr th {\n",
       "        vertical-align: top;\n",
       "    }\n",
       "\n",
       "    .dataframe thead th {\n",
       "        text-align: right;\n",
       "    }\n",
       "</style>\n",
       "<table border=\"1\" class=\"dataframe\">\n",
       "  <thead>\n",
       "    <tr style=\"text-align: right;\">\n",
       "      <th></th>\n",
       "      <th>s3ap24_htime_h_05</th>\n",
       "      <th>com_control_05</th>\n",
       "      <th>height_05</th>\n",
       "      <th>weight_05</th>\n",
       "      <th>a10whz_05</th>\n",
       "      <th>pranimalprot_f_05</th>\n",
       "      <th>com_notvip</th>\n",
       "      <th>bweight</th>\n",
       "      <th>s3ap25_hqtime_h_05</th>\n",
       "      <th>s1hhsz_25_64_05</th>\n",
       "      <th>tvip_05</th>\n",
       "      <th>cons_food_pc_05</th>\n",
       "      <th>prfruitveg_f_05</th>\n",
       "      <th>s3ap23_stime_h_05</th>\n",
       "      <th>cons_tot_pc_05</th>\n",
       "    </tr>\n",
       "  </thead>\n",
       "  <tbody>\n",
       "    <tr>\n",
       "      <td>count</td>\n",
       "      <td>4465.000000</td>\n",
       "      <td>4465.000000</td>\n",
       "      <td>2458.000000</td>\n",
       "      <td>2467.000000</td>\n",
       "      <td>2419.000000</td>\n",
       "      <td>4493.000000</td>\n",
       "      <td>4465.000000</td>\n",
       "      <td>2867.000000</td>\n",
       "      <td>4465.000000</td>\n",
       "      <td>4465.000000</td>\n",
       "      <td>1103.000000</td>\n",
       "      <td>4338.000000</td>\n",
       "      <td>4493.000000</td>\n",
       "      <td>4465.000000</td>\n",
       "      <td>4465.000000</td>\n",
       "    </tr>\n",
       "    <tr>\n",
       "      <td>mean</td>\n",
       "      <td>1.251817</td>\n",
       "      <td>0.906121</td>\n",
       "      <td>-1.213235</td>\n",
       "      <td>-1.012455</td>\n",
       "      <td>-0.169238</td>\n",
       "      <td>0.153579</td>\n",
       "      <td>0.190114</td>\n",
       "      <td>6.792845</td>\n",
       "      <td>1.678601</td>\n",
       "      <td>1.901680</td>\n",
       "      <td>6.009973</td>\n",
       "      <td>2915.895508</td>\n",
       "      <td>0.051998</td>\n",
       "      <td>0.279763</td>\n",
       "      <td>4271.211914</td>\n",
       "    </tr>\n",
       "    <tr>\n",
       "      <td>std</td>\n",
       "      <td>0.969877</td>\n",
       "      <td>0.081056</td>\n",
       "      <td>1.286867</td>\n",
       "      <td>1.341470</td>\n",
       "      <td>1.100198</td>\n",
       "      <td>0.150302</td>\n",
       "      <td>0.128466</td>\n",
       "      <td>1.587113</td>\n",
       "      <td>1.174081</td>\n",
       "      <td>1.068022</td>\n",
       "      <td>5.868252</td>\n",
       "      <td>3532.596191</td>\n",
       "      <td>0.066036</td>\n",
       "      <td>0.295735</td>\n",
       "      <td>4081.238281</td>\n",
       "    </tr>\n",
       "    <tr>\n",
       "      <td>min</td>\n",
       "      <td>0.000000</td>\n",
       "      <td>0.500000</td>\n",
       "      <td>-5.690308</td>\n",
       "      <td>-5.692336</td>\n",
       "      <td>-5.823857</td>\n",
       "      <td>0.000000</td>\n",
       "      <td>0.000000</td>\n",
       "      <td>2.000000</td>\n",
       "      <td>0.000000</td>\n",
       "      <td>0.000000</td>\n",
       "      <td>1.000000</td>\n",
       "      <td>219.899994</td>\n",
       "      <td>0.000000</td>\n",
       "      <td>0.008333</td>\n",
       "      <td>356.100006</td>\n",
       "    </tr>\n",
       "    <tr>\n",
       "      <td>25%</td>\n",
       "      <td>0.500000</td>\n",
       "      <td>0.866667</td>\n",
       "      <td>-1.998605</td>\n",
       "      <td>-1.826032</td>\n",
       "      <td>-0.874560</td>\n",
       "      <td>0.040932</td>\n",
       "      <td>0.092593</td>\n",
       "      <td>6.000000</td>\n",
       "      <td>0.833333</td>\n",
       "      <td>1.000000</td>\n",
       "      <td>2.000000</td>\n",
       "      <td>1678.091309</td>\n",
       "      <td>0.007733</td>\n",
       "      <td>0.083333</td>\n",
       "      <td>2402.149902</td>\n",
       "    </tr>\n",
       "    <tr>\n",
       "      <td>50%</td>\n",
       "      <td>1.000000</td>\n",
       "      <td>0.918367</td>\n",
       "      <td>-1.211118</td>\n",
       "      <td>-1.040662</td>\n",
       "      <td>-0.171220</td>\n",
       "      <td>0.109484</td>\n",
       "      <td>0.176471</td>\n",
       "      <td>6.710000</td>\n",
       "      <td>1.500000</td>\n",
       "      <td>2.000000</td>\n",
       "      <td>4.000000</td>\n",
       "      <td>2331.318115</td>\n",
       "      <td>0.033020</td>\n",
       "      <td>0.166667</td>\n",
       "      <td>3418.542725</td>\n",
       "    </tr>\n",
       "    <tr>\n",
       "      <td>75%</td>\n",
       "      <td>2.000000</td>\n",
       "      <td>0.963964</td>\n",
       "      <td>-0.416037</td>\n",
       "      <td>-0.198399</td>\n",
       "      <td>0.520716</td>\n",
       "      <td>0.224677</td>\n",
       "      <td>0.250000</td>\n",
       "      <td>7.500000</td>\n",
       "      <td>2.000000</td>\n",
       "      <td>2.000000</td>\n",
       "      <td>7.000000</td>\n",
       "      <td>3378.000000</td>\n",
       "      <td>0.072295</td>\n",
       "      <td>0.333333</td>\n",
       "      <td>5091.190430</td>\n",
       "    </tr>\n",
       "    <tr>\n",
       "      <td>max</td>\n",
       "      <td>8.000000</td>\n",
       "      <td>1.000000</td>\n",
       "      <td>5.357271</td>\n",
       "      <td>5.628351</td>\n",
       "      <td>5.777898</td>\n",
       "      <td>0.971703</td>\n",
       "      <td>1.000000</td>\n",
       "      <td>21.779999</td>\n",
       "      <td>8.000000</td>\n",
       "      <td>8.000000</td>\n",
       "      <td>46.000000</td>\n",
       "      <td>93108.664062</td>\n",
       "      <td>0.980038</td>\n",
       "      <td>2.500000</td>\n",
       "      <td>94448.328125</td>\n",
       "    </tr>\n",
       "  </tbody>\n",
       "</table>\n",
       "</div>"
      ],
      "text/plain": [
       "       s3ap24_htime_h_05  com_control_05    height_05    weight_05  \\\n",
       "count        4465.000000     4465.000000  2458.000000  2467.000000   \n",
       "mean            1.251817        0.906121    -1.213235    -1.012455   \n",
       "std             0.969877        0.081056     1.286867     1.341470   \n",
       "min             0.000000        0.500000    -5.690308    -5.692336   \n",
       "25%             0.500000        0.866667    -1.998605    -1.826032   \n",
       "50%             1.000000        0.918367    -1.211118    -1.040662   \n",
       "75%             2.000000        0.963964    -0.416037    -0.198399   \n",
       "max             8.000000        1.000000     5.357271     5.628351   \n",
       "\n",
       "         a10whz_05  pranimalprot_f_05   com_notvip      bweight  \\\n",
       "count  2419.000000        4493.000000  4465.000000  2867.000000   \n",
       "mean     -0.169238           0.153579     0.190114     6.792845   \n",
       "std       1.100198           0.150302     0.128466     1.587113   \n",
       "min      -5.823857           0.000000     0.000000     2.000000   \n",
       "25%      -0.874560           0.040932     0.092593     6.000000   \n",
       "50%      -0.171220           0.109484     0.176471     6.710000   \n",
       "75%       0.520716           0.224677     0.250000     7.500000   \n",
       "max       5.777898           0.971703     1.000000    21.779999   \n",
       "\n",
       "       s3ap25_hqtime_h_05  s1hhsz_25_64_05      tvip_05  cons_food_pc_05  \\\n",
       "count         4465.000000      4465.000000  1103.000000      4338.000000   \n",
       "mean             1.678601         1.901680     6.009973      2915.895508   \n",
       "std              1.174081         1.068022     5.868252      3532.596191   \n",
       "min              0.000000         0.000000     1.000000       219.899994   \n",
       "25%              0.833333         1.000000     2.000000      1678.091309   \n",
       "50%              1.500000         2.000000     4.000000      2331.318115   \n",
       "75%              2.000000         2.000000     7.000000      3378.000000   \n",
       "max              8.000000         8.000000    46.000000     93108.664062   \n",
       "\n",
       "       prfruitveg_f_05  s3ap23_stime_h_05  cons_tot_pc_05  \n",
       "count      4493.000000        4465.000000     4465.000000  \n",
       "mean          0.051998           0.279763     4271.211914  \n",
       "std           0.066036           0.295735     4081.238281  \n",
       "min           0.000000           0.008333      356.100006  \n",
       "25%           0.007733           0.083333     2402.149902  \n",
       "50%           0.033020           0.166667     3418.542725  \n",
       "75%           0.072295           0.333333     5091.190430  \n",
       "max           0.980038           2.500000    94448.328125  "
      ]
     },
     "execution_count": 4,
     "metadata": {},
     "output_type": "execute_result"
    }
   ],
   "source": [
    "outlier_df.describe()\n",
    "\n",
    "#s3ap24_htime_h_05 té pocs outliers: CORRECTE\n",
    "#com_control_05 té pocs outliers: CORRECTE\n",
    "#height_05 distribució normal pocs outliers: CORRECTE\n",
    "#weight_05 distribució normal pocs outliers: CORRECTE\n",
    "#a10whz_05 distribució normal pocs outliers: CORRECTE\n",
    "#pranimalprot_f_05 Una mica estrany gastar +60-80% en proteïnes d'animal... potser treure a partir de 0.6?\n",
    "#com_notvip està dins el rang normal però treure el 100%\n",
    "#bweight revisar amb Borrego, a priori eliminar +10 KGs\n",
    "#s3ap25_hqtime_h_05 eliminar a partir de 6hrs potser. Els outliers podrien ser factibles, però\n",
    "#s1hhsz_25_64_05 sembla estar dins rangs normals explicables. Jo treuria només a partir de [7] per no eliminar tantes dades\n",
    "#tvip_05 No sabem com funcionen aquests tests. Jo no treuria cap outlier aquí\n",
    "#cons_food_pc_05 Aquesta dada està cagada. Mínim 219%? Màxim 93108%? Aquesta variable s'ha d'eliminar\n",
    "#prfruitveg_f_05 Outliers a partir de 60% més o menys.\n",
    "#s3ap23_stime_h_05 eliminar a partir de 2hrs\n",
    "#cons_tot_pc_05 NO ESTIC SEGUR D'AQUESTA VARIABLE crec que està cagada també"
   ]
  },
  {
   "cell_type": "code",
   "execution_count": 5,
   "metadata": {},
   "outputs": [
    {
     "data": {
      "image/png": "[encoded data removed]",
      "text/plain": [
       "<Figure size 432x288 with 1 Axes>"
      ]
     },
     "metadata": {
      "needs_background": "light"
     },
     "output_type": "display_data"
    }
   ],
   "source": [
    "## pranimalprot_f_05\n",
    "# Una mica estrany gastar +80% en proteïnes d'animal... potser treure a partir de 0.6?\n",
    "sns.histplot(outlier_df['pranimalprot_f_05']);"
   ]
  },
  {
   "cell_type": "code",
   "execution_count": 6,
   "metadata": {},
   "outputs": [
    {
     "data": {
      "image/png": "[encoded data removed]",
      "text/plain": [
       "<Figure size 432x288 with 1 Axes>"
      ]
     },
     "metadata": {
      "needs_background": "light"
     },
     "output_type": "display_data"
    }
   ],
   "source": [
    "## com_notvip\n",
    "# El 100% sembla un outlier... treure'l \n",
    "sns.histplot(outlier_df['com_notvip']);"
   ]
  },
  {
   "cell_type": "code",
   "execution_count": 7,
   "metadata": {},
   "outputs": [
    {
     "data": {
      "image/png": "[encoded data removed]",
      "text/plain": [
       "<Figure size 432x288 with 1 Axes>"
      ]
     },
     "metadata": {
      "needs_background": "light"
     },
     "output_type": "display_data"
    }
   ],
   "source": [
    "## bweight\n",
    "# According als rangs normals (i assumint KGs), 10+ és una bogeria. Borrego que confirmi\n",
    "sns.histplot(outlier_df['bweight']);"
   ]
  },
  {
   "cell_type": "code",
   "execution_count": 8,
   "metadata": {},
   "outputs": [
    {
     "data": {
      "image/png": "[encoded data removed]",
      "text/plain": [
       "<Figure size 432x288 with 1 Axes>"
      ]
     },
     "metadata": {
      "needs_background": "light"
     },
     "output_type": "display_data"
    }
   ],
   "source": [
    "## s3ap25_hqtime_h_05\n",
    "#Aquí només hem d'eliminar a partir de 6.\n",
    "sns.histplot(outlier_df['s3ap25_hqtime_h_05']);"
   ]
  },
  {
   "cell_type": "code",
   "execution_count": 9,
   "metadata": {},
   "outputs": [
    {
     "name": "stdout",
     "output_type": "stream",
     "text": [
      "AxesSubplot(0.125,0.125;0.775x0.755)\n",
      "2.0    2404\n",
      "1.0     975\n",
      "3.0     426\n",
      "0.0     349\n",
      "4.0     187\n",
      "5.0      78\n",
      "6.0      34\n",
      "7.0       8\n",
      "8.0       4\n",
      "Name: s1hhsz_25_64_05, dtype: int64\n"
     ]
    },
    {
     "data": {
      "image/png": "[encoded data removed]",
      "text/plain": [
       "<Figure size 432x288 with 1 Axes>"
      ]
     },
     "metadata": {
      "needs_background": "light"
     },
     "output_type": "display_data"
    }
   ],
   "source": [
    "## s1hhsz_25_64_05\n",
    "# A llatinoamèrica és més comú viure grans famílies en una mateixa casa. Poden ser rangs normals. Podríem treure a partir de [7]\n",
    "print(sns.histplot(outlier_df['s1hhsz_25_64_05']))\n",
    "print(outlier_df['s1hhsz_25_64_05'].value_counts())"
   ]
  },
  {
   "cell_type": "code",
   "execution_count": 10,
   "metadata": {},
   "outputs": [
    {
     "data": {
      "image/png": "[encoded data removed]",
      "text/plain": [
       "<Figure size 432x288 with 1 Axes>"
      ]
     },
     "metadata": {
      "needs_background": "light"
     },
     "output_type": "display_data"
    }
   ],
   "source": [
    "## tvip_05\n",
    "#No sabem com funcionen els scores d'aquest test\n",
    "sns.histplot(outlier_df['tvip_05']);"
   ]
  },
  {
   "cell_type": "code",
   "execution_count": 11,
   "metadata": {},
   "outputs": [
    {
     "data": {
      "image/png": "[encoded data removed]",
      "text/plain": [
       "<Figure size 432x288 with 1 Axes>"
      ]
     },
     "metadata": {
      "needs_background": "light"
     },
     "output_type": "display_data"
    }
   ],
   "source": [
    "## prfruitveg_f_05\n",
    "# Treure a partir de 60%\n",
    "sns.histplot(outlier_df['prfruitveg_f_05'][outlier_df['prfruitveg_f_05'] > 0.1]);"
   ]
  },
  {
   "cell_type": "code",
   "execution_count": null,
   "metadata": {},
   "outputs": [],
   "source": []
  }
 ],
 "metadata": {
  "kernelspec": {
   "display_name": "Python 3",
   "language": "python",
   "name": "python3"
  },
  "language_info": {
   "codemirror_mode": {
    "name": "ipython",
    "version": 3
   },
   "file_extension": ".py",
   "mimetype": "text/x-python",
   "name": "python",
   "nbconvert_exporter": "python",
   "pygments_lexer": "ipython3",
   "version": "3.7.4"
  }
 },
 "nbformat": 4,
 "nbformat_minor": 2
}
